{
 "cells": [
  {
   "cell_type": "markdown",
   "metadata": {},
   "source": [
    "# MIT-GSL Uruguay \n",
    "\n",
    "## January 2020"
   ]
  },
  {
   "cell_type": "markdown",
   "metadata": {},
   "source": [
    "-----"
   ]
  },
  {
   "cell_type": "markdown",
   "metadata": {},
   "source": [
    "# Week - 2 | Lesson - 04 \n",
    "# NLP: Product embeddings in Keras"
   ]
  },
  {
   "cell_type": "markdown",
   "metadata": {},
   "source": [
    "1. After introducing the concept of embeddings through NLP, we extend the notion of embeddings to other settings\n",
    "2. Note that embeddings are dense continuous representations for discrete, sparse tokens - this makes embeddings widely applicable\n",
    "3. We will use the concept of embeddings to understand the world of e-commerce better "
   ]
  },
  {
   "cell_type": "markdown",
   "metadata": {},
   "source": [
    "---"
   ]
  },
  {
   "cell_type": "markdown",
   "metadata": {},
   "source": [
    "# Word2Vec and its Applications to Market-Basket Data"
   ]
  },
  {
   "cell_type": "markdown",
   "metadata": {},
   "source": [
    "# Instacart Grocery Dataset\n",
    "\n",
    "### Source: https://www.instacart.com/datasets/grocery-shopping-2017\n",
    "\n",
    "1. Instacart is an online grocery delivery service\n",
    "2. They have made available 3M grocery orders for over 200K users\n",
    "3. They provide between 4 to 100 orders for each user and each order contains the sequence of products purchased\n",
    "4. We also have a brief description of the products\n",
    "\n",
    "### Overview:\n",
    "1. We will use this data to build an understanding of word embeddings and investigate their application to downstream tasks\n",
    "2. For this purpose, we will consider each purchase basket to be a sentence with an unordered sequence of words"
   ]
  },
  {
   "cell_type": "markdown",
   "metadata": {},
   "source": [
    "---"
   ]
  },
  {
   "cell_type": "markdown",
   "metadata": {},
   "source": [
    "# 0. Import Modules"
   ]
  },
  {
   "cell_type": "code",
   "execution_count": 1,
   "metadata": {},
   "outputs": [
    {
     "name": "stderr",
     "output_type": "stream",
     "text": [
      "[nltk_data] Downloading package punkt to /home/ubuntu/nltk_data...\n",
      "[nltk_data]   Package punkt is already up-to-date!\n"
     ]
    },
    {
     "data": {
      "text/plain": [
       "True"
      ]
     },
     "execution_count": 1,
     "metadata": {},
     "output_type": "execute_result"
    }
   ],
   "source": [
    "# ==============================================\n",
    "# 0. Module imports\n",
    "# ==============================================\n",
    "\n",
    "import pandas as pd\n",
    "pd.options.display.max_colwidth = 100\n",
    "import numpy as np\n",
    "from itertools import product\n",
    "import csv\n",
    "import collections\n",
    "import random\n",
    "\n",
    "# w2v\n",
    "import gensim\n",
    "\n",
    "# text processing\n",
    "from nltk import sent_tokenize, word_tokenize\n",
    "from nltk.tokenize import ToktokTokenizer\n",
    "import string\n",
    "import re # regular expressions\n",
    "from sklearn.feature_extraction.text import CountVectorizer, TfidfVectorizer\n",
    "from sklearn.linear_model import LogisticRegression\n",
    "from sklearn.metrics import roc_auc_score\n",
    "from sklearn.metrics.pairwise import cosine_similarity\n",
    "\n",
    "# T-Sne\n",
    "#import umap\n",
    "#from openTSNE import TSNE, TSNEEmbedding, affinity, initialization\n",
    "#from openTSNE import initialization\n",
    "#from openTSNE.callbacks import ErrorLogger\n",
    "from sklearn.manifold import TSNE\n",
    "\n",
    "\n",
    "# utils\n",
    "from sklearn import utils\n",
    "\n",
    "\n",
    "# parallel processing\n",
    "import multiprocessing\n",
    "from joblib import delayed, Parallel\n",
    "\n",
    "# time code\n",
    "import time\n",
    "\n",
    "# 2-d visualiztion\n",
    "%matplotlib inline\n",
    "from ggplot import *\n",
    "import matplotlib.pyplot as plt\n",
    "import warnings\n",
    "warnings.filterwarnings(\"ignore\")\n",
    "\n",
    "import os\n",
    "\n",
    "import nltk\n",
    "nltk.download(\"punkt\")"
   ]
  },
  {
   "cell_type": "code",
   "execution_count": 2,
   "metadata": {},
   "outputs": [
    {
     "name": "stderr",
     "output_type": "stream",
     "text": [
      "Using TensorFlow backend.\n"
     ]
    }
   ],
   "source": [
    "# ===============================================\n",
    "# keras modules\n",
    "# ===============================================\n",
    "\n",
    "from keras.models import Model\n",
    "from keras.models import Sequential\n",
    "from keras.layers import Input, Dense, Reshape, merge, Flatten, Concatenate, Activation, Multiply\n",
    "from keras.layers.embeddings import Embedding\n",
    "from keras.layers.merge import dot\n",
    "from keras.layers.merge import Dot\n",
    "from keras.preprocessing.sequence import skipgrams\n",
    "from keras.preprocessing import sequence\n",
    "from keras.preprocessing.text import Tokenizer\n",
    "from keras import optimizers\n",
    "from keras.callbacks import History \n",
    "from keras import regularizers"
   ]
  },
  {
   "cell_type": "code",
   "execution_count": 3,
   "metadata": {},
   "outputs": [],
   "source": [
    "# =========================================================\n",
    "# set directories\n",
    "# =========================================================\n",
    "\n",
    "import os\n",
    "EC2 = True  # If using EC2 (for data directory/paths)\n",
    "\n",
    "# Select path based off of local or remote\n",
    "if not EC2:\n",
    "    wd = \"/pool001/madhavk/gsl-uruguay/W-02-NLP/\"\n",
    "else:\n",
    "    wd = \"/home/ubuntu/machine_learning_aws/\"\n",
    "os.chdir(wd)\n",
    "\n",
    "if not EC2:\n",
    "    # raw data\n",
    "    raw_data_dir = \"nlp-data/in-grocery/instacart_2017_05_01/\"\n",
    "    # processed data\n",
    "    process_dir = \"nlp-data/in-grocery/prepared-data/\"  \n",
    "else:\n",
    "    # raw data\n",
    "    raw_data_dir = \"data/in-grocery/instacart_2017_05_01\"\n",
    "    # processed data\n",
    "    process_dir = \"data/in-grocery/prepared-data/\""
   ]
  },
  {
   "cell_type": "code",
   "execution_count": 4,
   "metadata": {},
   "outputs": [
    {
     "data": {
      "text/plain": [
       "['orders-split-v1.csv',\n",
       " 'all-orders-wide-v1.csv',\n",
       " 'all-orders-long-v1.csv',\n",
       " 'products-merged-v1.csv']"
      ]
     },
     "execution_count": 4,
     "metadata": {},
     "output_type": "execute_result"
    }
   ],
   "source": [
    "#===============================================\n",
    "# processed files\n",
    "#===============================================\n",
    "os.listdir(process_dir)"
   ]
  },
  {
   "cell_type": "code",
   "execution_count": 5,
   "metadata": {},
   "outputs": [
    {
     "data": {
      "text/plain": [
       "'Number of CPUs: 4'"
      ]
     },
     "execution_count": 5,
     "metadata": {},
     "output_type": "execute_result"
    }
   ],
   "source": [
    "#===============================================\n",
    "# global parameters\n",
    "#===============================================\n",
    "\n",
    "# show entire value of cell in pandas\n",
    "pd.set_option('display.max_colwidth', -1)\n",
    "pd.set_option('display.max_columns', 500)\n",
    "\n",
    "# number of cpus\n",
    "cpus = multiprocessing.cpu_count()\n",
    "f\"Number of CPUs: {cpus}\""
   ]
  },
  {
   "cell_type": "markdown",
   "metadata": {},
   "source": [
    "---"
   ]
  },
  {
   "cell_type": "markdown",
   "metadata": {},
   "source": [
    "# 1. Prepare data"
   ]
  },
  {
   "cell_type": "code",
   "execution_count": 6,
   "metadata": {},
   "outputs": [],
   "source": [
    "# start pool process for parallel procressing\n",
    "pool = multiprocessing.Pool(processes = cpus)"
   ]
  },
  {
   "cell_type": "code",
   "execution_count": 7,
   "metadata": {},
   "outputs": [
    {
     "name": "stdout",
     "output_type": "stream",
     "text": [
      "(3152555, 4)\n",
      "(3346083, 7)\n",
      "(3152555, 5)\n",
      "(49688, 6)\n",
      "train size: (3075412, 5)\n",
      "val size: (38701, 5)\n",
      "test size: (38442, 5)\n",
      "(1000000, 5)\n",
      "1000000\n",
      "38701\n",
      "38442\n"
     ]
    }
   ],
   "source": [
    "# =========================================================\n",
    "# order-level data\n",
    "# =========================================================\n",
    "\n",
    "orders_wide = pd.read_csv(process_dir + \"all-orders-wide-v1.csv\")\n",
    "print(orders_wide.shape)\n",
    "\n",
    "# =========================================================\n",
    "# orders meta-data\n",
    "# =========================================================\n",
    "\n",
    "orders_meta = pd.read_csv(process_dir + \"orders-split-v1.csv\")\n",
    "print(orders_meta.shape)\n",
    "\n",
    "# =========================================================\n",
    "# merge orders-wide and orders-meta\n",
    "# =========================================================\n",
    "\n",
    "orders_wide.drop(labels = \"eval\", axis = 1, inplace = True)\n",
    "\n",
    "# merge\n",
    "orders_wide = pd.merge(orders_wide, orders_meta[[\"order_id\", \"user_id\", \"eval\"]],\n",
    "                       on = \"order_id\", how = \"left\")\n",
    "print(orders_wide.shape)\n",
    "\n",
    "# clear some space\n",
    "del orders_meta\n",
    "\n",
    "\n",
    "# product info data\n",
    "products = pd.read_csv(process_dir + \"products-merged-v1.csv\")\n",
    "print(products.shape)\n",
    "products[\"product_id\"] = products[\"product_id\"].astype(str)\n",
    "\n",
    "#===============================================\n",
    "# split train-val-test\n",
    "#===============================================\n",
    "\n",
    "train = orders_wide.loc[orders_wide[\"eval\"].isin([\"prior\", \"train\"]), :]\n",
    "val = orders_wide.loc[orders_wide[\"eval\"] == \"val\", :]\n",
    "test = orders_wide.loc[orders_wide[\"eval\"] == \"test\", :]\n",
    "print(\"train size:\", train.shape)\n",
    "print(\"val size:\", val.shape)\n",
    "print(\"test size:\", test.shape)\n",
    "\n",
    "# clear more space\n",
    "del orders_wide\n",
    "\n",
    "#===============================================\n",
    "# randomly sample training data\n",
    "#===============================================\n",
    "\n",
    "sample_size = 1000000\n",
    "train = train.sample(n = sample_size)\n",
    "train = train.reset_index(drop = True)\n",
    "print(train.shape)\n",
    "\n",
    "# training sentences\n",
    "t0 = time.time()\n",
    "train_orders = pool.map(word_tokenize, train[\"product_id\"])\n",
    "t1 = time.time()\n",
    "print(len(train_orders))\n",
    "\n",
    "# validation sentences\n",
    "t0 = time.time()\n",
    "val_orders = pool.map(word_tokenize, val[\"product_id\"])\n",
    "t1 = time.time()\n",
    "print(len(val_orders))\n",
    "\n",
    "# test sentences\n",
    "t0 = time.time()\n",
    "test_orders = pool.map(word_tokenize, test[\"product_id\"])\n",
    "t1 = time.time()\n",
    "print(len(test_orders))"
   ]
  },
  {
   "cell_type": "markdown",
   "metadata": {},
   "source": [
    "## Current state of data"
   ]
  },
  {
   "cell_type": "code",
   "execution_count": 8,
   "metadata": {},
   "outputs": [
    {
     "data": {
      "text/html": [
       "<div>\n",
       "<table border=\"1\" class=\"dataframe\">\n",
       "  <thead>\n",
       "    <tr style=\"text-align: right;\">\n",
       "      <th></th>\n",
       "      <th>order_id</th>\n",
       "      <th>product_id</th>\n",
       "      <th>num_products</th>\n",
       "      <th>user_id</th>\n",
       "      <th>eval</th>\n",
       "    </tr>\n",
       "  </thead>\n",
       "  <tbody>\n",
       "    <tr>\n",
       "      <th>0</th>\n",
       "      <td>3319960</td>\n",
       "      <td>17429 7388 23631 24799 28465 36865 8309 43662 22151 5785 45104 36036 17131 9421 16398 29627 46226 46139 8091 37807 12572 7185 35585 41514 43192 4927 34281 41007 7773 26375 19019 40310 12576 40777</td>\n",
       "      <td>34</td>\n",
       "      <td>5360</td>\n",
       "      <td>prior</td>\n",
       "    </tr>\n",
       "    <tr>\n",
       "      <th>1</th>\n",
       "      <td>3363466</td>\n",
       "      <td>48094 8277 27451 36929 31433 16083 44089 24852 49235 46709 16290</td>\n",
       "      <td>11</td>\n",
       "      <td>162455</td>\n",
       "      <td>prior</td>\n",
       "    </tr>\n",
       "    <tr>\n",
       "      <th>2</th>\n",
       "      <td>2868882</td>\n",
       "      <td>12738 3856 26040 40348 36591 16797 27966</td>\n",
       "      <td>7</td>\n",
       "      <td>93074</td>\n",
       "      <td>prior</td>\n",
       "    </tr>\n",
       "    <tr>\n",
       "      <th>3</th>\n",
       "      <td>1659324</td>\n",
       "      <td>14715 24532 40199</td>\n",
       "      <td>3</td>\n",
       "      <td>181328</td>\n",
       "      <td>prior</td>\n",
       "    </tr>\n",
       "    <tr>\n",
       "      <th>4</th>\n",
       "      <td>1370118</td>\n",
       "      <td>35504 36790 18379 1752 43967 44234 28454 18460 36441 28450 39132</td>\n",
       "      <td>11</td>\n",
       "      <td>22885</td>\n",
       "      <td>prior</td>\n",
       "    </tr>\n",
       "  </tbody>\n",
       "</table>\n",
       "</div>"
      ],
      "text/plain": [
       "   order_id  \\\n",
       "0  3319960    \n",
       "1  3363466    \n",
       "2  2868882    \n",
       "3  1659324    \n",
       "4  1370118    \n",
       "\n",
       "                                                                                                                                                                                            product_id  \\\n",
       "0  17429 7388 23631 24799 28465 36865 8309 43662 22151 5785 45104 36036 17131 9421 16398 29627 46226 46139 8091 37807 12572 7185 35585 41514 43192 4927 34281 41007 7773 26375 19019 40310 12576 40777   \n",
       "1  48094 8277 27451 36929 31433 16083 44089 24852 49235 46709 16290                                                                                                                                      \n",
       "2  12738 3856 26040 40348 36591 16797 27966                                                                                                                                                              \n",
       "3  14715 24532 40199                                                                                                                                                                                     \n",
       "4  35504 36790 18379 1752 43967 44234 28454 18460 36441 28450 39132                                                                                                                                      \n",
       "\n",
       "   num_products  user_id   eval  \n",
       "0  34            5360     prior  \n",
       "1  11            162455   prior  \n",
       "2  7             93074    prior  \n",
       "3  3             181328   prior  \n",
       "4  11            22885    prior  "
      ]
     },
     "metadata": {},
     "output_type": "display_data"
    }
   ],
   "source": [
    "display(train.head())"
   ]
  },
  {
   "cell_type": "code",
   "execution_count": 9,
   "metadata": {},
   "outputs": [
    {
     "data": {
      "text/plain": [
       "0    17429 7388 23631 24799 28465 36865 8309 43662 22151 5785 45104 36036 17131 9421 16398 29627 46226 46139 8091 37807 12572 7185 35585 41514 43192 4927 34281 41007 7773 26375 19019 40310 12576 40777\n",
       "1    48094 8277 27451 36929 31433 16083 44089 24852 49235 46709 16290                                                                                                                                   \n",
       "2    12738 3856 26040 40348 36591 16797 27966                                                                                                                                                           \n",
       "Name: product_id, dtype: object"
      ]
     },
     "execution_count": 9,
     "metadata": {},
     "output_type": "execute_result"
    }
   ],
   "source": [
    "train[\"product_id\"][0:3]"
   ]
  },
  {
   "cell_type": "code",
   "execution_count": 10,
   "metadata": {},
   "outputs": [
    {
     "data": {
      "text/plain": [
       "[['17429',\n",
       "  '7388',\n",
       "  '23631',\n",
       "  '24799',\n",
       "  '28465',\n",
       "  '36865',\n",
       "  '8309',\n",
       "  '43662',\n",
       "  '22151',\n",
       "  '5785',\n",
       "  '45104',\n",
       "  '36036',\n",
       "  '17131',\n",
       "  '9421',\n",
       "  '16398',\n",
       "  '29627',\n",
       "  '46226',\n",
       "  '46139',\n",
       "  '8091',\n",
       "  '37807',\n",
       "  '12572',\n",
       "  '7185',\n",
       "  '35585',\n",
       "  '41514',\n",
       "  '43192',\n",
       "  '4927',\n",
       "  '34281',\n",
       "  '41007',\n",
       "  '7773',\n",
       "  '26375',\n",
       "  '19019',\n",
       "  '40310',\n",
       "  '12576',\n",
       "  '40777'],\n",
       " ['48094',\n",
       "  '8277',\n",
       "  '27451',\n",
       "  '36929',\n",
       "  '31433',\n",
       "  '16083',\n",
       "  '44089',\n",
       "  '24852',\n",
       "  '49235',\n",
       "  '46709',\n",
       "  '16290'],\n",
       " ['12738', '3856', '26040', '40348', '36591', '16797', '27966']]"
      ]
     },
     "execution_count": 10,
     "metadata": {},
     "output_type": "execute_result"
    }
   ],
   "source": [
    "train_orders[0:3]"
   ]
  },
  {
   "cell_type": "markdown",
   "metadata": {},
   "source": [
    "### In-class exercise"
   ]
  },
  {
   "cell_type": "code",
   "execution_count": 11,
   "metadata": {},
   "outputs": [
    {
     "data": {
      "text/html": [
       "<div>\n",
       "<table border=\"1\" class=\"dataframe\">\n",
       "  <thead>\n",
       "    <tr style=\"text-align: right;\">\n",
       "      <th></th>\n",
       "      <th>order_id</th>\n",
       "      <th>product_id</th>\n",
       "      <th>num_products</th>\n",
       "      <th>user_id</th>\n",
       "      <th>eval</th>\n",
       "    </tr>\n",
       "  </thead>\n",
       "  <tbody>\n",
       "    <tr>\n",
       "      <th>203</th>\n",
       "      <td>222</td>\n",
       "      <td>24852 47626 35522 21903 25043 8424 28204 45613 14267 25146 42768 49667 44765 38273 31343 38012 35510 46993</td>\n",
       "      <td>18</td>\n",
       "      <td>145501</td>\n",
       "      <td>val</td>\n",
       "    </tr>\n",
       "    <tr>\n",
       "      <th>441</th>\n",
       "      <td>485</td>\n",
       "      <td>9558 23296 33548 23106 44156 46817</td>\n",
       "      <td>6</td>\n",
       "      <td>124536</td>\n",
       "      <td>val</td>\n",
       "    </tr>\n",
       "    <tr>\n",
       "      <th>575</th>\n",
       "      <td>629</td>\n",
       "      <td>34126 30305 11895 46069 38419 16325 5912 4086 17794 8903 13070</td>\n",
       "      <td>11</td>\n",
       "      <td>3351</td>\n",
       "      <td>val</td>\n",
       "    </tr>\n",
       "  </tbody>\n",
       "</table>\n",
       "</div>"
      ],
      "text/plain": [
       "     order_id  \\\n",
       "203  222        \n",
       "441  485        \n",
       "575  629        \n",
       "\n",
       "                                                                                                     product_id  \\\n",
       "203  24852 47626 35522 21903 25043 8424 28204 45613 14267 25146 42768 49667 44765 38273 31343 38012 35510 46993   \n",
       "441  9558 23296 33548 23106 44156 46817                                                                           \n",
       "575  34126 30305 11895 46069 38419 16325 5912 4086 17794 8903 13070                                               \n",
       "\n",
       "     num_products  user_id eval  \n",
       "203  18            145501   val  \n",
       "441  6             124536   val  \n",
       "575  11            3351     val  "
      ]
     },
     "metadata": {},
     "output_type": "display_data"
    }
   ],
   "source": [
    "# Print the first 3 rows of val\n",
    "display(val.head(3))"
   ]
  },
  {
   "cell_type": "code",
   "execution_count": 12,
   "metadata": {},
   "outputs": [],
   "source": [
    "# Print the first 3 elements of list val_orders\n",
    "#val_orders[0:3]"
   ]
  },
  {
   "cell_type": "markdown",
   "metadata": {},
   "source": [
    "----"
   ]
  },
  {
   "cell_type": "markdown",
   "metadata": {},
   "source": [
    "# 2. Writing our own Word2Vec in Keras"
   ]
  },
  {
   "cell_type": "markdown",
   "metadata": {},
   "source": [
    "- We are now going to train product embeddings in Keras + Tensorflow\n",
    "- In order to this, we need to transform the data in a format that Keras/Tensorflow will accept"
   ]
  },
  {
   "cell_type": "markdown",
   "metadata": {},
   "source": [
    "## Tasks:\n",
    "### 1. Count frequency of all words in dataset\n",
    "     1.1. Used to sample words based on frequency\n",
    "### 2. Create word-to-index dictionary\n",
    "    2.1. The index for each word serves as a lookup value in the embedding matrix\n",
    "    2.2. The dictionary is created in order of frequency\n",
    "### 3. Convert entire dataset from a sequence of words to a sequences of indices"
   ]
  },
  {
   "cell_type": "markdown",
   "metadata": {},
   "source": [
    "---"
   ]
  },
  {
   "cell_type": "markdown",
   "metadata": {},
   "source": [
    "## 2.1. Count frequency of each word in vocabulary"
   ]
  },
  {
   "cell_type": "code",
   "execution_count": 13,
   "metadata": {},
   "outputs": [],
   "source": [
    "def WordFrequency(train_data, max_words = 10000):\n",
    "    '''\n",
    "    Assumes train data is a list of lists\n",
    "    '''\n",
    "    train_flat = [item for sublist in train_data for item in sublist] \n",
    "    count = [['UNK', -1]]\n",
    "    count.extend(collections.Counter(train_flat).most_common(max_words))\n",
    "    return count"
   ]
  },
  {
   "cell_type": "code",
   "execution_count": 14,
   "metadata": {
    "scrolled": true
   },
   "outputs": [
    {
     "data": {
      "text/plain": [
       "10001"
      ]
     },
     "execution_count": 14,
     "metadata": {},
     "output_type": "execute_result"
    }
   ],
   "source": [
    "# flatten train-orders to create one giant list\n",
    "word_freq = WordFrequency(train_data = train_orders)\n",
    "len(word_freq)"
   ]
  },
  {
   "cell_type": "code",
   "execution_count": 15,
   "metadata": {},
   "outputs": [
    {
     "data": {
      "text/plain": [
       "[['UNK', -1],\n",
       " ('24852', 155155),\n",
       " ('13176', 123722),\n",
       " ('21137', 86892),\n",
       " ('21903', 79484)]"
      ]
     },
     "execution_count": 15,
     "metadata": {},
     "output_type": "execute_result"
    }
   ],
   "source": [
    "# inspect\n",
    "word_freq[0:5]"
   ]
  },
  {
   "cell_type": "markdown",
   "metadata": {},
   "source": [
    "----"
   ]
  },
  {
   "cell_type": "markdown",
   "metadata": {},
   "source": [
    "## 2.2. Create Word-to-Index and Index-to-Word dictionaries\n",
    "### 2.2.1. These are used to create look-up embedding matrices\n",
    "### 2.2.2. They are ordered as per frequency of the corresponding word in the vocabulary"
   ]
  },
  {
   "cell_type": "code",
   "execution_count": 16,
   "metadata": {},
   "outputs": [],
   "source": [
    "# create word-index dictionary\n",
    "def Word2Index(word_count):\n",
    "    dictionary = dict()\n",
    "    for word, _ in word_count:\n",
    "        dictionary[word] = len(dictionary)\n",
    "    # index-word reveresed dictionary\n",
    "    reversed_dictionary = dict(zip(dictionary.values(), dictionary.keys()))\n",
    "    return dictionary, reversed_dictionary"
   ]
  },
  {
   "cell_type": "code",
   "execution_count": 17,
   "metadata": {},
   "outputs": [],
   "source": [
    "word_ix, ix_word = Word2Index(word_count = word_freq)"
   ]
  },
  {
   "cell_type": "code",
   "execution_count": 18,
   "metadata": {},
   "outputs": [
    {
     "data": {
      "text/plain": [
       "{'UNK': 0,\n",
       " '24852': 1,\n",
       " '13176': 2,\n",
       " '21137': 3,\n",
       " '21903': 4,\n",
       " '47209': 5,\n",
       " '47766': 6,\n",
       " '47626': 7,\n",
       " '16797': 8,\n",
       " '26209': 9,\n",
       " '27845': 10,\n",
       " '27966': 11,\n",
       " '22935': 12,\n",
       " '24964': 13,\n",
       " '45007': 14,\n",
       " '39275': 15,\n",
       " '49683': 16,\n",
       " '28204': 17,\n",
       " '5876': 18,\n",
       " '40706': 19,\n",
       " '8277': 20,\n",
       " '4920': 21,\n",
       " '30391': 22,\n",
       " '45066': 23,\n",
       " '42265': 24,\n",
       " '44632': 25,\n",
       " '49235': 26,\n",
       " '19057': 27,\n",
       " '17794': 28,\n",
       " '37646': 29,\n",
       " '4605': 30,\n",
       " '21616': 31,\n",
       " '27104': 32,\n",
       " '30489': 33,\n",
       " '31717': 34,\n",
       " '27086': 35,\n",
       " '44359': 36,\n",
       " '46979': 37,\n",
       " '8518': 38,\n",
       " '28985': 39,\n",
       " '41950': 40,\n",
       " '26604': 41,\n",
       " '5077': 42,\n",
       " '34126': 43,\n",
       " '22035': 44,\n",
       " '39877': 45,\n",
       " '10749': 46,\n",
       " '35951': 47,\n",
       " '43352': 48,\n",
       " '21938': 49,\n",
       " '24184': 50,\n",
       " '9076': 51,\n",
       " '43961': 52,\n",
       " '34969': 53,\n",
       " '19660': 54,\n",
       " '48679': 55,\n",
       " '46667': 56,\n",
       " '31506': 57,\n",
       " '25890': 58,\n",
       " '39928': 59,\n",
       " '24838': 60,\n",
       " '12341': 61,\n",
       " '5450': 62,\n",
       " '22825': 63,\n",
       " '5785': 64,\n",
       " '35221': 65,\n",
       " '28842': 66,\n",
       " '33731': 67,\n",
       " '27521': 68,\n",
       " '8424': 69,\n",
       " '44142': 70,\n",
       " '20114': 71,\n",
       " '8174': 72,\n",
       " '33198': 73,\n",
       " '27344': 74,\n",
       " '11520': 75,\n",
       " '18465': 76,\n",
       " '29487': 77,\n",
       " '28199': 78,\n",
       " '15290': 79,\n",
       " '46906': 80,\n",
       " '3957': 81,\n",
       " '9839': 82,\n",
       " '27156': 83,\n",
       " '43122': 84,\n",
       " '34358': 85,\n",
       " '23909': 86,\n",
       " '9387': 87,\n",
       " '42736': 88,\n",
       " '4799': 89,\n",
       " '16759': 90,\n",
       " '41787': 91,\n",
       " '38689': 92,\n",
       " '4210': 93,\n",
       " '41220': 94,\n",
       " '47144': 95,\n",
       " '7781': 96,\n",
       " '196': 97,\n",
       " '33000': 98,\n",
       " '20995': 99,\n",
       " '19678': 100,\n",
       " '40604': 101,\n",
       " '21709': 102,\n",
       " '30233': 103,\n",
       " '24489': 104,\n",
       " '37687': 105,\n",
       " '34243': 106,\n",
       " '42828': 107,\n",
       " '432': 108,\n",
       " '5479': 109,\n",
       " '16185': 110,\n",
       " '6184': 111,\n",
       " '42768': 112,\n",
       " '33754': 113,\n",
       " '26369': 114,\n",
       " '8193': 115,\n",
       " '17948': 116,\n",
       " '42585': 117,\n",
       " '14992': 118,\n",
       " '19348': 119,\n",
       " '14947': 120,\n",
       " '22963': 121,\n",
       " '28849': 122,\n",
       " '1463': 123,\n",
       " '8021': 124,\n",
       " '42701': 125,\n",
       " '21405': 126,\n",
       " '25659': 127,\n",
       " '5025': 128,\n",
       " '46676': 129,\n",
       " '43789': 130,\n",
       " '38293': 131,\n",
       " '43295': 132,\n",
       " '31343': 133,\n",
       " '41844': 134,\n",
       " '36011': 135,\n",
       " '11777': 136,\n",
       " '39475': 137,\n",
       " '20842': 138,\n",
       " '32689': 139,\n",
       " '32655': 140,\n",
       " '25146': 141,\n",
       " '13870': 142,\n",
       " '2295': 143,\n",
       " '46802': 144,\n",
       " '5212': 145,\n",
       " '18531': 146,\n",
       " '31553': 147,\n",
       " '39408': 148,\n",
       " '38383': 149,\n",
       " '24830': 150,\n",
       " '43768': 151,\n",
       " '260': 152,\n",
       " '10246': 153,\n",
       " '36695': 154,\n",
       " '1940': 155,\n",
       " '18362': 156,\n",
       " '18523': 157,\n",
       " '11182': 158,\n",
       " '44683': 159,\n",
       " '21288': 160,\n",
       " '6046': 161,\n",
       " '29987': 162,\n",
       " '890': 163,\n",
       " '23734': 164,\n",
       " '38777': 165,\n",
       " '43772': 166,\n",
       " '44910': 167,\n",
       " '26620': 168,\n",
       " '47734': 169,\n",
       " '38456': 170,\n",
       " '7948': 171,\n",
       " '38159': 172,\n",
       " '30450': 173,\n",
       " '46969': 174,\n",
       " '4957': 175,\n",
       " '47672': 176,\n",
       " '30776': 177,\n",
       " '44987': 178,\n",
       " '40310': 179,\n",
       " '29447': 180,\n",
       " '14678': 181,\n",
       " '26165': 182,\n",
       " '16349': 183,\n",
       " '44422': 184,\n",
       " '23165': 185,\n",
       " '35939': 186,\n",
       " '16953': 187,\n",
       " '2078': 188,\n",
       " '39812': 189,\n",
       " '13984': 190,\n",
       " '28289': 191,\n",
       " '32864': 192,\n",
       " '23375': 193,\n",
       " '41290': 194,\n",
       " '19048': 195,\n",
       " '48364': 196,\n",
       " '33787': 197,\n",
       " '26940': 198,\n",
       " '17600': 199,\n",
       " '37067': 200,\n",
       " '35108': 201,\n",
       " '31683': 202,\n",
       " '28465': 203,\n",
       " '33120': 204,\n",
       " '37158': 205,\n",
       " '26283': 206,\n",
       " '8859': 207,\n",
       " '24799': 208,\n",
       " '45': 209,\n",
       " '10957': 210,\n",
       " '18370': 211,\n",
       " '3952': 212,\n",
       " '35547': 213,\n",
       " '2086': 214,\n",
       " '10132': 215,\n",
       " '41665': 216,\n",
       " '2966': 217,\n",
       " '40571': 218,\n",
       " '25931': 219,\n",
       " '43713': 220,\n",
       " '38739': 221,\n",
       " '7021': 222,\n",
       " '40396': 223,\n",
       " '20119': 224,\n",
       " '1158': 225,\n",
       " '42450': 226,\n",
       " '45535': 227,\n",
       " '48745': 228,\n",
       " '43154': 229,\n",
       " '13629': 230,\n",
       " '15937': 231,\n",
       " '18027': 232,\n",
       " '42342': 233,\n",
       " '48205': 234,\n",
       " '21019': 235,\n",
       " '45633': 236,\n",
       " '34448': 237,\n",
       " '34050': 238,\n",
       " '30169': 239,\n",
       " '31040': 240,\n",
       " '45603': 241,\n",
       " '17461': 242,\n",
       " '39619': 243,\n",
       " '21267': 244,\n",
       " '32478': 245,\n",
       " '38400': 246,\n",
       " '39984': 247,\n",
       " '13646': 248,\n",
       " '17872': 249,\n",
       " '26790': 250,\n",
       " '21376': 251,\n",
       " '40174': 252,\n",
       " '5818': 253,\n",
       " '36865': 254,\n",
       " '33768': 255,\n",
       " '14084': 256,\n",
       " '32734': 257,\n",
       " '43086': 258,\n",
       " '28934': 259,\n",
       " '6187': 260,\n",
       " '23288': 261,\n",
       " '37766': 262,\n",
       " '46654': 263,\n",
       " '6348': 264,\n",
       " '25340': 265,\n",
       " '39993': 266,\n",
       " '5646': 267,\n",
       " '329': 268,\n",
       " '651': 269,\n",
       " '12206': 270,\n",
       " '42356': 271,\n",
       " '10673': 272,\n",
       " '27336': 273,\n",
       " '6104': 274,\n",
       " '18441': 275,\n",
       " '48775': 276,\n",
       " '10017': 277,\n",
       " '19508': 278,\n",
       " '40709': 279,\n",
       " '39180': 280,\n",
       " '19677': 281,\n",
       " '47977': 282,\n",
       " '28156': 283,\n",
       " '13829': 284,\n",
       " '13535': 285,\n",
       " '49075': 286,\n",
       " '36070': 287,\n",
       " '27695': 288,\n",
       " '49520': 289,\n",
       " '6873': 290,\n",
       " '42244': 291,\n",
       " '11782': 292,\n",
       " '8571': 293,\n",
       " '24561': 294,\n",
       " '35921': 295,\n",
       " '13249': 296,\n",
       " '16083': 297,\n",
       " '40545': 298,\n",
       " '30720': 299,\n",
       " '49383': 300,\n",
       " '24024': 301,\n",
       " '11422': 302,\n",
       " '17795': 303,\n",
       " '40199': 304,\n",
       " '42445': 305,\n",
       " '3599': 306,\n",
       " '8670': 307,\n",
       " '17122': 308,\n",
       " '31915': 309,\n",
       " '44449': 310,\n",
       " '21295': 311,\n",
       " '19019': 312,\n",
       " '7963': 313,\n",
       " '20082': 314,\n",
       " '42625': 315,\n",
       " '35561': 316,\n",
       " '25588': 317,\n",
       " '17706': 318,\n",
       " '35042': 319,\n",
       " '1511': 320,\n",
       " '5194': 321,\n",
       " '30827': 322,\n",
       " '36550': 323,\n",
       " '4562': 324,\n",
       " '33401': 325,\n",
       " '15872': 326,\n",
       " '13380': 327,\n",
       " '22395': 328,\n",
       " '2825': 329,\n",
       " '8048': 330,\n",
       " '9339': 331,\n",
       " '25466': 332,\n",
       " '19706': 333,\n",
       " '7751': 334,\n",
       " '18288': 335,\n",
       " '23537': 336,\n",
       " '16965': 337,\n",
       " '46720': 338,\n",
       " '3376': 339,\n",
       " '14233': 340,\n",
       " '4472': 341,\n",
       " '28993': 342,\n",
       " '38164': 343,\n",
       " '13166': 344,\n",
       " '29662': 345,\n",
       " '21195': 346,\n",
       " '40723': 347,\n",
       " '15902': 348,\n",
       " '40516': 349,\n",
       " '7175': 350,\n",
       " '35140': 351,\n",
       " '13740': 352,\n",
       " '38928': 353,\n",
       " '2855': 354,\n",
       " '12916': 355,\n",
       " '12456': 356,\n",
       " '5134': 357,\n",
       " '40332': 358,\n",
       " '3464': 359,\n",
       " '5782': 360,\n",
       " '7503': 361,\n",
       " '45200': 362,\n",
       " '44570': 363,\n",
       " '19691': 364,\n",
       " '10644': 365,\n",
       " '39561': 366,\n",
       " '35898': 367,\n",
       " '21174': 368,\n",
       " '10070': 369,\n",
       " '22124': 370,\n",
       " '33129': 371,\n",
       " '7559': 372,\n",
       " '13198': 373,\n",
       " '46584': 374,\n",
       " '44765': 375,\n",
       " '9092': 376,\n",
       " '34262': 377,\n",
       " '32691': 378,\n",
       " '45123': 379,\n",
       " '37029': 380,\n",
       " '36735': 381,\n",
       " '43662': 382,\n",
       " '42719': 383,\n",
       " '11408': 384,\n",
       " '4421': 385,\n",
       " '1025': 386,\n",
       " '28745': 387,\n",
       " '44560': 388,\n",
       " '20955': 389,\n",
       " '25138': 390,\n",
       " '18918': 391,\n",
       " '5258': 392,\n",
       " '13575': 393,\n",
       " '47141': 394,\n",
       " '37710': 395,\n",
       " '18234': 396,\n",
       " '35503': 397,\n",
       " '3896': 398,\n",
       " '35628': 399,\n",
       " '24954': 400,\n",
       " '23029': 401,\n",
       " '26384': 402,\n",
       " '18811': 403,\n",
       " '39947': 404,\n",
       " '47042': 405,\n",
       " '21292': 406,\n",
       " '47759': 407,\n",
       " '21573': 408,\n",
       " '25824': 409,\n",
       " '17949': 410,\n",
       " '11140': 411,\n",
       " '14197': 412,\n",
       " '32433': 413,\n",
       " '44628': 414,\n",
       " '28476': 415,\n",
       " '1999': 416,\n",
       " '27548': 417,\n",
       " '41065': 418,\n",
       " '37220': 419,\n",
       " '35535': 420,\n",
       " '38273': 421,\n",
       " '46820': 422,\n",
       " '24841': 423,\n",
       " '46616': 424,\n",
       " '14462': 425,\n",
       " '5456': 426,\n",
       " '15613': 427,\n",
       " '1194': 428,\n",
       " '21333': 429,\n",
       " '21386': 430,\n",
       " '48628': 431,\n",
       " '43504': 432,\n",
       " '7969': 433,\n",
       " '39190': 434,\n",
       " '11068': 435,\n",
       " '27730': 436,\n",
       " '27744': 437,\n",
       " '27323': 438,\n",
       " '11005': 439,\n",
       " '29307': 440,\n",
       " '31066': 441,\n",
       " '41588': 442,\n",
       " '14161': 443,\n",
       " '32177': 444,\n",
       " '13517': 445,\n",
       " '38768': 446,\n",
       " '42110': 447,\n",
       " '16696': 448,\n",
       " '5322': 449,\n",
       " '22474': 450,\n",
       " '49175': 451,\n",
       " '26800': 452,\n",
       " '9020': 453,\n",
       " '15424': 454,\n",
       " '8309': 455,\n",
       " '13733': 456,\n",
       " '2314': 457,\n",
       " '22849': 458,\n",
       " '4086': 459,\n",
       " '9825': 460,\n",
       " '28601': 461,\n",
       " '27796': 462,\n",
       " '18479': 463,\n",
       " '19173': 464,\n",
       " '16521': 465,\n",
       " '12980': 466,\n",
       " '21872': 467,\n",
       " '17316': 468,\n",
       " '15261': 469,\n",
       " '2452': 470,\n",
       " '2228': 471,\n",
       " '20734': 472,\n",
       " '1244': 473,\n",
       " '27325': 474,\n",
       " '36724': 475,\n",
       " '21927': 476,\n",
       " '3298': 477,\n",
       " '41658': 478,\n",
       " '49191': 479,\n",
       " '37524': 480,\n",
       " '26497': 481,\n",
       " '20345': 482,\n",
       " '20738': 483,\n",
       " '6948': 484,\n",
       " '25513': 485,\n",
       " '20574': 486,\n",
       " '5769': 487,\n",
       " '35914': 488,\n",
       " '44799': 489,\n",
       " '12845': 490,\n",
       " '5373': 491,\n",
       " '22959': 492,\n",
       " '15649': 493,\n",
       " '5161': 494,\n",
       " '4656': 495,\n",
       " '47630': 496,\n",
       " '35887': 497,\n",
       " '18926': 498,\n",
       " '11712': 499,\n",
       " '21543': 500,\n",
       " '31720': 501,\n",
       " '34584': 502,\n",
       " '26348': 503,\n",
       " '48697': 504,\n",
       " '33055': 505,\n",
       " '36082': 506,\n",
       " '17758': 507,\n",
       " '49131': 508,\n",
       " '40377': 509,\n",
       " '39108': 510,\n",
       " '40198': 511,\n",
       " '18963': 512,\n",
       " '6740': 513,\n",
       " '30406': 514,\n",
       " '7500': 515,\n",
       " '18656': 516,\n",
       " '36316': 517,\n",
       " '23543': 518,\n",
       " '45104': 519,\n",
       " '44008': 520,\n",
       " '9755': 521,\n",
       " '44661': 522,\n",
       " '31651': 523,\n",
       " '46069': 524,\n",
       " '5612': 525,\n",
       " '11512': 526,\n",
       " '23516': 527,\n",
       " '13838': 528,\n",
       " '45504': 529,\n",
       " '10305': 530,\n",
       " '2450': 531,\n",
       " '12872': 532,\n",
       " '30639': 533,\n",
       " '43129': 534,\n",
       " '24221': 535,\n",
       " '40063': 536,\n",
       " '12576': 537,\n",
       " '34668': 538,\n",
       " '25718': 539,\n",
       " '28427': 540,\n",
       " '1529': 541,\n",
       " '12409': 542,\n",
       " '31215': 543,\n",
       " '49533': 544,\n",
       " '32303': 545,\n",
       " '36929': 546,\n",
       " '43875': 547,\n",
       " '35163': 548,\n",
       " '15392': 549,\n",
       " '32747': 550,\n",
       " '47912': 551,\n",
       " '32403': 552,\n",
       " '39581': 553,\n",
       " '38996': 554,\n",
       " '2091': 555,\n",
       " '30696': 556,\n",
       " '26317': 557,\n",
       " '48559': 558,\n",
       " '6631': 559,\n",
       " '30353': 560,\n",
       " '25640': 561,\n",
       " '7628': 562,\n",
       " '46842': 563,\n",
       " '13263': 564,\n",
       " '29941': 565,\n",
       " '28553': 566,\n",
       " '17652': 567,\n",
       " '14218': 568,\n",
       " '27690': 569,\n",
       " '45948': 570,\n",
       " '5550': 571,\n",
       " '25753': 572,\n",
       " '39558': 573,\n",
       " '17284': 574,\n",
       " '12099': 575,\n",
       " '11759': 576,\n",
       " '31981': 577,\n",
       " '32465': 578,\n",
       " '11576': 579,\n",
       " '14852': 580,\n",
       " '24009': 581,\n",
       " '6489': 582,\n",
       " '23236': 583,\n",
       " '10912': 584,\n",
       " '38772': 585,\n",
       " '41149': 586,\n",
       " '31766': 587,\n",
       " '47788': 588,\n",
       " '11440': 589,\n",
       " '5652': 590,\n",
       " '34217': 591,\n",
       " '14651': 592,\n",
       " '14129': 593,\n",
       " '22142': 594,\n",
       " '29926': 595,\n",
       " '34466': 596,\n",
       " '2326': 597,\n",
       " '4461': 598,\n",
       " '48395': 599,\n",
       " '24810': 600,\n",
       " '38200': 601,\n",
       " '14633': 602,\n",
       " '33043': 603,\n",
       " '40268': 604,\n",
       " '35004': 605,\n",
       " '46886': 606,\n",
       " '43394': 607,\n",
       " '8138': 608,\n",
       " '18594': 609,\n",
       " '781': 610,\n",
       " '10831': 611,\n",
       " '42557': 612,\n",
       " '14715': 613,\n",
       " '41400': 614,\n",
       " '29675': 615,\n",
       " '7156': 616,\n",
       " '12276': 617,\n",
       " '31433': 618,\n",
       " '10385': 619,\n",
       " '311': 620,\n",
       " '32429': 621,\n",
       " '29127': 622,\n",
       " '46149': 623,\n",
       " '28928': 624,\n",
       " '2846': 625,\n",
       " '7485': 626,\n",
       " '48104': 627,\n",
       " '9515': 628,\n",
       " '34134': 629,\n",
       " '3142': 630,\n",
       " '20940': 631,\n",
       " '13292': 632,\n",
       " '4367': 633,\n",
       " '16254': 634,\n",
       " '3583': 635,\n",
       " '23405': 636,\n",
       " '5240': 637,\n",
       " '12745': 638,\n",
       " '16616': 639,\n",
       " '365': 640,\n",
       " '19006': 641,\n",
       " '4793': 642,\n",
       " '37119': 643,\n",
       " '34530': 644,\n",
       " '16145': 645,\n",
       " '5068': 646,\n",
       " '38650': 647,\n",
       " '19816': 648,\n",
       " '36772': 649,\n",
       " '33548': 650,\n",
       " '22025': 651,\n",
       " '46522': 652,\n",
       " '8555': 653,\n",
       " '47792': 654,\n",
       " '45646': 655,\n",
       " '44234': 656,\n",
       " '1408': 657,\n",
       " '17429': 658,\n",
       " '2120': 659,\n",
       " '20580': 660,\n",
       " '17224': 661,\n",
       " '9808': 662,\n",
       " '42460': 663,\n",
       " '37065': 664,\n",
       " '4942': 665,\n",
       " '7644': 666,\n",
       " '39040': 667,\n",
       " '14901': 668,\n",
       " '16262': 669,\n",
       " '16617': 670,\n",
       " '13083': 671,\n",
       " '44479': 672,\n",
       " '30305': 673,\n",
       " '45763': 674,\n",
       " '32566': 675,\n",
       " '2962': 676,\n",
       " '31964': 677,\n",
       " '1700': 678,\n",
       " '8955': 679,\n",
       " '23579': 680,\n",
       " '23622': 681,\n",
       " '3990': 682,\n",
       " '27243': 683,\n",
       " '26128': 684,\n",
       " '10504': 685,\n",
       " '29370': 686,\n",
       " '14870': 687,\n",
       " '42495': 688,\n",
       " '10603': 689,\n",
       " '17341': 690,\n",
       " '31869': 691,\n",
       " '12614': 692,\n",
       " '48857': 693,\n",
       " '10621': 694,\n",
       " '28373': 695,\n",
       " '25005': 696,\n",
       " '24759': 697,\n",
       " '1090': 698,\n",
       " '5460': 699,\n",
       " '44156': 700,\n",
       " '18880': 701,\n",
       " '33716': 702,\n",
       " '31759': 703,\n",
       " '14168': 704,\n",
       " '17616': 705,\n",
       " '9337': 706,\n",
       " '3481': 707,\n",
       " '23765': 708,\n",
       " '39922': 709,\n",
       " '21009': 710,\n",
       " '40910': 711,\n",
       " '49610': 712,\n",
       " '16823': 713,\n",
       " '46226': 714,\n",
       " '12384': 715,\n",
       " '46692': 716,\n",
       " '21614': 717,\n",
       " '28278': 718,\n",
       " '20754': 719,\n",
       " '9124': 720,\n",
       " '8479': 721,\n",
       " '36389': 722,\n",
       " '30949': 723,\n",
       " '7131': 724,\n",
       " '36086': 725,\n",
       " '17835': 726,\n",
       " '38890': 727,\n",
       " '21417': 728,\n",
       " '24535': 729,\n",
       " '17008': 730,\n",
       " '40593': 731,\n",
       " '8230': 732,\n",
       " '45063': 733,\n",
       " '11352': 734,\n",
       " '29553': 735,\n",
       " '22504': 736,\n",
       " '26131': 737,\n",
       " '30442': 738,\n",
       " '33572': 739,\n",
       " '31562': 740,\n",
       " '6532': 741,\n",
       " '4138': 742,\n",
       " '47029': 743,\n",
       " '41544': 744,\n",
       " '33352': 745,\n",
       " '28123': 746,\n",
       " '18382': 747,\n",
       " '4724': 748,\n",
       " '1215': 749,\n",
       " '28535': 750,\n",
       " '2611': 751,\n",
       " '19894': 752,\n",
       " '24082': 753,\n",
       " '8087': 754,\n",
       " '32455': 755,\n",
       " '9741': 756,\n",
       " '29594': 757,\n",
       " '16589': 758,\n",
       " '38944': 759,\n",
       " '23233': 760,\n",
       " '31805': 761,\n",
       " '17807': 762,\n",
       " '45747': 763,\n",
       " '13431': 764,\n",
       " '37825': 765,\n",
       " '38028': 766,\n",
       " '19156': 767,\n",
       " '3020': 768,\n",
       " '13819': 769,\n",
       " '17630': 770,\n",
       " '14467': 771,\n",
       " '48595': 772,\n",
       " '23341': 773,\n",
       " '48171': 774,\n",
       " '22888': 775,\n",
       " '12606': 776,\n",
       " '7521': 777,\n",
       " '5449': 778,\n",
       " '18434': 779,\n",
       " '6287': 780,\n",
       " '35383': 781,\n",
       " '24382': 782,\n",
       " '10814': 783,\n",
       " '19003': 784,\n",
       " '39121': 785,\n",
       " '15200': 786,\n",
       " '45570': 787,\n",
       " '581': 788,\n",
       " '1559': 789,\n",
       " '17878': 790,\n",
       " '47601': 791,\n",
       " '38656': 792,\n",
       " '47866': 793,\n",
       " '23801': 794,\n",
       " '18987': 795,\n",
       " '24010': 796,\n",
       " '6615': 797,\n",
       " '11461': 798,\n",
       " '10032': 799,\n",
       " '33290': 800,\n",
       " '9550': 801,\n",
       " '42803': 802,\n",
       " '43631': 803,\n",
       " '41319': 804,\n",
       " '7806': 805,\n",
       " '11136': 806,\n",
       " '20632': 807,\n",
       " '34': 808,\n",
       " '39097': 809,\n",
       " '46049': 810,\n",
       " '6347': 811,\n",
       " '19488': 812,\n",
       " '9366': 813,\n",
       " '37011': 814,\n",
       " '25837': 815,\n",
       " '44514': 816,\n",
       " '29898': 817,\n",
       " '46900': 818,\n",
       " '31371': 819,\n",
       " '27307': 820,\n",
       " '29615': 821,\n",
       " '47492': 822,\n",
       " '18599': 823,\n",
       " '7916': 824,\n",
       " '27360': 825,\n",
       " '34234': 826,\n",
       " '41259': 827,\n",
       " '41540': 828,\n",
       " '34551': 829,\n",
       " '22260': 830,\n",
       " '42240': 831,\n",
       " '9421': 832,\n",
       " '8467': 833,\n",
       " '5337': 834,\n",
       " '23296': 835,\n",
       " '17902': 836,\n",
       " '43643': 837,\n",
       " '36127': 838,\n",
       " '4149': 839,\n",
       " '38544': 840,\n",
       " '2180': 841,\n",
       " '45013': 842,\n",
       " '8239': 843,\n",
       " '46650': 844,\n",
       " '10473': 845,\n",
       " '2716': 846,\n",
       " '23044': 847,\n",
       " '23645': 848,\n",
       " '33636': 849,\n",
       " '21497': 850,\n",
       " '44471': 851,\n",
       " '20899': 852,\n",
       " '38274': 853,\n",
       " '14897': 854,\n",
       " '49247': 855,\n",
       " '16290': 856,\n",
       " '31663': 857,\n",
       " '46061': 858,\n",
       " '19478': 859,\n",
       " '8490': 860,\n",
       " '14778': 861,\n",
       " '41593': 862,\n",
       " '14999': 863,\n",
       " '5031': 864,\n",
       " '30480': 865,\n",
       " '24390': 866,\n",
       " '4962': 867,\n",
       " '19049': 868,\n",
       " '20520': 869,\n",
       " '10761': 870,\n",
       " '14332': 871,\n",
       " '3849': 872,\n",
       " '44292': 873,\n",
       " '11941': 874,\n",
       " '18564': 875,\n",
       " '5991': 876,\n",
       " '5618': 877,\n",
       " '28785': 878,\n",
       " '44375': 879,\n",
       " '41276': 880,\n",
       " '248': 881,\n",
       " '8736': 882,\n",
       " '13802': 883,\n",
       " '47357': 884,\n",
       " '31338': 885,\n",
       " '33846': 886,\n",
       " '47890': 887,\n",
       " '45681': 888,\n",
       " '4006': 889,\n",
       " '40002': 890,\n",
       " '13712': 891,\n",
       " '12427': 892,\n",
       " '25544': 893,\n",
       " '18019': 894,\n",
       " '49478': 895,\n",
       " '45064': 896,\n",
       " '49111': 897,\n",
       " '25133': 898,\n",
       " '26882': 899,\n",
       " '31927': 900,\n",
       " '4137': 901,\n",
       " '46041': 902,\n",
       " '45106': 903,\n",
       " '35168': 904,\n",
       " '7054': 905,\n",
       " '48726': 906,\n",
       " '40348': 907,\n",
       " '48057': 908,\n",
       " '13852': 909,\n",
       " '12312': 910,\n",
       " '9327': 911,\n",
       " '47087': 912,\n",
       " '20583': 913,\n",
       " '23554': 914,\n",
       " '28597': 915,\n",
       " '38444': 916,\n",
       " '26047': 917,\n",
       " '38312': 918,\n",
       " '33065': 919,\n",
       " '35336': 920,\n",
       " '47526': 921,\n",
       " '1695': 922,\n",
       " '44310': 923,\n",
       " '46990': 924,\n",
       " '41273': 925,\n",
       " '5959': 926,\n",
       " '35233': 927,\n",
       " '46175': 928,\n",
       " '25705': 929,\n",
       " '26914': 930,\n",
       " '27683': 931,\n",
       " '22151': 932,\n",
       " '17027': 933,\n",
       " '24850': 934,\n",
       " '10369': 935,\n",
       " '43867': 936,\n",
       " '19068': 937,\n",
       " '26172': 938,\n",
       " '49215': 939,\n",
       " '32650': 940,\n",
       " '21162': 941,\n",
       " '46346': 942,\n",
       " '20919': 943,\n",
       " '41757': 944,\n",
       " '28986': 945,\n",
       " '34024': 946,\n",
       " '15399': 947,\n",
       " '20378': 948,\n",
       " '25197': 949,\n",
       " '16283': 950,\n",
       " '49605': 951,\n",
       " '11123': 952,\n",
       " '46206': 953,\n",
       " '4945': 954,\n",
       " '16249': 955,\n",
       " '12254': 956,\n",
       " '7746': 957,\n",
       " '47877': 958,\n",
       " '4796': 959,\n",
       " '39216': 960,\n",
       " '26629': 961,\n",
       " '32740': 962,\n",
       " '5491': 963,\n",
       " '12797': 964,\n",
       " '7952': 965,\n",
       " '9018': 966,\n",
       " '28851': 967,\n",
       " '10106': 968,\n",
       " '23339': 969,\n",
       " '31635': 970,\n",
       " '31640': 971,\n",
       " '5250': 972,\n",
       " '40229': 973,\n",
       " '13113': 974,\n",
       " '45866': 975,\n",
       " '26648': 976,\n",
       " '43409': 977,\n",
       " '13885': 978,\n",
       " '18352': 979,\n",
       " '9623': 980,\n",
       " '48094': 981,\n",
       " '27020': 982,\n",
       " '43014': 983,\n",
       " '37464': 984,\n",
       " '2480': 985,\n",
       " '26856': 986,\n",
       " '25256': 987,\n",
       " '1468': 988,\n",
       " '13966': 989,\n",
       " '45840': 990,\n",
       " '3999': 991,\n",
       " '13702': 992,\n",
       " '2361': 993,\n",
       " '12545': 994,\n",
       " '9598': 995,\n",
       " '32578': 996,\n",
       " '45190': 997,\n",
       " '8153': 998,\n",
       " '36606': 999,\n",
       " ...}"
      ]
     },
     "execution_count": 18,
     "metadata": {},
     "output_type": "execute_result"
    }
   ],
   "source": [
    "word_ix"
   ]
  },
  {
   "cell_type": "code",
   "execution_count": 19,
   "metadata": {},
   "outputs": [
    {
     "data": {
      "text/plain": [
       "{0: 'UNK',\n",
       " 1: '24852',\n",
       " 2: '13176',\n",
       " 3: '21137',\n",
       " 4: '21903',\n",
       " 5: '47209',\n",
       " 6: '47766',\n",
       " 7: '47626',\n",
       " 8: '16797',\n",
       " 9: '26209',\n",
       " 10: '27845',\n",
       " 11: '27966',\n",
       " 12: '22935',\n",
       " 13: '24964',\n",
       " 14: '45007',\n",
       " 15: '39275',\n",
       " 16: '49683',\n",
       " 17: '28204',\n",
       " 18: '5876',\n",
       " 19: '40706',\n",
       " 20: '8277',\n",
       " 21: '4920',\n",
       " 22: '30391',\n",
       " 23: '45066',\n",
       " 24: '42265',\n",
       " 25: '44632',\n",
       " 26: '49235',\n",
       " 27: '19057',\n",
       " 28: '17794',\n",
       " 29: '37646',\n",
       " 30: '4605',\n",
       " 31: '21616',\n",
       " 32: '27104',\n",
       " 33: '30489',\n",
       " 34: '31717',\n",
       " 35: '27086',\n",
       " 36: '44359',\n",
       " 37: '46979',\n",
       " 38: '8518',\n",
       " 39: '28985',\n",
       " 40: '41950',\n",
       " 41: '26604',\n",
       " 42: '5077',\n",
       " 43: '34126',\n",
       " 44: '22035',\n",
       " 45: '39877',\n",
       " 46: '10749',\n",
       " 47: '35951',\n",
       " 48: '43352',\n",
       " 49: '21938',\n",
       " 50: '24184',\n",
       " 51: '9076',\n",
       " 52: '43961',\n",
       " 53: '34969',\n",
       " 54: '19660',\n",
       " 55: '48679',\n",
       " 56: '46667',\n",
       " 57: '31506',\n",
       " 58: '25890',\n",
       " 59: '39928',\n",
       " 60: '24838',\n",
       " 61: '12341',\n",
       " 62: '5450',\n",
       " 63: '22825',\n",
       " 64: '5785',\n",
       " 65: '35221',\n",
       " 66: '28842',\n",
       " 67: '33731',\n",
       " 68: '27521',\n",
       " 69: '8424',\n",
       " 70: '44142',\n",
       " 71: '20114',\n",
       " 72: '8174',\n",
       " 73: '33198',\n",
       " 74: '27344',\n",
       " 75: '11520',\n",
       " 76: '18465',\n",
       " 77: '29487',\n",
       " 78: '28199',\n",
       " 79: '15290',\n",
       " 80: '46906',\n",
       " 81: '3957',\n",
       " 82: '9839',\n",
       " 83: '27156',\n",
       " 84: '43122',\n",
       " 85: '34358',\n",
       " 86: '23909',\n",
       " 87: '9387',\n",
       " 88: '42736',\n",
       " 89: '4799',\n",
       " 90: '16759',\n",
       " 91: '41787',\n",
       " 92: '38689',\n",
       " 93: '4210',\n",
       " 94: '41220',\n",
       " 95: '47144',\n",
       " 96: '7781',\n",
       " 97: '196',\n",
       " 98: '33000',\n",
       " 99: '20995',\n",
       " 100: '19678',\n",
       " 101: '40604',\n",
       " 102: '21709',\n",
       " 103: '30233',\n",
       " 104: '24489',\n",
       " 105: '37687',\n",
       " 106: '34243',\n",
       " 107: '42828',\n",
       " 108: '432',\n",
       " 109: '5479',\n",
       " 110: '16185',\n",
       " 111: '6184',\n",
       " 112: '42768',\n",
       " 113: '33754',\n",
       " 114: '26369',\n",
       " 115: '8193',\n",
       " 116: '17948',\n",
       " 117: '42585',\n",
       " 118: '14992',\n",
       " 119: '19348',\n",
       " 120: '14947',\n",
       " 121: '22963',\n",
       " 122: '28849',\n",
       " 123: '1463',\n",
       " 124: '8021',\n",
       " 125: '42701',\n",
       " 126: '21405',\n",
       " 127: '25659',\n",
       " 128: '5025',\n",
       " 129: '46676',\n",
       " 130: '43789',\n",
       " 131: '38293',\n",
       " 132: '43295',\n",
       " 133: '31343',\n",
       " 134: '41844',\n",
       " 135: '36011',\n",
       " 136: '11777',\n",
       " 137: '39475',\n",
       " 138: '20842',\n",
       " 139: '32689',\n",
       " 140: '32655',\n",
       " 141: '25146',\n",
       " 142: '13870',\n",
       " 143: '2295',\n",
       " 144: '46802',\n",
       " 145: '5212',\n",
       " 146: '18531',\n",
       " 147: '31553',\n",
       " 148: '39408',\n",
       " 149: '38383',\n",
       " 150: '24830',\n",
       " 151: '43768',\n",
       " 152: '260',\n",
       " 153: '10246',\n",
       " 154: '36695',\n",
       " 155: '1940',\n",
       " 156: '18362',\n",
       " 157: '18523',\n",
       " 158: '11182',\n",
       " 159: '44683',\n",
       " 160: '21288',\n",
       " 161: '6046',\n",
       " 162: '29987',\n",
       " 163: '890',\n",
       " 164: '23734',\n",
       " 165: '38777',\n",
       " 166: '43772',\n",
       " 167: '44910',\n",
       " 168: '26620',\n",
       " 169: '47734',\n",
       " 170: '38456',\n",
       " 171: '7948',\n",
       " 172: '38159',\n",
       " 173: '30450',\n",
       " 174: '46969',\n",
       " 175: '4957',\n",
       " 176: '47672',\n",
       " 177: '30776',\n",
       " 178: '44987',\n",
       " 179: '40310',\n",
       " 180: '29447',\n",
       " 181: '14678',\n",
       " 182: '26165',\n",
       " 183: '16349',\n",
       " 184: '44422',\n",
       " 185: '23165',\n",
       " 186: '35939',\n",
       " 187: '16953',\n",
       " 188: '2078',\n",
       " 189: '39812',\n",
       " 190: '13984',\n",
       " 191: '28289',\n",
       " 192: '32864',\n",
       " 193: '23375',\n",
       " 194: '41290',\n",
       " 195: '19048',\n",
       " 196: '48364',\n",
       " 197: '33787',\n",
       " 198: '26940',\n",
       " 199: '17600',\n",
       " 200: '37067',\n",
       " 201: '35108',\n",
       " 202: '31683',\n",
       " 203: '28465',\n",
       " 204: '33120',\n",
       " 205: '37158',\n",
       " 206: '26283',\n",
       " 207: '8859',\n",
       " 208: '24799',\n",
       " 209: '45',\n",
       " 210: '10957',\n",
       " 211: '18370',\n",
       " 212: '3952',\n",
       " 213: '35547',\n",
       " 214: '2086',\n",
       " 215: '10132',\n",
       " 216: '41665',\n",
       " 217: '2966',\n",
       " 218: '40571',\n",
       " 219: '25931',\n",
       " 220: '43713',\n",
       " 221: '38739',\n",
       " 222: '7021',\n",
       " 223: '40396',\n",
       " 224: '20119',\n",
       " 225: '1158',\n",
       " 226: '42450',\n",
       " 227: '45535',\n",
       " 228: '48745',\n",
       " 229: '43154',\n",
       " 230: '13629',\n",
       " 231: '15937',\n",
       " 232: '18027',\n",
       " 233: '42342',\n",
       " 234: '48205',\n",
       " 235: '21019',\n",
       " 236: '45633',\n",
       " 237: '34448',\n",
       " 238: '34050',\n",
       " 239: '30169',\n",
       " 240: '31040',\n",
       " 241: '45603',\n",
       " 242: '17461',\n",
       " 243: '39619',\n",
       " 244: '21267',\n",
       " 245: '32478',\n",
       " 246: '38400',\n",
       " 247: '39984',\n",
       " 248: '13646',\n",
       " 249: '17872',\n",
       " 250: '26790',\n",
       " 251: '21376',\n",
       " 252: '40174',\n",
       " 253: '5818',\n",
       " 254: '36865',\n",
       " 255: '33768',\n",
       " 256: '14084',\n",
       " 257: '32734',\n",
       " 258: '43086',\n",
       " 259: '28934',\n",
       " 260: '6187',\n",
       " 261: '23288',\n",
       " 262: '37766',\n",
       " 263: '46654',\n",
       " 264: '6348',\n",
       " 265: '25340',\n",
       " 266: '39993',\n",
       " 267: '5646',\n",
       " 268: '329',\n",
       " 269: '651',\n",
       " 270: '12206',\n",
       " 271: '42356',\n",
       " 272: '10673',\n",
       " 273: '27336',\n",
       " 274: '6104',\n",
       " 275: '18441',\n",
       " 276: '48775',\n",
       " 277: '10017',\n",
       " 278: '19508',\n",
       " 279: '40709',\n",
       " 280: '39180',\n",
       " 281: '19677',\n",
       " 282: '47977',\n",
       " 283: '28156',\n",
       " 284: '13829',\n",
       " 285: '13535',\n",
       " 286: '49075',\n",
       " 287: '36070',\n",
       " 288: '27695',\n",
       " 289: '49520',\n",
       " 290: '6873',\n",
       " 291: '42244',\n",
       " 292: '11782',\n",
       " 293: '8571',\n",
       " 294: '24561',\n",
       " 295: '35921',\n",
       " 296: '13249',\n",
       " 297: '16083',\n",
       " 298: '40545',\n",
       " 299: '30720',\n",
       " 300: '49383',\n",
       " 301: '24024',\n",
       " 302: '11422',\n",
       " 303: '17795',\n",
       " 304: '40199',\n",
       " 305: '42445',\n",
       " 306: '3599',\n",
       " 307: '8670',\n",
       " 308: '17122',\n",
       " 309: '31915',\n",
       " 310: '44449',\n",
       " 311: '21295',\n",
       " 312: '19019',\n",
       " 313: '7963',\n",
       " 314: '20082',\n",
       " 315: '42625',\n",
       " 316: '35561',\n",
       " 317: '25588',\n",
       " 318: '17706',\n",
       " 319: '35042',\n",
       " 320: '1511',\n",
       " 321: '5194',\n",
       " 322: '30827',\n",
       " 323: '36550',\n",
       " 324: '4562',\n",
       " 325: '33401',\n",
       " 326: '15872',\n",
       " 327: '13380',\n",
       " 328: '22395',\n",
       " 329: '2825',\n",
       " 330: '8048',\n",
       " 331: '9339',\n",
       " 332: '25466',\n",
       " 333: '19706',\n",
       " 334: '7751',\n",
       " 335: '18288',\n",
       " 336: '23537',\n",
       " 337: '16965',\n",
       " 338: '46720',\n",
       " 339: '3376',\n",
       " 340: '14233',\n",
       " 341: '4472',\n",
       " 342: '28993',\n",
       " 343: '38164',\n",
       " 344: '13166',\n",
       " 345: '29662',\n",
       " 346: '21195',\n",
       " 347: '40723',\n",
       " 348: '15902',\n",
       " 349: '40516',\n",
       " 350: '7175',\n",
       " 351: '35140',\n",
       " 352: '13740',\n",
       " 353: '38928',\n",
       " 354: '2855',\n",
       " 355: '12916',\n",
       " 356: '12456',\n",
       " 357: '5134',\n",
       " 358: '40332',\n",
       " 359: '3464',\n",
       " 360: '5782',\n",
       " 361: '7503',\n",
       " 362: '45200',\n",
       " 363: '44570',\n",
       " 364: '19691',\n",
       " 365: '10644',\n",
       " 366: '39561',\n",
       " 367: '35898',\n",
       " 368: '21174',\n",
       " 369: '10070',\n",
       " 370: '22124',\n",
       " 371: '33129',\n",
       " 372: '7559',\n",
       " 373: '13198',\n",
       " 374: '46584',\n",
       " 375: '44765',\n",
       " 376: '9092',\n",
       " 377: '34262',\n",
       " 378: '32691',\n",
       " 379: '45123',\n",
       " 380: '37029',\n",
       " 381: '36735',\n",
       " 382: '43662',\n",
       " 383: '42719',\n",
       " 384: '11408',\n",
       " 385: '4421',\n",
       " 386: '1025',\n",
       " 387: '28745',\n",
       " 388: '44560',\n",
       " 389: '20955',\n",
       " 390: '25138',\n",
       " 391: '18918',\n",
       " 392: '5258',\n",
       " 393: '13575',\n",
       " 394: '47141',\n",
       " 395: '37710',\n",
       " 396: '18234',\n",
       " 397: '35503',\n",
       " 398: '3896',\n",
       " 399: '35628',\n",
       " 400: '24954',\n",
       " 401: '23029',\n",
       " 402: '26384',\n",
       " 403: '18811',\n",
       " 404: '39947',\n",
       " 405: '47042',\n",
       " 406: '21292',\n",
       " 407: '47759',\n",
       " 408: '21573',\n",
       " 409: '25824',\n",
       " 410: '17949',\n",
       " 411: '11140',\n",
       " 412: '14197',\n",
       " 413: '32433',\n",
       " 414: '44628',\n",
       " 415: '28476',\n",
       " 416: '1999',\n",
       " 417: '27548',\n",
       " 418: '41065',\n",
       " 419: '37220',\n",
       " 420: '35535',\n",
       " 421: '38273',\n",
       " 422: '46820',\n",
       " 423: '24841',\n",
       " 424: '46616',\n",
       " 425: '14462',\n",
       " 426: '5456',\n",
       " 427: '15613',\n",
       " 428: '1194',\n",
       " 429: '21333',\n",
       " 430: '21386',\n",
       " 431: '48628',\n",
       " 432: '43504',\n",
       " 433: '7969',\n",
       " 434: '39190',\n",
       " 435: '11068',\n",
       " 436: '27730',\n",
       " 437: '27744',\n",
       " 438: '27323',\n",
       " 439: '11005',\n",
       " 440: '29307',\n",
       " 441: '31066',\n",
       " 442: '41588',\n",
       " 443: '14161',\n",
       " 444: '32177',\n",
       " 445: '13517',\n",
       " 446: '38768',\n",
       " 447: '42110',\n",
       " 448: '16696',\n",
       " 449: '5322',\n",
       " 450: '22474',\n",
       " 451: '49175',\n",
       " 452: '26800',\n",
       " 453: '9020',\n",
       " 454: '15424',\n",
       " 455: '8309',\n",
       " 456: '13733',\n",
       " 457: '2314',\n",
       " 458: '22849',\n",
       " 459: '4086',\n",
       " 460: '9825',\n",
       " 461: '28601',\n",
       " 462: '27796',\n",
       " 463: '18479',\n",
       " 464: '19173',\n",
       " 465: '16521',\n",
       " 466: '12980',\n",
       " 467: '21872',\n",
       " 468: '17316',\n",
       " 469: '15261',\n",
       " 470: '2452',\n",
       " 471: '2228',\n",
       " 472: '20734',\n",
       " 473: '1244',\n",
       " 474: '27325',\n",
       " 475: '36724',\n",
       " 476: '21927',\n",
       " 477: '3298',\n",
       " 478: '41658',\n",
       " 479: '49191',\n",
       " 480: '37524',\n",
       " 481: '26497',\n",
       " 482: '20345',\n",
       " 483: '20738',\n",
       " 484: '6948',\n",
       " 485: '25513',\n",
       " 486: '20574',\n",
       " 487: '5769',\n",
       " 488: '35914',\n",
       " 489: '44799',\n",
       " 490: '12845',\n",
       " 491: '5373',\n",
       " 492: '22959',\n",
       " 493: '15649',\n",
       " 494: '5161',\n",
       " 495: '4656',\n",
       " 496: '47630',\n",
       " 497: '35887',\n",
       " 498: '18926',\n",
       " 499: '11712',\n",
       " 500: '21543',\n",
       " 501: '31720',\n",
       " 502: '34584',\n",
       " 503: '26348',\n",
       " 504: '48697',\n",
       " 505: '33055',\n",
       " 506: '36082',\n",
       " 507: '17758',\n",
       " 508: '49131',\n",
       " 509: '40377',\n",
       " 510: '39108',\n",
       " 511: '40198',\n",
       " 512: '18963',\n",
       " 513: '6740',\n",
       " 514: '30406',\n",
       " 515: '7500',\n",
       " 516: '18656',\n",
       " 517: '36316',\n",
       " 518: '23543',\n",
       " 519: '45104',\n",
       " 520: '44008',\n",
       " 521: '9755',\n",
       " 522: '44661',\n",
       " 523: '31651',\n",
       " 524: '46069',\n",
       " 525: '5612',\n",
       " 526: '11512',\n",
       " 527: '23516',\n",
       " 528: '13838',\n",
       " 529: '45504',\n",
       " 530: '10305',\n",
       " 531: '2450',\n",
       " 532: '12872',\n",
       " 533: '30639',\n",
       " 534: '43129',\n",
       " 535: '24221',\n",
       " 536: '40063',\n",
       " 537: '12576',\n",
       " 538: '34668',\n",
       " 539: '25718',\n",
       " 540: '28427',\n",
       " 541: '1529',\n",
       " 542: '12409',\n",
       " 543: '31215',\n",
       " 544: '49533',\n",
       " 545: '32303',\n",
       " 546: '36929',\n",
       " 547: '43875',\n",
       " 548: '35163',\n",
       " 549: '15392',\n",
       " 550: '32747',\n",
       " 551: '47912',\n",
       " 552: '32403',\n",
       " 553: '39581',\n",
       " 554: '38996',\n",
       " 555: '2091',\n",
       " 556: '30696',\n",
       " 557: '26317',\n",
       " 558: '48559',\n",
       " 559: '6631',\n",
       " 560: '30353',\n",
       " 561: '25640',\n",
       " 562: '7628',\n",
       " 563: '46842',\n",
       " 564: '13263',\n",
       " 565: '29941',\n",
       " 566: '28553',\n",
       " 567: '17652',\n",
       " 568: '14218',\n",
       " 569: '27690',\n",
       " 570: '45948',\n",
       " 571: '5550',\n",
       " 572: '25753',\n",
       " 573: '39558',\n",
       " 574: '17284',\n",
       " 575: '12099',\n",
       " 576: '11759',\n",
       " 577: '31981',\n",
       " 578: '32465',\n",
       " 579: '11576',\n",
       " 580: '14852',\n",
       " 581: '24009',\n",
       " 582: '6489',\n",
       " 583: '23236',\n",
       " 584: '10912',\n",
       " 585: '38772',\n",
       " 586: '41149',\n",
       " 587: '31766',\n",
       " 588: '47788',\n",
       " 589: '11440',\n",
       " 590: '5652',\n",
       " 591: '34217',\n",
       " 592: '14651',\n",
       " 593: '14129',\n",
       " 594: '22142',\n",
       " 595: '29926',\n",
       " 596: '34466',\n",
       " 597: '2326',\n",
       " 598: '4461',\n",
       " 599: '48395',\n",
       " 600: '24810',\n",
       " 601: '38200',\n",
       " 602: '14633',\n",
       " 603: '33043',\n",
       " 604: '40268',\n",
       " 605: '35004',\n",
       " 606: '46886',\n",
       " 607: '43394',\n",
       " 608: '8138',\n",
       " 609: '18594',\n",
       " 610: '781',\n",
       " 611: '10831',\n",
       " 612: '42557',\n",
       " 613: '14715',\n",
       " 614: '41400',\n",
       " 615: '29675',\n",
       " 616: '7156',\n",
       " 617: '12276',\n",
       " 618: '31433',\n",
       " 619: '10385',\n",
       " 620: '311',\n",
       " 621: '32429',\n",
       " 622: '29127',\n",
       " 623: '46149',\n",
       " 624: '28928',\n",
       " 625: '2846',\n",
       " 626: '7485',\n",
       " 627: '48104',\n",
       " 628: '9515',\n",
       " 629: '34134',\n",
       " 630: '3142',\n",
       " 631: '20940',\n",
       " 632: '13292',\n",
       " 633: '4367',\n",
       " 634: '16254',\n",
       " 635: '3583',\n",
       " 636: '23405',\n",
       " 637: '5240',\n",
       " 638: '12745',\n",
       " 639: '16616',\n",
       " 640: '365',\n",
       " 641: '19006',\n",
       " 642: '4793',\n",
       " 643: '37119',\n",
       " 644: '34530',\n",
       " 645: '16145',\n",
       " 646: '5068',\n",
       " 647: '38650',\n",
       " 648: '19816',\n",
       " 649: '36772',\n",
       " 650: '33548',\n",
       " 651: '22025',\n",
       " 652: '46522',\n",
       " 653: '8555',\n",
       " 654: '47792',\n",
       " 655: '45646',\n",
       " 656: '44234',\n",
       " 657: '1408',\n",
       " 658: '17429',\n",
       " 659: '2120',\n",
       " 660: '20580',\n",
       " 661: '17224',\n",
       " 662: '9808',\n",
       " 663: '42460',\n",
       " 664: '37065',\n",
       " 665: '4942',\n",
       " 666: '7644',\n",
       " 667: '39040',\n",
       " 668: '14901',\n",
       " 669: '16262',\n",
       " 670: '16617',\n",
       " 671: '13083',\n",
       " 672: '44479',\n",
       " 673: '30305',\n",
       " 674: '45763',\n",
       " 675: '32566',\n",
       " 676: '2962',\n",
       " 677: '31964',\n",
       " 678: '1700',\n",
       " 679: '8955',\n",
       " 680: '23579',\n",
       " 681: '23622',\n",
       " 682: '3990',\n",
       " 683: '27243',\n",
       " 684: '26128',\n",
       " 685: '10504',\n",
       " 686: '29370',\n",
       " 687: '14870',\n",
       " 688: '42495',\n",
       " 689: '10603',\n",
       " 690: '17341',\n",
       " 691: '31869',\n",
       " 692: '12614',\n",
       " 693: '48857',\n",
       " 694: '10621',\n",
       " 695: '28373',\n",
       " 696: '25005',\n",
       " 697: '24759',\n",
       " 698: '1090',\n",
       " 699: '5460',\n",
       " 700: '44156',\n",
       " 701: '18880',\n",
       " 702: '33716',\n",
       " 703: '31759',\n",
       " 704: '14168',\n",
       " 705: '17616',\n",
       " 706: '9337',\n",
       " 707: '3481',\n",
       " 708: '23765',\n",
       " 709: '39922',\n",
       " 710: '21009',\n",
       " 711: '40910',\n",
       " 712: '49610',\n",
       " 713: '16823',\n",
       " 714: '46226',\n",
       " 715: '12384',\n",
       " 716: '46692',\n",
       " 717: '21614',\n",
       " 718: '28278',\n",
       " 719: '20754',\n",
       " 720: '9124',\n",
       " 721: '8479',\n",
       " 722: '36389',\n",
       " 723: '30949',\n",
       " 724: '7131',\n",
       " 725: '36086',\n",
       " 726: '17835',\n",
       " 727: '38890',\n",
       " 728: '21417',\n",
       " 729: '24535',\n",
       " 730: '17008',\n",
       " 731: '40593',\n",
       " 732: '8230',\n",
       " 733: '45063',\n",
       " 734: '11352',\n",
       " 735: '29553',\n",
       " 736: '22504',\n",
       " 737: '26131',\n",
       " 738: '30442',\n",
       " 739: '33572',\n",
       " 740: '31562',\n",
       " 741: '6532',\n",
       " 742: '4138',\n",
       " 743: '47029',\n",
       " 744: '41544',\n",
       " 745: '33352',\n",
       " 746: '28123',\n",
       " 747: '18382',\n",
       " 748: '4724',\n",
       " 749: '1215',\n",
       " 750: '28535',\n",
       " 751: '2611',\n",
       " 752: '19894',\n",
       " 753: '24082',\n",
       " 754: '8087',\n",
       " 755: '32455',\n",
       " 756: '9741',\n",
       " 757: '29594',\n",
       " 758: '16589',\n",
       " 759: '38944',\n",
       " 760: '23233',\n",
       " 761: '31805',\n",
       " 762: '17807',\n",
       " 763: '45747',\n",
       " 764: '13431',\n",
       " 765: '37825',\n",
       " 766: '38028',\n",
       " 767: '19156',\n",
       " 768: '3020',\n",
       " 769: '13819',\n",
       " 770: '17630',\n",
       " 771: '14467',\n",
       " 772: '48595',\n",
       " 773: '23341',\n",
       " 774: '48171',\n",
       " 775: '22888',\n",
       " 776: '12606',\n",
       " 777: '7521',\n",
       " 778: '5449',\n",
       " 779: '18434',\n",
       " 780: '6287',\n",
       " 781: '35383',\n",
       " 782: '24382',\n",
       " 783: '10814',\n",
       " 784: '19003',\n",
       " 785: '39121',\n",
       " 786: '15200',\n",
       " 787: '45570',\n",
       " 788: '581',\n",
       " 789: '1559',\n",
       " 790: '17878',\n",
       " 791: '47601',\n",
       " 792: '38656',\n",
       " 793: '47866',\n",
       " 794: '23801',\n",
       " 795: '18987',\n",
       " 796: '24010',\n",
       " 797: '6615',\n",
       " 798: '11461',\n",
       " 799: '10032',\n",
       " 800: '33290',\n",
       " 801: '9550',\n",
       " 802: '42803',\n",
       " 803: '43631',\n",
       " 804: '41319',\n",
       " 805: '7806',\n",
       " 806: '11136',\n",
       " 807: '20632',\n",
       " 808: '34',\n",
       " 809: '39097',\n",
       " 810: '46049',\n",
       " 811: '6347',\n",
       " 812: '19488',\n",
       " 813: '9366',\n",
       " 814: '37011',\n",
       " 815: '25837',\n",
       " 816: '44514',\n",
       " 817: '29898',\n",
       " 818: '46900',\n",
       " 819: '31371',\n",
       " 820: '27307',\n",
       " 821: '29615',\n",
       " 822: '47492',\n",
       " 823: '18599',\n",
       " 824: '7916',\n",
       " 825: '27360',\n",
       " 826: '34234',\n",
       " 827: '41259',\n",
       " 828: '41540',\n",
       " 829: '34551',\n",
       " 830: '22260',\n",
       " 831: '42240',\n",
       " 832: '9421',\n",
       " 833: '8467',\n",
       " 834: '5337',\n",
       " 835: '23296',\n",
       " 836: '17902',\n",
       " 837: '43643',\n",
       " 838: '36127',\n",
       " 839: '4149',\n",
       " 840: '38544',\n",
       " 841: '2180',\n",
       " 842: '45013',\n",
       " 843: '8239',\n",
       " 844: '46650',\n",
       " 845: '10473',\n",
       " 846: '2716',\n",
       " 847: '23044',\n",
       " 848: '23645',\n",
       " 849: '33636',\n",
       " 850: '21497',\n",
       " 851: '44471',\n",
       " 852: '20899',\n",
       " 853: '38274',\n",
       " 854: '14897',\n",
       " 855: '49247',\n",
       " 856: '16290',\n",
       " 857: '31663',\n",
       " 858: '46061',\n",
       " 859: '19478',\n",
       " 860: '8490',\n",
       " 861: '14778',\n",
       " 862: '41593',\n",
       " 863: '14999',\n",
       " 864: '5031',\n",
       " 865: '30480',\n",
       " 866: '24390',\n",
       " 867: '4962',\n",
       " 868: '19049',\n",
       " 869: '20520',\n",
       " 870: '10761',\n",
       " 871: '14332',\n",
       " 872: '3849',\n",
       " 873: '44292',\n",
       " 874: '11941',\n",
       " 875: '18564',\n",
       " 876: '5991',\n",
       " 877: '5618',\n",
       " 878: '28785',\n",
       " 879: '44375',\n",
       " 880: '41276',\n",
       " 881: '248',\n",
       " 882: '8736',\n",
       " 883: '13802',\n",
       " 884: '47357',\n",
       " 885: '31338',\n",
       " 886: '33846',\n",
       " 887: '47890',\n",
       " 888: '45681',\n",
       " 889: '4006',\n",
       " 890: '40002',\n",
       " 891: '13712',\n",
       " 892: '12427',\n",
       " 893: '25544',\n",
       " 894: '18019',\n",
       " 895: '49478',\n",
       " 896: '45064',\n",
       " 897: '49111',\n",
       " 898: '25133',\n",
       " 899: '26882',\n",
       " 900: '31927',\n",
       " 901: '4137',\n",
       " 902: '46041',\n",
       " 903: '45106',\n",
       " 904: '35168',\n",
       " 905: '7054',\n",
       " 906: '48726',\n",
       " 907: '40348',\n",
       " 908: '48057',\n",
       " 909: '13852',\n",
       " 910: '12312',\n",
       " 911: '9327',\n",
       " 912: '47087',\n",
       " 913: '20583',\n",
       " 914: '23554',\n",
       " 915: '28597',\n",
       " 916: '38444',\n",
       " 917: '26047',\n",
       " 918: '38312',\n",
       " 919: '33065',\n",
       " 920: '35336',\n",
       " 921: '47526',\n",
       " 922: '1695',\n",
       " 923: '44310',\n",
       " 924: '46990',\n",
       " 925: '41273',\n",
       " 926: '5959',\n",
       " 927: '35233',\n",
       " 928: '46175',\n",
       " 929: '25705',\n",
       " 930: '26914',\n",
       " 931: '27683',\n",
       " 932: '22151',\n",
       " 933: '17027',\n",
       " 934: '24850',\n",
       " 935: '10369',\n",
       " 936: '43867',\n",
       " 937: '19068',\n",
       " 938: '26172',\n",
       " 939: '49215',\n",
       " 940: '32650',\n",
       " 941: '21162',\n",
       " 942: '46346',\n",
       " 943: '20919',\n",
       " 944: '41757',\n",
       " 945: '28986',\n",
       " 946: '34024',\n",
       " 947: '15399',\n",
       " 948: '20378',\n",
       " 949: '25197',\n",
       " 950: '16283',\n",
       " 951: '49605',\n",
       " 952: '11123',\n",
       " 953: '46206',\n",
       " 954: '4945',\n",
       " 955: '16249',\n",
       " 956: '12254',\n",
       " 957: '7746',\n",
       " 958: '47877',\n",
       " 959: '4796',\n",
       " 960: '39216',\n",
       " 961: '26629',\n",
       " 962: '32740',\n",
       " 963: '5491',\n",
       " 964: '12797',\n",
       " 965: '7952',\n",
       " 966: '9018',\n",
       " 967: '28851',\n",
       " 968: '10106',\n",
       " 969: '23339',\n",
       " 970: '31635',\n",
       " 971: '31640',\n",
       " 972: '5250',\n",
       " 973: '40229',\n",
       " 974: '13113',\n",
       " 975: '45866',\n",
       " 976: '26648',\n",
       " 977: '43409',\n",
       " 978: '13885',\n",
       " 979: '18352',\n",
       " 980: '9623',\n",
       " 981: '48094',\n",
       " 982: '27020',\n",
       " 983: '43014',\n",
       " 984: '37464',\n",
       " 985: '2480',\n",
       " 986: '26856',\n",
       " 987: '25256',\n",
       " 988: '1468',\n",
       " 989: '13966',\n",
       " 990: '45840',\n",
       " 991: '3999',\n",
       " 992: '13702',\n",
       " 993: '2361',\n",
       " 994: '12545',\n",
       " 995: '9598',\n",
       " 996: '32578',\n",
       " 997: '45190',\n",
       " 998: '8153',\n",
       " 999: '36606',\n",
       " ...}"
      ]
     },
     "execution_count": 19,
     "metadata": {},
     "output_type": "execute_result"
    }
   ],
   "source": [
    "ix_word"
   ]
  },
  {
   "cell_type": "markdown",
   "metadata": {},
   "source": [
    "## 2.3. Convert entire data set from text to indices\n"
   ]
  },
  {
   "cell_type": "code",
   "execution_count": 20,
   "metadata": {},
   "outputs": [],
   "source": [
    "# convert data to index\n",
    "def Data2Index(train_data, word_ix, ret_unk_cnt = False):\n",
    "    data = list()\n",
    "    global unk_count\n",
    "    unk_count = 0\n",
    "    for order in train_data:\n",
    "        ord_data = []\n",
    "        for word in order:\n",
    "            if word in word_ix:\n",
    "                index = word_ix[word]\n",
    "            else:\n",
    "                index = 0\n",
    "                unk_count += 1\n",
    "            ord_data.append(index)\n",
    "        data.append(ord_data)\n",
    "    if ret_unk_cnt:\n",
    "        return(data, unk_count)\n",
    "    else:\n",
    "        return(data)"
   ]
  },
  {
   "cell_type": "code",
   "execution_count": 21,
   "metadata": {},
   "outputs": [],
   "source": [
    "# training orders\n",
    "train_orders_ix = Data2Index(train_data = train_orders, word_ix = word_ix, ret_unk_cnt = False)"
   ]
  },
  {
   "cell_type": "code",
   "execution_count": 22,
   "metadata": {},
   "outputs": [
    {
     "data": {
      "text/plain": [
       "[['17429',\n",
       "  '7388',\n",
       "  '23631',\n",
       "  '24799',\n",
       "  '28465',\n",
       "  '36865',\n",
       "  '8309',\n",
       "  '43662',\n",
       "  '22151',\n",
       "  '5785',\n",
       "  '45104',\n",
       "  '36036',\n",
       "  '17131',\n",
       "  '9421',\n",
       "  '16398',\n",
       "  '29627',\n",
       "  '46226',\n",
       "  '46139',\n",
       "  '8091',\n",
       "  '37807',\n",
       "  '12572',\n",
       "  '7185',\n",
       "  '35585',\n",
       "  '41514',\n",
       "  '43192',\n",
       "  '4927',\n",
       "  '34281',\n",
       "  '41007',\n",
       "  '7773',\n",
       "  '26375',\n",
       "  '19019',\n",
       "  '40310',\n",
       "  '12576',\n",
       "  '40777'],\n",
       " ['48094',\n",
       "  '8277',\n",
       "  '27451',\n",
       "  '36929',\n",
       "  '31433',\n",
       "  '16083',\n",
       "  '44089',\n",
       "  '24852',\n",
       "  '49235',\n",
       "  '46709',\n",
       "  '16290'],\n",
       " ['12738', '3856', '26040', '40348', '36591', '16797', '27966']]"
      ]
     },
     "execution_count": 22,
     "metadata": {},
     "output_type": "execute_result"
    }
   ],
   "source": [
    "train_orders[0:3]"
   ]
  },
  {
   "cell_type": "code",
   "execution_count": 23,
   "metadata": {},
   "outputs": [
    {
     "data": {
      "text/plain": [
       "[[658,\n",
       "  1447,\n",
       "  0,\n",
       "  208,\n",
       "  203,\n",
       "  254,\n",
       "  455,\n",
       "  382,\n",
       "  932,\n",
       "  64,\n",
       "  519,\n",
       "  1009,\n",
       "  4077,\n",
       "  832,\n",
       "  1620,\n",
       "  4150,\n",
       "  714,\n",
       "  6045,\n",
       "  5156,\n",
       "  4874,\n",
       "  1005,\n",
       "  1548,\n",
       "  6380,\n",
       "  0,\n",
       "  1085,\n",
       "  3839,\n",
       "  3790,\n",
       "  1937,\n",
       "  8531,\n",
       "  0,\n",
       "  312,\n",
       "  179,\n",
       "  537,\n",
       "  3691],\n",
       " [981, 20, 1181, 546, 618, 297, 7894, 1, 26, 1033, 856],\n",
       " [3329, 1453, 1754, 907, 1954, 8, 11]]"
      ]
     },
     "execution_count": 23,
     "metadata": {},
     "output_type": "execute_result"
    }
   ],
   "source": [
    "train_orders_ix[0:3]"
   ]
  },
  {
   "cell_type": "code",
   "execution_count": 24,
   "metadata": {},
   "outputs": [
    {
     "data": {
      "text/plain": [
       "1000000"
      ]
     },
     "execution_count": 24,
     "metadata": {},
     "output_type": "execute_result"
    }
   ],
   "source": [
    "# total number of training orders\n",
    "len(train_orders)"
   ]
  },
  {
   "cell_type": "code",
   "execution_count": 25,
   "metadata": {},
   "outputs": [
    {
     "name": "stdout",
     "output_type": "stream",
     "text": [
      "38701\n"
     ]
    }
   ],
   "source": [
    "# val orders\n",
    "val_orders_ix = Data2Index(train_data = val_orders, word_ix = word_ix, ret_unk_cnt = False)\n",
    "print(len(val_orders_ix))"
   ]
  },
  {
   "cell_type": "markdown",
   "metadata": {},
   "source": [
    "----"
   ]
  },
  {
   "cell_type": "markdown",
   "metadata": {},
   "source": [
    "### In-class exercise"
   ]
  },
  {
   "cell_type": "code",
   "execution_count": 27,
   "metadata": {},
   "outputs": [
    {
     "data": {
      "text/plain": [
       "38442"
      ]
     },
     "execution_count": 27,
     "metadata": {},
     "output_type": "execute_result"
    }
   ],
   "source": [
    "# convert all the test orders to indices using the Data2Index() function\n",
    "# training orders\n",
    "test_orders_ix = Data2Index(train_data = test_orders, word_ix = word_ix, ret_unk_cnt = False)\n",
    "len(test_orders_ix)"
   ]
  },
  {
   "cell_type": "markdown",
   "metadata": {},
   "source": [
    "----"
   ]
  },
  {
   "cell_type": "markdown",
   "metadata": {},
   "source": [
    "# A.1: Intro to Neural Networks"
   ]
  },
  {
   "cell_type": "code",
   "execution_count": 28,
   "metadata": {},
   "outputs": [],
   "source": [
    "## code to download imdb data and load into memory\n",
    "import numpy as np\n",
    "old = np.load\n",
    "np.load = lambda *a,**k: old(*a,**k,allow_pickle=True)\n",
    "# call load_data with allow_pickle implicitly set to true\n",
    "from keras.datasets import imdb\n",
    "(x_train, y_train), (x_test, y_test) = imdb.load_data(num_words=10000)\n",
    "np.load = old\n",
    "del(old)"
   ]
  },
  {
   "cell_type": "code",
   "execution_count": 29,
   "metadata": {},
   "outputs": [
    {
     "name": "stdout",
     "output_type": "stream",
     "text": [
      "(25000,)\n",
      "(25000,)\n"
     ]
    }
   ],
   "source": [
    "print(x_train.shape)\n",
    "print(y_train.shape)"
   ]
  },
  {
   "cell_type": "code",
   "execution_count": 30,
   "metadata": {},
   "outputs": [
    {
     "data": {
      "text/plain": [
       "[1,\n",
       " 14,\n",
       " 22,\n",
       " 16,\n",
       " 43,\n",
       " 530,\n",
       " 973,\n",
       " 1622,\n",
       " 1385,\n",
       " 65,\n",
       " 458,\n",
       " 4468,\n",
       " 66,\n",
       " 3941,\n",
       " 4,\n",
       " 173,\n",
       " 36,\n",
       " 256,\n",
       " 5,\n",
       " 25,\n",
       " 100,\n",
       " 43,\n",
       " 838,\n",
       " 112,\n",
       " 50,\n",
       " 670,\n",
       " 2,\n",
       " 9,\n",
       " 35,\n",
       " 480,\n",
       " 284,\n",
       " 5,\n",
       " 150,\n",
       " 4,\n",
       " 172,\n",
       " 112,\n",
       " 167,\n",
       " 2,\n",
       " 336,\n",
       " 385,\n",
       " 39,\n",
       " 4,\n",
       " 172,\n",
       " 4536,\n",
       " 1111,\n",
       " 17,\n",
       " 546,\n",
       " 38,\n",
       " 13,\n",
       " 447,\n",
       " 4,\n",
       " 192,\n",
       " 50,\n",
       " 16,\n",
       " 6,\n",
       " 147,\n",
       " 2025,\n",
       " 19,\n",
       " 14,\n",
       " 22,\n",
       " 4,\n",
       " 1920,\n",
       " 4613,\n",
       " 469,\n",
       " 4,\n",
       " 22,\n",
       " 71,\n",
       " 87,\n",
       " 12,\n",
       " 16,\n",
       " 43,\n",
       " 530,\n",
       " 38,\n",
       " 76,\n",
       " 15,\n",
       " 13,\n",
       " 1247,\n",
       " 4,\n",
       " 22,\n",
       " 17,\n",
       " 515,\n",
       " 17,\n",
       " 12,\n",
       " 16,\n",
       " 626,\n",
       " 18,\n",
       " 2,\n",
       " 5,\n",
       " 62,\n",
       " 386,\n",
       " 12,\n",
       " 8,\n",
       " 316,\n",
       " 8,\n",
       " 106,\n",
       " 5,\n",
       " 4,\n",
       " 2223,\n",
       " 5244,\n",
       " 16,\n",
       " 480,\n",
       " 66,\n",
       " 3785,\n",
       " 33,\n",
       " 4,\n",
       " 130,\n",
       " 12,\n",
       " 16,\n",
       " 38,\n",
       " 619,\n",
       " 5,\n",
       " 25,\n",
       " 124,\n",
       " 51,\n",
       " 36,\n",
       " 135,\n",
       " 48,\n",
       " 25,\n",
       " 1415,\n",
       " 33,\n",
       " 6,\n",
       " 22,\n",
       " 12,\n",
       " 215,\n",
       " 28,\n",
       " 77,\n",
       " 52,\n",
       " 5,\n",
       " 14,\n",
       " 407,\n",
       " 16,\n",
       " 82,\n",
       " 2,\n",
       " 8,\n",
       " 4,\n",
       " 107,\n",
       " 117,\n",
       " 5952,\n",
       " 15,\n",
       " 256,\n",
       " 4,\n",
       " 2,\n",
       " 7,\n",
       " 3766,\n",
       " 5,\n",
       " 723,\n",
       " 36,\n",
       " 71,\n",
       " 43,\n",
       " 530,\n",
       " 476,\n",
       " 26,\n",
       " 400,\n",
       " 317,\n",
       " 46,\n",
       " 7,\n",
       " 4,\n",
       " 2,\n",
       " 1029,\n",
       " 13,\n",
       " 104,\n",
       " 88,\n",
       " 4,\n",
       " 381,\n",
       " 15,\n",
       " 297,\n",
       " 98,\n",
       " 32,\n",
       " 2071,\n",
       " 56,\n",
       " 26,\n",
       " 141,\n",
       " 6,\n",
       " 194,\n",
       " 7486,\n",
       " 18,\n",
       " 4,\n",
       " 226,\n",
       " 22,\n",
       " 21,\n",
       " 134,\n",
       " 476,\n",
       " 26,\n",
       " 480,\n",
       " 5,\n",
       " 144,\n",
       " 30,\n",
       " 5535,\n",
       " 18,\n",
       " 51,\n",
       " 36,\n",
       " 28,\n",
       " 224,\n",
       " 92,\n",
       " 25,\n",
       " 104,\n",
       " 4,\n",
       " 226,\n",
       " 65,\n",
       " 16,\n",
       " 38,\n",
       " 1334,\n",
       " 88,\n",
       " 12,\n",
       " 16,\n",
       " 283,\n",
       " 5,\n",
       " 16,\n",
       " 4472,\n",
       " 113,\n",
       " 103,\n",
       " 32,\n",
       " 15,\n",
       " 16,\n",
       " 5345,\n",
       " 19,\n",
       " 178,\n",
       " 32]"
      ]
     },
     "execution_count": 30,
     "metadata": {},
     "output_type": "execute_result"
    }
   ],
   "source": [
    "x_train[0]"
   ]
  },
  {
   "cell_type": "code",
   "execution_count": 31,
   "metadata": {},
   "outputs": [
    {
     "data": {
      "text/plain": [
       "array([1, 0, 0, 1, 0])"
      ]
     },
     "execution_count": 31,
     "metadata": {},
     "output_type": "execute_result"
    }
   ],
   "source": [
    "y_train[0:5]"
   ]
  },
  {
   "cell_type": "code",
   "execution_count": 32,
   "metadata": {},
   "outputs": [
    {
     "name": "stdout",
     "output_type": "stream",
     "text": [
      "9999\n"
     ]
    }
   ],
   "source": [
    "# total number of words\n",
    "print(max([max(sequence) for sequence in x_train]))"
   ]
  },
  {
   "cell_type": "code",
   "execution_count": 33,
   "metadata": {},
   "outputs": [],
   "source": [
    "# decode back from indices to words\n",
    "word_index = imdb.get_word_index()"
   ]
  },
  {
   "cell_type": "code",
   "execution_count": 34,
   "metadata": {},
   "outputs": [
    {
     "name": "stdout",
     "output_type": "stream",
     "text": [
      "? this film was just brilliant casting location scenery story direction everyone's really suited the part they played and you could just imagine being there robert ? is an amazing actor and now the same being director ? father came from the same scottish island as myself so i loved the fact there was a real connection with this film the witty remarks throughout the film were great it was just brilliant so much that i bought the film as soon as it was released for ? and would recommend it to everyone to watch and the fly fishing was amazing really cried at the end it was so sad and you know what they say if you cry at a film it must have been good and this definitely was also ? to the two little boy's that played the ? of norman and paul they were just brilliant children are often left out of the ? list i think because the stars that play them all grown up are such a big profile for the whole film but these children are amazing and should be praised for what they have done don't you think the whole story was so lovely because it was true and was someone's life after all that was shared with us all\n"
     ]
    }
   ],
   "source": [
    "# reverse the word index by mapping indices to words\n",
    "reverse_word_index = dict([(value, key) for (key, value) in word_index.items()])\n",
    "decoded_review = ' '.join([reverse_word_index.get(i - 3, '?') for i in x_train[0]])\n",
    "print(decoded_review)"
   ]
  },
  {
   "cell_type": "code",
   "execution_count": 36,
   "metadata": {},
   "outputs": [],
   "source": [
    "def vectorize_sequences(sequences, dimension=10000):\n",
    "    results = np.zeros((len(sequences), dimension))\n",
    "    for i, sequence in enumerate(sequences):\n",
    "        results[i, sequence] = 1\n",
    "    return results"
   ]
  },
  {
   "cell_type": "code",
   "execution_count": 37,
   "metadata": {},
   "outputs": [],
   "source": [
    "x_train = vectorize_sequences(x_train)\n",
    "x_test = vectorize_sequences(x_test)"
   ]
  },
  {
   "cell_type": "code",
   "execution_count": 38,
   "metadata": {},
   "outputs": [
    {
     "name": "stdout",
     "output_type": "stream",
     "text": [
      "10000\n"
     ]
    }
   ],
   "source": [
    "print(len(x_train[0]))"
   ]
  },
  {
   "cell_type": "code",
   "execution_count": 39,
   "metadata": {},
   "outputs": [
    {
     "name": "stdout",
     "output_type": "stream",
     "text": [
      "10000\n"
     ]
    }
   ],
   "source": [
    "print(len(x_test[0]))"
   ]
  },
  {
   "cell_type": "code",
   "execution_count": 41,
   "metadata": {},
   "outputs": [],
   "source": [
    "y_train = np.asarray(y_train).astype('float32')\n",
    "y_test = np.asarray(y_test).astype('float32')"
   ]
  },
  {
   "cell_type": "code",
   "execution_count": 40,
   "metadata": {},
   "outputs": [],
   "source": [
    "from keras import models\n",
    "from keras import layers"
   ]
  },
  {
   "cell_type": "code",
   "execution_count": 42,
   "metadata": {},
   "outputs": [],
   "source": [
    "model = models.Sequential()\n",
    "model.add(layers.Dense(16, activation='relu', input_shape=(10000,)))\n",
    "model.add(layers.Dense(16, activation='relu'))\n",
    "model.add(layers.Dense(1, activation='sigmoid'))"
   ]
  },
  {
   "cell_type": "code",
   "execution_count": 43,
   "metadata": {},
   "outputs": [],
   "source": [
    "from keras import optimizers"
   ]
  },
  {
   "cell_type": "code",
   "execution_count": 44,
   "metadata": {},
   "outputs": [],
   "source": [
    "model.compile(optimizer= 'rmsprop',\n",
    "                      loss= 'binary_crossentropy',\n",
    "                      metrics= ['accuracy'])"
   ]
  },
  {
   "cell_type": "code",
   "execution_count": 45,
   "metadata": {},
   "outputs": [
    {
     "name": "stdout",
     "output_type": "stream",
     "text": [
      "_________________________________________________________________\n",
      "Layer (type)                 Output Shape              Param #   \n",
      "=================================================================\n",
      "dense_1 (Dense)              (None, 16)                160016    \n",
      "_________________________________________________________________\n",
      "dense_2 (Dense)              (None, 16)                272       \n",
      "_________________________________________________________________\n",
      "dense_3 (Dense)              (None, 1)                 17        \n",
      "=================================================================\n",
      "Total params: 160,305\n",
      "Trainable params: 160,305\n",
      "Non-trainable params: 0\n",
      "_________________________________________________________________\n"
     ]
    }
   ],
   "source": [
    "model.summary()"
   ]
  },
  {
   "cell_type": "code",
   "execution_count": 46,
   "metadata": {},
   "outputs": [],
   "source": [
    "# create validation data \n",
    "x_val = x_train[:10000]\n",
    "partial_x_train = x_train[10000:]"
   ]
  },
  {
   "cell_type": "code",
   "execution_count": 47,
   "metadata": {},
   "outputs": [],
   "source": [
    "# create validation labels\n",
    "y_val = y_train[:10000]\n",
    "partial_y_train = y_train[10000:]"
   ]
  },
  {
   "cell_type": "code",
   "execution_count": 48,
   "metadata": {},
   "outputs": [
    {
     "name": "stdout",
     "output_type": "stream",
     "text": [
      "Train on 15000 samples, validate on 10000 samples\n",
      "Epoch 1/5\n",
      "15000/15000 [==============================] - 2s 141us/step - loss: 0.3980 - acc: 0.8408 - val_loss: 0.2831 - val_acc: 0.8884\n",
      "Epoch 2/5\n",
      "15000/15000 [==============================] - 2s 116us/step - loss: 0.2101 - acc: 0.9210 - val_loss: 0.2752 - val_acc: 0.8901\n",
      "Epoch 3/5\n",
      "15000/15000 [==============================] - 2s 117us/step - loss: 0.1507 - acc: 0.9465 - val_loss: 0.3020 - val_acc: 0.8876\n",
      "Epoch 4/5\n",
      "15000/15000 [==============================] - 2s 117us/step - loss: 0.1141 - acc: 0.9599 - val_loss: 0.3448 - val_acc: 0.8828\n",
      "Epoch 5/5\n",
      "15000/15000 [==============================] - 2s 116us/step - loss: 0.0838 - acc: 0.9712 - val_loss: 0.3852 - val_acc: 0.8778\n"
     ]
    }
   ],
   "source": [
    "history = model.fit(partial_x_train,\n",
    "                    partial_y_train,\n",
    "                    epochs= 5,\n",
    "                    batch_size= 128,\n",
    "                    validation_data= (x_val, y_val))"
   ]
  },
  {
   "cell_type": "code",
   "execution_count": 49,
   "metadata": {},
   "outputs": [],
   "source": [
    "# plot training and validation accuracy\n",
    "acc = history.history['acc'] # retreive training accuracy from history\n",
    "val_acc = history.history['val_acc'] # retreive validation accuracy from history\n",
    "loss = history.history['loss'] # retreive training loss from history\n",
    "val_loss = history.history['val_loss'] # retreive validation loss from history"
   ]
  },
  {
   "cell_type": "code",
   "execution_count": 50,
   "metadata": {},
   "outputs": [
    {
     "data": {
      "image/png": "[encoded data removed]",
      "text/plain": [
       "<Figure size 432x288 with 1 Axes>"
      ]
     },
     "metadata": {
      "needs_background": "light"
     },
     "output_type": "display_data"
    },
    {
     "data": {
      "image/png": "[encoded data removed]",
      "text/plain": [
       "<Figure size 432x288 with 1 Axes>"
      ]
     },
     "metadata": {
      "needs_background": "light"
     },
     "output_type": "display_data"
    }
   ],
   "source": [
    "# two plots - one for loss and the other for accuract\n",
    "epochs = range(1, len(acc) + 1)\n",
    "\n",
    "# -- plot 1: Number of epochs vs. accuracy\n",
    "plt.plot(epochs, acc, 'bo', label= 'Training acc')\n",
    "plt.plot(epochs, val_acc, 'b', label= 'Validation acc')\n",
    "plt.title('Training and validation accuracy')\n",
    "plt.legend()\n",
    "plt.figure()\n",
    "\n",
    "# -- plot 2: Number of epochs vs. loss\n",
    "plt.plot(epochs, loss, 'bo', label='Training loss')\n",
    "plt.plot(epochs, val_loss, 'b', label='Validation loss')\n",
    "plt.title('Training and validation loss')\n",
    "plt.legend()\n",
    "plt.show()"
   ]
  },
  {
   "cell_type": "markdown",
   "metadata": {},
   "source": [
    "------"
   ]
  },
  {
   "cell_type": "markdown",
   "metadata": {},
   "source": [
    "# A.2: A slightly larger neural network"
   ]
  },
  {
   "cell_type": "code",
   "execution_count": 62,
   "metadata": {},
   "outputs": [],
   "source": [
    "model = models.Sequential()\n",
    "model.add(layers.Dense(5, activation='relu', input_shape=(10000, )))\n",
    "\n",
    "model.add(layers.Dense(1, activation='sigmoid'))"
   ]
  },
  {
   "cell_type": "code",
   "execution_count": 63,
   "metadata": {},
   "outputs": [],
   "source": [
    "model.compile(optimizer= 'rmsprop',\n",
    "                      loss= 'binary_crossentropy',\n",
    "                      metrics= ['accuracy'])"
   ]
  },
  {
   "cell_type": "code",
   "execution_count": 64,
   "metadata": {},
   "outputs": [
    {
     "name": "stdout",
     "output_type": "stream",
     "text": [
      "_________________________________________________________________\n",
      "Layer (type)                 Output Shape              Param #   \n",
      "=================================================================\n",
      "dense_13 (Dense)             (None, 5)                 50005     \n",
      "_________________________________________________________________\n",
      "dense_14 (Dense)             (None, 1)                 6         \n",
      "=================================================================\n",
      "Total params: 50,011\n",
      "Trainable params: 50,011\n",
      "Non-trainable params: 0\n",
      "_________________________________________________________________\n"
     ]
    }
   ],
   "source": [
    "model.summary()"
   ]
  },
  {
   "cell_type": "code",
   "execution_count": 65,
   "metadata": {},
   "outputs": [
    {
     "name": "stdout",
     "output_type": "stream",
     "text": [
      "Train on 15000 samples, validate on 10000 samples\n",
      "Epoch 1/10\n",
      "15000/15000 [==============================] - 2s 110us/step - loss: 0.4487 - acc: 0.8323 - val_loss: 0.3505 - val_acc: 0.8670\n",
      "Epoch 2/10\n",
      "15000/15000 [==============================] - 1s 94us/step - loss: 0.2689 - acc: 0.9082 - val_loss: 0.2889 - val_acc: 0.8879\n",
      "Epoch 3/10\n",
      "15000/15000 [==============================] - 1s 95us/step - loss: 0.2079 - acc: 0.9286 - val_loss: 0.2725 - val_acc: 0.8906\n",
      "Epoch 4/10\n",
      "15000/15000 [==============================] - 1s 94us/step - loss: 0.1727 - acc: 0.9410 - val_loss: 0.2685 - val_acc: 0.8922\n",
      "Epoch 5/10\n",
      "15000/15000 [==============================] - 1s 94us/step - loss: 0.1470 - acc: 0.9513 - val_loss: 0.2761 - val_acc: 0.8900\n",
      "Epoch 6/10\n",
      "15000/15000 [==============================] - 1s 94us/step - loss: 0.1280 - acc: 0.9571 - val_loss: 0.2835 - val_acc: 0.8874\n",
      "Epoch 7/10\n",
      "15000/15000 [==============================] - 1s 94us/step - loss: 0.1119 - acc: 0.9641 - val_loss: 0.2957 - val_acc: 0.8876\n",
      "Epoch 8/10\n",
      "15000/15000 [==============================] - 1s 94us/step - loss: 0.0986 - acc: 0.9690 - val_loss: 0.3085 - val_acc: 0.8847\n",
      "Epoch 9/10\n",
      "15000/15000 [==============================] - 1s 94us/step - loss: 0.0876 - acc: 0.9733 - val_loss: 0.3235 - val_acc: 0.8838\n",
      "Epoch 10/10\n",
      "15000/15000 [==============================] - 1s 94us/step - loss: 0.0779 - acc: 0.9765 - val_loss: 0.3393 - val_acc: 0.8821\n"
     ]
    }
   ],
   "source": [
    "history = model.fit(partial_x_train,\n",
    "                    partial_y_train,\n",
    "                    epochs= 10,\n",
    "                    batch_size= 128,\n",
    "                    validation_data= (x_val, y_val))"
   ]
  },
  {
   "cell_type": "code",
   "execution_count": 66,
   "metadata": {},
   "outputs": [
    {
     "data": {
      "image/png": "[encoded data removed]",
      "text/plain": [
       "<Figure size 432x288 with 1 Axes>"
      ]
     },
     "metadata": {
      "needs_background": "light"
     },
     "output_type": "display_data"
    },
    {
     "data": {
      "image/png": "[encoded data removed]",
      "text/plain": [
       "<Figure size 432x288 with 1 Axes>"
      ]
     },
     "metadata": {
      "needs_background": "light"
     },
     "output_type": "display_data"
    }
   ],
   "source": [
    "# plot training and validation accuracy\n",
    "acc = history.history['acc'] # retreive training accuracy from history\n",
    "val_acc = history.history['val_acc'] # retreive validation accuracy from history\n",
    "loss = history.history['loss'] # retreive training loss from history\n",
    "val_loss = history.history['val_loss'] # retreive validation loss from history\n",
    "\n",
    "# two plots - one for loss and the other for accuract\n",
    "epochs = range(1, len(acc) + 1)\n",
    "\n",
    "# -- plot 1: Number of epochs vs. accuracy\n",
    "plt.plot(epochs, acc, 'bo', label= 'Training acc')\n",
    "plt.plot(epochs, val_acc, 'b', label= 'Validation acc')\n",
    "plt.title('Training and validation accuracy')\n",
    "plt.legend()\n",
    "plt.figure()\n",
    "\n",
    "# -- plot 2: Number of epochs vs. loss\n",
    "plt.plot(epochs, loss, 'bo', label='Training loss')\n",
    "plt.plot(epochs, val_loss, 'b', label='Validation loss')\n",
    "plt.title('Training and validation loss')\n",
    "plt.legend()\n",
    "plt.show()"
   ]
  },
  {
   "cell_type": "markdown",
   "metadata": {},
   "source": [
    "-----"
   ]
  },
  {
   "cell_type": "markdown",
   "metadata": {},
   "source": [
    "### In-class exercise"
   ]
  },
  {
   "cell_type": "code",
   "execution_count": null,
   "metadata": {},
   "outputs": [],
   "source": [
    "# Build the following neural network:\n",
    "\n",
    "# 4 layers\n",
    "# 1. Layer 1: 64 nodes\n",
    "# 2. Layer 2: 64 nodes\n",
    "# 3. Layer 3: 32 nodes\n",
    "# 4. Layer 4: 32 nodes"
   ]
  },
  {
   "cell_type": "code",
   "execution_count": null,
   "metadata": {},
   "outputs": [],
   "source": [
    "# plot the accuracy and the loss for training and validation data"
   ]
  },
  {
   "cell_type": "markdown",
   "metadata": {},
   "source": [
    "---"
   ]
  },
  {
   "cell_type": "markdown",
   "metadata": {},
   "source": [
    "# 3. Define embedding matrices and model\n"
   ]
  },
  {
   "cell_type": "markdown",
   "metadata": {},
   "source": [
    "## 3.1. Model parameters"
   ]
  },
  {
   "cell_type": "code",
   "execution_count": 67,
   "metadata": {},
   "outputs": [],
   "source": [
    "# embedding parameters\n",
    "vocab_size = len(word_ix) \n",
    "input_size = vocab_size\n",
    "emb_size = 100"
   ]
  },
  {
   "cell_type": "code",
   "execution_count": 68,
   "metadata": {},
   "outputs": [
    {
     "data": {
      "text/plain": [
       "'Vocab size: 10001'"
      ]
     },
     "execution_count": 68,
     "metadata": {},
     "output_type": "execute_result"
    }
   ],
   "source": [
    "# size of vocabulary\n",
    "f\"Vocab size: {vocab_size}\""
   ]
  },
  {
   "cell_type": "markdown",
   "metadata": {},
   "source": [
    "## 3.2. Embedding layers\n",
    "### We use two embedding layers -- one for the target product and one for the context product"
   ]
  },
  {
   "cell_type": "code",
   "execution_count": 69,
   "metadata": {},
   "outputs": [
    {
     "data": {
      "text/plain": [
       "<tf.Tensor 'input_1:0' shape=(?, 1) dtype=float32>"
      ]
     },
     "execution_count": 69,
     "metadata": {},
     "output_type": "execute_result"
    }
   ],
   "source": [
    "# define input layers\n",
    "input_target = Input((1,))\n",
    "input_target\n"
   ]
  },
  {
   "cell_type": "code",
   "execution_count": 70,
   "metadata": {},
   "outputs": [
    {
     "data": {
      "text/plain": [
       "<tf.Tensor 'input_2:0' shape=(?, 1) dtype=float32>"
      ]
     },
     "execution_count": 70,
     "metadata": {},
     "output_type": "execute_result"
    }
   ],
   "source": [
    "input_context = Input((1,))\n",
    "input_context"
   ]
  },
  {
   "cell_type": "code",
   "execution_count": 71,
   "metadata": {},
   "outputs": [
    {
     "data": {
      "text/plain": [
       "<tf.Tensor 'reshape_1/Reshape:0' shape=(?, 100, 1) dtype=float32>"
      ]
     },
     "execution_count": 71,
     "metadata": {},
     "output_type": "execute_result"
    }
   ],
   "source": [
    "# define embedding layers\n",
    "# target\n",
    "target = Embedding(input_dim = vocab_size, output_dim= emb_size, name = \"rho\")(input_target)\n",
    "target = Reshape(target_shape = (emb_size, 1))(target)\n",
    "target"
   ]
  },
  {
   "cell_type": "code",
   "execution_count": 72,
   "metadata": {},
   "outputs": [
    {
     "data": {
      "text/plain": [
       "<tf.Tensor 'reshape_2/Reshape:0' shape=(?, 100, 1) dtype=float32>"
      ]
     },
     "execution_count": 72,
     "metadata": {},
     "output_type": "execute_result"
    }
   ],
   "source": [
    "# context\n",
    "context = Embedding(input_dim = vocab_size, output_dim= emb_size, name = \"alpha\")(input_context)\n",
    "context = Reshape(target_shape = (emb_size, 1))(context)\n",
    "context"
   ]
  },
  {
   "cell_type": "code",
   "execution_count": 73,
   "metadata": {},
   "outputs": [
    {
     "data": {
      "text/plain": [
       "[<tf.Tensor 'input_1:0' shape=(?, 1) dtype=float32>,\n",
       " <tf.Tensor 'input_2:0' shape=(?, 1) dtype=float32>]"
      ]
     },
     "execution_count": 73,
     "metadata": {},
     "output_type": "execute_result"
    }
   ],
   "source": [
    "# concatenate model inputs and outputs\n",
    "input_model = [input_target, input_context]\n",
    "input_model"
   ]
  },
  {
   "cell_type": "code",
   "execution_count": 74,
   "metadata": {
    "scrolled": true
   },
   "outputs": [
    {
     "data": {
      "text/plain": [
       "<tf.Tensor 'dot_1/MatMul:0' shape=(?, 1, 1) dtype=float32>"
      ]
     },
     "execution_count": 74,
     "metadata": {},
     "output_type": "execute_result"
    }
   ],
   "source": [
    "output_embeddings = Dot(axes = 1)([target, context])\n",
    "output_embeddings"
   ]
  },
  {
   "cell_type": "code",
   "execution_count": 75,
   "metadata": {},
   "outputs": [
    {
     "data": {
      "text/plain": [
       "<tf.Tensor 'flatten_1/Reshape:0' shape=(?, ?) dtype=float32>"
      ]
     },
     "execution_count": 75,
     "metadata": {},
     "output_type": "execute_result"
    }
   ],
   "source": [
    "# resize embeddings\n",
    "#output_model = Reshape((1,))(output_embeddings)\n",
    "output_model = Flatten()(output_embeddings)\n",
    "output_model"
   ]
  },
  {
   "cell_type": "code",
   "execution_count": 81,
   "metadata": {},
   "outputs": [],
   "source": [
    "# complete model\n",
    "output_model = Dense(1, activation = \"sigmoid\")(output_model)"
   ]
  },
  {
   "cell_type": "markdown",
   "metadata": {},
   "source": [
    "## 3.3. Complete model"
   ]
  },
  {
   "cell_type": "code",
   "execution_count": 82,
   "metadata": {},
   "outputs": [
    {
     "data": {
      "text/plain": [
       "<keras.engine.training.Model at 0x7f8e0808b160>"
      ]
     },
     "execution_count": 82,
     "metadata": {},
     "output_type": "execute_result"
    }
   ],
   "source": [
    "# define as keras model\n",
    "pemb_model = Model(inputs = input_model, outputs = output_model)\n",
    "pemb_model"
   ]
  },
  {
   "cell_type": "code",
   "execution_count": 83,
   "metadata": {},
   "outputs": [
    {
     "data": {
      "text/plain": [
       "<keras.optimizers.Adam at 0x7f8d7c13eb00>"
      ]
     },
     "execution_count": 83,
     "metadata": {},
     "output_type": "execute_result"
    }
   ],
   "source": [
    "# optimizer\n",
    "adam = optimizers.Adam(lr = 0.01, beta_1 = 0.9, beta_2 = 0.999, epsilon = None, decay = 0.0, amsgrad = False)\n",
    "adam"
   ]
  },
  {
   "cell_type": "code",
   "execution_count": 84,
   "metadata": {},
   "outputs": [],
   "source": [
    "# compile model\n",
    "pemb_model.compile(optimizer = adam, loss = 'binary_crossentropy', metrics = ['acc'])"
   ]
  },
  {
   "cell_type": "code",
   "execution_count": 85,
   "metadata": {},
   "outputs": [
    {
     "name": "stdout",
     "output_type": "stream",
     "text": [
      "__________________________________________________________________________________________________\n",
      "Layer (type)                    Output Shape         Param #     Connected to                     \n",
      "==================================================================================================\n",
      "input_1 (InputLayer)            (None, 1)            0                                            \n",
      "__________________________________________________________________________________________________\n",
      "input_2 (InputLayer)            (None, 1)            0                                            \n",
      "__________________________________________________________________________________________________\n",
      "rho (Embedding)                 (None, 1, 100)       1000100     input_1[0][0]                    \n",
      "__________________________________________________________________________________________________\n",
      "alpha (Embedding)               (None, 1, 100)       1000100     input_2[0][0]                    \n",
      "__________________________________________________________________________________________________\n",
      "reshape_1 (Reshape)             (None, 100, 1)       0           rho[0][0]                        \n",
      "__________________________________________________________________________________________________\n",
      "reshape_2 (Reshape)             (None, 100, 1)       0           alpha[0][0]                      \n",
      "__________________________________________________________________________________________________\n",
      "dot_1 (Dot)                     (None, 1, 1)         0           reshape_1[0][0]                  \n",
      "                                                                 reshape_2[0][0]                  \n",
      "__________________________________________________________________________________________________\n",
      "flatten_1 (Flatten)             (None, 1)            0           dot_1[0][0]                      \n",
      "__________________________________________________________________________________________________\n",
      "dense_15 (Dense)                (None, 1)            2           flatten_1[0][0]                  \n",
      "__________________________________________________________________________________________________\n",
      "dense_16 (Dense)                (None, 1)            2           dense_15[0][0]                   \n",
      "==================================================================================================\n",
      "Total params: 2,000,204\n",
      "Trainable params: 2,000,204\n",
      "Non-trainable params: 0\n",
      "__________________________________________________________________________________________________\n"
     ]
    }
   ],
   "source": [
    "# model summary\n",
    "pemb_model.summary()"
   ]
  },
  {
   "cell_type": "markdown",
   "metadata": {},
   "source": [
    "# 3.4. Initial product embeddings"
   ]
  },
  {
   "cell_type": "code",
   "execution_count": 86,
   "metadata": {
    "scrolled": true
   },
   "outputs": [
    {
     "name": "stdout",
     "output_type": "stream",
     "text": [
      "(10001, 100)\n"
     ]
    }
   ],
   "source": [
    "# initial weights - rho\n",
    "init_alpha = pemb_model.get_layer(\"alpha\").get_weights()[0]\n",
    "print(init_alpha.shape)"
   ]
  },
  {
   "cell_type": "code",
   "execution_count": 87,
   "metadata": {},
   "outputs": [
    {
     "data": {
      "text/plain": [
       "array([ 0.04743547,  0.03147391,  0.02644375,  0.02294311, -0.03555978,\n",
       "        0.01922715,  0.0026962 , -0.017795  , -0.04845895, -0.00272468,\n",
       "       -0.03679045,  0.00970842, -0.0025396 ,  0.03267771,  0.03299726,\n",
       "        0.04015872,  0.02671647, -0.00871753, -0.02681082, -0.0179525 ,\n",
       "        0.01791267, -0.02572968, -0.04812381, -0.02566551,  0.03257937,\n",
       "       -0.01344915,  0.0489605 ,  0.04357055,  0.03825514, -0.04108626,\n",
       "       -0.04635025, -0.03848674, -0.00350674,  0.01539049,  0.04798076,\n",
       "        0.04549198,  0.02345065,  0.04040087, -0.03620946,  0.04540867,\n",
       "       -0.00418606,  0.0093987 , -0.01539163,  0.04401663,  0.03208424,\n",
       "        0.03889683,  0.04198777,  0.0186077 ,  0.00199364,  0.0404078 ,\n",
       "       -0.01062282,  0.00491907,  0.00899701,  0.03226468,  0.03952773,\n",
       "       -0.04615632,  0.01010431, -0.04288905,  0.00345873,  0.03092811,\n",
       "       -0.01449853,  0.01072948, -0.01718098,  0.0293726 , -0.04065629,\n",
       "        0.01985815,  0.00233733, -0.02091073, -0.00616188, -0.00909039,\n",
       "       -0.01473415,  0.04274244, -0.01416714, -0.04094855, -0.04057793,\n",
       "        0.02363646,  0.04890958,  0.01072199,  0.03930402,  0.02725878,\n",
       "       -0.03429309, -0.02000375, -0.0211152 , -0.0280529 , -0.00860371,\n",
       "        0.00828307, -0.02875842,  0.04579503, -0.00974456,  0.02250559,\n",
       "        0.01458478,  0.04897911,  0.03433402, -0.02304043,  0.03678383,\n",
       "        0.03683213, -0.01912173,  0.04805357, -0.02949189,  0.04244888],\n",
       "      dtype=float32)"
      ]
     },
     "execution_count": 87,
     "metadata": {},
     "output_type": "execute_result"
    }
   ],
   "source": [
    "# check the (random) initial embeddings for a product\n",
    "init_alpha[345]"
   ]
  },
  {
   "cell_type": "markdown",
   "metadata": {},
   "source": [
    "----"
   ]
  },
  {
   "cell_type": "markdown",
   "metadata": {},
   "source": [
    "# 4. Prepare batches for model"
   ]
  },
  {
   "cell_type": "code",
   "execution_count": 88,
   "metadata": {},
   "outputs": [],
   "source": [
    "# sampling table\n",
    "sampling_table = sequence.make_sampling_table(vocab_size)"
   ]
  },
  {
   "cell_type": "code",
   "execution_count": 89,
   "metadata": {},
   "outputs": [],
   "source": [
    "# context size and negative samples\n",
    "ns = 10.0\n",
    "cs = 5"
   ]
  },
  {
   "cell_type": "code",
   "execution_count": 90,
   "metadata": {},
   "outputs": [],
   "source": [
    "def BatchGenerator(training = True):\n",
    "    i = 0\n",
    "    while True:\n",
    "        if training:\n",
    "            order_data = random.sample(train_orders_ix, batch_size)\n",
    "        else:\n",
    "            order_data = random.sample(val_orders_ix, batch_size)\n",
    "        iv = []\n",
    "        dv =[]\n",
    "        for d in order_data:\n",
    "            couples, labels = skipgrams(d, vocabulary_size = vocab_size, window_size = cs,\n",
    "                                        negative_samples = ns, sampling_table = sampling_table)\n",
    "            iv = iv + couples\n",
    "            dv = dv + labels\n",
    "        i += 1\n",
    "        X = np.array(iv, dtype = \"int32\")\n",
    "        X = [X[:, 0], X[:, 1]]\n",
    "        yield X, dv"
   ]
  },
  {
   "cell_type": "code",
   "execution_count": 91,
   "metadata": {},
   "outputs": [],
   "source": [
    "# parameters\n",
    "batch_size = 64\n",
    "num_epochs = 1\n",
    "\n",
    "# training data generator\n",
    "train_gen = BatchGenerator(training = True)\n",
    "\n",
    "# validation data generator\n",
    "val_gen = BatchGenerator(training = False)\n",
    "\n",
    "# history\n",
    "history = History()"
   ]
  },
  {
   "cell_type": "markdown",
   "metadata": {},
   "source": [
    "----"
   ]
  },
  {
   "cell_type": "markdown",
   "metadata": {},
   "source": [
    "# 5. Train model\n",
    "### This could take a while"
   ]
  },
  {
   "cell_type": "code",
   "execution_count": null,
   "metadata": {},
   "outputs": [
    {
     "name": "stdout",
     "output_type": "stream",
     "text": [
      "Epoch 1/1\n",
      "15625/15625 [==============================] - 1031s 66ms/step - loss: 0.2168 - acc: 0.9214 - val_loss: 0.2075 - val_acc: 0.9250\n"
     ]
    }
   ],
   "source": [
    "# train model\n",
    "t0 = time.time()\n",
    "pemb_model.fit_generator(generator = train_gen, \n",
    "                         steps_per_epoch = len(train_orders_ix)//batch_size,\n",
    "                         epochs = num_epochs,\n",
    "                         workers = cpus, \n",
    "                         use_multiprocessing = True, \n",
    "                         validation_data = val_gen,\n",
    "                         validation_steps = len(val_orders_ix)//batch_size,\n",
    "                         callbacks = [history])\n",
    "t1 = time.time()"
   ]
  },
  {
   "cell_type": "code",
   "execution_count": null,
   "metadata": {},
   "outputs": [],
   "source": [
    "# time taken\n",
    "t1 - t0"
   ]
  },
  {
   "cell_type": "code",
   "execution_count": null,
   "metadata": {},
   "outputs": [],
   "source": [
    "# history\n",
    "history.history"
   ]
  },
  {
   "cell_type": "markdown",
   "metadata": {},
   "source": [
    "------"
   ]
  },
  {
   "cell_type": "markdown",
   "metadata": {},
   "source": [
    "# 6. Model results"
   ]
  },
  {
   "cell_type": "code",
   "execution_count": null,
   "metadata": {},
   "outputs": [],
   "source": [
    "# final weights - target words\n",
    "final_alpha = pemb_model.get_layer(\"alpha\").get_weights()[0]"
   ]
  },
  {
   "cell_type": "code",
   "execution_count": null,
   "metadata": {},
   "outputs": [],
   "source": [
    "init_alpha[61]"
   ]
  },
  {
   "cell_type": "code",
   "execution_count": null,
   "metadata": {},
   "outputs": [],
   "source": [
    "final_alpha[61]"
   ]
  },
  {
   "cell_type": "code",
   "execution_count": null,
   "metadata": {},
   "outputs": [],
   "source": [
    "#===============================================\n",
    "# extract embeddings to data frame\n",
    "#===============================================\n",
    "\n",
    "def EmbToDataFrame(ix_word, emb_mat, col_prefix = \"rho\"):\n",
    "    emb_df = {ix_word[i]: list(emb_mat[i]) for i in ix_word.keys()}\n",
    "    emb_df = pd.DataFrame.from_dict(emb_df, orient = \"columns\")\n",
    "    emb_df = emb_df.transpose().reset_index(drop = False)\n",
    "    emb_df.columns = [\"product_id\"] + [col_prefix + str(i + 1) for i in range(emb_df.shape[1] - 1)]\n",
    "    return emb_df"
   ]
  },
  {
   "cell_type": "code",
   "execution_count": null,
   "metadata": {},
   "outputs": [],
   "source": [
    "# get data frame from alpha matrix\n",
    "alpha_df = EmbToDataFrame(ix_word, emb_mat = final_alpha, col_prefix = \"alpha\")\n",
    "display(alpha_df.head())"
   ]
  },
  {
   "cell_type": "markdown",
   "metadata": {},
   "source": [
    "## 6.1. Compute similarity between products"
   ]
  },
  {
   "cell_type": "code",
   "execution_count": null,
   "metadata": {},
   "outputs": [],
   "source": [
    "#===============================================\n",
    "# similarity in alpha matrix\n",
    "#===============================================\n",
    "\n",
    "alpha_sim = cosine_similarity(alpha_df.iloc[:, 1:])\n",
    "alpha_sim = pd.DataFrame(alpha_sim)\n",
    "alpha_sim.reset_index(inplace = True, drop = True)\n",
    "alpha_sim.index = list(alpha_df[\"product_id\"].values)\n",
    "alpha_sim.columns = list(alpha_df[\"product_id\"].values)\n",
    "display(alpha_sim.head())"
   ]
  },
  {
   "cell_type": "code",
   "execution_count": null,
   "metadata": {},
   "outputs": [],
   "source": [
    "# compute similarity\n",
    "def ComputeProductSimilarity(prod_id, alpha_sim, top = 5, include_prod_info = True):\n",
    "    sim = alpha_sim.loc[:, prod_id]\n",
    "    sim = sim.sort_values(ascending = False)\n",
    "    sim = sim[1:][0:top]\n",
    "    sim = pd.DataFrame({\"product_id\" : list(sim.index), \"score\": sim}, index = None)\n",
    "    if include_prod_info:\n",
    "        sim = products.loc[products[\"product_id\"].isin(sim[\"product_id\"]), [\"product_id\", \"product_name\", \"aisle\", \"department\"]]\n",
    "    return sim"
   ]
  },
  {
   "cell_type": "code",
   "execution_count": null,
   "metadata": {},
   "outputs": [],
   "source": [
    "prod_id = \"100\"\n",
    "products.loc[products[\"product_id\"].isin([prod_id]), [\"product_id\", \"product_name\", \"aisle\", \"department\"]]"
   ]
  },
  {
   "cell_type": "code",
   "execution_count": null,
   "metadata": {},
   "outputs": [],
   "source": [
    "ComputeProductSimilarity(prod_id = prod_id, alpha_sim = alpha_sim, top = 10, include_prod_info = True)"
   ]
  },
  {
   "cell_type": "markdown",
   "metadata": {},
   "source": [
    "----"
   ]
  },
  {
   "cell_type": "markdown",
   "metadata": {},
   "source": [
    "### In-class exercise"
   ]
  },
  {
   "cell_type": "code",
   "execution_count": null,
   "metadata": {},
   "outputs": [],
   "source": [
    "# Find most similar products to the following product\n",
    "prod_id = \"927\"\n",
    "products.loc[products[\"product_id\"].isin([prod_id]), [\"product_id\", \"product_name\", \"aisle\", \"department\"]]"
   ]
  },
  {
   "cell_type": "markdown",
   "metadata": {},
   "source": [
    "----"
   ]
  },
  {
   "cell_type": "code",
   "execution_count": null,
   "metadata": {},
   "outputs": [],
   "source": [
    "# Find most similar products to the following product\n",
    "prod_id = \"9964\"\n",
    "products.loc[products[\"product_id\"].isin([prod_id]), [\"product_id\", \"product_name\", \"aisle\", \"department\"]]"
   ]
  },
  {
   "cell_type": "markdown",
   "metadata": {},
   "source": [
    "----"
   ]
  },
  {
   "cell_type": "markdown",
   "metadata": {},
   "source": [
    "--------"
   ]
  },
  {
   "cell_type": "markdown",
   "metadata": {},
   "source": [
    "# 7. Product maps using t-sne "
   ]
  },
  {
   "cell_type": "markdown",
   "metadata": {},
   "source": [
    "## Merge product vectors with product info"
   ]
  },
  {
   "cell_type": "code",
   "execution_count": null,
   "metadata": {},
   "outputs": [],
   "source": [
    "#===============================================\n",
    "# column formats\n",
    "#===============================================\n",
    "\n",
    "alpha_df[\"product_id\"] = alpha_df[\"product_id\"].astype(str)\n",
    "products[\"product_id\"] = products[\"product_id\"].astype(str)"
   ]
  },
  {
   "cell_type": "code",
   "execution_count": null,
   "metadata": {},
   "outputs": [],
   "source": [
    "#===============================================\n",
    "# merge relevant columns\n",
    "#===============================================\n",
    "\n",
    "# relevant columns from product info\n",
    "prod_info_cols = [\"product_id\", \"product_name\", \"department\", \"aisle\"]\n",
    "\n",
    "# merge\n",
    "word_vec_df = pd.merge(products[prod_info_cols], alpha_df, on = \"product_id\", how = \"inner\")\n",
    "print(word_vec_df.shape)"
   ]
  },
  {
   "cell_type": "code",
   "execution_count": null,
   "metadata": {},
   "outputs": [],
   "source": [
    "display(word_vec_df.head(10))"
   ]
  },
  {
   "cell_type": "markdown",
   "metadata": {},
   "source": [
    "## 9.1. Fit t-sne"
   ]
  },
  {
   "cell_type": "code",
   "execution_count": null,
   "metadata": {},
   "outputs": [],
   "source": [
    "#===============================================\n",
    "# fit t-sne\n",
    "#===============================================\n",
    "\n",
    "# define model\n",
    "tsne = TSNE(n_components = 2, verbose = 1, perplexity = 35, n_iter = 400)"
   ]
  },
  {
   "cell_type": "code",
   "execution_count": null,
   "metadata": {},
   "outputs": [],
   "source": [
    "# columns to fit on\n",
    "w2v_vec_names = list(word_vec_df.columns)[4:]\n",
    "\n",
    "# fit\n",
    "t0 = time.time()\n",
    "tsne_fit = tsne.fit_transform(word_vec_df[w2v_vec_names])\n",
    "t1 = time.time()"
   ]
  },
  {
   "cell_type": "code",
   "execution_count": null,
   "metadata": {},
   "outputs": [],
   "source": [
    "# time taken\n",
    "f\"Time Taken: {t1 - t0}\""
   ]
  },
  {
   "cell_type": "markdown",
   "metadata": {},
   "source": [
    "## T-sne component data frame"
   ]
  },
  {
   "cell_type": "code",
   "execution_count": null,
   "metadata": {},
   "outputs": [],
   "source": [
    "#===============================================\n",
    "# create t-sne data frame\n",
    "#===============================================\n",
    "\n",
    "tsne_df = word_vec_df[[\"product_name\", \"department\", \"aisle\"]]\n",
    "\n",
    "# extract t-sne dimensions\n",
    "tsne_df[\"x_tsne\"] = tsne_fit[:,0]\n",
    "tsne_df[\"y_tsne\"] = tsne_fit[:,1]\n",
    "print(tsne_df.describe())"
   ]
  },
  {
   "cell_type": "code",
   "execution_count": null,
   "metadata": {},
   "outputs": [],
   "source": [
    "display(tsne_df.head(20))"
   ]
  },
  {
   "cell_type": "markdown",
   "metadata": {},
   "source": [
    "## Plot with ggplot"
   ]
  },
  {
   "cell_type": "code",
   "execution_count": null,
   "metadata": {},
   "outputs": [],
   "source": [
    "#===============================================\n",
    "# subset data for plot\n",
    "#===============================================\n",
    "\n",
    "# select only top departments\n",
    "select_dept = [\"produce\", \"babies\", \"beverages\"]\n",
    "tsne_plot_df = tsne_df.loc[tsne_df[\"department\"].isin(select_dept), :]\n",
    "print(tsne_plot_df.shape)"
   ]
  },
  {
   "cell_type": "code",
   "execution_count": null,
   "metadata": {},
   "outputs": [],
   "source": [
    "tsne_plot = ggplot(tsne_plot_df, aes(x = \"x_tsne\", y = \"y_tsne\", color = \"department\") ) \\\n",
    "        + geom_point(size = 70, alpha = 0.5) \\\n",
    "        + ggtitle(\"T-sne on product vectors\") \\\n",
    "        + xlab(\" \") + ylab(\" \")\n",
    "tsne_plot"
   ]
  },
  {
   "cell_type": "markdown",
   "metadata": {},
   "source": [
    "----"
   ]
  },
  {
   "cell_type": "markdown",
   "metadata": {},
   "source": [
    "# Class exercise - training embeddings"
   ]
  },
  {
   "cell_type": "code",
   "execution_count": null,
   "metadata": {},
   "outputs": [],
   "source": [
    "# Please train embeddings with the following specifcations\n",
    "# embedding size = 50\n",
    "# negative samples = 12\n",
    "# context size = 8\n",
    "# optimizer = rmsprop\n",
    "# optimizer learning rate = 0.025\n",
    "# batch size = 128\n",
    "# epochs = 1"
   ]
  },
  {
   "cell_type": "code",
   "execution_count": null,
   "metadata": {},
   "outputs": [],
   "source": [
    "####### You are welcome to use the following skeleton code\n",
    "\n",
    "\n",
    "# define input layers\n",
    "input_target = Input((1,))\n",
    "input_context = Input((1,))\n",
    "\n",
    "# define embedding layers\n",
    "\n",
    "# target\n",
    "target = Embedding(input_dim = vocab_size, output_dim= emb_size, name = \"rho\")(input_target)\n",
    "target = Reshape(target_shape = (emb_size, 1))(target)\n",
    "\n",
    "# context\n",
    "context = Embedding(input_dim = vocab_size, output_dim= emb_size, name = \"alpha\")(input_context)\n",
    "context = Reshape(target_shape = (emb_size, 1))(context)\n",
    "\n",
    "# concatenate model inputs and outputs\n",
    "input_model = [input_target, input_context]\n",
    "\n",
    "output_embeddings = Dot(axes = 1)([target, context])\n",
    "output_embeddings\n",
    "\n",
    "# resize embeddings\n",
    "#output_model = Reshape((1,))(output_embeddings)\n",
    "output_model = Flatten()(output_embeddings)\n",
    "output_model\n",
    "\n",
    "# complete model\n",
    "output_model = Dense(1, activation = \"sigmoid\")(output_model)\n",
    "\n",
    "# define as keras model\n",
    "new_model = Model(inputs = input_model, outputs = output_model)\n",
    "\n",
    "# optimizer\n",
    "#### rmsprop\n",
    "\n",
    "# compile model\n",
    "# new_model.compile(optimizer = xxxx, loss = 'binary_crossentropy', metrics = ['acc'])\n",
    "\n",
    "# model summary\n",
    "# new_model.summary()"
   ]
  },
  {
   "cell_type": "code",
   "execution_count": null,
   "metadata": {},
   "outputs": [],
   "source": []
  },
  {
   "cell_type": "code",
   "execution_count": null,
   "metadata": {},
   "outputs": [],
   "source": []
  },
  {
   "cell_type": "code",
   "execution_count": null,
   "metadata": {},
   "outputs": [],
   "source": []
  }
 ],
 "metadata": {
  "kernelspec": {
   "display_name": "Python 3",
   "language": "python",
   "name": "python3"
  },
  "language_info": {
   "codemirror_mode": {
    "name": "ipython",
    "version": 3
   },
   "file_extension": ".py",
   "mimetype": "text/x-python",
   "name": "python",
   "nbconvert_exporter": "python",
   "pygments_lexer": "ipython3",
   "version": "3.6.7"
  }
 },
 "nbformat": 4,
 "nbformat_minor": 2
}
