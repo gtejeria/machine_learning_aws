{
 "cells": [
  {
   "cell_type": "markdown",
   "metadata": {},
   "source": [
    "# MIT-GSL Uruguay \n",
    "\n",
    "## January 2020"
   ]
  },
  {
   "cell_type": "markdown",
   "metadata": {},
   "source": [
    "-----"
   ]
  },
  {
   "cell_type": "markdown",
   "metadata": {},
   "source": [
    "# Week - 2 | Lesson - 03 \n",
    "# NLP: Product embeddings"
   ]
  },
  {
   "cell_type": "markdown",
   "metadata": {},
   "source": [
    "1. After introducing the concept of embeddings through NLP, we extend the notion of embeddings to other settings\n",
    "2. Note that embeddings are dense continuous representations for discrete, sparse tokens - this makes embeddings widely applicable\n",
    "3. We will use the concept of embeddings to understand the world of e-commerce better "
   ]
  },
  {
   "cell_type": "markdown",
   "metadata": {},
   "source": [
    "---"
   ]
  },
  {
   "cell_type": "markdown",
   "metadata": {},
   "source": [
    "# Word2Vec and its Applications to Market-Basket Data"
   ]
  },
  {
   "cell_type": "markdown",
   "metadata": {},
   "source": [
    "# Instacart Grocery Dataset\n",
    "\n",
    "### Source: https://www.instacart.com/datasets/grocery-shopping-2017\n",
    "\n",
    "1. Instacart is an online grocery delivery service\n",
    "2. They have made available 3M grocery orders for over 200K users\n",
    "3. They provide between 4 to 100 orders for each user and each order contains the sequence of products purchased\n",
    "4. We also have a brief description of the products\n",
    "\n",
    "### Overview:\n",
    "1. We will use this data to build an understanding of word embeddings and investigate their application to downstream tasks\n",
    "2. For this purpose, we will consider each purchase basket to be a sentence with an unordered sequence of words"
   ]
  },
  {
   "cell_type": "markdown",
   "metadata": {},
   "source": [
    "---"
   ]
  },
  {
   "cell_type": "markdown",
   "metadata": {},
   "source": [
    "# 0. Import Modules"
   ]
  },
  {
   "cell_type": "code",
   "execution_count": 97,
   "metadata": {},
   "outputs": [],
   "source": [
    "# ==============================================\n",
    "# 0. Module imports\n",
    "# ==============================================\n",
    "\n",
    "import pandas as pd\n",
    "pd.options.display.max_colwidth = 100\n",
    "import numpy as np\n",
    "from itertools import product\n",
    "import csv\n",
    "\n",
    "# w2v\n",
    "import gensim\n",
    "\n",
    "# text processing\n",
    "from nltk import sent_tokenize, word_tokenize\n",
    "from nltk.tokenize import ToktokTokenizer\n",
    "import string\n",
    "import re # regular expressions\n",
    "from sklearn.feature_extraction.text import CountVectorizer, TfidfVectorizer\n",
    "from sklearn.linear_model import LogisticRegression\n",
    "from sklearn.metrics import roc_auc_score\n",
    "from sklearn.metrics.pairwise import cosine_similarity\n",
    "\n",
    "# T-Sne\n",
    "#import umap\n",
    "#from openTSNE import TSNE, TSNEEmbedding, affinity, initialization\n",
    "#from openTSNE import initialization\n",
    "#from openTSNE.callbacks import ErrorLogger\n",
    "from sklearn.manifold import TSNE\n",
    "\n",
    "\n",
    "# utils\n",
    "from sklearn import utils\n",
    "\n",
    "\n",
    "# parallel processing\n",
    "import multiprocessing\n",
    "from joblib import delayed, Parallel\n",
    "\n",
    "# time code\n",
    "import time\n",
    "\n",
    "# 2-d visualiztion\n",
    "%matplotlib inline\n",
    "from ggplot import *\n",
    "import matplotlib.pyplot as plt\n",
    "import warnings\n",
    "warnings.filterwarnings(\"ignore\")\n",
    "\n",
    "import os\n",
    "# os.chdir(\"/pool001/madhavk/gsl-uruguay/W-02-NLP/\")\n"
   ]
  },
  {
   "cell_type": "code",
   "execution_count": 98,
   "metadata": {},
   "outputs": [],
   "source": [
    "# =========================================================\n",
    "# set directories\n",
    "# =========================================================\n",
    "\n",
    "import os\n",
    "EC2 = True  # If using EC2 (for data directory/paths)\n",
    "\n",
    "# Select path based off of local or remote\n",
    "if not EC2:\n",
    "    wd = \"/pool001/madhavk/gsl-uruguay/W-02-NLP/\"\n",
    "else:\n",
    "    wd = \"/home/ubuntu/machine_learning_aws/\"\n",
    "os.chdir(wd)\n",
    "\n",
    "EC2 = True  # If using EC2 (for data directory/paths)\n",
    "if not EC2:\n",
    "    # raw data\n",
    "    raw_data_dir = \"nlp-data/in-grocery/instacart_2017_05_01/\"\n",
    "    # processed data\n",
    "    process_dir = \"nlp-data/in-grocery/prepared-data/\"  \n",
    "else:\n",
    "    # raw data\n",
    "    raw_data_dir = \"data/in-grocery/instacart_2017_05_01\"\n",
    "    # processed data\n",
    "    process_dir = \"data/in-grocery/prepared-data/\""
   ]
  },
  {
   "cell_type": "code",
   "execution_count": 99,
   "metadata": {},
   "outputs": [
    {
     "data": {
      "text/plain": [
       "['orders-split-v1.csv',\n",
       " 'all-orders-wide-v1.csv',\n",
       " 'all-orders-long-v1.csv',\n",
       " 'products-merged-v1.csv']"
      ]
     },
     "execution_count": 99,
     "metadata": {},
     "output_type": "execute_result"
    }
   ],
   "source": [
    "# =========================================================\n",
    "# processed files\n",
    "# =========================================================\n",
    "\n",
    "os.listdir(process_dir)"
   ]
  },
  {
   "cell_type": "code",
   "execution_count": 100,
   "metadata": {},
   "outputs": [
    {
     "data": {
      "text/plain": [
       "'Number of CPUs: 4'"
      ]
     },
     "execution_count": 100,
     "metadata": {},
     "output_type": "execute_result"
    }
   ],
   "source": [
    "# =========================================================\n",
    "# global parameters\n",
    "# =========================================================\n",
    "\n",
    "# show entire value of cell in pandas\n",
    "pd.set_option('display.max_colwidth', -1)\n",
    "pd.set_option('display.max_columns', 500)\n",
    "\n",
    "# number of cpus\n",
    "cpus = multiprocessing.cpu_count()\n",
    "f\"Number of CPUs: {cpus}\""
   ]
  },
  {
   "cell_type": "markdown",
   "metadata": {},
   "source": [
    "------"
   ]
  },
  {
   "cell_type": "markdown",
   "metadata": {},
   "source": [
    "# 1. Import grocery data"
   ]
  },
  {
   "cell_type": "markdown",
   "metadata": {},
   "source": [
    "## 1.1. Order level data"
   ]
  },
  {
   "cell_type": "code",
   "execution_count": 101,
   "metadata": {},
   "outputs": [
    {
     "name": "stdout",
     "output_type": "stream",
     "text": [
      "(3152555, 4)\n"
     ]
    }
   ],
   "source": [
    "# =========================================================\n",
    "# order-level data\n",
    "# =========================================================\n",
    "\n",
    "orders_wide = pd.read_csv(process_dir + \"all-orders-wide-v1.csv\")\n",
    "# This data set has one row per order with the products ordered in the product_id column. \n",
    "# Products are separated by space.\n",
    "print(orders_wide.shape)"
   ]
  },
  {
   "cell_type": "code",
   "execution_count": 102,
   "metadata": {},
   "outputs": [
    {
     "data": {
      "text/html": [
       "<div>\n",
       "<table border=\"1\" class=\"dataframe\">\n",
       "  <thead>\n",
       "    <tr style=\"text-align: right;\">\n",
       "      <th></th>\n",
       "      <th>order_id</th>\n",
       "      <th>product_id</th>\n",
       "      <th>num_products</th>\n",
       "      <th>eval</th>\n",
       "    </tr>\n",
       "  </thead>\n",
       "  <tbody>\n",
       "    <tr>\n",
       "      <th>0</th>\n",
       "      <td>2</td>\n",
       "      <td>33120 28985 9327 45918 30035 17794 40141 1819</td>\n",
       "      <td>8</td>\n",
       "      <td>prior</td>\n",
       "    </tr>\n",
       "    <tr>\n",
       "      <th>1</th>\n",
       "      <td>3</td>\n",
       "      <td>33754 24838 17704 21903 17668 46667 17461 32665</td>\n",
       "      <td>8</td>\n",
       "      <td>prior</td>\n",
       "    </tr>\n",
       "    <tr>\n",
       "      <th>2</th>\n",
       "      <td>4</td>\n",
       "      <td>46842 39758 27761 10054 21351 22598 34862 40285 17616 25146 32645 41276</td>\n",
       "      <td>12</td>\n",
       "      <td>prior</td>\n",
       "    </tr>\n",
       "    <tr>\n",
       "      <th>3</th>\n",
       "      <td>5</td>\n",
       "      <td>13176 47329 27966 23909 48370 13245 27360 6348 40878 6184 48002 20914 37011 12962 45698 41176 48366 47209 46522 38693 48825 8479</td>\n",
       "      <td>22</td>\n",
       "      <td>prior</td>\n",
       "    </tr>\n",
       "    <tr>\n",
       "      <th>4</th>\n",
       "      <td>7</td>\n",
       "      <td>34050 46802</td>\n",
       "      <td>2</td>\n",
       "      <td>prior</td>\n",
       "    </tr>\n",
       "    <tr>\n",
       "      <th>5</th>\n",
       "      <td>9</td>\n",
       "      <td>21405 47890 11182 2014 29193 34203 14992 31506 23288 44533 18362 432 3990 14183</td>\n",
       "      <td>14</td>\n",
       "      <td>prior</td>\n",
       "    </tr>\n",
       "    <tr>\n",
       "      <th>6</th>\n",
       "      <td>10</td>\n",
       "      <td>24852 4796 31717 47766 4605 1529 21137 22122 34134 27156 14992 49235 26842 3464 25720</td>\n",
       "      <td>15</td>\n",
       "      <td>prior</td>\n",
       "    </tr>\n",
       "    <tr>\n",
       "      <th>7</th>\n",
       "      <td>11</td>\n",
       "      <td>30162 5994 1313 31506</td>\n",
       "      <td>4</td>\n",
       "      <td>prior</td>\n",
       "    </tr>\n",
       "    <tr>\n",
       "      <th>8</th>\n",
       "      <td>12</td>\n",
       "      <td>30597 15221 43772 37886 37215 34335 26910 38888 38050 29471</td>\n",
       "      <td>10</td>\n",
       "      <td>prior</td>\n",
       "    </tr>\n",
       "    <tr>\n",
       "      <th>9</th>\n",
       "      <td>13</td>\n",
       "      <td>17330 27407 35419 196 44635 26878 25783 41290 33198 23020 36086 3800 25952</td>\n",
       "      <td>13</td>\n",
       "      <td>prior</td>\n",
       "    </tr>\n",
       "  </tbody>\n",
       "</table>\n",
       "</div>"
      ],
      "text/plain": [
       "   order_id  \\\n",
       "0  2          \n",
       "1  3          \n",
       "2  4          \n",
       "3  5          \n",
       "4  7          \n",
       "5  9          \n",
       "6  10         \n",
       "7  11         \n",
       "8  12         \n",
       "9  13         \n",
       "\n",
       "                                                                                                                         product_id  \\\n",
       "0  33120 28985 9327 45918 30035 17794 40141 1819                                                                                      \n",
       "1  33754 24838 17704 21903 17668 46667 17461 32665                                                                                    \n",
       "2  46842 39758 27761 10054 21351 22598 34862 40285 17616 25146 32645 41276                                                            \n",
       "3  13176 47329 27966 23909 48370 13245 27360 6348 40878 6184 48002 20914 37011 12962 45698 41176 48366 47209 46522 38693 48825 8479   \n",
       "4  34050 46802                                                                                                                        \n",
       "5  21405 47890 11182 2014 29193 34203 14992 31506 23288 44533 18362 432 3990 14183                                                    \n",
       "6  24852 4796 31717 47766 4605 1529 21137 22122 34134 27156 14992 49235 26842 3464 25720                                              \n",
       "7  30162 5994 1313 31506                                                                                                              \n",
       "8  30597 15221 43772 37886 37215 34335 26910 38888 38050 29471                                                                        \n",
       "9  17330 27407 35419 196 44635 26878 25783 41290 33198 23020 36086 3800 25952                                                         \n",
       "\n",
       "   num_products   eval  \n",
       "0  8             prior  \n",
       "1  8             prior  \n",
       "2  12            prior  \n",
       "3  22            prior  \n",
       "4  2             prior  \n",
       "5  14            prior  \n",
       "6  15            prior  \n",
       "7  4             prior  \n",
       "8  10            prior  \n",
       "9  13            prior  "
      ]
     },
     "metadata": {},
     "output_type": "display_data"
    }
   ],
   "source": [
    "display(orders_wide.head(10))"
   ]
  },
  {
   "cell_type": "code",
   "execution_count": 105,
   "metadata": {},
   "outputs": [
    {
     "name": "stdout",
     "output_type": "stream",
     "text": [
      "(3346083, 7)\n"
     ]
    }
   ],
   "source": [
    "# =========================================================\n",
    "# orders meta-data\n",
    "# =========================================================\n",
    "\n",
    "orders_meta = pd.read_csv(process_dir + \"orders-split-v1.csv\")\n",
    "# This dataset includes the meta data for each order, i.e., the user who ordered it, order day of the week, order time\n",
    "print(orders_meta.shape)"
   ]
  },
  {
   "cell_type": "code",
   "execution_count": 104,
   "metadata": {},
   "outputs": [
    {
     "data": {
      "text/html": [
       "<div>\n",
       "<table border=\"1\" class=\"dataframe\">\n",
       "  <thead>\n",
       "    <tr style=\"text-align: right;\">\n",
       "      <th></th>\n",
       "      <th>order_id</th>\n",
       "      <th>user_id</th>\n",
       "      <th>order_number</th>\n",
       "      <th>order_dow</th>\n",
       "      <th>order_hour_of_day</th>\n",
       "      <th>days_since_prior_order</th>\n",
       "      <th>eval</th>\n",
       "    </tr>\n",
       "  </thead>\n",
       "  <tbody>\n",
       "    <tr>\n",
       "      <th>0</th>\n",
       "      <td>2539329</td>\n",
       "      <td>1</td>\n",
       "      <td>1</td>\n",
       "      <td>2</td>\n",
       "      <td>8</td>\n",
       "      <td>NaN</td>\n",
       "      <td>prior</td>\n",
       "    </tr>\n",
       "    <tr>\n",
       "      <th>1</th>\n",
       "      <td>2398795</td>\n",
       "      <td>1</td>\n",
       "      <td>2</td>\n",
       "      <td>3</td>\n",
       "      <td>7</td>\n",
       "      <td>15.0</td>\n",
       "      <td>prior</td>\n",
       "    </tr>\n",
       "    <tr>\n",
       "      <th>2</th>\n",
       "      <td>473747</td>\n",
       "      <td>1</td>\n",
       "      <td>3</td>\n",
       "      <td>3</td>\n",
       "      <td>12</td>\n",
       "      <td>21.0</td>\n",
       "      <td>prior</td>\n",
       "    </tr>\n",
       "    <tr>\n",
       "      <th>3</th>\n",
       "      <td>2254736</td>\n",
       "      <td>1</td>\n",
       "      <td>4</td>\n",
       "      <td>4</td>\n",
       "      <td>7</td>\n",
       "      <td>29.0</td>\n",
       "      <td>prior</td>\n",
       "    </tr>\n",
       "    <tr>\n",
       "      <th>4</th>\n",
       "      <td>431534</td>\n",
       "      <td>1</td>\n",
       "      <td>5</td>\n",
       "      <td>4</td>\n",
       "      <td>15</td>\n",
       "      <td>28.0</td>\n",
       "      <td>prior</td>\n",
       "    </tr>\n",
       "    <tr>\n",
       "      <th>5</th>\n",
       "      <td>3367565</td>\n",
       "      <td>1</td>\n",
       "      <td>6</td>\n",
       "      <td>2</td>\n",
       "      <td>7</td>\n",
       "      <td>19.0</td>\n",
       "      <td>prior</td>\n",
       "    </tr>\n",
       "    <tr>\n",
       "      <th>6</th>\n",
       "      <td>550135</td>\n",
       "      <td>1</td>\n",
       "      <td>7</td>\n",
       "      <td>1</td>\n",
       "      <td>9</td>\n",
       "      <td>20.0</td>\n",
       "      <td>prior</td>\n",
       "    </tr>\n",
       "    <tr>\n",
       "      <th>7</th>\n",
       "      <td>3108588</td>\n",
       "      <td>1</td>\n",
       "      <td>8</td>\n",
       "      <td>1</td>\n",
       "      <td>14</td>\n",
       "      <td>14.0</td>\n",
       "      <td>prior</td>\n",
       "    </tr>\n",
       "    <tr>\n",
       "      <th>8</th>\n",
       "      <td>2295261</td>\n",
       "      <td>1</td>\n",
       "      <td>9</td>\n",
       "      <td>1</td>\n",
       "      <td>16</td>\n",
       "      <td>0.0</td>\n",
       "      <td>prior</td>\n",
       "    </tr>\n",
       "    <tr>\n",
       "      <th>9</th>\n",
       "      <td>2550362</td>\n",
       "      <td>1</td>\n",
       "      <td>10</td>\n",
       "      <td>4</td>\n",
       "      <td>8</td>\n",
       "      <td>30.0</td>\n",
       "      <td>prior</td>\n",
       "    </tr>\n",
       "  </tbody>\n",
       "</table>\n",
       "</div>"
      ],
      "text/plain": [
       "   order_id  user_id  order_number  order_dow  order_hour_of_day  \\\n",
       "0  2539329   1        1             2          8                   \n",
       "1  2398795   1        2             3          7                   \n",
       "2  473747    1        3             3          12                  \n",
       "3  2254736   1        4             4          7                   \n",
       "4  431534    1        5             4          15                  \n",
       "5  3367565   1        6             2          7                   \n",
       "6  550135    1        7             1          9                   \n",
       "7  3108588   1        8             1          14                  \n",
       "8  2295261   1        9             1          16                  \n",
       "9  2550362   1        10            4          8                   \n",
       "\n",
       "   days_since_prior_order   eval  \n",
       "0 NaN                      prior  \n",
       "1  15.0                    prior  \n",
       "2  21.0                    prior  \n",
       "3  29.0                    prior  \n",
       "4  28.0                    prior  \n",
       "5  19.0                    prior  \n",
       "6  20.0                    prior  \n",
       "7  14.0                    prior  \n",
       "8  0.0                     prior  \n",
       "9  30.0                    prior  "
      ]
     },
     "metadata": {},
     "output_type": "display_data"
    }
   ],
   "source": [
    "display(orders_meta.head(10))"
   ]
  },
  {
   "cell_type": "markdown",
   "metadata": {},
   "source": [
    "----"
   ]
  },
  {
   "cell_type": "markdown",
   "metadata": {},
   "source": [
    "## 1.2. Merge train-val-test split"
   ]
  },
  {
   "cell_type": "code",
   "execution_count": 106,
   "metadata": {},
   "outputs": [
    {
     "name": "stdout",
     "output_type": "stream",
     "text": [
      "(3152555, 5)\n"
     ]
    }
   ],
   "source": [
    "# =========================================================\n",
    "# merge orders-wide and orders-meta\n",
    "# =========================================================\n",
    "\n",
    "orders_wide.drop(labels = \"eval\", axis = 1, inplace = True)\n",
    "orders_wide = pd.merge(orders_wide, # data - 1\n",
    "                       orders_meta[[\"order_id\", \"user_id\", \"eval\"]], # data - 2\n",
    "                       on = \"order_id\", # merge key\n",
    "                       how = \"left\") # left join\n",
    "print(orders_wide.shape)"
   ]
  },
  {
   "cell_type": "code",
   "execution_count": 107,
   "metadata": {},
   "outputs": [
    {
     "data": {
      "text/html": [
       "<div>\n",
       "<table border=\"1\" class=\"dataframe\">\n",
       "  <thead>\n",
       "    <tr style=\"text-align: right;\">\n",
       "      <th></th>\n",
       "      <th>order_id</th>\n",
       "      <th>product_id</th>\n",
       "      <th>num_products</th>\n",
       "      <th>user_id</th>\n",
       "      <th>eval</th>\n",
       "    </tr>\n",
       "  </thead>\n",
       "  <tbody>\n",
       "    <tr>\n",
       "      <th>0</th>\n",
       "      <td>2</td>\n",
       "      <td>33120 28985 9327 45918 30035 17794 40141 1819</td>\n",
       "      <td>8</td>\n",
       "      <td>202279</td>\n",
       "      <td>prior</td>\n",
       "    </tr>\n",
       "    <tr>\n",
       "      <th>1</th>\n",
       "      <td>3</td>\n",
       "      <td>33754 24838 17704 21903 17668 46667 17461 32665</td>\n",
       "      <td>8</td>\n",
       "      <td>205970</td>\n",
       "      <td>prior</td>\n",
       "    </tr>\n",
       "    <tr>\n",
       "      <th>2</th>\n",
       "      <td>4</td>\n",
       "      <td>46842 39758 27761 10054 21351 22598 34862 40285 17616 25146 32645 41276</td>\n",
       "      <td>12</td>\n",
       "      <td>178520</td>\n",
       "      <td>prior</td>\n",
       "    </tr>\n",
       "    <tr>\n",
       "      <th>3</th>\n",
       "      <td>5</td>\n",
       "      <td>13176 47329 27966 23909 48370 13245 27360 6348 40878 6184 48002 20914 37011 12962 45698 41176 48366 47209 46522 38693 48825 8479</td>\n",
       "      <td>22</td>\n",
       "      <td>156122</td>\n",
       "      <td>prior</td>\n",
       "    </tr>\n",
       "    <tr>\n",
       "      <th>4</th>\n",
       "      <td>7</td>\n",
       "      <td>34050 46802</td>\n",
       "      <td>2</td>\n",
       "      <td>142903</td>\n",
       "      <td>prior</td>\n",
       "    </tr>\n",
       "    <tr>\n",
       "      <th>5</th>\n",
       "      <td>9</td>\n",
       "      <td>21405 47890 11182 2014 29193 34203 14992 31506 23288 44533 18362 432 3990 14183</td>\n",
       "      <td>14</td>\n",
       "      <td>139016</td>\n",
       "      <td>prior</td>\n",
       "    </tr>\n",
       "    <tr>\n",
       "      <th>6</th>\n",
       "      <td>10</td>\n",
       "      <td>24852 4796 31717 47766 4605 1529 21137 22122 34134 27156 14992 49235 26842 3464 25720</td>\n",
       "      <td>15</td>\n",
       "      <td>135442</td>\n",
       "      <td>prior</td>\n",
       "    </tr>\n",
       "    <tr>\n",
       "      <th>7</th>\n",
       "      <td>11</td>\n",
       "      <td>30162 5994 1313 31506</td>\n",
       "      <td>4</td>\n",
       "      <td>143742</td>\n",
       "      <td>prior</td>\n",
       "    </tr>\n",
       "    <tr>\n",
       "      <th>8</th>\n",
       "      <td>12</td>\n",
       "      <td>30597 15221 43772 37886 37215 34335 26910 38888 38050 29471</td>\n",
       "      <td>10</td>\n",
       "      <td>152610</td>\n",
       "      <td>prior</td>\n",
       "    </tr>\n",
       "    <tr>\n",
       "      <th>9</th>\n",
       "      <td>13</td>\n",
       "      <td>17330 27407 35419 196 44635 26878 25783 41290 33198 23020 36086 3800 25952</td>\n",
       "      <td>13</td>\n",
       "      <td>45082</td>\n",
       "      <td>prior</td>\n",
       "    </tr>\n",
       "  </tbody>\n",
       "</table>\n",
       "</div>"
      ],
      "text/plain": [
       "   order_id  \\\n",
       "0  2          \n",
       "1  3          \n",
       "2  4          \n",
       "3  5          \n",
       "4  7          \n",
       "5  9          \n",
       "6  10         \n",
       "7  11         \n",
       "8  12         \n",
       "9  13         \n",
       "\n",
       "                                                                                                                         product_id  \\\n",
       "0  33120 28985 9327 45918 30035 17794 40141 1819                                                                                      \n",
       "1  33754 24838 17704 21903 17668 46667 17461 32665                                                                                    \n",
       "2  46842 39758 27761 10054 21351 22598 34862 40285 17616 25146 32645 41276                                                            \n",
       "3  13176 47329 27966 23909 48370 13245 27360 6348 40878 6184 48002 20914 37011 12962 45698 41176 48366 47209 46522 38693 48825 8479   \n",
       "4  34050 46802                                                                                                                        \n",
       "5  21405 47890 11182 2014 29193 34203 14992 31506 23288 44533 18362 432 3990 14183                                                    \n",
       "6  24852 4796 31717 47766 4605 1529 21137 22122 34134 27156 14992 49235 26842 3464 25720                                              \n",
       "7  30162 5994 1313 31506                                                                                                              \n",
       "8  30597 15221 43772 37886 37215 34335 26910 38888 38050 29471                                                                        \n",
       "9  17330 27407 35419 196 44635 26878 25783 41290 33198 23020 36086 3800 25952                                                         \n",
       "\n",
       "   num_products  user_id   eval  \n",
       "0  8             202279   prior  \n",
       "1  8             205970   prior  \n",
       "2  12            178520   prior  \n",
       "3  22            156122   prior  \n",
       "4  2             142903   prior  \n",
       "5  14            139016   prior  \n",
       "6  15            135442   prior  \n",
       "7  4             143742   prior  \n",
       "8  10            152610   prior  \n",
       "9  13            45082    prior  "
      ]
     },
     "metadata": {},
     "output_type": "display_data"
    }
   ],
   "source": [
    "display(orders_wide.head(10))"
   ]
  },
  {
   "cell_type": "code",
   "execution_count": 108,
   "metadata": {},
   "outputs": [
    {
     "data": {
      "text/plain": [
       "prior    2959079\n",
       "train    116333 \n",
       "val      38701  \n",
       "test     38442  \n",
       "Name: eval, dtype: int64"
      ]
     },
     "execution_count": 108,
     "metadata": {},
     "output_type": "execute_result"
    }
   ],
   "source": [
    "# =========================================================\n",
    "# eval-set distribution\n",
    "# =========================================================\n",
    "\n",
    "orders_wide[\"eval\"].value_counts()"
   ]
  },
  {
   "cell_type": "code",
   "execution_count": 109,
   "metadata": {},
   "outputs": [],
   "source": [
    "# clear some space\n",
    "del orders_meta"
   ]
  },
  {
   "cell_type": "markdown",
   "metadata": {},
   "source": [
    "----"
   ]
  },
  {
   "cell_type": "markdown",
   "metadata": {},
   "source": [
    "## 1.3. Import product info data"
   ]
  },
  {
   "cell_type": "code",
   "execution_count": 110,
   "metadata": {},
   "outputs": [
    {
     "name": "stdout",
     "output_type": "stream",
     "text": [
      "(49688, 6)\n"
     ]
    }
   ],
   "source": [
    "products = pd.read_csv(process_dir + \"products-merged-v1.csv\")\n",
    "print(products.shape)"
   ]
  },
  {
   "cell_type": "code",
   "execution_count": 111,
   "metadata": {},
   "outputs": [
    {
     "data": {
      "text/html": [
       "<div>\n",
       "<table border=\"1\" class=\"dataframe\">\n",
       "  <thead>\n",
       "    <tr style=\"text-align: right;\">\n",
       "      <th></th>\n",
       "      <th>product_id</th>\n",
       "      <th>product_name</th>\n",
       "      <th>aisle_id</th>\n",
       "      <th>department_id</th>\n",
       "      <th>aisle</th>\n",
       "      <th>department</th>\n",
       "    </tr>\n",
       "  </thead>\n",
       "  <tbody>\n",
       "    <tr>\n",
       "      <th>0</th>\n",
       "      <td>1</td>\n",
       "      <td>Chocolate Sandwich Cookies</td>\n",
       "      <td>61</td>\n",
       "      <td>19</td>\n",
       "      <td>cookies cakes</td>\n",
       "      <td>snacks</td>\n",
       "    </tr>\n",
       "    <tr>\n",
       "      <th>1</th>\n",
       "      <td>2</td>\n",
       "      <td>All-Seasons Salt</td>\n",
       "      <td>104</td>\n",
       "      <td>13</td>\n",
       "      <td>spices seasonings</td>\n",
       "      <td>pantry</td>\n",
       "    </tr>\n",
       "    <tr>\n",
       "      <th>2</th>\n",
       "      <td>3</td>\n",
       "      <td>Robust Golden Unsweetened Oolong Tea</td>\n",
       "      <td>94</td>\n",
       "      <td>7</td>\n",
       "      <td>tea</td>\n",
       "      <td>beverages</td>\n",
       "    </tr>\n",
       "    <tr>\n",
       "      <th>3</th>\n",
       "      <td>4</td>\n",
       "      <td>Smart Ones Classic Favorites Mini Rigatoni With Vodka Cream Sauce</td>\n",
       "      <td>38</td>\n",
       "      <td>1</td>\n",
       "      <td>frozen meals</td>\n",
       "      <td>frozen</td>\n",
       "    </tr>\n",
       "    <tr>\n",
       "      <th>4</th>\n",
       "      <td>5</td>\n",
       "      <td>Green Chile Anytime Sauce</td>\n",
       "      <td>5</td>\n",
       "      <td>13</td>\n",
       "      <td>marinades meat preparation</td>\n",
       "      <td>pantry</td>\n",
       "    </tr>\n",
       "    <tr>\n",
       "      <th>5</th>\n",
       "      <td>6</td>\n",
       "      <td>Dry Nose Oil</td>\n",
       "      <td>11</td>\n",
       "      <td>11</td>\n",
       "      <td>cold flu allergy</td>\n",
       "      <td>personal care</td>\n",
       "    </tr>\n",
       "    <tr>\n",
       "      <th>6</th>\n",
       "      <td>7</td>\n",
       "      <td>Pure Coconut Water With Orange</td>\n",
       "      <td>98</td>\n",
       "      <td>7</td>\n",
       "      <td>juice nectars</td>\n",
       "      <td>beverages</td>\n",
       "    </tr>\n",
       "    <tr>\n",
       "      <th>7</th>\n",
       "      <td>8</td>\n",
       "      <td>Cut Russet Potatoes Steam N' Mash</td>\n",
       "      <td>116</td>\n",
       "      <td>1</td>\n",
       "      <td>frozen produce</td>\n",
       "      <td>frozen</td>\n",
       "    </tr>\n",
       "    <tr>\n",
       "      <th>8</th>\n",
       "      <td>9</td>\n",
       "      <td>Light Strawberry Blueberry Yogurt</td>\n",
       "      <td>120</td>\n",
       "      <td>16</td>\n",
       "      <td>yogurt</td>\n",
       "      <td>dairy eggs</td>\n",
       "    </tr>\n",
       "    <tr>\n",
       "      <th>9</th>\n",
       "      <td>10</td>\n",
       "      <td>Sparkling Orange Juice &amp; Prickly Pear Beverage</td>\n",
       "      <td>115</td>\n",
       "      <td>7</td>\n",
       "      <td>water seltzer sparkling water</td>\n",
       "      <td>beverages</td>\n",
       "    </tr>\n",
       "  </tbody>\n",
       "</table>\n",
       "</div>"
      ],
      "text/plain": [
       "   product_id  \\\n",
       "0  1            \n",
       "1  2            \n",
       "2  3            \n",
       "3  4            \n",
       "4  5            \n",
       "5  6            \n",
       "6  7            \n",
       "7  8            \n",
       "8  9            \n",
       "9  10           \n",
       "\n",
       "                                                        product_name  \\\n",
       "0  Chocolate Sandwich Cookies                                          \n",
       "1  All-Seasons Salt                                                    \n",
       "2  Robust Golden Unsweetened Oolong Tea                                \n",
       "3  Smart Ones Classic Favorites Mini Rigatoni With Vodka Cream Sauce   \n",
       "4  Green Chile Anytime Sauce                                           \n",
       "5  Dry Nose Oil                                                        \n",
       "6  Pure Coconut Water With Orange                                      \n",
       "7  Cut Russet Potatoes Steam N' Mash                                   \n",
       "8  Light Strawberry Blueberry Yogurt                                   \n",
       "9  Sparkling Orange Juice & Prickly Pear Beverage                      \n",
       "\n",
       "   aisle_id  department_id                          aisle     department  \n",
       "0  61        19             cookies cakes                  snacks         \n",
       "1  104       13             spices seasonings              pantry         \n",
       "2  94        7              tea                            beverages      \n",
       "3  38        1              frozen meals                   frozen         \n",
       "4  5         13             marinades meat preparation     pantry         \n",
       "5  11        11             cold flu allergy               personal care  \n",
       "6  98        7              juice nectars                  beverages      \n",
       "7  116       1              frozen produce                 frozen         \n",
       "8  120       16             yogurt                         dairy eggs     \n",
       "9  115       7              water seltzer sparkling water  beverages      "
      ]
     },
     "metadata": {},
     "output_type": "display_data"
    }
   ],
   "source": [
    "display(products.head(10))"
   ]
  },
  {
   "cell_type": "code",
   "execution_count": 112,
   "metadata": {},
   "outputs": [
    {
     "data": {
      "text/plain": [
       "personal care      6563\n",
       "snacks             6264\n",
       "pantry             5371\n",
       "beverages          4365\n",
       "frozen             4007\n",
       "dairy eggs         3449\n",
       "household          3085\n",
       "canned goods       2092\n",
       "dry goods pasta    1858\n",
       "produce            1684\n",
       "bakery             1516\n",
       "deli               1322\n",
       "missing            1258\n",
       "international      1139\n",
       "breakfast          1115\n",
       "babies             1081\n",
       "alcohol            1054\n",
       "pets               972 \n",
       "meat seafood       907 \n",
       "other              548 \n",
       "bulk               38  \n",
       "Name: department, dtype: int64"
      ]
     },
     "execution_count": 112,
     "metadata": {},
     "output_type": "execute_result"
    }
   ],
   "source": [
    "#===============================================\n",
    "# top departments\n",
    "#===============================================\n",
    "products[\"department\"].value_counts()"
   ]
  },
  {
   "cell_type": "markdown",
   "metadata": {},
   "source": [
    "-----"
   ]
  },
  {
   "cell_type": "markdown",
   "metadata": {},
   "source": [
    "### In-class exercise"
   ]
  },
  {
   "cell_type": "code",
   "execution_count": 77,
   "metadata": {
    "scrolled": true
   },
   "outputs": [
    {
     "data": {
      "text/plain": [
       "missing                          0.025318\n",
       "candy chocolate                  0.025076\n",
       "ice cream ice                    0.021957\n",
       "vitamins supplements             0.020890\n",
       "yogurt                           0.020649\n",
       "chips pretzels                   0.019904\n",
       "tea                              0.017992\n",
       "packaged cheese                  0.017932\n",
       "frozen meals                     0.017711\n",
       "cookies cakes                    0.017590\n",
       "energy granola bars              0.016744\n",
       "hair care                        0.016422\n",
       "spices seasonings                0.016040\n",
       "juice nectars                    0.015939\n",
       "crackers                         0.015034\n",
       "soup broth bouillon              0.014833\n",
       "baby food formula                0.014450\n",
       "coffee                           0.013685\n",
       "refrigerated                     0.013585\n",
       "cleaning products                0.013182\n",
       "baking ingredients               0.012538\n",
       "packaged vegetables fruits       0.012377\n",
       "asian foods                      0.012176\n",
       "nuts seeds dried fruit           0.011713\n",
       "fresh vegetables                 0.011451\n",
       "oral hygiene                     0.011371\n",
       "salad dressing toppings          0.011270\n",
       "bread                            0.011210\n",
       "other                            0.011029\n",
       "instant foods                    0.010928\n",
       "                                   ...   \n",
       "mint gum                         0.003381\n",
       "cream                            0.003240\n",
       "tofu meat alternatives           0.003200\n",
       "butter                           0.003019\n",
       "white wines                      0.002958\n",
       "prepared soups salads            0.002938\n",
       "baby bath body care              0.002657\n",
       "eggs                             0.002516\n",
       "fresh pasta                      0.002475\n",
       "eye ear care                     0.002274\n",
       "frozen dessert                   0.002254\n",
       "trash bags liners                0.002254\n",
       "indian foods                     0.002174\n",
       "meat counter                     0.002113\n",
       "packaged meat                    0.002013\n",
       "packaged poultry                 0.001992\n",
       "refrigerated pudding desserts    0.001972\n",
       "specialty wines champagnes       0.001912\n",
       "fresh herbs                      0.001731\n",
       "ice cream toppings               0.001711\n",
       "poultry counter                  0.001650\n",
       "frozen breads doughs             0.001630\n",
       "packaged seafood                 0.001610\n",
       "trail mix snack mix              0.001389\n",
       "seafood counter                  0.001087\n",
       "frozen juice                     0.000946\n",
       "baby accessories                 0.000886\n",
       "packaged produce                 0.000644\n",
       "bulk grains rice dried goods     0.000523\n",
       "bulk dried fruits vegetables     0.000242\n",
       "Name: aisle, dtype: float64"
      ]
     },
     "execution_count": 77,
     "metadata": {},
     "output_type": "execute_result"
    }
   ],
   "source": [
    "#===============================================\n",
    "# top aisles\n",
    "#===============================================\n",
    "# can you figure out which aisles host the most number of products?\n",
    "products[\"aisle\"].value_counts(20)"
   ]
  },
  {
   "cell_type": "markdown",
   "metadata": {},
   "source": [
    "---"
   ]
  },
  {
   "cell_type": "markdown",
   "metadata": {},
   "source": [
    "# 2. Data exploration"
   ]
  },
  {
   "cell_type": "code",
   "execution_count": 78,
   "metadata": {},
   "outputs": [
    {
     "name": "stdout",
     "output_type": "stream",
     "text": [
      "(32019330, 5)\n"
     ]
    }
   ],
   "source": [
    "# long-form of orders\n",
    "orders_long = pd.read_csv(process_dir + \"all-orders-long-v1.csv\")\n",
    "print(orders_long.shape)"
   ]
  },
  {
   "cell_type": "code",
   "execution_count": 79,
   "metadata": {
    "scrolled": true
   },
   "outputs": [
    {
     "data": {
      "text/html": [
       "<div>\n",
       "<table border=\"1\" class=\"dataframe\">\n",
       "  <thead>\n",
       "    <tr style=\"text-align: right;\">\n",
       "      <th></th>\n",
       "      <th>order_id</th>\n",
       "      <th>product_id</th>\n",
       "      <th>add_to_cart_order</th>\n",
       "      <th>reordered</th>\n",
       "      <th>eval</th>\n",
       "    </tr>\n",
       "  </thead>\n",
       "  <tbody>\n",
       "    <tr>\n",
       "      <th>0</th>\n",
       "      <td>2</td>\n",
       "      <td>33120</td>\n",
       "      <td>1</td>\n",
       "      <td>1</td>\n",
       "      <td>prior</td>\n",
       "    </tr>\n",
       "    <tr>\n",
       "      <th>1</th>\n",
       "      <td>2</td>\n",
       "      <td>28985</td>\n",
       "      <td>2</td>\n",
       "      <td>1</td>\n",
       "      <td>prior</td>\n",
       "    </tr>\n",
       "    <tr>\n",
       "      <th>2</th>\n",
       "      <td>2</td>\n",
       "      <td>9327</td>\n",
       "      <td>3</td>\n",
       "      <td>0</td>\n",
       "      <td>prior</td>\n",
       "    </tr>\n",
       "    <tr>\n",
       "      <th>3</th>\n",
       "      <td>2</td>\n",
       "      <td>45918</td>\n",
       "      <td>4</td>\n",
       "      <td>1</td>\n",
       "      <td>prior</td>\n",
       "    </tr>\n",
       "    <tr>\n",
       "      <th>4</th>\n",
       "      <td>2</td>\n",
       "      <td>30035</td>\n",
       "      <td>5</td>\n",
       "      <td>0</td>\n",
       "      <td>prior</td>\n",
       "    </tr>\n",
       "    <tr>\n",
       "      <th>5</th>\n",
       "      <td>2</td>\n",
       "      <td>17794</td>\n",
       "      <td>6</td>\n",
       "      <td>1</td>\n",
       "      <td>prior</td>\n",
       "    </tr>\n",
       "    <tr>\n",
       "      <th>6</th>\n",
       "      <td>2</td>\n",
       "      <td>40141</td>\n",
       "      <td>7</td>\n",
       "      <td>1</td>\n",
       "      <td>prior</td>\n",
       "    </tr>\n",
       "    <tr>\n",
       "      <th>7</th>\n",
       "      <td>2</td>\n",
       "      <td>1819</td>\n",
       "      <td>8</td>\n",
       "      <td>1</td>\n",
       "      <td>prior</td>\n",
       "    </tr>\n",
       "    <tr>\n",
       "      <th>8</th>\n",
       "      <td>3</td>\n",
       "      <td>33754</td>\n",
       "      <td>1</td>\n",
       "      <td>1</td>\n",
       "      <td>prior</td>\n",
       "    </tr>\n",
       "    <tr>\n",
       "      <th>9</th>\n",
       "      <td>3</td>\n",
       "      <td>24838</td>\n",
       "      <td>2</td>\n",
       "      <td>1</td>\n",
       "      <td>prior</td>\n",
       "    </tr>\n",
       "    <tr>\n",
       "      <th>10</th>\n",
       "      <td>3</td>\n",
       "      <td>17704</td>\n",
       "      <td>3</td>\n",
       "      <td>1</td>\n",
       "      <td>prior</td>\n",
       "    </tr>\n",
       "    <tr>\n",
       "      <th>11</th>\n",
       "      <td>3</td>\n",
       "      <td>21903</td>\n",
       "      <td>4</td>\n",
       "      <td>1</td>\n",
       "      <td>prior</td>\n",
       "    </tr>\n",
       "    <tr>\n",
       "      <th>12</th>\n",
       "      <td>3</td>\n",
       "      <td>17668</td>\n",
       "      <td>5</td>\n",
       "      <td>1</td>\n",
       "      <td>prior</td>\n",
       "    </tr>\n",
       "    <tr>\n",
       "      <th>13</th>\n",
       "      <td>3</td>\n",
       "      <td>46667</td>\n",
       "      <td>6</td>\n",
       "      <td>1</td>\n",
       "      <td>prior</td>\n",
       "    </tr>\n",
       "    <tr>\n",
       "      <th>14</th>\n",
       "      <td>3</td>\n",
       "      <td>17461</td>\n",
       "      <td>7</td>\n",
       "      <td>1</td>\n",
       "      <td>prior</td>\n",
       "    </tr>\n",
       "    <tr>\n",
       "      <th>15</th>\n",
       "      <td>3</td>\n",
       "      <td>32665</td>\n",
       "      <td>8</td>\n",
       "      <td>1</td>\n",
       "      <td>prior</td>\n",
       "    </tr>\n",
       "    <tr>\n",
       "      <th>16</th>\n",
       "      <td>4</td>\n",
       "      <td>46842</td>\n",
       "      <td>1</td>\n",
       "      <td>0</td>\n",
       "      <td>prior</td>\n",
       "    </tr>\n",
       "    <tr>\n",
       "      <th>17</th>\n",
       "      <td>4</td>\n",
       "      <td>39758</td>\n",
       "      <td>3</td>\n",
       "      <td>1</td>\n",
       "      <td>prior</td>\n",
       "    </tr>\n",
       "    <tr>\n",
       "      <th>18</th>\n",
       "      <td>4</td>\n",
       "      <td>27761</td>\n",
       "      <td>4</td>\n",
       "      <td>1</td>\n",
       "      <td>prior</td>\n",
       "    </tr>\n",
       "    <tr>\n",
       "      <th>19</th>\n",
       "      <td>4</td>\n",
       "      <td>10054</td>\n",
       "      <td>5</td>\n",
       "      <td>1</td>\n",
       "      <td>prior</td>\n",
       "    </tr>\n",
       "  </tbody>\n",
       "</table>\n",
       "</div>"
      ],
      "text/plain": [
       "    order_id  product_id  add_to_cart_order  reordered   eval\n",
       "0   2         33120       1                  1          prior\n",
       "1   2         28985       2                  1          prior\n",
       "2   2         9327        3                  0          prior\n",
       "3   2         45918       4                  1          prior\n",
       "4   2         30035       5                  0          prior\n",
       "5   2         17794       6                  1          prior\n",
       "6   2         40141       7                  1          prior\n",
       "7   2         1819        8                  1          prior\n",
       "8   3         33754       1                  1          prior\n",
       "9   3         24838       2                  1          prior\n",
       "10  3         17704       3                  1          prior\n",
       "11  3         21903       4                  1          prior\n",
       "12  3         17668       5                  1          prior\n",
       "13  3         46667       6                  1          prior\n",
       "14  3         17461       7                  1          prior\n",
       "15  3         32665       8                  1          prior\n",
       "16  4         46842       1                  0          prior\n",
       "17  4         39758       3                  1          prior\n",
       "18  4         27761       4                  1          prior\n",
       "19  4         10054       5                  1          prior"
      ]
     },
     "metadata": {},
     "output_type": "display_data"
    }
   ],
   "source": [
    "# top-20 observations in the data frame\n",
    "display(orders_long.head(20))"
   ]
  },
  {
   "cell_type": "markdown",
   "metadata": {},
   "source": [
    "## 2.1. Most frequently purchased products"
   ]
  },
  {
   "cell_type": "code",
   "execution_count": 80,
   "metadata": {},
   "outputs": [
    {
     "data": {
      "text/html": [
       "<div>\n",
       "<table border=\"1\" class=\"dataframe\">\n",
       "  <thead>\n",
       "    <tr style=\"text-align: right;\">\n",
       "      <th></th>\n",
       "      <th>product_id</th>\n",
       "      <th>freq</th>\n",
       "    </tr>\n",
       "  </thead>\n",
       "  <tbody>\n",
       "    <tr>\n",
       "      <th>0</th>\n",
       "      <td>24852</td>\n",
       "      <td>491291</td>\n",
       "    </tr>\n",
       "    <tr>\n",
       "      <th>1</th>\n",
       "      <td>13176</td>\n",
       "      <td>394930</td>\n",
       "    </tr>\n",
       "    <tr>\n",
       "      <th>2</th>\n",
       "      <td>21137</td>\n",
       "      <td>275577</td>\n",
       "    </tr>\n",
       "    <tr>\n",
       "      <th>3</th>\n",
       "      <td>21903</td>\n",
       "      <td>251705</td>\n",
       "    </tr>\n",
       "    <tr>\n",
       "      <th>4</th>\n",
       "      <td>47209</td>\n",
       "      <td>220877</td>\n",
       "    </tr>\n",
       "    <tr>\n",
       "      <th>5</th>\n",
       "      <td>47766</td>\n",
       "      <td>184224</td>\n",
       "    </tr>\n",
       "    <tr>\n",
       "      <th>6</th>\n",
       "      <td>47626</td>\n",
       "      <td>160792</td>\n",
       "    </tr>\n",
       "    <tr>\n",
       "      <th>7</th>\n",
       "      <td>16797</td>\n",
       "      <td>149445</td>\n",
       "    </tr>\n",
       "    <tr>\n",
       "      <th>8</th>\n",
       "      <td>26209</td>\n",
       "      <td>146660</td>\n",
       "    </tr>\n",
       "    <tr>\n",
       "      <th>9</th>\n",
       "      <td>27845</td>\n",
       "      <td>142813</td>\n",
       "    </tr>\n",
       "  </tbody>\n",
       "</table>\n",
       "</div>"
      ],
      "text/plain": [
       "   product_id    freq\n",
       "0  24852       491291\n",
       "1  13176       394930\n",
       "2  21137       275577\n",
       "3  21903       251705\n",
       "4  47209       220877\n",
       "5  47766       184224\n",
       "6  47626       160792\n",
       "7  16797       149445\n",
       "8  26209       146660\n",
       "9  27845       142813"
      ]
     },
     "metadata": {},
     "output_type": "display_data"
    }
   ],
   "source": [
    "# most frequently bought products\n",
    "most_freq_purchased = pd.DataFrame(orders_long[\"product_id\"].value_counts()) # count the number times each product-id appears in data frame\n",
    "most_freq_purchased.reset_index(drop = False, inplace = True) # complying with pandas indexing \n",
    "most_freq_purchased.columns = [\"product_id\", \"freq\"] # assign column names\n",
    "display(most_freq_purchased.head(10))"
   ]
  },
  {
   "cell_type": "code",
   "execution_count": 81,
   "metadata": {},
   "outputs": [
    {
     "data": {
      "text/html": [
       "<div>\n",
       "<table border=\"1\" class=\"dataframe\">\n",
       "  <thead>\n",
       "    <tr style=\"text-align: right;\">\n",
       "      <th></th>\n",
       "      <th>product_id</th>\n",
       "      <th>freq</th>\n",
       "      <th>product_name</th>\n",
       "      <th>aisle_id</th>\n",
       "      <th>department_id</th>\n",
       "      <th>aisle</th>\n",
       "      <th>department</th>\n",
       "    </tr>\n",
       "  </thead>\n",
       "  <tbody>\n",
       "    <tr>\n",
       "      <th>0</th>\n",
       "      <td>24852</td>\n",
       "      <td>491291</td>\n",
       "      <td>Banana</td>\n",
       "      <td>24</td>\n",
       "      <td>4</td>\n",
       "      <td>fresh fruits</td>\n",
       "      <td>produce</td>\n",
       "    </tr>\n",
       "    <tr>\n",
       "      <th>1</th>\n",
       "      <td>13176</td>\n",
       "      <td>394930</td>\n",
       "      <td>Bag of Organic Bananas</td>\n",
       "      <td>24</td>\n",
       "      <td>4</td>\n",
       "      <td>fresh fruits</td>\n",
       "      <td>produce</td>\n",
       "    </tr>\n",
       "    <tr>\n",
       "      <th>2</th>\n",
       "      <td>21137</td>\n",
       "      <td>275577</td>\n",
       "      <td>Organic Strawberries</td>\n",
       "      <td>24</td>\n",
       "      <td>4</td>\n",
       "      <td>fresh fruits</td>\n",
       "      <td>produce</td>\n",
       "    </tr>\n",
       "    <tr>\n",
       "      <th>3</th>\n",
       "      <td>21903</td>\n",
       "      <td>251705</td>\n",
       "      <td>Organic Baby Spinach</td>\n",
       "      <td>123</td>\n",
       "      <td>4</td>\n",
       "      <td>packaged vegetables fruits</td>\n",
       "      <td>produce</td>\n",
       "    </tr>\n",
       "    <tr>\n",
       "      <th>4</th>\n",
       "      <td>47209</td>\n",
       "      <td>220877</td>\n",
       "      <td>Organic Hass Avocado</td>\n",
       "      <td>24</td>\n",
       "      <td>4</td>\n",
       "      <td>fresh fruits</td>\n",
       "      <td>produce</td>\n",
       "    </tr>\n",
       "    <tr>\n",
       "      <th>5</th>\n",
       "      <td>47766</td>\n",
       "      <td>184224</td>\n",
       "      <td>Organic Avocado</td>\n",
       "      <td>24</td>\n",
       "      <td>4</td>\n",
       "      <td>fresh fruits</td>\n",
       "      <td>produce</td>\n",
       "    </tr>\n",
       "    <tr>\n",
       "      <th>6</th>\n",
       "      <td>47626</td>\n",
       "      <td>160792</td>\n",
       "      <td>Large Lemon</td>\n",
       "      <td>24</td>\n",
       "      <td>4</td>\n",
       "      <td>fresh fruits</td>\n",
       "      <td>produce</td>\n",
       "    </tr>\n",
       "    <tr>\n",
       "      <th>7</th>\n",
       "      <td>16797</td>\n",
       "      <td>149445</td>\n",
       "      <td>Strawberries</td>\n",
       "      <td>24</td>\n",
       "      <td>4</td>\n",
       "      <td>fresh fruits</td>\n",
       "      <td>produce</td>\n",
       "    </tr>\n",
       "    <tr>\n",
       "      <th>8</th>\n",
       "      <td>26209</td>\n",
       "      <td>146660</td>\n",
       "      <td>Limes</td>\n",
       "      <td>24</td>\n",
       "      <td>4</td>\n",
       "      <td>fresh fruits</td>\n",
       "      <td>produce</td>\n",
       "    </tr>\n",
       "    <tr>\n",
       "      <th>9</th>\n",
       "      <td>27845</td>\n",
       "      <td>142813</td>\n",
       "      <td>Organic Whole Milk</td>\n",
       "      <td>84</td>\n",
       "      <td>16</td>\n",
       "      <td>milk</td>\n",
       "      <td>dairy eggs</td>\n",
       "    </tr>\n",
       "    <tr>\n",
       "      <th>10</th>\n",
       "      <td>27966</td>\n",
       "      <td>142603</td>\n",
       "      <td>Organic Raspberries</td>\n",
       "      <td>123</td>\n",
       "      <td>4</td>\n",
       "      <td>packaged vegetables fruits</td>\n",
       "      <td>produce</td>\n",
       "    </tr>\n",
       "    <tr>\n",
       "      <th>11</th>\n",
       "      <td>22935</td>\n",
       "      <td>117716</td>\n",
       "      <td>Organic Yellow Onion</td>\n",
       "      <td>83</td>\n",
       "      <td>4</td>\n",
       "      <td>fresh vegetables</td>\n",
       "      <td>produce</td>\n",
       "    </tr>\n",
       "    <tr>\n",
       "      <th>12</th>\n",
       "      <td>24964</td>\n",
       "      <td>113936</td>\n",
       "      <td>Organic Garlic</td>\n",
       "      <td>83</td>\n",
       "      <td>4</td>\n",
       "      <td>fresh vegetables</td>\n",
       "      <td>produce</td>\n",
       "    </tr>\n",
       "    <tr>\n",
       "      <th>13</th>\n",
       "      <td>45007</td>\n",
       "      <td>109412</td>\n",
       "      <td>Organic Zucchini</td>\n",
       "      <td>83</td>\n",
       "      <td>4</td>\n",
       "      <td>fresh vegetables</td>\n",
       "      <td>produce</td>\n",
       "    </tr>\n",
       "    <tr>\n",
       "      <th>14</th>\n",
       "      <td>39275</td>\n",
       "      <td>105026</td>\n",
       "      <td>Organic Blueberries</td>\n",
       "      <td>123</td>\n",
       "      <td>4</td>\n",
       "      <td>packaged vegetables fruits</td>\n",
       "      <td>produce</td>\n",
       "    </tr>\n",
       "    <tr>\n",
       "      <th>15</th>\n",
       "      <td>49683</td>\n",
       "      <td>99728</td>\n",
       "      <td>Cucumber Kirby</td>\n",
       "      <td>83</td>\n",
       "      <td>4</td>\n",
       "      <td>fresh vegetables</td>\n",
       "      <td>produce</td>\n",
       "    </tr>\n",
       "    <tr>\n",
       "      <th>16</th>\n",
       "      <td>28204</td>\n",
       "      <td>92889</td>\n",
       "      <td>Organic Fuji Apple</td>\n",
       "      <td>24</td>\n",
       "      <td>4</td>\n",
       "      <td>fresh fruits</td>\n",
       "      <td>produce</td>\n",
       "    </tr>\n",
       "    <tr>\n",
       "      <th>17</th>\n",
       "      <td>5876</td>\n",
       "      <td>91251</td>\n",
       "      <td>Organic Lemon</td>\n",
       "      <td>24</td>\n",
       "      <td>4</td>\n",
       "      <td>fresh fruits</td>\n",
       "      <td>produce</td>\n",
       "    </tr>\n",
       "    <tr>\n",
       "      <th>18</th>\n",
       "      <td>40706</td>\n",
       "      <td>88078</td>\n",
       "      <td>Organic Grape Tomatoes</td>\n",
       "      <td>123</td>\n",
       "      <td>4</td>\n",
       "      <td>packaged vegetables fruits</td>\n",
       "      <td>produce</td>\n",
       "    </tr>\n",
       "    <tr>\n",
       "      <th>19</th>\n",
       "      <td>8277</td>\n",
       "      <td>87272</td>\n",
       "      <td>Apple Honeycrisp Organic</td>\n",
       "      <td>24</td>\n",
       "      <td>4</td>\n",
       "      <td>fresh fruits</td>\n",
       "      <td>produce</td>\n",
       "    </tr>\n",
       "  </tbody>\n",
       "</table>\n",
       "</div>"
      ],
      "text/plain": [
       "    product_id    freq              product_name  aisle_id  department_id  \\\n",
       "0   24852       491291  Banana                    24        4               \n",
       "1   13176       394930  Bag of Organic Bananas    24        4               \n",
       "2   21137       275577  Organic Strawberries      24        4               \n",
       "3   21903       251705  Organic Baby Spinach      123       4               \n",
       "4   47209       220877  Organic Hass Avocado      24        4               \n",
       "5   47766       184224  Organic Avocado           24        4               \n",
       "6   47626       160792  Large Lemon               24        4               \n",
       "7   16797       149445  Strawberries              24        4               \n",
       "8   26209       146660  Limes                     24        4               \n",
       "9   27845       142813  Organic Whole Milk        84        16              \n",
       "10  27966       142603  Organic Raspberries       123       4               \n",
       "11  22935       117716  Organic Yellow Onion      83        4               \n",
       "12  24964       113936  Organic Garlic            83        4               \n",
       "13  45007       109412  Organic Zucchini          83        4               \n",
       "14  39275       105026  Organic Blueberries       123       4               \n",
       "15  49683       99728   Cucumber Kirby            83        4               \n",
       "16  28204       92889   Organic Fuji Apple        24        4               \n",
       "17  5876        91251   Organic Lemon             24        4               \n",
       "18  40706       88078   Organic Grape Tomatoes    123       4               \n",
       "19  8277        87272   Apple Honeycrisp Organic  24        4               \n",
       "\n",
       "                         aisle  department  \n",
       "0   fresh fruits                produce     \n",
       "1   fresh fruits                produce     \n",
       "2   fresh fruits                produce     \n",
       "3   packaged vegetables fruits  produce     \n",
       "4   fresh fruits                produce     \n",
       "5   fresh fruits                produce     \n",
       "6   fresh fruits                produce     \n",
       "7   fresh fruits                produce     \n",
       "8   fresh fruits                produce     \n",
       "9   milk                        dairy eggs  \n",
       "10  packaged vegetables fruits  produce     \n",
       "11  fresh vegetables            produce     \n",
       "12  fresh vegetables            produce     \n",
       "13  fresh vegetables            produce     \n",
       "14  packaged vegetables fruits  produce     \n",
       "15  fresh vegetables            produce     \n",
       "16  fresh fruits                produce     \n",
       "17  fresh fruits                produce     \n",
       "18  packaged vegetables fruits  produce     \n",
       "19  fresh fruits                produce     "
      ]
     },
     "metadata": {},
     "output_type": "display_data"
    }
   ],
   "source": [
    "# merge with product info from the meta dataset\n",
    "most_freq_purchased = pd.merge(most_freq_purchased, \n",
    "                               products, \n",
    "                               on = \"product_id\", \n",
    "                               how = \"left\")\n",
    "display(most_freq_purchased.head(20))"
   ]
  },
  {
   "cell_type": "markdown",
   "metadata": {},
   "source": [
    "----"
   ]
  },
  {
   "cell_type": "markdown",
   "metadata": {},
   "source": [
    "### In-class exercise"
   ]
  },
  {
   "cell_type": "code",
   "execution_count": 82,
   "metadata": {},
   "outputs": [
    {
     "data": {
      "text/html": [
       "<div>\n",
       "<table border=\"1\" class=\"dataframe\">\n",
       "  <thead>\n",
       "    <tr style=\"text-align: right;\">\n",
       "      <th></th>\n",
       "      <th>product_id</th>\n",
       "      <th>freq</th>\n",
       "      <th>product_name</th>\n",
       "      <th>aisle_id</th>\n",
       "      <th>department_id</th>\n",
       "      <th>aisle</th>\n",
       "      <th>department</th>\n",
       "    </tr>\n",
       "  </thead>\n",
       "  <tbody>\n",
       "    <tr>\n",
       "      <th>14335</th>\n",
       "      <td>33010</td>\n",
       "      <td>204</td>\n",
       "      <td>Old Vine Zin</td>\n",
       "      <td>28</td>\n",
       "      <td>5</td>\n",
       "      <td>red wines</td>\n",
       "      <td>alcohol</td>\n",
       "    </tr>\n",
       "    <tr>\n",
       "      <th>14336</th>\n",
       "      <td>19200</td>\n",
       "      <td>204</td>\n",
       "      <td>Truffle, Nut Butter, Cacao Almond</td>\n",
       "      <td>45</td>\n",
       "      <td>19</td>\n",
       "      <td>candy chocolate</td>\n",
       "      <td>snacks</td>\n",
       "    </tr>\n",
       "    <tr>\n",
       "      <th>14337</th>\n",
       "      <td>42833</td>\n",
       "      <td>202</td>\n",
       "      <td>Mango Apricot Fruit Snack</td>\n",
       "      <td>50</td>\n",
       "      <td>19</td>\n",
       "      <td>fruit vegetable snacks</td>\n",
       "      <td>snacks</td>\n",
       "    </tr>\n",
       "    <tr>\n",
       "      <th>14338</th>\n",
       "      <td>36668</td>\n",
       "      <td>202</td>\n",
       "      <td>Peanut Butter Filled Pretzel Nuggets</td>\n",
       "      <td>107</td>\n",
       "      <td>19</td>\n",
       "      <td>chips pretzels</td>\n",
       "      <td>snacks</td>\n",
       "    </tr>\n",
       "    <tr>\n",
       "      <th>14339</th>\n",
       "      <td>7882</td>\n",
       "      <td>202</td>\n",
       "      <td>Chocolate Coconut Almond Protein Nut Bar</td>\n",
       "      <td>3</td>\n",
       "      <td>19</td>\n",
       "      <td>energy granola bars</td>\n",
       "      <td>snacks</td>\n",
       "    </tr>\n",
       "  </tbody>\n",
       "</table>\n",
       "</div>"
      ],
      "text/plain": [
       "       product_id  freq                              product_name  aisle_id  \\\n",
       "14335  33010       204   Old Vine Zin                              28         \n",
       "14336  19200       204   Truffle, Nut Butter, Cacao Almond         45         \n",
       "14337  42833       202   Mango Apricot Fruit Snack                 50         \n",
       "14338  36668       202   Peanut Butter Filled Pretzel Nuggets      107        \n",
       "14339  7882        202   Chocolate Coconut Almond Protein Nut Bar  3          \n",
       "\n",
       "       department_id                   aisle department  \n",
       "14335  5              red wines               alcohol    \n",
       "14336  19             candy chocolate         snacks     \n",
       "14337  19             fruit vegetable snacks  snacks     \n",
       "14338  19             chips pretzels          snacks     \n",
       "14339  19             energy granola bars     snacks     "
      ]
     },
     "execution_count": 82,
     "metadata": {},
     "output_type": "execute_result"
    }
   ],
   "source": [
    "# Can you figure out the least popular products?\n",
    "most_freq_purchased.tail()"
   ]
  },
  {
   "cell_type": "code",
   "execution_count": 83,
   "metadata": {
    "scrolled": true
   },
   "outputs": [
    {
     "data": {
      "text/html": [
       "<div>\n",
       "<table border=\"1\" class=\"dataframe\">\n",
       "  <thead>\n",
       "    <tr style=\"text-align: right;\">\n",
       "      <th></th>\n",
       "      <th>aisle</th>\n",
       "      <th>freq</th>\n",
       "    </tr>\n",
       "  </thead>\n",
       "  <tbody>\n",
       "    <tr>\n",
       "      <th>50</th>\n",
       "      <td>fresh fruits</td>\n",
       "      <td>3782826</td>\n",
       "    </tr>\n",
       "    <tr>\n",
       "      <th>53</th>\n",
       "      <td>fresh vegetables</td>\n",
       "      <td>3553596</td>\n",
       "    </tr>\n",
       "    <tr>\n",
       "      <th>98</th>\n",
       "      <td>packaged vegetables fruits</td>\n",
       "      <td>1823815</td>\n",
       "    </tr>\n",
       "    <tr>\n",
       "      <th>133</th>\n",
       "      <td>yogurt</td>\n",
       "      <td>1475395</td>\n",
       "    </tr>\n",
       "    <tr>\n",
       "      <th>93</th>\n",
       "      <td>packaged cheese</td>\n",
       "      <td>990483</td>\n",
       "    </tr>\n",
       "    <tr>\n",
       "      <th>83</th>\n",
       "      <td>milk</td>\n",
       "      <td>918611</td>\n",
       "    </tr>\n",
       "    <tr>\n",
       "      <th>131</th>\n",
       "      <td>water seltzer sparkling water</td>\n",
       "      <td>868265</td>\n",
       "    </tr>\n",
       "    <tr>\n",
       "      <th>25</th>\n",
       "      <td>chips pretzels</td>\n",
       "      <td>717827</td>\n",
       "    </tr>\n",
       "    <tr>\n",
       "      <th>119</th>\n",
       "      <td>soy lactosefree</td>\n",
       "      <td>655592</td>\n",
       "    </tr>\n",
       "    <tr>\n",
       "      <th>11</th>\n",
       "      <td>bread</td>\n",
       "      <td>588261</td>\n",
       "    </tr>\n",
       "    <tr>\n",
       "      <th>110</th>\n",
       "      <td>refrigerated</td>\n",
       "      <td>576416</td>\n",
       "    </tr>\n",
       "    <tr>\n",
       "      <th>62</th>\n",
       "      <td>frozen produce</td>\n",
       "      <td>531602</td>\n",
       "    </tr>\n",
       "    <tr>\n",
       "      <th>71</th>\n",
       "      <td>ice cream ice</td>\n",
       "      <td>481546</td>\n",
       "    </tr>\n",
       "    <tr>\n",
       "      <th>41</th>\n",
       "      <td>eggs</td>\n",
       "      <td>469660</td>\n",
       "    </tr>\n",
       "    <tr>\n",
       "      <th>32</th>\n",
       "      <td>crackers</td>\n",
       "      <td>450180</td>\n",
       "    </tr>\n",
       "    <tr>\n",
       "      <th>42</th>\n",
       "      <td>energy granola bars</td>\n",
       "      <td>443376</td>\n",
       "    </tr>\n",
       "    <tr>\n",
       "      <th>80</th>\n",
       "      <td>lunch meat</td>\n",
       "      <td>397936</td>\n",
       "    </tr>\n",
       "    <tr>\n",
       "      <th>51</th>\n",
       "      <td>fresh herbs</td>\n",
       "      <td>391069</td>\n",
       "    </tr>\n",
       "    <tr>\n",
       "      <th>24</th>\n",
       "      <td>cereal</td>\n",
       "      <td>379548</td>\n",
       "    </tr>\n",
       "    <tr>\n",
       "      <th>59</th>\n",
       "      <td>frozen meals</td>\n",
       "      <td>370817</td>\n",
       "    </tr>\n",
       "    <tr>\n",
       "      <th>4</th>\n",
       "      <td>baby food formula</td>\n",
       "      <td>368922</td>\n",
       "    </tr>\n",
       "    <tr>\n",
       "      <th>49</th>\n",
       "      <td>fresh dips tapenades</td>\n",
       "      <td>359114</td>\n",
       "    </tr>\n",
       "    <tr>\n",
       "      <th>117</th>\n",
       "      <td>soft drinks</td>\n",
       "      <td>355543</td>\n",
       "    </tr>\n",
       "    <tr>\n",
       "      <th>118</th>\n",
       "      <td>soup broth bouillon</td>\n",
       "      <td>333548</td>\n",
       "    </tr>\n",
       "    <tr>\n",
       "      <th>33</th>\n",
       "      <td>cream</td>\n",
       "      <td>325353</td>\n",
       "    </tr>\n",
       "    <tr>\n",
       "      <th>75</th>\n",
       "      <td>juice nectars</td>\n",
       "      <td>318159</td>\n",
       "    </tr>\n",
       "    <tr>\n",
       "      <th>6</th>\n",
       "      <td>baking ingredients</td>\n",
       "      <td>316350</td>\n",
       "    </tr>\n",
       "    <tr>\n",
       "      <th>92</th>\n",
       "      <td>other creams cheeses</td>\n",
       "      <td>315027</td>\n",
       "    </tr>\n",
       "    <tr>\n",
       "      <th>70</th>\n",
       "      <td>hot dogs bacon sausage</td>\n",
       "      <td>304344</td>\n",
       "    </tr>\n",
       "    <tr>\n",
       "      <th>88</th>\n",
       "      <td>nuts seeds dried fruit</td>\n",
       "      <td>298342</td>\n",
       "    </tr>\n",
       "    <tr>\n",
       "      <th>...</th>\n",
       "      <td>...</td>\n",
       "      <td>...</td>\n",
       "    </tr>\n",
       "    <tr>\n",
       "      <th>14</th>\n",
       "      <td>bulk dried fruits vegetables</td>\n",
       "      <td>17513</td>\n",
       "    </tr>\n",
       "    <tr>\n",
       "      <th>15</th>\n",
       "      <td>bulk grains rice dried goods</td>\n",
       "      <td>16816</td>\n",
       "    </tr>\n",
       "    <tr>\n",
       "      <th>35</th>\n",
       "      <td>diapers wipes</td>\n",
       "      <td>16737</td>\n",
       "    </tr>\n",
       "    <tr>\n",
       "      <th>84</th>\n",
       "      <td>mint gum</td>\n",
       "      <td>16038</td>\n",
       "    </tr>\n",
       "    <tr>\n",
       "      <th>57</th>\n",
       "      <td>frozen dessert</td>\n",
       "      <td>15414</td>\n",
       "    </tr>\n",
       "    <tr>\n",
       "      <th>7</th>\n",
       "      <td>baking supplies decor</td>\n",
       "      <td>15037</td>\n",
       "    </tr>\n",
       "    <tr>\n",
       "      <th>36</th>\n",
       "      <td>digestion</td>\n",
       "      <td>14523</td>\n",
       "    </tr>\n",
       "    <tr>\n",
       "      <th>38</th>\n",
       "      <td>dog food care</td>\n",
       "      <td>14218</td>\n",
       "    </tr>\n",
       "    <tr>\n",
       "      <th>87</th>\n",
       "      <td>muscles joints pain relief</td>\n",
       "      <td>12665</td>\n",
       "    </tr>\n",
       "    <tr>\n",
       "      <th>73</th>\n",
       "      <td>indian foods</td>\n",
       "      <td>12282</td>\n",
       "    </tr>\n",
       "    <tr>\n",
       "      <th>27</th>\n",
       "      <td>cocoa drink mixes</td>\n",
       "      <td>11736</td>\n",
       "    </tr>\n",
       "    <tr>\n",
       "      <th>29</th>\n",
       "      <td>cold flu allergy</td>\n",
       "      <td>10426</td>\n",
       "    </tr>\n",
       "    <tr>\n",
       "      <th>86</th>\n",
       "      <td>more household</td>\n",
       "      <td>9656</td>\n",
       "    </tr>\n",
       "    <tr>\n",
       "      <th>67</th>\n",
       "      <td>hair care</td>\n",
       "      <td>8842</td>\n",
       "    </tr>\n",
       "    <tr>\n",
       "      <th>46</th>\n",
       "      <td>feminine care</td>\n",
       "      <td>8797</td>\n",
       "    </tr>\n",
       "    <tr>\n",
       "      <th>0</th>\n",
       "      <td>air fresheners candles</td>\n",
       "      <td>8580</td>\n",
       "    </tr>\n",
       "    <tr>\n",
       "      <th>72</th>\n",
       "      <td>ice cream toppings</td>\n",
       "      <td>8540</td>\n",
       "    </tr>\n",
       "    <tr>\n",
       "      <th>121</th>\n",
       "      <td>specialty wines champagnes</td>\n",
       "      <td>8332</td>\n",
       "    </tr>\n",
       "    <tr>\n",
       "      <th>2</th>\n",
       "      <td>baby accessories</td>\n",
       "      <td>7405</td>\n",
       "    </tr>\n",
       "    <tr>\n",
       "      <th>77</th>\n",
       "      <td>kosher foods</td>\n",
       "      <td>7149</td>\n",
       "    </tr>\n",
       "    <tr>\n",
       "      <th>45</th>\n",
       "      <td>facial care</td>\n",
       "      <td>5222</td>\n",
       "    </tr>\n",
       "    <tr>\n",
       "      <th>44</th>\n",
       "      <td>eye ear care</td>\n",
       "      <td>4915</td>\n",
       "    </tr>\n",
       "    <tr>\n",
       "      <th>3</th>\n",
       "      <td>baby bath body care</td>\n",
       "      <td>3974</td>\n",
       "    </tr>\n",
       "    <tr>\n",
       "      <th>34</th>\n",
       "      <td>deodorants</td>\n",
       "      <td>3800</td>\n",
       "    </tr>\n",
       "    <tr>\n",
       "      <th>76</th>\n",
       "      <td>kitchen supplies</td>\n",
       "      <td>3612</td>\n",
       "    </tr>\n",
       "    <tr>\n",
       "      <th>47</th>\n",
       "      <td>first aid</td>\n",
       "      <td>3261</td>\n",
       "    </tr>\n",
       "    <tr>\n",
       "      <th>115</th>\n",
       "      <td>skin care</td>\n",
       "      <td>3185</td>\n",
       "    </tr>\n",
       "    <tr>\n",
       "      <th>58</th>\n",
       "      <td>frozen juice</td>\n",
       "      <td>3105</td>\n",
       "    </tr>\n",
       "    <tr>\n",
       "      <th>114</th>\n",
       "      <td>shave needs</td>\n",
       "      <td>2711</td>\n",
       "    </tr>\n",
       "    <tr>\n",
       "      <th>8</th>\n",
       "      <td>beauty</td>\n",
       "      <td>2664</td>\n",
       "    </tr>\n",
       "  </tbody>\n",
       "</table>\n",
       "<p>134 rows × 2 columns</p>\n",
       "</div>"
      ],
      "text/plain": [
       "                             aisle     freq\n",
       "50   fresh fruits                   3782826\n",
       "53   fresh vegetables               3553596\n",
       "98   packaged vegetables fruits     1823815\n",
       "133  yogurt                         1475395\n",
       "93   packaged cheese                990483 \n",
       "83   milk                           918611 \n",
       "131  water seltzer sparkling water  868265 \n",
       "25   chips pretzels                 717827 \n",
       "119  soy lactosefree                655592 \n",
       "11   bread                          588261 \n",
       "110  refrigerated                   576416 \n",
       "62   frozen produce                 531602 \n",
       "71   ice cream ice                  481546 \n",
       "41   eggs                           469660 \n",
       "32   crackers                       450180 \n",
       "42   energy granola bars            443376 \n",
       "80   lunch meat                     397936 \n",
       "51   fresh herbs                    391069 \n",
       "24   cereal                         379548 \n",
       "59   frozen meals                   370817 \n",
       "4    baby food formula              368922 \n",
       "49   fresh dips tapenades           359114 \n",
       "117  soft drinks                    355543 \n",
       "118  soup broth bouillon            333548 \n",
       "33   cream                          325353 \n",
       "75   juice nectars                  318159 \n",
       "6    baking ingredients             316350 \n",
       "92   other creams cheeses           315027 \n",
       "70   hot dogs bacon sausage         304344 \n",
       "88   nuts seeds dried fruit         298342 \n",
       "..                      ...            ... \n",
       "14   bulk dried fruits vegetables   17513  \n",
       "15   bulk grains rice dried goods   16816  \n",
       "35   diapers wipes                  16737  \n",
       "84   mint gum                       16038  \n",
       "57   frozen dessert                 15414  \n",
       "7    baking supplies decor          15037  \n",
       "36   digestion                      14523  \n",
       "38   dog food care                  14218  \n",
       "87   muscles joints pain relief     12665  \n",
       "73   indian foods                   12282  \n",
       "27   cocoa drink mixes              11736  \n",
       "29   cold flu allergy               10426  \n",
       "86   more household                 9656   \n",
       "67   hair care                      8842   \n",
       "46   feminine care                  8797   \n",
       "0    air fresheners candles         8580   \n",
       "72   ice cream toppings             8540   \n",
       "121  specialty wines champagnes     8332   \n",
       "2    baby accessories               7405   \n",
       "77   kosher foods                   7149   \n",
       "45   facial care                    5222   \n",
       "44   eye ear care                   4915   \n",
       "3    baby bath body care            3974   \n",
       "34   deodorants                     3800   \n",
       "76   kitchen supplies               3612   \n",
       "47   first aid                      3261   \n",
       "115  skin care                      3185   \n",
       "58   frozen juice                   3105   \n",
       "114  shave needs                    2711   \n",
       "8    beauty                         2664   \n",
       "\n",
       "[134 rows x 2 columns]"
      ]
     },
     "metadata": {},
     "output_type": "display_data"
    }
   ],
   "source": [
    "# most popular aisle\n",
    "aisle = most_freq_purchased.groupby(\"aisle\").agg({\"freq\": \"sum\"})\n",
    "aisle = aisle.reset_index(drop = False, inplace = False).sort_values(\"freq\", ascending = False)\n",
    "display(aisle)"
   ]
  },
  {
   "cell_type": "markdown",
   "metadata": {},
   "source": [
    "----"
   ]
  },
  {
   "cell_type": "markdown",
   "metadata": {},
   "source": [
    "### In-class exercise"
   ]
  },
  {
   "cell_type": "code",
   "execution_count": 84,
   "metadata": {},
   "outputs": [
    {
     "data": {
      "text/html": [
       "<div>\n",
       "<table border=\"1\" class=\"dataframe\">\n",
       "  <thead>\n",
       "    <tr style=\"text-align: right;\">\n",
       "      <th></th>\n",
       "      <th>freq</th>\n",
       "    </tr>\n",
       "    <tr>\n",
       "      <th>department</th>\n",
       "      <th></th>\n",
       "    </tr>\n",
       "  </thead>\n",
       "  <tbody>\n",
       "    <tr>\n",
       "      <th>alcohol</th>\n",
       "      <td>123711</td>\n",
       "    </tr>\n",
       "    <tr>\n",
       "      <th>babies</th>\n",
       "      <td>397038</td>\n",
       "    </tr>\n",
       "    <tr>\n",
       "      <th>bakery</th>\n",
       "      <td>1168021</td>\n",
       "    </tr>\n",
       "    <tr>\n",
       "      <th>beverages</th>\n",
       "      <td>2641843</td>\n",
       "    </tr>\n",
       "    <tr>\n",
       "      <th>breakfast</th>\n",
       "      <td>701107</td>\n",
       "    </tr>\n",
       "  </tbody>\n",
       "</table>\n",
       "</div>"
      ],
      "text/plain": [
       "               freq\n",
       "department         \n",
       "alcohol     123711 \n",
       "babies      397038 \n",
       "bakery      1168021\n",
       "beverages   2641843\n",
       "breakfast   701107 "
      ]
     },
     "execution_count": 84,
     "metadata": {},
     "output_type": "execute_result"
    }
   ],
   "source": [
    "# Can you figure out the most popular department, i.e., the department from where most products are purchased?\n",
    "most_popular_department = most_freq_purchased.groupby (\"department\").agg ({\"freq\" : \"sum\"})\n",
    "mpst_popular_department = most_popular_department.reset_index()\n",
    "most_popular_department.head()\n"
   ]
  },
  {
   "cell_type": "code",
   "execution_count": 62,
   "metadata": {
    "scrolled": true
   },
   "outputs": [],
   "source": [
    "# most purchased department\n"
   ]
  },
  {
   "cell_type": "markdown",
   "metadata": {},
   "source": [
    "-----"
   ]
  },
  {
   "cell_type": "markdown",
   "metadata": {},
   "source": [
    "## 2.2. Co-purchased products"
   ]
  },
  {
   "cell_type": "code",
   "execution_count": 85,
   "metadata": {},
   "outputs": [],
   "source": [
    "# ===========================================\n",
    "# Generate co-purchase matrix\n",
    "# ===========================================\n",
    "\n",
    "def CoPurchaseMatrix(orders_wide, product_info = True):\n",
    "    '''\n",
    "    orders_wide is order-level data with one row per order\n",
    "    '''\n",
    "    count_vec = CountVectorizer(ngram_range = (1,1), binary = True, \n",
    "                            token_pattern = \"\\\\b\\\\w+\\\\b\") # sku counts\n",
    "    pur_mat = count_vec.fit_transform(orders_wide[\"product_id\"])\n",
    "    co_pur_mat = (pur_mat.T * pur_mat) #copurchase matrix\n",
    "    co_pur_mat.setdiag(0) # set diagonal to 0\n",
    "    co_pur_mat_df = pd.DataFrame(co_pur_mat.todense()) # convert to data frame\n",
    "    co_pur_mat_df.index = count_vec.vocabulary_ # row names from sku-ids\n",
    "    co_pur_mat_df.columns = count_vec.vocabulary_ # column names from sku-ids\n",
    "    co_pur_mat_df = co_pur_mat_df.where(np.triu(np.ones(co_pur_mat_df.shape)).astype(np.bool)) # consider the uppre tri\n",
    "    co_pur_mat_df = co_pur_mat_df.stack().reset_index() # melt to sku-1 and sku-2 per row\n",
    "    co_pur_mat_df.columns = [\"product_id_1\", \"product_id_2\", \"copur\"]\n",
    "    co_pur_mat_df = co_pur_mat_df.loc[co_pur_mat_df[\"copur\"] > 0, :] # subset for copur > 0\n",
    "    co_pur_mat_df_top = co_pur_mat_df.sort_values([\"product_id_1\", \"copur\"], ascending = False)\n",
    "    co_pur_mat_df_top = co_pur_mat_df_top.drop_duplicates([\"product_id_1\"], keep = \"first\")\n",
    "    co_pur_mat_df_top[\"product_id_1\"] = co_pur_mat_df_top[\"product_id_1\"].astype(int) # fix data types\n",
    "    co_pur_mat_df_top[\"product_id_2\"] = co_pur_mat_df_top[\"product_id_2\"].astype(int) # fix data types\n",
    "    co_pur_mat_df_top = co_pur_mat_df_top.sort_values([\"copur\"], ascending = False).reset_index(drop = True)\n",
    "    if product_info:\n",
    "        co_pur_mat_df_top = pd.merge(co_pur_mat_df_top, products, how = \"left\", \n",
    "                                     left_on = \"product_id_1\", right_on = \"product_id\")\n",
    "        co_pur_mat_df_top.drop(\"product_id\", axis = 1, inplace = True)\n",
    "        co_pur_mat_df_top = pd.merge(co_pur_mat_df_top, products, how = \"left\",\n",
    "                                     left_on = \"product_id_2\", right_on = \"product_id\", \n",
    "                                     suffixes = [\"_1\", \"_2\"])\n",
    "        co_pur_mat_df_top.drop(\"product_id\", axis = 1, inplace = True)\n",
    "        col_order = ['product_id_1', 'product_id_2', 'copur', 'product_name_1', 'product_name_2',\n",
    "                             'aisle_1', 'aisle_2', 'department_1', 'department_2', \n",
    "                             'aisle_id_1', 'aisle_id_2', 'department_id_1', 'department_id_2']\n",
    "        co_pur_mat_df_top = co_pur_mat_df_top[col_order]\n",
    "    return(co_pur_mat_df_top)"
   ]
  },
  {
   "cell_type": "code",
   "execution_count": 64,
   "metadata": {},
   "outputs": [
    {
     "name": "stdout",
     "output_type": "stream",
     "text": [
      "(14332, 13)\n"
     ]
    }
   ],
   "source": [
    "# calculate copurchases\n",
    "copur = CoPurchaseMatrix(orders_wide = orders_wide, product_info = True)\n",
    "print(copur.shape)"
   ]
  },
  {
   "cell_type": "code",
   "execution_count": 86,
   "metadata": {
    "scrolled": true
   },
   "outputs": [
    {
     "data": {
      "text/html": [
       "<div>\n",
       "<table border=\"1\" class=\"dataframe\">\n",
       "  <thead>\n",
       "    <tr style=\"text-align: right;\">\n",
       "      <th></th>\n",
       "      <th>product_name_1</th>\n",
       "      <th>product_name_2</th>\n",
       "      <th>copur</th>\n",
       "      <th>aisle_1</th>\n",
       "      <th>aisle_2</th>\n",
       "    </tr>\n",
       "  </thead>\n",
       "  <tbody>\n",
       "    <tr>\n",
       "      <th>0</th>\n",
       "      <td>Organic Lacinato (Dinosaur) Kale</td>\n",
       "      <td>Soft Eating Strawberry Flavored Licorice</td>\n",
       "      <td>64761.0</td>\n",
       "      <td>fresh vegetables</td>\n",
       "      <td>candy chocolate</td>\n",
       "    </tr>\n",
       "    <tr>\n",
       "      <th>1</th>\n",
       "      <td>Mighty 4 Sweet Potato, Blueberry, Millet &amp; Greek Yogurt Tots Snack</td>\n",
       "      <td>Nut Delight Fruit &amp; Nut Bar</td>\n",
       "      <td>58330.0</td>\n",
       "      <td>baby food formula</td>\n",
       "      <td>energy granola bars</td>\n",
       "    </tr>\n",
       "    <tr>\n",
       "      <th>2</th>\n",
       "      <td>Nut Delight Fruit &amp; Nut Bar</td>\n",
       "      <td>Carrot Bunch</td>\n",
       "      <td>55611.0</td>\n",
       "      <td>energy granola bars</td>\n",
       "      <td>fresh vegetables</td>\n",
       "    </tr>\n",
       "    <tr>\n",
       "      <th>3</th>\n",
       "      <td>Natural Finely Shredded Triple Cheddar Cheese</td>\n",
       "      <td>Nut Delight Fruit &amp; Nut Bar</td>\n",
       "      <td>53395.0</td>\n",
       "      <td>packaged cheese</td>\n",
       "      <td>energy granola bars</td>\n",
       "    </tr>\n",
       "    <tr>\n",
       "      <th>4</th>\n",
       "      <td>Italian Style Meatballs &amp; Mozzarella Sandwiches</td>\n",
       "      <td>Nut Delight Fruit &amp; Nut Bar</td>\n",
       "      <td>43180.0</td>\n",
       "      <td>frozen meals</td>\n",
       "      <td>energy granola bars</td>\n",
       "    </tr>\n",
       "    <tr>\n",
       "      <th>5</th>\n",
       "      <td>Organic Granny Smith Apples</td>\n",
       "      <td>Garlic Spice Blend Paste</td>\n",
       "      <td>28998.0</td>\n",
       "      <td>fresh fruits</td>\n",
       "      <td>packaged vegetables fruits</td>\n",
       "    </tr>\n",
       "    <tr>\n",
       "      <th>6</th>\n",
       "      <td>Pecan Pie Fruit &amp; Nut Food Bar</td>\n",
       "      <td>Soft Eating Strawberry Flavored Licorice</td>\n",
       "      <td>26812.0</td>\n",
       "      <td>energy granola bars</td>\n",
       "      <td>candy chocolate</td>\n",
       "    </tr>\n",
       "    <tr>\n",
       "      <th>7</th>\n",
       "      <td>Garlic Spice Blend Paste</td>\n",
       "      <td>Carrot Bunch</td>\n",
       "      <td>25766.0</td>\n",
       "      <td>packaged vegetables fruits</td>\n",
       "      <td>fresh vegetables</td>\n",
       "    </tr>\n",
       "    <tr>\n",
       "      <th>8</th>\n",
       "      <td>Almond Coconut Bar, Organic</td>\n",
       "      <td>2nd Foods Organic  Pear and Spinach Baby Food</td>\n",
       "      <td>22923.0</td>\n",
       "      <td>energy granola bars</td>\n",
       "      <td>baby food formula</td>\n",
       "    </tr>\n",
       "    <tr>\n",
       "      <th>9</th>\n",
       "      <td>Soft Eating Strawberry Flavored Licorice</td>\n",
       "      <td>Spicy Minis Guacamole</td>\n",
       "      <td>22027.0</td>\n",
       "      <td>candy chocolate</td>\n",
       "      <td>fresh dips tapenades</td>\n",
       "    </tr>\n",
       "    <tr>\n",
       "      <th>10</th>\n",
       "      <td>2nd Foods Organic  Pear and Spinach Baby Food</td>\n",
       "      <td>Soft Eating Strawberry Flavored Licorice</td>\n",
       "      <td>18354.0</td>\n",
       "      <td>baby food formula</td>\n",
       "      <td>candy chocolate</td>\n",
       "    </tr>\n",
       "    <tr>\n",
       "      <th>11</th>\n",
       "      <td>Reduced Sugar Craisins</td>\n",
       "      <td>Soft Eating Strawberry Flavored Licorice</td>\n",
       "      <td>18287.0</td>\n",
       "      <td>nuts seeds dried fruit</td>\n",
       "      <td>candy chocolate</td>\n",
       "    </tr>\n",
       "    <tr>\n",
       "      <th>12</th>\n",
       "      <td>Chicken Cooking Stock</td>\n",
       "      <td>Soft Eating Strawberry Flavored Licorice</td>\n",
       "      <td>17109.0</td>\n",
       "      <td>soup broth bouillon</td>\n",
       "      <td>candy chocolate</td>\n",
       "    </tr>\n",
       "    <tr>\n",
       "      <th>13</th>\n",
       "      <td>Carrot Bunch</td>\n",
       "      <td>Organic Pacific Nori</td>\n",
       "      <td>15973.0</td>\n",
       "      <td>fresh vegetables</td>\n",
       "      <td>asian foods</td>\n",
       "    </tr>\n",
       "    <tr>\n",
       "      <th>14</th>\n",
       "      <td>Skin DeTox, Tea Bags</td>\n",
       "      <td>Nut Delight Fruit &amp; Nut Bar</td>\n",
       "      <td>15948.0</td>\n",
       "      <td>tea</td>\n",
       "      <td>energy granola bars</td>\n",
       "    </tr>\n",
       "    <tr>\n",
       "      <th>15</th>\n",
       "      <td>Coffee Mexican Vanilla</td>\n",
       "      <td>Nut Delight Fruit &amp; Nut Bar</td>\n",
       "      <td>15823.0</td>\n",
       "      <td>coffee</td>\n",
       "      <td>energy granola bars</td>\n",
       "    </tr>\n",
       "    <tr>\n",
       "      <th>16</th>\n",
       "      <td>Organic 4 Months Butternut Squash Carrots Apples + Prunes Baby Food</td>\n",
       "      <td>Nut Delight Fruit &amp; Nut Bar</td>\n",
       "      <td>15823.0</td>\n",
       "      <td>baby food formula</td>\n",
       "      <td>energy granola bars</td>\n",
       "    </tr>\n",
       "    <tr>\n",
       "      <th>17</th>\n",
       "      <td>Plain Unsalted Rice Cakes</td>\n",
       "      <td>Mighty 4 Sweet Potato, Blueberry, Millet &amp; Greek Yogurt Tots Snack</td>\n",
       "      <td>15763.0</td>\n",
       "      <td>crackers</td>\n",
       "      <td>baby food formula</td>\n",
       "    </tr>\n",
       "    <tr>\n",
       "      <th>18</th>\n",
       "      <td>Meatloaf</td>\n",
       "      <td>Soft Eating Strawberry Flavored Licorice</td>\n",
       "      <td>15253.0</td>\n",
       "      <td>frozen meals</td>\n",
       "      <td>candy chocolate</td>\n",
       "    </tr>\n",
       "    <tr>\n",
       "      <th>19</th>\n",
       "      <td>Light &amp; Lean Roasted Polenta With Swiss Chard</td>\n",
       "      <td>Nut Delight Fruit &amp; Nut Bar</td>\n",
       "      <td>14978.0</td>\n",
       "      <td>frozen meals</td>\n",
       "      <td>energy granola bars</td>\n",
       "    </tr>\n",
       "  </tbody>\n",
       "</table>\n",
       "</div>"
      ],
      "text/plain": [
       "                                                         product_name_1  \\\n",
       "0   Organic Lacinato (Dinosaur) Kale                                      \n",
       "1   Mighty 4 Sweet Potato, Blueberry, Millet & Greek Yogurt Tots Snack    \n",
       "2   Nut Delight Fruit & Nut Bar                                           \n",
       "3   Natural Finely Shredded Triple Cheddar Cheese                         \n",
       "4   Italian Style Meatballs & Mozzarella Sandwiches                       \n",
       "5   Organic Granny Smith Apples                                           \n",
       "6   Pecan Pie Fruit & Nut Food Bar                                        \n",
       "7   Garlic Spice Blend Paste                                              \n",
       "8   Almond Coconut Bar, Organic                                           \n",
       "9   Soft Eating Strawberry Flavored Licorice                              \n",
       "10  2nd Foods Organic  Pear and Spinach Baby Food                         \n",
       "11  Reduced Sugar Craisins                                                \n",
       "12  Chicken Cooking Stock                                                 \n",
       "13  Carrot Bunch                                                          \n",
       "14  Skin DeTox, Tea Bags                                                  \n",
       "15  Coffee Mexican Vanilla                                                \n",
       "16  Organic 4 Months Butternut Squash Carrots Apples + Prunes Baby Food   \n",
       "17  Plain Unsalted Rice Cakes                                             \n",
       "18  Meatloaf                                                              \n",
       "19  Light & Lean Roasted Polenta With Swiss Chard                         \n",
       "\n",
       "                                                        product_name_2  \\\n",
       "0   Soft Eating Strawberry Flavored Licorice                             \n",
       "1   Nut Delight Fruit & Nut Bar                                          \n",
       "2   Carrot Bunch                                                         \n",
       "3   Nut Delight Fruit & Nut Bar                                          \n",
       "4   Nut Delight Fruit & Nut Bar                                          \n",
       "5   Garlic Spice Blend Paste                                             \n",
       "6   Soft Eating Strawberry Flavored Licorice                             \n",
       "7   Carrot Bunch                                                         \n",
       "8   2nd Foods Organic  Pear and Spinach Baby Food                        \n",
       "9   Spicy Minis Guacamole                                                \n",
       "10  Soft Eating Strawberry Flavored Licorice                             \n",
       "11  Soft Eating Strawberry Flavored Licorice                             \n",
       "12  Soft Eating Strawberry Flavored Licorice                             \n",
       "13  Organic Pacific Nori                                                 \n",
       "14  Nut Delight Fruit & Nut Bar                                          \n",
       "15  Nut Delight Fruit & Nut Bar                                          \n",
       "16  Nut Delight Fruit & Nut Bar                                          \n",
       "17  Mighty 4 Sweet Potato, Blueberry, Millet & Greek Yogurt Tots Snack   \n",
       "18  Soft Eating Strawberry Flavored Licorice                             \n",
       "19  Nut Delight Fruit & Nut Bar                                          \n",
       "\n",
       "      copur                     aisle_1                     aisle_2  \n",
       "0   64761.0  fresh vegetables            candy chocolate             \n",
       "1   58330.0  baby food formula           energy granola bars         \n",
       "2   55611.0  energy granola bars         fresh vegetables            \n",
       "3   53395.0  packaged cheese             energy granola bars         \n",
       "4   43180.0  frozen meals                energy granola bars         \n",
       "5   28998.0  fresh fruits                packaged vegetables fruits  \n",
       "6   26812.0  energy granola bars         candy chocolate             \n",
       "7   25766.0  packaged vegetables fruits  fresh vegetables            \n",
       "8   22923.0  energy granola bars         baby food formula           \n",
       "9   22027.0  candy chocolate             fresh dips tapenades        \n",
       "10  18354.0  baby food formula           candy chocolate             \n",
       "11  18287.0  nuts seeds dried fruit      candy chocolate             \n",
       "12  17109.0  soup broth bouillon         candy chocolate             \n",
       "13  15973.0  fresh vegetables            asian foods                 \n",
       "14  15948.0  tea                         energy granola bars         \n",
       "15  15823.0  coffee                      energy granola bars         \n",
       "16  15823.0  baby food formula           energy granola bars         \n",
       "17  15763.0  crackers                    baby food formula           \n",
       "18  15253.0  frozen meals                candy chocolate             \n",
       "19  14978.0  frozen meals                energy granola bars         "
      ]
     },
     "metadata": {},
     "output_type": "display_data"
    }
   ],
   "source": [
    "display(copur[[\"product_name_1\", \"product_name_2\", \"copur\", \"aisle_1\", \"aisle_2\"]].head(20))"
   ]
  },
  {
   "cell_type": "markdown",
   "metadata": {},
   "source": [
    "----"
   ]
  },
  {
   "cell_type": "markdown",
   "metadata": {},
   "source": [
    "# 3. Split train-val-test datasets\n"
   ]
  },
  {
   "cell_type": "code",
   "execution_count": 87,
   "metadata": {},
   "outputs": [
    {
     "name": "stdout",
     "output_type": "stream",
     "text": [
      "train size: (3075412, 5)\n",
      "val size: (38701, 5)\n",
      "test size: (38442, 5)\n"
     ]
    }
   ],
   "source": [
    "#===============================================\n",
    "# split train-val-test\n",
    "#===============================================\n",
    "\n",
    "train = orders_wide.loc[orders_wide[\"eval\"].isin([\"prior\", \"train\"]), :]\n",
    "val = orders_wide.loc[orders_wide[\"eval\"] == \"val\", :]\n",
    "test = orders_wide.loc[orders_wide[\"eval\"] == \"test\", :]\n",
    "print(\"train size:\", train.shape)\n",
    "print(\"val size:\", val.shape)\n",
    "print(\"test size:\", test.shape)"
   ]
  },
  {
   "cell_type": "code",
   "execution_count": 67,
   "metadata": {},
   "outputs": [],
   "source": [
    "# clear more space\n",
    "# del orders_wide, orders_long"
   ]
  },
  {
   "cell_type": "code",
   "execution_count": 88,
   "metadata": {},
   "outputs": [
    {
     "data": {
      "text/html": [
       "<div>\n",
       "<table border=\"1\" class=\"dataframe\">\n",
       "  <thead>\n",
       "    <tr style=\"text-align: right;\">\n",
       "      <th></th>\n",
       "      <th>order_id</th>\n",
       "      <th>product_id</th>\n",
       "      <th>num_products</th>\n",
       "      <th>user_id</th>\n",
       "      <th>eval</th>\n",
       "    </tr>\n",
       "  </thead>\n",
       "  <tbody>\n",
       "    <tr>\n",
       "      <th>0</th>\n",
       "      <td>2</td>\n",
       "      <td>33120 28985 9327 45918 30035 17794 40141 1819</td>\n",
       "      <td>8</td>\n",
       "      <td>202279</td>\n",
       "      <td>prior</td>\n",
       "    </tr>\n",
       "    <tr>\n",
       "      <th>1</th>\n",
       "      <td>3</td>\n",
       "      <td>33754 24838 17704 21903 17668 46667 17461 32665</td>\n",
       "      <td>8</td>\n",
       "      <td>205970</td>\n",
       "      <td>prior</td>\n",
       "    </tr>\n",
       "    <tr>\n",
       "      <th>2</th>\n",
       "      <td>4</td>\n",
       "      <td>46842 39758 27761 10054 21351 22598 34862 40285 17616 25146 32645 41276</td>\n",
       "      <td>12</td>\n",
       "      <td>178520</td>\n",
       "      <td>prior</td>\n",
       "    </tr>\n",
       "    <tr>\n",
       "      <th>3</th>\n",
       "      <td>5</td>\n",
       "      <td>13176 47329 27966 23909 48370 13245 27360 6348 40878 6184 48002 20914 37011 12962 45698 41176 48366 47209 46522 38693 48825 8479</td>\n",
       "      <td>22</td>\n",
       "      <td>156122</td>\n",
       "      <td>prior</td>\n",
       "    </tr>\n",
       "    <tr>\n",
       "      <th>4</th>\n",
       "      <td>7</td>\n",
       "      <td>34050 46802</td>\n",
       "      <td>2</td>\n",
       "      <td>142903</td>\n",
       "      <td>prior</td>\n",
       "    </tr>\n",
       "  </tbody>\n",
       "</table>\n",
       "</div>"
      ],
      "text/plain": [
       "   order_id  \\\n",
       "0  2          \n",
       "1  3          \n",
       "2  4          \n",
       "3  5          \n",
       "4  7          \n",
       "\n",
       "                                                                                                                         product_id  \\\n",
       "0  33120 28985 9327 45918 30035 17794 40141 1819                                                                                      \n",
       "1  33754 24838 17704 21903 17668 46667 17461 32665                                                                                    \n",
       "2  46842 39758 27761 10054 21351 22598 34862 40285 17616 25146 32645 41276                                                            \n",
       "3  13176 47329 27966 23909 48370 13245 27360 6348 40878 6184 48002 20914 37011 12962 45698 41176 48366 47209 46522 38693 48825 8479   \n",
       "4  34050 46802                                                                                                                        \n",
       "\n",
       "   num_products  user_id   eval  \n",
       "0  8             202279   prior  \n",
       "1  8             205970   prior  \n",
       "2  12            178520   prior  \n",
       "3  22            156122   prior  \n",
       "4  2             142903   prior  "
      ]
     },
     "metadata": {},
     "output_type": "display_data"
    }
   ],
   "source": [
    "display(train.head())"
   ]
  },
  {
   "cell_type": "markdown",
   "metadata": {},
   "source": [
    "## 3.1. Random sample for faster processing"
   ]
  },
  {
   "cell_type": "code",
   "execution_count": 89,
   "metadata": {},
   "outputs": [
    {
     "name": "stdout",
     "output_type": "stream",
     "text": [
      "(1000000, 5)\n"
     ]
    }
   ],
   "source": [
    "#===============================================\n",
    "# randomly sample training data\n",
    "#===============================================\n",
    "\n",
    "sample_size = 1000000\n",
    "train = train.sample(n = sample_size)\n",
    "train = train.reset_index(drop = True)\n",
    "print(train.shape)"
   ]
  },
  {
   "cell_type": "code",
   "execution_count": 90,
   "metadata": {},
   "outputs": [
    {
     "data": {
      "text/html": [
       "<div>\n",
       "<table border=\"1\" class=\"dataframe\">\n",
       "  <thead>\n",
       "    <tr style=\"text-align: right;\">\n",
       "      <th></th>\n",
       "      <th>order_id</th>\n",
       "      <th>product_id</th>\n",
       "      <th>num_products</th>\n",
       "      <th>user_id</th>\n",
       "      <th>eval</th>\n",
       "    </tr>\n",
       "  </thead>\n",
       "  <tbody>\n",
       "    <tr>\n",
       "      <th>0</th>\n",
       "      <td>1920048</td>\n",
       "      <td>3957 19272 43619 23334 42513 48110</td>\n",
       "      <td>6</td>\n",
       "      <td>184468</td>\n",
       "      <td>prior</td>\n",
       "    </tr>\n",
       "    <tr>\n",
       "      <th>1</th>\n",
       "      <td>1652703</td>\n",
       "      <td>36472 42447 13914</td>\n",
       "      <td>3</td>\n",
       "      <td>16057</td>\n",
       "      <td>prior</td>\n",
       "    </tr>\n",
       "    <tr>\n",
       "      <th>2</th>\n",
       "      <td>2810532</td>\n",
       "      <td>36393 35413 44213 39277 5067 35383 38028 47766 49265 32553 49534 24780 19068 27706 24097 5923</td>\n",
       "      <td>16</td>\n",
       "      <td>50475</td>\n",
       "      <td>prior</td>\n",
       "    </tr>\n",
       "    <tr>\n",
       "      <th>3</th>\n",
       "      <td>527156</td>\n",
       "      <td>24852 28204 39877 37731 33007 46486 22236 38407 38267 33575 9292</td>\n",
       "      <td>11</td>\n",
       "      <td>54729</td>\n",
       "      <td>prior</td>\n",
       "    </tr>\n",
       "    <tr>\n",
       "      <th>4</th>\n",
       "      <td>1621898</td>\n",
       "      <td>49235 1729 13176 3298 6184 41787 13575 31651 20955 8843 39657</td>\n",
       "      <td>11</td>\n",
       "      <td>50121</td>\n",
       "      <td>prior</td>\n",
       "    </tr>\n",
       "    <tr>\n",
       "      <th>5</th>\n",
       "      <td>1236074</td>\n",
       "      <td>7401 47547 24852 47144 30583 32465 28601 44142 16797 43961 17634 47766 18027 27783 21903 43789 23484 44570 46667 5380 26209 33120</td>\n",
       "      <td>22</td>\n",
       "      <td>162332</td>\n",
       "      <td>prior</td>\n",
       "    </tr>\n",
       "    <tr>\n",
       "      <th>6</th>\n",
       "      <td>2559627</td>\n",
       "      <td>12419 13984 49683</td>\n",
       "      <td>3</td>\n",
       "      <td>80403</td>\n",
       "      <td>prior</td>\n",
       "    </tr>\n",
       "    <tr>\n",
       "      <th>7</th>\n",
       "      <td>3231212</td>\n",
       "      <td>41836 4217 13176 27966 30450 41329 21137 3098 39928</td>\n",
       "      <td>9</td>\n",
       "      <td>78481</td>\n",
       "      <td>prior</td>\n",
       "    </tr>\n",
       "    <tr>\n",
       "      <th>8</th>\n",
       "      <td>1233569</td>\n",
       "      <td>16518 20985 40189 43933 1069 13249 18115 23763 28384</td>\n",
       "      <td>9</td>\n",
       "      <td>56162</td>\n",
       "      <td>prior</td>\n",
       "    </tr>\n",
       "    <tr>\n",
       "      <th>9</th>\n",
       "      <td>2381098</td>\n",
       "      <td>27086 32124 19348 37774 41596</td>\n",
       "      <td>5</td>\n",
       "      <td>131708</td>\n",
       "      <td>prior</td>\n",
       "    </tr>\n",
       "  </tbody>\n",
       "</table>\n",
       "</div>"
      ],
      "text/plain": [
       "   order_id  \\\n",
       "0  1920048    \n",
       "1  1652703    \n",
       "2  2810532    \n",
       "3  527156     \n",
       "4  1621898    \n",
       "5  1236074    \n",
       "6  2559627    \n",
       "7  3231212    \n",
       "8  1233569    \n",
       "9  2381098    \n",
       "\n",
       "                                                                                                                          product_id  \\\n",
       "0  3957 19272 43619 23334 42513 48110                                                                                                  \n",
       "1  36472 42447 13914                                                                                                                   \n",
       "2  36393 35413 44213 39277 5067 35383 38028 47766 49265 32553 49534 24780 19068 27706 24097 5923                                       \n",
       "3  24852 28204 39877 37731 33007 46486 22236 38407 38267 33575 9292                                                                    \n",
       "4  49235 1729 13176 3298 6184 41787 13575 31651 20955 8843 39657                                                                       \n",
       "5  7401 47547 24852 47144 30583 32465 28601 44142 16797 43961 17634 47766 18027 27783 21903 43789 23484 44570 46667 5380 26209 33120   \n",
       "6  12419 13984 49683                                                                                                                   \n",
       "7  41836 4217 13176 27966 30450 41329 21137 3098 39928                                                                                 \n",
       "8  16518 20985 40189 43933 1069 13249 18115 23763 28384                                                                                \n",
       "9  27086 32124 19348 37774 41596                                                                                                       \n",
       "\n",
       "   num_products  user_id   eval  \n",
       "0  6             184468   prior  \n",
       "1  3             16057    prior  \n",
       "2  16            50475    prior  \n",
       "3  11            54729    prior  \n",
       "4  11            50121    prior  \n",
       "5  22            162332   prior  \n",
       "6  3             80403    prior  \n",
       "7  9             78481    prior  \n",
       "8  9             56162    prior  \n",
       "9  5             131708   prior  "
      ]
     },
     "metadata": {},
     "output_type": "display_data"
    }
   ],
   "source": [
    "display(train.head(10))"
   ]
  },
  {
   "cell_type": "markdown",
   "metadata": {},
   "source": [
    "## 3.2. Tokenize sentences"
   ]
  },
  {
   "cell_type": "code",
   "execution_count": 113,
   "metadata": {},
   "outputs": [],
   "source": [
    "# start pool process for parallel procressing\n",
    "pool = multiprocessing.Pool(processes = cpus)"
   ]
  },
  {
   "cell_type": "code",
   "execution_count": 115,
   "metadata": {},
   "outputs": [
    {
     "name": "stderr",
     "output_type": "stream",
     "text": [
      "[nltk_data] Downloading package punkt to /home/ubuntu/nltk_data...\n",
      "[nltk_data]   Unzipping tokenizers/punkt.zip.\n"
     ]
    },
    {
     "data": {
      "text/plain": [
       "True"
      ]
     },
     "execution_count": 115,
     "metadata": {},
     "output_type": "execute_result"
    }
   ],
   "source": [
    "# text processing\n",
    "from nltk import sent_tokenize, word_tokenize\n",
    "import nltk\n",
    "nltk.download(\"punkt\")"
   ]
  },
  {
   "cell_type": "code",
   "execution_count": 119,
   "metadata": {},
   "outputs": [
    {
     "name": "stdout",
     "output_type": "stream",
     "text": [
      "1000000\n"
     ]
    }
   ],
   "source": [
    "# training sentences\n",
    "t0 = time.time()\n",
    "train_orders = pool.map(word_tokenize, train[\"product_id\"])\n",
    "t1 = time.time()\n",
    "print(len(train_orders))"
   ]
  },
  {
   "cell_type": "code",
   "execution_count": 120,
   "metadata": {
    "scrolled": true
   },
   "outputs": [
    {
     "name": "stdout",
     "output_type": "stream",
     "text": [
      "Time Taken: 61.746809244155884\n"
     ]
    }
   ],
   "source": [
    "# time taken\n",
    "print(f\"Time Taken: {t1 - t0}\")"
   ]
  },
  {
   "cell_type": "code",
   "execution_count": 121,
   "metadata": {},
   "outputs": [
    {
     "data": {
      "text/plain": [
       "[['3957', '19272', '43619', '23334', '42513', '48110'],\n",
       " ['36472', '42447', '13914'],\n",
       " ['36393',\n",
       "  '35413',\n",
       "  '44213',\n",
       "  '39277',\n",
       "  '5067',\n",
       "  '35383',\n",
       "  '38028',\n",
       "  '47766',\n",
       "  '49265',\n",
       "  '32553',\n",
       "  '49534',\n",
       "  '24780',\n",
       "  '19068',\n",
       "  '27706',\n",
       "  '24097',\n",
       "  '5923']]"
      ]
     },
     "execution_count": 121,
     "metadata": {},
     "output_type": "execute_result"
    }
   ],
   "source": [
    "# training orders\n",
    "train_orders[0:3]"
   ]
  },
  {
   "cell_type": "code",
   "execution_count": 95,
   "metadata": {},
   "outputs": [
    {
     "ename": "LookupError",
     "evalue": "\n**********************************************************************\n  Resource \u001b[93mpunkt\u001b[0m not found.\n  Please use the NLTK Downloader to obtain the resource:\n\n  \u001b[31m>>> import nltk\n  >>> nltk.download('punkt')\n  \u001b[0m\n  For more information see: https://www.nltk.org/data.html\n\n  Attempted to load \u001b[93mtokenizers/punkt/PY3/english.pickle\u001b[0m\n\n  Searched in:\n    - '/home/ubuntu/nltk_data'\n    - '/home/ubuntu/conda/envs/conda_env/nltk_data'\n    - '/home/ubuntu/conda/envs/conda_env/share/nltk_data'\n    - '/home/ubuntu/conda/envs/conda_env/lib/nltk_data'\n    - '/usr/share/nltk_data'\n    - '/usr/local/share/nltk_data'\n    - '/usr/lib/nltk_data'\n    - '/usr/local/lib/nltk_data'\n    - ''\n**********************************************************************\n",
     "output_type": "error",
     "traceback": [
      "\u001b[0;31m---------------------------------------------------------------------------\u001b[0m",
      "\u001b[0;31mRemoteTraceback\u001b[0m                           Traceback (most recent call last)",
      "\u001b[0;31mRemoteTraceback\u001b[0m: \n\"\"\"\nTraceback (most recent call last):\n  File \"/home/ubuntu/conda/envs/conda_env/lib/python3.6/multiprocessing/pool.py\", line 119, in worker\n    result = (True, func(*args, **kwds))\n  File \"/home/ubuntu/conda/envs/conda_env/lib/python3.6/multiprocessing/pool.py\", line 44, in mapstar\n    return list(map(*args))\n  File \"/home/ubuntu/conda/envs/conda_env/lib/python3.6/site-packages/nltk/tokenize/__init__.py\", line 144, in word_tokenize\n    sentences = [text] if preserve_line else sent_tokenize(text, language)\n  File \"/home/ubuntu/conda/envs/conda_env/lib/python3.6/site-packages/nltk/tokenize/__init__.py\", line 105, in sent_tokenize\n    tokenizer = load('tokenizers/punkt/{0}.pickle'.format(language))\n  File \"/home/ubuntu/conda/envs/conda_env/lib/python3.6/site-packages/nltk/data.py\", line 868, in load\n    opened_resource = _open(resource_url)\n  File \"/home/ubuntu/conda/envs/conda_env/lib/python3.6/site-packages/nltk/data.py\", line 993, in _open\n    return find(path_, path + ['']).open()\n  File \"/home/ubuntu/conda/envs/conda_env/lib/python3.6/site-packages/nltk/data.py\", line 701, in find\n    raise LookupError(resource_not_found)\nLookupError: \n**********************************************************************\n  Resource \u001b[93mpunkt\u001b[0m not found.\n  Please use the NLTK Downloader to obtain the resource:\n\n  \u001b[31m>>> import nltk\n  >>> nltk.download('punkt')\n  \u001b[0m\n  For more information see: https://www.nltk.org/data.html\n\n  Attempted to load \u001b[93mtokenizers/punkt/PY3/english.pickle\u001b[0m\n\n  Searched in:\n    - '/home/ubuntu/nltk_data'\n    - '/home/ubuntu/conda/envs/conda_env/nltk_data'\n    - '/home/ubuntu/conda/envs/conda_env/share/nltk_data'\n    - '/home/ubuntu/conda/envs/conda_env/lib/nltk_data'\n    - '/usr/share/nltk_data'\n    - '/usr/local/share/nltk_data'\n    - '/usr/lib/nltk_data'\n    - '/usr/local/lib/nltk_data'\n    - ''\n**********************************************************************\n\n\"\"\"",
      "\nThe above exception was the direct cause of the following exception:\n",
      "\u001b[0;31mLookupError\u001b[0m                               Traceback (most recent call last)",
      "\u001b[0;32m<ipython-input-95-5660df0ab5cc>\u001b[0m in \u001b[0;36m<module>\u001b[0;34m\u001b[0m\n\u001b[1;32m      1\u001b[0m \u001b[0;31m# validation sentences\u001b[0m\u001b[0;34m\u001b[0m\u001b[0;34m\u001b[0m\u001b[0;34m\u001b[0m\u001b[0m\n\u001b[1;32m      2\u001b[0m \u001b[0mt0\u001b[0m \u001b[0;34m=\u001b[0m \u001b[0mtime\u001b[0m\u001b[0;34m.\u001b[0m\u001b[0mtime\u001b[0m\u001b[0;34m(\u001b[0m\u001b[0;34m)\u001b[0m\u001b[0;34m\u001b[0m\u001b[0;34m\u001b[0m\u001b[0m\n\u001b[0;32m----> 3\u001b[0;31m \u001b[0mval_orders\u001b[0m \u001b[0;34m=\u001b[0m \u001b[0mpool\u001b[0m\u001b[0;34m.\u001b[0m\u001b[0mmap\u001b[0m\u001b[0;34m(\u001b[0m\u001b[0mword_tokenize\u001b[0m\u001b[0;34m,\u001b[0m \u001b[0mval\u001b[0m\u001b[0;34m[\u001b[0m\u001b[0;34m\"product_id\"\u001b[0m\u001b[0;34m]\u001b[0m\u001b[0;34m)\u001b[0m\u001b[0;34m\u001b[0m\u001b[0;34m\u001b[0m\u001b[0m\n\u001b[0m\u001b[1;32m      4\u001b[0m \u001b[0mt1\u001b[0m \u001b[0;34m=\u001b[0m \u001b[0mtime\u001b[0m\u001b[0;34m.\u001b[0m\u001b[0mtime\u001b[0m\u001b[0;34m(\u001b[0m\u001b[0;34m)\u001b[0m\u001b[0;34m\u001b[0m\u001b[0;34m\u001b[0m\u001b[0m\n\u001b[1;32m      5\u001b[0m \u001b[0mprint\u001b[0m\u001b[0;34m(\u001b[0m\u001b[0mlen\u001b[0m\u001b[0;34m(\u001b[0m\u001b[0mval_orders\u001b[0m\u001b[0;34m)\u001b[0m\u001b[0;34m)\u001b[0m\u001b[0;34m\u001b[0m\u001b[0;34m\u001b[0m\u001b[0m\n",
      "\u001b[0;32m~/conda/envs/conda_env/lib/python3.6/multiprocessing/pool.py\u001b[0m in \u001b[0;36mmap\u001b[0;34m(self, func, iterable, chunksize)\u001b[0m\n\u001b[1;32m    286\u001b[0m         \u001b[0;32min\u001b[0m \u001b[0ma\u001b[0m \u001b[0mlist\u001b[0m \u001b[0mthat\u001b[0m \u001b[0;32mis\u001b[0m \u001b[0mreturned\u001b[0m\u001b[0;34m.\u001b[0m\u001b[0;34m\u001b[0m\u001b[0;34m\u001b[0m\u001b[0m\n\u001b[1;32m    287\u001b[0m         '''\n\u001b[0;32m--> 288\u001b[0;31m         \u001b[0;32mreturn\u001b[0m \u001b[0mself\u001b[0m\u001b[0;34m.\u001b[0m\u001b[0m_map_async\u001b[0m\u001b[0;34m(\u001b[0m\u001b[0mfunc\u001b[0m\u001b[0;34m,\u001b[0m \u001b[0miterable\u001b[0m\u001b[0;34m,\u001b[0m \u001b[0mmapstar\u001b[0m\u001b[0;34m,\u001b[0m \u001b[0mchunksize\u001b[0m\u001b[0;34m)\u001b[0m\u001b[0;34m.\u001b[0m\u001b[0mget\u001b[0m\u001b[0;34m(\u001b[0m\u001b[0;34m)\u001b[0m\u001b[0;34m\u001b[0m\u001b[0;34m\u001b[0m\u001b[0m\n\u001b[0m\u001b[1;32m    289\u001b[0m \u001b[0;34m\u001b[0m\u001b[0m\n\u001b[1;32m    290\u001b[0m     \u001b[0;32mdef\u001b[0m \u001b[0mstarmap\u001b[0m\u001b[0;34m(\u001b[0m\u001b[0mself\u001b[0m\u001b[0;34m,\u001b[0m \u001b[0mfunc\u001b[0m\u001b[0;34m,\u001b[0m \u001b[0miterable\u001b[0m\u001b[0;34m,\u001b[0m \u001b[0mchunksize\u001b[0m\u001b[0;34m=\u001b[0m\u001b[0;32mNone\u001b[0m\u001b[0;34m)\u001b[0m\u001b[0;34m:\u001b[0m\u001b[0;34m\u001b[0m\u001b[0;34m\u001b[0m\u001b[0m\n",
      "\u001b[0;32m~/conda/envs/conda_env/lib/python3.6/multiprocessing/pool.py\u001b[0m in \u001b[0;36mget\u001b[0;34m(self, timeout)\u001b[0m\n\u001b[1;32m    668\u001b[0m             \u001b[0;32mreturn\u001b[0m \u001b[0mself\u001b[0m\u001b[0;34m.\u001b[0m\u001b[0m_value\u001b[0m\u001b[0;34m\u001b[0m\u001b[0;34m\u001b[0m\u001b[0m\n\u001b[1;32m    669\u001b[0m         \u001b[0;32melse\u001b[0m\u001b[0;34m:\u001b[0m\u001b[0;34m\u001b[0m\u001b[0;34m\u001b[0m\u001b[0m\n\u001b[0;32m--> 670\u001b[0;31m             \u001b[0;32mraise\u001b[0m \u001b[0mself\u001b[0m\u001b[0;34m.\u001b[0m\u001b[0m_value\u001b[0m\u001b[0;34m\u001b[0m\u001b[0;34m\u001b[0m\u001b[0m\n\u001b[0m\u001b[1;32m    671\u001b[0m \u001b[0;34m\u001b[0m\u001b[0m\n\u001b[1;32m    672\u001b[0m     \u001b[0;32mdef\u001b[0m \u001b[0m_set\u001b[0m\u001b[0;34m(\u001b[0m\u001b[0mself\u001b[0m\u001b[0;34m,\u001b[0m \u001b[0mi\u001b[0m\u001b[0;34m,\u001b[0m \u001b[0mobj\u001b[0m\u001b[0;34m)\u001b[0m\u001b[0;34m:\u001b[0m\u001b[0;34m\u001b[0m\u001b[0;34m\u001b[0m\u001b[0m\n",
      "\u001b[0;31mLookupError\u001b[0m: \n**********************************************************************\n  Resource \u001b[93mpunkt\u001b[0m not found.\n  Please use the NLTK Downloader to obtain the resource:\n\n  \u001b[31m>>> import nltk\n  >>> nltk.download('punkt')\n  \u001b[0m\n  For more information see: https://www.nltk.org/data.html\n\n  Attempted to load \u001b[93mtokenizers/punkt/PY3/english.pickle\u001b[0m\n\n  Searched in:\n    - '/home/ubuntu/nltk_data'\n    - '/home/ubuntu/conda/envs/conda_env/nltk_data'\n    - '/home/ubuntu/conda/envs/conda_env/share/nltk_data'\n    - '/home/ubuntu/conda/envs/conda_env/lib/nltk_data'\n    - '/usr/share/nltk_data'\n    - '/usr/local/share/nltk_data'\n    - '/usr/lib/nltk_data'\n    - '/usr/local/lib/nltk_data'\n    - ''\n**********************************************************************\n"
     ]
    }
   ],
   "source": [
    "# validation sentences\n",
    "t0 = time.time()\n",
    "val_orders = pool.map(word_tokenize, val[\"product_id\"])\n",
    "t1 = time.time()\n",
    "print(len(val_orders))"
   ]
  },
  {
   "cell_type": "markdown",
   "metadata": {},
   "source": [
    "----"
   ]
  },
  {
   "cell_type": "markdown",
   "metadata": {},
   "source": [
    "### In-class exercise"
   ]
  },
  {
   "cell_type": "code",
   "execution_count": null,
   "metadata": {},
   "outputs": [],
   "source": [
    "# what do the first three validation orders look like?"
   ]
  },
  {
   "cell_type": "code",
   "execution_count": null,
   "metadata": {},
   "outputs": [],
   "source": [
    "# Can you similarly tokenize the test sentences?\n",
    "#print(len(test_orders))"
   ]
  },
  {
   "cell_type": "markdown",
   "metadata": {},
   "source": [
    "----"
   ]
  },
  {
   "cell_type": "markdown",
   "metadata": {},
   "source": [
    "# 4. Word2Vec sample model"
   ]
  },
  {
   "cell_type": "markdown",
   "metadata": {},
   "source": [
    "## 4.1. Define and train model"
   ]
  },
  {
   "cell_type": "code",
   "execution_count": 122,
   "metadata": {},
   "outputs": [],
   "source": [
    "#===============================================\n",
    "# define and train model\n",
    "#===============================================\n",
    "\n",
    "w2v_1 = gensim.models.Word2Vec(sentences = train_orders,\n",
    "                               workers = multiprocessing.cpu_count(),\n",
    "                               seed = 1234)"
   ]
  },
  {
   "cell_type": "markdown",
   "metadata": {},
   "source": [
    "## Model properties"
   ]
  },
  {
   "cell_type": "code",
   "execution_count": 123,
   "metadata": {},
   "outputs": [
    {
     "data": {
      "text/plain": [
       "'Vocab length: 14340'"
      ]
     },
     "execution_count": 123,
     "metadata": {},
     "output_type": "execute_result"
    }
   ],
   "source": [
    "#===============================================\n",
    "# vocabulary\n",
    "#===============================================\n",
    "\n",
    "# vocabulary length\n",
    "f\"Vocab length: {len(w2v_1.wv.vocab)}\""
   ]
  },
  {
   "cell_type": "code",
   "execution_count": 124,
   "metadata": {},
   "outputs": [
    {
     "data": {
      "text/plain": [
       "['3957', '19272', '43619', '23334', '42513']"
      ]
     },
     "execution_count": 124,
     "metadata": {},
     "output_type": "execute_result"
    }
   ],
   "source": [
    "# sample vocabulary\n",
    "list(w2v_1.wv.vocab.keys())[0:5]"
   ]
  },
  {
   "cell_type": "code",
   "execution_count": 125,
   "metadata": {},
   "outputs": [
    {
     "name": "stdout",
     "output_type": "stream",
     "text": [
      "1000000\n"
     ]
    }
   ],
   "source": [
    "# length of corpus\n",
    "print(w2v_1.corpus_count)"
   ]
  },
  {
   "cell_type": "code",
   "execution_count": 126,
   "metadata": {},
   "outputs": [
    {
     "data": {
      "text/plain": [
       "5"
      ]
     },
     "execution_count": 126,
     "metadata": {},
     "output_type": "execute_result"
    }
   ],
   "source": [
    "# number of iterations\n",
    "w2v_1.iter"
   ]
  },
  {
   "cell_type": "code",
   "execution_count": 127,
   "metadata": {},
   "outputs": [
    {
     "name": "stdout",
     "output_type": "stream",
     "text": [
      "(100,)\n",
      "------------\n",
      "------------\n",
      "[-0.2921951  -0.2774933   0.31231406 -1.1459032  -1.4384844  -1.1607298\n",
      "  1.6184446   0.4362589   0.909341   -0.6156968   1.1243443  -0.37178704\n",
      " -0.82659835  1.6588186  -0.34234384  0.6741424  -0.0677434  -1.434942\n",
      " -0.99877584  0.39590904  0.07212728 -1.7302359  -0.21895796 -0.6425624\n",
      " -0.8210384  -0.23151484 -0.5304251  -0.41955924 -1.0081178  -0.00656103\n",
      "  0.654342   -0.13712059  1.0331649   1.1863514  -1.1256733  -0.07807098\n",
      " -0.11406675 -0.15463354  0.6124659  -0.9900952  -0.4467069   0.4289477\n",
      "  1.3069983  -0.12499543 -0.35292172  0.50832486  0.17547204 -0.5785667\n",
      " -0.5113401  -1.0544978  -0.8591493  -2.0054648  -0.02709961 -1.1678647\n",
      "  1.5761309  -0.457774    0.889638   -0.33484557 -0.0335529  -0.18968026\n",
      "  1.2397945  -0.22408889 -1.1410028   0.16403967  0.85970885 -0.9953738\n",
      " -0.6473702  -0.4719187  -0.63030416 -0.9175818   1.4980906  -1.4095701\n",
      "  0.6689633   0.6366983  -0.5289587  -1.2240313  -0.28747854  0.67555565\n",
      "  0.5956626   0.2233737   0.3035147   0.04840464 -0.48479745 -0.57869625\n",
      " -0.43405172  1.2518218   0.49905366 -0.8907738  -0.66099226 -0.07805088\n",
      " -0.74046177  0.46760008 -0.24653737  0.45473936 -0.9323861  -0.41951105\n",
      " -0.05197878 -0.05730959  0.6277776   0.9349959 ]\n"
     ]
    }
   ],
   "source": [
    "#===============================================\n",
    "# product vectors\n",
    "#===============================================\n",
    "\n",
    "# enter product-id\n",
    "prod_id = \"1\"\n",
    "print(w2v_1[prod_id].shape)\n",
    "print(\"------------\")\n",
    "print(\"------------\")\n",
    "print(w2v_1[prod_id])"
   ]
  },
  {
   "cell_type": "markdown",
   "metadata": {},
   "source": [
    "## 4.2. Update embeddings"
   ]
  },
  {
   "cell_type": "code",
   "execution_count": 128,
   "metadata": {},
   "outputs": [
    {
     "data": {
      "text/plain": [
       "(19271435, 20149918)"
      ]
     },
     "execution_count": 128,
     "metadata": {},
     "output_type": "execute_result"
    }
   ],
   "source": [
    "#===============================================\n",
    "# update model weights\n",
    "#===============================================\n",
    "w2v_1.train(sentences = train_orders, total_examples = w2v_1.corpus_count, epochs = 2)"
   ]
  },
  {
   "cell_type": "markdown",
   "metadata": {},
   "source": [
    "## 4.3. Inspect model output"
   ]
  },
  {
   "cell_type": "code",
   "execution_count": 129,
   "metadata": {},
   "outputs": [
    {
     "name": "stdout",
     "output_type": "stream",
     "text": [
      "(100,)\n",
      "------------\n",
      "------------\n",
      "[-0.18340307 -0.20473765  0.30213296 -1.1181437  -1.3066211  -1.458569\n",
      "  1.7810853   0.4266802   0.8892755  -0.8095327   1.2402048  -0.32980502\n",
      " -0.7600837   1.7743658  -0.23045318  0.78598017  0.02757921 -1.8541154\n",
      " -1.2626029   0.3881608   0.02119995 -1.9186949  -0.11266865 -0.53185076\n",
      " -1.0318774  -0.41306818 -0.42572448 -0.15743604 -1.0020565   0.21490434\n",
      "  0.37838268 -0.04162845  1.2247268   1.6842422  -0.8747928  -0.07366025\n",
      " -0.21311611 -0.38670984  0.49484226 -0.7695396  -0.47592476  0.5491736\n",
      "  1.5614605  -0.19499493 -0.49245828  0.47697645  0.2620305  -0.6057889\n",
      " -0.4794761  -1.1938281  -0.733495   -2.4463716   0.32225138 -1.1411351\n",
      "  1.6853437   0.08987441  0.9156961  -0.3714626  -0.28918737  0.01321717\n",
      "  1.1110734  -0.21424322 -1.3548983   0.18955217  1.0688572  -1.0807366\n",
      " -0.8930868  -0.5858282  -0.66466165 -1.0500202   1.464872   -1.8489985\n",
      "  0.6587399   0.73248816 -0.66879237 -1.3105719  -0.3379013   0.8618283\n",
      "  0.6457335   0.24330069  0.4228539  -0.0977502  -0.36802402 -0.70536244\n",
      " -0.61886847  1.0855557   0.2961259  -0.880085   -0.90863603  0.20103732\n",
      " -0.65601176  0.5366191  -0.39790207  0.48659974 -1.0404685  -0.46883833\n",
      " -0.11555921 -0.46153075  0.73216736  0.7193515 ]\n"
     ]
    }
   ],
   "source": [
    "#===============================================\n",
    "# upadted product vectors\n",
    "#===============================================\n",
    "\n",
    "# enter product-id\n",
    "prod_id = \"1\"\n",
    "print(w2v_1[prod_id].shape)\n",
    "print(\"------------\")\n",
    "print(\"------------\")\n",
    "print(w2v_1[prod_id])"
   ]
  },
  {
   "cell_type": "markdown",
   "metadata": {},
   "source": [
    "--------"
   ]
  },
  {
   "cell_type": "markdown",
   "metadata": {},
   "source": [
    "# 5. Improve W2V model"
   ]
  },
  {
   "cell_type": "code",
   "execution_count": null,
   "metadata": {},
   "outputs": [],
   "source": [
    "#===============================================\n",
    "# model parameters\n",
    "#===============================================\n",
    "\n",
    "# size of embedding matrix\n",
    "emb_size = 100\n",
    "\n",
    "# context window size\n",
    "cxt_window = 10\n",
    "\n",
    "# batch size for gradient update\n",
    "batch_size = 10000\n",
    "\n",
    "# down-sample high frequency words\n",
    "hfs = 0.001\n",
    "\n",
    "# learning rate\n",
    "lr = 0.05"
   ]
  },
  {
   "cell_type": "code",
   "execution_count": 131,
   "metadata": {},
   "outputs": [],
   "source": [
    "#===============================================\n",
    "# define model\n",
    "#===============================================\n",
    "\n",
    "w2v_1 = gensim.models.Word2Vec(sentences = train_orders,\n",
    "                               size = emb_size, # number of columns in embedding matrix\n",
    "                               hs = 1, # hierarchical softmax\n",
    "                               negative = 0, # negative sampling\n",
    "                               window = cxt_window, # context window\n",
    "                               min_count = 1, # minimum frequency count\n",
    "                               batch_words = batch_size, # batch size for update\n",
    "                               alpha = lr, # learning rate\n",
    "                               sample = hfs, # down sample high frequency words \n",
    "                               workers = cpus,\n",
    "                               seed = 1234)"
   ]
  },
  {
   "cell_type": "markdown",
   "metadata": {},
   "source": [
    "## 5.1. Score on validation and test"
   ]
  },
  {
   "cell_type": "code",
   "execution_count": 132,
   "metadata": {},
   "outputs": [],
   "source": [
    "#===============================================\n",
    "# Score model to get log-likelihood\n",
    "#===============================================\n",
    "\n",
    "def ScoreW2V(test_sent, model, normalize = True, avg_over_sent = True):\n",
    "    test_score = model.score(test_sent, total_sentences = len(test_sent), \n",
    "                             chunksize = 100,\n",
    "                             queue_factor = 2,\n",
    "                             report_delay = 1)\n",
    "    if normalize:\n",
    "        test_score = [test_score[x]/len(test_sent[x]) for x in range(len(test_sent))]\n",
    "    else:\n",
    "        test_score = list(test_score)\n",
    "    if avg_over_sent:\n",
    "        test_score = np.mean(test_score)\n",
    "    return test_score"
   ]
  },
  {
   "cell_type": "code",
   "execution_count": 133,
   "metadata": {},
   "outputs": [
    {
     "ename": "NameError",
     "evalue": "name 'val_orders' is not defined",
     "output_type": "error",
     "traceback": [
      "\u001b[0;31m---------------------------------------------------------------------------\u001b[0m",
      "\u001b[0;31mNameError\u001b[0m                                 Traceback (most recent call last)",
      "\u001b[0;32m<ipython-input-133-c8932a1931c4>\u001b[0m in \u001b[0;36m<module>\u001b[0;34m\u001b[0m\n\u001b[0;32m----> 1\u001b[0;31m \u001b[0mw2v_1_val\u001b[0m \u001b[0;34m=\u001b[0m \u001b[0mScoreW2V\u001b[0m\u001b[0;34m(\u001b[0m\u001b[0mtest_sent\u001b[0m \u001b[0;34m=\u001b[0m \u001b[0mval_orders\u001b[0m\u001b[0;34m,\u001b[0m \u001b[0mmodel\u001b[0m \u001b[0;34m=\u001b[0m \u001b[0mw2v_1\u001b[0m\u001b[0;34m,\u001b[0m \u001b[0mnormalize\u001b[0m \u001b[0;34m=\u001b[0m \u001b[0;32mTrue\u001b[0m\u001b[0;34m,\u001b[0m \u001b[0mavg_over_sent\u001b[0m \u001b[0;34m=\u001b[0m \u001b[0;32mTrue\u001b[0m\u001b[0;34m)\u001b[0m\u001b[0;34m\u001b[0m\u001b[0;34m\u001b[0m\u001b[0m\n\u001b[0m",
      "\u001b[0;31mNameError\u001b[0m: name 'val_orders' is not defined"
     ]
    }
   ],
   "source": [
    "w2v_1_val = ScoreW2V(test_sent = val_orders, model = w2v_1, normalize = True, avg_over_sent = True)"
   ]
  },
  {
   "cell_type": "code",
   "execution_count": null,
   "metadata": {
    "scrolled": true
   },
   "outputs": [],
   "source": [
    "w2v_1_val"
   ]
  },
  {
   "cell_type": "markdown",
   "metadata": {},
   "source": [
    "## 5.2. Similar products"
   ]
  },
  {
   "cell_type": "code",
   "execution_count": null,
   "metadata": {},
   "outputs": [],
   "source": [
    "#===============================================\n",
    "# similar products\n",
    "#===============================================\n",
    "\n",
    "# sample product\n",
    "prod_id = \"10\"\n",
    "\n",
    "# product info for sample product\n",
    "display(products.loc[products[\"product_id\"].isin([prod_id]), :])"
   ]
  },
  {
   "cell_type": "code",
   "execution_count": null,
   "metadata": {},
   "outputs": [],
   "source": [
    "#===============================================\n",
    "# similarity from model\n",
    "#===============================================\n",
    "\n",
    "w2v_1.wv.most_similar(prod_id)"
   ]
  },
  {
   "cell_type": "code",
   "execution_count": null,
   "metadata": {
    "scrolled": true
   },
   "outputs": [],
   "source": [
    "#===============================================\n",
    "# lookup product info\n",
    "#===============================================\n",
    "most_similar_prods = [y[0] for y in w2v_1.wv.most_similar(positive = prod_id)]\n",
    "most_similar_prods = products.loc[products[\"product_id\"].isin(most_similar_prods), :]\n",
    "display(most_similar_prods)"
   ]
  },
  {
   "cell_type": "code",
   "execution_count": null,
   "metadata": {},
   "outputs": [],
   "source": [
    "#===============================================\n",
    "# most dissimilar products\n",
    "#===============================================\n",
    "most_dissimilar_prods = [y[0] for y in w2v_1.wv.most_similar(negative = [prod_id])]\n",
    "most_dissimilar_prods = products.loc[products[\"product_id\"].isin(most_dissimilar_prods), :]\n",
    "display(most_dissimilar_prods)"
   ]
  },
  {
   "cell_type": "markdown",
   "metadata": {},
   "source": [
    "----"
   ]
  },
  {
   "cell_type": "markdown",
   "metadata": {},
   "source": [
    "### In-class exercise"
   ]
  },
  {
   "cell_type": "code",
   "execution_count": null,
   "metadata": {},
   "outputs": [],
   "source": [
    "# find the most similar products to \n",
    "prod_id = \"100\"\n",
    "\n",
    "# product info for sample product\n",
    "display(products.loc[products[\"product_id\"].isin([prod_id]), :])"
   ]
  },
  {
   "cell_type": "code",
   "execution_count": null,
   "metadata": {},
   "outputs": [],
   "source": [
    "# which products are most similar to peanut better and strawberry jam sandwich"
   ]
  },
  {
   "cell_type": "code",
   "execution_count": null,
   "metadata": {},
   "outputs": [],
   "source": [
    "# what about the most dissimilar products?"
   ]
  },
  {
   "cell_type": "markdown",
   "metadata": {},
   "source": [
    "----"
   ]
  },
  {
   "cell_type": "markdown",
   "metadata": {},
   "source": [
    "# 5. Product maps using t-sne "
   ]
  },
  {
   "cell_type": "markdown",
   "metadata": {},
   "source": [
    "## 5.1. Extract all product vectors"
   ]
  },
  {
   "cell_type": "code",
   "execution_count": null,
   "metadata": {},
   "outputs": [],
   "source": [
    "#===============================================\n",
    "# product vectors\n",
    "#===============================================\n",
    "\n",
    "items = [key for key in w2v_1.wv.vocab.keys()] # all product-ids\n",
    "word_vec = [list(w2v_1[item]) for item in items] # \"word\" vector for each product id\n",
    "word_vec = np.array(word_vec) # convert to array\n",
    "word_vec_df = pd.DataFrame(word_vec) # convert to data frame\n",
    "w2v_vec_names = [\"wv\" + str(x + 1) for x in range(word_vec_df.shape[1])] # column names\n",
    "word_vec_df.columns = w2v_vec_names # assign column names\n",
    "word_vec_df[\"product_id\"] = items # include product id in data frame\n",
    "word_vec_df[\"product_id\"] = word_vec_df[\"product_id\"].astype(int) # convert to type integer for later merge\n",
    "word_vec_df = word_vec_df[[\"product_id\"] + w2v_vec_names] # re-order columns\n",
    "print(word_vec_df.shape)"
   ]
  },
  {
   "cell_type": "code",
   "execution_count": null,
   "metadata": {},
   "outputs": [],
   "source": [
    "display(word_vec_df.head(10))"
   ]
  },
  {
   "cell_type": "markdown",
   "metadata": {},
   "source": [
    "## Merge product vectors with product info"
   ]
  },
  {
   "cell_type": "code",
   "execution_count": null,
   "metadata": {},
   "outputs": [],
   "source": [
    "#===============================================\n",
    "# merge relevant columns\n",
    "#===============================================\n",
    "\n",
    "# relevant columns from product info\n",
    "prod_info_cols = [\"product_id\", \"product_name\", \"department\", \"aisle\"]\n",
    "\n",
    "# merge\n",
    "word_vec_df = pd.merge(products[prod_info_cols], word_vec_df, on = \"product_id\", how = \"inner\")\n",
    "print(word_vec_df.shape)"
   ]
  },
  {
   "cell_type": "code",
   "execution_count": null,
   "metadata": {},
   "outputs": [],
   "source": [
    "display(word_vec_df.head(10))"
   ]
  },
  {
   "cell_type": "markdown",
   "metadata": {},
   "source": [
    "## 5.2. Fit t-sne"
   ]
  },
  {
   "cell_type": "code",
   "execution_count": null,
   "metadata": {},
   "outputs": [],
   "source": [
    "# =================================================\n",
    "# fit t-sne\n",
    "# =================================================\n",
    "tsne = TSNE(n_components = 2, verbose = 1, perplexity = 35, n_iter = 400)"
   ]
  },
  {
   "cell_type": "code",
   "execution_count": null,
   "metadata": {},
   "outputs": [],
   "source": [
    "# fit\n",
    "t0 = time.time()\n",
    "tsne_fit = tsne.fit_transform(word_vec_df[w2v_vec_names])\n",
    "t1 = time.time()"
   ]
  },
  {
   "cell_type": "code",
   "execution_count": null,
   "metadata": {},
   "outputs": [],
   "source": [
    "# time taken\n",
    "f\"Time Taken: {t1 - t0}\""
   ]
  },
  {
   "cell_type": "markdown",
   "metadata": {},
   "source": [
    "## T-sne component data frame"
   ]
  },
  {
   "cell_type": "code",
   "execution_count": null,
   "metadata": {},
   "outputs": [],
   "source": [
    "#===============================================\n",
    "# create t-sne data frame\n",
    "#===============================================\n",
    "\n",
    "tsne_df = word_vec_df[[\"product_name\", \"department\", \"aisle\"]]\n",
    "\n",
    "# extract t-sne dimensions\n",
    "tsne_df[\"x_tsne\"] = tsne_fit[:,0]\n",
    "tsne_df[\"y_tsne\"] = tsne_fit[:,1]\n",
    "print(tsne_df.describe())"
   ]
  },
  {
   "cell_type": "markdown",
   "metadata": {},
   "source": [
    "## Plot with ggplot"
   ]
  },
  {
   "cell_type": "code",
   "execution_count": null,
   "metadata": {},
   "outputs": [],
   "source": [
    "#===============================================\n",
    "# subset data for plot\n",
    "#===============================================\n",
    "\n",
    "# select only top departments\n",
    "select_dept = [\"produce\", \"babies\", \"beverages\"]\n",
    "tsne_plot_df = tsne_df.loc[tsne_df[\"department\"].isin(select_dept), :]\n",
    "print(tsne_plot_df.shape)"
   ]
  },
  {
   "cell_type": "code",
   "execution_count": null,
   "metadata": {},
   "outputs": [],
   "source": [
    "tsne_plot = ggplot(tsne_plot_df, aes(x = \"x_tsne\", y = \"y_tsne\", color = \"department\") ) \\\n",
    "        + geom_point(size = 70, alpha = 0.5) \\\n",
    "        + ggtitle(\"T-sne on product vectors\") \\\n",
    "        + xlab(\" \") + ylab(\" \")\n",
    "tsne_plot"
   ]
  },
  {
   "cell_type": "markdown",
   "metadata": {},
   "source": [
    "---"
   ]
  },
  {
   "cell_type": "markdown",
   "metadata": {},
   "source": [
    "## In-class exercise"
   ]
  },
  {
   "cell_type": "markdown",
   "metadata": {},
   "source": [
    "## Learning embeddings using Skip-gram"
   ]
  },
  {
   "cell_type": "markdown",
   "metadata": {},
   "source": [
    "- We will now use another method to train embeddings called skip-gram"
   ]
  },
  {
   "cell_type": "code",
   "execution_count": null,
   "metadata": {},
   "outputs": [],
   "source": [
    "#===============================================\n",
    "# model parameters\n",
    "#===============================================\n",
    "\n",
    "# size of embedding matrix\n",
    "emb_size  # set between 50-100\n",
    "\n",
    "# context window size\n",
    "cxt_window # set between 2-10 \n",
    "\n",
    "# batch size for gradient update\n",
    "batch_size # set between 2000 to 10000\n",
    "\n",
    "# learning rate\n",
    "lr # set between 0.001 to 0.01"
   ]
  },
  {
   "cell_type": "code",
   "execution_count": null,
   "metadata": {},
   "outputs": [],
   "source": [
    "#===============================================\n",
    "# define and train model\n",
    "#===============================================\n",
    "\n",
    "t0 = time.time()\n",
    "### Write model code here\n",
    "t1 = time.time()"
   ]
  },
  {
   "cell_type": "code",
   "execution_count": null,
   "metadata": {
    "scrolled": true
   },
   "outputs": [],
   "source": [
    "# time taken\n",
    "f\"Time Taken: {t1 - t0}\""
   ]
  },
  {
   "cell_type": "code",
   "execution_count": null,
   "metadata": {},
   "outputs": [],
   "source": [
    "# find the most similar products to \n",
    "prod_id = \"1000\"\n",
    "\n",
    "# product info for sample product\n",
    "display(products.loc[products[\"product_id\"].isin([prod_id]), :])"
   ]
  },
  {
   "cell_type": "code",
   "execution_count": null,
   "metadata": {},
   "outputs": [],
   "source": []
  },
  {
   "cell_type": "code",
   "execution_count": null,
   "metadata": {},
   "outputs": [],
   "source": []
  },
  {
   "cell_type": "code",
   "execution_count": null,
   "metadata": {},
   "outputs": [],
   "source": []
  },
  {
   "cell_type": "code",
   "execution_count": null,
   "metadata": {},
   "outputs": [],
   "source": []
  }
 ],
 "metadata": {
  "kernelspec": {
   "display_name": "Python 3",
   "language": "python",
   "name": "python3"
  },
  "language_info": {
   "codemirror_mode": {
    "name": "ipython",
    "version": 3
   },
   "file_extension": ".py",
   "mimetype": "text/x-python",
   "name": "python",
   "nbconvert_exporter": "python",
   "pygments_lexer": "ipython3",
   "version": "3.6.7"
  }
 },
 "nbformat": 4,
 "nbformat_minor": 2
}
