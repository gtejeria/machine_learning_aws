{
 "cells": [
  {
   "cell_type": "markdown",
   "metadata": {},
   "source": [
    "# MIT-GSL Uruguay \n",
    "\n",
    "## January 2020"
   ]
  },
  {
   "cell_type": "markdown",
   "metadata": {},
   "source": [
    "-----"
   ]
  },
  {
   "cell_type": "markdown",
   "metadata": {},
   "source": [
    "# Week - 2 | Lesson - 04 \n",
    "# NLP: Product embeddings in Keras"
   ]
  },
  {
   "cell_type": "markdown",
   "metadata": {},
   "source": [
    "1. After introducing the concept of embeddings through NLP, we extend the notion of embeddings to other settings\n",
    "2. Note that embeddings are dense continuous representations for discrete, sparse tokens - this makes embeddings widely applicable\n",
    "3. We will use the concept of embeddings to understand the world of e-commerce better "
   ]
  },
  {
   "cell_type": "markdown",
   "metadata": {},
   "source": [
    "---"
   ]
  },
  {
   "cell_type": "markdown",
   "metadata": {},
   "source": [
    "# Word2Vec and its Applications to Market-Basket Data"
   ]
  },
  {
   "cell_type": "markdown",
   "metadata": {},
   "source": [
    "# Instacart Grocery Dataset\n",
    "\n",
    "### Source: https://www.instacart.com/datasets/grocery-shopping-2017\n",
    "\n",
    "1. Instacart is an online grocery delivery service\n",
    "2. They have made available 3M grocery orders for over 200K users\n",
    "3. They provide between 4 to 100 orders for each user and each order contains the sequence of products purchased\n",
    "4. We also have a brief description of the products\n",
    "\n",
    "### Overview:\n",
    "1. We will use this data to build an understanding of word embeddings and investigate their application to downstream tasks\n",
    "2. For this purpose, we will consider each purchase basket to be a sentence with an unordered sequence of words"
   ]
  },
  {
   "cell_type": "markdown",
   "metadata": {},
   "source": [
    "---"
   ]
  },
  {
   "cell_type": "markdown",
   "metadata": {},
   "source": [
    "# 0. Import Modules"
   ]
  },
  {
   "cell_type": "code",
   "execution_count": null,
   "metadata": {},
   "outputs": [],
   "source": [
    "# ==============================================\n",
    "# 0. Module imports\n",
    "# ==============================================\n",
    "\n",
    "import pandas as pd\n",
    "pd.options.display.max_colwidth = 100\n",
    "import numpy as np\n",
    "from itertools import product\n",
    "import csv\n",
    "import collections\n",
    "import random\n",
    "\n",
    "# w2v\n",
    "import gensim\n",
    "\n",
    "# text processing\n",
    "from nltk import sent_tokenize, word_tokenize\n",
    "from nltk.tokenize import ToktokTokenizer\n",
    "import string\n",
    "import re # regular expressions\n",
    "from sklearn.feature_extraction.text import CountVectorizer, TfidfVectorizer\n",
    "from sklearn.linear_model import LogisticRegression\n",
    "from sklearn.metrics import roc_auc_score\n",
    "from sklearn.metrics.pairwise import cosine_similarity\n",
    "\n",
    "# T-Sne\n",
    "#import umap\n",
    "#from openTSNE import TSNE, TSNEEmbedding, affinity, initialization\n",
    "#from openTSNE import initialization\n",
    "#from openTSNE.callbacks import ErrorLogger\n",
    "from sklearn.manifold import TSNE\n",
    "\n",
    "\n",
    "# utils\n",
    "from sklearn import utils\n",
    "\n",
    "\n",
    "# parallel processing\n",
    "import multiprocessing\n",
    "from joblib import delayed, Parallel\n",
    "\n",
    "# time code\n",
    "import time\n",
    "\n",
    "# 2-d visualiztion\n",
    "%matplotlib inline\n",
    "from ggplot import *\n",
    "import matplotlib.pyplot as plt\n",
    "import warnings\n",
    "warnings.filterwarnings(\"ignore\")\n",
    "\n",
    "import os\n",
    "\n",
    "import nltk\n",
    "nltk.download(\"punkt\")"
   ]
  },
  {
   "cell_type": "code",
   "execution_count": null,
   "metadata": {},
   "outputs": [],
   "source": [
    "# ===============================================\n",
    "# keras modules\n",
    "# ===============================================\n",
    "\n",
    "from keras.models import Model\n",
    "from keras.models import Sequential\n",
    "from keras.layers import Input, Dense, Reshape, merge, Flatten, Concatenate, Activation, Multiply\n",
    "from keras.layers.embeddings import Embedding\n",
    "from keras.layers.merge import dot\n",
    "from keras.layers.merge import Dot\n",
    "from keras.preprocessing.sequence import skipgrams\n",
    "from keras.preprocessing import sequence\n",
    "from keras.preprocessing.text import Tokenizer\n",
    "from keras import optimizers\n",
    "from keras.callbacks import History \n",
    "from keras import regularizers"
   ]
  },
  {
   "cell_type": "code",
   "execution_count": null,
   "metadata": {},
   "outputs": [],
   "source": [
    "# =========================================================\n",
    "# set directories\n",
    "# =========================================================\n",
    "\n",
    "import os\n",
    "EC2 = True  # If using EC2 (for data directory/paths)\n",
    "\n",
    "# Select path based off of local or remote\n",
    "if not EC2:\n",
    "    wd = \"/pool001/madhavk/gsl-uruguay/W-02-NLP/\"\n",
    "else:\n",
    "    wd = \"/home/ubuntu/machine_learning_aws/\"\n",
    "os.chdir(wd)\n",
    "\n",
    "if not EC2:\n",
    "    # raw data\n",
    "    raw_data_dir = \"nlp-data/in-grocery/instacart_2017_05_01/\"\n",
    "    # processed data\n",
    "    process_dir = \"nlp-data/in-grocery/prepared-data/\"  \n",
    "else:\n",
    "    # raw data\n",
    "    raw_data_dir = \"data/in-grocery/instacart_2017_05_01\"\n",
    "    # processed data\n",
    "    process_dir = \"data/in-grocery/prepared-data/\""
   ]
  },
  {
   "cell_type": "code",
   "execution_count": null,
   "metadata": {},
   "outputs": [],
   "source": [
    "#===============================================\n",
    "# processed files\n",
    "#===============================================\n",
    "os.listdir(process_dir)"
   ]
  },
  {
   "cell_type": "code",
   "execution_count": null,
   "metadata": {},
   "outputs": [],
   "source": [
    "#===============================================\n",
    "# global parameters\n",
    "#===============================================\n",
    "\n",
    "# show entire value of cell in pandas\n",
    "pd.set_option('display.max_colwidth', -1)\n",
    "pd.set_option('display.max_columns', 500)\n",
    "\n",
    "# number of cpus\n",
    "cpus = multiprocessing.cpu_count()\n",
    "f\"Number of CPUs: {cpus}\""
   ]
  },
  {
   "cell_type": "markdown",
   "metadata": {},
   "source": [
    "---"
   ]
  },
  {
   "cell_type": "markdown",
   "metadata": {},
   "source": [
    "# 1. Prepare data"
   ]
  },
  {
   "cell_type": "code",
   "execution_count": null,
   "metadata": {},
   "outputs": [],
   "source": [
    "# start pool process for parallel procressing\n",
    "pool = multiprocessing.Pool(processes = cpus)"
   ]
  },
  {
   "cell_type": "code",
   "execution_count": null,
   "metadata": {},
   "outputs": [],
   "source": [
    "# =========================================================\n",
    "# order-level data\n",
    "# =========================================================\n",
    "\n",
    "orders_wide = pd.read_csv(process_dir + \"all-orders-wide-v1.csv\")\n",
    "print(orders_wide.shape)\n",
    "\n",
    "# =========================================================\n",
    "# orders meta-data\n",
    "# =========================================================\n",
    "\n",
    "orders_meta = pd.read_csv(process_dir + \"orders-split-v1.csv\")\n",
    "print(orders_meta.shape)\n",
    "\n",
    "# =========================================================\n",
    "# merge orders-wide and orders-meta\n",
    "# =========================================================\n",
    "\n",
    "orders_wide.drop(labels = \"eval\", axis = 1, inplace = True)\n",
    "\n",
    "# merge\n",
    "orders_wide = pd.merge(orders_wide, orders_meta[[\"order_id\", \"user_id\", \"eval\"]],\n",
    "                       on = \"order_id\", how = \"left\")\n",
    "print(orders_wide.shape)\n",
    "\n",
    "# clear some space\n",
    "del orders_meta\n",
    "\n",
    "\n",
    "# product info data\n",
    "products = pd.read_csv(process_dir + \"products-merged-v1.csv\")\n",
    "print(products.shape)\n",
    "products[\"product_id\"] = products[\"product_id\"].astype(str)\n",
    "\n",
    "#===============================================\n",
    "# split train-val-test\n",
    "#===============================================\n",
    "\n",
    "train = orders_wide.loc[orders_wide[\"eval\"].isin([\"prior\", \"train\"]), :]\n",
    "val = orders_wide.loc[orders_wide[\"eval\"] == \"val\", :]\n",
    "test = orders_wide.loc[orders_wide[\"eval\"] == \"test\", :]\n",
    "print(\"train size:\", train.shape)\n",
    "print(\"val size:\", val.shape)\n",
    "print(\"test size:\", test.shape)\n",
    "\n",
    "# clear more space\n",
    "del orders_wide\n",
    "\n",
    "#===============================================\n",
    "# randomly sample training data\n",
    "#===============================================\n",
    "\n",
    "sample_size = 1000000\n",
    "train = train.sample(n = sample_size)\n",
    "train = train.reset_index(drop = True)\n",
    "print(train.shape)\n",
    "\n",
    "# training sentences\n",
    "t0 = time.time()\n",
    "train_orders = pool.map(word_tokenize, train[\"product_id\"])\n",
    "t1 = time.time()\n",
    "print(len(train_orders))\n",
    "\n",
    "# validation sentences\n",
    "t0 = time.time()\n",
    "val_orders = pool.map(word_tokenize, val[\"product_id\"])\n",
    "t1 = time.time()\n",
    "print(len(val_orders))\n",
    "\n",
    "# test sentences\n",
    "t0 = time.time()\n",
    "test_orders = pool.map(word_tokenize, test[\"product_id\"])\n",
    "t1 = time.time()\n",
    "print(len(test_orders))"
   ]
  },
  {
   "cell_type": "markdown",
   "metadata": {},
   "source": [
    "## Current state of data"
   ]
  },
  {
   "cell_type": "code",
   "execution_count": null,
   "metadata": {
    "scrolled": true
   },
   "outputs": [],
   "source": [
    "display(train.head())"
   ]
  },
  {
   "cell_type": "code",
   "execution_count": null,
   "metadata": {},
   "outputs": [],
   "source": [
    "train[\"product_id\"][0:3]"
   ]
  },
  {
   "cell_type": "code",
   "execution_count": null,
   "metadata": {},
   "outputs": [],
   "source": [
    "train_orders[0:3]"
   ]
  },
  {
   "cell_type": "markdown",
   "metadata": {},
   "source": [
    "### In-class exercise"
   ]
  },
  {
   "cell_type": "code",
   "execution_count": null,
   "metadata": {},
   "outputs": [],
   "source": [
    "# Print the first 3 rows of val\n"
   ]
  },
  {
   "cell_type": "code",
   "execution_count": null,
   "metadata": {},
   "outputs": [],
   "source": [
    "# Print the first 3 elements of list val_orders"
   ]
  },
  {
   "cell_type": "markdown",
   "metadata": {},
   "source": [
    "----"
   ]
  },
  {
   "cell_type": "markdown",
   "metadata": {},
   "source": [
    "# 2. Writing our own Word2Vec in Keras"
   ]
  },
  {
   "cell_type": "markdown",
   "metadata": {},
   "source": [
    "- We are now going to train product embeddings in Keras + Tensorflow\n",
    "- In order to this, we need to transform the data in a format that Keras/Tensorflow will accept"
   ]
  },
  {
   "cell_type": "markdown",
   "metadata": {},
   "source": [
    "## Tasks:\n",
    "### 1. Count frequency of all words in dataset\n",
    "     1.1. Used to sample words based on frequency\n",
    "### 2. Create word-to-index dictionary\n",
    "    2.1. The index for each word serves as a lookup value in the embedding matrix\n",
    "    2.2. The dictionary is created in order of frequency\n",
    "### 3. Convert entire dataset from a sequence of words to a sequences of indices"
   ]
  },
  {
   "cell_type": "markdown",
   "metadata": {},
   "source": [
    "---"
   ]
  },
  {
   "cell_type": "markdown",
   "metadata": {},
   "source": [
    "## 2.1. Count frequency of each word in vocabulary"
   ]
  },
  {
   "cell_type": "code",
   "execution_count": null,
   "metadata": {},
   "outputs": [],
   "source": [
    "def WordFrequency(train_data, max_words = 10000):\n",
    "    '''\n",
    "    Assumes train data is a list of lists\n",
    "    '''\n",
    "    train_flat = [item for sublist in train_data for item in sublist] \n",
    "    count = [['UNK', -1]]\n",
    "    count.extend(collections.Counter(train_flat).most_common(max_words))\n",
    "    return count"
   ]
  },
  {
   "cell_type": "code",
   "execution_count": null,
   "metadata": {
    "scrolled": true
   },
   "outputs": [],
   "source": [
    "# flatten train-orders to create one giant list\n",
    "word_freq = WordFrequency(train_data = train_orders)\n",
    "len(word_freq)"
   ]
  },
  {
   "cell_type": "code",
   "execution_count": null,
   "metadata": {},
   "outputs": [],
   "source": [
    "# inspect\n",
    "word_freq[0:5]"
   ]
  },
  {
   "cell_type": "markdown",
   "metadata": {},
   "source": [
    "----"
   ]
  },
  {
   "cell_type": "markdown",
   "metadata": {},
   "source": [
    "## 2.2. Create Word-to-Index and Index-to-Word dictionaries\n",
    "### 2.2.1. These are used to create look-up embedding matrices\n",
    "### 2.2.2. They are ordered as per frequency of the corresponding word in the vocabulary"
   ]
  },
  {
   "cell_type": "code",
   "execution_count": null,
   "metadata": {},
   "outputs": [],
   "source": [
    "# create word-index dictionary\n",
    "def Word2Index(word_count):\n",
    "    dictionary = dict()\n",
    "    for word, _ in word_count:\n",
    "        dictionary[word] = len(dictionary)\n",
    "    # index-word reveresed dictionary\n",
    "    reversed_dictionary = dict(zip(dictionary.values(), dictionary.keys()))\n",
    "    return dictionary, reversed_dictionary"
   ]
  },
  {
   "cell_type": "code",
   "execution_count": null,
   "metadata": {},
   "outputs": [],
   "source": [
    "word_ix, ix_word = Word2Index(word_count = word_freq)"
   ]
  },
  {
   "cell_type": "code",
   "execution_count": null,
   "metadata": {},
   "outputs": [],
   "source": [
    "word_ix"
   ]
  },
  {
   "cell_type": "code",
   "execution_count": null,
   "metadata": {},
   "outputs": [],
   "source": [
    "ix_word"
   ]
  },
  {
   "cell_type": "markdown",
   "metadata": {},
   "source": [
    "## 2.3. Convert entire data set from text to indices\n"
   ]
  },
  {
   "cell_type": "code",
   "execution_count": null,
   "metadata": {},
   "outputs": [],
   "source": [
    "# convert data to index\n",
    "def Data2Index(train_data, word_ix, ret_unk_cnt = False):\n",
    "    data = list()\n",
    "    global unk_count\n",
    "    unk_count = 0\n",
    "    for order in train_data:\n",
    "        ord_data = []\n",
    "        for word in order:\n",
    "            if word in word_ix:\n",
    "                index = word_ix[word]\n",
    "            else:\n",
    "                index = 0\n",
    "                unk_count += 1\n",
    "            ord_data.append(index)\n",
    "        data.append(ord_data)\n",
    "    if ret_unk_cnt:\n",
    "        return(data, unk_count)\n",
    "    else:\n",
    "        return(data)"
   ]
  },
  {
   "cell_type": "code",
   "execution_count": null,
   "metadata": {},
   "outputs": [],
   "source": [
    "# training orders\n",
    "train_orders_ix = Data2Index(train_data = train_orders, word_ix = word_ix, ret_unk_cnt = False)"
   ]
  },
  {
   "cell_type": "code",
   "execution_count": null,
   "metadata": {},
   "outputs": [],
   "source": [
    "train_orders[0:3]\n",
    "# esto da 3 listas de productos, con varios productos cada lista"
   ]
  },
  {
   "cell_type": "code",
   "execution_count": null,
   "metadata": {},
   "outputs": [],
   "source": [
    "train_orders_ix[0:3]\n",
    "# # esto da el orden en que las listas de productos anteriores estan  en funcion de la frecuenca, por ej en el puesto 42 esta el proydcto 5077"
   ]
  },
  {
   "cell_type": "code",
   "execution_count": null,
   "metadata": {},
   "outputs": [],
   "source": [
    "# total number of training orders\n",
    "len(train_orders)"
   ]
  },
  {
   "cell_type": "code",
   "execution_count": null,
   "metadata": {},
   "outputs": [],
   "source": [
    "# val orders\n",
    "val_orders_ix = Data2Index(train_data = val_orders, word_ix = word_ix, ret_unk_cnt = False)\n",
    "print(len(val_orders_ix))"
   ]
  },
  {
   "cell_type": "markdown",
   "metadata": {},
   "source": [
    "----"
   ]
  },
  {
   "cell_type": "markdown",
   "metadata": {},
   "source": [
    "### In-class exercise"
   ]
  },
  {
   "cell_type": "code",
   "execution_count": null,
   "metadata": {},
   "outputs": [],
   "source": [
    "# convert all the test orders to indices using the Data2Index() function\n",
    "test_orders_ix = Data2Index(train_data = test_orders, word_ix = word_ix, ret_unk_cnt = False)\n",
    "print(len(test_orders_ix))"
   ]
  },
  {
   "cell_type": "markdown",
   "metadata": {},
   "source": [
    "----"
   ]
  },
  {
   "cell_type": "markdown",
   "metadata": {},
   "source": [
    "# A.1: Intro to Neural Networks"
   ]
  },
  {
   "cell_type": "code",
   "execution_count": null,
   "metadata": {},
   "outputs": [],
   "source": [
    "## code to download imdb data and load into memory\n",
    "import numpy as np\n",
    "old = np.load\n",
    "np.load = lambda *a,**k: old(*a,**k,allow_pickle=True)\n",
    "# call load_data with allow_pickle implicitly set to true\n",
    "from keras.datasets import imdb\n",
    "(x_train, y_train), (x_test, y_test) = imdb.load_data(num_words=10000)\n",
    "np.load = old\n",
    "del(old)"
   ]
  },
  {
   "cell_type": "code",
   "execution_count": null,
   "metadata": {},
   "outputs": [],
   "source": [
    "print(x_train.shape)\n",
    "print(y_train.shape)"
   ]
  },
  {
   "cell_type": "code",
   "execution_count": null,
   "metadata": {},
   "outputs": [],
   "source": [
    "x_train[0]"
   ]
  },
  {
   "cell_type": "code",
   "execution_count": null,
   "metadata": {},
   "outputs": [],
   "source": [
    "y_train[0:5]"
   ]
  },
  {
   "cell_type": "code",
   "execution_count": null,
   "metadata": {},
   "outputs": [],
   "source": [
    "# total number of words\n",
    "print(max([max(sequence) for sequence in x_train]))"
   ]
  },
  {
   "cell_type": "code",
   "execution_count": null,
   "metadata": {},
   "outputs": [],
   "source": [
    "# decode back from indices to words\n",
    "word_index = imdb.get_word_index()"
   ]
  },
  {
   "cell_type": "code",
   "execution_count": null,
   "metadata": {},
   "outputs": [],
   "source": [
    "# reverse the word index by mapping indices to words\n",
    "reverse_word_index = dict([(value, key) for (key, value) in word_index.items()])\n",
    "decoded_review = ' '.join([reverse_word_index.get(i - 3, '?') for i in x_train[0]])\n",
    "print(decoded_review)"
   ]
  },
  {
   "cell_type": "code",
   "execution_count": null,
   "metadata": {},
   "outputs": [],
   "source": [
    "def vectorize_sequences(sequences, dimension=10000):\n",
    "    results = np.zeros((len(sequences), dimension))\n",
    "    for i, sequence in enumerate(sequences):\n",
    "        results[i, sequence] = 1\n",
    "    return results"
   ]
  },
  {
   "cell_type": "code",
   "execution_count": null,
   "metadata": {},
   "outputs": [],
   "source": [
    "x_train = vectorize_sequences(x_train)\n",
    "x_test = vectorize_sequences(x_test)"
   ]
  },
  {
   "cell_type": "code",
   "execution_count": null,
   "metadata": {},
   "outputs": [],
   "source": [
    "print(len(x_train[0]))"
   ]
  },
  {
   "cell_type": "code",
   "execution_count": null,
   "metadata": {},
   "outputs": [],
   "source": [
    "print(len(x_test[0]))"
   ]
  },
  {
   "cell_type": "code",
   "execution_count": null,
   "metadata": {},
   "outputs": [],
   "source": [
    "y_train = np.asarray(y_train).astype('float32')\n",
    "y_test = np.asarray(y_test).astype('float32')"
   ]
  },
  {
   "cell_type": "code",
   "execution_count": null,
   "metadata": {},
   "outputs": [],
   "source": [
    "from keras import models\n",
    "from keras import layers"
   ]
  },
  {
   "cell_type": "code",
   "execution_count": null,
   "metadata": {},
   "outputs": [],
   "source": [
    "model = models.Sequential()\n",
    "model.add(layers.Dense(16, activation='relu', input_shape=(10000,)))\n",
    "model.add(layers.Dense(16, activation='relu'))\n",
    "model.add(layers.Dense(1, activation='sigmoid'))"
   ]
  },
  {
   "cell_type": "code",
   "execution_count": null,
   "metadata": {},
   "outputs": [],
   "source": [
    "from keras import optimizers"
   ]
  },
  {
   "cell_type": "code",
   "execution_count": null,
   "metadata": {},
   "outputs": [],
   "source": [
    "model.compile(optimizer= 'rmsprop',\n",
    "                      loss= 'binary_crossentropy',\n",
    "                      metrics= ['accuracy'])"
   ]
  },
  {
   "cell_type": "code",
   "execution_count": null,
   "metadata": {},
   "outputs": [],
   "source": [
    "model.summary()"
   ]
  },
  {
   "cell_type": "code",
   "execution_count": null,
   "metadata": {},
   "outputs": [],
   "source": [
    "# create validation data \n",
    "x_val = x_train[:10000]\n",
    "partial_x_train = x_train[10000:]"
   ]
  },
  {
   "cell_type": "code",
   "execution_count": null,
   "metadata": {},
   "outputs": [],
   "source": [
    "# create validation labels\n",
    "y_val = y_train[:10000]\n",
    "partial_y_train = y_train[10000:]"
   ]
  },
  {
   "cell_type": "code",
   "execution_count": null,
   "metadata": {},
   "outputs": [],
   "source": [
    "history = model.fit(partial_x_train,\n",
    "                    partial_y_train,\n",
    "                    epochs= 5,\n",
    "                    batch_size= 128,\n",
    "                    validation_data= (x_val, y_val))"
   ]
  },
  {
   "cell_type": "code",
   "execution_count": 56,
   "metadata": {},
   "outputs": [],
   "source": [
    "# plot training and validation accuracy\n",
    "acc = history.history['acc'] # retreive training accuracy from history\n",
    "val_acc = history.history['val_acc'] # retreive validation accuracy from history\n",
    "loss = history.history['loss'] # retreive training loss from history\n",
    "val_loss = history.history['val_loss'] # retreive validation loss from history"
   ]
  },
  {
   "cell_type": "code",
   "execution_count": 57,
   "metadata": {},
   "outputs": [
    {
     "data": {
      "image/png": "[encoded data removed]",
      "text/plain": [
       "<Figure size 432x288 with 1 Axes>"
      ]
     },
     "metadata": {
      "needs_background": "light"
     },
     "output_type": "display_data"
    },
    {
     "data": {
      "image/png": "[encoded data removed]",
      "text/plain": [
       "<Figure size 432x288 with 1 Axes>"
      ]
     },
     "metadata": {
      "needs_background": "light"
     },
     "output_type": "display_data"
    }
   ],
   "source": [
    "# two plots - one for loss and the other for accuract\n",
    "epochs = range(1, len(acc) + 1)\n",
    "\n",
    "# -- plot 1: Number of epochs vs. accuracy\n",
    "plt.plot(epochs, acc, 'bo', label= 'Training acc')\n",
    "plt.plot(epochs, val_acc, 'b', label= 'Validation acc')\n",
    "plt.title('Training and validation accuracy')\n",
    "plt.legend()\n",
    "plt.figure()\n",
    "\n",
    "# -- plot 2: Number of epochs vs. loss\n",
    "plt.plot(epochs, loss, 'bo', label='Training loss')\n",
    "plt.plot(epochs, val_loss, 'b', label='Validation loss')\n",
    "plt.title('Training and validation loss')\n",
    "plt.legend()\n",
    "plt.show()"
   ]
  },
  {
   "cell_type": "markdown",
   "metadata": {},
   "source": [
    "------"
   ]
  },
  {
   "cell_type": "markdown",
   "metadata": {},
   "source": [
    "# A.2: A slightly larger neural network"
   ]
  },
  {
   "cell_type": "code",
   "execution_count": 58,
   "metadata": {},
   "outputs": [],
   "source": [
    "model = models.Sequential()\n",
    "model.add(layers.Dense(32, activation='relu', input_shape=(10000, )))\n",
    "model.add(layers.Dense(16, activation='relu'))\n",
    "model.add(layers.Dense(1, activation='sigmoid'))"
   ]
  },
  {
   "cell_type": "code",
   "execution_count": 59,
   "metadata": {},
   "outputs": [],
   "source": [
    "model.compile(optimizer= 'rmsprop',\n",
    "                      loss= 'binary_crossentropy',\n",
    "                      metrics= ['accuracy'])"
   ]
  },
  {
   "cell_type": "code",
   "execution_count": 60,
   "metadata": {},
   "outputs": [
    {
     "name": "stdout",
     "output_type": "stream",
     "text": [
      "_________________________________________________________________\n",
      "Layer (type)                 Output Shape              Param #   \n",
      "=================================================================\n",
      "dense_4 (Dense)              (None, 32)                320032    \n",
      "_________________________________________________________________\n",
      "dense_5 (Dense)              (None, 16)                528       \n",
      "_________________________________________________________________\n",
      "dense_6 (Dense)              (None, 1)                 17        \n",
      "=================================================================\n",
      "Total params: 320,577\n",
      "Trainable params: 320,577\n",
      "Non-trainable params: 0\n",
      "_________________________________________________________________\n"
     ]
    }
   ],
   "source": [
    "model.summary()"
   ]
  },
  {
   "cell_type": "code",
   "execution_count": 61,
   "metadata": {},
   "outputs": [
    {
     "name": "stdout",
     "output_type": "stream",
     "text": [
      "Train on 15000 samples, validate on 10000 samples\n",
      "Epoch 1/10\n",
      "15000/15000 [==============================] - 3s 169us/step - loss: 0.3790 - acc: 0.8448 - val_loss: 0.3193 - val_acc: 0.8683\n",
      "Epoch 2/10\n",
      "15000/15000 [==============================] - 2s 145us/step - loss: 0.2018 - acc: 0.9235 - val_loss: 0.3083 - val_acc: 0.8808\n",
      "Epoch 3/10\n",
      "15000/15000 [==============================] - 2s 147us/step - loss: 0.1451 - acc: 0.9465 - val_loss: 0.3892 - val_acc: 0.8619\n",
      "Epoch 4/10\n",
      "15000/15000 [==============================] - 2s 146us/step - loss: 0.1088 - acc: 0.9604 - val_loss: 0.4469 - val_acc: 0.8567\n",
      "Epoch 5/10\n",
      "15000/15000 [==============================] - 2s 145us/step - loss: 0.0770 - acc: 0.9726 - val_loss: 0.4420 - val_acc: 0.8672\n",
      "Epoch 6/10\n",
      "15000/15000 [==============================] - 2s 147us/step - loss: 0.0586 - acc: 0.9802 - val_loss: 0.5014 - val_acc: 0.8646\n",
      "Epoch 7/10\n",
      "15000/15000 [==============================] - 2s 147us/step - loss: 0.0388 - acc: 0.9867 - val_loss: 0.5360 - val_acc: 0.8725\n",
      "Epoch 8/10\n",
      "15000/15000 [==============================] - 2s 145us/step - loss: 0.0239 - acc: 0.9932 - val_loss: 0.6459 - val_acc: 0.8654\n",
      "Epoch 9/10\n",
      "15000/15000 [==============================] - 2s 146us/step - loss: 0.0165 - acc: 0.9951 - val_loss: 0.7421 - val_acc: 0.8570\n",
      "Epoch 10/10\n",
      "15000/15000 [==============================] - 2s 147us/step - loss: 0.0093 - acc: 0.9979 - val_loss: 0.7767 - val_acc: 0.8657\n"
     ]
    }
   ],
   "source": [
    "history = model.fit(partial_x_train,\n",
    "                    partial_y_train,\n",
    "                    epochs= 10,\n",
    "                    batch_size= 128,\n",
    "                    validation_data= (x_val, y_val))"
   ]
  },
  {
   "cell_type": "code",
   "execution_count": 65,
   "metadata": {},
   "outputs": [
    {
     "data": {
      "image/png": "[encoded data removed]",
      "text/plain": [
       "<Figure size 432x288 with 1 Axes>"
      ]
     },
     "metadata": {
      "needs_background": "light"
     },
     "output_type": "display_data"
    },
    {
     "data": {
      "image/png": "[encoded data removed]",
      "text/plain": [
       "<Figure size 432x288 with 1 Axes>"
      ]
     },
     "metadata": {
      "needs_background": "light"
     },
     "output_type": "display_data"
    }
   ],
   "source": [
    "# plot training and validation accuracy\n",
    "acc = history.history['acc'] # retreive training accuracy from history\n",
    "val_acc = history.history['val_acc'] # retreive validation accuracy from history\n",
    "loss = history.history['loss'] # retreive training loss from history\n",
    "val_loss = history.history['val_loss'] # retreive validation loss from history\n",
    "\n",
    "# two plots - one for loss and the other for accuract\n",
    "epochs = range(1, len(acc) + 1)\n",
    "\n",
    "# -- plot 1: Number of epochs vs. accuracy\n",
    "plt.plot(epochs, acc, 'bo', label= 'Training acc')\n",
    "plt.plot(epochs, val_acc, 'b', label= 'Validation acc')\n",
    "plt.title('Training and validation accuracy')\n",
    "plt.legend()\n",
    "plt.figure()\n",
    "\n",
    "# -- plot 2: Number of epochs vs. loss\n",
    "plt.plot(epochs, loss, 'bo', label='Training loss')\n",
    "plt.plot(epochs, val_loss, 'b', label='Validation loss')\n",
    "plt.title('Training and validation loss')\n",
    "plt.legend()\n",
    "plt.show()"
   ]
  },
  {
   "cell_type": "markdown",
   "metadata": {},
   "source": [
    "-----"
   ]
  },
  {
   "cell_type": "markdown",
   "metadata": {},
   "source": [
    "### In-class exercise"
   ]
  },
  {
   "cell_type": "code",
   "execution_count": 63,
   "metadata": {},
   "outputs": [],
   "source": [
    "# Build the following neural network:\n",
    "model = models.Sequential()\n",
    "model.add(layers.Dense(16, activation='relu', input_shape=(10000,)))\n",
    "model.add(layers.Dense(64, activation='relu'))\n",
    "model.add(layers.Dense(64, activation='relu'))\n",
    "model.add(layers.Dense(32, activation='relu'))\n",
    "model.add(layers.Dense(32, activation='relu'))\n",
    "model.add(layers.Dense(1, activation='sigmoid'))\n",
    "# 4 layers\n",
    "# 1. Layer 1: 64 nodes\n",
    "# 2. Layer 2: 64 nodes\n",
    "# 3. Layer 3: 32 nodes\n",
    "# 4. Layer 4: 32 nodes"
   ]
  },
  {
   "cell_type": "code",
   "execution_count": 61,
   "metadata": {},
   "outputs": [],
   "source": [
    "# plot the accuracy and the loss for training and validation data"
   ]
  },
  {
   "cell_type": "markdown",
   "metadata": {},
   "source": [
    "---"
   ]
  },
  {
   "cell_type": "markdown",
   "metadata": {},
   "source": [
    "# 3. Define embedding matrices and model\n"
   ]
  },
  {
   "cell_type": "markdown",
   "metadata": {},
   "source": [
    "## 3.1. Model parameters"
   ]
  },
  {
   "cell_type": "code",
   "execution_count": 66,
   "metadata": {},
   "outputs": [],
   "source": [
    "# embedding parameters\n",
    "vocab_size = len(word_ix)\n",
    "input_size = vocab_size\n",
    "emb_size = 100"
   ]
  },
  {
   "cell_type": "code",
   "execution_count": 67,
   "metadata": {},
   "outputs": [
    {
     "data": {
      "text/plain": [
       "'Vocab size: 10001'"
      ]
     },
     "execution_count": 67,
     "metadata": {},
     "output_type": "execute_result"
    }
   ],
   "source": [
    "# size of vocabulary\n",
    "f\"Vocab size: {vocab_size}\""
   ]
  },
  {
   "cell_type": "markdown",
   "metadata": {},
   "source": [
    "## 3.2. Embedding layers\n",
    "### We use two embedding layers -- one for the target product and one for the context product"
   ]
  },
  {
   "cell_type": "code",
   "execution_count": 68,
   "metadata": {},
   "outputs": [
    {
     "data": {
      "text/plain": [
       "<tf.Tensor 'input_1:0' shape=(?, 1) dtype=float32>"
      ]
     },
     "execution_count": 68,
     "metadata": {},
     "output_type": "execute_result"
    }
   ],
   "source": [
    "# define input layers\n",
    "input_target = Input((1,))\n",
    "input_target\n"
   ]
  },
  {
   "cell_type": "code",
   "execution_count": 69,
   "metadata": {},
   "outputs": [
    {
     "data": {
      "text/plain": [
       "<tf.Tensor 'input_2:0' shape=(?, 1) dtype=float32>"
      ]
     },
     "execution_count": 69,
     "metadata": {},
     "output_type": "execute_result"
    }
   ],
   "source": [
    "input_context = Input((1,))\n",
    "input_context"
   ]
  },
  {
   "cell_type": "code",
   "execution_count": 70,
   "metadata": {},
   "outputs": [
    {
     "data": {
      "text/plain": [
       "<tf.Tensor 'reshape_1/Reshape:0' shape=(?, 100, 1) dtype=float32>"
      ]
     },
     "execution_count": 70,
     "metadata": {},
     "output_type": "execute_result"
    }
   ],
   "source": [
    "# define embedding layers\n",
    "# target\n",
    "target = Embedding(input_dim = vocab_size, output_dim= emb_size, name = \"rho\")(input_target)\n",
    "target = Reshape(target_shape = (emb_size, 1))(target)\n",
    "target"
   ]
  },
  {
   "cell_type": "code",
   "execution_count": 71,
   "metadata": {},
   "outputs": [
    {
     "data": {
      "text/plain": [
       "<tf.Tensor 'reshape_2/Reshape:0' shape=(?, 100, 1) dtype=float32>"
      ]
     },
     "execution_count": 71,
     "metadata": {},
     "output_type": "execute_result"
    }
   ],
   "source": [
    "# context\n",
    "context = Embedding(input_dim = vocab_size, output_dim= emb_size, name = \"alpha\")(input_context)\n",
    "context = Reshape(target_shape = (emb_size, 1))(context)\n",
    "context"
   ]
  },
  {
   "cell_type": "code",
   "execution_count": 72,
   "metadata": {},
   "outputs": [
    {
     "data": {
      "text/plain": [
       "[<tf.Tensor 'input_1:0' shape=(?, 1) dtype=float32>,\n",
       " <tf.Tensor 'input_2:0' shape=(?, 1) dtype=float32>]"
      ]
     },
     "execution_count": 72,
     "metadata": {},
     "output_type": "execute_result"
    }
   ],
   "source": [
    "# concatenate model inputs and outputs\n",
    "input_model = [input_target, input_context]\n",
    "input_model"
   ]
  },
  {
   "cell_type": "code",
   "execution_count": 73,
   "metadata": {
    "scrolled": true
   },
   "outputs": [
    {
     "data": {
      "text/plain": [
       "<tf.Tensor 'dot_1/MatMul:0' shape=(?, 1, 1) dtype=float32>"
      ]
     },
     "execution_count": 73,
     "metadata": {},
     "output_type": "execute_result"
    }
   ],
   "source": [
    "output_embeddings = Dot(axes = 1)([target, context])\n",
    "output_embeddings"
   ]
  },
  {
   "cell_type": "code",
   "execution_count": 74,
   "metadata": {},
   "outputs": [
    {
     "data": {
      "text/plain": [
       "<tf.Tensor 'flatten_1/Reshape:0' shape=(?, ?) dtype=float32>"
      ]
     },
     "execution_count": 74,
     "metadata": {},
     "output_type": "execute_result"
    }
   ],
   "source": [
    "# resize embeddings\n",
    "#output_model = Reshape((1,))(output_embeddings)\n",
    "output_model = Flatten()(output_embeddings)\n",
    "output_model"
   ]
  },
  {
   "cell_type": "code",
   "execution_count": 75,
   "metadata": {},
   "outputs": [],
   "source": [
    "# complete model\n",
    "output_model = Dense(1, activation = \"sigmoid\")(output_model)"
   ]
  },
  {
   "cell_type": "markdown",
   "metadata": {},
   "source": [
    "## 3.3. Complete model"
   ]
  },
  {
   "cell_type": "code",
   "execution_count": 76,
   "metadata": {},
   "outputs": [
    {
     "data": {
      "text/plain": [
       "<keras.engine.training.Model at 0x7f68e1d5bcc0>"
      ]
     },
     "execution_count": 76,
     "metadata": {},
     "output_type": "execute_result"
    }
   ],
   "source": [
    "# define as keras model\n",
    "pemb_model = Model(inputs = input_model, outputs = output_model)\n",
    "pemb_model"
   ]
  },
  {
   "cell_type": "code",
   "execution_count": 77,
   "metadata": {},
   "outputs": [
    {
     "data": {
      "text/plain": [
       "<keras.optimizers.Adam at 0x7f68e613b160>"
      ]
     },
     "execution_count": 77,
     "metadata": {},
     "output_type": "execute_result"
    }
   ],
   "source": [
    "# optimizer\n",
    "adam = optimizers.Adam(lr = 0.01, beta_1 = 0.9, beta_2 = 0.999, epsilon = None, decay = 0.0, amsgrad = False)\n",
    "adam"
   ]
  },
  {
   "cell_type": "code",
   "execution_count": 78,
   "metadata": {},
   "outputs": [],
   "source": [
    "# compile model\n",
    "pemb_model.compile(optimizer = adam, loss = 'binary_crossentropy', metrics = ['acc'])"
   ]
  },
  {
   "cell_type": "code",
   "execution_count": 79,
   "metadata": {},
   "outputs": [
    {
     "name": "stdout",
     "output_type": "stream",
     "text": [
      "__________________________________________________________________________________________________\n",
      "Layer (type)                    Output Shape         Param #     Connected to                     \n",
      "==================================================================================================\n",
      "input_1 (InputLayer)            (None, 1)            0                                            \n",
      "__________________________________________________________________________________________________\n",
      "input_2 (InputLayer)            (None, 1)            0                                            \n",
      "__________________________________________________________________________________________________\n",
      "rho (Embedding)                 (None, 1, 100)       1000100     input_1[0][0]                    \n",
      "__________________________________________________________________________________________________\n",
      "alpha (Embedding)               (None, 1, 100)       1000100     input_2[0][0]                    \n",
      "__________________________________________________________________________________________________\n",
      "reshape_1 (Reshape)             (None, 100, 1)       0           rho[0][0]                        \n",
      "__________________________________________________________________________________________________\n",
      "reshape_2 (Reshape)             (None, 100, 1)       0           alpha[0][0]                      \n",
      "__________________________________________________________________________________________________\n",
      "dot_1 (Dot)                     (None, 1, 1)         0           reshape_1[0][0]                  \n",
      "                                                                 reshape_2[0][0]                  \n",
      "__________________________________________________________________________________________________\n",
      "flatten_1 (Flatten)             (None, 1)            0           dot_1[0][0]                      \n",
      "__________________________________________________________________________________________________\n",
      "dense_13 (Dense)                (None, 1)            2           flatten_1[0][0]                  \n",
      "==================================================================================================\n",
      "Total params: 2,000,202\n",
      "Trainable params: 2,000,202\n",
      "Non-trainable params: 0\n",
      "__________________________________________________________________________________________________\n"
     ]
    }
   ],
   "source": [
    "# model summary\n",
    "pemb_model.summary()"
   ]
  },
  {
   "cell_type": "markdown",
   "metadata": {},
   "source": [
    "# 3.4. Initial product embeddings"
   ]
  },
  {
   "cell_type": "code",
   "execution_count": 80,
   "metadata": {
    "scrolled": true
   },
   "outputs": [
    {
     "name": "stdout",
     "output_type": "stream",
     "text": [
      "(10001, 100)\n"
     ]
    }
   ],
   "source": [
    "# initial weights - rho\n",
    "init_alpha = pemb_model.get_layer(\"alpha\").get_weights()[0]\n",
    "print(init_alpha.shape)"
   ]
  },
  {
   "cell_type": "code",
   "execution_count": 81,
   "metadata": {},
   "outputs": [
    {
     "data": {
      "text/plain": [
       "array([-0.04770372, -0.03922169,  0.04577919, -0.02139218, -0.01679183,\n",
       "        0.01039567,  0.04342316, -0.00511738,  0.03744755, -0.03534802,\n",
       "       -0.00307488,  0.01661459,  0.02552427, -0.03101044, -0.02479638,\n",
       "       -0.01431742, -0.04590259,  0.02414555, -0.04576681, -0.02886876,\n",
       "        0.01376298,  0.03081143,  0.00528194, -0.00728244,  0.0310184 ,\n",
       "       -0.0110935 , -0.0442318 , -0.03028184,  0.02730794,  0.02232965,\n",
       "       -0.03949153,  0.01860115,  0.01060013,  0.00225381, -0.04767109,\n",
       "       -0.04609448,  0.02263719,  0.03646502, -0.03431054,  0.02616363,\n",
       "       -0.04174359,  0.04048159, -0.00500201, -0.02472608, -0.01380881,\n",
       "        0.01322594, -0.00429287, -0.0152293 , -0.00816144, -0.01839317,\n",
       "       -0.02458262,  0.03308768, -0.00562351, -0.019757  , -0.00772401,\n",
       "        0.01533023,  0.0011696 , -0.00673548, -0.00746502,  0.03898933,\n",
       "        0.01428319, -0.02520677, -0.02139604, -0.00339227,  0.02928616,\n",
       "        0.00145385,  0.02125699, -0.01069671,  0.04328792,  0.01864344,\n",
       "       -0.04357675,  0.01298739,  0.03952327, -0.03591926,  0.04051984,\n",
       "       -0.0474987 ,  0.02366393,  0.01987488, -0.0446358 ,  0.02574069,\n",
       "       -0.03605859, -0.01595063,  0.0485049 , -0.0343781 , -0.02016175,\n",
       "        0.04235252,  0.00169705,  0.00676144, -0.02183797, -0.03668928,\n",
       "       -0.00238304,  0.02482441,  0.03583093,  0.02734054,  0.02938827,\n",
       "        0.0434632 ,  0.00089044,  0.00409957, -0.03001431,  0.03352228],\n",
       "      dtype=float32)"
      ]
     },
     "execution_count": 81,
     "metadata": {},
     "output_type": "execute_result"
    }
   ],
   "source": [
    "# check the (random) initial embeddings for a product\n",
    "init_alpha[345]"
   ]
  },
  {
   "cell_type": "markdown",
   "metadata": {},
   "source": [
    "----"
   ]
  },
  {
   "cell_type": "markdown",
   "metadata": {},
   "source": [
    "# 4. Prepare batches for model"
   ]
  },
  {
   "cell_type": "code",
   "execution_count": 82,
   "metadata": {},
   "outputs": [],
   "source": [
    "# sampling table\n",
    "sampling_table = sequence.make_sampling_table(vocab_size)"
   ]
  },
  {
   "cell_type": "code",
   "execution_count": 83,
   "metadata": {},
   "outputs": [],
   "source": [
    "# context size and negative samples\n",
    "ns = 10.0\n",
    "cs = 5"
   ]
  },
  {
   "cell_type": "code",
   "execution_count": 84,
   "metadata": {},
   "outputs": [],
   "source": [
    "def BatchGenerator(training = True):\n",
    "    i = 0\n",
    "    while True:\n",
    "        if training:\n",
    "            order_data = random.sample(train_orders_ix, batch_size)\n",
    "        else:\n",
    "            order_data = random.sample(val_orders_ix, batch_size)\n",
    "        iv = []\n",
    "        dv =[]\n",
    "        for d in order_data:\n",
    "            couples, labels = skipgrams(d, vocabulary_size = vocab_size, window_size = cs,\n",
    "                                        negative_samples = ns, sampling_table = sampling_table)\n",
    "            iv = iv + couples\n",
    "            dv = dv + labels\n",
    "        i += 1\n",
    "        X = np.array(iv, dtype = \"int32\")\n",
    "        X = [X[:, 0], X[:, 1]]\n",
    "        yield X, dv"
   ]
  },
  {
   "cell_type": "code",
   "execution_count": 85,
   "metadata": {},
   "outputs": [],
   "source": [
    "# parameters\n",
    "batch_size = 64\n",
    "num_epochs = 1\n",
    "\n",
    "# training data generator\n",
    "train_gen = BatchGenerator(training = True)\n",
    "\n",
    "# validation data generator\n",
    "val_gen = BatchGenerator(training = False)\n",
    "\n",
    "# history\n",
    "history = History()"
   ]
  },
  {
   "cell_type": "markdown",
   "metadata": {},
   "source": [
    "----"
   ]
  },
  {
   "cell_type": "markdown",
   "metadata": {},
   "source": [
    "# 5. Train model\n",
    "### This could take a while"
   ]
  },
  {
   "cell_type": "code",
   "execution_count": null,
   "metadata": {},
   "outputs": [
    {
     "name": "stdout",
     "output_type": "stream",
     "text": [
      "Epoch 1/1\n",
      "15625/15625 [==============================] - 1127s 72ms/step - loss: 0.2081 - acc: 0.9249 - val_loss: 0.2105 - val_acc: 0.9239\n"
     ]
    }
   ],
   "source": [
    "# train model\n",
    "t0 = time.time()\n",
    "pemb_model.fit_generator(generator = train_gen, \n",
    "                         steps_per_epoch = len(train_orders_ix)//batch_size,\n",
    "                         epochs = num_epochs,\n",
    "                         workers = cpus, \n",
    "                         use_multiprocessing = True, \n",
    "                         validation_data = val_gen,\n",
    "                         validation_steps = len(val_orders_ix)//batch_size,\n",
    "                         callbacks = [history])\n",
    "t1 = time.time()"
   ]
  },
  {
   "cell_type": "code",
   "execution_count": null,
   "metadata": {},
   "outputs": [],
   "source": [
    "# time taken\n",
    "t1 - t0"
   ]
  },
  {
   "cell_type": "code",
   "execution_count": null,
   "metadata": {},
   "outputs": [],
   "source": [
    "# history\n",
    "history.history"
   ]
  },
  {
   "cell_type": "markdown",
   "metadata": {},
   "source": [
    "------"
   ]
  },
  {
   "cell_type": "markdown",
   "metadata": {},
   "source": [
    "# 6. Model results"
   ]
  },
  {
   "cell_type": "code",
   "execution_count": null,
   "metadata": {},
   "outputs": [],
   "source": [
    "# final weights - target words\n",
    "final_alpha = pemb_model.get_layer(\"alpha\").get_weights()[0]"
   ]
  },
  {
   "cell_type": "code",
   "execution_count": null,
   "metadata": {},
   "outputs": [],
   "source": [
    "init_alpha[61]"
   ]
  },
  {
   "cell_type": "code",
   "execution_count": null,
   "metadata": {},
   "outputs": [],
   "source": [
    "final_alpha[61]"
   ]
  },
  {
   "cell_type": "code",
   "execution_count": null,
   "metadata": {},
   "outputs": [],
   "source": [
    "#===============================================\n",
    "# extract embeddings to data frame\n",
    "#===============================================\n",
    "\n",
    "def EmbToDataFrame(ix_word, emb_mat, col_prefix = \"rho\"):\n",
    "    emb_df = {ix_word[i]: list(emb_mat[i]) for i in ix_word.keys()}\n",
    "    emb_df = pd.DataFrame.from_dict(emb_df, orient = \"columns\")\n",
    "    emb_df = emb_df.transpose().reset_index(drop = False)\n",
    "    emb_df.columns = [\"product_id\"] + [col_prefix + str(i + 1) for i in range(emb_df.shape[1] - 1)]\n",
    "    return emb_df"
   ]
  },
  {
   "cell_type": "code",
   "execution_count": null,
   "metadata": {},
   "outputs": [],
   "source": [
    "# get data frame from alpha matrix\n",
    "alpha_df = EmbToDataFrame(ix_word, emb_mat = final_alpha, col_prefix = \"alpha\")\n",
    "display(alpha_df.head())"
   ]
  },
  {
   "cell_type": "markdown",
   "metadata": {},
   "source": [
    "## 6.1. Compute similarity between products"
   ]
  },
  {
   "cell_type": "code",
   "execution_count": null,
   "metadata": {},
   "outputs": [],
   "source": [
    "#===============================================\n",
    "# similarity in alpha matrix\n",
    "#===============================================\n",
    "\n",
    "alpha_sim = cosine_similarity(alpha_df.iloc[:, 1:])\n",
    "alpha_sim = pd.DataFrame(alpha_sim)\n",
    "alpha_sim.reset_index(inplace = True, drop = True)\n",
    "alpha_sim.index = list(alpha_df[\"product_id\"].values)\n",
    "alpha_sim.columns = list(alpha_df[\"product_id\"].values)\n",
    "display(alpha_sim.head())"
   ]
  },
  {
   "cell_type": "code",
   "execution_count": null,
   "metadata": {},
   "outputs": [],
   "source": [
    "# compute similarity\n",
    "def ComputeProductSimilarity(prod_id, alpha_sim, top = 5, include_prod_info = True):\n",
    "    sim = alpha_sim.loc[:, prod_id]\n",
    "    sim = sim.sort_values(ascending = False)\n",
    "    sim = sim[1:][0:top]\n",
    "    sim = pd.DataFrame({\"product_id\" : list(sim.index), \"score\": sim}, index = None)\n",
    "    if include_prod_info:\n",
    "        sim = products.loc[products[\"product_id\"].isin(sim[\"product_id\"]), [\"product_id\", \"product_name\", \"aisle\", \"department\"]]\n",
    "    return sim"
   ]
  },
  {
   "cell_type": "code",
   "execution_count": null,
   "metadata": {},
   "outputs": [],
   "source": [
    "prod_id = \"100\"\n",
    "products.loc[products[\"product_id\"].isin([prod_id]), [\"product_id\", \"product_name\", \"aisle\", \"department\"]]"
   ]
  },
  {
   "cell_type": "code",
   "execution_count": null,
   "metadata": {},
   "outputs": [],
   "source": [
    "ComputeProductSimilarity(prod_id = prod_id, alpha_sim = alpha_sim, top = 10, include_prod_info = True)"
   ]
  },
  {
   "cell_type": "markdown",
   "metadata": {},
   "source": [
    "----"
   ]
  },
  {
   "cell_type": "markdown",
   "metadata": {},
   "source": [
    "### In-class exercise"
   ]
  },
  {
   "cell_type": "code",
   "execution_count": null,
   "metadata": {},
   "outputs": [],
   "source": [
    "# Find most similar products to the following product\n",
    "prod_id = \"927\"\n",
    "products.loc[products[\"product_id\"].isin([prod_id]), [\"product_id\", \"product_name\", \"aisle\", \"department\"]]"
   ]
  },
  {
   "cell_type": "markdown",
   "metadata": {},
   "source": [
    "----"
   ]
  },
  {
   "cell_type": "code",
   "execution_count": null,
   "metadata": {},
   "outputs": [],
   "source": [
    "# Find most similar products to the following product\n",
    "prod_id = \"9964\"\n",
    "products.loc[products[\"product_id\"].isin([prod_id]), [\"product_id\", \"product_name\", \"aisle\", \"department\"]]"
   ]
  },
  {
   "cell_type": "markdown",
   "metadata": {},
   "source": [
    "----"
   ]
  },
  {
   "cell_type": "markdown",
   "metadata": {},
   "source": [
    "--------"
   ]
  },
  {
   "cell_type": "markdown",
   "metadata": {},
   "source": [
    "# 7. Product maps using t-sne "
   ]
  },
  {
   "cell_type": "markdown",
   "metadata": {},
   "source": [
    "## Merge product vectors with product info"
   ]
  },
  {
   "cell_type": "code",
   "execution_count": 96,
   "metadata": {},
   "outputs": [],
   "source": [
    "#===============================================\n",
    "# column formats\n",
    "#===============================================\n",
    "\n",
    "alpha_df[\"product_id\"] = alpha_df[\"product_id\"].astype(str)\n",
    "products[\"product_id\"] = products[\"product_id\"].astype(str)"
   ]
  },
  {
   "cell_type": "code",
   "execution_count": 97,
   "metadata": {},
   "outputs": [
    {
     "name": "stdout",
     "output_type": "stream",
     "text": [
      "(10000, 104)\n"
     ]
    }
   ],
   "source": [
    "#===============================================\n",
    "# merge relevant columns\n",
    "#===============================================\n",
    "\n",
    "# relevant columns from product info\n",
    "prod_info_cols = [\"product_id\", \"product_name\", \"department\", \"aisle\"]\n",
    "\n",
    "# merge\n",
    "word_vec_df = pd.merge(products[prod_info_cols], alpha_df, on = \"product_id\", how = \"inner\")\n",
    "print(word_vec_df.shape)"
   ]
  },
  {
   "cell_type": "code",
   "execution_count": 98,
   "metadata": {},
   "outputs": [
    {
     "data": {
      "text/html": [
       "<div>\n",
       "<style>\n",
       "    .dataframe thead tr:only-child th {\n",
       "        text-align: right;\n",
       "    }\n",
       "\n",
       "    .dataframe thead th {\n",
       "        text-align: left;\n",
       "    }\n",
       "\n",
       "    .dataframe tbody tr th {\n",
       "        vertical-align: top;\n",
       "    }\n",
       "</style>\n",
       "<table border=\"1\" class=\"dataframe\">\n",
       "  <thead>\n",
       "    <tr style=\"text-align: right;\">\n",
       "      <th></th>\n",
       "      <th>product_id</th>\n",
       "      <th>product_name</th>\n",
       "      <th>department</th>\n",
       "      <th>aisle</th>\n",
       "      <th>alpha1</th>\n",
       "      <th>alpha2</th>\n",
       "      <th>alpha3</th>\n",
       "      <th>alpha4</th>\n",
       "      <th>alpha5</th>\n",
       "      <th>alpha6</th>\n",
       "      <th>alpha7</th>\n",
       "      <th>alpha8</th>\n",
       "      <th>alpha9</th>\n",
       "      <th>alpha10</th>\n",
       "      <th>alpha11</th>\n",
       "      <th>alpha12</th>\n",
       "      <th>alpha13</th>\n",
       "      <th>alpha14</th>\n",
       "      <th>alpha15</th>\n",
       "      <th>alpha16</th>\n",
       "      <th>alpha17</th>\n",
       "      <th>alpha18</th>\n",
       "      <th>alpha19</th>\n",
       "      <th>alpha20</th>\n",
       "      <th>alpha21</th>\n",
       "      <th>alpha22</th>\n",
       "      <th>alpha23</th>\n",
       "      <th>alpha24</th>\n",
       "      <th>alpha25</th>\n",
       "      <th>alpha26</th>\n",
       "      <th>alpha27</th>\n",
       "      <th>alpha28</th>\n",
       "      <th>alpha29</th>\n",
       "      <th>alpha30</th>\n",
       "      <th>alpha31</th>\n",
       "      <th>alpha32</th>\n",
       "      <th>alpha33</th>\n",
       "      <th>alpha34</th>\n",
       "      <th>alpha35</th>\n",
       "      <th>alpha36</th>\n",
       "      <th>alpha37</th>\n",
       "      <th>alpha38</th>\n",
       "      <th>alpha39</th>\n",
       "      <th>alpha40</th>\n",
       "      <th>alpha41</th>\n",
       "      <th>alpha42</th>\n",
       "      <th>alpha43</th>\n",
       "      <th>alpha44</th>\n",
       "      <th>alpha45</th>\n",
       "      <th>alpha46</th>\n",
       "      <th>alpha47</th>\n",
       "      <th>alpha48</th>\n",
       "      <th>alpha49</th>\n",
       "      <th>alpha50</th>\n",
       "      <th>alpha51</th>\n",
       "      <th>alpha52</th>\n",
       "      <th>alpha53</th>\n",
       "      <th>alpha54</th>\n",
       "      <th>alpha55</th>\n",
       "      <th>alpha56</th>\n",
       "      <th>alpha57</th>\n",
       "      <th>alpha58</th>\n",
       "      <th>alpha59</th>\n",
       "      <th>alpha60</th>\n",
       "      <th>alpha61</th>\n",
       "      <th>alpha62</th>\n",
       "      <th>alpha63</th>\n",
       "      <th>alpha64</th>\n",
       "      <th>alpha65</th>\n",
       "      <th>alpha66</th>\n",
       "      <th>alpha67</th>\n",
       "      <th>alpha68</th>\n",
       "      <th>alpha69</th>\n",
       "      <th>alpha70</th>\n",
       "      <th>alpha71</th>\n",
       "      <th>alpha72</th>\n",
       "      <th>alpha73</th>\n",
       "      <th>alpha74</th>\n",
       "      <th>alpha75</th>\n",
       "      <th>alpha76</th>\n",
       "      <th>alpha77</th>\n",
       "      <th>alpha78</th>\n",
       "      <th>alpha79</th>\n",
       "      <th>alpha80</th>\n",
       "      <th>alpha81</th>\n",
       "      <th>alpha82</th>\n",
       "      <th>alpha83</th>\n",
       "      <th>alpha84</th>\n",
       "      <th>alpha85</th>\n",
       "      <th>alpha86</th>\n",
       "      <th>alpha87</th>\n",
       "      <th>alpha88</th>\n",
       "      <th>alpha89</th>\n",
       "      <th>alpha90</th>\n",
       "      <th>alpha91</th>\n",
       "      <th>alpha92</th>\n",
       "      <th>alpha93</th>\n",
       "      <th>alpha94</th>\n",
       "      <th>alpha95</th>\n",
       "      <th>alpha96</th>\n",
       "      <th>alpha97</th>\n",
       "      <th>alpha98</th>\n",
       "      <th>alpha99</th>\n",
       "      <th>alpha100</th>\n",
       "    </tr>\n",
       "  </thead>\n",
       "  <tbody>\n",
       "    <tr>\n",
       "      <th>0</th>\n",
       "      <td>1</td>\n",
       "      <td>Chocolate Sandwich Cookies</td>\n",
       "      <td>snacks</td>\n",
       "      <td>cookies cakes</td>\n",
       "      <td>-1.183412</td>\n",
       "      <td>-0.861370</td>\n",
       "      <td>-1.415153</td>\n",
       "      <td>-3.984577</td>\n",
       "      <td>0.484036</td>\n",
       "      <td>-2.940326</td>\n",
       "      <td>-0.300115</td>\n",
       "      <td>-0.074547</td>\n",
       "      <td>2.169570</td>\n",
       "      <td>0.453839</td>\n",
       "      <td>0.791955</td>\n",
       "      <td>-0.376979</td>\n",
       "      <td>0.200472</td>\n",
       "      <td>2.370705</td>\n",
       "      <td>0.357228</td>\n",
       "      <td>0.813683</td>\n",
       "      <td>-0.708896</td>\n",
       "      <td>0.645883</td>\n",
       "      <td>1.288448</td>\n",
       "      <td>-0.903362</td>\n",
       "      <td>0.675897</td>\n",
       "      <td>0.619931</td>\n",
       "      <td>-0.030437</td>\n",
       "      <td>0.086997</td>\n",
       "      <td>1.788067</td>\n",
       "      <td>-0.651617</td>\n",
       "      <td>0.639286</td>\n",
       "      <td>0.411931</td>\n",
       "      <td>0.822001</td>\n",
       "      <td>1.951141</td>\n",
       "      <td>1.665058</td>\n",
       "      <td>-1.482452</td>\n",
       "      <td>2.771689</td>\n",
       "      <td>-0.590960</td>\n",
       "      <td>-0.030715</td>\n",
       "      <td>0.390375</td>\n",
       "      <td>0.904524</td>\n",
       "      <td>0.577922</td>\n",
       "      <td>1.451861</td>\n",
       "      <td>-1.741845</td>\n",
       "      <td>-0.966159</td>\n",
       "      <td>-0.159986</td>\n",
       "      <td>0.136202</td>\n",
       "      <td>0.220794</td>\n",
       "      <td>1.921617</td>\n",
       "      <td>-0.943121</td>\n",
       "      <td>-0.702226</td>\n",
       "      <td>0.563622</td>\n",
       "      <td>0.074095</td>\n",
       "      <td>0.166780</td>\n",
       "      <td>0.666404</td>\n",
       "      <td>0.951395</td>\n",
       "      <td>0.850121</td>\n",
       "      <td>0.408889</td>\n",
       "      <td>0.600469</td>\n",
       "      <td>0.348562</td>\n",
       "      <td>0.062865</td>\n",
       "      <td>0.742645</td>\n",
       "      <td>-0.119219</td>\n",
       "      <td>-0.994086</td>\n",
       "      <td>-0.299222</td>\n",
       "      <td>-0.105132</td>\n",
       "      <td>-3.246717</td>\n",
       "      <td>0.333368</td>\n",
       "      <td>0.480265</td>\n",
       "      <td>-1.719432</td>\n",
       "      <td>1.395946</td>\n",
       "      <td>-1.746616</td>\n",
       "      <td>-1.756080</td>\n",
       "      <td>-3.286691</td>\n",
       "      <td>0.179693</td>\n",
       "      <td>0.929690</td>\n",
       "      <td>-2.974469</td>\n",
       "      <td>-2.404359</td>\n",
       "      <td>0.716335</td>\n",
       "      <td>-1.734677</td>\n",
       "      <td>0.430846</td>\n",
       "      <td>-0.522780</td>\n",
       "      <td>-0.528509</td>\n",
       "      <td>-1.575331</td>\n",
       "      <td>0.029533</td>\n",
       "      <td>0.681370</td>\n",
       "      <td>1.595411</td>\n",
       "      <td>-0.668094</td>\n",
       "      <td>1.375097</td>\n",
       "      <td>0.390290</td>\n",
       "      <td>-0.321217</td>\n",
       "      <td>-3.878534</td>\n",
       "      <td>-1.041904</td>\n",
       "      <td>0.471478</td>\n",
       "      <td>-0.074159</td>\n",
       "      <td>-0.137711</td>\n",
       "      <td>1.069477</td>\n",
       "      <td>-1.111393</td>\n",
       "      <td>-2.368239</td>\n",
       "      <td>2.323813</td>\n",
       "      <td>0.517880</td>\n",
       "      <td>2.917049</td>\n",
       "      <td>-1.946994</td>\n",
       "      <td>-0.443278</td>\n",
       "    </tr>\n",
       "    <tr>\n",
       "      <th>1</th>\n",
       "      <td>10</td>\n",
       "      <td>Sparkling Orange Juice &amp; Prickly Pear Beverage</td>\n",
       "      <td>beverages</td>\n",
       "      <td>water seltzer sparkling water</td>\n",
       "      <td>-0.331456</td>\n",
       "      <td>0.573208</td>\n",
       "      <td>-1.720854</td>\n",
       "      <td>0.018377</td>\n",
       "      <td>0.177662</td>\n",
       "      <td>-0.754129</td>\n",
       "      <td>0.587958</td>\n",
       "      <td>-0.498509</td>\n",
       "      <td>-0.205226</td>\n",
       "      <td>0.950419</td>\n",
       "      <td>-0.017872</td>\n",
       "      <td>-1.738709</td>\n",
       "      <td>-0.962285</td>\n",
       "      <td>0.103993</td>\n",
       "      <td>0.292058</td>\n",
       "      <td>1.863501</td>\n",
       "      <td>0.903256</td>\n",
       "      <td>0.575385</td>\n",
       "      <td>-0.354326</td>\n",
       "      <td>-0.939239</td>\n",
       "      <td>-0.992258</td>\n",
       "      <td>-0.633707</td>\n",
       "      <td>0.466042</td>\n",
       "      <td>0.730453</td>\n",
       "      <td>-1.503648</td>\n",
       "      <td>-0.237074</td>\n",
       "      <td>-0.636616</td>\n",
       "      <td>0.381174</td>\n",
       "      <td>-0.752579</td>\n",
       "      <td>-0.232342</td>\n",
       "      <td>-0.166623</td>\n",
       "      <td>-0.800086</td>\n",
       "      <td>-0.353342</td>\n",
       "      <td>0.603658</td>\n",
       "      <td>1.324794</td>\n",
       "      <td>-0.214883</td>\n",
       "      <td>-0.256305</td>\n",
       "      <td>1.764604</td>\n",
       "      <td>0.428251</td>\n",
       "      <td>1.016841</td>\n",
       "      <td>-0.429037</td>\n",
       "      <td>-0.128571</td>\n",
       "      <td>-0.586292</td>\n",
       "      <td>2.002882</td>\n",
       "      <td>1.250114</td>\n",
       "      <td>1.295896</td>\n",
       "      <td>1.262417</td>\n",
       "      <td>-0.122711</td>\n",
       "      <td>-0.281134</td>\n",
       "      <td>-1.221667</td>\n",
       "      <td>-0.319366</td>\n",
       "      <td>-0.066629</td>\n",
       "      <td>0.603732</td>\n",
       "      <td>-0.447673</td>\n",
       "      <td>-1.661642</td>\n",
       "      <td>-0.672956</td>\n",
       "      <td>0.684670</td>\n",
       "      <td>-0.263093</td>\n",
       "      <td>0.952057</td>\n",
       "      <td>-0.790968</td>\n",
       "      <td>0.383072</td>\n",
       "      <td>0.535542</td>\n",
       "      <td>-0.922691</td>\n",
       "      <td>0.313678</td>\n",
       "      <td>-0.733459</td>\n",
       "      <td>-1.742142</td>\n",
       "      <td>1.135076</td>\n",
       "      <td>-0.548695</td>\n",
       "      <td>-1.275581</td>\n",
       "      <td>0.476494</td>\n",
       "      <td>0.800753</td>\n",
       "      <td>1.730305</td>\n",
       "      <td>-0.136440</td>\n",
       "      <td>-0.459481</td>\n",
       "      <td>0.032877</td>\n",
       "      <td>0.371075</td>\n",
       "      <td>0.813657</td>\n",
       "      <td>-0.782324</td>\n",
       "      <td>-0.007629</td>\n",
       "      <td>0.857701</td>\n",
       "      <td>-0.652473</td>\n",
       "      <td>0.209253</td>\n",
       "      <td>0.190521</td>\n",
       "      <td>1.014716</td>\n",
       "      <td>0.388153</td>\n",
       "      <td>-1.386423</td>\n",
       "      <td>0.414659</td>\n",
       "      <td>-0.269901</td>\n",
       "      <td>-0.075146</td>\n",
       "      <td>-2.601830</td>\n",
       "      <td>0.327184</td>\n",
       "      <td>-0.155960</td>\n",
       "      <td>-0.913883</td>\n",
       "      <td>1.477658</td>\n",
       "      <td>0.333304</td>\n",
       "      <td>-1.443525</td>\n",
       "      <td>-0.270717</td>\n",
       "      <td>-0.501845</td>\n",
       "      <td>1.037438</td>\n",
       "      <td>-2.487606</td>\n",
       "    </tr>\n",
       "    <tr>\n",
       "      <th>2</th>\n",
       "      <td>23</td>\n",
       "      <td>Organic Turkey Burgers</td>\n",
       "      <td>meat seafood</td>\n",
       "      <td>packaged poultry</td>\n",
       "      <td>-0.035958</td>\n",
       "      <td>-0.209353</td>\n",
       "      <td>0.096872</td>\n",
       "      <td>0.665713</td>\n",
       "      <td>-1.117565</td>\n",
       "      <td>-1.620684</td>\n",
       "      <td>-0.640267</td>\n",
       "      <td>0.816675</td>\n",
       "      <td>-0.794390</td>\n",
       "      <td>1.036104</td>\n",
       "      <td>0.321326</td>\n",
       "      <td>-0.674117</td>\n",
       "      <td>1.129337</td>\n",
       "      <td>-0.397469</td>\n",
       "      <td>0.416873</td>\n",
       "      <td>2.088157</td>\n",
       "      <td>0.549938</td>\n",
       "      <td>0.091742</td>\n",
       "      <td>0.321029</td>\n",
       "      <td>0.737905</td>\n",
       "      <td>-1.460429</td>\n",
       "      <td>-0.647351</td>\n",
       "      <td>0.365546</td>\n",
       "      <td>-0.469989</td>\n",
       "      <td>-1.740476</td>\n",
       "      <td>-0.256172</td>\n",
       "      <td>1.181697</td>\n",
       "      <td>-0.196037</td>\n",
       "      <td>-2.323481</td>\n",
       "      <td>-0.541535</td>\n",
       "      <td>0.447989</td>\n",
       "      <td>-0.641230</td>\n",
       "      <td>2.065472</td>\n",
       "      <td>0.930254</td>\n",
       "      <td>-0.844474</td>\n",
       "      <td>-0.356620</td>\n",
       "      <td>-3.109405</td>\n",
       "      <td>-0.345145</td>\n",
       "      <td>-0.064528</td>\n",
       "      <td>-0.927463</td>\n",
       "      <td>0.026653</td>\n",
       "      <td>0.823653</td>\n",
       "      <td>0.365154</td>\n",
       "      <td>0.129978</td>\n",
       "      <td>0.821910</td>\n",
       "      <td>2.168680</td>\n",
       "      <td>1.396352</td>\n",
       "      <td>-0.929876</td>\n",
       "      <td>1.014809</td>\n",
       "      <td>0.504456</td>\n",
       "      <td>0.175972</td>\n",
       "      <td>-0.382627</td>\n",
       "      <td>-0.584233</td>\n",
       "      <td>-0.043458</td>\n",
       "      <td>1.097647</td>\n",
       "      <td>0.635080</td>\n",
       "      <td>1.452051</td>\n",
       "      <td>-0.695791</td>\n",
       "      <td>0.715157</td>\n",
       "      <td>-1.704595</td>\n",
       "      <td>-0.730794</td>\n",
       "      <td>0.190486</td>\n",
       "      <td>0.515532</td>\n",
       "      <td>0.529540</td>\n",
       "      <td>-3.136323</td>\n",
       "      <td>0.476737</td>\n",
       "      <td>0.280127</td>\n",
       "      <td>-0.660368</td>\n",
       "      <td>-2.250686</td>\n",
       "      <td>-0.044858</td>\n",
       "      <td>0.183740</td>\n",
       "      <td>0.223216</td>\n",
       "      <td>0.087542</td>\n",
       "      <td>0.114206</td>\n",
       "      <td>0.243108</td>\n",
       "      <td>0.009661</td>\n",
       "      <td>-1.065312</td>\n",
       "      <td>-0.189024</td>\n",
       "      <td>0.163255</td>\n",
       "      <td>-0.091317</td>\n",
       "      <td>-0.707847</td>\n",
       "      <td>-0.065677</td>\n",
       "      <td>0.366448</td>\n",
       "      <td>-1.584453</td>\n",
       "      <td>0.214768</td>\n",
       "      <td>0.227825</td>\n",
       "      <td>-1.189937</td>\n",
       "      <td>0.395108</td>\n",
       "      <td>0.598047</td>\n",
       "      <td>-3.418231</td>\n",
       "      <td>-1.598832</td>\n",
       "      <td>1.503002</td>\n",
       "      <td>0.280774</td>\n",
       "      <td>0.036817</td>\n",
       "      <td>0.376921</td>\n",
       "      <td>-0.499469</td>\n",
       "      <td>0.976364</td>\n",
       "      <td>-0.369201</td>\n",
       "      <td>-1.773830</td>\n",
       "      <td>-0.801614</td>\n",
       "    </tr>\n",
       "    <tr>\n",
       "      <th>3</th>\n",
       "      <td>25</td>\n",
       "      <td>Salted Caramel Lean Protein &amp; Fiber Bar</td>\n",
       "      <td>snacks</td>\n",
       "      <td>energy granola bars</td>\n",
       "      <td>0.630471</td>\n",
       "      <td>0.821410</td>\n",
       "      <td>1.190839</td>\n",
       "      <td>0.383762</td>\n",
       "      <td>-0.756176</td>\n",
       "      <td>-1.263914</td>\n",
       "      <td>1.313051</td>\n",
       "      <td>-2.083519</td>\n",
       "      <td>-1.873122</td>\n",
       "      <td>-0.274595</td>\n",
       "      <td>1.675089</td>\n",
       "      <td>0.221138</td>\n",
       "      <td>-0.407026</td>\n",
       "      <td>0.888602</td>\n",
       "      <td>-0.626032</td>\n",
       "      <td>0.595685</td>\n",
       "      <td>1.221262</td>\n",
       "      <td>-0.503374</td>\n",
       "      <td>0.723190</td>\n",
       "      <td>-0.132860</td>\n",
       "      <td>-0.147973</td>\n",
       "      <td>0.673720</td>\n",
       "      <td>-0.284033</td>\n",
       "      <td>-0.422822</td>\n",
       "      <td>1.160301</td>\n",
       "      <td>-1.298887</td>\n",
       "      <td>0.522788</td>\n",
       "      <td>0.409078</td>\n",
       "      <td>-1.272943</td>\n",
       "      <td>-0.494975</td>\n",
       "      <td>0.771094</td>\n",
       "      <td>0.914356</td>\n",
       "      <td>1.137282</td>\n",
       "      <td>1.348562</td>\n",
       "      <td>0.525130</td>\n",
       "      <td>-0.201847</td>\n",
       "      <td>-1.112444</td>\n",
       "      <td>-0.110974</td>\n",
       "      <td>0.216487</td>\n",
       "      <td>-1.325753</td>\n",
       "      <td>0.060953</td>\n",
       "      <td>-1.297750</td>\n",
       "      <td>-0.104540</td>\n",
       "      <td>1.411424</td>\n",
       "      <td>1.037681</td>\n",
       "      <td>-0.711064</td>\n",
       "      <td>-0.547892</td>\n",
       "      <td>-2.742516</td>\n",
       "      <td>0.521809</td>\n",
       "      <td>-1.778180</td>\n",
       "      <td>-0.051592</td>\n",
       "      <td>1.170498</td>\n",
       "      <td>1.304751</td>\n",
       "      <td>-3.025506</td>\n",
       "      <td>-0.065978</td>\n",
       "      <td>0.683124</td>\n",
       "      <td>0.946554</td>\n",
       "      <td>-0.344681</td>\n",
       "      <td>0.283442</td>\n",
       "      <td>-1.743928</td>\n",
       "      <td>-2.389321</td>\n",
       "      <td>-2.300058</td>\n",
       "      <td>-0.580161</td>\n",
       "      <td>1.504566</td>\n",
       "      <td>-1.823866</td>\n",
       "      <td>0.684577</td>\n",
       "      <td>0.034252</td>\n",
       "      <td>-1.097059</td>\n",
       "      <td>-1.029776</td>\n",
       "      <td>0.136505</td>\n",
       "      <td>-1.350171</td>\n",
       "      <td>-2.332088</td>\n",
       "      <td>0.314613</td>\n",
       "      <td>1.124941</td>\n",
       "      <td>-2.619606</td>\n",
       "      <td>0.920128</td>\n",
       "      <td>1.468825</td>\n",
       "      <td>-0.094429</td>\n",
       "      <td>-0.172222</td>\n",
       "      <td>-2.308653</td>\n",
       "      <td>-1.546665</td>\n",
       "      <td>0.375919</td>\n",
       "      <td>-0.628087</td>\n",
       "      <td>-0.089079</td>\n",
       "      <td>1.277338</td>\n",
       "      <td>0.573044</td>\n",
       "      <td>0.418188</td>\n",
       "      <td>0.896311</td>\n",
       "      <td>0.682610</td>\n",
       "      <td>-2.919713</td>\n",
       "      <td>-0.352067</td>\n",
       "      <td>-0.687200</td>\n",
       "      <td>0.770890</td>\n",
       "      <td>1.743414</td>\n",
       "      <td>1.325940</td>\n",
       "      <td>-0.985702</td>\n",
       "      <td>2.977424</td>\n",
       "      <td>-1.613867</td>\n",
       "      <td>-1.870531</td>\n",
       "      <td>-2.977828</td>\n",
       "    </tr>\n",
       "    <tr>\n",
       "      <th>4</th>\n",
       "      <td>28</td>\n",
       "      <td>Wheat Chex Cereal</td>\n",
       "      <td>breakfast</td>\n",
       "      <td>cereal</td>\n",
       "      <td>0.690719</td>\n",
       "      <td>-0.719524</td>\n",
       "      <td>-0.938958</td>\n",
       "      <td>-2.316120</td>\n",
       "      <td>-1.899937</td>\n",
       "      <td>-0.566824</td>\n",
       "      <td>-0.739348</td>\n",
       "      <td>-3.383590</td>\n",
       "      <td>0.561528</td>\n",
       "      <td>1.241370</td>\n",
       "      <td>3.873722</td>\n",
       "      <td>0.772389</td>\n",
       "      <td>0.900118</td>\n",
       "      <td>0.699930</td>\n",
       "      <td>-1.321263</td>\n",
       "      <td>1.732556</td>\n",
       "      <td>-0.993697</td>\n",
       "      <td>0.687974</td>\n",
       "      <td>0.668022</td>\n",
       "      <td>-1.397829</td>\n",
       "      <td>0.164014</td>\n",
       "      <td>2.534326</td>\n",
       "      <td>1.325022</td>\n",
       "      <td>0.085119</td>\n",
       "      <td>1.099342</td>\n",
       "      <td>-0.869803</td>\n",
       "      <td>1.909371</td>\n",
       "      <td>0.519214</td>\n",
       "      <td>0.449551</td>\n",
       "      <td>1.924192</td>\n",
       "      <td>1.047248</td>\n",
       "      <td>0.187643</td>\n",
       "      <td>2.268447</td>\n",
       "      <td>-1.686413</td>\n",
       "      <td>2.491079</td>\n",
       "      <td>0.001868</td>\n",
       "      <td>-0.803635</td>\n",
       "      <td>0.731681</td>\n",
       "      <td>-0.729055</td>\n",
       "      <td>-0.713263</td>\n",
       "      <td>-0.115170</td>\n",
       "      <td>0.308494</td>\n",
       "      <td>0.711247</td>\n",
       "      <td>1.593106</td>\n",
       "      <td>1.157572</td>\n",
       "      <td>1.931279</td>\n",
       "      <td>1.435167</td>\n",
       "      <td>-1.277781</td>\n",
       "      <td>0.955729</td>\n",
       "      <td>0.554139</td>\n",
       "      <td>0.934580</td>\n",
       "      <td>1.151412</td>\n",
       "      <td>0.413992</td>\n",
       "      <td>0.278834</td>\n",
       "      <td>-0.448172</td>\n",
       "      <td>0.127930</td>\n",
       "      <td>0.727249</td>\n",
       "      <td>0.909846</td>\n",
       "      <td>0.489234</td>\n",
       "      <td>1.052080</td>\n",
       "      <td>-0.899063</td>\n",
       "      <td>-0.206926</td>\n",
       "      <td>-2.688304</td>\n",
       "      <td>1.759333</td>\n",
       "      <td>-0.331616</td>\n",
       "      <td>-0.640053</td>\n",
       "      <td>0.328453</td>\n",
       "      <td>0.684228</td>\n",
       "      <td>0.825173</td>\n",
       "      <td>-0.351979</td>\n",
       "      <td>0.439838</td>\n",
       "      <td>1.971735</td>\n",
       "      <td>-1.336005</td>\n",
       "      <td>-0.025458</td>\n",
       "      <td>-0.528662</td>\n",
       "      <td>-2.205895</td>\n",
       "      <td>-1.088037</td>\n",
       "      <td>-1.266981</td>\n",
       "      <td>0.197982</td>\n",
       "      <td>-2.426143</td>\n",
       "      <td>-0.378070</td>\n",
       "      <td>-1.551752</td>\n",
       "      <td>0.284582</td>\n",
       "      <td>-0.820322</td>\n",
       "      <td>0.839288</td>\n",
       "      <td>-0.285604</td>\n",
       "      <td>-1.173164</td>\n",
       "      <td>-2.175394</td>\n",
       "      <td>-0.053860</td>\n",
       "      <td>0.187533</td>\n",
       "      <td>-0.901757</td>\n",
       "      <td>1.940475</td>\n",
       "      <td>0.275528</td>\n",
       "      <td>0.562036</td>\n",
       "      <td>-1.328403</td>\n",
       "      <td>1.526121</td>\n",
       "      <td>0.498988</td>\n",
       "      <td>0.848037</td>\n",
       "      <td>-0.739449</td>\n",
       "      <td>0.306516</td>\n",
       "    </tr>\n",
       "    <tr>\n",
       "      <th>5</th>\n",
       "      <td>32</td>\n",
       "      <td>Nacho Cheese White Bean Chips</td>\n",
       "      <td>snacks</td>\n",
       "      <td>chips pretzels</td>\n",
       "      <td>-0.853077</td>\n",
       "      <td>-0.602009</td>\n",
       "      <td>-0.578362</td>\n",
       "      <td>0.442230</td>\n",
       "      <td>-1.859173</td>\n",
       "      <td>-1.230533</td>\n",
       "      <td>-1.446228</td>\n",
       "      <td>-0.816873</td>\n",
       "      <td>1.897856</td>\n",
       "      <td>1.900306</td>\n",
       "      <td>-0.607585</td>\n",
       "      <td>0.550553</td>\n",
       "      <td>0.226949</td>\n",
       "      <td>1.105010</td>\n",
       "      <td>-0.169510</td>\n",
       "      <td>-0.100864</td>\n",
       "      <td>-0.052052</td>\n",
       "      <td>-0.147802</td>\n",
       "      <td>-0.139955</td>\n",
       "      <td>-0.628726</td>\n",
       "      <td>-1.021296</td>\n",
       "      <td>1.218698</td>\n",
       "      <td>1.898824</td>\n",
       "      <td>-0.331035</td>\n",
       "      <td>-0.810010</td>\n",
       "      <td>-0.685518</td>\n",
       "      <td>1.654350</td>\n",
       "      <td>0.852123</td>\n",
       "      <td>-1.454541</td>\n",
       "      <td>0.881135</td>\n",
       "      <td>0.970282</td>\n",
       "      <td>-1.621917</td>\n",
       "      <td>0.472918</td>\n",
       "      <td>0.034217</td>\n",
       "      <td>1.718686</td>\n",
       "      <td>-0.675869</td>\n",
       "      <td>-1.846492</td>\n",
       "      <td>1.470981</td>\n",
       "      <td>0.553200</td>\n",
       "      <td>-0.783153</td>\n",
       "      <td>-0.332943</td>\n",
       "      <td>0.552702</td>\n",
       "      <td>0.417311</td>\n",
       "      <td>0.339533</td>\n",
       "      <td>0.708853</td>\n",
       "      <td>0.460649</td>\n",
       "      <td>1.296961</td>\n",
       "      <td>-0.250972</td>\n",
       "      <td>0.486332</td>\n",
       "      <td>-1.403989</td>\n",
       "      <td>1.089047</td>\n",
       "      <td>1.186225</td>\n",
       "      <td>1.766713</td>\n",
       "      <td>-0.359722</td>\n",
       "      <td>1.425388</td>\n",
       "      <td>0.111310</td>\n",
       "      <td>-0.016335</td>\n",
       "      <td>1.673890</td>\n",
       "      <td>0.961695</td>\n",
       "      <td>-1.538826</td>\n",
       "      <td>-1.686871</td>\n",
       "      <td>-0.048453</td>\n",
       "      <td>0.145908</td>\n",
       "      <td>0.339345</td>\n",
       "      <td>-2.978027</td>\n",
       "      <td>-0.743850</td>\n",
       "      <td>1.448204</td>\n",
       "      <td>-3.351923</td>\n",
       "      <td>-1.297533</td>\n",
       "      <td>-0.447539</td>\n",
       "      <td>1.251998</td>\n",
       "      <td>0.541300</td>\n",
       "      <td>-0.468063</td>\n",
       "      <td>-1.491335</td>\n",
       "      <td>-0.450641</td>\n",
       "      <td>-0.597554</td>\n",
       "      <td>-0.861478</td>\n",
       "      <td>-1.036514</td>\n",
       "      <td>-0.145058</td>\n",
       "      <td>-2.167740</td>\n",
       "      <td>-1.758486</td>\n",
       "      <td>-0.892440</td>\n",
       "      <td>0.162232</td>\n",
       "      <td>-0.739352</td>\n",
       "      <td>-0.047978</td>\n",
       "      <td>0.959513</td>\n",
       "      <td>-1.039396</td>\n",
       "      <td>-0.523118</td>\n",
       "      <td>-0.118977</td>\n",
       "      <td>-3.356261</td>\n",
       "      <td>0.626167</td>\n",
       "      <td>0.123484</td>\n",
       "      <td>0.243619</td>\n",
       "      <td>0.015676</td>\n",
       "      <td>0.438291</td>\n",
       "      <td>0.995212</td>\n",
       "      <td>1.379014</td>\n",
       "      <td>0.181302</td>\n",
       "      <td>-1.778987</td>\n",
       "      <td>-1.710162</td>\n",
       "    </tr>\n",
       "    <tr>\n",
       "      <th>6</th>\n",
       "      <td>34</td>\n",
       "      <td>Peanut Butter Cereal</td>\n",
       "      <td>breakfast</td>\n",
       "      <td>cereal</td>\n",
       "      <td>0.264854</td>\n",
       "      <td>1.574266</td>\n",
       "      <td>0.723107</td>\n",
       "      <td>-0.365277</td>\n",
       "      <td>0.126063</td>\n",
       "      <td>-0.526814</td>\n",
       "      <td>-0.344140</td>\n",
       "      <td>-1.077457</td>\n",
       "      <td>-0.264627</td>\n",
       "      <td>0.045721</td>\n",
       "      <td>0.742928</td>\n",
       "      <td>0.320672</td>\n",
       "      <td>-0.592642</td>\n",
       "      <td>0.695219</td>\n",
       "      <td>-0.458086</td>\n",
       "      <td>0.640509</td>\n",
       "      <td>0.364261</td>\n",
       "      <td>0.426095</td>\n",
       "      <td>-1.212566</td>\n",
       "      <td>-0.677607</td>\n",
       "      <td>1.771956</td>\n",
       "      <td>0.966708</td>\n",
       "      <td>-0.543413</td>\n",
       "      <td>-0.093428</td>\n",
       "      <td>-1.148411</td>\n",
       "      <td>-0.563155</td>\n",
       "      <td>0.284658</td>\n",
       "      <td>0.242911</td>\n",
       "      <td>0.288498</td>\n",
       "      <td>-0.624697</td>\n",
       "      <td>-0.328709</td>\n",
       "      <td>0.260111</td>\n",
       "      <td>-0.665998</td>\n",
       "      <td>-0.571235</td>\n",
       "      <td>1.004434</td>\n",
       "      <td>-1.093053</td>\n",
       "      <td>-0.801373</td>\n",
       "      <td>0.199987</td>\n",
       "      <td>-0.096947</td>\n",
       "      <td>-0.201019</td>\n",
       "      <td>-1.024216</td>\n",
       "      <td>-1.016634</td>\n",
       "      <td>-0.975161</td>\n",
       "      <td>0.388815</td>\n",
       "      <td>-0.772284</td>\n",
       "      <td>-0.342493</td>\n",
       "      <td>-1.128101</td>\n",
       "      <td>-1.595152</td>\n",
       "      <td>1.213031</td>\n",
       "      <td>-0.001400</td>\n",
       "      <td>0.081251</td>\n",
       "      <td>0.116882</td>\n",
       "      <td>-1.177873</td>\n",
       "      <td>0.464867</td>\n",
       "      <td>0.849785</td>\n",
       "      <td>-0.780033</td>\n",
       "      <td>0.408631</td>\n",
       "      <td>0.313194</td>\n",
       "      <td>-0.529897</td>\n",
       "      <td>-0.793754</td>\n",
       "      <td>0.442568</td>\n",
       "      <td>-0.502141</td>\n",
       "      <td>-0.027990</td>\n",
       "      <td>0.124058</td>\n",
       "      <td>-1.388868</td>\n",
       "      <td>0.220641</td>\n",
       "      <td>0.587996</td>\n",
       "      <td>0.736545</td>\n",
       "      <td>-0.326215</td>\n",
       "      <td>1.694747</td>\n",
       "      <td>0.532812</td>\n",
       "      <td>-0.570675</td>\n",
       "      <td>0.107887</td>\n",
       "      <td>1.963033</td>\n",
       "      <td>-0.443893</td>\n",
       "      <td>1.175751</td>\n",
       "      <td>1.774182</td>\n",
       "      <td>0.246948</td>\n",
       "      <td>-0.104361</td>\n",
       "      <td>1.032506</td>\n",
       "      <td>0.508841</td>\n",
       "      <td>-0.259460</td>\n",
       "      <td>0.430636</td>\n",
       "      <td>-0.850261</td>\n",
       "      <td>0.010218</td>\n",
       "      <td>-0.600216</td>\n",
       "      <td>-0.025305</td>\n",
       "      <td>0.670847</td>\n",
       "      <td>-0.952850</td>\n",
       "      <td>-1.402037</td>\n",
       "      <td>-1.404733</td>\n",
       "      <td>-0.159746</td>\n",
       "      <td>-1.340565</td>\n",
       "      <td>-0.837544</td>\n",
       "      <td>1.021394</td>\n",
       "      <td>-0.502794</td>\n",
       "      <td>-0.488959</td>\n",
       "      <td>-1.037410</td>\n",
       "      <td>0.043666</td>\n",
       "      <td>-1.102443</td>\n",
       "    </tr>\n",
       "    <tr>\n",
       "      <th>7</th>\n",
       "      <td>37</td>\n",
       "      <td>Noodle Soup Mix With Chicken Broth</td>\n",
       "      <td>canned goods</td>\n",
       "      <td>soup broth bouillon</td>\n",
       "      <td>0.559886</td>\n",
       "      <td>-0.498955</td>\n",
       "      <td>0.226288</td>\n",
       "      <td>-0.848995</td>\n",
       "      <td>-0.334963</td>\n",
       "      <td>-0.159058</td>\n",
       "      <td>-0.282242</td>\n",
       "      <td>-1.296455</td>\n",
       "      <td>-0.021507</td>\n",
       "      <td>1.575311</td>\n",
       "      <td>-0.153050</td>\n",
       "      <td>-1.404041</td>\n",
       "      <td>-0.359373</td>\n",
       "      <td>0.004143</td>\n",
       "      <td>0.274374</td>\n",
       "      <td>0.182617</td>\n",
       "      <td>-0.888362</td>\n",
       "      <td>0.876843</td>\n",
       "      <td>3.062407</td>\n",
       "      <td>-1.071081</td>\n",
       "      <td>-2.076581</td>\n",
       "      <td>0.049218</td>\n",
       "      <td>-0.551625</td>\n",
       "      <td>1.090656</td>\n",
       "      <td>1.055934</td>\n",
       "      <td>0.772709</td>\n",
       "      <td>0.146313</td>\n",
       "      <td>1.377045</td>\n",
       "      <td>0.902653</td>\n",
       "      <td>0.479391</td>\n",
       "      <td>0.440068</td>\n",
       "      <td>-0.608742</td>\n",
       "      <td>-0.650440</td>\n",
       "      <td>0.002445</td>\n",
       "      <td>0.906155</td>\n",
       "      <td>0.744462</td>\n",
       "      <td>0.451193</td>\n",
       "      <td>-1.046380</td>\n",
       "      <td>1.831426</td>\n",
       "      <td>0.151991</td>\n",
       "      <td>-0.862032</td>\n",
       "      <td>-0.087584</td>\n",
       "      <td>1.965952</td>\n",
       "      <td>2.017165</td>\n",
       "      <td>1.316169</td>\n",
       "      <td>0.018682</td>\n",
       "      <td>0.337868</td>\n",
       "      <td>-0.153695</td>\n",
       "      <td>0.913996</td>\n",
       "      <td>-1.642182</td>\n",
       "      <td>1.002077</td>\n",
       "      <td>0.335065</td>\n",
       "      <td>-1.006529</td>\n",
       "      <td>-0.621333</td>\n",
       "      <td>-1.665637</td>\n",
       "      <td>1.291113</td>\n",
       "      <td>3.175678</td>\n",
       "      <td>1.075096</td>\n",
       "      <td>1.061218</td>\n",
       "      <td>1.638153</td>\n",
       "      <td>-1.245216</td>\n",
       "      <td>-0.208110</td>\n",
       "      <td>-1.513683</td>\n",
       "      <td>1.358757</td>\n",
       "      <td>-0.445362</td>\n",
       "      <td>-0.985063</td>\n",
       "      <td>0.157370</td>\n",
       "      <td>1.147707</td>\n",
       "      <td>0.996459</td>\n",
       "      <td>-0.021209</td>\n",
       "      <td>0.574780</td>\n",
       "      <td>-0.264867</td>\n",
       "      <td>0.603772</td>\n",
       "      <td>1.264824</td>\n",
       "      <td>-0.815293</td>\n",
       "      <td>-0.534841</td>\n",
       "      <td>-0.915604</td>\n",
       "      <td>-1.841658</td>\n",
       "      <td>0.446728</td>\n",
       "      <td>-0.188208</td>\n",
       "      <td>0.033645</td>\n",
       "      <td>-0.526686</td>\n",
       "      <td>-0.877836</td>\n",
       "      <td>-0.987947</td>\n",
       "      <td>1.005291</td>\n",
       "      <td>0.954561</td>\n",
       "      <td>-0.935603</td>\n",
       "      <td>-3.953693</td>\n",
       "      <td>0.111439</td>\n",
       "      <td>0.692134</td>\n",
       "      <td>0.124451</td>\n",
       "      <td>0.271380</td>\n",
       "      <td>1.599461</td>\n",
       "      <td>2.249323</td>\n",
       "      <td>-0.369104</td>\n",
       "      <td>1.792474</td>\n",
       "      <td>-0.307658</td>\n",
       "      <td>1.082386</td>\n",
       "      <td>-0.478216</td>\n",
       "      <td>0.602637</td>\n",
       "    </tr>\n",
       "    <tr>\n",
       "      <th>8</th>\n",
       "      <td>45</td>\n",
       "      <td>European Cucumber</td>\n",
       "      <td>produce</td>\n",
       "      <td>fresh vegetables</td>\n",
       "      <td>0.531658</td>\n",
       "      <td>0.610179</td>\n",
       "      <td>-0.334645</td>\n",
       "      <td>-1.131100</td>\n",
       "      <td>0.779386</td>\n",
       "      <td>0.728232</td>\n",
       "      <td>-0.090325</td>\n",
       "      <td>-0.073010</td>\n",
       "      <td>0.195651</td>\n",
       "      <td>-1.523013</td>\n",
       "      <td>-0.527549</td>\n",
       "      <td>1.068813</td>\n",
       "      <td>-0.838303</td>\n",
       "      <td>0.207078</td>\n",
       "      <td>1.160861</td>\n",
       "      <td>0.716824</td>\n",
       "      <td>0.488569</td>\n",
       "      <td>-0.608976</td>\n",
       "      <td>-0.906699</td>\n",
       "      <td>-0.033252</td>\n",
       "      <td>0.293038</td>\n",
       "      <td>-0.769146</td>\n",
       "      <td>0.549556</td>\n",
       "      <td>-0.730349</td>\n",
       "      <td>-0.248372</td>\n",
       "      <td>1.202255</td>\n",
       "      <td>-0.962330</td>\n",
       "      <td>-0.995690</td>\n",
       "      <td>0.453835</td>\n",
       "      <td>-1.881071</td>\n",
       "      <td>-1.187085</td>\n",
       "      <td>0.889590</td>\n",
       "      <td>-1.644396</td>\n",
       "      <td>1.906578</td>\n",
       "      <td>-0.489602</td>\n",
       "      <td>-0.972792</td>\n",
       "      <td>-1.513032</td>\n",
       "      <td>-0.548374</td>\n",
       "      <td>-1.818740</td>\n",
       "      <td>0.172838</td>\n",
       "      <td>0.422417</td>\n",
       "      <td>-0.924114</td>\n",
       "      <td>-1.107970</td>\n",
       "      <td>-0.148022</td>\n",
       "      <td>-0.116092</td>\n",
       "      <td>-1.324432</td>\n",
       "      <td>0.195070</td>\n",
       "      <td>1.034835</td>\n",
       "      <td>-0.650819</td>\n",
       "      <td>0.809759</td>\n",
       "      <td>-1.171500</td>\n",
       "      <td>-1.031456</td>\n",
       "      <td>0.263395</td>\n",
       "      <td>1.635440</td>\n",
       "      <td>-1.233242</td>\n",
       "      <td>-0.160276</td>\n",
       "      <td>-1.073860</td>\n",
       "      <td>1.469536</td>\n",
       "      <td>-1.212294</td>\n",
       "      <td>1.288928</td>\n",
       "      <td>0.923845</td>\n",
       "      <td>0.712169</td>\n",
       "      <td>2.162089</td>\n",
       "      <td>-0.547719</td>\n",
       "      <td>-0.795782</td>\n",
       "      <td>1.437831</td>\n",
       "      <td>-0.989302</td>\n",
       "      <td>0.695188</td>\n",
       "      <td>1.867089</td>\n",
       "      <td>1.548187</td>\n",
       "      <td>-0.466535</td>\n",
       "      <td>-0.782460</td>\n",
       "      <td>1.499303</td>\n",
       "      <td>1.340810</td>\n",
       "      <td>-0.270207</td>\n",
       "      <td>-0.544443</td>\n",
       "      <td>-0.451163</td>\n",
       "      <td>1.321149</td>\n",
       "      <td>-1.433417</td>\n",
       "      <td>0.185717</td>\n",
       "      <td>-0.572342</td>\n",
       "      <td>0.446763</td>\n",
       "      <td>0.105695</td>\n",
       "      <td>1.321547</td>\n",
       "      <td>-0.350614</td>\n",
       "      <td>-0.512294</td>\n",
       "      <td>0.709888</td>\n",
       "      <td>1.128681</td>\n",
       "      <td>-0.979205</td>\n",
       "      <td>0.964958</td>\n",
       "      <td>-1.201426</td>\n",
       "      <td>-0.938302</td>\n",
       "      <td>0.134459</td>\n",
       "      <td>0.657181</td>\n",
       "      <td>1.357529</td>\n",
       "      <td>-1.919556</td>\n",
       "      <td>-1.460757</td>\n",
       "      <td>-0.992491</td>\n",
       "      <td>-0.094521</td>\n",
       "      <td>2.196651</td>\n",
       "    </tr>\n",
       "    <tr>\n",
       "      <th>9</th>\n",
       "      <td>47</td>\n",
       "      <td>Onion Flavor Organic Roasted Seaweed Snack</td>\n",
       "      <td>international</td>\n",
       "      <td>asian foods</td>\n",
       "      <td>-2.354788</td>\n",
       "      <td>-1.678542</td>\n",
       "      <td>-1.606375</td>\n",
       "      <td>-0.024887</td>\n",
       "      <td>0.446928</td>\n",
       "      <td>-0.671149</td>\n",
       "      <td>-1.893290</td>\n",
       "      <td>-1.094896</td>\n",
       "      <td>-0.678171</td>\n",
       "      <td>1.002392</td>\n",
       "      <td>0.768311</td>\n",
       "      <td>0.218060</td>\n",
       "      <td>2.563644</td>\n",
       "      <td>-0.223286</td>\n",
       "      <td>-0.405804</td>\n",
       "      <td>1.281311</td>\n",
       "      <td>-0.480339</td>\n",
       "      <td>2.010524</td>\n",
       "      <td>0.941023</td>\n",
       "      <td>-1.168260</td>\n",
       "      <td>-1.464452</td>\n",
       "      <td>-0.028979</td>\n",
       "      <td>0.818904</td>\n",
       "      <td>0.702659</td>\n",
       "      <td>-1.521551</td>\n",
       "      <td>-0.949899</td>\n",
       "      <td>1.419784</td>\n",
       "      <td>0.853074</td>\n",
       "      <td>-2.776219</td>\n",
       "      <td>0.189390</td>\n",
       "      <td>-0.143187</td>\n",
       "      <td>-2.139125</td>\n",
       "      <td>1.971662</td>\n",
       "      <td>0.256471</td>\n",
       "      <td>0.704052</td>\n",
       "      <td>0.910901</td>\n",
       "      <td>-1.507224</td>\n",
       "      <td>0.803692</td>\n",
       "      <td>1.454919</td>\n",
       "      <td>-1.029592</td>\n",
       "      <td>-1.284648</td>\n",
       "      <td>3.013951</td>\n",
       "      <td>2.139742</td>\n",
       "      <td>-0.955028</td>\n",
       "      <td>0.535073</td>\n",
       "      <td>1.351876</td>\n",
       "      <td>2.057866</td>\n",
       "      <td>-1.087848</td>\n",
       "      <td>1.339668</td>\n",
       "      <td>-0.479778</td>\n",
       "      <td>2.042688</td>\n",
       "      <td>0.665862</td>\n",
       "      <td>0.802120</td>\n",
       "      <td>0.416569</td>\n",
       "      <td>0.314079</td>\n",
       "      <td>1.681857</td>\n",
       "      <td>1.317088</td>\n",
       "      <td>2.467051</td>\n",
       "      <td>0.740613</td>\n",
       "      <td>-1.887765</td>\n",
       "      <td>-0.923900</td>\n",
       "      <td>-1.562627</td>\n",
       "      <td>-0.172258</td>\n",
       "      <td>1.739027</td>\n",
       "      <td>-0.752425</td>\n",
       "      <td>-0.604028</td>\n",
       "      <td>1.864977</td>\n",
       "      <td>-1.262563</td>\n",
       "      <td>-0.981878</td>\n",
       "      <td>-1.251988</td>\n",
       "      <td>1.337176</td>\n",
       "      <td>2.129344</td>\n",
       "      <td>-0.045815</td>\n",
       "      <td>-1.496348</td>\n",
       "      <td>-0.347178</td>\n",
       "      <td>-0.661614</td>\n",
       "      <td>1.139654</td>\n",
       "      <td>0.490347</td>\n",
       "      <td>0.952425</td>\n",
       "      <td>-0.046679</td>\n",
       "      <td>-2.208478</td>\n",
       "      <td>-0.973357</td>\n",
       "      <td>1.516226</td>\n",
       "      <td>0.910068</td>\n",
       "      <td>1.493608</td>\n",
       "      <td>-0.664234</td>\n",
       "      <td>-0.550949</td>\n",
       "      <td>-0.117848</td>\n",
       "      <td>1.325063</td>\n",
       "      <td>-4.212372</td>\n",
       "      <td>0.641783</td>\n",
       "      <td>0.348542</td>\n",
       "      <td>-0.198166</td>\n",
       "      <td>-0.164772</td>\n",
       "      <td>-0.163969</td>\n",
       "      <td>1.217461</td>\n",
       "      <td>1.642236</td>\n",
       "      <td>-1.077100</td>\n",
       "      <td>-1.375660</td>\n",
       "      <td>-2.757222</td>\n",
       "    </tr>\n",
       "  </tbody>\n",
       "</table>\n",
       "</div>"
      ],
      "text/plain": [
       "  product_id                                    product_name     department  \\\n",
       "0  1          Chocolate Sandwich Cookies                      snacks          \n",
       "1  10         Sparkling Orange Juice & Prickly Pear Beverage  beverages       \n",
       "2  23         Organic Turkey Burgers                          meat seafood    \n",
       "3  25         Salted Caramel Lean Protein & Fiber Bar         snacks          \n",
       "4  28         Wheat Chex Cereal                               breakfast       \n",
       "5  32         Nacho Cheese White Bean Chips                   snacks          \n",
       "6  34         Peanut Butter Cereal                            breakfast       \n",
       "7  37         Noodle Soup Mix With Chicken Broth              canned goods    \n",
       "8  45         European Cucumber                               produce         \n",
       "9  47         Onion Flavor Organic Roasted Seaweed Snack      international   \n",
       "\n",
       "                           aisle    alpha1    alpha2    alpha3    alpha4  \\\n",
       "0  cookies cakes                 -1.183412 -0.861370 -1.415153 -3.984577   \n",
       "1  water seltzer sparkling water -0.331456  0.573208 -1.720854  0.018377   \n",
       "2  packaged poultry              -0.035958 -0.209353  0.096872  0.665713   \n",
       "3  energy granola bars            0.630471  0.821410  1.190839  0.383762   \n",
       "4  cereal                         0.690719 -0.719524 -0.938958 -2.316120   \n",
       "5  chips pretzels                -0.853077 -0.602009 -0.578362  0.442230   \n",
       "6  cereal                         0.264854  1.574266  0.723107 -0.365277   \n",
       "7  soup broth bouillon            0.559886 -0.498955  0.226288 -0.848995   \n",
       "8  fresh vegetables               0.531658  0.610179 -0.334645 -1.131100   \n",
       "9  asian foods                   -2.354788 -1.678542 -1.606375 -0.024887   \n",
       "\n",
       "     alpha5    alpha6    alpha7    alpha8    alpha9   alpha10   alpha11  \\\n",
       "0  0.484036 -2.940326 -0.300115 -0.074547  2.169570  0.453839  0.791955   \n",
       "1  0.177662 -0.754129  0.587958 -0.498509 -0.205226  0.950419 -0.017872   \n",
       "2 -1.117565 -1.620684 -0.640267  0.816675 -0.794390  1.036104  0.321326   \n",
       "3 -0.756176 -1.263914  1.313051 -2.083519 -1.873122 -0.274595  1.675089   \n",
       "4 -1.899937 -0.566824 -0.739348 -3.383590  0.561528  1.241370  3.873722   \n",
       "5 -1.859173 -1.230533 -1.446228 -0.816873  1.897856  1.900306 -0.607585   \n",
       "6  0.126063 -0.526814 -0.344140 -1.077457 -0.264627  0.045721  0.742928   \n",
       "7 -0.334963 -0.159058 -0.282242 -1.296455 -0.021507  1.575311 -0.153050   \n",
       "8  0.779386  0.728232 -0.090325 -0.073010  0.195651 -1.523013 -0.527549   \n",
       "9  0.446928 -0.671149 -1.893290 -1.094896 -0.678171  1.002392  0.768311   \n",
       "\n",
       "    alpha12   alpha13   alpha14   alpha15   alpha16   alpha17   alpha18  \\\n",
       "0 -0.376979  0.200472  2.370705  0.357228  0.813683 -0.708896  0.645883   \n",
       "1 -1.738709 -0.962285  0.103993  0.292058  1.863501  0.903256  0.575385   \n",
       "2 -0.674117  1.129337 -0.397469  0.416873  2.088157  0.549938  0.091742   \n",
       "3  0.221138 -0.407026  0.888602 -0.626032  0.595685  1.221262 -0.503374   \n",
       "4  0.772389  0.900118  0.699930 -1.321263  1.732556 -0.993697  0.687974   \n",
       "5  0.550553  0.226949  1.105010 -0.169510 -0.100864 -0.052052 -0.147802   \n",
       "6  0.320672 -0.592642  0.695219 -0.458086  0.640509  0.364261  0.426095   \n",
       "7 -1.404041 -0.359373  0.004143  0.274374  0.182617 -0.888362  0.876843   \n",
       "8  1.068813 -0.838303  0.207078  1.160861  0.716824  0.488569 -0.608976   \n",
       "9  0.218060  2.563644 -0.223286 -0.405804  1.281311 -0.480339  2.010524   \n",
       "\n",
       "    alpha19   alpha20   alpha21   alpha22   alpha23   alpha24   alpha25  \\\n",
       "0  1.288448 -0.903362  0.675897  0.619931 -0.030437  0.086997  1.788067   \n",
       "1 -0.354326 -0.939239 -0.992258 -0.633707  0.466042  0.730453 -1.503648   \n",
       "2  0.321029  0.737905 -1.460429 -0.647351  0.365546 -0.469989 -1.740476   \n",
       "3  0.723190 -0.132860 -0.147973  0.673720 -0.284033 -0.422822  1.160301   \n",
       "4  0.668022 -1.397829  0.164014  2.534326  1.325022  0.085119  1.099342   \n",
       "5 -0.139955 -0.628726 -1.021296  1.218698  1.898824 -0.331035 -0.810010   \n",
       "6 -1.212566 -0.677607  1.771956  0.966708 -0.543413 -0.093428 -1.148411   \n",
       "7  3.062407 -1.071081 -2.076581  0.049218 -0.551625  1.090656  1.055934   \n",
       "8 -0.906699 -0.033252  0.293038 -0.769146  0.549556 -0.730349 -0.248372   \n",
       "9  0.941023 -1.168260 -1.464452 -0.028979  0.818904  0.702659 -1.521551   \n",
       "\n",
       "    alpha26   alpha27   alpha28   alpha29   alpha30   alpha31   alpha32  \\\n",
       "0 -0.651617  0.639286  0.411931  0.822001  1.951141  1.665058 -1.482452   \n",
       "1 -0.237074 -0.636616  0.381174 -0.752579 -0.232342 -0.166623 -0.800086   \n",
       "2 -0.256172  1.181697 -0.196037 -2.323481 -0.541535  0.447989 -0.641230   \n",
       "3 -1.298887  0.522788  0.409078 -1.272943 -0.494975  0.771094  0.914356   \n",
       "4 -0.869803  1.909371  0.519214  0.449551  1.924192  1.047248  0.187643   \n",
       "5 -0.685518  1.654350  0.852123 -1.454541  0.881135  0.970282 -1.621917   \n",
       "6 -0.563155  0.284658  0.242911  0.288498 -0.624697 -0.328709  0.260111   \n",
       "7  0.772709  0.146313  1.377045  0.902653  0.479391  0.440068 -0.608742   \n",
       "8  1.202255 -0.962330 -0.995690  0.453835 -1.881071 -1.187085  0.889590   \n",
       "9 -0.949899  1.419784  0.853074 -2.776219  0.189390 -0.143187 -2.139125   \n",
       "\n",
       "    alpha33   alpha34   alpha35   alpha36   alpha37   alpha38   alpha39  \\\n",
       "0  2.771689 -0.590960 -0.030715  0.390375  0.904524  0.577922  1.451861   \n",
       "1 -0.353342  0.603658  1.324794 -0.214883 -0.256305  1.764604  0.428251   \n",
       "2  2.065472  0.930254 -0.844474 -0.356620 -3.109405 -0.345145 -0.064528   \n",
       "3  1.137282  1.348562  0.525130 -0.201847 -1.112444 -0.110974  0.216487   \n",
       "4  2.268447 -1.686413  2.491079  0.001868 -0.803635  0.731681 -0.729055   \n",
       "5  0.472918  0.034217  1.718686 -0.675869 -1.846492  1.470981  0.553200   \n",
       "6 -0.665998 -0.571235  1.004434 -1.093053 -0.801373  0.199987 -0.096947   \n",
       "7 -0.650440  0.002445  0.906155  0.744462  0.451193 -1.046380  1.831426   \n",
       "8 -1.644396  1.906578 -0.489602 -0.972792 -1.513032 -0.548374 -1.818740   \n",
       "9  1.971662  0.256471  0.704052  0.910901 -1.507224  0.803692  1.454919   \n",
       "\n",
       "    alpha40   alpha41   alpha42   alpha43   alpha44   alpha45   alpha46  \\\n",
       "0 -1.741845 -0.966159 -0.159986  0.136202  0.220794  1.921617 -0.943121   \n",
       "1  1.016841 -0.429037 -0.128571 -0.586292  2.002882  1.250114  1.295896   \n",
       "2 -0.927463  0.026653  0.823653  0.365154  0.129978  0.821910  2.168680   \n",
       "3 -1.325753  0.060953 -1.297750 -0.104540  1.411424  1.037681 -0.711064   \n",
       "4 -0.713263 -0.115170  0.308494  0.711247  1.593106  1.157572  1.931279   \n",
       "5 -0.783153 -0.332943  0.552702  0.417311  0.339533  0.708853  0.460649   \n",
       "6 -0.201019 -1.024216 -1.016634 -0.975161  0.388815 -0.772284 -0.342493   \n",
       "7  0.151991 -0.862032 -0.087584  1.965952  2.017165  1.316169  0.018682   \n",
       "8  0.172838  0.422417 -0.924114 -1.107970 -0.148022 -0.116092 -1.324432   \n",
       "9 -1.029592 -1.284648  3.013951  2.139742 -0.955028  0.535073  1.351876   \n",
       "\n",
       "    alpha47   alpha48   alpha49   alpha50   alpha51   alpha52   alpha53  \\\n",
       "0 -0.702226  0.563622  0.074095  0.166780  0.666404  0.951395  0.850121   \n",
       "1  1.262417 -0.122711 -0.281134 -1.221667 -0.319366 -0.066629  0.603732   \n",
       "2  1.396352 -0.929876  1.014809  0.504456  0.175972 -0.382627 -0.584233   \n",
       "3 -0.547892 -2.742516  0.521809 -1.778180 -0.051592  1.170498  1.304751   \n",
       "4  1.435167 -1.277781  0.955729  0.554139  0.934580  1.151412  0.413992   \n",
       "5  1.296961 -0.250972  0.486332 -1.403989  1.089047  1.186225  1.766713   \n",
       "6 -1.128101 -1.595152  1.213031 -0.001400  0.081251  0.116882 -1.177873   \n",
       "7  0.337868 -0.153695  0.913996 -1.642182  1.002077  0.335065 -1.006529   \n",
       "8  0.195070  1.034835 -0.650819  0.809759 -1.171500 -1.031456  0.263395   \n",
       "9  2.057866 -1.087848  1.339668 -0.479778  2.042688  0.665862  0.802120   \n",
       "\n",
       "    alpha54   alpha55   alpha56   alpha57   alpha58   alpha59   alpha60  \\\n",
       "0  0.408889  0.600469  0.348562  0.062865  0.742645 -0.119219 -0.994086   \n",
       "1 -0.447673 -1.661642 -0.672956  0.684670 -0.263093  0.952057 -0.790968   \n",
       "2 -0.043458  1.097647  0.635080  1.452051 -0.695791  0.715157 -1.704595   \n",
       "3 -3.025506 -0.065978  0.683124  0.946554 -0.344681  0.283442 -1.743928   \n",
       "4  0.278834 -0.448172  0.127930  0.727249  0.909846  0.489234  1.052080   \n",
       "5 -0.359722  1.425388  0.111310 -0.016335  1.673890  0.961695 -1.538826   \n",
       "6  0.464867  0.849785 -0.780033  0.408631  0.313194 -0.529897 -0.793754   \n",
       "7 -0.621333 -1.665637  1.291113  3.175678  1.075096  1.061218  1.638153   \n",
       "8  1.635440 -1.233242 -0.160276 -1.073860  1.469536 -1.212294  1.288928   \n",
       "9  0.416569  0.314079  1.681857  1.317088  2.467051  0.740613 -1.887765   \n",
       "\n",
       "    alpha61   alpha62   alpha63   alpha64   alpha65   alpha66   alpha67  \\\n",
       "0 -0.299222 -0.105132 -3.246717  0.333368  0.480265 -1.719432  1.395946   \n",
       "1  0.383072  0.535542 -0.922691  0.313678 -0.733459 -1.742142  1.135076   \n",
       "2 -0.730794  0.190486  0.515532  0.529540 -3.136323  0.476737  0.280127   \n",
       "3 -2.389321 -2.300058 -0.580161  1.504566 -1.823866  0.684577  0.034252   \n",
       "4 -0.899063 -0.206926 -2.688304  1.759333 -0.331616 -0.640053  0.328453   \n",
       "5 -1.686871 -0.048453  0.145908  0.339345 -2.978027 -0.743850  1.448204   \n",
       "6  0.442568 -0.502141 -0.027990  0.124058 -1.388868  0.220641  0.587996   \n",
       "7 -1.245216 -0.208110 -1.513683  1.358757 -0.445362 -0.985063  0.157370   \n",
       "8  0.923845  0.712169  2.162089 -0.547719 -0.795782  1.437831 -0.989302   \n",
       "9 -0.923900 -1.562627 -0.172258  1.739027 -0.752425 -0.604028  1.864977   \n",
       "\n",
       "    alpha68   alpha69   alpha70   alpha71   alpha72   alpha73   alpha74  \\\n",
       "0 -1.746616 -1.756080 -3.286691  0.179693  0.929690 -2.974469 -2.404359   \n",
       "1 -0.548695 -1.275581  0.476494  0.800753  1.730305 -0.136440 -0.459481   \n",
       "2 -0.660368 -2.250686 -0.044858  0.183740  0.223216  0.087542  0.114206   \n",
       "3 -1.097059 -1.029776  0.136505 -1.350171 -2.332088  0.314613  1.124941   \n",
       "4  0.684228  0.825173 -0.351979  0.439838  1.971735 -1.336005 -0.025458   \n",
       "5 -3.351923 -1.297533 -0.447539  1.251998  0.541300 -0.468063 -1.491335   \n",
       "6  0.736545 -0.326215  1.694747  0.532812 -0.570675  0.107887  1.963033   \n",
       "7  1.147707  0.996459 -0.021209  0.574780 -0.264867  0.603772  1.264824   \n",
       "8  0.695188  1.867089  1.548187 -0.466535 -0.782460  1.499303  1.340810   \n",
       "9 -1.262563 -0.981878 -1.251988  1.337176  2.129344 -0.045815 -1.496348   \n",
       "\n",
       "    alpha75   alpha76   alpha77   alpha78   alpha79   alpha80   alpha81  \\\n",
       "0  0.716335 -1.734677  0.430846 -0.522780 -0.528509 -1.575331  0.029533   \n",
       "1  0.032877  0.371075  0.813657 -0.782324 -0.007629  0.857701 -0.652473   \n",
       "2  0.243108  0.009661 -1.065312 -0.189024  0.163255 -0.091317 -0.707847   \n",
       "3 -2.619606  0.920128  1.468825 -0.094429 -0.172222 -2.308653 -1.546665   \n",
       "4 -0.528662 -2.205895 -1.088037 -1.266981  0.197982 -2.426143 -0.378070   \n",
       "5 -0.450641 -0.597554 -0.861478 -1.036514 -0.145058 -2.167740 -1.758486   \n",
       "6 -0.443893  1.175751  1.774182  0.246948 -0.104361  1.032506  0.508841   \n",
       "7 -0.815293 -0.534841 -0.915604 -1.841658  0.446728 -0.188208  0.033645   \n",
       "8 -0.270207 -0.544443 -0.451163  1.321149 -1.433417  0.185717 -0.572342   \n",
       "9 -0.347178 -0.661614  1.139654  0.490347  0.952425 -0.046679 -2.208478   \n",
       "\n",
       "    alpha82   alpha83   alpha84   alpha85   alpha86   alpha87   alpha88  \\\n",
       "0  0.681370  1.595411 -0.668094  1.375097  0.390290 -0.321217 -3.878534   \n",
       "1  0.209253  0.190521  1.014716  0.388153 -1.386423  0.414659 -0.269901   \n",
       "2 -0.065677  0.366448 -1.584453  0.214768  0.227825 -1.189937  0.395108   \n",
       "3  0.375919 -0.628087 -0.089079  1.277338  0.573044  0.418188  0.896311   \n",
       "4 -1.551752  0.284582 -0.820322  0.839288 -0.285604 -1.173164 -2.175394   \n",
       "5 -0.892440  0.162232 -0.739352 -0.047978  0.959513 -1.039396 -0.523118   \n",
       "6 -0.259460  0.430636 -0.850261  0.010218 -0.600216 -0.025305  0.670847   \n",
       "7 -0.526686 -0.877836 -0.987947  1.005291  0.954561 -0.935603 -3.953693   \n",
       "8  0.446763  0.105695  1.321547 -0.350614 -0.512294  0.709888  1.128681   \n",
       "9 -0.973357  1.516226  0.910068  1.493608 -0.664234 -0.550949 -0.117848   \n",
       "\n",
       "    alpha89   alpha90   alpha91   alpha92   alpha93   alpha94   alpha95  \\\n",
       "0 -1.041904  0.471478 -0.074159 -0.137711  1.069477 -1.111393 -2.368239   \n",
       "1 -0.075146 -2.601830  0.327184 -0.155960 -0.913883  1.477658  0.333304   \n",
       "2  0.598047 -3.418231 -1.598832  1.503002  0.280774  0.036817  0.376921   \n",
       "3  0.682610 -2.919713 -0.352067 -0.687200  0.770890  1.743414  1.325940   \n",
       "4 -0.053860  0.187533 -0.901757  1.940475  0.275528  0.562036 -1.328403   \n",
       "5 -0.118977 -3.356261  0.626167  0.123484  0.243619  0.015676  0.438291   \n",
       "6 -0.952850 -1.402037 -1.404733 -0.159746 -1.340565 -0.837544  1.021394   \n",
       "7  0.111439  0.692134  0.124451  0.271380  1.599461  2.249323 -0.369104   \n",
       "8 -0.979205  0.964958 -1.201426 -0.938302  0.134459  0.657181  1.357529   \n",
       "9  1.325063 -4.212372  0.641783  0.348542 -0.198166 -0.164772 -0.163969   \n",
       "\n",
       "    alpha96   alpha97   alpha98   alpha99  alpha100  \n",
       "0  2.323813  0.517880  2.917049 -1.946994 -0.443278  \n",
       "1 -1.443525 -0.270717 -0.501845  1.037438 -2.487606  \n",
       "2 -0.499469  0.976364 -0.369201 -1.773830 -0.801614  \n",
       "3 -0.985702  2.977424 -1.613867 -1.870531 -2.977828  \n",
       "4  1.526121  0.498988  0.848037 -0.739449  0.306516  \n",
       "5  0.995212  1.379014  0.181302 -1.778987 -1.710162  \n",
       "6 -0.502794 -0.488959 -1.037410  0.043666 -1.102443  \n",
       "7  1.792474 -0.307658  1.082386 -0.478216  0.602637  \n",
       "8 -1.919556 -1.460757 -0.992491 -0.094521  2.196651  \n",
       "9  1.217461  1.642236 -1.077100 -1.375660 -2.757222  "
      ]
     },
     "metadata": {},
     "output_type": "display_data"
    }
   ],
   "source": [
    "display(word_vec_df.head(10))"
   ]
  },
  {
   "cell_type": "markdown",
   "metadata": {},
   "source": [
    "## 9.1. Fit t-sne"
   ]
  },
  {
   "cell_type": "code",
   "execution_count": 99,
   "metadata": {},
   "outputs": [],
   "source": [
    "#===============================================\n",
    "# fit t-sne\n",
    "#===============================================\n",
    "\n",
    "# define model\n",
    "tsne = TSNE(n_components = 2, verbose = 1, perplexity = 35, n_iter = 400)"
   ]
  },
  {
   "cell_type": "code",
   "execution_count": 100,
   "metadata": {},
   "outputs": [
    {
     "name": "stdout",
     "output_type": "stream",
     "text": [
      "[t-SNE] Computing 106 nearest neighbors...\n",
      "[t-SNE] Indexed 10000 samples in 0.056s...\n",
      "[t-SNE] Computed neighbors for 10000 samples in 11.127s...\n",
      "[t-SNE] Computed conditional probabilities for sample 1000 / 10000\n",
      "[t-SNE] Computed conditional probabilities for sample 2000 / 10000\n",
      "[t-SNE] Computed conditional probabilities for sample 3000 / 10000\n",
      "[t-SNE] Computed conditional probabilities for sample 4000 / 10000\n",
      "[t-SNE] Computed conditional probabilities for sample 5000 / 10000\n",
      "[t-SNE] Computed conditional probabilities for sample 6000 / 10000\n",
      "[t-SNE] Computed conditional probabilities for sample 7000 / 10000\n",
      "[t-SNE] Computed conditional probabilities for sample 8000 / 10000\n",
      "[t-SNE] Computed conditional probabilities for sample 9000 / 10000\n",
      "[t-SNE] Computed conditional probabilities for sample 10000 / 10000\n",
      "[t-SNE] Mean sigma: 2.634339\n",
      "[t-SNE] KL divergence after 250 iterations with early exaggeration: 88.773849\n",
      "[t-SNE] Error after 400 iterations: 2.729297\n"
     ]
    }
   ],
   "source": [
    "# columns to fit on\n",
    "w2v_vec_names = list(word_vec_df.columns)[4:]\n",
    "\n",
    "# fit\n",
    "t0 = time.time()\n",
    "tsne_fit = tsne.fit_transform(word_vec_df[w2v_vec_names])\n",
    "t1 = time.time()"
   ]
  },
  {
   "cell_type": "code",
   "execution_count": 101,
   "metadata": {},
   "outputs": [
    {
     "data": {
      "text/plain": [
       "'Time Taken: 112.29158687591553'"
      ]
     },
     "execution_count": 101,
     "metadata": {},
     "output_type": "execute_result"
    }
   ],
   "source": [
    "# time taken\n",
    "f\"Time Taken: {t1 - t0}\""
   ]
  },
  {
   "cell_type": "markdown",
   "metadata": {},
   "source": [
    "## T-sne component data frame"
   ]
  },
  {
   "cell_type": "code",
   "execution_count": 102,
   "metadata": {},
   "outputs": [
    {
     "name": "stdout",
     "output_type": "stream",
     "text": [
      "             x_tsne        y_tsne\n",
      "count  10000.000000  10000.000000\n",
      "mean  -0.010586     -0.071779    \n",
      "std    11.835160     10.276587   \n",
      "min   -25.944235    -23.555828   \n",
      "25%   -9.166692     -7.625265    \n",
      "50%   -0.048964      0.505374    \n",
      "75%    9.798955      7.323452    \n",
      "max    26.424232     22.624187   \n"
     ]
    }
   ],
   "source": [
    "#===============================================\n",
    "# create t-sne data frame\n",
    "#===============================================\n",
    "\n",
    "tsne_df = word_vec_df[[\"product_name\", \"department\", \"aisle\"]]\n",
    "\n",
    "# extract t-sne dimensions\n",
    "tsne_df[\"x_tsne\"] = tsne_fit[:,0]\n",
    "tsne_df[\"y_tsne\"] = tsne_fit[:,1]\n",
    "print(tsne_df.describe())"
   ]
  },
  {
   "cell_type": "code",
   "execution_count": 106,
   "metadata": {},
   "outputs": [
    {
     "data": {
      "text/html": [
       "<div>\n",
       "<style>\n",
       "    .dataframe thead tr:only-child th {\n",
       "        text-align: right;\n",
       "    }\n",
       "\n",
       "    .dataframe thead th {\n",
       "        text-align: left;\n",
       "    }\n",
       "\n",
       "    .dataframe tbody tr th {\n",
       "        vertical-align: top;\n",
       "    }\n",
       "</style>\n",
       "<table border=\"1\" class=\"dataframe\">\n",
       "  <thead>\n",
       "    <tr style=\"text-align: right;\">\n",
       "      <th></th>\n",
       "      <th>product_name</th>\n",
       "      <th>department</th>\n",
       "      <th>aisle</th>\n",
       "      <th>x_tsne</th>\n",
       "      <th>y_tsne</th>\n",
       "    </tr>\n",
       "  </thead>\n",
       "  <tbody>\n",
       "    <tr>\n",
       "      <th>0</th>\n",
       "      <td>Chocolate Sandwich Cookies</td>\n",
       "      <td>snacks</td>\n",
       "      <td>cookies cakes</td>\n",
       "      <td>3.181473</td>\n",
       "      <td>20.531919</td>\n",
       "    </tr>\n",
       "    <tr>\n",
       "      <th>1</th>\n",
       "      <td>Sparkling Orange Juice &amp; Prickly Pear Beverage</td>\n",
       "      <td>beverages</td>\n",
       "      <td>water seltzer sparkling water</td>\n",
       "      <td>6.211630</td>\n",
       "      <td>-7.503871</td>\n",
       "    </tr>\n",
       "    <tr>\n",
       "      <th>2</th>\n",
       "      <td>Organic Turkey Burgers</td>\n",
       "      <td>meat seafood</td>\n",
       "      <td>packaged poultry</td>\n",
       "      <td>-2.630418</td>\n",
       "      <td>-8.927411</td>\n",
       "    </tr>\n",
       "    <tr>\n",
       "      <th>3</th>\n",
       "      <td>Salted Caramel Lean Protein &amp; Fiber Bar</td>\n",
       "      <td>snacks</td>\n",
       "      <td>energy granola bars</td>\n",
       "      <td>-19.898764</td>\n",
       "      <td>-1.128485</td>\n",
       "    </tr>\n",
       "    <tr>\n",
       "      <th>4</th>\n",
       "      <td>Wheat Chex Cereal</td>\n",
       "      <td>breakfast</td>\n",
       "      <td>cereal</td>\n",
       "      <td>11.392971</td>\n",
       "      <td>3.312474</td>\n",
       "    </tr>\n",
       "    <tr>\n",
       "      <th>5</th>\n",
       "      <td>Nacho Cheese White Bean Chips</td>\n",
       "      <td>snacks</td>\n",
       "      <td>chips pretzels</td>\n",
       "      <td>-12.047878</td>\n",
       "      <td>-1.133068</td>\n",
       "    </tr>\n",
       "    <tr>\n",
       "      <th>6</th>\n",
       "      <td>Peanut Butter Cereal</td>\n",
       "      <td>breakfast</td>\n",
       "      <td>cereal</td>\n",
       "      <td>3.949043</td>\n",
       "      <td>-13.893906</td>\n",
       "    </tr>\n",
       "    <tr>\n",
       "      <th>7</th>\n",
       "      <td>Noodle Soup Mix With Chicken Broth</td>\n",
       "      <td>canned goods</td>\n",
       "      <td>soup broth bouillon</td>\n",
       "      <td>12.893579</td>\n",
       "      <td>-1.564495</td>\n",
       "    </tr>\n",
       "    <tr>\n",
       "      <th>8</th>\n",
       "      <td>European Cucumber</td>\n",
       "      <td>produce</td>\n",
       "      <td>fresh vegetables</td>\n",
       "      <td>7.303668</td>\n",
       "      <td>-15.829605</td>\n",
       "    </tr>\n",
       "    <tr>\n",
       "      <th>9</th>\n",
       "      <td>Onion Flavor Organic Roasted Seaweed Snack</td>\n",
       "      <td>international</td>\n",
       "      <td>asian foods</td>\n",
       "      <td>-15.922798</td>\n",
       "      <td>2.031249</td>\n",
       "    </tr>\n",
       "    <tr>\n",
       "      <th>10</th>\n",
       "      <td>Vegetarian Grain Meat Sausages Italian - 4 CT</td>\n",
       "      <td>deli</td>\n",
       "      <td>tofu meat alternatives</td>\n",
       "      <td>-20.212502</td>\n",
       "      <td>-7.041693</td>\n",
       "    </tr>\n",
       "    <tr>\n",
       "      <th>11</th>\n",
       "      <td>24/7 Performance Cat Litter</td>\n",
       "      <td>pets</td>\n",
       "      <td>cat food care</td>\n",
       "      <td>17.483597</td>\n",
       "      <td>12.185184</td>\n",
       "    </tr>\n",
       "    <tr>\n",
       "      <th>12</th>\n",
       "      <td>Banana &amp; Sweet Potato Organic Teething Wafers</td>\n",
       "      <td>babies</td>\n",
       "      <td>baby food formula</td>\n",
       "      <td>-21.984308</td>\n",
       "      <td>-13.155461</td>\n",
       "    </tr>\n",
       "    <tr>\n",
       "      <th>13</th>\n",
       "      <td>Wild Albacore Tuna No Salt Added</td>\n",
       "      <td>canned goods</td>\n",
       "      <td>canned meat seafood</td>\n",
       "      <td>-0.360352</td>\n",
       "      <td>-11.319746</td>\n",
       "    </tr>\n",
       "    <tr>\n",
       "      <th>14</th>\n",
       "      <td>100% Whole Wheat Pita Bread</td>\n",
       "      <td>bakery</td>\n",
       "      <td>tortillas flat bread</td>\n",
       "      <td>8.077227</td>\n",
       "      <td>12.862947</td>\n",
       "    </tr>\n",
       "    <tr>\n",
       "      <th>15</th>\n",
       "      <td>Classics Earl Grey Tea</td>\n",
       "      <td>beverages</td>\n",
       "      <td>tea</td>\n",
       "      <td>-7.740993</td>\n",
       "      <td>19.748800</td>\n",
       "    </tr>\n",
       "    <tr>\n",
       "      <th>16</th>\n",
       "      <td>Uncured Cracked Pepper Beef</td>\n",
       "      <td>snacks</td>\n",
       "      <td>popcorn jerky</td>\n",
       "      <td>-11.087572</td>\n",
       "      <td>-10.122972</td>\n",
       "    </tr>\n",
       "    <tr>\n",
       "      <th>17</th>\n",
       "      <td>Organic Blueberry Blitz Fruit &amp; Veggie Smoothie Mashups</td>\n",
       "      <td>babies</td>\n",
       "      <td>baby food formula</td>\n",
       "      <td>-19.044867</td>\n",
       "      <td>-11.096572</td>\n",
       "    </tr>\n",
       "    <tr>\n",
       "      <th>18</th>\n",
       "      <td>Organic Rice Vinegar</td>\n",
       "      <td>international</td>\n",
       "      <td>asian foods</td>\n",
       "      <td>-1.824085</td>\n",
       "      <td>10.509013</td>\n",
       "    </tr>\n",
       "    <tr>\n",
       "      <th>19</th>\n",
       "      <td>Local Living Butter Lettuce</td>\n",
       "      <td>produce</td>\n",
       "      <td>fresh vegetables</td>\n",
       "      <td>-10.863510</td>\n",
       "      <td>-0.091049</td>\n",
       "    </tr>\n",
       "  </tbody>\n",
       "</table>\n",
       "</div>"
      ],
      "text/plain": [
       "                                               product_name     department  \\\n",
       "0   Chocolate Sandwich Cookies                               snacks          \n",
       "1   Sparkling Orange Juice & Prickly Pear Beverage           beverages       \n",
       "2   Organic Turkey Burgers                                   meat seafood    \n",
       "3   Salted Caramel Lean Protein & Fiber Bar                  snacks          \n",
       "4   Wheat Chex Cereal                                        breakfast       \n",
       "5   Nacho Cheese White Bean Chips                            snacks          \n",
       "6   Peanut Butter Cereal                                     breakfast       \n",
       "7   Noodle Soup Mix With Chicken Broth                       canned goods    \n",
       "8   European Cucumber                                        produce         \n",
       "9   Onion Flavor Organic Roasted Seaweed Snack               international   \n",
       "10  Vegetarian Grain Meat Sausages Italian - 4 CT            deli            \n",
       "11  24/7 Performance Cat Litter                              pets            \n",
       "12  Banana & Sweet Potato Organic Teething Wafers            babies          \n",
       "13  Wild Albacore Tuna No Salt Added                         canned goods    \n",
       "14  100% Whole Wheat Pita Bread                              bakery          \n",
       "15  Classics Earl Grey Tea                                   beverages       \n",
       "16  Uncured Cracked Pepper Beef                              snacks          \n",
       "17  Organic Blueberry Blitz Fruit & Veggie Smoothie Mashups  babies          \n",
       "18  Organic Rice Vinegar                                     international   \n",
       "19  Local Living Butter Lettuce                              produce         \n",
       "\n",
       "                            aisle     x_tsne     y_tsne  \n",
       "0   cookies cakes                  3.181473   20.531919  \n",
       "1   water seltzer sparkling water  6.211630  -7.503871   \n",
       "2   packaged poultry              -2.630418  -8.927411   \n",
       "3   energy granola bars           -19.898764 -1.128485   \n",
       "4   cereal                         11.392971  3.312474   \n",
       "5   chips pretzels                -12.047878 -1.133068   \n",
       "6   cereal                         3.949043  -13.893906  \n",
       "7   soup broth bouillon            12.893579 -1.564495   \n",
       "8   fresh vegetables               7.303668  -15.829605  \n",
       "9   asian foods                   -15.922798  2.031249   \n",
       "10  tofu meat alternatives        -20.212502 -7.041693   \n",
       "11  cat food care                  17.483597  12.185184  \n",
       "12  baby food formula             -21.984308 -13.155461  \n",
       "13  canned meat seafood           -0.360352  -11.319746  \n",
       "14  tortillas flat bread           8.077227   12.862947  \n",
       "15  tea                           -7.740993   19.748800  \n",
       "16  popcorn jerky                 -11.087572 -10.122972  \n",
       "17  baby food formula             -19.044867 -11.096572  \n",
       "18  asian foods                   -1.824085   10.509013  \n",
       "19  fresh vegetables              -10.863510 -0.091049   "
      ]
     },
     "metadata": {},
     "output_type": "display_data"
    }
   ],
   "source": [
    "display(tsne_df.head(20))"
   ]
  },
  {
   "cell_type": "markdown",
   "metadata": {},
   "source": [
    "## Plot with ggplot"
   ]
  },
  {
   "cell_type": "code",
   "execution_count": 103,
   "metadata": {},
   "outputs": [
    {
     "name": "stdout",
     "output_type": "stream",
     "text": [
      "(2054, 5)\n"
     ]
    }
   ],
   "source": [
    "#===============================================\n",
    "# subset data for plot\n",
    "#===============================================\n",
    "\n",
    "# select only top departments\n",
    "select_dept = [\"produce\", \"babies\", \"beverages\"]\n",
    "tsne_plot_df = tsne_df.loc[tsne_df[\"department\"].isin(select_dept), :]\n",
    "print(tsne_plot_df.shape)"
   ]
  },
  {
   "cell_type": "code",
   "execution_count": 104,
   "metadata": {},
   "outputs": [
    {
     "data": {
      "image/png": "[encoded data removed]",
      "text/plain": [
       "<matplotlib.figure.Figure at 0x2aabe7298160>"
      ]
     },
     "metadata": {},
     "output_type": "display_data"
    },
    {
     "data": {
      "text/plain": [
       "<ggplot: (-9223369104491898680)>"
      ]
     },
     "execution_count": 104,
     "metadata": {},
     "output_type": "execute_result"
    }
   ],
   "source": [
    "tsne_plot = ggplot(tsne_plot_df, aes(x = \"x_tsne\", y = \"y_tsne\", color = \"department\") ) \\\n",
    "        + geom_point(size = 70, alpha = 0.5) \\\n",
    "        + ggtitle(\"T-sne on product vectors\") \\\n",
    "        + xlab(\" \") + ylab(\" \")\n",
    "tsne_plot"
   ]
  },
  {
   "cell_type": "markdown",
   "metadata": {},
   "source": [
    "----"
   ]
  },
  {
   "cell_type": "markdown",
   "metadata": {},
   "source": [
    "# Class exercise - training embeddings"
   ]
  },
  {
   "cell_type": "code",
   "execution_count": null,
   "metadata": {},
   "outputs": [],
   "source": [
    "# Please train embeddings with the following specifcations\n",
    "# embedding size = 50\n",
    "# negative samples = 12\n",
    "# context size = 8\n",
    "# optimizer = rmsprop\n",
    "# optimizer learning rate = 0.025\n",
    "# batch size = 128\n",
    "# epochs = 1"
   ]
  },
  {
   "cell_type": "code",
   "execution_count": null,
   "metadata": {},
   "outputs": [],
   "source": [
    "####### You are welcome to use the following skeleton code\n",
    "\n",
    "\n",
    "# define input layers\n",
    "input_target = Input((1,))\n",
    "input_context = Input((1,))\n",
    "\n",
    "# define embedding layers\n",
    "\n",
    "# target\n",
    "target = Embedding(input_dim = vocab_size, output_dim= emb_size, name = \"rho\")(input_target)\n",
    "target = Reshape(target_shape = (emb_size, 1))(target)\n",
    "\n",
    "# context\n",
    "context = Embedding(input_dim = vocab_size, output_dim= emb_size, name = \"alpha\")(input_context)\n",
    "context = Reshape(target_shape = (emb_size, 1))(context)\n",
    "\n",
    "# concatenate model inputs and outputs\n",
    "input_model = [input_target, input_context]\n",
    "\n",
    "output_embeddings = Dot(axes = 1)([target, context])\n",
    "output_embeddings\n",
    "\n",
    "# resize embeddings\n",
    "#output_model = Reshape((1,))(output_embeddings)\n",
    "output_model = Flatten()(output_embeddings)\n",
    "output_model\n",
    "\n",
    "# complete model\n",
    "output_model = Dense(1, activation = \"sigmoid\")(output_model)\n",
    "\n",
    "# define as keras model\n",
    "new_model = Model(inputs = input_model, outputs = output_model)\n",
    "\n",
    "# optimizer\n",
    "#### rmsprop\n",
    "\n",
    "# compile model\n",
    "# new_model.compile(optimizer = xxxx, loss = 'binary_crossentropy', metrics = ['acc'])\n",
    "\n",
    "# model summary\n",
    "# new_model.summary()"
   ]
  },
  {
   "cell_type": "code",
   "execution_count": null,
   "metadata": {},
   "outputs": [],
   "source": []
  },
  {
   "cell_type": "code",
   "execution_count": null,
   "metadata": {},
   "outputs": [],
   "source": []
  },
  {
   "cell_type": "code",
   "execution_count": null,
   "metadata": {},
   "outputs": [],
   "source": []
  }
 ],
 "metadata": {
  "kernelspec": {
   "display_name": "Python 3",
   "language": "python",
   "name": "python3"
  },
  "language_info": {
   "codemirror_mode": {
    "name": "ipython",
    "version": 3
   },
   "file_extension": ".py",
   "mimetype": "text/x-python",
   "name": "python",
   "nbconvert_exporter": "python",
   "pygments_lexer": "ipython3",
   "version": "3.6.7"
  }
 },
 "nbformat": 4,
 "nbformat_minor": 2
}
