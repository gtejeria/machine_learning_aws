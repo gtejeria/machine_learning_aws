{
 "cells": [
  {
   "cell_type": "markdown",
   "metadata": {},
   "source": [
    "# MIT-GSL Uruguay \n",
    "\n",
    "## January 2020"
   ]
  },
  {
   "cell_type": "markdown",
   "metadata": {},
   "source": [
    "-----"
   ]
  },
  {
   "cell_type": "markdown",
   "metadata": {},
   "source": [
    "# Week - 2 | Lesson - 04 \n",
    "# NLP: Product embeddings in Keras"
   ]
  },
  {
   "cell_type": "markdown",
   "metadata": {},
   "source": [
    "1. After introducing the concept of embeddings through NLP, we extend the notion of embeddings to other settings\n",
    "2. Note that embeddings are dense continuous representations for discrete, sparse tokens - this makes embeddings widely applicable\n",
    "3. We will use the concept of embeddings to understand the world of e-commerce better "
   ]
  },
  {
   "cell_type": "markdown",
   "metadata": {},
   "source": [
    "---"
   ]
  },
  {
   "cell_type": "markdown",
   "metadata": {},
   "source": [
    "# Word2Vec and its Applications to Market-Basket Data"
   ]
  },
  {
   "cell_type": "markdown",
   "metadata": {},
   "source": [
    "# Instacart Grocery Dataset\n",
    "\n",
    "### Source: https://www.instacart.com/datasets/grocery-shopping-2017\n",
    "\n",
    "1. Instacart is an online grocery delivery service\n",
    "2. They have made available 3M grocery orders for over 200K users\n",
    "3. They provide between 4 to 100 orders for each user and each order contains the sequence of products purchased\n",
    "4. We also have a brief description of the products\n",
    "\n",
    "### Overview:\n",
    "1. We will use this data to build an understanding of word embeddings and investigate their application to downstream tasks\n",
    "2. For this purpose, we will consider each purchase basket to be a sentence with an unordered sequence of words"
   ]
  },
  {
   "cell_type": "markdown",
   "metadata": {},
   "source": [
    "---"
   ]
  },
  {
   "cell_type": "markdown",
   "metadata": {},
   "source": [
    "# 0. Import Modules"
   ]
  },
  {
   "cell_type": "code",
   "execution_count": 1,
   "metadata": {},
   "outputs": [
    {
     "name": "stderr",
     "output_type": "stream",
     "text": [
      "[nltk_data] Downloading package punkt to /home/ubuntu/nltk_data...\n",
      "[nltk_data]   Package punkt is already up-to-date!\n"
     ]
    },
    {
     "data": {
      "text/plain": [
       "True"
      ]
     },
     "execution_count": 1,
     "metadata": {},
     "output_type": "execute_result"
    }
   ],
   "source": [
    "# ==============================================\n",
    "# 0. Module imports\n",
    "# ==============================================\n",
    "\n",
    "import pandas as pd\n",
    "pd.options.display.max_colwidth = 100\n",
    "import numpy as np\n",
    "from itertools import product\n",
    "import csv\n",
    "import collections\n",
    "import random\n",
    "\n",
    "# w2v\n",
    "import gensim\n",
    "\n",
    "# text processing\n",
    "from nltk import sent_tokenize, word_tokenize\n",
    "from nltk.tokenize import ToktokTokenizer\n",
    "import string\n",
    "import re # regular expressions\n",
    "from sklearn.feature_extraction.text import CountVectorizer, TfidfVectorizer\n",
    "from sklearn.linear_model import LogisticRegression\n",
    "from sklearn.metrics import roc_auc_score\n",
    "from sklearn.metrics.pairwise import cosine_similarity\n",
    "\n",
    "# T-Sne\n",
    "#import umap\n",
    "#from openTSNE import TSNE, TSNEEmbedding, affinity, initialization\n",
    "#from openTSNE import initialization\n",
    "#from openTSNE.callbacks import ErrorLogger\n",
    "from sklearn.manifold import TSNE\n",
    "\n",
    "\n",
    "# utils\n",
    "from sklearn import utils\n",
    "\n",
    "\n",
    "# parallel processing\n",
    "import multiprocessing\n",
    "from joblib import delayed, Parallel\n",
    "\n",
    "# time code\n",
    "import time\n",
    "\n",
    "# 2-d visualiztion\n",
    "%matplotlib inline\n",
    "from ggplot import *\n",
    "import matplotlib.pyplot as plt\n",
    "import warnings\n",
    "warnings.filterwarnings(\"ignore\")\n",
    "\n",
    "import os\n",
    "\n",
    "import nltk\n",
    "nltk.download(\"punkt\")"
   ]
  },
  {
   "cell_type": "code",
   "execution_count": 2,
   "metadata": {},
   "outputs": [
    {
     "name": "stderr",
     "output_type": "stream",
     "text": [
      "Using TensorFlow backend.\n"
     ]
    }
   ],
   "source": [
    "# ===============================================\n",
    "# keras modules\n",
    "# ===============================================\n",
    "\n",
    "from keras.models import Model\n",
    "from keras.models import Sequential\n",
    "from keras.layers import Input, Dense, Reshape, merge, Flatten, Concatenate, Activation, Multiply\n",
    "from keras.layers.embeddings import Embedding\n",
    "from keras.layers.merge import dot\n",
    "from keras.layers.merge import Dot\n",
    "from keras.preprocessing.sequence import skipgrams\n",
    "from keras.preprocessing import sequence\n",
    "from keras.preprocessing.text import Tokenizer\n",
    "from keras import optimizers\n",
    "from keras.callbacks import History \n",
    "from keras import regularizers"
   ]
  },
  {
   "cell_type": "code",
   "execution_count": 3,
   "metadata": {},
   "outputs": [],
   "source": [
    "# =========================================================\n",
    "# set directories\n",
    "# =========================================================\n",
    "\n",
    "import os\n",
    "EC2 = True  # If using EC2 (for data directory/paths)\n",
    "\n",
    "# Select path based off of local or remote\n",
    "if not EC2:\n",
    "    wd = \"/pool001/madhavk/gsl-uruguay/W-02-NLP/\"\n",
    "else:\n",
    "    wd = \"/home/ubuntu/machine_learning_aws/\"\n",
    "os.chdir(wd)\n",
    "\n",
    "if not EC2:\n",
    "    # raw data\n",
    "    raw_data_dir = \"nlp-data/in-grocery/instacart_2017_05_01/\"\n",
    "    # processed data\n",
    "    process_dir = \"nlp-data/in-grocery/prepared-data/\"  \n",
    "else:\n",
    "    # raw data\n",
    "    raw_data_dir = \"data/in-grocery/instacart_2017_05_01\"\n",
    "    # processed data\n",
    "    process_dir = \"data/in-grocery/prepared-data/\""
   ]
  },
  {
   "cell_type": "code",
   "execution_count": 4,
   "metadata": {},
   "outputs": [
    {
     "data": {
      "text/plain": [
       "['orders-split-v1.csv',\n",
       " 'all-orders-wide-v1.csv',\n",
       " 'all-orders-long-v1.csv',\n",
       " 'products-merged-v1.csv']"
      ]
     },
     "execution_count": 4,
     "metadata": {},
     "output_type": "execute_result"
    }
   ],
   "source": [
    "#===============================================\n",
    "# processed files\n",
    "#===============================================\n",
    "os.listdir(process_dir)"
   ]
  },
  {
   "cell_type": "code",
   "execution_count": 5,
   "metadata": {},
   "outputs": [
    {
     "data": {
      "text/plain": [
       "'Number of CPUs: 4'"
      ]
     },
     "execution_count": 5,
     "metadata": {},
     "output_type": "execute_result"
    }
   ],
   "source": [
    "#===============================================\n",
    "# global parameters\n",
    "#===============================================\n",
    "\n",
    "# show entire value of cell in pandas\n",
    "pd.set_option('display.max_colwidth', -1)\n",
    "pd.set_option('display.max_columns', 500)\n",
    "\n",
    "# number of cpus\n",
    "cpus = multiprocessing.cpu_count()\n",
    "f\"Number of CPUs: {cpus}\""
   ]
  },
  {
   "cell_type": "markdown",
   "metadata": {},
   "source": [
    "---"
   ]
  },
  {
   "cell_type": "markdown",
   "metadata": {},
   "source": [
    "# 1. Prepare data"
   ]
  },
  {
   "cell_type": "code",
   "execution_count": 6,
   "metadata": {},
   "outputs": [],
   "source": [
    "# start pool process for parallel procressing\n",
    "pool = multiprocessing.Pool(processes = cpus)"
   ]
  },
  {
   "cell_type": "code",
   "execution_count": 7,
   "metadata": {},
   "outputs": [
    {
     "name": "stdout",
     "output_type": "stream",
     "text": [
      "(3152555, 4)\n",
      "(3346083, 7)\n",
      "(3152555, 5)\n",
      "(49688, 6)\n",
      "train size: (3075412, 5)\n",
      "val size: (38701, 5)\n",
      "test size: (38442, 5)\n",
      "(1000000, 5)\n",
      "1000000\n",
      "38701\n",
      "38442\n"
     ]
    }
   ],
   "source": [
    "# =========================================================\n",
    "# order-level data\n",
    "# =========================================================\n",
    "\n",
    "orders_wide = pd.read_csv(process_dir + \"all-orders-wide-v1.csv\")\n",
    "print(orders_wide.shape)\n",
    "\n",
    "# =========================================================\n",
    "# orders meta-data\n",
    "# =========================================================\n",
    "\n",
    "orders_meta = pd.read_csv(process_dir + \"orders-split-v1.csv\")\n",
    "print(orders_meta.shape)\n",
    "\n",
    "# =========================================================\n",
    "# merge orders-wide and orders-meta\n",
    "# =========================================================\n",
    "\n",
    "orders_wide.drop(labels = \"eval\", axis = 1, inplace = True)\n",
    "\n",
    "# merge\n",
    "orders_wide = pd.merge(orders_wide, orders_meta[[\"order_id\", \"user_id\", \"eval\"]],\n",
    "                       on = \"order_id\", how = \"left\")\n",
    "print(orders_wide.shape)\n",
    "\n",
    "# clear some space\n",
    "del orders_meta\n",
    "\n",
    "\n",
    "# product info data\n",
    "products = pd.read_csv(process_dir + \"products-merged-v1.csv\")\n",
    "print(products.shape)\n",
    "products[\"product_id\"] = products[\"product_id\"].astype(str)\n",
    "\n",
    "#===============================================\n",
    "# split train-val-test\n",
    "#===============================================\n",
    "\n",
    "train = orders_wide.loc[orders_wide[\"eval\"].isin([\"prior\", \"train\"]), :]\n",
    "val = orders_wide.loc[orders_wide[\"eval\"] == \"val\", :]\n",
    "test = orders_wide.loc[orders_wide[\"eval\"] == \"test\", :]\n",
    "print(\"train size:\", train.shape)\n",
    "print(\"val size:\", val.shape)\n",
    "print(\"test size:\", test.shape)\n",
    "\n",
    "# clear more space\n",
    "del orders_wide\n",
    "\n",
    "#===============================================\n",
    "# randomly sample training data\n",
    "#===============================================\n",
    "\n",
    "sample_size = 1000000\n",
    "train = train.sample(n = sample_size)\n",
    "train = train.reset_index(drop = True)\n",
    "print(train.shape)\n",
    "\n",
    "# training sentences\n",
    "t0 = time.time()\n",
    "train_orders = pool.map(word_tokenize, train[\"product_id\"])\n",
    "t1 = time.time()\n",
    "print(len(train_orders))\n",
    "\n",
    "# validation sentences\n",
    "t0 = time.time()\n",
    "val_orders = pool.map(word_tokenize, val[\"product_id\"])\n",
    "t1 = time.time()\n",
    "print(len(val_orders))\n",
    "\n",
    "# test sentences\n",
    "t0 = time.time()\n",
    "test_orders = pool.map(word_tokenize, test[\"product_id\"])\n",
    "t1 = time.time()\n",
    "print(len(test_orders))"
   ]
  },
  {
   "cell_type": "markdown",
   "metadata": {},
   "source": [
    "## Current state of data"
   ]
  },
  {
   "cell_type": "code",
   "execution_count": 8,
   "metadata": {},
   "outputs": [
    {
     "data": {
      "text/html": [
       "<div>\n",
       "<table border=\"1\" class=\"dataframe\">\n",
       "  <thead>\n",
       "    <tr style=\"text-align: right;\">\n",
       "      <th></th>\n",
       "      <th>order_id</th>\n",
       "      <th>product_id</th>\n",
       "      <th>num_products</th>\n",
       "      <th>user_id</th>\n",
       "      <th>eval</th>\n",
       "    </tr>\n",
       "  </thead>\n",
       "  <tbody>\n",
       "    <tr>\n",
       "      <th>0</th>\n",
       "      <td>802176</td>\n",
       "      <td>42585 14084 29045 35842 37355 35951 25659 42399 46971</td>\n",
       "      <td>9</td>\n",
       "      <td>52667</td>\n",
       "      <td>prior</td>\n",
       "    </tr>\n",
       "    <tr>\n",
       "      <th>1</th>\n",
       "      <td>2161465</td>\n",
       "      <td>13176 14218 27521 15143 30442 39558 14992 21616 49683 40604 32537 46049 24830 44883 42450</td>\n",
       "      <td>15</td>\n",
       "      <td>34121</td>\n",
       "      <td>prior</td>\n",
       "    </tr>\n",
       "    <tr>\n",
       "      <th>2</th>\n",
       "      <td>324785</td>\n",
       "      <td>895 1511 26165</td>\n",
       "      <td>3</td>\n",
       "      <td>163937</td>\n",
       "      <td>prior</td>\n",
       "    </tr>\n",
       "    <tr>\n",
       "      <th>3</th>\n",
       "      <td>2490093</td>\n",
       "      <td>45097 19019 27344 22204 29221 3464 35163 15399 34276 14678 9178 41061 436</td>\n",
       "      <td>13</td>\n",
       "      <td>11053</td>\n",
       "      <td>prior</td>\n",
       "    </tr>\n",
       "    <tr>\n",
       "      <th>4</th>\n",
       "      <td>3382858</td>\n",
       "      <td>4781 45437 3583 19057 38159 13292</td>\n",
       "      <td>6</td>\n",
       "      <td>189853</td>\n",
       "      <td>prior</td>\n",
       "    </tr>\n",
       "  </tbody>\n",
       "</table>\n",
       "</div>"
      ],
      "text/plain": [
       "   order_id  \\\n",
       "0  802176     \n",
       "1  2161465    \n",
       "2  324785     \n",
       "3  2490093    \n",
       "4  3382858    \n",
       "\n",
       "                                                                                  product_id  \\\n",
       "0  42585 14084 29045 35842 37355 35951 25659 42399 46971                                       \n",
       "1  13176 14218 27521 15143 30442 39558 14992 21616 49683 40604 32537 46049 24830 44883 42450   \n",
       "2  895 1511 26165                                                                              \n",
       "3  45097 19019 27344 22204 29221 3464 35163 15399 34276 14678 9178 41061 436                   \n",
       "4  4781 45437 3583 19057 38159 13292                                                           \n",
       "\n",
       "   num_products  user_id   eval  \n",
       "0  9             52667    prior  \n",
       "1  15            34121    prior  \n",
       "2  3             163937   prior  \n",
       "3  13            11053    prior  \n",
       "4  6             189853   prior  "
      ]
     },
     "metadata": {},
     "output_type": "display_data"
    }
   ],
   "source": [
    "display(train.head())"
   ]
  },
  {
   "cell_type": "code",
   "execution_count": 9,
   "metadata": {},
   "outputs": [
    {
     "data": {
      "text/plain": [
       "0    42585 14084 29045 35842 37355 35951 25659 42399 46971                                    \n",
       "1    13176 14218 27521 15143 30442 39558 14992 21616 49683 40604 32537 46049 24830 44883 42450\n",
       "2    895 1511 26165                                                                           \n",
       "Name: product_id, dtype: object"
      ]
     },
     "execution_count": 9,
     "metadata": {},
     "output_type": "execute_result"
    }
   ],
   "source": [
    "train[\"product_id\"][0:3]"
   ]
  },
  {
   "cell_type": "code",
   "execution_count": 10,
   "metadata": {},
   "outputs": [
    {
     "data": {
      "text/plain": [
       "[['42585',\n",
       "  '14084',\n",
       "  '29045',\n",
       "  '35842',\n",
       "  '37355',\n",
       "  '35951',\n",
       "  '25659',\n",
       "  '42399',\n",
       "  '46971'],\n",
       " ['13176',\n",
       "  '14218',\n",
       "  '27521',\n",
       "  '15143',\n",
       "  '30442',\n",
       "  '39558',\n",
       "  '14992',\n",
       "  '21616',\n",
       "  '49683',\n",
       "  '40604',\n",
       "  '32537',\n",
       "  '46049',\n",
       "  '24830',\n",
       "  '44883',\n",
       "  '42450'],\n",
       " ['895', '1511', '26165']]"
      ]
     },
     "execution_count": 10,
     "metadata": {},
     "output_type": "execute_result"
    }
   ],
   "source": [
    "train_orders[0:3]"
   ]
  },
  {
   "cell_type": "markdown",
   "metadata": {},
   "source": [
    "### In-class exercise"
   ]
  },
  {
   "cell_type": "code",
   "execution_count": 11,
   "metadata": {},
   "outputs": [],
   "source": [
    "# Print the first 3 rows of val"
   ]
  },
  {
   "cell_type": "code",
   "execution_count": 12,
   "metadata": {},
   "outputs": [],
   "source": [
    "# Print the first 3 elements of list val_orders"
   ]
  },
  {
   "cell_type": "code",
   "execution_count": 13,
   "metadata": {},
   "outputs": [
    {
     "data": {
      "text/plain": [
       "[['24852',\n",
       "  '47626',\n",
       "  '35522',\n",
       "  '21903',\n",
       "  '25043',\n",
       "  '8424',\n",
       "  '28204',\n",
       "  '45613',\n",
       "  '14267',\n",
       "  '25146',\n",
       "  '42768',\n",
       "  '49667',\n",
       "  '44765',\n",
       "  '38273',\n",
       "  '31343',\n",
       "  '38012',\n",
       "  '35510',\n",
       "  '46993'],\n",
       " ['9558', '23296', '33548', '23106', '44156', '46817'],\n",
       " ['34126',\n",
       "  '30305',\n",
       "  '11895',\n",
       "  '46069',\n",
       "  '38419',\n",
       "  '16325',\n",
       "  '5912',\n",
       "  '4086',\n",
       "  '17794',\n",
       "  '8903',\n",
       "  '13070']]"
      ]
     },
     "execution_count": 13,
     "metadata": {},
     "output_type": "execute_result"
    }
   ],
   "source": [
    "val_orders[0:3]"
   ]
  },
  {
   "cell_type": "markdown",
   "metadata": {},
   "source": [
    "----"
   ]
  },
  {
   "cell_type": "markdown",
   "metadata": {},
   "source": [
    "# 2. Writing our own Word2Vec in Keras"
   ]
  },
  {
   "cell_type": "markdown",
   "metadata": {},
   "source": [
    "- We are now going to train product embeddings in Keras + Tensorflow\n",
    "- In order to this, we need to transform the data in a format that Keras/Tensorflow will accept"
   ]
  },
  {
   "cell_type": "markdown",
   "metadata": {},
   "source": [
    "## Tasks:\n",
    "### 1. Count frequency of all words in dataset\n",
    "     1.1. Used to sample words based on frequency\n",
    "### 2. Create word-to-index dictionary\n",
    "    2.1. The index for each word serves as a lookup value in the embedding matrix\n",
    "    2.2. The dictionary is created in order of frequency\n",
    "### 3. Convert entire dataset from a sequence of words to a sequences of indices"
   ]
  },
  {
   "cell_type": "markdown",
   "metadata": {},
   "source": [
    "---"
   ]
  },
  {
   "cell_type": "markdown",
   "metadata": {},
   "source": [
    "## 2.1. Count frequency of each word in vocabulary"
   ]
  },
  {
   "cell_type": "code",
   "execution_count": 14,
   "metadata": {},
   "outputs": [],
   "source": [
    "def WordFrequency(train_data, max_words = 10000):\n",
    "    '''\n",
    "    Assumes train data is a list of lists\n",
    "    '''\n",
    "    train_flat = [item for sublist in train_data for item in sublist] \n",
    "    count = [['UNK', -1]]\n",
    "    count.extend(collections.Counter(train_flat).most_common(max_words))\n",
    "    return count"
   ]
  },
  {
   "cell_type": "code",
   "execution_count": 15,
   "metadata": {
    "scrolled": true
   },
   "outputs": [
    {
     "data": {
      "text/plain": [
       "10001"
      ]
     },
     "execution_count": 15,
     "metadata": {},
     "output_type": "execute_result"
    }
   ],
   "source": [
    "# flatten train-orders to create one giant list\n",
    "word_freq = WordFrequency(train_data = train_orders)\n",
    "len(word_freq)"
   ]
  },
  {
   "cell_type": "code",
   "execution_count": 16,
   "metadata": {},
   "outputs": [
    {
     "data": {
      "text/plain": [
       "[['UNK', -1],\n",
       " ('24852', 155038),\n",
       " ('13176', 124042),\n",
       " ('21137', 86734),\n",
       " ('21903', 79458)]"
      ]
     },
     "execution_count": 16,
     "metadata": {},
     "output_type": "execute_result"
    }
   ],
   "source": [
    "# inspect\n",
    "word_freq[0:5]"
   ]
  },
  {
   "cell_type": "markdown",
   "metadata": {},
   "source": [
    "----"
   ]
  },
  {
   "cell_type": "markdown",
   "metadata": {},
   "source": [
    "## 2.2. Create Word-to-Index and Index-to-Word dictionaries\n",
    "### 2.2.1. These are used to create look-up embedding matrices\n",
    "### 2.2.2. They are ordered as per frequency of the corresponding word in the vocabulary"
   ]
  },
  {
   "cell_type": "code",
   "execution_count": 17,
   "metadata": {},
   "outputs": [],
   "source": [
    "# create word-index dictionary\n",
    "def Word2Index(word_count):\n",
    "    dictionary = dict()\n",
    "    for word, _ in word_count:\n",
    "        dictionary[word] = len(dictionary)\n",
    "    # index-word reveresed dictionary\n",
    "    reversed_dictionary = dict(zip(dictionary.values(), dictionary.keys()))\n",
    "    return dictionary, reversed_dictionary"
   ]
  },
  {
   "cell_type": "code",
   "execution_count": 18,
   "metadata": {},
   "outputs": [],
   "source": [
    "word_ix, ix_word = Word2Index(word_count = word_freq)"
   ]
  },
  {
   "cell_type": "code",
   "execution_count": 19,
   "metadata": {},
   "outputs": [
    {
     "data": {
      "text/plain": [
       "{'UNK': 0,\n",
       " '24852': 1,\n",
       " '13176': 2,\n",
       " '21137': 3,\n",
       " '21903': 4,\n",
       " '47209': 5,\n",
       " '47766': 6,\n",
       " '47626': 7,\n",
       " '16797': 8,\n",
       " '26209': 9,\n",
       " '27845': 10,\n",
       " '27966': 11,\n",
       " '22935': 12,\n",
       " '24964': 13,\n",
       " '45007': 14,\n",
       " '39275': 15,\n",
       " '49683': 16,\n",
       " '28204': 17,\n",
       " '5876': 18,\n",
       " '8277': 19,\n",
       " '40706': 20,\n",
       " '4920': 21,\n",
       " '30391': 22,\n",
       " '45066': 23,\n",
       " '42265': 24,\n",
       " '49235': 25,\n",
       " '44632': 26,\n",
       " '19057': 27,\n",
       " '4605': 28,\n",
       " '21616': 29,\n",
       " '37646': 30,\n",
       " '17794': 31,\n",
       " '30489': 32,\n",
       " '27104': 33,\n",
       " '31717': 34,\n",
       " '27086': 35,\n",
       " '8518': 36,\n",
       " '44359': 37,\n",
       " '46979': 38,\n",
       " '28985': 39,\n",
       " '41950': 40,\n",
       " '26604': 41,\n",
       " '5077': 42,\n",
       " '34126': 43,\n",
       " '22035': 44,\n",
       " '39877': 45,\n",
       " '35951': 46,\n",
       " '10749': 47,\n",
       " '43352': 48,\n",
       " '24184': 49,\n",
       " '21938': 50,\n",
       " '9076': 51,\n",
       " '43961': 52,\n",
       " '34969': 53,\n",
       " '19660': 54,\n",
       " '48679': 55,\n",
       " '46667': 56,\n",
       " '31506': 57,\n",
       " '25890': 58,\n",
       " '5450': 59,\n",
       " '39928': 60,\n",
       " '24838': 61,\n",
       " '12341': 62,\n",
       " '22825': 63,\n",
       " '5785': 64,\n",
       " '35221': 65,\n",
       " '33731': 66,\n",
       " '28842': 67,\n",
       " '27521': 68,\n",
       " '8174': 69,\n",
       " '20114': 70,\n",
       " '44142': 71,\n",
       " '8424': 72,\n",
       " '33198': 73,\n",
       " '27344': 74,\n",
       " '29487': 75,\n",
       " '11520': 76,\n",
       " '18465': 77,\n",
       " '28199': 78,\n",
       " '15290': 79,\n",
       " '46906': 80,\n",
       " '9839': 81,\n",
       " '27156': 82,\n",
       " '3957': 83,\n",
       " '43122': 84,\n",
       " '34358': 85,\n",
       " '23909': 86,\n",
       " '4799': 87,\n",
       " '9387': 88,\n",
       " '16759': 89,\n",
       " '42736': 90,\n",
       " '38689': 91,\n",
       " '41787': 92,\n",
       " '4210': 93,\n",
       " '41220': 94,\n",
       " '47144': 95,\n",
       " '7781': 96,\n",
       " '33000': 97,\n",
       " '196': 98,\n",
       " '21709': 99,\n",
       " '40604': 100,\n",
       " '20995': 101,\n",
       " '19678': 102,\n",
       " '30233': 103,\n",
       " '37687': 104,\n",
       " '34243': 105,\n",
       " '24489': 106,\n",
       " '42828': 107,\n",
       " '432': 108,\n",
       " '5479': 109,\n",
       " '6184': 110,\n",
       " '42768': 111,\n",
       " '33754': 112,\n",
       " '16185': 113,\n",
       " '19348': 114,\n",
       " '17948': 115,\n",
       " '26369': 116,\n",
       " '8193': 117,\n",
       " '42585': 118,\n",
       " '14992': 119,\n",
       " '14947': 120,\n",
       " '28849': 121,\n",
       " '1463': 122,\n",
       " '22963': 123,\n",
       " '8021': 124,\n",
       " '31343': 125,\n",
       " '21405': 126,\n",
       " '25659': 127,\n",
       " '43789': 128,\n",
       " '46676': 129,\n",
       " '36011': 130,\n",
       " '41844': 131,\n",
       " '38293': 132,\n",
       " '11777': 133,\n",
       " '5025': 134,\n",
       " '43295': 135,\n",
       " '42701': 136,\n",
       " '39475': 137,\n",
       " '32689': 138,\n",
       " '20842': 139,\n",
       " '32655': 140,\n",
       " '2295': 141,\n",
       " '13870': 142,\n",
       " '46802': 143,\n",
       " '25146': 144,\n",
       " '5212': 145,\n",
       " '18531': 146,\n",
       " '260': 147,\n",
       " '31553': 148,\n",
       " '10246': 149,\n",
       " '24830': 150,\n",
       " '39408': 151,\n",
       " '36695': 152,\n",
       " '38383': 153,\n",
       " '43768': 154,\n",
       " '11182': 155,\n",
       " '18362': 156,\n",
       " '1940': 157,\n",
       " '18523': 158,\n",
       " '6046': 159,\n",
       " '21288': 160,\n",
       " '29987': 161,\n",
       " '44683': 162,\n",
       " '38777': 163,\n",
       " '47734': 164,\n",
       " '890': 165,\n",
       " '43772': 166,\n",
       " '38456': 167,\n",
       " '46969': 168,\n",
       " '7948': 169,\n",
       " '26620': 170,\n",
       " '30450': 171,\n",
       " '47672': 172,\n",
       " '23734': 173,\n",
       " '38159': 174,\n",
       " '44910': 175,\n",
       " '44987': 176,\n",
       " '4957': 177,\n",
       " '30776': 178,\n",
       " '28289': 179,\n",
       " '35939': 180,\n",
       " '14678': 181,\n",
       " '44422': 182,\n",
       " '26165': 183,\n",
       " '16349': 184,\n",
       " '40310': 185,\n",
       " '16953': 186,\n",
       " '29447': 187,\n",
       " '33787': 188,\n",
       " '17600': 189,\n",
       " '2078': 190,\n",
       " '19048': 191,\n",
       " '23165': 192,\n",
       " '23375': 193,\n",
       " '32864': 194,\n",
       " '26940': 195,\n",
       " '39812': 196,\n",
       " '28465': 197,\n",
       " '41290': 198,\n",
       " '13984': 199,\n",
       " '37067': 200,\n",
       " '48364': 201,\n",
       " '35108': 202,\n",
       " '33120': 203,\n",
       " '31683': 204,\n",
       " '8859': 205,\n",
       " '26283': 206,\n",
       " '37158': 207,\n",
       " '45': 208,\n",
       " '35547': 209,\n",
       " '43713': 210,\n",
       " '2966': 211,\n",
       " '3952': 212,\n",
       " '24799': 213,\n",
       " '2086': 214,\n",
       " '18370': 215,\n",
       " '41665': 216,\n",
       " '40571': 217,\n",
       " '40396': 218,\n",
       " '10132': 219,\n",
       " '10957': 220,\n",
       " '42450': 221,\n",
       " '45535': 222,\n",
       " '38739': 223,\n",
       " '7021': 224,\n",
       " '18027': 225,\n",
       " '1158': 226,\n",
       " '43154': 227,\n",
       " '15937': 228,\n",
       " '13629': 229,\n",
       " '20119': 230,\n",
       " '25931': 231,\n",
       " '42342': 232,\n",
       " '21019': 233,\n",
       " '48745': 234,\n",
       " '45633': 235,\n",
       " '34448': 236,\n",
       " '45603': 237,\n",
       " '32478': 238,\n",
       " '30169': 239,\n",
       " '48205': 240,\n",
       " '39619': 241,\n",
       " '31040': 242,\n",
       " '34050': 243,\n",
       " '17461': 244,\n",
       " '38400': 245,\n",
       " '36865': 246,\n",
       " '5818': 247,\n",
       " '21267': 248,\n",
       " '13646': 249,\n",
       " '26790': 250,\n",
       " '40174': 251,\n",
       " '39984': 252,\n",
       " '14084': 253,\n",
       " '17872': 254,\n",
       " '21376': 255,\n",
       " '46654': 256,\n",
       " '43086': 257,\n",
       " '37766': 258,\n",
       " '6187': 259,\n",
       " '12206': 260,\n",
       " '33768': 261,\n",
       " '23288': 262,\n",
       " '32734': 263,\n",
       " '39993': 264,\n",
       " '329': 265,\n",
       " '42356': 266,\n",
       " '5646': 267,\n",
       " '6348': 268,\n",
       " '10673': 269,\n",
       " '19508': 270,\n",
       " '28934': 271,\n",
       " '25340': 272,\n",
       " '6104': 273,\n",
       " '18441': 274,\n",
       " '47977': 275,\n",
       " '48775': 276,\n",
       " '40709': 277,\n",
       " '36070': 278,\n",
       " '42244': 279,\n",
       " '10017': 280,\n",
       " '19677': 281,\n",
       " '27695': 282,\n",
       " '6873': 283,\n",
       " '39180': 284,\n",
       " '651': 285,\n",
       " '13829': 286,\n",
       " '28156': 287,\n",
       " '49520': 288,\n",
       " '17795': 289,\n",
       " '27336': 290,\n",
       " '11782': 291,\n",
       " '42445': 292,\n",
       " '24561': 293,\n",
       " '13535': 294,\n",
       " '30720': 295,\n",
       " '16083': 296,\n",
       " '49383': 297,\n",
       " '40199': 298,\n",
       " '13249': 299,\n",
       " '49075': 300,\n",
       " '40545': 301,\n",
       " '24024': 302,\n",
       " '31915': 303,\n",
       " '8571': 304,\n",
       " '25588': 305,\n",
       " '35921': 306,\n",
       " '8670': 307,\n",
       " '3599': 308,\n",
       " '44449': 309,\n",
       " '11422': 310,\n",
       " '35042': 311,\n",
       " '17706': 312,\n",
       " '36550': 313,\n",
       " '20082': 314,\n",
       " '1511': 315,\n",
       " '7963': 316,\n",
       " '35561': 317,\n",
       " '21295': 318,\n",
       " '17122': 319,\n",
       " '30827': 320,\n",
       " '19019': 321,\n",
       " '33401': 322,\n",
       " '23537': 323,\n",
       " '5194': 324,\n",
       " '42625': 325,\n",
       " '14233': 326,\n",
       " '18288': 327,\n",
       " '16965': 328,\n",
       " '8048': 329,\n",
       " '38164': 330,\n",
       " '13380': 331,\n",
       " '25466': 332,\n",
       " '4562': 333,\n",
       " '2825': 334,\n",
       " '21195': 335,\n",
       " '9339': 336,\n",
       " '22395': 337,\n",
       " '7751': 338,\n",
       " '13740': 339,\n",
       " '40723': 340,\n",
       " '15872': 341,\n",
       " '19706': 342,\n",
       " '3376': 343,\n",
       " '35140': 344,\n",
       " '15902': 345,\n",
       " '28993': 346,\n",
       " '40332': 347,\n",
       " '7175': 348,\n",
       " '2855': 349,\n",
       " '46720': 350,\n",
       " '4472': 351,\n",
       " '33129': 352,\n",
       " '13166': 353,\n",
       " '19691': 354,\n",
       " '21174': 355,\n",
       " '45200': 356,\n",
       " '40516': 357,\n",
       " '12916': 358,\n",
       " '39561': 359,\n",
       " '5782': 360,\n",
       " '44765': 361,\n",
       " '12456': 362,\n",
       " '10070': 363,\n",
       " '29662': 364,\n",
       " '13198': 365,\n",
       " '3464': 366,\n",
       " '5134': 367,\n",
       " '38928': 368,\n",
       " '13575': 369,\n",
       " '43662': 370,\n",
       " '42719': 371,\n",
       " '36735': 372,\n",
       " '7559': 373,\n",
       " '44570': 374,\n",
       " '10644': 375,\n",
       " '4421': 376,\n",
       " '46584': 377,\n",
       " '20955': 378,\n",
       " '22124': 379,\n",
       " '7503': 380,\n",
       " '11408': 381,\n",
       " '18918': 382,\n",
       " '37029': 383,\n",
       " '35898': 384,\n",
       " '44560': 385,\n",
       " '34262': 386,\n",
       " '3896': 387,\n",
       " '45123': 388,\n",
       " '1025': 389,\n",
       " '25138': 390,\n",
       " '18234': 391,\n",
       " '32691': 392,\n",
       " '9092': 393,\n",
       " '23029': 394,\n",
       " '18811': 395,\n",
       " '28476': 396,\n",
       " '37710': 397,\n",
       " '26384': 398,\n",
       " '47141': 399,\n",
       " '47759': 400,\n",
       " '17949': 401,\n",
       " '47042': 402,\n",
       " '15613': 403,\n",
       " '39947': 404,\n",
       " '44628': 405,\n",
       " '21292': 406,\n",
       " '11140': 407,\n",
       " '38273': 408,\n",
       " '35628': 409,\n",
       " '46616': 410,\n",
       " '46820': 411,\n",
       " '1999': 412,\n",
       " '35503': 413,\n",
       " '37220': 414,\n",
       " '28745': 415,\n",
       " '25824': 416,\n",
       " '5258': 417,\n",
       " '5456': 418,\n",
       " '21333': 419,\n",
       " '14197': 420,\n",
       " '32433': 421,\n",
       " '41065': 422,\n",
       " '21573': 423,\n",
       " '48628': 424,\n",
       " '24841': 425,\n",
       " '16696': 426,\n",
       " '27548': 427,\n",
       " '27730': 428,\n",
       " '24954': 429,\n",
       " '42110': 430,\n",
       " '7969': 431,\n",
       " '1194': 432,\n",
       " '35535': 433,\n",
       " '14462': 434,\n",
       " '15424': 435,\n",
       " '39190': 436,\n",
       " '43504': 437,\n",
       " '11068': 438,\n",
       " '14161': 439,\n",
       " '15261': 440,\n",
       " '29307': 441,\n",
       " '28601': 442,\n",
       " '31066': 443,\n",
       " '26497': 444,\n",
       " '21386': 445,\n",
       " '9825': 446,\n",
       " '27323': 447,\n",
       " '8309': 448,\n",
       " '2228': 449,\n",
       " '49175': 450,\n",
       " '41588': 451,\n",
       " '27744': 452,\n",
       " '41658': 453,\n",
       " '21872': 454,\n",
       " '9020': 455,\n",
       " '22474': 456,\n",
       " '5373': 457,\n",
       " '5322': 458,\n",
       " '2452': 459,\n",
       " '27796': 460,\n",
       " '27325': 461,\n",
       " '18479': 462,\n",
       " '26800': 463,\n",
       " '13733': 464,\n",
       " '20734': 465,\n",
       " '38768': 466,\n",
       " '11005': 467,\n",
       " '19173': 468,\n",
       " '12980': 469,\n",
       " '1244': 470,\n",
       " '49191': 471,\n",
       " '13517': 472,\n",
       " '36724': 473,\n",
       " '22959': 474,\n",
       " '20738': 475,\n",
       " '2314': 476,\n",
       " '22849': 477,\n",
       " '16521': 478,\n",
       " '20345': 479,\n",
       " '32177': 480,\n",
       " '17316': 481,\n",
       " '5769': 482,\n",
       " '4656': 483,\n",
       " '11712': 484,\n",
       " '3298': 485,\n",
       " '47630': 486,\n",
       " '4086': 487,\n",
       " '20574': 488,\n",
       " '21927': 489,\n",
       " '35914': 490,\n",
       " '44799': 491,\n",
       " '37524': 492,\n",
       " '12845': 493,\n",
       " '40198': 494,\n",
       " '5161': 495,\n",
       " '49131': 496,\n",
       " '18926': 497,\n",
       " '15649': 498,\n",
       " '25513': 499,\n",
       " '21543': 500,\n",
       " '34584': 501,\n",
       " '6948': 502,\n",
       " '26348': 503,\n",
       " '18963': 504,\n",
       " '35887': 505,\n",
       " '33055': 506,\n",
       " '17758': 507,\n",
       " '48697': 508,\n",
       " '39108': 509,\n",
       " '5612': 510,\n",
       " '31720': 511,\n",
       " '23543': 512,\n",
       " '6740': 513,\n",
       " '30406': 514,\n",
       " '11512': 515,\n",
       " '40377': 516,\n",
       " '30639': 517,\n",
       " '45104': 518,\n",
       " '7500': 519,\n",
       " '44661': 520,\n",
       " '36082': 521,\n",
       " '32303': 522,\n",
       " '44008': 523,\n",
       " '24221': 524,\n",
       " '10305': 525,\n",
       " '9755': 526,\n",
       " '40063': 527,\n",
       " '36316': 528,\n",
       " '31651': 529,\n",
       " '27690': 530,\n",
       " '13838': 531,\n",
       " '28553': 532,\n",
       " '46069': 533,\n",
       " '18656': 534,\n",
       " '12872': 535,\n",
       " '12409': 536,\n",
       " '43129': 537,\n",
       " '23516': 538,\n",
       " '28427': 539,\n",
       " '2450': 540,\n",
       " '12576': 541,\n",
       " '6631': 542,\n",
       " '39581': 543,\n",
       " '46842': 544,\n",
       " '34668': 545,\n",
       " '1529': 546,\n",
       " '35163': 547,\n",
       " '11759': 548,\n",
       " '30696': 549,\n",
       " '31215': 550,\n",
       " '30353': 551,\n",
       " '41149': 552,\n",
       " '25718': 553,\n",
       " '2091': 554,\n",
       " '36929': 555,\n",
       " '45504': 556,\n",
       " '47912': 557,\n",
       " '39558': 558,\n",
       " '45948': 559,\n",
       " '11440': 560,\n",
       " '26317': 561,\n",
       " '31766': 562,\n",
       " '32747': 563,\n",
       " '43875': 564,\n",
       " '5550': 565,\n",
       " '13263': 566,\n",
       " '15392': 567,\n",
       " '25640': 568,\n",
       " '48559': 569,\n",
       " '14218': 570,\n",
       " '7628': 571,\n",
       " '29926': 572,\n",
       " '49533': 573,\n",
       " '32403': 574,\n",
       " '25753': 575,\n",
       " '17652': 576,\n",
       " '48395': 577,\n",
       " '14852': 578,\n",
       " '29941': 579,\n",
       " '10831': 580,\n",
       " '22142': 581,\n",
       " '41400': 582,\n",
       " '24009': 583,\n",
       " '38996': 584,\n",
       " '23236': 585,\n",
       " '43394': 586,\n",
       " '14633': 587,\n",
       " '5652': 588,\n",
       " '17284': 589,\n",
       " '34217': 590,\n",
       " '46886': 591,\n",
       " '38772': 592,\n",
       " '32429': 593,\n",
       " '14651': 594,\n",
       " '7156': 595,\n",
       " '11576': 596,\n",
       " '28928': 597,\n",
       " '14129': 598,\n",
       " '2846': 599,\n",
       " '4461': 600,\n",
       " '9515': 601,\n",
       " '12099': 602,\n",
       " '10912': 603,\n",
       " '35004': 604,\n",
       " '781': 605,\n",
       " '29675': 606,\n",
       " '32465': 607,\n",
       " '14715': 608,\n",
       " '31981': 609,\n",
       " '12276': 610,\n",
       " '6489': 611,\n",
       " '29127': 612,\n",
       " '4367': 613,\n",
       " '46522': 614,\n",
       " '40268': 615,\n",
       " '5240': 616,\n",
       " '34466': 617,\n",
       " '24810': 618,\n",
       " '4793': 619,\n",
       " '18594': 620,\n",
       " '16254': 621,\n",
       " '7485': 622,\n",
       " '47788': 623,\n",
       " '3142': 624,\n",
       " '47792': 625,\n",
       " '42557': 626,\n",
       " '8138': 627,\n",
       " '5068': 628,\n",
       " '38200': 629,\n",
       " '9808': 630,\n",
       " '17224': 631,\n",
       " '10385': 632,\n",
       " '3583': 633,\n",
       " '12745': 634,\n",
       " '48104': 635,\n",
       " '31433': 636,\n",
       " '33043': 637,\n",
       " '311': 638,\n",
       " '44234': 639,\n",
       " '16616': 640,\n",
       " '34134': 641,\n",
       " '44479': 642,\n",
       " '37119': 643,\n",
       " '36772': 644,\n",
       " '46149': 645,\n",
       " '20940': 646,\n",
       " '34530': 647,\n",
       " '13292': 648,\n",
       " '37065': 649,\n",
       " '2120': 650,\n",
       " '14870': 651,\n",
       " '16145': 652,\n",
       " '30305': 653,\n",
       " '39040': 654,\n",
       " '4942': 655,\n",
       " '17429': 656,\n",
       " '2326': 657,\n",
       " '22025': 658,\n",
       " '32566': 659,\n",
       " '42460': 660,\n",
       " '33548': 661,\n",
       " '23405': 662,\n",
       " '44156': 663,\n",
       " '19816': 664,\n",
       " '16262': 665,\n",
       " '1408': 666,\n",
       " '45646': 667,\n",
       " '8555': 668,\n",
       " '27243': 669,\n",
       " '19006': 670,\n",
       " '16617': 671,\n",
       " '42495': 672,\n",
       " '365': 673,\n",
       " '13083': 674,\n",
       " '45763': 675,\n",
       " '24759': 676,\n",
       " '1700': 677,\n",
       " '10504': 678,\n",
       " '10603': 679,\n",
       " '21009': 680,\n",
       " '12384': 681,\n",
       " '20580': 682,\n",
       " '28278': 683,\n",
       " '14168': 684,\n",
       " '26128': 685,\n",
       " '7131': 686,\n",
       " '14901': 687,\n",
       " '38890': 688,\n",
       " '8955': 689,\n",
       " '31964': 690,\n",
       " '12614': 691,\n",
       " '1090': 692,\n",
       " '3990': 693,\n",
       " '31869': 694,\n",
       " '38650': 695,\n",
       " '23579': 696,\n",
       " '39922': 697,\n",
       " '25005': 698,\n",
       " '10621': 699,\n",
       " '23622': 700,\n",
       " '18880': 701,\n",
       " '6532': 702,\n",
       " '40910': 703,\n",
       " '7644': 704,\n",
       " '30949': 705,\n",
       " '2962': 706,\n",
       " '46692': 707,\n",
       " '48857': 708,\n",
       " '28373': 709,\n",
       " '29370': 710,\n",
       " '9337': 711,\n",
       " '31759': 712,\n",
       " '5460': 713,\n",
       " '16589': 714,\n",
       " '46226': 715,\n",
       " '20754': 716,\n",
       " '17341': 717,\n",
       " '17616': 718,\n",
       " '8479': 719,\n",
       " '23765': 720,\n",
       " '17835': 721,\n",
       " '19156': 722,\n",
       " '29553': 723,\n",
       " '36389': 724,\n",
       " '38944': 725,\n",
       " '26131': 726,\n",
       " '45063': 727,\n",
       " '3481': 728,\n",
       " '22504': 729,\n",
       " '33572': 730,\n",
       " '31562': 731,\n",
       " '8087': 732,\n",
       " '6287': 733,\n",
       " '33716': 734,\n",
       " '24535': 735,\n",
       " '28123': 736,\n",
       " '45747': 737,\n",
       " '49610': 738,\n",
       " '17008': 739,\n",
       " '1215': 740,\n",
       " '38028': 741,\n",
       " '16823': 742,\n",
       " '30442': 743,\n",
       " '28535': 744,\n",
       " '8230': 745,\n",
       " '32455': 746,\n",
       " '12606': 747,\n",
       " '31805': 748,\n",
       " '36086': 749,\n",
       " '10814': 750,\n",
       " '41544': 751,\n",
       " '48171': 752,\n",
       " '35383': 753,\n",
       " '13431': 754,\n",
       " '18382': 755,\n",
       " '23233': 756,\n",
       " '4724': 757,\n",
       " '9124': 758,\n",
       " '11352': 759,\n",
       " '14467': 760,\n",
       " '2611': 761,\n",
       " '10032': 762,\n",
       " '9741': 763,\n",
       " '33352': 764,\n",
       " '7521': 765,\n",
       " '1559': 766,\n",
       " '21417': 767,\n",
       " '4138': 768,\n",
       " '37825': 769,\n",
       " '17807': 770,\n",
       " '47601': 771,\n",
       " '22888': 772,\n",
       " '24082': 773,\n",
       " '40593': 774,\n",
       " '23341': 775,\n",
       " '19003': 776,\n",
       " '21614': 777,\n",
       " '19894': 778,\n",
       " '13819': 779,\n",
       " '24382': 780,\n",
       " '20632': 781,\n",
       " '9366': 782,\n",
       " '39121': 783,\n",
       " '5449': 784,\n",
       " '42803': 785,\n",
       " '47029': 786,\n",
       " '18987': 787,\n",
       " '17878': 788,\n",
       " '39097': 789,\n",
       " '41540': 790,\n",
       " '3020': 791,\n",
       " '23801': 792,\n",
       " '19478': 793,\n",
       " '38656': 794,\n",
       " '45570': 795,\n",
       " '25837': 796,\n",
       " '11136': 797,\n",
       " '47866': 798,\n",
       " '581': 799,\n",
       " '15200': 800,\n",
       " '8490': 801,\n",
       " '41259': 802,\n",
       " '6615': 803,\n",
       " '11461': 804,\n",
       " '14778': 805,\n",
       " '21497': 806,\n",
       " '9421': 807,\n",
       " '18434': 808,\n",
       " '17630': 809,\n",
       " '47492': 810,\n",
       " '8467': 811,\n",
       " '43631': 812,\n",
       " '48595': 813,\n",
       " '23296': 814,\n",
       " '19488': 815,\n",
       " '27307': 816,\n",
       " '33636': 817,\n",
       " '27360': 818,\n",
       " '33290': 819,\n",
       " '46900': 820,\n",
       " '41319': 821,\n",
       " '31371': 822,\n",
       " '6347': 823,\n",
       " '34234': 824,\n",
       " '5337': 825,\n",
       " '46650': 826,\n",
       " '37011': 827,\n",
       " '14999': 828,\n",
       " '10761': 829,\n",
       " '38274': 830,\n",
       " '29594': 831,\n",
       " '24010': 832,\n",
       " '34551': 833,\n",
       " '44514': 834,\n",
       " '20520': 835,\n",
       " '17902': 836,\n",
       " '34': 837,\n",
       " '47357': 838,\n",
       " '44471': 839,\n",
       " '46049': 840,\n",
       " '49247': 841,\n",
       " '42240': 842,\n",
       " '28785': 843,\n",
       " '38544': 844,\n",
       " '9550': 845,\n",
       " '7806': 846,\n",
       " '46041': 847,\n",
       " '29898': 848,\n",
       " '45681': 849,\n",
       " '43643': 850,\n",
       " '22260': 851,\n",
       " '49111': 852,\n",
       " '7916': 853,\n",
       " '31338': 854,\n",
       " '29615': 855,\n",
       " '12427': 856,\n",
       " '45013': 857,\n",
       " '2716': 858,\n",
       " '5031': 859,\n",
       " '46061': 860,\n",
       " '4149': 861,\n",
       " '23645': 862,\n",
       " '40002': 863,\n",
       " '31663': 864,\n",
       " '9327': 865,\n",
       " '16290': 866,\n",
       " '24390': 867,\n",
       " '5618': 868,\n",
       " '248': 869,\n",
       " '13802': 870,\n",
       " '8736': 871,\n",
       " '20899': 872,\n",
       " '14332': 873,\n",
       " '3849': 874,\n",
       " '8239': 875,\n",
       " '14897': 876,\n",
       " '45106': 877,\n",
       " '13712': 878,\n",
       " '23044': 879,\n",
       " '19049': 880,\n",
       " '41276': 881,\n",
       " '5959': 882,\n",
       " '44292': 883,\n",
       " '4006': 884,\n",
       " '18019': 885,\n",
       " '35233': 886,\n",
       " '5991': 887,\n",
       " '47890': 888,\n",
       " '2180': 889,\n",
       " '40348': 890,\n",
       " '11941': 891,\n",
       " '18564': 892,\n",
       " '41593': 893,\n",
       " '48726': 894,\n",
       " '49478': 895,\n",
       " '47526': 896,\n",
       " '44310': 897,\n",
       " '4137': 898,\n",
       " '31927': 899,\n",
       " '26914': 900,\n",
       " '36127': 901,\n",
       " '25705': 902,\n",
       " '46175': 903,\n",
       " '38444': 904,\n",
       " '25133': 905,\n",
       " '10473': 906,\n",
       " '4962': 907,\n",
       " '48057': 908,\n",
       " '18599': 909,\n",
       " '45064': 910,\n",
       " '44375': 911,\n",
       " '30480': 912,\n",
       " '32650': 913,\n",
       " '26882': 914,\n",
       " '16283': 915,\n",
       " '9018': 916,\n",
       " '1695': 917,\n",
       " '20583': 918,\n",
       " '7054': 919,\n",
       " '33846': 920,\n",
       " '10369': 921,\n",
       " '28597': 922,\n",
       " '12312': 923,\n",
       " '47087': 924,\n",
       " '7952': 925,\n",
       " '13852': 926,\n",
       " '43867': 927,\n",
       " '26047': 928,\n",
       " '22151': 929,\n",
       " '49215': 930,\n",
       " '28851': 931,\n",
       " '47877': 932,\n",
       " '35168': 933,\n",
       " '17027': 934,\n",
       " '49605': 935,\n",
       " '25544': 936,\n",
       " '18352': 937,\n",
       " '23554': 938,\n",
       " '16249': 939,\n",
       " '1468': 940,\n",
       " '19068': 941,\n",
       " '33065': 942,\n",
       " '35336': 943,\n",
       " '3999': 944,\n",
       " '37464': 945,\n",
       " '24850': 946,\n",
       " '27683': 947,\n",
       " '41273': 948,\n",
       " '45866': 949,\n",
       " '46346': 950,\n",
       " '28986': 951,\n",
       " '41757': 952,\n",
       " '38312': 953,\n",
       " '25256': 954,\n",
       " '34024': 955,\n",
       " '13702': 956,\n",
       " '20919': 957,\n",
       " '13113': 958,\n",
       " '46990': 959,\n",
       " '12572': 960,\n",
       " '22802': 961,\n",
       " '21162': 962,\n",
       " '9623': 963,\n",
       " '25197': 964,\n",
       " '4945': 965,\n",
       " '27020': 966,\n",
       " '32740': 967,\n",
       " '4796': 968,\n",
       " '30561': 969,\n",
       " '6656': 970,\n",
       " '46088': 971,\n",
       " '31640': 972,\n",
       " '9598': 973,\n",
       " '36956': 974,\n",
       " '13966': 975,\n",
       " '44643': 976,\n",
       " '36036': 977,\n",
       " '5250': 978,\n",
       " '11123': 979,\n",
       " '40229': 980,\n",
       " '46206': 981,\n",
       " '26172': 982,\n",
       " '43967': 983,\n",
       " '26648': 984,\n",
       " '10106': 985,\n",
       " '20378': 986,\n",
       " '44548': 987,\n",
       " '22556': 988,\n",
       " '13885': 989,\n",
       " '48094': 990,\n",
       " '8153': 991,\n",
       " '18670': 992,\n",
       " '35199': 993,\n",
       " '26629': 994,\n",
       " '12797': 995,\n",
       " '43014': 996,\n",
       " '43409': 997,\n",
       " '45613': 998,\n",
       " '5491': 999,\n",
       " ...}"
      ]
     },
     "execution_count": 19,
     "metadata": {},
     "output_type": "execute_result"
    }
   ],
   "source": [
    "word_ix"
   ]
  },
  {
   "cell_type": "code",
   "execution_count": 20,
   "metadata": {},
   "outputs": [
    {
     "data": {
      "text/plain": [
       "{0: 'UNK',\n",
       " 1: '24852',\n",
       " 2: '13176',\n",
       " 3: '21137',\n",
       " 4: '21903',\n",
       " 5: '47209',\n",
       " 6: '47766',\n",
       " 7: '47626',\n",
       " 8: '16797',\n",
       " 9: '26209',\n",
       " 10: '27845',\n",
       " 11: '27966',\n",
       " 12: '22935',\n",
       " 13: '24964',\n",
       " 14: '45007',\n",
       " 15: '39275',\n",
       " 16: '49683',\n",
       " 17: '28204',\n",
       " 18: '5876',\n",
       " 19: '8277',\n",
       " 20: '40706',\n",
       " 21: '4920',\n",
       " 22: '30391',\n",
       " 23: '45066',\n",
       " 24: '42265',\n",
       " 25: '49235',\n",
       " 26: '44632',\n",
       " 27: '19057',\n",
       " 28: '4605',\n",
       " 29: '21616',\n",
       " 30: '37646',\n",
       " 31: '17794',\n",
       " 32: '30489',\n",
       " 33: '27104',\n",
       " 34: '31717',\n",
       " 35: '27086',\n",
       " 36: '8518',\n",
       " 37: '44359',\n",
       " 38: '46979',\n",
       " 39: '28985',\n",
       " 40: '41950',\n",
       " 41: '26604',\n",
       " 42: '5077',\n",
       " 43: '34126',\n",
       " 44: '22035',\n",
       " 45: '39877',\n",
       " 46: '35951',\n",
       " 47: '10749',\n",
       " 48: '43352',\n",
       " 49: '24184',\n",
       " 50: '21938',\n",
       " 51: '9076',\n",
       " 52: '43961',\n",
       " 53: '34969',\n",
       " 54: '19660',\n",
       " 55: '48679',\n",
       " 56: '46667',\n",
       " 57: '31506',\n",
       " 58: '25890',\n",
       " 59: '5450',\n",
       " 60: '39928',\n",
       " 61: '24838',\n",
       " 62: '12341',\n",
       " 63: '22825',\n",
       " 64: '5785',\n",
       " 65: '35221',\n",
       " 66: '33731',\n",
       " 67: '28842',\n",
       " 68: '27521',\n",
       " 69: '8174',\n",
       " 70: '20114',\n",
       " 71: '44142',\n",
       " 72: '8424',\n",
       " 73: '33198',\n",
       " 74: '27344',\n",
       " 75: '29487',\n",
       " 76: '11520',\n",
       " 77: '18465',\n",
       " 78: '28199',\n",
       " 79: '15290',\n",
       " 80: '46906',\n",
       " 81: '9839',\n",
       " 82: '27156',\n",
       " 83: '3957',\n",
       " 84: '43122',\n",
       " 85: '34358',\n",
       " 86: '23909',\n",
       " 87: '4799',\n",
       " 88: '9387',\n",
       " 89: '16759',\n",
       " 90: '42736',\n",
       " 91: '38689',\n",
       " 92: '41787',\n",
       " 93: '4210',\n",
       " 94: '41220',\n",
       " 95: '47144',\n",
       " 96: '7781',\n",
       " 97: '33000',\n",
       " 98: '196',\n",
       " 99: '21709',\n",
       " 100: '40604',\n",
       " 101: '20995',\n",
       " 102: '19678',\n",
       " 103: '30233',\n",
       " 104: '37687',\n",
       " 105: '34243',\n",
       " 106: '24489',\n",
       " 107: '42828',\n",
       " 108: '432',\n",
       " 109: '5479',\n",
       " 110: '6184',\n",
       " 111: '42768',\n",
       " 112: '33754',\n",
       " 113: '16185',\n",
       " 114: '19348',\n",
       " 115: '17948',\n",
       " 116: '26369',\n",
       " 117: '8193',\n",
       " 118: '42585',\n",
       " 119: '14992',\n",
       " 120: '14947',\n",
       " 121: '28849',\n",
       " 122: '1463',\n",
       " 123: '22963',\n",
       " 124: '8021',\n",
       " 125: '31343',\n",
       " 126: '21405',\n",
       " 127: '25659',\n",
       " 128: '43789',\n",
       " 129: '46676',\n",
       " 130: '36011',\n",
       " 131: '41844',\n",
       " 132: '38293',\n",
       " 133: '11777',\n",
       " 134: '5025',\n",
       " 135: '43295',\n",
       " 136: '42701',\n",
       " 137: '39475',\n",
       " 138: '32689',\n",
       " 139: '20842',\n",
       " 140: '32655',\n",
       " 141: '2295',\n",
       " 142: '13870',\n",
       " 143: '46802',\n",
       " 144: '25146',\n",
       " 145: '5212',\n",
       " 146: '18531',\n",
       " 147: '260',\n",
       " 148: '31553',\n",
       " 149: '10246',\n",
       " 150: '24830',\n",
       " 151: '39408',\n",
       " 152: '36695',\n",
       " 153: '38383',\n",
       " 154: '43768',\n",
       " 155: '11182',\n",
       " 156: '18362',\n",
       " 157: '1940',\n",
       " 158: '18523',\n",
       " 159: '6046',\n",
       " 160: '21288',\n",
       " 161: '29987',\n",
       " 162: '44683',\n",
       " 163: '38777',\n",
       " 164: '47734',\n",
       " 165: '890',\n",
       " 166: '43772',\n",
       " 167: '38456',\n",
       " 168: '46969',\n",
       " 169: '7948',\n",
       " 170: '26620',\n",
       " 171: '30450',\n",
       " 172: '47672',\n",
       " 173: '23734',\n",
       " 174: '38159',\n",
       " 175: '44910',\n",
       " 176: '44987',\n",
       " 177: '4957',\n",
       " 178: '30776',\n",
       " 179: '28289',\n",
       " 180: '35939',\n",
       " 181: '14678',\n",
       " 182: '44422',\n",
       " 183: '26165',\n",
       " 184: '16349',\n",
       " 185: '40310',\n",
       " 186: '16953',\n",
       " 187: '29447',\n",
       " 188: '33787',\n",
       " 189: '17600',\n",
       " 190: '2078',\n",
       " 191: '19048',\n",
       " 192: '23165',\n",
       " 193: '23375',\n",
       " 194: '32864',\n",
       " 195: '26940',\n",
       " 196: '39812',\n",
       " 197: '28465',\n",
       " 198: '41290',\n",
       " 199: '13984',\n",
       " 200: '37067',\n",
       " 201: '48364',\n",
       " 202: '35108',\n",
       " 203: '33120',\n",
       " 204: '31683',\n",
       " 205: '8859',\n",
       " 206: '26283',\n",
       " 207: '37158',\n",
       " 208: '45',\n",
       " 209: '35547',\n",
       " 210: '43713',\n",
       " 211: '2966',\n",
       " 212: '3952',\n",
       " 213: '24799',\n",
       " 214: '2086',\n",
       " 215: '18370',\n",
       " 216: '41665',\n",
       " 217: '40571',\n",
       " 218: '40396',\n",
       " 219: '10132',\n",
       " 220: '10957',\n",
       " 221: '42450',\n",
       " 222: '45535',\n",
       " 223: '38739',\n",
       " 224: '7021',\n",
       " 225: '18027',\n",
       " 226: '1158',\n",
       " 227: '43154',\n",
       " 228: '15937',\n",
       " 229: '13629',\n",
       " 230: '20119',\n",
       " 231: '25931',\n",
       " 232: '42342',\n",
       " 233: '21019',\n",
       " 234: '48745',\n",
       " 235: '45633',\n",
       " 236: '34448',\n",
       " 237: '45603',\n",
       " 238: '32478',\n",
       " 239: '30169',\n",
       " 240: '48205',\n",
       " 241: '39619',\n",
       " 242: '31040',\n",
       " 243: '34050',\n",
       " 244: '17461',\n",
       " 245: '38400',\n",
       " 246: '36865',\n",
       " 247: '5818',\n",
       " 248: '21267',\n",
       " 249: '13646',\n",
       " 250: '26790',\n",
       " 251: '40174',\n",
       " 252: '39984',\n",
       " 253: '14084',\n",
       " 254: '17872',\n",
       " 255: '21376',\n",
       " 256: '46654',\n",
       " 257: '43086',\n",
       " 258: '37766',\n",
       " 259: '6187',\n",
       " 260: '12206',\n",
       " 261: '33768',\n",
       " 262: '23288',\n",
       " 263: '32734',\n",
       " 264: '39993',\n",
       " 265: '329',\n",
       " 266: '42356',\n",
       " 267: '5646',\n",
       " 268: '6348',\n",
       " 269: '10673',\n",
       " 270: '19508',\n",
       " 271: '28934',\n",
       " 272: '25340',\n",
       " 273: '6104',\n",
       " 274: '18441',\n",
       " 275: '47977',\n",
       " 276: '48775',\n",
       " 277: '40709',\n",
       " 278: '36070',\n",
       " 279: '42244',\n",
       " 280: '10017',\n",
       " 281: '19677',\n",
       " 282: '27695',\n",
       " 283: '6873',\n",
       " 284: '39180',\n",
       " 285: '651',\n",
       " 286: '13829',\n",
       " 287: '28156',\n",
       " 288: '49520',\n",
       " 289: '17795',\n",
       " 290: '27336',\n",
       " 291: '11782',\n",
       " 292: '42445',\n",
       " 293: '24561',\n",
       " 294: '13535',\n",
       " 295: '30720',\n",
       " 296: '16083',\n",
       " 297: '49383',\n",
       " 298: '40199',\n",
       " 299: '13249',\n",
       " 300: '49075',\n",
       " 301: '40545',\n",
       " 302: '24024',\n",
       " 303: '31915',\n",
       " 304: '8571',\n",
       " 305: '25588',\n",
       " 306: '35921',\n",
       " 307: '8670',\n",
       " 308: '3599',\n",
       " 309: '44449',\n",
       " 310: '11422',\n",
       " 311: '35042',\n",
       " 312: '17706',\n",
       " 313: '36550',\n",
       " 314: '20082',\n",
       " 315: '1511',\n",
       " 316: '7963',\n",
       " 317: '35561',\n",
       " 318: '21295',\n",
       " 319: '17122',\n",
       " 320: '30827',\n",
       " 321: '19019',\n",
       " 322: '33401',\n",
       " 323: '23537',\n",
       " 324: '5194',\n",
       " 325: '42625',\n",
       " 326: '14233',\n",
       " 327: '18288',\n",
       " 328: '16965',\n",
       " 329: '8048',\n",
       " 330: '38164',\n",
       " 331: '13380',\n",
       " 332: '25466',\n",
       " 333: '4562',\n",
       " 334: '2825',\n",
       " 335: '21195',\n",
       " 336: '9339',\n",
       " 337: '22395',\n",
       " 338: '7751',\n",
       " 339: '13740',\n",
       " 340: '40723',\n",
       " 341: '15872',\n",
       " 342: '19706',\n",
       " 343: '3376',\n",
       " 344: '35140',\n",
       " 345: '15902',\n",
       " 346: '28993',\n",
       " 347: '40332',\n",
       " 348: '7175',\n",
       " 349: '2855',\n",
       " 350: '46720',\n",
       " 351: '4472',\n",
       " 352: '33129',\n",
       " 353: '13166',\n",
       " 354: '19691',\n",
       " 355: '21174',\n",
       " 356: '45200',\n",
       " 357: '40516',\n",
       " 358: '12916',\n",
       " 359: '39561',\n",
       " 360: '5782',\n",
       " 361: '44765',\n",
       " 362: '12456',\n",
       " 363: '10070',\n",
       " 364: '29662',\n",
       " 365: '13198',\n",
       " 366: '3464',\n",
       " 367: '5134',\n",
       " 368: '38928',\n",
       " 369: '13575',\n",
       " 370: '43662',\n",
       " 371: '42719',\n",
       " 372: '36735',\n",
       " 373: '7559',\n",
       " 374: '44570',\n",
       " 375: '10644',\n",
       " 376: '4421',\n",
       " 377: '46584',\n",
       " 378: '20955',\n",
       " 379: '22124',\n",
       " 380: '7503',\n",
       " 381: '11408',\n",
       " 382: '18918',\n",
       " 383: '37029',\n",
       " 384: '35898',\n",
       " 385: '44560',\n",
       " 386: '34262',\n",
       " 387: '3896',\n",
       " 388: '45123',\n",
       " 389: '1025',\n",
       " 390: '25138',\n",
       " 391: '18234',\n",
       " 392: '32691',\n",
       " 393: '9092',\n",
       " 394: '23029',\n",
       " 395: '18811',\n",
       " 396: '28476',\n",
       " 397: '37710',\n",
       " 398: '26384',\n",
       " 399: '47141',\n",
       " 400: '47759',\n",
       " 401: '17949',\n",
       " 402: '47042',\n",
       " 403: '15613',\n",
       " 404: '39947',\n",
       " 405: '44628',\n",
       " 406: '21292',\n",
       " 407: '11140',\n",
       " 408: '38273',\n",
       " 409: '35628',\n",
       " 410: '46616',\n",
       " 411: '46820',\n",
       " 412: '1999',\n",
       " 413: '35503',\n",
       " 414: '37220',\n",
       " 415: '28745',\n",
       " 416: '25824',\n",
       " 417: '5258',\n",
       " 418: '5456',\n",
       " 419: '21333',\n",
       " 420: '14197',\n",
       " 421: '32433',\n",
       " 422: '41065',\n",
       " 423: '21573',\n",
       " 424: '48628',\n",
       " 425: '24841',\n",
       " 426: '16696',\n",
       " 427: '27548',\n",
       " 428: '27730',\n",
       " 429: '24954',\n",
       " 430: '42110',\n",
       " 431: '7969',\n",
       " 432: '1194',\n",
       " 433: '35535',\n",
       " 434: '14462',\n",
       " 435: '15424',\n",
       " 436: '39190',\n",
       " 437: '43504',\n",
       " 438: '11068',\n",
       " 439: '14161',\n",
       " 440: '15261',\n",
       " 441: '29307',\n",
       " 442: '28601',\n",
       " 443: '31066',\n",
       " 444: '26497',\n",
       " 445: '21386',\n",
       " 446: '9825',\n",
       " 447: '27323',\n",
       " 448: '8309',\n",
       " 449: '2228',\n",
       " 450: '49175',\n",
       " 451: '41588',\n",
       " 452: '27744',\n",
       " 453: '41658',\n",
       " 454: '21872',\n",
       " 455: '9020',\n",
       " 456: '22474',\n",
       " 457: '5373',\n",
       " 458: '5322',\n",
       " 459: '2452',\n",
       " 460: '27796',\n",
       " 461: '27325',\n",
       " 462: '18479',\n",
       " 463: '26800',\n",
       " 464: '13733',\n",
       " 465: '20734',\n",
       " 466: '38768',\n",
       " 467: '11005',\n",
       " 468: '19173',\n",
       " 469: '12980',\n",
       " 470: '1244',\n",
       " 471: '49191',\n",
       " 472: '13517',\n",
       " 473: '36724',\n",
       " 474: '22959',\n",
       " 475: '20738',\n",
       " 476: '2314',\n",
       " 477: '22849',\n",
       " 478: '16521',\n",
       " 479: '20345',\n",
       " 480: '32177',\n",
       " 481: '17316',\n",
       " 482: '5769',\n",
       " 483: '4656',\n",
       " 484: '11712',\n",
       " 485: '3298',\n",
       " 486: '47630',\n",
       " 487: '4086',\n",
       " 488: '20574',\n",
       " 489: '21927',\n",
       " 490: '35914',\n",
       " 491: '44799',\n",
       " 492: '37524',\n",
       " 493: '12845',\n",
       " 494: '40198',\n",
       " 495: '5161',\n",
       " 496: '49131',\n",
       " 497: '18926',\n",
       " 498: '15649',\n",
       " 499: '25513',\n",
       " 500: '21543',\n",
       " 501: '34584',\n",
       " 502: '6948',\n",
       " 503: '26348',\n",
       " 504: '18963',\n",
       " 505: '35887',\n",
       " 506: '33055',\n",
       " 507: '17758',\n",
       " 508: '48697',\n",
       " 509: '39108',\n",
       " 510: '5612',\n",
       " 511: '31720',\n",
       " 512: '23543',\n",
       " 513: '6740',\n",
       " 514: '30406',\n",
       " 515: '11512',\n",
       " 516: '40377',\n",
       " 517: '30639',\n",
       " 518: '45104',\n",
       " 519: '7500',\n",
       " 520: '44661',\n",
       " 521: '36082',\n",
       " 522: '32303',\n",
       " 523: '44008',\n",
       " 524: '24221',\n",
       " 525: '10305',\n",
       " 526: '9755',\n",
       " 527: '40063',\n",
       " 528: '36316',\n",
       " 529: '31651',\n",
       " 530: '27690',\n",
       " 531: '13838',\n",
       " 532: '28553',\n",
       " 533: '46069',\n",
       " 534: '18656',\n",
       " 535: '12872',\n",
       " 536: '12409',\n",
       " 537: '43129',\n",
       " 538: '23516',\n",
       " 539: '28427',\n",
       " 540: '2450',\n",
       " 541: '12576',\n",
       " 542: '6631',\n",
       " 543: '39581',\n",
       " 544: '46842',\n",
       " 545: '34668',\n",
       " 546: '1529',\n",
       " 547: '35163',\n",
       " 548: '11759',\n",
       " 549: '30696',\n",
       " 550: '31215',\n",
       " 551: '30353',\n",
       " 552: '41149',\n",
       " 553: '25718',\n",
       " 554: '2091',\n",
       " 555: '36929',\n",
       " 556: '45504',\n",
       " 557: '47912',\n",
       " 558: '39558',\n",
       " 559: '45948',\n",
       " 560: '11440',\n",
       " 561: '26317',\n",
       " 562: '31766',\n",
       " 563: '32747',\n",
       " 564: '43875',\n",
       " 565: '5550',\n",
       " 566: '13263',\n",
       " 567: '15392',\n",
       " 568: '25640',\n",
       " 569: '48559',\n",
       " 570: '14218',\n",
       " 571: '7628',\n",
       " 572: '29926',\n",
       " 573: '49533',\n",
       " 574: '32403',\n",
       " 575: '25753',\n",
       " 576: '17652',\n",
       " 577: '48395',\n",
       " 578: '14852',\n",
       " 579: '29941',\n",
       " 580: '10831',\n",
       " 581: '22142',\n",
       " 582: '41400',\n",
       " 583: '24009',\n",
       " 584: '38996',\n",
       " 585: '23236',\n",
       " 586: '43394',\n",
       " 587: '14633',\n",
       " 588: '5652',\n",
       " 589: '17284',\n",
       " 590: '34217',\n",
       " 591: '46886',\n",
       " 592: '38772',\n",
       " 593: '32429',\n",
       " 594: '14651',\n",
       " 595: '7156',\n",
       " 596: '11576',\n",
       " 597: '28928',\n",
       " 598: '14129',\n",
       " 599: '2846',\n",
       " 600: '4461',\n",
       " 601: '9515',\n",
       " 602: '12099',\n",
       " 603: '10912',\n",
       " 604: '35004',\n",
       " 605: '781',\n",
       " 606: '29675',\n",
       " 607: '32465',\n",
       " 608: '14715',\n",
       " 609: '31981',\n",
       " 610: '12276',\n",
       " 611: '6489',\n",
       " 612: '29127',\n",
       " 613: '4367',\n",
       " 614: '46522',\n",
       " 615: '40268',\n",
       " 616: '5240',\n",
       " 617: '34466',\n",
       " 618: '24810',\n",
       " 619: '4793',\n",
       " 620: '18594',\n",
       " 621: '16254',\n",
       " 622: '7485',\n",
       " 623: '47788',\n",
       " 624: '3142',\n",
       " 625: '47792',\n",
       " 626: '42557',\n",
       " 627: '8138',\n",
       " 628: '5068',\n",
       " 629: '38200',\n",
       " 630: '9808',\n",
       " 631: '17224',\n",
       " 632: '10385',\n",
       " 633: '3583',\n",
       " 634: '12745',\n",
       " 635: '48104',\n",
       " 636: '31433',\n",
       " 637: '33043',\n",
       " 638: '311',\n",
       " 639: '44234',\n",
       " 640: '16616',\n",
       " 641: '34134',\n",
       " 642: '44479',\n",
       " 643: '37119',\n",
       " 644: '36772',\n",
       " 645: '46149',\n",
       " 646: '20940',\n",
       " 647: '34530',\n",
       " 648: '13292',\n",
       " 649: '37065',\n",
       " 650: '2120',\n",
       " 651: '14870',\n",
       " 652: '16145',\n",
       " 653: '30305',\n",
       " 654: '39040',\n",
       " 655: '4942',\n",
       " 656: '17429',\n",
       " 657: '2326',\n",
       " 658: '22025',\n",
       " 659: '32566',\n",
       " 660: '42460',\n",
       " 661: '33548',\n",
       " 662: '23405',\n",
       " 663: '44156',\n",
       " 664: '19816',\n",
       " 665: '16262',\n",
       " 666: '1408',\n",
       " 667: '45646',\n",
       " 668: '8555',\n",
       " 669: '27243',\n",
       " 670: '19006',\n",
       " 671: '16617',\n",
       " 672: '42495',\n",
       " 673: '365',\n",
       " 674: '13083',\n",
       " 675: '45763',\n",
       " 676: '24759',\n",
       " 677: '1700',\n",
       " 678: '10504',\n",
       " 679: '10603',\n",
       " 680: '21009',\n",
       " 681: '12384',\n",
       " 682: '20580',\n",
       " 683: '28278',\n",
       " 684: '14168',\n",
       " 685: '26128',\n",
       " 686: '7131',\n",
       " 687: '14901',\n",
       " 688: '38890',\n",
       " 689: '8955',\n",
       " 690: '31964',\n",
       " 691: '12614',\n",
       " 692: '1090',\n",
       " 693: '3990',\n",
       " 694: '31869',\n",
       " 695: '38650',\n",
       " 696: '23579',\n",
       " 697: '39922',\n",
       " 698: '25005',\n",
       " 699: '10621',\n",
       " 700: '23622',\n",
       " 701: '18880',\n",
       " 702: '6532',\n",
       " 703: '40910',\n",
       " 704: '7644',\n",
       " 705: '30949',\n",
       " 706: '2962',\n",
       " 707: '46692',\n",
       " 708: '48857',\n",
       " 709: '28373',\n",
       " 710: '29370',\n",
       " 711: '9337',\n",
       " 712: '31759',\n",
       " 713: '5460',\n",
       " 714: '16589',\n",
       " 715: '46226',\n",
       " 716: '20754',\n",
       " 717: '17341',\n",
       " 718: '17616',\n",
       " 719: '8479',\n",
       " 720: '23765',\n",
       " 721: '17835',\n",
       " 722: '19156',\n",
       " 723: '29553',\n",
       " 724: '36389',\n",
       " 725: '38944',\n",
       " 726: '26131',\n",
       " 727: '45063',\n",
       " 728: '3481',\n",
       " 729: '22504',\n",
       " 730: '33572',\n",
       " 731: '31562',\n",
       " 732: '8087',\n",
       " 733: '6287',\n",
       " 734: '33716',\n",
       " 735: '24535',\n",
       " 736: '28123',\n",
       " 737: '45747',\n",
       " 738: '49610',\n",
       " 739: '17008',\n",
       " 740: '1215',\n",
       " 741: '38028',\n",
       " 742: '16823',\n",
       " 743: '30442',\n",
       " 744: '28535',\n",
       " 745: '8230',\n",
       " 746: '32455',\n",
       " 747: '12606',\n",
       " 748: '31805',\n",
       " 749: '36086',\n",
       " 750: '10814',\n",
       " 751: '41544',\n",
       " 752: '48171',\n",
       " 753: '35383',\n",
       " 754: '13431',\n",
       " 755: '18382',\n",
       " 756: '23233',\n",
       " 757: '4724',\n",
       " 758: '9124',\n",
       " 759: '11352',\n",
       " 760: '14467',\n",
       " 761: '2611',\n",
       " 762: '10032',\n",
       " 763: '9741',\n",
       " 764: '33352',\n",
       " 765: '7521',\n",
       " 766: '1559',\n",
       " 767: '21417',\n",
       " 768: '4138',\n",
       " 769: '37825',\n",
       " 770: '17807',\n",
       " 771: '47601',\n",
       " 772: '22888',\n",
       " 773: '24082',\n",
       " 774: '40593',\n",
       " 775: '23341',\n",
       " 776: '19003',\n",
       " 777: '21614',\n",
       " 778: '19894',\n",
       " 779: '13819',\n",
       " 780: '24382',\n",
       " 781: '20632',\n",
       " 782: '9366',\n",
       " 783: '39121',\n",
       " 784: '5449',\n",
       " 785: '42803',\n",
       " 786: '47029',\n",
       " 787: '18987',\n",
       " 788: '17878',\n",
       " 789: '39097',\n",
       " 790: '41540',\n",
       " 791: '3020',\n",
       " 792: '23801',\n",
       " 793: '19478',\n",
       " 794: '38656',\n",
       " 795: '45570',\n",
       " 796: '25837',\n",
       " 797: '11136',\n",
       " 798: '47866',\n",
       " 799: '581',\n",
       " 800: '15200',\n",
       " 801: '8490',\n",
       " 802: '41259',\n",
       " 803: '6615',\n",
       " 804: '11461',\n",
       " 805: '14778',\n",
       " 806: '21497',\n",
       " 807: '9421',\n",
       " 808: '18434',\n",
       " 809: '17630',\n",
       " 810: '47492',\n",
       " 811: '8467',\n",
       " 812: '43631',\n",
       " 813: '48595',\n",
       " 814: '23296',\n",
       " 815: '19488',\n",
       " 816: '27307',\n",
       " 817: '33636',\n",
       " 818: '27360',\n",
       " 819: '33290',\n",
       " 820: '46900',\n",
       " 821: '41319',\n",
       " 822: '31371',\n",
       " 823: '6347',\n",
       " 824: '34234',\n",
       " 825: '5337',\n",
       " 826: '46650',\n",
       " 827: '37011',\n",
       " 828: '14999',\n",
       " 829: '10761',\n",
       " 830: '38274',\n",
       " 831: '29594',\n",
       " 832: '24010',\n",
       " 833: '34551',\n",
       " 834: '44514',\n",
       " 835: '20520',\n",
       " 836: '17902',\n",
       " 837: '34',\n",
       " 838: '47357',\n",
       " 839: '44471',\n",
       " 840: '46049',\n",
       " 841: '49247',\n",
       " 842: '42240',\n",
       " 843: '28785',\n",
       " 844: '38544',\n",
       " 845: '9550',\n",
       " 846: '7806',\n",
       " 847: '46041',\n",
       " 848: '29898',\n",
       " 849: '45681',\n",
       " 850: '43643',\n",
       " 851: '22260',\n",
       " 852: '49111',\n",
       " 853: '7916',\n",
       " 854: '31338',\n",
       " 855: '29615',\n",
       " 856: '12427',\n",
       " 857: '45013',\n",
       " 858: '2716',\n",
       " 859: '5031',\n",
       " 860: '46061',\n",
       " 861: '4149',\n",
       " 862: '23645',\n",
       " 863: '40002',\n",
       " 864: '31663',\n",
       " 865: '9327',\n",
       " 866: '16290',\n",
       " 867: '24390',\n",
       " 868: '5618',\n",
       " 869: '248',\n",
       " 870: '13802',\n",
       " 871: '8736',\n",
       " 872: '20899',\n",
       " 873: '14332',\n",
       " 874: '3849',\n",
       " 875: '8239',\n",
       " 876: '14897',\n",
       " 877: '45106',\n",
       " 878: '13712',\n",
       " 879: '23044',\n",
       " 880: '19049',\n",
       " 881: '41276',\n",
       " 882: '5959',\n",
       " 883: '44292',\n",
       " 884: '4006',\n",
       " 885: '18019',\n",
       " 886: '35233',\n",
       " 887: '5991',\n",
       " 888: '47890',\n",
       " 889: '2180',\n",
       " 890: '40348',\n",
       " 891: '11941',\n",
       " 892: '18564',\n",
       " 893: '41593',\n",
       " 894: '48726',\n",
       " 895: '49478',\n",
       " 896: '47526',\n",
       " 897: '44310',\n",
       " 898: '4137',\n",
       " 899: '31927',\n",
       " 900: '26914',\n",
       " 901: '36127',\n",
       " 902: '25705',\n",
       " 903: '46175',\n",
       " 904: '38444',\n",
       " 905: '25133',\n",
       " 906: '10473',\n",
       " 907: '4962',\n",
       " 908: '48057',\n",
       " 909: '18599',\n",
       " 910: '45064',\n",
       " 911: '44375',\n",
       " 912: '30480',\n",
       " 913: '32650',\n",
       " 914: '26882',\n",
       " 915: '16283',\n",
       " 916: '9018',\n",
       " 917: '1695',\n",
       " 918: '20583',\n",
       " 919: '7054',\n",
       " 920: '33846',\n",
       " 921: '10369',\n",
       " 922: '28597',\n",
       " 923: '12312',\n",
       " 924: '47087',\n",
       " 925: '7952',\n",
       " 926: '13852',\n",
       " 927: '43867',\n",
       " 928: '26047',\n",
       " 929: '22151',\n",
       " 930: '49215',\n",
       " 931: '28851',\n",
       " 932: '47877',\n",
       " 933: '35168',\n",
       " 934: '17027',\n",
       " 935: '49605',\n",
       " 936: '25544',\n",
       " 937: '18352',\n",
       " 938: '23554',\n",
       " 939: '16249',\n",
       " 940: '1468',\n",
       " 941: '19068',\n",
       " 942: '33065',\n",
       " 943: '35336',\n",
       " 944: '3999',\n",
       " 945: '37464',\n",
       " 946: '24850',\n",
       " 947: '27683',\n",
       " 948: '41273',\n",
       " 949: '45866',\n",
       " 950: '46346',\n",
       " 951: '28986',\n",
       " 952: '41757',\n",
       " 953: '38312',\n",
       " 954: '25256',\n",
       " 955: '34024',\n",
       " 956: '13702',\n",
       " 957: '20919',\n",
       " 958: '13113',\n",
       " 959: '46990',\n",
       " 960: '12572',\n",
       " 961: '22802',\n",
       " 962: '21162',\n",
       " 963: '9623',\n",
       " 964: '25197',\n",
       " 965: '4945',\n",
       " 966: '27020',\n",
       " 967: '32740',\n",
       " 968: '4796',\n",
       " 969: '30561',\n",
       " 970: '6656',\n",
       " 971: '46088',\n",
       " 972: '31640',\n",
       " 973: '9598',\n",
       " 974: '36956',\n",
       " 975: '13966',\n",
       " 976: '44643',\n",
       " 977: '36036',\n",
       " 978: '5250',\n",
       " 979: '11123',\n",
       " 980: '40229',\n",
       " 981: '46206',\n",
       " 982: '26172',\n",
       " 983: '43967',\n",
       " 984: '26648',\n",
       " 985: '10106',\n",
       " 986: '20378',\n",
       " 987: '44548',\n",
       " 988: '22556',\n",
       " 989: '13885',\n",
       " 990: '48094',\n",
       " 991: '8153',\n",
       " 992: '18670',\n",
       " 993: '35199',\n",
       " 994: '26629',\n",
       " 995: '12797',\n",
       " 996: '43014',\n",
       " 997: '43409',\n",
       " 998: '45613',\n",
       " 999: '5491',\n",
       " ...}"
      ]
     },
     "execution_count": 20,
     "metadata": {},
     "output_type": "execute_result"
    }
   ],
   "source": [
    "ix_word"
   ]
  },
  {
   "cell_type": "markdown",
   "metadata": {},
   "source": [
    "## 2.3. Convert entire data set from text to indices\n"
   ]
  },
  {
   "cell_type": "code",
   "execution_count": 21,
   "metadata": {},
   "outputs": [],
   "source": [
    "# convert data to index\n",
    "def Data2Index(train_data, word_ix, ret_unk_cnt = False):\n",
    "    data = list()\n",
    "    global unk_count\n",
    "    unk_count = 0\n",
    "    for order in train_data:\n",
    "        ord_data = []\n",
    "        for word in order:\n",
    "            if word in word_ix:\n",
    "                index = word_ix[word]\n",
    "            else:\n",
    "                index = 0\n",
    "                unk_count += 1\n",
    "            ord_data.append(index)\n",
    "        data.append(ord_data)\n",
    "    if ret_unk_cnt:\n",
    "        return(data, unk_count)\n",
    "    else:\n",
    "        return(data)"
   ]
  },
  {
   "cell_type": "code",
   "execution_count": 22,
   "metadata": {},
   "outputs": [],
   "source": [
    "# training orders\n",
    "train_orders_ix = Data2Index(train_data = train_orders, word_ix = word_ix, ret_unk_cnt = False)"
   ]
  },
  {
   "cell_type": "code",
   "execution_count": 23,
   "metadata": {},
   "outputs": [
    {
     "data": {
      "text/plain": [
       "[['42585',\n",
       "  '14084',\n",
       "  '29045',\n",
       "  '35842',\n",
       "  '37355',\n",
       "  '35951',\n",
       "  '25659',\n",
       "  '42399',\n",
       "  '46971'],\n",
       " ['13176',\n",
       "  '14218',\n",
       "  '27521',\n",
       "  '15143',\n",
       "  '30442',\n",
       "  '39558',\n",
       "  '14992',\n",
       "  '21616',\n",
       "  '49683',\n",
       "  '40604',\n",
       "  '32537',\n",
       "  '46049',\n",
       "  '24830',\n",
       "  '44883',\n",
       "  '42450'],\n",
       " ['895', '1511', '26165']]"
      ]
     },
     "execution_count": 23,
     "metadata": {},
     "output_type": "execute_result"
    }
   ],
   "source": [
    "train_orders[0:3]"
   ]
  },
  {
   "cell_type": "code",
   "execution_count": 24,
   "metadata": {},
   "outputs": [
    {
     "data": {
      "text/plain": [
       "[[118, 253, 4307, 1450, 3603, 46, 127, 8402, 8268],\n",
       " [2, 570, 68, 1666, 743, 558, 119, 29, 16, 100, 1032, 840, 150, 5180, 221],\n",
       " [1665, 315, 183]]"
      ]
     },
     "execution_count": 24,
     "metadata": {},
     "output_type": "execute_result"
    }
   ],
   "source": [
    "train_orders_ix[0:3]"
   ]
  },
  {
   "cell_type": "code",
   "execution_count": 25,
   "metadata": {},
   "outputs": [
    {
     "data": {
      "text/plain": [
       "1000000"
      ]
     },
     "execution_count": 25,
     "metadata": {},
     "output_type": "execute_result"
    }
   ],
   "source": [
    "# total number of training orders\n",
    "len(train_orders)"
   ]
  },
  {
   "cell_type": "code",
   "execution_count": 26,
   "metadata": {},
   "outputs": [
    {
     "name": "stdout",
     "output_type": "stream",
     "text": [
      "38701\n"
     ]
    }
   ],
   "source": [
    "# val orders\n",
    "val_orders_ix = Data2Index(train_data = val_orders, word_ix = word_ix, ret_unk_cnt = False)\n",
    "print(len(val_orders_ix))"
   ]
  },
  {
   "cell_type": "markdown",
   "metadata": {},
   "source": [
    "----"
   ]
  },
  {
   "cell_type": "markdown",
   "metadata": {},
   "source": [
    "### In-class exercise"
   ]
  },
  {
   "cell_type": "code",
   "execution_count": 27,
   "metadata": {},
   "outputs": [],
   "source": [
    "# convert all the test orders to indices using the Data2Index() function"
   ]
  },
  {
   "cell_type": "code",
   "execution_count": 29,
   "metadata": {},
   "outputs": [],
   "source": [
    "val_orders_ix = Data2Index(train_data = val_orders, word_ix = word_ix, ret_unk_cnt = False)"
   ]
  },
  {
   "cell_type": "markdown",
   "metadata": {},
   "source": [
    "----"
   ]
  },
  {
   "cell_type": "markdown",
   "metadata": {},
   "source": [
    "# A.1: Intro to Neural Networks"
   ]
  },
  {
   "cell_type": "code",
   "execution_count": 30,
   "metadata": {},
   "outputs": [],
   "source": [
    "## code to download imdb data and load into memory\n",
    "import numpy as np\n",
    "old = np.load\n",
    "np.load = lambda *a,**k: old(*a,**k,allow_pickle=True)\n",
    "# call load_data with allow_pickle implicitly set to true\n",
    "from keras.datasets import imdb\n",
    "(x_train, y_train), (x_test, y_test) = imdb.load_data(num_words=10000)\n",
    "np.load = old\n",
    "del(old)"
   ]
  },
  {
   "cell_type": "code",
   "execution_count": 31,
   "metadata": {},
   "outputs": [
    {
     "name": "stdout",
     "output_type": "stream",
     "text": [
      "(25000,)\n",
      "(25000,)\n"
     ]
    }
   ],
   "source": [
    "print(x_train.shape)\n",
    "print(y_train.shape)"
   ]
  },
  {
   "cell_type": "code",
   "execution_count": 33,
   "metadata": {},
   "outputs": [
    {
     "data": {
      "text/plain": [
       "[1,\n",
       " 14,\n",
       " 22,\n",
       " 16,\n",
       " 43,\n",
       " 530,\n",
       " 973,\n",
       " 1622,\n",
       " 1385,\n",
       " 65,\n",
       " 458,\n",
       " 4468,\n",
       " 66,\n",
       " 3941,\n",
       " 4,\n",
       " 173,\n",
       " 36,\n",
       " 256,\n",
       " 5,\n",
       " 25,\n",
       " 100,\n",
       " 43,\n",
       " 838,\n",
       " 112,\n",
       " 50,\n",
       " 670,\n",
       " 2,\n",
       " 9,\n",
       " 35,\n",
       " 480,\n",
       " 284,\n",
       " 5,\n",
       " 150,\n",
       " 4,\n",
       " 172,\n",
       " 112,\n",
       " 167,\n",
       " 2,\n",
       " 336,\n",
       " 385,\n",
       " 39,\n",
       " 4,\n",
       " 172,\n",
       " 4536,\n",
       " 1111,\n",
       " 17,\n",
       " 546,\n",
       " 38,\n",
       " 13,\n",
       " 447,\n",
       " 4,\n",
       " 192,\n",
       " 50,\n",
       " 16,\n",
       " 6,\n",
       " 147,\n",
       " 2025,\n",
       " 19,\n",
       " 14,\n",
       " 22,\n",
       " 4,\n",
       " 1920,\n",
       " 4613,\n",
       " 469,\n",
       " 4,\n",
       " 22,\n",
       " 71,\n",
       " 87,\n",
       " 12,\n",
       " 16,\n",
       " 43,\n",
       " 530,\n",
       " 38,\n",
       " 76,\n",
       " 15,\n",
       " 13,\n",
       " 1247,\n",
       " 4,\n",
       " 22,\n",
       " 17,\n",
       " 515,\n",
       " 17,\n",
       " 12,\n",
       " 16,\n",
       " 626,\n",
       " 18,\n",
       " 2,\n",
       " 5,\n",
       " 62,\n",
       " 386,\n",
       " 12,\n",
       " 8,\n",
       " 316,\n",
       " 8,\n",
       " 106,\n",
       " 5,\n",
       " 4,\n",
       " 2223,\n",
       " 5244,\n",
       " 16,\n",
       " 480,\n",
       " 66,\n",
       " 3785,\n",
       " 33,\n",
       " 4,\n",
       " 130,\n",
       " 12,\n",
       " 16,\n",
       " 38,\n",
       " 619,\n",
       " 5,\n",
       " 25,\n",
       " 124,\n",
       " 51,\n",
       " 36,\n",
       " 135,\n",
       " 48,\n",
       " 25,\n",
       " 1415,\n",
       " 33,\n",
       " 6,\n",
       " 22,\n",
       " 12,\n",
       " 215,\n",
       " 28,\n",
       " 77,\n",
       " 52,\n",
       " 5,\n",
       " 14,\n",
       " 407,\n",
       " 16,\n",
       " 82,\n",
       " 2,\n",
       " 8,\n",
       " 4,\n",
       " 107,\n",
       " 117,\n",
       " 5952,\n",
       " 15,\n",
       " 256,\n",
       " 4,\n",
       " 2,\n",
       " 7,\n",
       " 3766,\n",
       " 5,\n",
       " 723,\n",
       " 36,\n",
       " 71,\n",
       " 43,\n",
       " 530,\n",
       " 476,\n",
       " 26,\n",
       " 400,\n",
       " 317,\n",
       " 46,\n",
       " 7,\n",
       " 4,\n",
       " 2,\n",
       " 1029,\n",
       " 13,\n",
       " 104,\n",
       " 88,\n",
       " 4,\n",
       " 381,\n",
       " 15,\n",
       " 297,\n",
       " 98,\n",
       " 32,\n",
       " 2071,\n",
       " 56,\n",
       " 26,\n",
       " 141,\n",
       " 6,\n",
       " 194,\n",
       " 7486,\n",
       " 18,\n",
       " 4,\n",
       " 226,\n",
       " 22,\n",
       " 21,\n",
       " 134,\n",
       " 476,\n",
       " 26,\n",
       " 480,\n",
       " 5,\n",
       " 144,\n",
       " 30,\n",
       " 5535,\n",
       " 18,\n",
       " 51,\n",
       " 36,\n",
       " 28,\n",
       " 224,\n",
       " 92,\n",
       " 25,\n",
       " 104,\n",
       " 4,\n",
       " 226,\n",
       " 65,\n",
       " 16,\n",
       " 38,\n",
       " 1334,\n",
       " 88,\n",
       " 12,\n",
       " 16,\n",
       " 283,\n",
       " 5,\n",
       " 16,\n",
       " 4472,\n",
       " 113,\n",
       " 103,\n",
       " 32,\n",
       " 15,\n",
       " 16,\n",
       " 5345,\n",
       " 19,\n",
       " 178,\n",
       " 32]"
      ]
     },
     "execution_count": 33,
     "metadata": {},
     "output_type": "execute_result"
    }
   ],
   "source": [
    "x_train[0]"
   ]
  },
  {
   "cell_type": "code",
   "execution_count": 34,
   "metadata": {},
   "outputs": [
    {
     "data": {
      "text/plain": [
       "array([1, 0, 0, 1, 0])"
      ]
     },
     "execution_count": 34,
     "metadata": {},
     "output_type": "execute_result"
    }
   ],
   "source": [
    "y_train[0:5]"
   ]
  },
  {
   "cell_type": "code",
   "execution_count": 35,
   "metadata": {},
   "outputs": [
    {
     "name": "stdout",
     "output_type": "stream",
     "text": [
      "9999\n"
     ]
    }
   ],
   "source": [
    "# total number of words\n",
    "print(max([max(sequence) for sequence in x_train]))"
   ]
  },
  {
   "cell_type": "code",
   "execution_count": 36,
   "metadata": {},
   "outputs": [],
   "source": [
    "# decode back from indices to words\n",
    "word_index = imdb.get_word_index()"
   ]
  },
  {
   "cell_type": "code",
   "execution_count": 37,
   "metadata": {},
   "outputs": [
    {
     "name": "stdout",
     "output_type": "stream",
     "text": [
      "? this film was just brilliant casting location scenery story direction everyone's really suited the part they played and you could just imagine being there robert ? is an amazing actor and now the same being director ? father came from the same scottish island as myself so i loved the fact there was a real connection with this film the witty remarks throughout the film were great it was just brilliant so much that i bought the film as soon as it was released for ? and would recommend it to everyone to watch and the fly fishing was amazing really cried at the end it was so sad and you know what they say if you cry at a film it must have been good and this definitely was also ? to the two little boy's that played the ? of norman and paul they were just brilliant children are often left out of the ? list i think because the stars that play them all grown up are such a big profile for the whole film but these children are amazing and should be praised for what they have done don't you think the whole story was so lovely because it was true and was someone's life after all that was shared with us all\n"
     ]
    }
   ],
   "source": [
    "# reverse the word index by mapping indices to words\n",
    "reverse_word_index = dict([(value, key) for (key, value) in word_index.items()])\n",
    "decoded_review = ' '.join([reverse_word_index.get(i - 3, '?') for i in x_train[0]])\n",
    "print(decoded_review)"
   ]
  },
  {
   "cell_type": "code",
   "execution_count": 38,
   "metadata": {},
   "outputs": [],
   "source": [
    "def vectorize_sequences(sequences, dimension=10000):\n",
    "    results = np.zeros((len(sequences), dimension))\n",
    "    for i, sequence in enumerate(sequences):\n",
    "        results[i, sequence] = 1\n",
    "    return results"
   ]
  },
  {
   "cell_type": "code",
   "execution_count": 39,
   "metadata": {},
   "outputs": [],
   "source": [
    "x_train = vectorize_sequences(x_train)\n",
    "x_test = vectorize_sequences(x_test)"
   ]
  },
  {
   "cell_type": "code",
   "execution_count": 40,
   "metadata": {},
   "outputs": [
    {
     "name": "stdout",
     "output_type": "stream",
     "text": [
      "10000\n"
     ]
    }
   ],
   "source": [
    "print(len(x_train[0]))"
   ]
  },
  {
   "cell_type": "code",
   "execution_count": 41,
   "metadata": {},
   "outputs": [
    {
     "name": "stdout",
     "output_type": "stream",
     "text": [
      "10000\n"
     ]
    }
   ],
   "source": [
    "print(len(x_test[0]))"
   ]
  },
  {
   "cell_type": "code",
   "execution_count": 42,
   "metadata": {},
   "outputs": [],
   "source": [
    "y_train = np.asarray(y_train).astype('float32')\n",
    "y_test = np.asarray(y_test).astype('float32')"
   ]
  },
  {
   "cell_type": "code",
   "execution_count": 43,
   "metadata": {},
   "outputs": [],
   "source": [
    "from keras import models\n",
    "from keras import layers"
   ]
  },
  {
   "cell_type": "code",
   "execution_count": 44,
   "metadata": {},
   "outputs": [],
   "source": [
    "model = models.Sequential()\n",
    "model.add(layers.Dense(16, activation='relu', input_shape=(10000,)))\n",
    "model.add(layers.Dense(16, activation='relu'))\n",
    "model.add(layers.Dense(1, activation='sigmoid'))"
   ]
  },
  {
   "cell_type": "code",
   "execution_count": 45,
   "metadata": {},
   "outputs": [],
   "source": [
    "from keras import optimizers"
   ]
  },
  {
   "cell_type": "code",
   "execution_count": 46,
   "metadata": {},
   "outputs": [],
   "source": [
    "model.compile(optimizer= 'rmsprop',\n",
    "                      loss= 'binary_crossentropy',\n",
    "                      metrics= ['accuracy'])"
   ]
  },
  {
   "cell_type": "code",
   "execution_count": 47,
   "metadata": {},
   "outputs": [
    {
     "name": "stdout",
     "output_type": "stream",
     "text": [
      "_________________________________________________________________\n",
      "Layer (type)                 Output Shape              Param #   \n",
      "=================================================================\n",
      "dense_1 (Dense)              (None, 16)                160016    \n",
      "_________________________________________________________________\n",
      "dense_2 (Dense)              (None, 16)                272       \n",
      "_________________________________________________________________\n",
      "dense_3 (Dense)              (None, 1)                 17        \n",
      "=================================================================\n",
      "Total params: 160,305\n",
      "Trainable params: 160,305\n",
      "Non-trainable params: 0\n",
      "_________________________________________________________________\n"
     ]
    }
   ],
   "source": [
    "model.summary()"
   ]
  },
  {
   "cell_type": "code",
   "execution_count": 48,
   "metadata": {},
   "outputs": [],
   "source": [
    "# create validation data \n",
    "x_val = x_train[:10000]\n",
    "partial_x_train = x_train[10000:]"
   ]
  },
  {
   "cell_type": "code",
   "execution_count": 49,
   "metadata": {},
   "outputs": [],
   "source": [
    "# create validation labels\n",
    "y_val = y_train[:10000]\n",
    "partial_y_train = y_train[10000:]"
   ]
  },
  {
   "cell_type": "code",
   "execution_count": 50,
   "metadata": {},
   "outputs": [
    {
     "name": "stdout",
     "output_type": "stream",
     "text": [
      "Train on 15000 samples, validate on 10000 samples\n",
      "Epoch 1/5\n",
      "15000/15000 [==============================] - 2s 146us/step - loss: 0.3979 - acc: 0.8403 - val_loss: 0.2830 - val_acc: 0.8891\n",
      "Epoch 2/5\n",
      "15000/15000 [==============================] - 2s 115us/step - loss: 0.2100 - acc: 0.9208 - val_loss: 0.2752 - val_acc: 0.8893\n",
      "Epoch 3/5\n",
      "15000/15000 [==============================] - 2s 116us/step - loss: 0.1505 - acc: 0.9469 - val_loss: 0.3016 - val_acc: 0.8872\n",
      "Epoch 4/5\n",
      "15000/15000 [==============================] - 2s 115us/step - loss: 0.1144 - acc: 0.9601 - val_loss: 0.3434 - val_acc: 0.8829\n",
      "Epoch 5/5\n",
      "15000/15000 [==============================] - 2s 115us/step - loss: 0.0848 - acc: 0.9710 - val_loss: 0.3772 - val_acc: 0.8796\n"
     ]
    }
   ],
   "source": [
    "history = model.fit(partial_x_train,\n",
    "                    partial_y_train,\n",
    "                    epochs= 5,\n",
    "                    batch_size= 128,\n",
    "                    validation_data= (x_val, y_val))"
   ]
  },
  {
   "cell_type": "code",
   "execution_count": 51,
   "metadata": {},
   "outputs": [],
   "source": [
    "# plot training and validation accuracy\n",
    "acc = history.history['acc'] # retreive training accuracy from history\n",
    "val_acc = history.history['val_acc'] # retreive validation accuracy from history\n",
    "loss = history.history['loss'] # retreive training loss from history\n",
    "val_loss = history.history['val_loss'] # retreive validation loss from history"
   ]
  },
  {
   "cell_type": "code",
   "execution_count": 52,
   "metadata": {},
   "outputs": [
    {
     "data": {
      "image/png": "[encoded data removed]",
      "text/plain": [
       "<Figure size 432x288 with 1 Axes>"
      ]
     },
     "metadata": {
      "needs_background": "light"
     },
     "output_type": "display_data"
    },
    {
     "data": {
      "image/png": "[encoded data removed]",
      "text/plain": [
       "<Figure size 432x288 with 1 Axes>"
      ]
     },
     "metadata": {
      "needs_background": "light"
     },
     "output_type": "display_data"
    }
   ],
   "source": [
    "# two plots - one for loss and the other for accuract\n",
    "epochs = range(1, len(acc) + 1)\n",
    "\n",
    "# -- plot 1: Number of epochs vs. accuracy\n",
    "plt.plot(epochs, acc, 'bo', label= 'Training acc')\n",
    "plt.plot(epochs, val_acc, 'b', label= 'Validation acc')\n",
    "plt.title('Training and validation accuracy')\n",
    "plt.legend()\n",
    "plt.figure()\n",
    "\n",
    "# -- plot 2: Number of epochs vs. loss\n",
    "plt.plot(epochs, loss, 'bo', label='Training loss')\n",
    "plt.plot(epochs, val_loss, 'b', label='Validation loss')\n",
    "plt.title('Training and validation loss')\n",
    "plt.legend()\n",
    "plt.show()"
   ]
  },
  {
   "cell_type": "markdown",
   "metadata": {},
   "source": [
    "------"
   ]
  },
  {
   "cell_type": "markdown",
   "metadata": {},
   "source": [
    "# A.2: A slightly larger neural network"
   ]
  },
  {
   "cell_type": "code",
   "execution_count": 53,
   "metadata": {},
   "outputs": [],
   "source": [
    "model = models.Sequential()\n",
    "model.add(layers.Dense(32, activation='relu', input_shape=(10000, )))\n",
    "model.add(layers.Dense(16, activation='relu'))\n",
    "model.add(layers.Dense(1, activation='sigmoid'))"
   ]
  },
  {
   "cell_type": "code",
   "execution_count": 54,
   "metadata": {},
   "outputs": [],
   "source": [
    "model.compile(optimizer= 'rmsprop',\n",
    "                      loss= 'binary_crossentropy',\n",
    "                      metrics= ['accuracy'])"
   ]
  },
  {
   "cell_type": "code",
   "execution_count": 55,
   "metadata": {},
   "outputs": [
    {
     "name": "stdout",
     "output_type": "stream",
     "text": [
      "_________________________________________________________________\n",
      "Layer (type)                 Output Shape              Param #   \n",
      "=================================================================\n",
      "dense_4 (Dense)              (None, 32)                320032    \n",
      "_________________________________________________________________\n",
      "dense_5 (Dense)              (None, 16)                528       \n",
      "_________________________________________________________________\n",
      "dense_6 (Dense)              (None, 1)                 17        \n",
      "=================================================================\n",
      "Total params: 320,577\n",
      "Trainable params: 320,577\n",
      "Non-trainable params: 0\n",
      "_________________________________________________________________\n"
     ]
    }
   ],
   "source": [
    "model.summary()"
   ]
  },
  {
   "cell_type": "code",
   "execution_count": 56,
   "metadata": {},
   "outputs": [
    {
     "name": "stdout",
     "output_type": "stream",
     "text": [
      "Train on 15000 samples, validate on 10000 samples\n",
      "Epoch 1/10\n",
      "15000/15000 [==============================] - 3s 177us/step - loss: 0.3788 - acc: 0.8445 - val_loss: 0.3192 - val_acc: 0.8688\n",
      "Epoch 2/10\n",
      "15000/15000 [==============================] - 2s 158us/step - loss: 0.2024 - acc: 0.9243 - val_loss: 0.3062 - val_acc: 0.8804\n",
      "Epoch 3/10\n",
      "15000/15000 [==============================] - 2s 158us/step - loss: 0.1454 - acc: 0.9464 - val_loss: 0.3862 - val_acc: 0.8631\n",
      "Epoch 4/10\n",
      "15000/15000 [==============================] - 2s 158us/step - loss: 0.1085 - acc: 0.9603 - val_loss: 0.4459 - val_acc: 0.8580\n",
      "Epoch 5/10\n",
      "15000/15000 [==============================] - 2s 158us/step - loss: 0.0765 - acc: 0.9735 - val_loss: 0.4463 - val_acc: 0.8672\n",
      "Epoch 6/10\n",
      "15000/15000 [==============================] - 2s 157us/step - loss: 0.0574 - acc: 0.9802 - val_loss: 0.5021 - val_acc: 0.8649\n",
      "Epoch 7/10\n",
      "15000/15000 [==============================] - 2s 158us/step - loss: 0.0374 - acc: 0.9872 - val_loss: 0.5333 - val_acc: 0.8726\n",
      "Epoch 8/10\n",
      "15000/15000 [==============================] - 2s 159us/step - loss: 0.0225 - acc: 0.9937 - val_loss: 0.6227 - val_acc: 0.8660\n",
      "Epoch 9/10\n",
      "15000/15000 [==============================] - 2s 158us/step - loss: 0.0156 - acc: 0.9953 - val_loss: 0.7567 - val_acc: 0.8578\n",
      "Epoch 10/10\n",
      "15000/15000 [==============================] - 2s 159us/step - loss: 0.0082 - acc: 0.9981 - val_loss: 0.7804 - val_acc: 0.8645\n"
     ]
    }
   ],
   "source": [
    "history = model.fit(partial_x_train,\n",
    "                    partial_y_train,\n",
    "                    epochs= 10,\n",
    "                    batch_size= 128,\n",
    "                    validation_data= (x_val, y_val))"
   ]
  },
  {
   "cell_type": "code",
   "execution_count": 57,
   "metadata": {},
   "outputs": [
    {
     "data": {
      "image/png": "[encoded data removed]",
      "text/plain": [
       "<Figure size 432x288 with 1 Axes>"
      ]
     },
     "metadata": {
      "needs_background": "light"
     },
     "output_type": "display_data"
    },
    {
     "data": {
      "image/png": "[encoded data removed]",
      "text/plain": [
       "<Figure size 432x288 with 1 Axes>"
      ]
     },
     "metadata": {
      "needs_background": "light"
     },
     "output_type": "display_data"
    }
   ],
   "source": [
    "# plot training and validation accuracy\n",
    "acc = history.history['acc'] # retreive training accuracy from history\n",
    "val_acc = history.history['val_acc'] # retreive validation accuracy from history\n",
    "loss = history.history['loss'] # retreive training loss from history\n",
    "val_loss = history.history['val_loss'] # retreive validation loss from history\n",
    "\n",
    "# two plots - one for loss and the other for accuract\n",
    "epochs = range(1, len(acc) + 1)\n",
    "\n",
    "# -- plot 1: Number of epochs vs. accuracy\n",
    "plt.plot(epochs, acc, 'bo', label= 'Training acc')\n",
    "plt.plot(epochs, val_acc, 'b', label= 'Validation acc')\n",
    "plt.title('Training and validation accuracy')\n",
    "plt.legend()\n",
    "plt.figure()\n",
    "\n",
    "# -- plot 2: Number of epochs vs. loss\n",
    "plt.plot(epochs, loss, 'bo', label='Training loss')\n",
    "plt.plot(epochs, val_loss, 'b', label='Validation loss')\n",
    "plt.title('Training and validation loss')\n",
    "plt.legend()\n",
    "plt.show()"
   ]
  },
  {
   "cell_type": "markdown",
   "metadata": {},
   "source": [
    "-----"
   ]
  },
  {
   "cell_type": "markdown",
   "metadata": {},
   "source": [
    "### In-class exercise"
   ]
  },
  {
   "cell_type": "code",
   "execution_count": null,
   "metadata": {},
   "outputs": [],
   "source": [
    "# Build the following neural network:\n",
    "\n",
    "# 4 layers\n",
    "# 1. Layer 1: 64 nodes\n",
    "# 2. Layer 2: 64 nodes\n",
    "# 3. Layer 3: 32 nodes\n",
    "# 4. Layer 4: 32 nodes"
   ]
  },
  {
   "cell_type": "code",
   "execution_count": 62,
   "metadata": {},
   "outputs": [],
   "source": [
    "model1 = models.Sequential()\n",
    "model1.add(layers.Dense(64, activation='relu', input_shape=(10000, )))\n",
    "model1.add(layers.Dense(64, activation='relu'))\n",
    "model1.add(layers.Dense(32, activation='relu'))\n",
    "model1.add(layers.Dense(32, activation='relu'))\n",
    "model1.add(layers.Dense(1, activation='sigmoid'))"
   ]
  },
  {
   "cell_type": "code",
   "execution_count": 65,
   "metadata": {},
   "outputs": [],
   "source": [
    "model1.compile(optimizer= 'rmsprop',\n",
    "                      loss= 'binary_crossentropy',\n",
    "                      metrics= ['accuracy'])"
   ]
  },
  {
   "cell_type": "code",
   "execution_count": 66,
   "metadata": {},
   "outputs": [
    {
     "name": "stdout",
     "output_type": "stream",
     "text": [
      "_________________________________________________________________\n",
      "Layer (type)                 Output Shape              Param #   \n",
      "=================================================================\n",
      "dense_12 (Dense)             (None, 64)                640064    \n",
      "_________________________________________________________________\n",
      "dense_13 (Dense)             (None, 64)                4160      \n",
      "_________________________________________________________________\n",
      "dense_14 (Dense)             (None, 32)                2080      \n",
      "_________________________________________________________________\n",
      "dense_15 (Dense)             (None, 32)                1056      \n",
      "_________________________________________________________________\n",
      "dense_16 (Dense)             (None, 1)                 33        \n",
      "=================================================================\n",
      "Total params: 647,393\n",
      "Trainable params: 647,393\n",
      "Non-trainable params: 0\n",
      "_________________________________________________________________\n"
     ]
    }
   ],
   "source": [
    "model1.summary()"
   ]
  },
  {
   "cell_type": "code",
   "execution_count": 67,
   "metadata": {},
   "outputs": [
    {
     "name": "stdout",
     "output_type": "stream",
     "text": [
      "Train on 15000 samples, validate on 10000 samples\n",
      "Epoch 1/10\n",
      "15000/15000 [==============================] - 2s 165us/step - loss: 0.0076 - acc: 0.9979 - val_loss: 0.8791 - val_acc: 0.8635\n",
      "Epoch 2/10\n",
      "15000/15000 [==============================] - 2s 143us/step - loss: 0.0020 - acc: 0.9996 - val_loss: 0.9593 - val_acc: 0.8628\n",
      "Epoch 3/10\n",
      "15000/15000 [==============================] - 2s 142us/step - loss: 0.0013 - acc: 0.9999 - val_loss: 1.0431 - val_acc: 0.8615\n",
      "Epoch 4/10\n",
      "15000/15000 [==============================] - 2s 141us/step - loss: 5.5725e-04 - acc: 0.9999 - val_loss: 1.1172 - val_acc: 0.8621\n",
      "Epoch 5/10\n",
      "15000/15000 [==============================] - 2s 142us/step - loss: 2.2976e-04 - acc: 0.9999 - val_loss: 1.1816 - val_acc: 0.8598\n",
      "Epoch 6/10\n",
      "15000/15000 [==============================] - 2s 142us/step - loss: 1.3784e-04 - acc: 1.0000 - val_loss: 1.2461 - val_acc: 0.8602\n",
      "Epoch 7/10\n",
      "15000/15000 [==============================] - 2s 142us/step - loss: 1.5588e-04 - acc: 0.9999 - val_loss: 1.3274 - val_acc: 0.8578\n",
      "Epoch 8/10\n",
      "15000/15000 [==============================] - 2s 143us/step - loss: 2.2339e-05 - acc: 1.0000 - val_loss: 1.3451 - val_acc: 0.8568\n",
      "Epoch 9/10\n",
      "15000/15000 [==============================] - 2s 142us/step - loss: 0.0011 - acc: 0.9997 - val_loss: 1.3487 - val_acc: 0.8577\n",
      "Epoch 10/10\n",
      "15000/15000 [==============================] - 2s 142us/step - loss: 5.0718e-05 - acc: 1.0000 - val_loss: 1.3852 - val_acc: 0.8589\n"
     ]
    }
   ],
   "source": [
    "history = model.fit(partial_x_train,\n",
    "                    partial_y_train,\n",
    "                    epochs= 10,\n",
    "                    batch_size= 128,\n",
    "                    validation_data= (x_val, y_val))"
   ]
  },
  {
   "cell_type": "code",
   "execution_count": 68,
   "metadata": {},
   "outputs": [],
   "source": [
    "# plot the accuracy and the loss for training and validation data"
   ]
  },
  {
   "cell_type": "code",
   "execution_count": 69,
   "metadata": {},
   "outputs": [
    {
     "data": {
      "image/png": "[encoded data removed]",
      "text/plain": [
       "<Figure size 432x288 with 1 Axes>"
      ]
     },
     "metadata": {
      "needs_background": "light"
     },
     "output_type": "display_data"
    },
    {
     "data": {
      "image/png": "[encoded data removed]",
      "text/plain": [
       "<Figure size 432x288 with 1 Axes>"
      ]
     },
     "metadata": {
      "needs_background": "light"
     },
     "output_type": "display_data"
    }
   ],
   "source": [
    "# plot training and validation accuracy\n",
    "acc1 = history.history['acc'] # retreive training accuracy from history\n",
    "val_acc1 = history.history['val_acc'] # retreive validation accuracy from history\n",
    "loss1 = history.history['loss'] # retreive training loss from history\n",
    "val_loss1 = history.history['val_loss'] # retreive validation loss from history\n",
    "\n",
    "# two plots - one for loss and the other for accuract\n",
    "epochs1 = range(1, len(acc1) + 1)\n",
    "\n",
    "# -- plot 1: Number of epochs vs. accuracy\n",
    "plt.plot(epochs1, acc1, 'bo', label= 'Training acc')\n",
    "plt.plot(epochs1, val_acc1, 'b', label= 'Validation acc')\n",
    "plt.title('Training and validation accuracy')\n",
    "plt.legend()\n",
    "plt.figure()\n",
    "\n",
    "# -- plot 2: Number of epochs vs. loss\n",
    "plt.plot(epochs1, loss1, 'bo', label='Training loss')\n",
    "plt.plot(epochs1, val_loss1, 'b', label='Validation loss')\n",
    "plt.title('Training and validation loss')\n",
    "plt.legend()\n",
    "plt.show()"
   ]
  },
  {
   "cell_type": "markdown",
   "metadata": {},
   "source": [
    "---"
   ]
  },
  {
   "cell_type": "markdown",
   "metadata": {},
   "source": [
    "# 3. Define embedding matrices and model\n"
   ]
  },
  {
   "cell_type": "markdown",
   "metadata": {},
   "source": [
    "## 3.1. Model parameters"
   ]
  },
  {
   "cell_type": "code",
   "execution_count": 70,
   "metadata": {},
   "outputs": [],
   "source": [
    "# embedding parameters\n",
    "vocab_size = len(word_ix)\n",
    "input_size = vocab_size\n",
    "emb_size = 100"
   ]
  },
  {
   "cell_type": "code",
   "execution_count": 71,
   "metadata": {},
   "outputs": [
    {
     "data": {
      "text/plain": [
       "'Vocab size: 10001'"
      ]
     },
     "execution_count": 71,
     "metadata": {},
     "output_type": "execute_result"
    }
   ],
   "source": [
    "# size of vocabulary\n",
    "f\"Vocab size: {vocab_size}\""
   ]
  },
  {
   "cell_type": "markdown",
   "metadata": {},
   "source": [
    "## 3.2. Embedding layers\n",
    "### We use two embedding layers -- one for the target product and one for the context product"
   ]
  },
  {
   "cell_type": "code",
   "execution_count": 72,
   "metadata": {},
   "outputs": [
    {
     "data": {
      "text/plain": [
       "<tf.Tensor 'input_1:0' shape=(?, 1) dtype=float32>"
      ]
     },
     "execution_count": 72,
     "metadata": {},
     "output_type": "execute_result"
    }
   ],
   "source": [
    "# define input layers\n",
    "input_target = Input((1,))\n",
    "input_target\n"
   ]
  },
  {
   "cell_type": "code",
   "execution_count": 73,
   "metadata": {},
   "outputs": [
    {
     "data": {
      "text/plain": [
       "<tf.Tensor 'input_2:0' shape=(?, 1) dtype=float32>"
      ]
     },
     "execution_count": 73,
     "metadata": {},
     "output_type": "execute_result"
    }
   ],
   "source": [
    "input_context = Input((1,))\n",
    "input_context"
   ]
  },
  {
   "cell_type": "code",
   "execution_count": 74,
   "metadata": {},
   "outputs": [
    {
     "data": {
      "text/plain": [
       "<tf.Tensor 'reshape_1/Reshape:0' shape=(?, 100, 1) dtype=float32>"
      ]
     },
     "execution_count": 74,
     "metadata": {},
     "output_type": "execute_result"
    }
   ],
   "source": [
    "# define embedding layers\n",
    "# target\n",
    "target = Embedding(input_dim = vocab_size, output_dim= emb_size, name = \"rho\")(input_target)\n",
    "target = Reshape(target_shape = (emb_size, 1))(target)\n",
    "target"
   ]
  },
  {
   "cell_type": "code",
   "execution_count": 75,
   "metadata": {},
   "outputs": [
    {
     "data": {
      "text/plain": [
       "<tf.Tensor 'reshape_2/Reshape:0' shape=(?, 100, 1) dtype=float32>"
      ]
     },
     "execution_count": 75,
     "metadata": {},
     "output_type": "execute_result"
    }
   ],
   "source": [
    "# context\n",
    "context = Embedding(input_dim = vocab_size, output_dim= emb_size, name = \"alpha\")(input_context)\n",
    "context = Reshape(target_shape = (emb_size, 1))(context)\n",
    "context"
   ]
  },
  {
   "cell_type": "code",
   "execution_count": 76,
   "metadata": {},
   "outputs": [
    {
     "data": {
      "text/plain": [
       "[<tf.Tensor 'input_1:0' shape=(?, 1) dtype=float32>,\n",
       " <tf.Tensor 'input_2:0' shape=(?, 1) dtype=float32>]"
      ]
     },
     "execution_count": 76,
     "metadata": {},
     "output_type": "execute_result"
    }
   ],
   "source": [
    "# concatenate model inputs and outputs\n",
    "input_model = [input_target, input_context]\n",
    "input_model"
   ]
  },
  {
   "cell_type": "code",
   "execution_count": 77,
   "metadata": {
    "scrolled": true
   },
   "outputs": [
    {
     "data": {
      "text/plain": [
       "<tf.Tensor 'dot_1/MatMul:0' shape=(?, 1, 1) dtype=float32>"
      ]
     },
     "execution_count": 77,
     "metadata": {},
     "output_type": "execute_result"
    }
   ],
   "source": [
    "output_embeddings = Dot(axes = 1)([target, context])\n",
    "output_embeddings"
   ]
  },
  {
   "cell_type": "code",
   "execution_count": 78,
   "metadata": {},
   "outputs": [
    {
     "data": {
      "text/plain": [
       "<tf.Tensor 'flatten_1/Reshape:0' shape=(?, ?) dtype=float32>"
      ]
     },
     "execution_count": 78,
     "metadata": {},
     "output_type": "execute_result"
    }
   ],
   "source": [
    "# resize embeddings\n",
    "#output_model = Reshape((1,))(output_embeddings)\n",
    "output_model = Flatten()(output_embeddings)\n",
    "output_model"
   ]
  },
  {
   "cell_type": "code",
   "execution_count": 79,
   "metadata": {},
   "outputs": [],
   "source": [
    "# complete model\n",
    "output_model = Dense(1, activation = \"sigmoid\")(output_model)"
   ]
  },
  {
   "cell_type": "markdown",
   "metadata": {},
   "source": [
    "## 3.3. Complete model"
   ]
  },
  {
   "cell_type": "code",
   "execution_count": 80,
   "metadata": {},
   "outputs": [
    {
     "data": {
      "text/plain": [
       "<keras.engine.training.Model at 0x7f50a7f20518>"
      ]
     },
     "execution_count": 80,
     "metadata": {},
     "output_type": "execute_result"
    }
   ],
   "source": [
    "# define as keras model\n",
    "pemb_model = Model(inputs = input_model, outputs = output_model)\n",
    "pemb_model"
   ]
  },
  {
   "cell_type": "code",
   "execution_count": 81,
   "metadata": {},
   "outputs": [
    {
     "data": {
      "text/plain": [
       "<keras.optimizers.Adam at 0x7f50a7f1bba8>"
      ]
     },
     "execution_count": 81,
     "metadata": {},
     "output_type": "execute_result"
    }
   ],
   "source": [
    "# optimizer\n",
    "adam = optimizers.Adam(lr = 0.01, beta_1 = 0.9, beta_2 = 0.999, epsilon = None, decay = 0.0, amsgrad = False)\n",
    "adam"
   ]
  },
  {
   "cell_type": "code",
   "execution_count": 82,
   "metadata": {},
   "outputs": [],
   "source": [
    "# compile model\n",
    "pemb_model.compile(optimizer = adam, loss = 'binary_crossentropy', metrics = ['acc'])"
   ]
  },
  {
   "cell_type": "code",
   "execution_count": 83,
   "metadata": {},
   "outputs": [
    {
     "name": "stdout",
     "output_type": "stream",
     "text": [
      "__________________________________________________________________________________________________\n",
      "Layer (type)                    Output Shape         Param #     Connected to                     \n",
      "==================================================================================================\n",
      "input_1 (InputLayer)            (None, 1)            0                                            \n",
      "__________________________________________________________________________________________________\n",
      "input_2 (InputLayer)            (None, 1)            0                                            \n",
      "__________________________________________________________________________________________________\n",
      "rho (Embedding)                 (None, 1, 100)       1000100     input_1[0][0]                    \n",
      "__________________________________________________________________________________________________\n",
      "alpha (Embedding)               (None, 1, 100)       1000100     input_2[0][0]                    \n",
      "__________________________________________________________________________________________________\n",
      "reshape_1 (Reshape)             (None, 100, 1)       0           rho[0][0]                        \n",
      "__________________________________________________________________________________________________\n",
      "reshape_2 (Reshape)             (None, 100, 1)       0           alpha[0][0]                      \n",
      "__________________________________________________________________________________________________\n",
      "dot_1 (Dot)                     (None, 1, 1)         0           reshape_1[0][0]                  \n",
      "                                                                 reshape_2[0][0]                  \n",
      "__________________________________________________________________________________________________\n",
      "flatten_1 (Flatten)             (None, 1)            0           dot_1[0][0]                      \n",
      "__________________________________________________________________________________________________\n",
      "dense_17 (Dense)                (None, 1)            2           flatten_1[0][0]                  \n",
      "==================================================================================================\n",
      "Total params: 2,000,202\n",
      "Trainable params: 2,000,202\n",
      "Non-trainable params: 0\n",
      "__________________________________________________________________________________________________\n"
     ]
    }
   ],
   "source": [
    "# model summary\n",
    "pemb_model.summary()"
   ]
  },
  {
   "cell_type": "markdown",
   "metadata": {},
   "source": [
    "# 3.4. Initial product embeddings"
   ]
  },
  {
   "cell_type": "code",
   "execution_count": 84,
   "metadata": {
    "scrolled": true
   },
   "outputs": [
    {
     "name": "stdout",
     "output_type": "stream",
     "text": [
      "(10001, 100)\n"
     ]
    }
   ],
   "source": [
    "# initial weights - rho\n",
    "init_alpha = pemb_model.get_layer(\"alpha\").get_weights()[0]\n",
    "print(init_alpha.shape)"
   ]
  },
  {
   "cell_type": "code",
   "execution_count": 85,
   "metadata": {},
   "outputs": [
    {
     "data": {
      "text/plain": [
       "array([ 0.01396752,  0.04156978,  0.03795952, -0.03450614, -0.00027385,\n",
       "       -0.01945266, -0.03408489,  0.0196605 ,  0.03481035,  0.01164661,\n",
       "       -0.04974243, -0.03630111, -0.03426971, -0.03839384, -0.02628209,\n",
       "       -0.04206166,  0.04662446,  0.04166479, -0.02273401, -0.00622407,\n",
       "       -0.01416024,  0.03651885, -0.0020854 ,  0.03966986, -0.02265095,\n",
       "       -0.04922067, -0.04435201,  0.01964731,  0.02408807,  0.00691281,\n",
       "       -0.01479412, -0.01455086,  0.04037869, -0.03519363,  0.04073881,\n",
       "        0.04219342, -0.0054436 ,  0.02560836,  0.0181165 ,  0.02373209,\n",
       "        0.02993318, -0.01196929,  0.00514738,  0.04815911, -0.02735537,\n",
       "       -0.0341379 ,  0.02923627, -0.01269622,  0.0153769 , -0.0118563 ,\n",
       "        0.045837  ,  0.04941133, -0.04322026, -0.01561184, -0.01133288,\n",
       "        0.01284652,  0.01725408,  0.03234245, -0.04316702, -0.02113215,\n",
       "       -0.01385704,  0.0161326 , -0.02426484, -0.02605627,  0.02884087,\n",
       "       -0.00625559,  0.0209449 ,  0.02591849, -0.04796488,  0.0375802 ,\n",
       "       -0.02917035, -0.00358745,  0.00471703,  0.03564927,  0.03071389,\n",
       "       -0.02276099,  0.02537781,  0.0042338 ,  0.03761337, -0.02616273,\n",
       "       -0.03846889, -0.04893804,  0.04638744, -0.04003183,  0.02487006,\n",
       "       -0.00253854, -0.00229711, -0.00218498, -0.03191061,  0.03607357,\n",
       "        0.04084942, -0.04194572,  0.04169247,  0.03269411, -0.01810501,\n",
       "        0.03477961,  0.02919399,  0.02021228,  0.04608012, -0.0437305 ],\n",
       "      dtype=float32)"
      ]
     },
     "execution_count": 85,
     "metadata": {},
     "output_type": "execute_result"
    }
   ],
   "source": [
    "# check the (random) initial embeddings for a product\n",
    "init_alpha[345]"
   ]
  },
  {
   "cell_type": "markdown",
   "metadata": {},
   "source": [
    "----"
   ]
  },
  {
   "cell_type": "markdown",
   "metadata": {},
   "source": [
    "# 4. Prepare batches for model"
   ]
  },
  {
   "cell_type": "code",
   "execution_count": 90,
   "metadata": {},
   "outputs": [],
   "source": [
    "# sampling table\n",
    "sampling_table = sequence.make_sampling_table(vocab_size)"
   ]
  },
  {
   "cell_type": "code",
   "execution_count": 91,
   "metadata": {},
   "outputs": [],
   "source": [
    "# context size and negative samples\n",
    "ns = 10.0\n",
    "cs = 5"
   ]
  },
  {
   "cell_type": "code",
   "execution_count": 92,
   "metadata": {},
   "outputs": [],
   "source": [
    "def BatchGenerator(training = True):\n",
    "    i = 0\n",
    "    while True:\n",
    "        if training:\n",
    "            order_data = random.sample(train_orders_ix, batch_size)\n",
    "        else:\n",
    "            order_data = random.sample(val_orders_ix, batch_size)\n",
    "        iv = []\n",
    "        dv =[]\n",
    "        for d in order_data:\n",
    "            couples, labels = skipgrams(d, vocabulary_size = vocab_size, window_size = cs,\n",
    "                                        negative_samples = ns, sampling_table = sampling_table)\n",
    "            iv = iv + couples\n",
    "            dv = dv + labels\n",
    "        i += 1\n",
    "        X = np.array(iv, dtype = \"int32\")\n",
    "        X = [X[:, 0], X[:, 1]]\n",
    "        yield X, dv"
   ]
  },
  {
   "cell_type": "code",
   "execution_count": 93,
   "metadata": {},
   "outputs": [],
   "source": [
    "# parameters\n",
    "batch_size = 64\n",
    "num_epochs = 1\n",
    "\n",
    "# training data generator\n",
    "train_gen = BatchGenerator(training = True)\n",
    "\n",
    "# validation data generator\n",
    "val_gen = BatchGenerator(training = False)\n",
    "\n",
    "# history\n",
    "history = History()"
   ]
  },
  {
   "cell_type": "markdown",
   "metadata": {},
   "source": [
    "----"
   ]
  },
  {
   "cell_type": "markdown",
   "metadata": {},
   "source": [
    "# 5. Train model\n",
    "### This could take a while"
   ]
  },
  {
   "cell_type": "code",
   "execution_count": null,
   "metadata": {},
   "outputs": [
    {
     "name": "stdout",
     "output_type": "stream",
     "text": [
      "Epoch 1/1\n",
      "15625/15625 [==============================] - 1022s 65ms/step - loss: 0.2114 - acc: 0.9242 - val_loss: 0.2083 - val_acc: 0.9246\n"
     ]
    }
   ],
   "source": [
    "# train model\n",
    "t0 = time.time()\n",
    "pemb_model.fit_generator(generator = train_gen, \n",
    "                         steps_per_epoch = len(train_orders_ix)//batch_size,\n",
    "                         epochs = num_epochs,\n",
    "                         workers = cpus, \n",
    "                         use_multiprocessing = True, \n",
    "                         validation_data = val_gen,\n",
    "                         validation_steps = len(val_orders_ix)//batch_size,\n",
    "                         callbacks = [history])\n",
    "t1 = time.time()"
   ]
  },
  {
   "cell_type": "code",
   "execution_count": null,
   "metadata": {},
   "outputs": [],
   "source": [
    "# time taken\n",
    "t1 - t0"
   ]
  },
  {
   "cell_type": "code",
   "execution_count": null,
   "metadata": {},
   "outputs": [],
   "source": [
    "# history\n",
    "history.history"
   ]
  },
  {
   "cell_type": "markdown",
   "metadata": {},
   "source": [
    "------"
   ]
  },
  {
   "cell_type": "markdown",
   "metadata": {},
   "source": [
    "# 6. Model results"
   ]
  },
  {
   "cell_type": "code",
   "execution_count": null,
   "metadata": {},
   "outputs": [],
   "source": [
    "# final weights - target words\n",
    "final_alpha = pemb_model.get_layer(\"alpha\").get_weights()[0]"
   ]
  },
  {
   "cell_type": "code",
   "execution_count": null,
   "metadata": {},
   "outputs": [],
   "source": [
    "init_alpha[61]"
   ]
  },
  {
   "cell_type": "code",
   "execution_count": null,
   "metadata": {},
   "outputs": [],
   "source": [
    "final_alpha[61]"
   ]
  },
  {
   "cell_type": "code",
   "execution_count": null,
   "metadata": {},
   "outputs": [],
   "source": [
    "#===============================================\n",
    "# extract embeddings to data frame\n",
    "#===============================================\n",
    "\n",
    "def EmbToDataFrame(ix_word, emb_mat, col_prefix = \"rho\"):\n",
    "    emb_df = {ix_word[i]: list(emb_mat[i]) for i in ix_word.keys()}\n",
    "    emb_df = pd.DataFrame.from_dict(emb_df, orient = \"columns\")\n",
    "    emb_df = emb_df.transpose().reset_index(drop = False)\n",
    "    emb_df.columns = [\"product_id\"] + [col_prefix + str(i + 1) for i in range(emb_df.shape[1] - 1)]\n",
    "    return emb_df"
   ]
  },
  {
   "cell_type": "code",
   "execution_count": null,
   "metadata": {},
   "outputs": [],
   "source": [
    "# get data frame from alpha matrix\n",
    "alpha_df = EmbToDataFrame(ix_word, emb_mat = final_alpha, col_prefix = \"alpha\")\n",
    "display(alpha_df.head())"
   ]
  },
  {
   "cell_type": "markdown",
   "metadata": {},
   "source": [
    "## 6.1. Compute similarity between products"
   ]
  },
  {
   "cell_type": "code",
   "execution_count": null,
   "metadata": {},
   "outputs": [],
   "source": [
    "#===============================================\n",
    "# similarity in alpha matrix\n",
    "#===============================================\n",
    "\n",
    "alpha_sim = cosine_similarity(alpha_df.iloc[:, 1:])\n",
    "alpha_sim = pd.DataFrame(alpha_sim)\n",
    "alpha_sim.reset_index(inplace = True, drop = True)\n",
    "alpha_sim.index = list(alpha_df[\"product_id\"].values)\n",
    "alpha_sim.columns = list(alpha_df[\"product_id\"].values)\n",
    "display(alpha_sim.head())"
   ]
  },
  {
   "cell_type": "code",
   "execution_count": null,
   "metadata": {},
   "outputs": [],
   "source": [
    "# compute similarity\n",
    "def ComputeProductSimilarity(prod_id, alpha_sim, top = 5, include_prod_info = True):\n",
    "    sim = alpha_sim.loc[:, prod_id]\n",
    "    sim = sim.sort_values(ascending = False)\n",
    "    sim = sim[1:][0:top]\n",
    "    sim = pd.DataFrame({\"product_id\" : list(sim.index), \"score\": sim}, index = None)\n",
    "    if include_prod_info:\n",
    "        sim = products.loc[products[\"product_id\"].isin(sim[\"product_id\"]), [\"product_id\", \"product_name\", \"aisle\", \"department\"]]\n",
    "    return sim"
   ]
  },
  {
   "cell_type": "code",
   "execution_count": null,
   "metadata": {},
   "outputs": [],
   "source": [
    "prod_id = \"100\"\n",
    "products.loc[products[\"product_id\"].isin([prod_id]), [\"product_id\", \"product_name\", \"aisle\", \"department\"]]"
   ]
  },
  {
   "cell_type": "code",
   "execution_count": null,
   "metadata": {},
   "outputs": [],
   "source": [
    "ComputeProductSimilarity(prod_id = prod_id, alpha_sim = alpha_sim, top = 10, include_prod_info = True)"
   ]
  },
  {
   "cell_type": "markdown",
   "metadata": {},
   "source": [
    "----"
   ]
  },
  {
   "cell_type": "markdown",
   "metadata": {},
   "source": [
    "### In-class exercise"
   ]
  },
  {
   "cell_type": "code",
   "execution_count": null,
   "metadata": {},
   "outputs": [],
   "source": [
    "# Find most similar products to the following product\n",
    "prod_id = \"927\"\n",
    "products.loc[products[\"product_id\"].isin([prod_id]), [\"product_id\", \"product_name\", \"aisle\", \"department\"]]"
   ]
  },
  {
   "cell_type": "markdown",
   "metadata": {},
   "source": [
    "----"
   ]
  },
  {
   "cell_type": "code",
   "execution_count": null,
   "metadata": {},
   "outputs": [],
   "source": [
    "# Find most similar products to the following product\n",
    "prod_id = \"9964\"\n",
    "products.loc[products[\"product_id\"].isin([prod_id]), [\"product_id\", \"product_name\", \"aisle\", \"department\"]]"
   ]
  },
  {
   "cell_type": "markdown",
   "metadata": {},
   "source": [
    "----"
   ]
  },
  {
   "cell_type": "markdown",
   "metadata": {},
   "source": [
    "--------"
   ]
  },
  {
   "cell_type": "markdown",
   "metadata": {},
   "source": [
    "# 7. Product maps using t-sne "
   ]
  },
  {
   "cell_type": "markdown",
   "metadata": {},
   "source": [
    "## Merge product vectors with product info"
   ]
  },
  {
   "cell_type": "code",
   "execution_count": null,
   "metadata": {},
   "outputs": [],
   "source": [
    "#===============================================\n",
    "# column formats\n",
    "#===============================================\n",
    "\n",
    "alpha_df[\"product_id\"] = alpha_df[\"product_id\"].astype(str)\n",
    "products[\"product_id\"] = products[\"product_id\"].astype(str)"
   ]
  },
  {
   "cell_type": "code",
   "execution_count": null,
   "metadata": {},
   "outputs": [],
   "source": [
    "#===============================================\n",
    "# merge relevant columns\n",
    "#===============================================\n",
    "\n",
    "# relevant columns from product info\n",
    "prod_info_cols = [\"product_id\", \"product_name\", \"department\", \"aisle\"]\n",
    "\n",
    "# merge\n",
    "word_vec_df = pd.merge(products[prod_info_cols], alpha_df, on = \"product_id\", how = \"inner\")\n",
    "print(word_vec_df.shape)"
   ]
  },
  {
   "cell_type": "code",
   "execution_count": null,
   "metadata": {},
   "outputs": [],
   "source": [
    "display(word_vec_df.head(10))"
   ]
  },
  {
   "cell_type": "markdown",
   "metadata": {},
   "source": [
    "## 9.1. Fit t-sne"
   ]
  },
  {
   "cell_type": "code",
   "execution_count": null,
   "metadata": {},
   "outputs": [],
   "source": [
    "#===============================================\n",
    "# fit t-sne\n",
    "#===============================================\n",
    "\n",
    "# define model\n",
    "tsne = TSNE(n_components = 2, verbose = 1, perplexity = 35, n_iter = 400)"
   ]
  },
  {
   "cell_type": "code",
   "execution_count": null,
   "metadata": {},
   "outputs": [],
   "source": [
    "# columns to fit on\n",
    "w2v_vec_names = list(word_vec_df.columns)[4:]\n",
    "\n",
    "# fit\n",
    "t0 = time.time()\n",
    "tsne_fit = tsne.fit_transform(word_vec_df[w2v_vec_names])\n",
    "t1 = time.time()"
   ]
  },
  {
   "cell_type": "code",
   "execution_count": null,
   "metadata": {},
   "outputs": [],
   "source": [
    "# time taken\n",
    "f\"Time Taken: {t1 - t0}\""
   ]
  },
  {
   "cell_type": "markdown",
   "metadata": {},
   "source": [
    "## T-sne component data frame"
   ]
  },
  {
   "cell_type": "code",
   "execution_count": null,
   "metadata": {},
   "outputs": [],
   "source": [
    "#===============================================\n",
    "# create t-sne data frame\n",
    "#===============================================\n",
    "\n",
    "tsne_df = word_vec_df[[\"product_name\", \"department\", \"aisle\"]]\n",
    "\n",
    "# extract t-sne dimensions\n",
    "tsne_df[\"x_tsne\"] = tsne_fit[:,0]\n",
    "tsne_df[\"y_tsne\"] = tsne_fit[:,1]\n",
    "print(tsne_df.describe())"
   ]
  },
  {
   "cell_type": "code",
   "execution_count": null,
   "metadata": {},
   "outputs": [],
   "source": [
    "display(tsne_df.head(20))"
   ]
  },
  {
   "cell_type": "markdown",
   "metadata": {},
   "source": [
    "## Plot with ggplot"
   ]
  },
  {
   "cell_type": "code",
   "execution_count": null,
   "metadata": {},
   "outputs": [],
   "source": [
    "#===============================================\n",
    "# subset data for plot\n",
    "#===============================================\n",
    "\n",
    "# select only top departments\n",
    "select_dept = [\"produce\", \"babies\", \"beverages\"]\n",
    "tsne_plot_df = tsne_df.loc[tsne_df[\"department\"].isin(select_dept), :]\n",
    "print(tsne_plot_df.shape)"
   ]
  },
  {
   "cell_type": "code",
   "execution_count": null,
   "metadata": {},
   "outputs": [],
   "source": [
    "tsne_plot = ggplot(tsne_plot_df, aes(x = \"x_tsne\", y = \"y_tsne\", color = \"department\") ) \\\n",
    "        + geom_point(size = 70, alpha = 0.5) \\\n",
    "        + ggtitle(\"T-sne on product vectors\") \\\n",
    "        + xlab(\" \") + ylab(\" \")\n",
    "tsne_plot"
   ]
  },
  {
   "cell_type": "markdown",
   "metadata": {},
   "source": [
    "----"
   ]
  },
  {
   "cell_type": "markdown",
   "metadata": {},
   "source": [
    "# Class exercise - training embeddings"
   ]
  },
  {
   "cell_type": "code",
   "execution_count": null,
   "metadata": {},
   "outputs": [],
   "source": [
    "# Please train embeddings with the following specifcations\n",
    "# embedding size = 50\n",
    "# negative samples = 12\n",
    "# context size = 8\n",
    "# optimizer = rmsprop\n",
    "# optimizer learning rate = 0.025\n",
    "# batch size = 128\n",
    "# epochs = 1"
   ]
  },
  {
   "cell_type": "code",
   "execution_count": null,
   "metadata": {},
   "outputs": [],
   "source": [
    "####### You are welcome to use the following skeleton code\n",
    "\n",
    "\n",
    "# define input layers\n",
    "input_target = Input((1,))\n",
    "input_context = Input((1,))\n",
    "\n",
    "# define embedding layers\n",
    "\n",
    "# target\n",
    "target = Embedding(input_dim = vocab_size, output_dim= emb_size, name = \"rho\")(input_target)\n",
    "target = Reshape(target_shape = (emb_size, 1))(target)\n",
    "\n",
    "# context\n",
    "context = Embedding(input_dim = vocab_size, output_dim= emb_size, name = \"alpha\")(input_context)\n",
    "context = Reshape(target_shape = (emb_size, 1))(context)\n",
    "\n",
    "# concatenate model inputs and outputs\n",
    "input_model = [input_target, input_context]\n",
    "\n",
    "output_embeddings = Dot(axes = 1)([target, context])\n",
    "output_embeddings\n",
    "\n",
    "# resize embeddings\n",
    "#output_model = Reshape((1,))(output_embeddings)\n",
    "output_model = Flatten()(output_embeddings)\n",
    "output_model\n",
    "\n",
    "# complete model\n",
    "output_model = Dense(1, activation = \"sigmoid\")(output_model)\n",
    "\n",
    "# define as keras model\n",
    "new_model = Model(inputs = input_model, outputs = output_model)\n",
    "\n",
    "# optimizer\n",
    "#### rmsprop\n",
    "\n",
    "# compile model\n",
    "# new_model.compile(optimizer = xxxx, loss = 'binary_crossentropy', metrics = ['acc'])\n",
    "\n",
    "# model summary\n",
    "# new_model.summary()"
   ]
  },
  {
   "cell_type": "code",
   "execution_count": null,
   "metadata": {},
   "outputs": [],
   "source": []
  },
  {
   "cell_type": "code",
   "execution_count": null,
   "metadata": {},
   "outputs": [],
   "source": []
  },
  {
   "cell_type": "code",
   "execution_count": null,
   "metadata": {},
   "outputs": [],
   "source": []
  }
 ],
 "metadata": {
  "kernelspec": {
   "display_name": "Python 3",
   "language": "python",
   "name": "python3"
  },
  "language_info": {
   "codemirror_mode": {
    "name": "ipython",
    "version": 3
   },
   "file_extension": ".py",
   "mimetype": "text/x-python",
   "name": "python",
   "nbconvert_exporter": "python",
   "pygments_lexer": "ipython3",
   "version": "3.6.7"
  }
 },
 "nbformat": 4,
 "nbformat_minor": 2
}
