{
 "cells": [
  {
   "cell_type": "markdown",
   "metadata": {},
   "source": [
    "# MIT-GSL Uruguay \n",
    "\n",
    "## January 2020"
   ]
  },
  {
   "cell_type": "markdown",
   "metadata": {},
   "source": [
    "-----"
   ]
  },
  {
   "cell_type": "markdown",
   "metadata": {},
   "source": [
    "# Week - 2 | Lesson - 04 \n",
    "# NLP: Product embeddings in Keras"
   ]
  },
  {
   "cell_type": "markdown",
   "metadata": {},
   "source": [
    "1. After introducing the concept of embeddings through NLP, we extend the notion of embeddings to other settings\n",
    "2. Note that embeddings are dense continuous representations for discrete, sparse tokens - this makes embeddings widely applicable\n",
    "3. We will use the concept of embeddings to understand the world of e-commerce better "
   ]
  },
  {
   "cell_type": "markdown",
   "metadata": {},
   "source": [
    "---"
   ]
  },
  {
   "cell_type": "markdown",
   "metadata": {},
   "source": [
    "# Word2Vec and its Applications to Market-Basket Data"
   ]
  },
  {
   "cell_type": "markdown",
   "metadata": {},
   "source": [
    "# Instacart Grocery Dataset\n",
    "\n",
    "### Source: https://www.instacart.com/datasets/grocery-shopping-2017\n",
    "\n",
    "1. Instacart is an online grocery delivery service\n",
    "2. They have made available 3M grocery orders for over 200K users\n",
    "3. They provide between 4 to 100 orders for each user and each order contains the sequence of products purchased\n",
    "4. We also have a brief description of the products\n",
    "\n",
    "### Overview:\n",
    "1. We will use this data to build an understanding of word embeddings and investigate their application to downstream tasks\n",
    "2. For this purpose, we will consider each purchase basket to be a sentence with an unordered sequence of words"
   ]
  },
  {
   "cell_type": "markdown",
   "metadata": {},
   "source": [
    "---"
   ]
  },
  {
   "cell_type": "markdown",
   "metadata": {},
   "source": [
    "# 0. Import Modules"
   ]
  },
  {
   "cell_type": "code",
   "execution_count": 1,
   "metadata": {},
   "outputs": [
    {
     "name": "stderr",
     "output_type": "stream",
     "text": [
      "[nltk_data] Downloading package punkt to /home/ubuntu/nltk_data...\n",
      "[nltk_data]   Unzipping tokenizers/punkt.zip.\n"
     ]
    },
    {
     "data": {
      "text/plain": [
       "True"
      ]
     },
     "execution_count": 1,
     "metadata": {},
     "output_type": "execute_result"
    }
   ],
   "source": [
    "# ==============================================\n",
    "# 0. Module imports\n",
    "# ==============================================\n",
    "\n",
    "import pandas as pd\n",
    "pd.options.display.max_colwidth = 100\n",
    "import numpy as np\n",
    "from itertools import product\n",
    "import csv\n",
    "import collections\n",
    "import random\n",
    "\n",
    "# w2v\n",
    "import gensim\n",
    "\n",
    "# text processing\n",
    "from nltk import sent_tokenize, word_tokenize\n",
    "from nltk.tokenize import ToktokTokenizer\n",
    "import string\n",
    "import re # regular expressions\n",
    "from sklearn.feature_extraction.text import CountVectorizer, TfidfVectorizer\n",
    "from sklearn.linear_model import LogisticRegression\n",
    "from sklearn.metrics import roc_auc_score\n",
    "from sklearn.metrics.pairwise import cosine_similarity\n",
    "\n",
    "# T-Sne\n",
    "#import umap\n",
    "#from openTSNE import TSNE, TSNEEmbedding, affinity, initialization\n",
    "#from openTSNE import initialization\n",
    "#from openTSNE.callbacks import ErrorLogger\n",
    "from sklearn.manifold import TSNE\n",
    "\n",
    "\n",
    "# utils\n",
    "from sklearn import utils\n",
    "\n",
    "\n",
    "# parallel processing\n",
    "import multiprocessing\n",
    "from joblib import delayed, Parallel\n",
    "\n",
    "# time code\n",
    "import time\n",
    "\n",
    "# 2-d visualiztion\n",
    "%matplotlib inline\n",
    "from ggplot import *\n",
    "import matplotlib.pyplot as plt\n",
    "import warnings\n",
    "warnings.filterwarnings(\"ignore\")\n",
    "\n",
    "import os\n",
    "\n",
    "import nltk\n",
    "nltk.download(\"punkt\")"
   ]
  },
  {
   "cell_type": "code",
   "execution_count": 2,
   "metadata": {},
   "outputs": [
    {
     "name": "stderr",
     "output_type": "stream",
     "text": [
      "Using TensorFlow backend.\n"
     ]
    }
   ],
   "source": [
    "# ===============================================\n",
    "# keras modules\n",
    "# ===============================================\n",
    "\n",
    "from keras.models import Model\n",
    "from keras.models import Sequential\n",
    "from keras.layers import Input, Dense, Reshape, merge, Flatten, Concatenate, Activation, Multiply\n",
    "from keras.layers.embeddings import Embedding\n",
    "from keras.layers.merge import dot\n",
    "from keras.layers.merge import Dot\n",
    "from keras.preprocessing.sequence import skipgrams\n",
    "from keras.preprocessing import sequence\n",
    "from keras.preprocessing.text import Tokenizer\n",
    "from keras import optimizers\n",
    "from keras.callbacks import History \n",
    "from keras import regularizers"
   ]
  },
  {
   "cell_type": "code",
   "execution_count": 3,
   "metadata": {},
   "outputs": [],
   "source": [
    "# =========================================================\n",
    "# set directories\n",
    "# =========================================================\n",
    "\n",
    "import os\n",
    "EC2 = True  # If using EC2 (for data directory/paths)\n",
    "\n",
    "# Select path based off of local or remote\n",
    "if not EC2:\n",
    "    wd = \"/pool001/madhavk/gsl-uruguay/W-02-NLP/\"\n",
    "else:\n",
    "    wd = \"/home/ubuntu/machine_learning_aws/\"\n",
    "os.chdir(wd)\n",
    "\n",
    "if not EC2:\n",
    "    # raw data\n",
    "    raw_data_dir = \"nlp-data/in-grocery/instacart_2017_05_01/\"\n",
    "    # processed data\n",
    "    process_dir = \"nlp-data/in-grocery/prepared-data/\"  \n",
    "else:\n",
    "    # raw data\n",
    "    raw_data_dir = \"data/in-grocery/instacart_2017_05_01\"\n",
    "    # processed data\n",
    "    process_dir = \"data/in-grocery/prepared-data/\""
   ]
  },
  {
   "cell_type": "code",
   "execution_count": 4,
   "metadata": {},
   "outputs": [
    {
     "data": {
      "text/plain": [
       "['orders-split-v1.csv',\n",
       " 'all-orders-wide-v1.csv',\n",
       " 'all-orders-long-v1.csv',\n",
       " 'products-merged-v1.csv']"
      ]
     },
     "execution_count": 4,
     "metadata": {},
     "output_type": "execute_result"
    }
   ],
   "source": [
    "#===============================================\n",
    "# processed files\n",
    "#===============================================\n",
    "os.listdir(process_dir)"
   ]
  },
  {
   "cell_type": "code",
   "execution_count": 5,
   "metadata": {},
   "outputs": [
    {
     "data": {
      "text/plain": [
       "'Number of CPUs: 4'"
      ]
     },
     "execution_count": 5,
     "metadata": {},
     "output_type": "execute_result"
    }
   ],
   "source": [
    "#===============================================\n",
    "# global parameters\n",
    "#===============================================\n",
    "\n",
    "# show entire value of cell in pandas\n",
    "pd.set_option('display.max_colwidth', -1)\n",
    "pd.set_option('display.max_columns', 500)\n",
    "\n",
    "# number of cpus\n",
    "cpus = multiprocessing.cpu_count()\n",
    "f\"Number of CPUs: {cpus}\""
   ]
  },
  {
   "cell_type": "markdown",
   "metadata": {},
   "source": [
    "---"
   ]
  },
  {
   "cell_type": "markdown",
   "metadata": {},
   "source": [
    "# 1. Prepare data"
   ]
  },
  {
   "cell_type": "code",
   "execution_count": 6,
   "metadata": {},
   "outputs": [],
   "source": [
    "# start pool process for parallel procressing\n",
    "pool = multiprocessing.Pool(processes = cpus)"
   ]
  },
  {
   "cell_type": "code",
   "execution_count": 7,
   "metadata": {},
   "outputs": [
    {
     "name": "stdout",
     "output_type": "stream",
     "text": [
      "(3152555, 4)\n",
      "(3346083, 7)\n",
      "(3152555, 5)\n",
      "(49688, 6)\n",
      "train size: (3075412, 5)\n",
      "val size: (38701, 5)\n",
      "test size: (38442, 5)\n",
      "(1000000, 5)\n",
      "1000000\n",
      "38701\n",
      "38442\n"
     ]
    }
   ],
   "source": [
    "# =========================================================\n",
    "# order-level data\n",
    "# =========================================================\n",
    "\n",
    "orders_wide = pd.read_csv(process_dir + \"all-orders-wide-v1.csv\")\n",
    "print(orders_wide.shape)\n",
    "\n",
    "# =========================================================\n",
    "# orders meta-data\n",
    "# =========================================================\n",
    "\n",
    "orders_meta = pd.read_csv(process_dir + \"orders-split-v1.csv\")\n",
    "print(orders_meta.shape)\n",
    "\n",
    "# =========================================================\n",
    "# merge orders-wide and orders-meta\n",
    "# =========================================================\n",
    "\n",
    "orders_wide.drop(labels = \"eval\", axis = 1, inplace = True)\n",
    "\n",
    "# merge\n",
    "orders_wide = pd.merge(orders_wide, orders_meta[[\"order_id\", \"user_id\", \"eval\"]],\n",
    "                       on = \"order_id\", how = \"left\")\n",
    "print(orders_wide.shape)\n",
    "\n",
    "# clear some space\n",
    "del orders_meta\n",
    "\n",
    "\n",
    "# product info data\n",
    "products = pd.read_csv(process_dir + \"products-merged-v1.csv\")\n",
    "print(products.shape)\n",
    "products[\"product_id\"] = products[\"product_id\"].astype(str)\n",
    "\n",
    "#===============================================\n",
    "# split train-val-test\n",
    "#===============================================\n",
    "\n",
    "train = orders_wide.loc[orders_wide[\"eval\"].isin([\"prior\", \"train\"]), :]\n",
    "val = orders_wide.loc[orders_wide[\"eval\"] == \"val\", :]\n",
    "test = orders_wide.loc[orders_wide[\"eval\"] == \"test\", :]\n",
    "print(\"train size:\", train.shape)\n",
    "print(\"val size:\", val.shape)\n",
    "print(\"test size:\", test.shape)\n",
    "\n",
    "# clear more space\n",
    "del orders_wide\n",
    "\n",
    "#===============================================\n",
    "# randomly sample training data\n",
    "#===============================================\n",
    "\n",
    "sample_size = 1000000\n",
    "train = train.sample(n = sample_size)\n",
    "train = train.reset_index(drop = True)\n",
    "print(train.shape)\n",
    "\n",
    "# training sentences\n",
    "t0 = time.time()\n",
    "train_orders = pool.map(word_tokenize, train[\"product_id\"])\n",
    "t1 = time.time()\n",
    "print(len(train_orders))\n",
    "\n",
    "# validation sentences\n",
    "t0 = time.time()\n",
    "val_orders = pool.map(word_tokenize, val[\"product_id\"])\n",
    "t1 = time.time()\n",
    "print(len(val_orders))\n",
    "\n",
    "# test sentences\n",
    "t0 = time.time()\n",
    "test_orders = pool.map(word_tokenize, test[\"product_id\"])\n",
    "t1 = time.time()\n",
    "print(len(test_orders))"
   ]
  },
  {
   "cell_type": "markdown",
   "metadata": {},
   "source": [
    "## Current state of data"
   ]
  },
  {
   "cell_type": "code",
   "execution_count": 8,
   "metadata": {},
   "outputs": [
    {
     "data": {
      "text/html": [
       "<div>\n",
       "<table border=\"1\" class=\"dataframe\">\n",
       "  <thead>\n",
       "    <tr style=\"text-align: right;\">\n",
       "      <th></th>\n",
       "      <th>order_id</th>\n",
       "      <th>product_id</th>\n",
       "      <th>num_products</th>\n",
       "      <th>user_id</th>\n",
       "      <th>eval</th>\n",
       "    </tr>\n",
       "  </thead>\n",
       "  <tbody>\n",
       "    <tr>\n",
       "      <th>0</th>\n",
       "      <td>2192735</td>\n",
       "      <td>5621 8021 13838 43194 890 19049 23288 29418 14858</td>\n",
       "      <td>9</td>\n",
       "      <td>93942</td>\n",
       "      <td>prior</td>\n",
       "    </tr>\n",
       "    <tr>\n",
       "      <th>1</th>\n",
       "      <td>3166178</td>\n",
       "      <td>19660 17948 13176 22935 5652 19057 24964 20734 2228 49156 17794 12935</td>\n",
       "      <td>12</td>\n",
       "      <td>165365</td>\n",
       "      <td>prior</td>\n",
       "    </tr>\n",
       "    <tr>\n",
       "      <th>2</th>\n",
       "      <td>2893045</td>\n",
       "      <td>19895 30305 47766 43122 19678 35992 38308</td>\n",
       "      <td>7</td>\n",
       "      <td>81131</td>\n",
       "      <td>prior</td>\n",
       "    </tr>\n",
       "    <tr>\n",
       "      <th>3</th>\n",
       "      <td>2502006</td>\n",
       "      <td>5068 15200</td>\n",
       "      <td>2</td>\n",
       "      <td>104148</td>\n",
       "      <td>prior</td>\n",
       "    </tr>\n",
       "    <tr>\n",
       "      <th>4</th>\n",
       "      <td>2201278</td>\n",
       "      <td>31635 7350 21903 43789 4799 47626 43465 24964 39411 36011 38456 17706 43772 6873 21616</td>\n",
       "      <td>15</td>\n",
       "      <td>113582</td>\n",
       "      <td>prior</td>\n",
       "    </tr>\n",
       "  </tbody>\n",
       "</table>\n",
       "</div>"
      ],
      "text/plain": [
       "   order_id  \\\n",
       "0  2192735    \n",
       "1  3166178    \n",
       "2  2893045    \n",
       "3  2502006    \n",
       "4  2201278    \n",
       "\n",
       "                                                                               product_id  \\\n",
       "0  5621 8021 13838 43194 890 19049 23288 29418 14858                                        \n",
       "1  19660 17948 13176 22935 5652 19057 24964 20734 2228 49156 17794 12935                    \n",
       "2  19895 30305 47766 43122 19678 35992 38308                                                \n",
       "3  5068 15200                                                                               \n",
       "4  31635 7350 21903 43789 4799 47626 43465 24964 39411 36011 38456 17706 43772 6873 21616   \n",
       "\n",
       "   num_products  user_id   eval  \n",
       "0  9             93942    prior  \n",
       "1  12            165365   prior  \n",
       "2  7             81131    prior  \n",
       "3  2             104148   prior  \n",
       "4  15            113582   prior  "
      ]
     },
     "metadata": {},
     "output_type": "display_data"
    }
   ],
   "source": [
    "display(train.head())"
   ]
  },
  {
   "cell_type": "code",
   "execution_count": 9,
   "metadata": {},
   "outputs": [
    {
     "data": {
      "text/plain": [
       "0    5621 8021 13838 43194 890 19049 23288 29418 14858                    \n",
       "1    19660 17948 13176 22935 5652 19057 24964 20734 2228 49156 17794 12935\n",
       "2    19895 30305 47766 43122 19678 35992 38308                            \n",
       "Name: product_id, dtype: object"
      ]
     },
     "execution_count": 9,
     "metadata": {},
     "output_type": "execute_result"
    }
   ],
   "source": [
    "train[\"product_id\"][0:3]"
   ]
  },
  {
   "cell_type": "code",
   "execution_count": 10,
   "metadata": {},
   "outputs": [
    {
     "data": {
      "text/plain": [
       "[['5621', '8021', '13838', '43194', '890', '19049', '23288', '29418', '14858'],\n",
       " ['19660',\n",
       "  '17948',\n",
       "  '13176',\n",
       "  '22935',\n",
       "  '5652',\n",
       "  '19057',\n",
       "  '24964',\n",
       "  '20734',\n",
       "  '2228',\n",
       "  '49156',\n",
       "  '17794',\n",
       "  '12935'],\n",
       " ['19895', '30305', '47766', '43122', '19678', '35992', '38308']]"
      ]
     },
     "execution_count": 10,
     "metadata": {},
     "output_type": "execute_result"
    }
   ],
   "source": [
    "train_orders[0:3]"
   ]
  },
  {
   "cell_type": "markdown",
   "metadata": {},
   "source": [
    "### In-class exercise"
   ]
  },
  {
   "cell_type": "code",
   "execution_count": 18,
   "metadata": {},
   "outputs": [
    {
     "data": {
      "text/html": [
       "<div>\n",
       "<table border=\"1\" class=\"dataframe\">\n",
       "  <thead>\n",
       "    <tr style=\"text-align: right;\">\n",
       "      <th></th>\n",
       "      <th>order_id</th>\n",
       "      <th>product_id</th>\n",
       "      <th>num_products</th>\n",
       "      <th>user_id</th>\n",
       "      <th>eval</th>\n",
       "    </tr>\n",
       "  </thead>\n",
       "  <tbody>\n",
       "    <tr>\n",
       "      <th>203</th>\n",
       "      <td>222</td>\n",
       "      <td>24852 47626 35522 21903 25043 8424 28204 45613 14267 25146 42768 49667 44765 38273 31343 38012 35510 46993</td>\n",
       "      <td>18</td>\n",
       "      <td>145501</td>\n",
       "      <td>val</td>\n",
       "    </tr>\n",
       "    <tr>\n",
       "      <th>441</th>\n",
       "      <td>485</td>\n",
       "      <td>9558 23296 33548 23106 44156 46817</td>\n",
       "      <td>6</td>\n",
       "      <td>124536</td>\n",
       "      <td>val</td>\n",
       "    </tr>\n",
       "    <tr>\n",
       "      <th>575</th>\n",
       "      <td>629</td>\n",
       "      <td>34126 30305 11895 46069 38419 16325 5912 4086 17794 8903 13070</td>\n",
       "      <td>11</td>\n",
       "      <td>3351</td>\n",
       "      <td>val</td>\n",
       "    </tr>\n",
       "  </tbody>\n",
       "</table>\n",
       "</div>"
      ],
      "text/plain": [
       "     order_id  \\\n",
       "203  222        \n",
       "441  485        \n",
       "575  629        \n",
       "\n",
       "                                                                                                     product_id  \\\n",
       "203  24852 47626 35522 21903 25043 8424 28204 45613 14267 25146 42768 49667 44765 38273 31343 38012 35510 46993   \n",
       "441  9558 23296 33548 23106 44156 46817                                                                           \n",
       "575  34126 30305 11895 46069 38419 16325 5912 4086 17794 8903 13070                                               \n",
       "\n",
       "     num_products  user_id eval  \n",
       "203  18            145501   val  \n",
       "441  6             124536   val  \n",
       "575  11            3351     val  "
      ]
     },
     "execution_count": 18,
     "metadata": {},
     "output_type": "execute_result"
    }
   ],
   "source": [
    "# Print the first 3 rows of val\n",
    "val[0:3]"
   ]
  },
  {
   "cell_type": "code",
   "execution_count": 16,
   "metadata": {},
   "outputs": [
    {
     "data": {
      "text/plain": [
       "[['24852',\n",
       "  '47626',\n",
       "  '35522',\n",
       "  '21903',\n",
       "  '25043',\n",
       "  '8424',\n",
       "  '28204',\n",
       "  '45613',\n",
       "  '14267',\n",
       "  '25146',\n",
       "  '42768',\n",
       "  '49667',\n",
       "  '44765',\n",
       "  '38273',\n",
       "  '31343',\n",
       "  '38012',\n",
       "  '35510',\n",
       "  '46993'],\n",
       " ['9558', '23296', '33548', '23106', '44156', '46817'],\n",
       " ['34126',\n",
       "  '30305',\n",
       "  '11895',\n",
       "  '46069',\n",
       "  '38419',\n",
       "  '16325',\n",
       "  '5912',\n",
       "  '4086',\n",
       "  '17794',\n",
       "  '8903',\n",
       "  '13070']]"
      ]
     },
     "execution_count": 16,
     "metadata": {},
     "output_type": "execute_result"
    }
   ],
   "source": [
    "# Print the first 3 elements of list val_orders\n",
    "val_orders[0:3]"
   ]
  },
  {
   "cell_type": "markdown",
   "metadata": {},
   "source": [
    "----"
   ]
  },
  {
   "cell_type": "markdown",
   "metadata": {},
   "source": [
    "# 2. Writing our own Word2Vec in Keras"
   ]
  },
  {
   "cell_type": "markdown",
   "metadata": {},
   "source": [
    "- We are now going to train product embeddings in Keras + Tensorflow\n",
    "- In order to this, we need to transform the data in a format that Keras/Tensorflow will accept"
   ]
  },
  {
   "cell_type": "markdown",
   "metadata": {},
   "source": [
    "## Tasks:\n",
    "### 1. Count frequency of all words in dataset\n",
    "     1.1. Used to sample words based on frequency\n",
    "### 2. Create word-to-index dictionary\n",
    "    2.1. The index for each word serves as a lookup value in the embedding matrix\n",
    "    2.2. The dictionary is created in order of frequency\n",
    "### 3. Convert entire dataset from a sequence of words to a sequences of indices"
   ]
  },
  {
   "cell_type": "markdown",
   "metadata": {},
   "source": [
    "---"
   ]
  },
  {
   "cell_type": "markdown",
   "metadata": {},
   "source": [
    "## 2.1. Count frequency of each word in vocabulary"
   ]
  },
  {
   "cell_type": "code",
   "execution_count": 19,
   "metadata": {},
   "outputs": [],
   "source": [
    "def WordFrequency(train_data, max_words = 10000):\n",
    "    '''\n",
    "    Assumes train data is a list of lists\n",
    "    '''\n",
    "    train_flat = [item for sublist in train_data for item in sublist] \n",
    "    count = [['UNK', -1]]\n",
    "    count.extend(collections.Counter(train_flat).most_common(max_words))\n",
    "    return count"
   ]
  },
  {
   "cell_type": "code",
   "execution_count": 20,
   "metadata": {
    "scrolled": true
   },
   "outputs": [
    {
     "data": {
      "text/plain": [
       "10001"
      ]
     },
     "execution_count": 20,
     "metadata": {},
     "output_type": "execute_result"
    }
   ],
   "source": [
    "# flatten train-orders to create one giant list\n",
    "word_freq = WordFrequency(train_data = train_orders)\n",
    "len(word_freq)"
   ]
  },
  {
   "cell_type": "code",
   "execution_count": 21,
   "metadata": {},
   "outputs": [
    {
     "data": {
      "text/plain": [
       "[['UNK', -1],\n",
       " ('24852', 155561),\n",
       " ('13176', 124088),\n",
       " ('21137', 87061),\n",
       " ('21903', 79805)]"
      ]
     },
     "execution_count": 21,
     "metadata": {},
     "output_type": "execute_result"
    }
   ],
   "source": [
    "# inspect\n",
    "word_freq[0:5]"
   ]
  },
  {
   "cell_type": "markdown",
   "metadata": {},
   "source": [
    "----"
   ]
  },
  {
   "cell_type": "markdown",
   "metadata": {},
   "source": [
    "## 2.2. Create Word-to-Index and Index-to-Word dictionaries\n",
    "### 2.2.1. These are used to create look-up embedding matrices\n",
    "### 2.2.2. They are ordered as per frequency of the corresponding word in the vocabulary"
   ]
  },
  {
   "cell_type": "code",
   "execution_count": 24,
   "metadata": {},
   "outputs": [],
   "source": [
    "# create word-index dictionary\n",
    "def Word2Index(word_count):\n",
    "    dictionary = dict()\n",
    "    for word, _ in word_count:\n",
    "        dictionary[word] = len(dictionary)\n",
    "    # index-word reveresed dictionary\n",
    "    reversed_dictionary = dict(zip(dictionary.values(), dictionary.keys()))\n",
    "    return dictionary, reversed_dictionary"
   ]
  },
  {
   "cell_type": "code",
   "execution_count": 25,
   "metadata": {},
   "outputs": [],
   "source": [
    "word_ix, ix_word = Word2Index(word_count = word_freq)"
   ]
  },
  {
   "cell_type": "code",
   "execution_count": 26,
   "metadata": {},
   "outputs": [
    {
     "data": {
      "text/plain": [
       "{'UNK': 0,\n",
       " '24852': 1,\n",
       " '13176': 2,\n",
       " '21137': 3,\n",
       " '21903': 4,\n",
       " '47209': 5,\n",
       " '47766': 6,\n",
       " '47626': 7,\n",
       " '16797': 8,\n",
       " '26209': 9,\n",
       " '27845': 10,\n",
       " '27966': 11,\n",
       " '22935': 12,\n",
       " '24964': 13,\n",
       " '45007': 14,\n",
       " '39275': 15,\n",
       " '49683': 16,\n",
       " '28204': 17,\n",
       " '5876': 18,\n",
       " '8277': 19,\n",
       " '40706': 20,\n",
       " '4920': 21,\n",
       " '30391': 22,\n",
       " '45066': 23,\n",
       " '42265': 24,\n",
       " '44632': 25,\n",
       " '49235': 26,\n",
       " '19057': 27,\n",
       " '4605': 28,\n",
       " '37646': 29,\n",
       " '21616': 30,\n",
       " '17794': 31,\n",
       " '27104': 32,\n",
       " '30489': 33,\n",
       " '31717': 34,\n",
       " '27086': 35,\n",
       " '44359': 36,\n",
       " '8518': 37,\n",
       " '46979': 38,\n",
       " '28985': 39,\n",
       " '41950': 40,\n",
       " '26604': 41,\n",
       " '5077': 42,\n",
       " '34126': 43,\n",
       " '22035': 44,\n",
       " '39877': 45,\n",
       " '35951': 46,\n",
       " '10749': 47,\n",
       " '43352': 48,\n",
       " '9076': 49,\n",
       " '43961': 50,\n",
       " '21938': 51,\n",
       " '24184': 52,\n",
       " '34969': 53,\n",
       " '19660': 54,\n",
       " '48679': 55,\n",
       " '46667': 56,\n",
       " '25890': 57,\n",
       " '31506': 58,\n",
       " '12341': 59,\n",
       " '39928': 60,\n",
       " '22825': 61,\n",
       " '5450': 62,\n",
       " '24838': 63,\n",
       " '5785': 64,\n",
       " '35221': 65,\n",
       " '28842': 66,\n",
       " '33731': 67,\n",
       " '8174': 68,\n",
       " '8424': 69,\n",
       " '27521': 70,\n",
       " '44142': 71,\n",
       " '20114': 72,\n",
       " '33198': 73,\n",
       " '27344': 74,\n",
       " '29487': 75,\n",
       " '11520': 76,\n",
       " '28199': 77,\n",
       " '46906': 78,\n",
       " '18465': 79,\n",
       " '15290': 80,\n",
       " '9839': 81,\n",
       " '27156': 82,\n",
       " '43122': 83,\n",
       " '3957': 84,\n",
       " '34358': 85,\n",
       " '23909': 86,\n",
       " '4799': 87,\n",
       " '16759': 88,\n",
       " '9387': 89,\n",
       " '42736': 90,\n",
       " '38689': 91,\n",
       " '41787': 92,\n",
       " '4210': 93,\n",
       " '41220': 94,\n",
       " '47144': 95,\n",
       " '7781': 96,\n",
       " '196': 97,\n",
       " '21709': 98,\n",
       " '33000': 99,\n",
       " '19678': 100,\n",
       " '20995': 101,\n",
       " '40604': 102,\n",
       " '30233': 103,\n",
       " '37687': 104,\n",
       " '34243': 105,\n",
       " '24489': 106,\n",
       " '432': 107,\n",
       " '42828': 108,\n",
       " '5479': 109,\n",
       " '42768': 110,\n",
       " '16185': 111,\n",
       " '33754': 112,\n",
       " '17948': 113,\n",
       " '6184': 114,\n",
       " '19348': 115,\n",
       " '14992': 116,\n",
       " '8193': 117,\n",
       " '26369': 118,\n",
       " '42585': 119,\n",
       " '14947': 120,\n",
       " '22963': 121,\n",
       " '28849': 122,\n",
       " '8021': 123,\n",
       " '1463': 124,\n",
       " '21405': 125,\n",
       " '46676': 126,\n",
       " '31343': 127,\n",
       " '11777': 128,\n",
       " '42701': 129,\n",
       " '25659': 130,\n",
       " '38293': 131,\n",
       " '41844': 132,\n",
       " '5025': 133,\n",
       " '39475': 134,\n",
       " '43789': 135,\n",
       " '36011': 136,\n",
       " '43295': 137,\n",
       " '20842': 138,\n",
       " '2295': 139,\n",
       " '32689': 140,\n",
       " '32655': 141,\n",
       " '46802': 142,\n",
       " '13870': 143,\n",
       " '25146': 144,\n",
       " '18531': 145,\n",
       " '5212': 146,\n",
       " '31553': 147,\n",
       " '36695': 148,\n",
       " '39408': 149,\n",
       " '24830': 150,\n",
       " '10246': 151,\n",
       " '260': 152,\n",
       " '38383': 153,\n",
       " '11182': 154,\n",
       " '43768': 155,\n",
       " '18362': 156,\n",
       " '18523': 157,\n",
       " '1940': 158,\n",
       " '21288': 159,\n",
       " '6046': 160,\n",
       " '44683': 161,\n",
       " '890': 162,\n",
       " '29987': 163,\n",
       " '38777': 164,\n",
       " '7948': 165,\n",
       " '38456': 166,\n",
       " '47734': 167,\n",
       " '44910': 168,\n",
       " '26620': 169,\n",
       " '23734': 170,\n",
       " '30450': 171,\n",
       " '43772': 172,\n",
       " '46969': 173,\n",
       " '38159': 174,\n",
       " '4957': 175,\n",
       " '44987': 176,\n",
       " '47672': 177,\n",
       " '16953': 178,\n",
       " '30776': 179,\n",
       " '35939': 180,\n",
       " '44422': 181,\n",
       " '26165': 182,\n",
       " '40310': 183,\n",
       " '28289': 184,\n",
       " '16349': 185,\n",
       " '2078': 186,\n",
       " '29447': 187,\n",
       " '14678': 188,\n",
       " '33787': 189,\n",
       " '48364': 190,\n",
       " '23375': 191,\n",
       " '19048': 192,\n",
       " '13984': 193,\n",
       " '32864': 194,\n",
       " '39812': 195,\n",
       " '33120': 196,\n",
       " '41290': 197,\n",
       " '17600': 198,\n",
       " '23165': 199,\n",
       " '37067': 200,\n",
       " '28465': 201,\n",
       " '31683': 202,\n",
       " '26940': 203,\n",
       " '8859': 204,\n",
       " '35108': 205,\n",
       " '37158': 206,\n",
       " '45': 207,\n",
       " '41665': 208,\n",
       " '40571': 209,\n",
       " '35547': 210,\n",
       " '43713': 211,\n",
       " '24799': 212,\n",
       " '26283': 213,\n",
       " '10132': 214,\n",
       " '10957': 215,\n",
       " '18370': 216,\n",
       " '40396': 217,\n",
       " '38739': 218,\n",
       " '3952': 219,\n",
       " '2086': 220,\n",
       " '2966': 221,\n",
       " '42342': 222,\n",
       " '13629': 223,\n",
       " '45535': 224,\n",
       " '25931': 225,\n",
       " '18027': 226,\n",
       " '1158': 227,\n",
       " '43154': 228,\n",
       " '15937': 229,\n",
       " '42450': 230,\n",
       " '7021': 231,\n",
       " '48745': 232,\n",
       " '20119': 233,\n",
       " '45633': 234,\n",
       " '21019': 235,\n",
       " '31040': 236,\n",
       " '30169': 237,\n",
       " '45603': 238,\n",
       " '48205': 239,\n",
       " '39619': 240,\n",
       " '34050': 241,\n",
       " '34448': 242,\n",
       " '17461': 243,\n",
       " '21267': 244,\n",
       " '38400': 245,\n",
       " '36865': 246,\n",
       " '32478': 247,\n",
       " '13646': 248,\n",
       " '14084': 249,\n",
       " '17872': 250,\n",
       " '40174': 251,\n",
       " '26790': 252,\n",
       " '5818': 253,\n",
       " '32734': 254,\n",
       " '46654': 255,\n",
       " '21376': 256,\n",
       " '39984': 257,\n",
       " '12206': 258,\n",
       " '33768': 259,\n",
       " '37766': 260,\n",
       " '6187': 261,\n",
       " '43086': 262,\n",
       " '42356': 263,\n",
       " '6348': 264,\n",
       " '5646': 265,\n",
       " '18441': 266,\n",
       " '39993': 267,\n",
       " '28934': 268,\n",
       " '329': 269,\n",
       " '6104': 270,\n",
       " '23288': 271,\n",
       " '25340': 272,\n",
       " '19508': 273,\n",
       " '48775': 274,\n",
       " '27336': 275,\n",
       " '10673': 276,\n",
       " '13829': 277,\n",
       " '651': 278,\n",
       " '39180': 279,\n",
       " '13535': 280,\n",
       " '47977': 281,\n",
       " '27695': 282,\n",
       " '40709': 283,\n",
       " '11782': 284,\n",
       " '10017': 285,\n",
       " '40545': 286,\n",
       " '28156': 287,\n",
       " '42244': 288,\n",
       " '6873': 289,\n",
       " '19677': 290,\n",
       " '36070': 291,\n",
       " '49383': 292,\n",
       " '13249': 293,\n",
       " '49520': 294,\n",
       " '49075': 295,\n",
       " '8571': 296,\n",
       " '24024': 297,\n",
       " '24561': 298,\n",
       " '17795': 299,\n",
       " '31915': 300,\n",
       " '16083': 301,\n",
       " '30720': 302,\n",
       " '35921': 303,\n",
       " '42445': 304,\n",
       " '8670': 305,\n",
       " '17122': 306,\n",
       " '21295': 307,\n",
       " '40199': 308,\n",
       " '17706': 309,\n",
       " '44449': 310,\n",
       " '25588': 311,\n",
       " '5194': 312,\n",
       " '1511': 313,\n",
       " '7963': 314,\n",
       " '20082': 315,\n",
       " '11422': 316,\n",
       " '35042': 317,\n",
       " '23537': 318,\n",
       " '42625': 319,\n",
       " '3599': 320,\n",
       " '33401': 321,\n",
       " '36550': 322,\n",
       " '35561': 323,\n",
       " '25466': 324,\n",
       " '15872': 325,\n",
       " '19019': 326,\n",
       " '14233': 327,\n",
       " '16965': 328,\n",
       " '2825': 329,\n",
       " '8048': 330,\n",
       " '13380': 331,\n",
       " '4562': 332,\n",
       " '30827': 333,\n",
       " '7751': 334,\n",
       " '40723': 335,\n",
       " '18288': 336,\n",
       " '9339': 337,\n",
       " '4472': 338,\n",
       " '22395': 339,\n",
       " '3376': 340,\n",
       " '46720': 341,\n",
       " '19706': 342,\n",
       " '35140': 343,\n",
       " '38164': 344,\n",
       " '21195': 345,\n",
       " '13740': 346,\n",
       " '15902': 347,\n",
       " '28993': 348,\n",
       " '40516': 349,\n",
       " '12916': 350,\n",
       " '13166': 351,\n",
       " '5134': 352,\n",
       " '10644': 353,\n",
       " '29662': 354,\n",
       " '3464': 355,\n",
       " '19691': 356,\n",
       " '38928': 357,\n",
       " '2855': 358,\n",
       " '4421': 359,\n",
       " '45200': 360,\n",
       " '39561': 361,\n",
       " '7175': 362,\n",
       " '46584': 363,\n",
       " '22124': 364,\n",
       " '5782': 365,\n",
       " '12456': 366,\n",
       " '44570': 367,\n",
       " '43662': 368,\n",
       " '35898': 369,\n",
       " '13575': 370,\n",
       " '40332': 371,\n",
       " '21174': 372,\n",
       " '33129': 373,\n",
       " '44765': 374,\n",
       " '13198': 375,\n",
       " '7503': 376,\n",
       " '7559': 377,\n",
       " '11408': 378,\n",
       " '32691': 379,\n",
       " '10070': 380,\n",
       " '45123': 381,\n",
       " '9092': 382,\n",
       " '37029': 383,\n",
       " '36735': 384,\n",
       " '23029': 385,\n",
       " '3896': 386,\n",
       " '18234': 387,\n",
       " '42719': 388,\n",
       " '20955': 389,\n",
       " '18918': 390,\n",
       " '47141': 391,\n",
       " '35628': 392,\n",
       " '44560': 393,\n",
       " '34262': 394,\n",
       " '37710': 395,\n",
       " '28745': 396,\n",
       " '25138': 397,\n",
       " '18811': 398,\n",
       " '5258': 399,\n",
       " '46820': 400,\n",
       " '1025': 401,\n",
       " '14197': 402,\n",
       " '32433': 403,\n",
       " '47042': 404,\n",
       " '39947': 405,\n",
       " '26384': 406,\n",
       " '21333': 407,\n",
       " '48628': 408,\n",
       " '11140': 409,\n",
       " '28476': 410,\n",
       " '41065': 411,\n",
       " '21292': 412,\n",
       " '1999': 413,\n",
       " '21573': 414,\n",
       " '17949': 415,\n",
       " '43504': 416,\n",
       " '46616': 417,\n",
       " '15613': 418,\n",
       " '24954': 419,\n",
       " '35503': 420,\n",
       " '35535': 421,\n",
       " '25824': 422,\n",
       " '27730': 423,\n",
       " '38273': 424,\n",
       " '27548': 425,\n",
       " '14161': 426,\n",
       " '37220': 427,\n",
       " '49175': 428,\n",
       " '44628': 429,\n",
       " '24841': 430,\n",
       " '47759': 431,\n",
       " '39190': 432,\n",
       " '38768': 433,\n",
       " '16696': 434,\n",
       " '31066': 435,\n",
       " '5456': 436,\n",
       " '8309': 437,\n",
       " '42110': 438,\n",
       " '15424': 439,\n",
       " '29307': 440,\n",
       " '1244': 441,\n",
       " '26800': 442,\n",
       " '11068': 443,\n",
       " '13517': 444,\n",
       " '9825': 445,\n",
       " '1194': 446,\n",
       " '27744': 447,\n",
       " '14462': 448,\n",
       " '15261': 449,\n",
       " '7969': 450,\n",
       " '28601': 451,\n",
       " '21386': 452,\n",
       " '11005': 453,\n",
       " '22474': 454,\n",
       " '2228': 455,\n",
       " '32177': 456,\n",
       " '9020': 457,\n",
       " '12980': 458,\n",
       " '13733': 459,\n",
       " '5373': 460,\n",
       " '41588': 461,\n",
       " '27325': 462,\n",
       " '21872': 463,\n",
       " '19173': 464,\n",
       " '4086': 465,\n",
       " '5322': 466,\n",
       " '16521': 467,\n",
       " '27796': 468,\n",
       " '27323': 469,\n",
       " '2452': 470,\n",
       " '18479': 471,\n",
       " '20734': 472,\n",
       " '26497': 473,\n",
       " '22849': 474,\n",
       " '20738': 475,\n",
       " '17316': 476,\n",
       " '36724': 477,\n",
       " '21927': 478,\n",
       " '5769': 479,\n",
       " '49191': 480,\n",
       " '2314': 481,\n",
       " '20345': 482,\n",
       " '12845': 483,\n",
       " '20574': 484,\n",
       " '35914': 485,\n",
       " '44799': 486,\n",
       " '41658': 487,\n",
       " '35887': 488,\n",
       " '33055': 489,\n",
       " '37524': 490,\n",
       " '4656': 491,\n",
       " '3298': 492,\n",
       " '22959': 493,\n",
       " '17758': 494,\n",
       " '5161': 495,\n",
       " '11712': 496,\n",
       " '34584': 497,\n",
       " '31720': 498,\n",
       " '47630': 499,\n",
       " '18926': 500,\n",
       " '11512': 501,\n",
       " '48697': 502,\n",
       " '15649': 503,\n",
       " '25513': 504,\n",
       " '21543': 505,\n",
       " '26348': 506,\n",
       " '5612': 507,\n",
       " '6740': 508,\n",
       " '40198': 509,\n",
       " '49131': 510,\n",
       " '23543': 511,\n",
       " '7500': 512,\n",
       " '44661': 513,\n",
       " '6948': 514,\n",
       " '44008': 515,\n",
       " '39108': 516,\n",
       " '45104': 517,\n",
       " '18963': 518,\n",
       " '30406': 519,\n",
       " '40377': 520,\n",
       " '36316': 521,\n",
       " '23516': 522,\n",
       " '18656': 523,\n",
       " '36082': 524,\n",
       " '12576': 525,\n",
       " '9755': 526,\n",
       " '12409': 527,\n",
       " '10305': 528,\n",
       " '31651': 529,\n",
       " '12872': 530,\n",
       " '30353': 531,\n",
       " '30639': 532,\n",
       " '46069': 533,\n",
       " '24221': 534,\n",
       " '32303': 535,\n",
       " '40063': 536,\n",
       " '31215': 537,\n",
       " '43129': 538,\n",
       " '29941': 539,\n",
       " '34668': 540,\n",
       " '6631': 541,\n",
       " '7628': 542,\n",
       " '32403': 543,\n",
       " '25640': 544,\n",
       " '2450': 545,\n",
       " '45504': 546,\n",
       " '28427': 547,\n",
       " '46842': 548,\n",
       " '47912': 549,\n",
       " '13838': 550,\n",
       " '30696': 551,\n",
       " '39581': 552,\n",
       " '26317': 553,\n",
       " '38996': 554,\n",
       " '35163': 555,\n",
       " '32747': 556,\n",
       " '48559': 557,\n",
       " '27690': 558,\n",
       " '25718': 559,\n",
       " '15392': 560,\n",
       " '5550': 561,\n",
       " '41149': 562,\n",
       " '31766': 563,\n",
       " '24009': 564,\n",
       " '28553': 565,\n",
       " '14715': 566,\n",
       " '43875': 567,\n",
       " '49533': 568,\n",
       " '13263': 569,\n",
       " '11759': 570,\n",
       " '25753': 571,\n",
       " '17652': 572,\n",
       " '36929': 573,\n",
       " '2091': 574,\n",
       " '10912': 575,\n",
       " '23236': 576,\n",
       " '11440': 577,\n",
       " '1529': 578,\n",
       " '45948': 579,\n",
       " '12099': 580,\n",
       " '22142': 581,\n",
       " '14218': 582,\n",
       " '18594': 583,\n",
       " '39558': 584,\n",
       " '43394': 585,\n",
       " '5652': 586,\n",
       " '31981': 587,\n",
       " '7156': 588,\n",
       " '38772': 589,\n",
       " '48395': 590,\n",
       " '24810': 591,\n",
       " '14129': 592,\n",
       " '47788': 593,\n",
       " '14852': 594,\n",
       " '42557': 595,\n",
       " '35004': 596,\n",
       " '29926': 597,\n",
       " '9515': 598,\n",
       " '14633': 599,\n",
       " '41400': 600,\n",
       " '34217': 601,\n",
       " '11576': 602,\n",
       " '4461': 603,\n",
       " '781': 604,\n",
       " '17284': 605,\n",
       " '46149': 606,\n",
       " '28928': 607,\n",
       " '10385': 608,\n",
       " '32465': 609,\n",
       " '14651': 610,\n",
       " '34466': 611,\n",
       " '10831': 612,\n",
       " '29675': 613,\n",
       " '32429': 614,\n",
       " '16616': 615,\n",
       " '40268': 616,\n",
       " '16254': 617,\n",
       " '4367': 618,\n",
       " '12276': 619,\n",
       " '36772': 620,\n",
       " '33043': 621,\n",
       " '2326': 622,\n",
       " '8138': 623,\n",
       " '7485': 624,\n",
       " '46886': 625,\n",
       " '31433': 626,\n",
       " '38200': 627,\n",
       " '311': 628,\n",
       " '2846': 629,\n",
       " '4793': 630,\n",
       " '5240': 631,\n",
       " '37065': 632,\n",
       " '20940': 633,\n",
       " '19816': 634,\n",
       " '5068': 635,\n",
       " '13292': 636,\n",
       " '47792': 637,\n",
       " '6489': 638,\n",
       " '17224': 639,\n",
       " '16145': 640,\n",
       " '29127': 641,\n",
       " '46522': 642,\n",
       " '44234': 643,\n",
       " '14901': 644,\n",
       " '3142': 645,\n",
       " '48104': 646,\n",
       " '19006': 647,\n",
       " '12745': 648,\n",
       " '34134': 649,\n",
       " '3583': 650,\n",
       " '37119': 651,\n",
       " '22025': 652,\n",
       " '8555': 653,\n",
       " '23405': 654,\n",
       " '1700': 655,\n",
       " '1408': 656,\n",
       " '9808': 657,\n",
       " '14870': 658,\n",
       " '17429': 659,\n",
       " '30305': 660,\n",
       " '39040': 661,\n",
       " '4942': 662,\n",
       " '44156': 663,\n",
       " '16262': 664,\n",
       " '33548': 665,\n",
       " '365': 666,\n",
       " '20580': 667,\n",
       " '2120': 668,\n",
       " '45646': 669,\n",
       " '42460': 670,\n",
       " '44479': 671,\n",
       " '10603': 672,\n",
       " '16617': 673,\n",
       " '3990': 674,\n",
       " '1090': 675,\n",
       " '48857': 676,\n",
       " '38890': 677,\n",
       " '38650': 678,\n",
       " '12384': 679,\n",
       " '40910': 680,\n",
       " '13083': 681,\n",
       " '42495': 682,\n",
       " '10504': 683,\n",
       " '7644': 684,\n",
       " '3481': 685,\n",
       " '28278': 686,\n",
       " '27243': 687,\n",
       " '34530': 688,\n",
       " '29370': 689,\n",
       " '26128': 690,\n",
       " '32566': 691,\n",
       " '31964': 692,\n",
       " '8479': 693,\n",
       " '8955': 694,\n",
       " '46692': 695,\n",
       " '45763': 696,\n",
       " '17835': 697,\n",
       " '23622': 698,\n",
       " '21009': 699,\n",
       " '14168': 700,\n",
       " '9337': 701,\n",
       " '31869': 702,\n",
       " '5460': 703,\n",
       " '7131': 704,\n",
       " '10621': 705,\n",
       " '39922': 706,\n",
       " '46226': 707,\n",
       " '23579': 708,\n",
       " '18880': 709,\n",
       " '24759': 710,\n",
       " '20754': 711,\n",
       " '2962': 712,\n",
       " '17616': 713,\n",
       " '12614': 714,\n",
       " '9124': 715,\n",
       " '36086': 716,\n",
       " '17341': 717,\n",
       " '6532': 718,\n",
       " '29553': 719,\n",
       " '36389': 720,\n",
       " '31759': 721,\n",
       " '9741': 722,\n",
       " '30442': 723,\n",
       " '28373': 724,\n",
       " '23765': 725,\n",
       " '45747': 726,\n",
       " '16823': 727,\n",
       " '19156': 728,\n",
       " '22504': 729,\n",
       " '16589': 730,\n",
       " '21417': 731,\n",
       " '49610': 732,\n",
       " '26131': 733,\n",
       " '25005': 734,\n",
       " '33716': 735,\n",
       " '28535': 736,\n",
       " '4724': 737,\n",
       " '41544': 738,\n",
       " '37825': 739,\n",
       " '17008': 740,\n",
       " '28123': 741,\n",
       " '45063': 742,\n",
       " '1215': 743,\n",
       " '33352': 744,\n",
       " '13431': 745,\n",
       " '2611': 746,\n",
       " '30949': 747,\n",
       " '24535': 748,\n",
       " '21614': 749,\n",
       " '8087': 750,\n",
       " '38944': 751,\n",
       " '38028': 752,\n",
       " '14467': 753,\n",
       " '33572': 754,\n",
       " '32455': 755,\n",
       " '10814': 756,\n",
       " '8230': 757,\n",
       " '24082': 758,\n",
       " '23233': 759,\n",
       " '48171': 760,\n",
       " '23341': 761,\n",
       " '13819': 762,\n",
       " '12606': 763,\n",
       " '6287': 764,\n",
       " '1559': 765,\n",
       " '17807': 766,\n",
       " '31562': 767,\n",
       " '24382': 768,\n",
       " '47029': 769,\n",
       " '19894': 770,\n",
       " '5449': 771,\n",
       " '40593': 772,\n",
       " '581': 773,\n",
       " '9366': 774,\n",
       " '3020': 775,\n",
       " '10032': 776,\n",
       " '11352': 777,\n",
       " '20632': 778,\n",
       " '43631': 779,\n",
       " '48595': 780,\n",
       " '18987': 781,\n",
       " '27360': 782,\n",
       " '4138': 783,\n",
       " '31805': 784,\n",
       " '35383': 785,\n",
       " '19003': 786,\n",
       " '17902': 787,\n",
       " '18382': 788,\n",
       " '7521': 789,\n",
       " '8490': 790,\n",
       " '47601': 791,\n",
       " '5337': 792,\n",
       " '34234': 793,\n",
       " '37011': 794,\n",
       " '11461': 795,\n",
       " '23801': 796,\n",
       " '39097': 797,\n",
       " '42803': 798,\n",
       " '15200': 799,\n",
       " '29594': 800,\n",
       " '17878': 801,\n",
       " '9421': 802,\n",
       " '17630': 803,\n",
       " '34': 804,\n",
       " '9550': 805,\n",
       " '31338': 806,\n",
       " '7916': 807,\n",
       " '41259': 808,\n",
       " '45570': 809,\n",
       " '19488': 810,\n",
       " '24010': 811,\n",
       " '18434': 812,\n",
       " '39121': 813,\n",
       " '29898': 814,\n",
       " '22888': 815,\n",
       " '11136': 816,\n",
       " '23296': 817,\n",
       " '35233': 818,\n",
       " '16290': 819,\n",
       " '41540': 820,\n",
       " '33290': 821,\n",
       " '46041': 822,\n",
       " '47866': 823,\n",
       " '6615': 824,\n",
       " '31371': 825,\n",
       " '2180': 826,\n",
       " '46900': 827,\n",
       " '25837': 828,\n",
       " '38656': 829,\n",
       " '46049': 830,\n",
       " '49247': 831,\n",
       " '14897': 832,\n",
       " '44514': 833,\n",
       " '7806': 834,\n",
       " '41319': 835,\n",
       " '14999': 836,\n",
       " '42240': 837,\n",
       " '44471': 838,\n",
       " '6347': 839,\n",
       " '19478': 840,\n",
       " '38544': 841,\n",
       " '248': 842,\n",
       " '28785': 843,\n",
       " '46650': 844,\n",
       " '2716': 845,\n",
       " '12427': 846,\n",
       " '33636': 847,\n",
       " '29615': 848,\n",
       " '34551': 849,\n",
       " '45013': 850,\n",
       " '43643': 851,\n",
       " '41593': 852,\n",
       " '22260': 853,\n",
       " '27307': 854,\n",
       " '5618': 855,\n",
       " '46061': 856,\n",
       " '21497': 857,\n",
       " '18599': 858,\n",
       " '23645': 859,\n",
       " '24390': 860,\n",
       " '10761': 861,\n",
       " '8239': 862,\n",
       " '47357': 863,\n",
       " '14778': 864,\n",
       " '4137': 865,\n",
       " '45681': 866,\n",
       " '49478': 867,\n",
       " '4962': 868,\n",
       " '8467': 869,\n",
       " '44375': 870,\n",
       " '5991': 871,\n",
       " '47890': 872,\n",
       " '47492': 873,\n",
       " '20899': 874,\n",
       " '23044': 875,\n",
       " '49111': 876,\n",
       " '44292': 877,\n",
       " '18019': 878,\n",
       " '4006': 879,\n",
       " '30480': 880,\n",
       " '47526': 881,\n",
       " '31663': 882,\n",
       " '13712': 883,\n",
       " '19049': 884,\n",
       " '9327': 885,\n",
       " '11941': 886,\n",
       " '25133': 887,\n",
       " '3849': 888,\n",
       " '36127': 889,\n",
       " '45106': 890,\n",
       " '4149': 891,\n",
       " '38274': 892,\n",
       " '28986': 893,\n",
       " '5031': 894,\n",
       " '13802': 895,\n",
       " '33846': 896,\n",
       " '40002': 897,\n",
       " '31927': 898,\n",
       " '41276': 899,\n",
       " '44310': 900,\n",
       " '47087': 901,\n",
       " '20520': 902,\n",
       " '25544': 903,\n",
       " '5959': 904,\n",
       " '18564': 905,\n",
       " '23554': 906,\n",
       " '48057': 907,\n",
       " '12312': 908,\n",
       " '48726': 909,\n",
       " '1695': 910,\n",
       " '40348': 911,\n",
       " '25705': 912,\n",
       " '38444': 913,\n",
       " '41273': 914,\n",
       " '10473': 915,\n",
       " '26914': 916,\n",
       " '26047': 917,\n",
       " '27683': 918,\n",
       " '7054': 919,\n",
       " '13852': 920,\n",
       " '46346': 921,\n",
       " '22151': 922,\n",
       " '33065': 923,\n",
       " '17027': 924,\n",
       " '24850': 925,\n",
       " '45064': 926,\n",
       " '3999': 927,\n",
       " '46206': 928,\n",
       " '8736': 929,\n",
       " '28597': 930,\n",
       " '20583': 931,\n",
       " '46175': 932,\n",
       " '35168': 933,\n",
       " '10369': 934,\n",
       " '49215': 935,\n",
       " '49605': 936,\n",
       " '26882': 937,\n",
       " '28851': 938,\n",
       " '43867': 939,\n",
       " '37464': 940,\n",
       " '41757': 941,\n",
       " '26648': 942,\n",
       " '35336': 943,\n",
       " '32650': 944,\n",
       " '11123': 945,\n",
       " '16283': 946,\n",
       " '14332': 947,\n",
       " '16249': 948,\n",
       " '13113': 949,\n",
       " '18352': 950,\n",
       " '4796': 951,\n",
       " '5491': 952,\n",
       " '7952': 953,\n",
       " '32740': 954,\n",
       " '25197': 955,\n",
       " '12254': 956,\n",
       " '38312': 957,\n",
       " '34024': 958,\n",
       " '20919': 959,\n",
       " '47877': 960,\n",
       " '45866': 961,\n",
       " '31635': 962,\n",
       " '10106': 963,\n",
       " '46990': 964,\n",
       " '13702': 965,\n",
       " '7746': 966,\n",
       " '19068': 967,\n",
       " '22556': 968,\n",
       " '9623': 969,\n",
       " '20378': 970,\n",
       " '3339': 971,\n",
       " '46088': 972,\n",
       " '10326': 973,\n",
       " '40229': 974,\n",
       " '2480': 975,\n",
       " '26172': 976,\n",
       " '12797': 977,\n",
       " '9018': 978,\n",
       " '9598': 979,\n",
       " '21162': 980,\n",
       " '39216': 981,\n",
       " '12545': 982,\n",
       " '31640': 983,\n",
       " '13885': 984,\n",
       " '5250': 985,\n",
       " '4945': 986,\n",
       " '33452': 987,\n",
       " '43014': 988,\n",
       " '23339': 989,\n",
       " '13966': 990,\n",
       " '26629': 991,\n",
       " '8153': 992,\n",
       " '1468': 993,\n",
       " '30561': 994,\n",
       " '2361': 995,\n",
       " '18670': 996,\n",
       " '25256': 997,\n",
       " '12572': 998,\n",
       " '32578': 999,\n",
       " ...}"
      ]
     },
     "execution_count": 26,
     "metadata": {},
     "output_type": "execute_result"
    }
   ],
   "source": [
    "word_ix"
   ]
  },
  {
   "cell_type": "code",
   "execution_count": 27,
   "metadata": {},
   "outputs": [
    {
     "data": {
      "text/plain": [
       "{0: 'UNK',\n",
       " 1: '24852',\n",
       " 2: '13176',\n",
       " 3: '21137',\n",
       " 4: '21903',\n",
       " 5: '47209',\n",
       " 6: '47766',\n",
       " 7: '47626',\n",
       " 8: '16797',\n",
       " 9: '26209',\n",
       " 10: '27845',\n",
       " 11: '27966',\n",
       " 12: '22935',\n",
       " 13: '24964',\n",
       " 14: '45007',\n",
       " 15: '39275',\n",
       " 16: '49683',\n",
       " 17: '28204',\n",
       " 18: '5876',\n",
       " 19: '8277',\n",
       " 20: '40706',\n",
       " 21: '4920',\n",
       " 22: '30391',\n",
       " 23: '45066',\n",
       " 24: '42265',\n",
       " 25: '44632',\n",
       " 26: '49235',\n",
       " 27: '19057',\n",
       " 28: '4605',\n",
       " 29: '37646',\n",
       " 30: '21616',\n",
       " 31: '17794',\n",
       " 32: '27104',\n",
       " 33: '30489',\n",
       " 34: '31717',\n",
       " 35: '27086',\n",
       " 36: '44359',\n",
       " 37: '8518',\n",
       " 38: '46979',\n",
       " 39: '28985',\n",
       " 40: '41950',\n",
       " 41: '26604',\n",
       " 42: '5077',\n",
       " 43: '34126',\n",
       " 44: '22035',\n",
       " 45: '39877',\n",
       " 46: '35951',\n",
       " 47: '10749',\n",
       " 48: '43352',\n",
       " 49: '9076',\n",
       " 50: '43961',\n",
       " 51: '21938',\n",
       " 52: '24184',\n",
       " 53: '34969',\n",
       " 54: '19660',\n",
       " 55: '48679',\n",
       " 56: '46667',\n",
       " 57: '25890',\n",
       " 58: '31506',\n",
       " 59: '12341',\n",
       " 60: '39928',\n",
       " 61: '22825',\n",
       " 62: '5450',\n",
       " 63: '24838',\n",
       " 64: '5785',\n",
       " 65: '35221',\n",
       " 66: '28842',\n",
       " 67: '33731',\n",
       " 68: '8174',\n",
       " 69: '8424',\n",
       " 70: '27521',\n",
       " 71: '44142',\n",
       " 72: '20114',\n",
       " 73: '33198',\n",
       " 74: '27344',\n",
       " 75: '29487',\n",
       " 76: '11520',\n",
       " 77: '28199',\n",
       " 78: '46906',\n",
       " 79: '18465',\n",
       " 80: '15290',\n",
       " 81: '9839',\n",
       " 82: '27156',\n",
       " 83: '43122',\n",
       " 84: '3957',\n",
       " 85: '34358',\n",
       " 86: '23909',\n",
       " 87: '4799',\n",
       " 88: '16759',\n",
       " 89: '9387',\n",
       " 90: '42736',\n",
       " 91: '38689',\n",
       " 92: '41787',\n",
       " 93: '4210',\n",
       " 94: '41220',\n",
       " 95: '47144',\n",
       " 96: '7781',\n",
       " 97: '196',\n",
       " 98: '21709',\n",
       " 99: '33000',\n",
       " 100: '19678',\n",
       " 101: '20995',\n",
       " 102: '40604',\n",
       " 103: '30233',\n",
       " 104: '37687',\n",
       " 105: '34243',\n",
       " 106: '24489',\n",
       " 107: '432',\n",
       " 108: '42828',\n",
       " 109: '5479',\n",
       " 110: '42768',\n",
       " 111: '16185',\n",
       " 112: '33754',\n",
       " 113: '17948',\n",
       " 114: '6184',\n",
       " 115: '19348',\n",
       " 116: '14992',\n",
       " 117: '8193',\n",
       " 118: '26369',\n",
       " 119: '42585',\n",
       " 120: '14947',\n",
       " 121: '22963',\n",
       " 122: '28849',\n",
       " 123: '8021',\n",
       " 124: '1463',\n",
       " 125: '21405',\n",
       " 126: '46676',\n",
       " 127: '31343',\n",
       " 128: '11777',\n",
       " 129: '42701',\n",
       " 130: '25659',\n",
       " 131: '38293',\n",
       " 132: '41844',\n",
       " 133: '5025',\n",
       " 134: '39475',\n",
       " 135: '43789',\n",
       " 136: '36011',\n",
       " 137: '43295',\n",
       " 138: '20842',\n",
       " 139: '2295',\n",
       " 140: '32689',\n",
       " 141: '32655',\n",
       " 142: '46802',\n",
       " 143: '13870',\n",
       " 144: '25146',\n",
       " 145: '18531',\n",
       " 146: '5212',\n",
       " 147: '31553',\n",
       " 148: '36695',\n",
       " 149: '39408',\n",
       " 150: '24830',\n",
       " 151: '10246',\n",
       " 152: '260',\n",
       " 153: '38383',\n",
       " 154: '11182',\n",
       " 155: '43768',\n",
       " 156: '18362',\n",
       " 157: '18523',\n",
       " 158: '1940',\n",
       " 159: '21288',\n",
       " 160: '6046',\n",
       " 161: '44683',\n",
       " 162: '890',\n",
       " 163: '29987',\n",
       " 164: '38777',\n",
       " 165: '7948',\n",
       " 166: '38456',\n",
       " 167: '47734',\n",
       " 168: '44910',\n",
       " 169: '26620',\n",
       " 170: '23734',\n",
       " 171: '30450',\n",
       " 172: '43772',\n",
       " 173: '46969',\n",
       " 174: '38159',\n",
       " 175: '4957',\n",
       " 176: '44987',\n",
       " 177: '47672',\n",
       " 178: '16953',\n",
       " 179: '30776',\n",
       " 180: '35939',\n",
       " 181: '44422',\n",
       " 182: '26165',\n",
       " 183: '40310',\n",
       " 184: '28289',\n",
       " 185: '16349',\n",
       " 186: '2078',\n",
       " 187: '29447',\n",
       " 188: '14678',\n",
       " 189: '33787',\n",
       " 190: '48364',\n",
       " 191: '23375',\n",
       " 192: '19048',\n",
       " 193: '13984',\n",
       " 194: '32864',\n",
       " 195: '39812',\n",
       " 196: '33120',\n",
       " 197: '41290',\n",
       " 198: '17600',\n",
       " 199: '23165',\n",
       " 200: '37067',\n",
       " 201: '28465',\n",
       " 202: '31683',\n",
       " 203: '26940',\n",
       " 204: '8859',\n",
       " 205: '35108',\n",
       " 206: '37158',\n",
       " 207: '45',\n",
       " 208: '41665',\n",
       " 209: '40571',\n",
       " 210: '35547',\n",
       " 211: '43713',\n",
       " 212: '24799',\n",
       " 213: '26283',\n",
       " 214: '10132',\n",
       " 215: '10957',\n",
       " 216: '18370',\n",
       " 217: '40396',\n",
       " 218: '38739',\n",
       " 219: '3952',\n",
       " 220: '2086',\n",
       " 221: '2966',\n",
       " 222: '42342',\n",
       " 223: '13629',\n",
       " 224: '45535',\n",
       " 225: '25931',\n",
       " 226: '18027',\n",
       " 227: '1158',\n",
       " 228: '43154',\n",
       " 229: '15937',\n",
       " 230: '42450',\n",
       " 231: '7021',\n",
       " 232: '48745',\n",
       " 233: '20119',\n",
       " 234: '45633',\n",
       " 235: '21019',\n",
       " 236: '31040',\n",
       " 237: '30169',\n",
       " 238: '45603',\n",
       " 239: '48205',\n",
       " 240: '39619',\n",
       " 241: '34050',\n",
       " 242: '34448',\n",
       " 243: '17461',\n",
       " 244: '21267',\n",
       " 245: '38400',\n",
       " 246: '36865',\n",
       " 247: '32478',\n",
       " 248: '13646',\n",
       " 249: '14084',\n",
       " 250: '17872',\n",
       " 251: '40174',\n",
       " 252: '26790',\n",
       " 253: '5818',\n",
       " 254: '32734',\n",
       " 255: '46654',\n",
       " 256: '21376',\n",
       " 257: '39984',\n",
       " 258: '12206',\n",
       " 259: '33768',\n",
       " 260: '37766',\n",
       " 261: '6187',\n",
       " 262: '43086',\n",
       " 263: '42356',\n",
       " 264: '6348',\n",
       " 265: '5646',\n",
       " 266: '18441',\n",
       " 267: '39993',\n",
       " 268: '28934',\n",
       " 269: '329',\n",
       " 270: '6104',\n",
       " 271: '23288',\n",
       " 272: '25340',\n",
       " 273: '19508',\n",
       " 274: '48775',\n",
       " 275: '27336',\n",
       " 276: '10673',\n",
       " 277: '13829',\n",
       " 278: '651',\n",
       " 279: '39180',\n",
       " 280: '13535',\n",
       " 281: '47977',\n",
       " 282: '27695',\n",
       " 283: '40709',\n",
       " 284: '11782',\n",
       " 285: '10017',\n",
       " 286: '40545',\n",
       " 287: '28156',\n",
       " 288: '42244',\n",
       " 289: '6873',\n",
       " 290: '19677',\n",
       " 291: '36070',\n",
       " 292: '49383',\n",
       " 293: '13249',\n",
       " 294: '49520',\n",
       " 295: '49075',\n",
       " 296: '8571',\n",
       " 297: '24024',\n",
       " 298: '24561',\n",
       " 299: '17795',\n",
       " 300: '31915',\n",
       " 301: '16083',\n",
       " 302: '30720',\n",
       " 303: '35921',\n",
       " 304: '42445',\n",
       " 305: '8670',\n",
       " 306: '17122',\n",
       " 307: '21295',\n",
       " 308: '40199',\n",
       " 309: '17706',\n",
       " 310: '44449',\n",
       " 311: '25588',\n",
       " 312: '5194',\n",
       " 313: '1511',\n",
       " 314: '7963',\n",
       " 315: '20082',\n",
       " 316: '11422',\n",
       " 317: '35042',\n",
       " 318: '23537',\n",
       " 319: '42625',\n",
       " 320: '3599',\n",
       " 321: '33401',\n",
       " 322: '36550',\n",
       " 323: '35561',\n",
       " 324: '25466',\n",
       " 325: '15872',\n",
       " 326: '19019',\n",
       " 327: '14233',\n",
       " 328: '16965',\n",
       " 329: '2825',\n",
       " 330: '8048',\n",
       " 331: '13380',\n",
       " 332: '4562',\n",
       " 333: '30827',\n",
       " 334: '7751',\n",
       " 335: '40723',\n",
       " 336: '18288',\n",
       " 337: '9339',\n",
       " 338: '4472',\n",
       " 339: '22395',\n",
       " 340: '3376',\n",
       " 341: '46720',\n",
       " 342: '19706',\n",
       " 343: '35140',\n",
       " 344: '38164',\n",
       " 345: '21195',\n",
       " 346: '13740',\n",
       " 347: '15902',\n",
       " 348: '28993',\n",
       " 349: '40516',\n",
       " 350: '12916',\n",
       " 351: '13166',\n",
       " 352: '5134',\n",
       " 353: '10644',\n",
       " 354: '29662',\n",
       " 355: '3464',\n",
       " 356: '19691',\n",
       " 357: '38928',\n",
       " 358: '2855',\n",
       " 359: '4421',\n",
       " 360: '45200',\n",
       " 361: '39561',\n",
       " 362: '7175',\n",
       " 363: '46584',\n",
       " 364: '22124',\n",
       " 365: '5782',\n",
       " 366: '12456',\n",
       " 367: '44570',\n",
       " 368: '43662',\n",
       " 369: '35898',\n",
       " 370: '13575',\n",
       " 371: '40332',\n",
       " 372: '21174',\n",
       " 373: '33129',\n",
       " 374: '44765',\n",
       " 375: '13198',\n",
       " 376: '7503',\n",
       " 377: '7559',\n",
       " 378: '11408',\n",
       " 379: '32691',\n",
       " 380: '10070',\n",
       " 381: '45123',\n",
       " 382: '9092',\n",
       " 383: '37029',\n",
       " 384: '36735',\n",
       " 385: '23029',\n",
       " 386: '3896',\n",
       " 387: '18234',\n",
       " 388: '42719',\n",
       " 389: '20955',\n",
       " 390: '18918',\n",
       " 391: '47141',\n",
       " 392: '35628',\n",
       " 393: '44560',\n",
       " 394: '34262',\n",
       " 395: '37710',\n",
       " 396: '28745',\n",
       " 397: '25138',\n",
       " 398: '18811',\n",
       " 399: '5258',\n",
       " 400: '46820',\n",
       " 401: '1025',\n",
       " 402: '14197',\n",
       " 403: '32433',\n",
       " 404: '47042',\n",
       " 405: '39947',\n",
       " 406: '26384',\n",
       " 407: '21333',\n",
       " 408: '48628',\n",
       " 409: '11140',\n",
       " 410: '28476',\n",
       " 411: '41065',\n",
       " 412: '21292',\n",
       " 413: '1999',\n",
       " 414: '21573',\n",
       " 415: '17949',\n",
       " 416: '43504',\n",
       " 417: '46616',\n",
       " 418: '15613',\n",
       " 419: '24954',\n",
       " 420: '35503',\n",
       " 421: '35535',\n",
       " 422: '25824',\n",
       " 423: '27730',\n",
       " 424: '38273',\n",
       " 425: '27548',\n",
       " 426: '14161',\n",
       " 427: '37220',\n",
       " 428: '49175',\n",
       " 429: '44628',\n",
       " 430: '24841',\n",
       " 431: '47759',\n",
       " 432: '39190',\n",
       " 433: '38768',\n",
       " 434: '16696',\n",
       " 435: '31066',\n",
       " 436: '5456',\n",
       " 437: '8309',\n",
       " 438: '42110',\n",
       " 439: '15424',\n",
       " 440: '29307',\n",
       " 441: '1244',\n",
       " 442: '26800',\n",
       " 443: '11068',\n",
       " 444: '13517',\n",
       " 445: '9825',\n",
       " 446: '1194',\n",
       " 447: '27744',\n",
       " 448: '14462',\n",
       " 449: '15261',\n",
       " 450: '7969',\n",
       " 451: '28601',\n",
       " 452: '21386',\n",
       " 453: '11005',\n",
       " 454: '22474',\n",
       " 455: '2228',\n",
       " 456: '32177',\n",
       " 457: '9020',\n",
       " 458: '12980',\n",
       " 459: '13733',\n",
       " 460: '5373',\n",
       " 461: '41588',\n",
       " 462: '27325',\n",
       " 463: '21872',\n",
       " 464: '19173',\n",
       " 465: '4086',\n",
       " 466: '5322',\n",
       " 467: '16521',\n",
       " 468: '27796',\n",
       " 469: '27323',\n",
       " 470: '2452',\n",
       " 471: '18479',\n",
       " 472: '20734',\n",
       " 473: '26497',\n",
       " 474: '22849',\n",
       " 475: '20738',\n",
       " 476: '17316',\n",
       " 477: '36724',\n",
       " 478: '21927',\n",
       " 479: '5769',\n",
       " 480: '49191',\n",
       " 481: '2314',\n",
       " 482: '20345',\n",
       " 483: '12845',\n",
       " 484: '20574',\n",
       " 485: '35914',\n",
       " 486: '44799',\n",
       " 487: '41658',\n",
       " 488: '35887',\n",
       " 489: '33055',\n",
       " 490: '37524',\n",
       " 491: '4656',\n",
       " 492: '3298',\n",
       " 493: '22959',\n",
       " 494: '17758',\n",
       " 495: '5161',\n",
       " 496: '11712',\n",
       " 497: '34584',\n",
       " 498: '31720',\n",
       " 499: '47630',\n",
       " 500: '18926',\n",
       " 501: '11512',\n",
       " 502: '48697',\n",
       " 503: '15649',\n",
       " 504: '25513',\n",
       " 505: '21543',\n",
       " 506: '26348',\n",
       " 507: '5612',\n",
       " 508: '6740',\n",
       " 509: '40198',\n",
       " 510: '49131',\n",
       " 511: '23543',\n",
       " 512: '7500',\n",
       " 513: '44661',\n",
       " 514: '6948',\n",
       " 515: '44008',\n",
       " 516: '39108',\n",
       " 517: '45104',\n",
       " 518: '18963',\n",
       " 519: '30406',\n",
       " 520: '40377',\n",
       " 521: '36316',\n",
       " 522: '23516',\n",
       " 523: '18656',\n",
       " 524: '36082',\n",
       " 525: '12576',\n",
       " 526: '9755',\n",
       " 527: '12409',\n",
       " 528: '10305',\n",
       " 529: '31651',\n",
       " 530: '12872',\n",
       " 531: '30353',\n",
       " 532: '30639',\n",
       " 533: '46069',\n",
       " 534: '24221',\n",
       " 535: '32303',\n",
       " 536: '40063',\n",
       " 537: '31215',\n",
       " 538: '43129',\n",
       " 539: '29941',\n",
       " 540: '34668',\n",
       " 541: '6631',\n",
       " 542: '7628',\n",
       " 543: '32403',\n",
       " 544: '25640',\n",
       " 545: '2450',\n",
       " 546: '45504',\n",
       " 547: '28427',\n",
       " 548: '46842',\n",
       " 549: '47912',\n",
       " 550: '13838',\n",
       " 551: '30696',\n",
       " 552: '39581',\n",
       " 553: '26317',\n",
       " 554: '38996',\n",
       " 555: '35163',\n",
       " 556: '32747',\n",
       " 557: '48559',\n",
       " 558: '27690',\n",
       " 559: '25718',\n",
       " 560: '15392',\n",
       " 561: '5550',\n",
       " 562: '41149',\n",
       " 563: '31766',\n",
       " 564: '24009',\n",
       " 565: '28553',\n",
       " 566: '14715',\n",
       " 567: '43875',\n",
       " 568: '49533',\n",
       " 569: '13263',\n",
       " 570: '11759',\n",
       " 571: '25753',\n",
       " 572: '17652',\n",
       " 573: '36929',\n",
       " 574: '2091',\n",
       " 575: '10912',\n",
       " 576: '23236',\n",
       " 577: '11440',\n",
       " 578: '1529',\n",
       " 579: '45948',\n",
       " 580: '12099',\n",
       " 581: '22142',\n",
       " 582: '14218',\n",
       " 583: '18594',\n",
       " 584: '39558',\n",
       " 585: '43394',\n",
       " 586: '5652',\n",
       " 587: '31981',\n",
       " 588: '7156',\n",
       " 589: '38772',\n",
       " 590: '48395',\n",
       " 591: '24810',\n",
       " 592: '14129',\n",
       " 593: '47788',\n",
       " 594: '14852',\n",
       " 595: '42557',\n",
       " 596: '35004',\n",
       " 597: '29926',\n",
       " 598: '9515',\n",
       " 599: '14633',\n",
       " 600: '41400',\n",
       " 601: '34217',\n",
       " 602: '11576',\n",
       " 603: '4461',\n",
       " 604: '781',\n",
       " 605: '17284',\n",
       " 606: '46149',\n",
       " 607: '28928',\n",
       " 608: '10385',\n",
       " 609: '32465',\n",
       " 610: '14651',\n",
       " 611: '34466',\n",
       " 612: '10831',\n",
       " 613: '29675',\n",
       " 614: '32429',\n",
       " 615: '16616',\n",
       " 616: '40268',\n",
       " 617: '16254',\n",
       " 618: '4367',\n",
       " 619: '12276',\n",
       " 620: '36772',\n",
       " 621: '33043',\n",
       " 622: '2326',\n",
       " 623: '8138',\n",
       " 624: '7485',\n",
       " 625: '46886',\n",
       " 626: '31433',\n",
       " 627: '38200',\n",
       " 628: '311',\n",
       " 629: '2846',\n",
       " 630: '4793',\n",
       " 631: '5240',\n",
       " 632: '37065',\n",
       " 633: '20940',\n",
       " 634: '19816',\n",
       " 635: '5068',\n",
       " 636: '13292',\n",
       " 637: '47792',\n",
       " 638: '6489',\n",
       " 639: '17224',\n",
       " 640: '16145',\n",
       " 641: '29127',\n",
       " 642: '46522',\n",
       " 643: '44234',\n",
       " 644: '14901',\n",
       " 645: '3142',\n",
       " 646: '48104',\n",
       " 647: '19006',\n",
       " 648: '12745',\n",
       " 649: '34134',\n",
       " 650: '3583',\n",
       " 651: '37119',\n",
       " 652: '22025',\n",
       " 653: '8555',\n",
       " 654: '23405',\n",
       " 655: '1700',\n",
       " 656: '1408',\n",
       " 657: '9808',\n",
       " 658: '14870',\n",
       " 659: '17429',\n",
       " 660: '30305',\n",
       " 661: '39040',\n",
       " 662: '4942',\n",
       " 663: '44156',\n",
       " 664: '16262',\n",
       " 665: '33548',\n",
       " 666: '365',\n",
       " 667: '20580',\n",
       " 668: '2120',\n",
       " 669: '45646',\n",
       " 670: '42460',\n",
       " 671: '44479',\n",
       " 672: '10603',\n",
       " 673: '16617',\n",
       " 674: '3990',\n",
       " 675: '1090',\n",
       " 676: '48857',\n",
       " 677: '38890',\n",
       " 678: '38650',\n",
       " 679: '12384',\n",
       " 680: '40910',\n",
       " 681: '13083',\n",
       " 682: '42495',\n",
       " 683: '10504',\n",
       " 684: '7644',\n",
       " 685: '3481',\n",
       " 686: '28278',\n",
       " 687: '27243',\n",
       " 688: '34530',\n",
       " 689: '29370',\n",
       " 690: '26128',\n",
       " 691: '32566',\n",
       " 692: '31964',\n",
       " 693: '8479',\n",
       " 694: '8955',\n",
       " 695: '46692',\n",
       " 696: '45763',\n",
       " 697: '17835',\n",
       " 698: '23622',\n",
       " 699: '21009',\n",
       " 700: '14168',\n",
       " 701: '9337',\n",
       " 702: '31869',\n",
       " 703: '5460',\n",
       " 704: '7131',\n",
       " 705: '10621',\n",
       " 706: '39922',\n",
       " 707: '46226',\n",
       " 708: '23579',\n",
       " 709: '18880',\n",
       " 710: '24759',\n",
       " 711: '20754',\n",
       " 712: '2962',\n",
       " 713: '17616',\n",
       " 714: '12614',\n",
       " 715: '9124',\n",
       " 716: '36086',\n",
       " 717: '17341',\n",
       " 718: '6532',\n",
       " 719: '29553',\n",
       " 720: '36389',\n",
       " 721: '31759',\n",
       " 722: '9741',\n",
       " 723: '30442',\n",
       " 724: '28373',\n",
       " 725: '23765',\n",
       " 726: '45747',\n",
       " 727: '16823',\n",
       " 728: '19156',\n",
       " 729: '22504',\n",
       " 730: '16589',\n",
       " 731: '21417',\n",
       " 732: '49610',\n",
       " 733: '26131',\n",
       " 734: '25005',\n",
       " 735: '33716',\n",
       " 736: '28535',\n",
       " 737: '4724',\n",
       " 738: '41544',\n",
       " 739: '37825',\n",
       " 740: '17008',\n",
       " 741: '28123',\n",
       " 742: '45063',\n",
       " 743: '1215',\n",
       " 744: '33352',\n",
       " 745: '13431',\n",
       " 746: '2611',\n",
       " 747: '30949',\n",
       " 748: '24535',\n",
       " 749: '21614',\n",
       " 750: '8087',\n",
       " 751: '38944',\n",
       " 752: '38028',\n",
       " 753: '14467',\n",
       " 754: '33572',\n",
       " 755: '32455',\n",
       " 756: '10814',\n",
       " 757: '8230',\n",
       " 758: '24082',\n",
       " 759: '23233',\n",
       " 760: '48171',\n",
       " 761: '23341',\n",
       " 762: '13819',\n",
       " 763: '12606',\n",
       " 764: '6287',\n",
       " 765: '1559',\n",
       " 766: '17807',\n",
       " 767: '31562',\n",
       " 768: '24382',\n",
       " 769: '47029',\n",
       " 770: '19894',\n",
       " 771: '5449',\n",
       " 772: '40593',\n",
       " 773: '581',\n",
       " 774: '9366',\n",
       " 775: '3020',\n",
       " 776: '10032',\n",
       " 777: '11352',\n",
       " 778: '20632',\n",
       " 779: '43631',\n",
       " 780: '48595',\n",
       " 781: '18987',\n",
       " 782: '27360',\n",
       " 783: '4138',\n",
       " 784: '31805',\n",
       " 785: '35383',\n",
       " 786: '19003',\n",
       " 787: '17902',\n",
       " 788: '18382',\n",
       " 789: '7521',\n",
       " 790: '8490',\n",
       " 791: '47601',\n",
       " 792: '5337',\n",
       " 793: '34234',\n",
       " 794: '37011',\n",
       " 795: '11461',\n",
       " 796: '23801',\n",
       " 797: '39097',\n",
       " 798: '42803',\n",
       " 799: '15200',\n",
       " 800: '29594',\n",
       " 801: '17878',\n",
       " 802: '9421',\n",
       " 803: '17630',\n",
       " 804: '34',\n",
       " 805: '9550',\n",
       " 806: '31338',\n",
       " 807: '7916',\n",
       " 808: '41259',\n",
       " 809: '45570',\n",
       " 810: '19488',\n",
       " 811: '24010',\n",
       " 812: '18434',\n",
       " 813: '39121',\n",
       " 814: '29898',\n",
       " 815: '22888',\n",
       " 816: '11136',\n",
       " 817: '23296',\n",
       " 818: '35233',\n",
       " 819: '16290',\n",
       " 820: '41540',\n",
       " 821: '33290',\n",
       " 822: '46041',\n",
       " 823: '47866',\n",
       " 824: '6615',\n",
       " 825: '31371',\n",
       " 826: '2180',\n",
       " 827: '46900',\n",
       " 828: '25837',\n",
       " 829: '38656',\n",
       " 830: '46049',\n",
       " 831: '49247',\n",
       " 832: '14897',\n",
       " 833: '44514',\n",
       " 834: '7806',\n",
       " 835: '41319',\n",
       " 836: '14999',\n",
       " 837: '42240',\n",
       " 838: '44471',\n",
       " 839: '6347',\n",
       " 840: '19478',\n",
       " 841: '38544',\n",
       " 842: '248',\n",
       " 843: '28785',\n",
       " 844: '46650',\n",
       " 845: '2716',\n",
       " 846: '12427',\n",
       " 847: '33636',\n",
       " 848: '29615',\n",
       " 849: '34551',\n",
       " 850: '45013',\n",
       " 851: '43643',\n",
       " 852: '41593',\n",
       " 853: '22260',\n",
       " 854: '27307',\n",
       " 855: '5618',\n",
       " 856: '46061',\n",
       " 857: '21497',\n",
       " 858: '18599',\n",
       " 859: '23645',\n",
       " 860: '24390',\n",
       " 861: '10761',\n",
       " 862: '8239',\n",
       " 863: '47357',\n",
       " 864: '14778',\n",
       " 865: '4137',\n",
       " 866: '45681',\n",
       " 867: '49478',\n",
       " 868: '4962',\n",
       " 869: '8467',\n",
       " 870: '44375',\n",
       " 871: '5991',\n",
       " 872: '47890',\n",
       " 873: '47492',\n",
       " 874: '20899',\n",
       " 875: '23044',\n",
       " 876: '49111',\n",
       " 877: '44292',\n",
       " 878: '18019',\n",
       " 879: '4006',\n",
       " 880: '30480',\n",
       " 881: '47526',\n",
       " 882: '31663',\n",
       " 883: '13712',\n",
       " 884: '19049',\n",
       " 885: '9327',\n",
       " 886: '11941',\n",
       " 887: '25133',\n",
       " 888: '3849',\n",
       " 889: '36127',\n",
       " 890: '45106',\n",
       " 891: '4149',\n",
       " 892: '38274',\n",
       " 893: '28986',\n",
       " 894: '5031',\n",
       " 895: '13802',\n",
       " 896: '33846',\n",
       " 897: '40002',\n",
       " 898: '31927',\n",
       " 899: '41276',\n",
       " 900: '44310',\n",
       " 901: '47087',\n",
       " 902: '20520',\n",
       " 903: '25544',\n",
       " 904: '5959',\n",
       " 905: '18564',\n",
       " 906: '23554',\n",
       " 907: '48057',\n",
       " 908: '12312',\n",
       " 909: '48726',\n",
       " 910: '1695',\n",
       " 911: '40348',\n",
       " 912: '25705',\n",
       " 913: '38444',\n",
       " 914: '41273',\n",
       " 915: '10473',\n",
       " 916: '26914',\n",
       " 917: '26047',\n",
       " 918: '27683',\n",
       " 919: '7054',\n",
       " 920: '13852',\n",
       " 921: '46346',\n",
       " 922: '22151',\n",
       " 923: '33065',\n",
       " 924: '17027',\n",
       " 925: '24850',\n",
       " 926: '45064',\n",
       " 927: '3999',\n",
       " 928: '46206',\n",
       " 929: '8736',\n",
       " 930: '28597',\n",
       " 931: '20583',\n",
       " 932: '46175',\n",
       " 933: '35168',\n",
       " 934: '10369',\n",
       " 935: '49215',\n",
       " 936: '49605',\n",
       " 937: '26882',\n",
       " 938: '28851',\n",
       " 939: '43867',\n",
       " 940: '37464',\n",
       " 941: '41757',\n",
       " 942: '26648',\n",
       " 943: '35336',\n",
       " 944: '32650',\n",
       " 945: '11123',\n",
       " 946: '16283',\n",
       " 947: '14332',\n",
       " 948: '16249',\n",
       " 949: '13113',\n",
       " 950: '18352',\n",
       " 951: '4796',\n",
       " 952: '5491',\n",
       " 953: '7952',\n",
       " 954: '32740',\n",
       " 955: '25197',\n",
       " 956: '12254',\n",
       " 957: '38312',\n",
       " 958: '34024',\n",
       " 959: '20919',\n",
       " 960: '47877',\n",
       " 961: '45866',\n",
       " 962: '31635',\n",
       " 963: '10106',\n",
       " 964: '46990',\n",
       " 965: '13702',\n",
       " 966: '7746',\n",
       " 967: '19068',\n",
       " 968: '22556',\n",
       " 969: '9623',\n",
       " 970: '20378',\n",
       " 971: '3339',\n",
       " 972: '46088',\n",
       " 973: '10326',\n",
       " 974: '40229',\n",
       " 975: '2480',\n",
       " 976: '26172',\n",
       " 977: '12797',\n",
       " 978: '9018',\n",
       " 979: '9598',\n",
       " 980: '21162',\n",
       " 981: '39216',\n",
       " 982: '12545',\n",
       " 983: '31640',\n",
       " 984: '13885',\n",
       " 985: '5250',\n",
       " 986: '4945',\n",
       " 987: '33452',\n",
       " 988: '43014',\n",
       " 989: '23339',\n",
       " 990: '13966',\n",
       " 991: '26629',\n",
       " 992: '8153',\n",
       " 993: '1468',\n",
       " 994: '30561',\n",
       " 995: '2361',\n",
       " 996: '18670',\n",
       " 997: '25256',\n",
       " 998: '12572',\n",
       " 999: '32578',\n",
       " ...}"
      ]
     },
     "execution_count": 27,
     "metadata": {},
     "output_type": "execute_result"
    }
   ],
   "source": [
    "ix_word"
   ]
  },
  {
   "cell_type": "markdown",
   "metadata": {},
   "source": [
    "## 2.3. Convert entire data set from text to indices\n"
   ]
  },
  {
   "cell_type": "code",
   "execution_count": 28,
   "metadata": {},
   "outputs": [],
   "source": [
    "# convert data to index\n",
    "def Data2Index(train_data, word_ix, ret_unk_cnt = False):\n",
    "    data = list()\n",
    "    global unk_count\n",
    "    unk_count = 0\n",
    "    for order in train_data:\n",
    "        ord_data = []\n",
    "        for word in order:\n",
    "            if word in word_ix:\n",
    "                index = word_ix[word]\n",
    "            else:\n",
    "                index = 0\n",
    "                unk_count += 1\n",
    "            ord_data.append(index)\n",
    "        data.append(ord_data)\n",
    "    if ret_unk_cnt:\n",
    "        return(data, unk_count)\n",
    "    else:\n",
    "        return(data)"
   ]
  },
  {
   "cell_type": "code",
   "execution_count": 30,
   "metadata": {},
   "outputs": [],
   "source": [
    "# training orders\n",
    "train_orders_ix = Data2Index(train_data = train_orders, word_ix = word_ix, ret_unk_cnt = False)"
   ]
  },
  {
   "cell_type": "code",
   "execution_count": 32,
   "metadata": {},
   "outputs": [
    {
     "data": {
      "text/plain": [
       "['5621', '8021', '13838', '43194', '890', '19049', '23288', '29418', '14858']"
      ]
     },
     "execution_count": 32,
     "metadata": {},
     "output_type": "execute_result"
    }
   ],
   "source": [
    "train_orders[0]"
   ]
  },
  {
   "cell_type": "code",
   "execution_count": 33,
   "metadata": {},
   "outputs": [
    {
     "data": {
      "text/plain": [
       "[1186, 123, 550, 3392, 162, 884, 271, 1728, 1026]"
      ]
     },
     "execution_count": 33,
     "metadata": {},
     "output_type": "execute_result"
    }
   ],
   "source": [
    "train_orders_ix[0]"
   ]
  },
  {
   "cell_type": "code",
   "execution_count": 34,
   "metadata": {},
   "outputs": [
    {
     "data": {
      "text/plain": [
       "1000000"
      ]
     },
     "execution_count": 34,
     "metadata": {},
     "output_type": "execute_result"
    }
   ],
   "source": [
    "# total number of training orders\n",
    "len(train_orders)"
   ]
  },
  {
   "cell_type": "code",
   "execution_count": 35,
   "metadata": {},
   "outputs": [
    {
     "name": "stdout",
     "output_type": "stream",
     "text": [
      "38701\n"
     ]
    }
   ],
   "source": [
    "# val orders\n",
    "val_orders_ix = Data2Index(train_data = val_orders, word_ix = word_ix, ret_unk_cnt = False)\n",
    "print(len(val_orders_ix))"
   ]
  },
  {
   "cell_type": "markdown",
   "metadata": {},
   "source": []
  },
  {
   "cell_type": "markdown",
   "metadata": {},
   "source": [
    "### In-class exercise"
   ]
  },
  {
   "cell_type": "code",
   "execution_count": 39,
   "metadata": {},
   "outputs": [
    {
     "name": "stdout",
     "output_type": "stream",
     "text": [
      "38442\n"
     ]
    }
   ],
   "source": [
    "# convert all the test orders to indices using the Data2Index() function\n",
    "test_orders_ix = Data2Index(train_data = test_orders, word_ix = word_ix, ret_unk_cnt = False) \n",
    "print(len(test_orders_ix))"
   ]
  },
  {
   "cell_type": "markdown",
   "metadata": {},
   "source": [
    "test_orders_ix = Data2Index(train_data = val_orders, word_ix = word_ix, ret_unk_cnt = False)\n",
    "print(len(val_orders_ix))"
   ]
  },
  {
   "cell_type": "markdown",
   "metadata": {},
   "source": [
    "# A.1: Intro to Neural Networks"
   ]
  },
  {
   "cell_type": "code",
   "execution_count": 43,
   "metadata": {},
   "outputs": [],
   "source": [
    "## code to download imdb data and load into memory\n",
    "import numpy as np\n",
    "old = np.load\n",
    "np.load = lambda *a,**k: old(*a,**k,allow_pickle=True)\n",
    "# call load_data with allow_pickle implicitly set to true\n",
    "from keras.datasets import imdb\n",
    "(x_train, y_train), (x_test, y_test) = imdb.load_data(num_words=10000)\n",
    "np.load = old\n",
    "del(old)"
   ]
  },
  {
   "cell_type": "code",
   "execution_count": 44,
   "metadata": {},
   "outputs": [
    {
     "name": "stdout",
     "output_type": "stream",
     "text": [
      "(25000,)\n",
      "(25000,)\n"
     ]
    }
   ],
   "source": [
    "print(x_train.shape)\n",
    "print(y_train.shape)"
   ]
  },
  {
   "cell_type": "code",
   "execution_count": 45,
   "metadata": {},
   "outputs": [
    {
     "data": {
      "text/plain": [
       "[1,\n",
       " 14,\n",
       " 22,\n",
       " 16,\n",
       " 43,\n",
       " 530,\n",
       " 973,\n",
       " 1622,\n",
       " 1385,\n",
       " 65,\n",
       " 458,\n",
       " 4468,\n",
       " 66,\n",
       " 3941,\n",
       " 4,\n",
       " 173,\n",
       " 36,\n",
       " 256,\n",
       " 5,\n",
       " 25,\n",
       " 100,\n",
       " 43,\n",
       " 838,\n",
       " 112,\n",
       " 50,\n",
       " 670,\n",
       " 2,\n",
       " 9,\n",
       " 35,\n",
       " 480,\n",
       " 284,\n",
       " 5,\n",
       " 150,\n",
       " 4,\n",
       " 172,\n",
       " 112,\n",
       " 167,\n",
       " 2,\n",
       " 336,\n",
       " 385,\n",
       " 39,\n",
       " 4,\n",
       " 172,\n",
       " 4536,\n",
       " 1111,\n",
       " 17,\n",
       " 546,\n",
       " 38,\n",
       " 13,\n",
       " 447,\n",
       " 4,\n",
       " 192,\n",
       " 50,\n",
       " 16,\n",
       " 6,\n",
       " 147,\n",
       " 2025,\n",
       " 19,\n",
       " 14,\n",
       " 22,\n",
       " 4,\n",
       " 1920,\n",
       " 4613,\n",
       " 469,\n",
       " 4,\n",
       " 22,\n",
       " 71,\n",
       " 87,\n",
       " 12,\n",
       " 16,\n",
       " 43,\n",
       " 530,\n",
       " 38,\n",
       " 76,\n",
       " 15,\n",
       " 13,\n",
       " 1247,\n",
       " 4,\n",
       " 22,\n",
       " 17,\n",
       " 515,\n",
       " 17,\n",
       " 12,\n",
       " 16,\n",
       " 626,\n",
       " 18,\n",
       " 2,\n",
       " 5,\n",
       " 62,\n",
       " 386,\n",
       " 12,\n",
       " 8,\n",
       " 316,\n",
       " 8,\n",
       " 106,\n",
       " 5,\n",
       " 4,\n",
       " 2223,\n",
       " 5244,\n",
       " 16,\n",
       " 480,\n",
       " 66,\n",
       " 3785,\n",
       " 33,\n",
       " 4,\n",
       " 130,\n",
       " 12,\n",
       " 16,\n",
       " 38,\n",
       " 619,\n",
       " 5,\n",
       " 25,\n",
       " 124,\n",
       " 51,\n",
       " 36,\n",
       " 135,\n",
       " 48,\n",
       " 25,\n",
       " 1415,\n",
       " 33,\n",
       " 6,\n",
       " 22,\n",
       " 12,\n",
       " 215,\n",
       " 28,\n",
       " 77,\n",
       " 52,\n",
       " 5,\n",
       " 14,\n",
       " 407,\n",
       " 16,\n",
       " 82,\n",
       " 2,\n",
       " 8,\n",
       " 4,\n",
       " 107,\n",
       " 117,\n",
       " 5952,\n",
       " 15,\n",
       " 256,\n",
       " 4,\n",
       " 2,\n",
       " 7,\n",
       " 3766,\n",
       " 5,\n",
       " 723,\n",
       " 36,\n",
       " 71,\n",
       " 43,\n",
       " 530,\n",
       " 476,\n",
       " 26,\n",
       " 400,\n",
       " 317,\n",
       " 46,\n",
       " 7,\n",
       " 4,\n",
       " 2,\n",
       " 1029,\n",
       " 13,\n",
       " 104,\n",
       " 88,\n",
       " 4,\n",
       " 381,\n",
       " 15,\n",
       " 297,\n",
       " 98,\n",
       " 32,\n",
       " 2071,\n",
       " 56,\n",
       " 26,\n",
       " 141,\n",
       " 6,\n",
       " 194,\n",
       " 7486,\n",
       " 18,\n",
       " 4,\n",
       " 226,\n",
       " 22,\n",
       " 21,\n",
       " 134,\n",
       " 476,\n",
       " 26,\n",
       " 480,\n",
       " 5,\n",
       " 144,\n",
       " 30,\n",
       " 5535,\n",
       " 18,\n",
       " 51,\n",
       " 36,\n",
       " 28,\n",
       " 224,\n",
       " 92,\n",
       " 25,\n",
       " 104,\n",
       " 4,\n",
       " 226,\n",
       " 65,\n",
       " 16,\n",
       " 38,\n",
       " 1334,\n",
       " 88,\n",
       " 12,\n",
       " 16,\n",
       " 283,\n",
       " 5,\n",
       " 16,\n",
       " 4472,\n",
       " 113,\n",
       " 103,\n",
       " 32,\n",
       " 15,\n",
       " 16,\n",
       " 5345,\n",
       " 19,\n",
       " 178,\n",
       " 32]"
      ]
     },
     "execution_count": 45,
     "metadata": {},
     "output_type": "execute_result"
    }
   ],
   "source": [
    "x_train[0]"
   ]
  },
  {
   "cell_type": "code",
   "execution_count": 46,
   "metadata": {},
   "outputs": [
    {
     "data": {
      "text/plain": [
       "array([1, 0, 0, 1, 0])"
      ]
     },
     "execution_count": 46,
     "metadata": {},
     "output_type": "execute_result"
    }
   ],
   "source": [
    "y_train[0:5]"
   ]
  },
  {
   "cell_type": "code",
   "execution_count": 47,
   "metadata": {},
   "outputs": [
    {
     "name": "stdout",
     "output_type": "stream",
     "text": [
      "9999\n"
     ]
    }
   ],
   "source": [
    "# total number of words\n",
    "print(max([max(sequence) for sequence in x_train]))"
   ]
  },
  {
   "cell_type": "code",
   "execution_count": 48,
   "metadata": {},
   "outputs": [
    {
     "name": "stdout",
     "output_type": "stream",
     "text": [
      "Downloading data from https://s3.amazonaws.com/text-datasets/imdb_word_index.json\n",
      "1646592/1641221 [==============================] - 0s 0us/step\n"
     ]
    }
   ],
   "source": [
    "# decode back from indices to words\n",
    "word_index = imdb.get_word_index()"
   ]
  },
  {
   "cell_type": "code",
   "execution_count": 49,
   "metadata": {},
   "outputs": [
    {
     "name": "stdout",
     "output_type": "stream",
     "text": [
      "? this film was just brilliant casting location scenery story direction everyone's really suited the part they played and you could just imagine being there robert ? is an amazing actor and now the same being director ? father came from the same scottish island as myself so i loved the fact there was a real connection with this film the witty remarks throughout the film were great it was just brilliant so much that i bought the film as soon as it was released for ? and would recommend it to everyone to watch and the fly fishing was amazing really cried at the end it was so sad and you know what they say if you cry at a film it must have been good and this definitely was also ? to the two little boy's that played the ? of norman and paul they were just brilliant children are often left out of the ? list i think because the stars that play them all grown up are such a big profile for the whole film but these children are amazing and should be praised for what they have done don't you think the whole story was so lovely because it was true and was someone's life after all that was shared with us all\n"
     ]
    }
   ],
   "source": [
    "# reverse the word index by mapping indices to words\n",
    "reverse_word_index = dict([(value, key) for (key, value) in word_index.items()])\n",
    "decoded_review = ' '.join([reverse_word_index.get(i - 3, '?') for i in x_train[0]])\n",
    "print(decoded_review)"
   ]
  },
  {
   "cell_type": "code",
   "execution_count": 50,
   "metadata": {},
   "outputs": [],
   "source": [
    "def vectorize_sequences(sequences, dimension=10000):\n",
    "    results = np.zeros((len(sequences), dimension))\n",
    "    for i, sequence in enumerate(sequences):\n",
    "        results[i, sequence] = 1\n",
    "    return results"
   ]
  },
  {
   "cell_type": "code",
   "execution_count": 51,
   "metadata": {},
   "outputs": [],
   "source": [
    "x_train = vectorize_sequences(x_train)\n",
    "x_test = vectorize_sequences(x_test)"
   ]
  },
  {
   "cell_type": "code",
   "execution_count": 52,
   "metadata": {},
   "outputs": [
    {
     "name": "stdout",
     "output_type": "stream",
     "text": [
      "10000\n"
     ]
    }
   ],
   "source": [
    "print(len(x_train[0]))"
   ]
  },
  {
   "cell_type": "code",
   "execution_count": 53,
   "metadata": {},
   "outputs": [
    {
     "name": "stdout",
     "output_type": "stream",
     "text": [
      "10000\n"
     ]
    }
   ],
   "source": [
    "print(len(x_test[0]))"
   ]
  },
  {
   "cell_type": "code",
   "execution_count": 54,
   "metadata": {},
   "outputs": [],
   "source": [
    "y_train = np.asarray(y_train).astype('float32')\n",
    "y_test = np.asarray(y_test).astype('float32')"
   ]
  },
  {
   "cell_type": "code",
   "execution_count": 55,
   "metadata": {},
   "outputs": [],
   "source": [
    "from keras import models\n",
    "from keras import layers"
   ]
  },
  {
   "cell_type": "code",
   "execution_count": 56,
   "metadata": {},
   "outputs": [],
   "source": [
    "model = models.Sequential()\n",
    "model.add(layers.Dense(16, activation='relu', input_shape=(10000,)))\n",
    "model.add(layers.Dense(16, activation='relu'))\n",
    "model.add(layers.Dense(1, activation='sigmoid'))"
   ]
  },
  {
   "cell_type": "code",
   "execution_count": 57,
   "metadata": {},
   "outputs": [],
   "source": [
    "from keras import optimizers"
   ]
  },
  {
   "cell_type": "code",
   "execution_count": 58,
   "metadata": {},
   "outputs": [],
   "source": [
    "model.compile(optimizer= 'rmsprop',\n",
    "                      loss= 'binary_crossentropy',\n",
    "                      metrics= ['accuracy'])"
   ]
  },
  {
   "cell_type": "code",
   "execution_count": 59,
   "metadata": {},
   "outputs": [
    {
     "name": "stdout",
     "output_type": "stream",
     "text": [
      "_________________________________________________________________\n",
      "Layer (type)                 Output Shape              Param #   \n",
      "=================================================================\n",
      "dense_1 (Dense)              (None, 16)                160016    \n",
      "_________________________________________________________________\n",
      "dense_2 (Dense)              (None, 16)                272       \n",
      "_________________________________________________________________\n",
      "dense_3 (Dense)              (None, 1)                 17        \n",
      "=================================================================\n",
      "Total params: 160,305\n",
      "Trainable params: 160,305\n",
      "Non-trainable params: 0\n",
      "_________________________________________________________________\n"
     ]
    }
   ],
   "source": [
    "model.summary()"
   ]
  },
  {
   "cell_type": "code",
   "execution_count": 60,
   "metadata": {},
   "outputs": [],
   "source": [
    "# create validation data \n",
    "x_val = x_train[:10000]\n",
    "partial_x_train = x_train[10000:]"
   ]
  },
  {
   "cell_type": "code",
   "execution_count": 61,
   "metadata": {},
   "outputs": [],
   "source": [
    "# create validation labels\n",
    "y_val = y_train[:10000]\n",
    "partial_y_train = y_train[10000:]"
   ]
  },
  {
   "cell_type": "code",
   "execution_count": 62,
   "metadata": {},
   "outputs": [
    {
     "name": "stdout",
     "output_type": "stream",
     "text": [
      "Train on 15000 samples, validate on 10000 samples\n",
      "Epoch 1/5\n",
      "15000/15000 [==============================] - 2s 140us/step - loss: 0.3979 - acc: 0.8408 - val_loss: 0.2829 - val_acc: 0.8884\n",
      "Epoch 2/5\n",
      "15000/15000 [==============================] - 2s 104us/step - loss: 0.2101 - acc: 0.9210 - val_loss: 0.2752 - val_acc: 0.8897\n",
      "Epoch 3/5\n",
      "15000/15000 [==============================] - 2s 103us/step - loss: 0.1509 - acc: 0.9465 - val_loss: 0.3024 - val_acc: 0.8873\n",
      "Epoch 4/5\n",
      "15000/15000 [==============================] - 2s 104us/step - loss: 0.1147 - acc: 0.9595 - val_loss: 0.3461 - val_acc: 0.8828\n",
      "Epoch 5/5\n",
      "15000/15000 [==============================] - 2s 104us/step - loss: 0.0847 - acc: 0.9706 - val_loss: 0.3839 - val_acc: 0.8785\n"
     ]
    }
   ],
   "source": [
    "history = model.fit(partial_x_train,\n",
    "                    partial_y_train,\n",
    "                    epochs= 5,\n",
    "                    batch_size= 128,\n",
    "                    validation_data= (x_val, y_val))"
   ]
  },
  {
   "cell_type": "code",
   "execution_count": 63,
   "metadata": {},
   "outputs": [],
   "source": [
    "# plot training and validation accuracy\n",
    "acc = history.history['acc'] # retreive training accuracy from history\n",
    "val_acc = history.history['val_acc'] # retreive validation accuracy from history\n",
    "loss = history.history['loss'] # retreive training loss from history\n",
    "val_loss = history.history['val_loss'] # retreive validation loss from history"
   ]
  },
  {
   "cell_type": "code",
   "execution_count": 64,
   "metadata": {
    "scrolled": true
   },
   "outputs": [
    {
     "data": {
      "image/png": "[encoded data removed]",
      "text/plain": [
       "<Figure size 432x288 with 1 Axes>"
      ]
     },
     "metadata": {
      "needs_background": "light"
     },
     "output_type": "display_data"
    },
    {
     "data": {
      "image/png": "[encoded data removed]",
      "text/plain": [
       "<Figure size 432x288 with 1 Axes>"
      ]
     },
     "metadata": {
      "needs_background": "light"
     },
     "output_type": "display_data"
    }
   ],
   "source": [
    "# two plots - one for loss and the other for accuract\n",
    "epochs = range(1, len(acc) + 1)\n",
    "\n",
    "# -- plot 1: Number of epochs vs. accuracy\n",
    "plt.plot(epochs, acc, 'bo', label= 'Training acc')\n",
    "plt.plot(epochs, val_acc, 'b', label= 'Validation acc')\n",
    "plt.title('Training and validation accuracy')\n",
    "plt.legend()\n",
    "plt.figure()\n",
    "\n",
    "# -- plot 2: Number of epochs vs. loss\n",
    "plt.plot(epochs, loss, 'bo', label='Training loss')\n",
    "plt.plot(epochs, val_loss, 'b', label='Validation loss')\n",
    "plt.title('Training and validation loss')\n",
    "plt.legend()\n",
    "plt.show()"
   ]
  },
  {
   "cell_type": "markdown",
   "metadata": {},
   "source": [
    "------"
   ]
  },
  {
   "cell_type": "markdown",
   "metadata": {},
   "source": [
    "# A.2: A slightly larger neural network"
   ]
  },
  {
   "cell_type": "code",
   "execution_count": null,
   "metadata": {},
   "outputs": [],
   "source": [
    "model = models.Sequential()\n",
    "model.add(layers.Dense(32, activation='relu', input_shape=(10000, )))\n",
    "model.add(layers.Dense(16, activation='relu'))\n",
    "model.add(layers.Dense(1, activation='sigmoid'))"
   ]
  },
  {
   "cell_type": "code",
   "execution_count": null,
   "metadata": {},
   "outputs": [],
   "source": [
    "model.compile(optimizer= 'rmsprop',\n",
    "                      loss= 'binary_crossentropy',\n",
    "                      metrics= ['accuracy'])"
   ]
  },
  {
   "cell_type": "code",
   "execution_count": null,
   "metadata": {},
   "outputs": [],
   "source": [
    "model.summary()"
   ]
  },
  {
   "cell_type": "code",
   "execution_count": null,
   "metadata": {},
   "outputs": [],
   "source": [
    "history = model.fit(partial_x_train,\n",
    "                    partial_y_train,\n",
    "                    epochs= 10,\n",
    "                    batch_size= 128,\n",
    "                    validation_data= (x_val, y_val))"
   ]
  },
  {
   "cell_type": "code",
   "execution_count": 59,
   "metadata": {},
   "outputs": [
    {
     "data": {
      "image/png": "[encoded data removed]",
      "text/plain": [
       "<matplotlib.figure.Figure at 0x2aabe96a8be0>"
      ]
     },
     "metadata": {},
     "output_type": "display_data"
    },
    {
     "data": {
      "image/png": "[encoded data removed]",
      "text/plain": [
       "<matplotlib.figure.Figure at 0x2aabe957c710>"
      ]
     },
     "metadata": {},
     "output_type": "display_data"
    }
   ],
   "source": [
    "# plot training and validation accuracy\n",
    "acc = history.history['acc'] # retreive training accuracy from history\n",
    "val_acc = history.history['val_acc'] # retreive validation accuracy from history\n",
    "loss = history.history['loss'] # retreive training loss from history\n",
    "val_loss = history.history['val_loss'] # retreive validation loss from history\n",
    "\n",
    "# two plots - one for loss and the other for accuract\n",
    "epochs = range(1, len(acc) + 1)\n",
    "\n",
    "# -- plot 1: Number of epochs vs. accuracy\n",
    "plt.plot(epochs, acc, 'bo', label= 'Training acc')\n",
    "plt.plot(epochs, val_acc, 'b', label= 'Validation acc')\n",
    "plt.title('Training and validation accuracy')\n",
    "plt.legend()\n",
    "plt.figure()\n",
    "\n",
    "# -- plot 2: Number of epochs vs. loss\n",
    "plt.plot(epochs, loss, 'bo', label='Training loss')\n",
    "plt.plot(epochs, val_loss, 'b', label='Validation loss')\n",
    "plt.title('Training and validation loss')\n",
    "plt.legend()\n",
    "plt.show()"
   ]
  },
  {
   "cell_type": "markdown",
   "metadata": {},
   "source": [
    "-----"
   ]
  },
  {
   "cell_type": "markdown",
   "metadata": {},
   "source": [
    "### In-class exercise"
   ]
  },
  {
   "cell_type": "code",
   "execution_count": 60,
   "metadata": {},
   "outputs": [],
   "source": [
    "# Build the following neural network:\n",
    "\n",
    "# 4 layers\n",
    "# 1. Layer 1: 64 nodes\n",
    "# 2. Layer 2: 64 nodes\n",
    "# 3. Layer 3: 32 nodes\n",
    "# 4. Layer 4: 32 nodes"
   ]
  },
  {
   "cell_type": "code",
   "execution_count": null,
   "metadata": {},
   "outputs": [],
   "source": [
    "model2 = models.Sequential()\n",
    "model2.add(layers.Dense(64, activation='relu', input_shape=(10000, )))\n",
    "model2.add(layers.Dense(64, activation='relu'))\n",
    "model2.add(layers.Dense(32, activation='relu'))\n",
    "model2.add(layers.Dense(32, activation='relu'))\n",
    "model2.add(layers.Dense(1, activation='sigmoid'))"
   ]
  },
  {
   "cell_type": "code",
   "execution_count": null,
   "metadata": {},
   "outputs": [],
   "source": [
    "model2.compile(optimizer= 'rmsprop',\n",
    "                      loss= 'binary_crossentropy',\n",
    "                      metrics= ['accuracy'])"
   ]
  },
  {
   "cell_type": "code",
   "execution_count": null,
   "metadata": {},
   "outputs": [],
   "source": [
    "model2.summary()"
   ]
  },
  {
   "cell_type": "code",
   "execution_count": null,
   "metadata": {},
   "outputs": [],
   "source": [
    "history = model2.fit(partial_x_train,\n",
    "                    partial_y_train,\n",
    "                    epochs= 10,\n",
    "                    batch_size= 128,\n",
    "                    validation_data= (x_val, y_val))"
   ]
  },
  {
   "cell_type": "code",
   "execution_count": 61,
   "metadata": {},
   "outputs": [],
   "source": [
    "# plot the accuracy and the loss for training and validation data"
   ]
  },
  {
   "cell_type": "code",
   "execution_count": null,
   "metadata": {},
   "outputs": [],
   "source": [
    "# plot training and validation accuracy\n",
    "acc = history.history['acc'] # retreive training accuracy from history\n",
    "val_acc = history.history['val_acc'] # retreive validation accuracy from history\n",
    "loss = history.history['loss'] # retreive training loss from history\n",
    "val_loss = history.history['val_loss'] # retreive validation loss from history"
   ]
  },
  {
   "cell_type": "code",
   "execution_count": null,
   "metadata": {},
   "outputs": [],
   "source": [
    "# plot training and validation accuracy\n",
    "acc = history.history['acc'] # retreive training accuracy from history\n",
    "val_acc = history.history['val_acc'] # retreive validation accuracy from history\n",
    "loss = history.history['loss'] # retreive training loss from history\n",
    "val_loss = history.history['val_loss'] # retreive validation loss from history\n",
    "\n",
    "# two plots - one for loss and the other for accuract\n",
    "epochs = range(1, len(acc) + 1)\n",
    "\n",
    "# -- plot 1: Number of epochs vs. accuracy\n",
    "plt.plot(epochs, acc, 'bo', label= 'Training acc')\n",
    "plt.plot(epochs, val_acc, 'b', label= 'Validation acc')\n",
    "plt.title('Training and validation accuracy')\n",
    "plt.legend()\n",
    "plt.figure()\n",
    "\n",
    "# -- plot 2: Number of epochs vs. loss\n",
    "plt.plot(epochs, loss, 'bo', label='Training loss')\n",
    "plt.plot(epochs, val_loss, 'b', label='Validation loss')\n",
    "plt.title('Training and validation loss')\n",
    "plt.legend()\n",
    "plt.show()"
   ]
  },
  {
   "cell_type": "markdown",
   "metadata": {},
   "source": [
    "---"
   ]
  },
  {
   "cell_type": "markdown",
   "metadata": {},
   "source": [
    "# 3. Define embedding matrices and model\n"
   ]
  },
  {
   "cell_type": "markdown",
   "metadata": {},
   "source": [
    "## 3.1. Model parameters"
   ]
  },
  {
   "cell_type": "code",
   "execution_count": 73,
   "metadata": {},
   "outputs": [],
   "source": [
    "# embedding parameters\n",
    "vocab_size = len(word_ix)\n",
    "input_size = vocab_size\n",
    "emb_size = 100"
   ]
  },
  {
   "cell_type": "code",
   "execution_count": 74,
   "metadata": {},
   "outputs": [
    {
     "data": {
      "text/plain": [
       "'Vocab size: 10001'"
      ]
     },
     "execution_count": 74,
     "metadata": {},
     "output_type": "execute_result"
    }
   ],
   "source": [
    "# size of vocabulary\n",
    "f\"Vocab size: {vocab_size}\""
   ]
  },
  {
   "cell_type": "markdown",
   "metadata": {},
   "source": [
    "## 3.2. Embedding layers\n",
    "### We use two embedding layers -- one for the target product and one for the context product"
   ]
  },
  {
   "cell_type": "code",
   "execution_count": 75,
   "metadata": {},
   "outputs": [
    {
     "data": {
      "text/plain": [
       "<tf.Tensor 'input_1:0' shape=(?, 1) dtype=float32>"
      ]
     },
     "execution_count": 75,
     "metadata": {},
     "output_type": "execute_result"
    }
   ],
   "source": [
    "# define input layers\n",
    "input_target = Input((1,))\n",
    "input_target\n"
   ]
  },
  {
   "cell_type": "code",
   "execution_count": 76,
   "metadata": {},
   "outputs": [
    {
     "data": {
      "text/plain": [
       "<tf.Tensor 'input_2:0' shape=(?, 1) dtype=float32>"
      ]
     },
     "execution_count": 76,
     "metadata": {},
     "output_type": "execute_result"
    }
   ],
   "source": [
    "input_context = Input((1,))\n",
    "input_context"
   ]
  },
  {
   "cell_type": "code",
   "execution_count": 77,
   "metadata": {},
   "outputs": [
    {
     "data": {
      "text/plain": [
       "<tf.Tensor 'reshape_1/Reshape:0' shape=(?, 100, 1) dtype=float32>"
      ]
     },
     "execution_count": 77,
     "metadata": {},
     "output_type": "execute_result"
    }
   ],
   "source": [
    "# define embedding layers\n",
    "# target\n",
    "target = Embedding(input_dim = vocab_size, output_dim= emb_size, name = \"rho\")(input_target)\n",
    "target = Reshape(target_shape = (emb_size, 1))(target)\n",
    "target"
   ]
  },
  {
   "cell_type": "code",
   "execution_count": 78,
   "metadata": {},
   "outputs": [
    {
     "data": {
      "text/plain": [
       "<tf.Tensor 'reshape_2/Reshape:0' shape=(?, 100, 1) dtype=float32>"
      ]
     },
     "execution_count": 78,
     "metadata": {},
     "output_type": "execute_result"
    }
   ],
   "source": [
    "# context\n",
    "context = Embedding(input_dim = vocab_size, output_dim= emb_size, name = \"alpha\")(input_context)\n",
    "context = Reshape(target_shape = (emb_size, 1))(context)\n",
    "context"
   ]
  },
  {
   "cell_type": "code",
   "execution_count": 79,
   "metadata": {},
   "outputs": [
    {
     "data": {
      "text/plain": [
       "[<tf.Tensor 'input_1:0' shape=(?, 1) dtype=float32>,\n",
       " <tf.Tensor 'input_2:0' shape=(?, 1) dtype=float32>]"
      ]
     },
     "execution_count": 79,
     "metadata": {},
     "output_type": "execute_result"
    }
   ],
   "source": [
    "# concatenate model inputs and outputs\n",
    "input_model = [input_target, input_context]\n",
    "input_model"
   ]
  },
  {
   "cell_type": "code",
   "execution_count": 80,
   "metadata": {
    "scrolled": true
   },
   "outputs": [
    {
     "data": {
      "text/plain": [
       "<tf.Tensor 'dot_1/MatMul:0' shape=(?, 1, 1) dtype=float32>"
      ]
     },
     "execution_count": 80,
     "metadata": {},
     "output_type": "execute_result"
    }
   ],
   "source": [
    "output_embeddings = Dot(axes = 1)([target, context])\n",
    "output_embeddings"
   ]
  },
  {
   "cell_type": "code",
   "execution_count": 81,
   "metadata": {},
   "outputs": [
    {
     "data": {
      "text/plain": [
       "<tf.Tensor 'flatten_1/Reshape:0' shape=(?, ?) dtype=float32>"
      ]
     },
     "execution_count": 81,
     "metadata": {},
     "output_type": "execute_result"
    }
   ],
   "source": [
    "# resize embeddings\n",
    "#output_model = Reshape((1,))(output_embeddings)\n",
    "output_model = Flatten()(output_embeddings)\n",
    "output_model"
   ]
  },
  {
   "cell_type": "code",
   "execution_count": 82,
   "metadata": {},
   "outputs": [],
   "source": [
    "# complete model\n",
    "output_model = Dense(1, activation = \"sigmoid\")(output_model)"
   ]
  },
  {
   "cell_type": "markdown",
   "metadata": {},
   "source": [
    "## 3.3. Complete model"
   ]
  },
  {
   "cell_type": "code",
   "execution_count": 83,
   "metadata": {},
   "outputs": [
    {
     "data": {
      "text/plain": [
       "<keras.engine.training.Model at 0x7fda25172780>"
      ]
     },
     "execution_count": 83,
     "metadata": {},
     "output_type": "execute_result"
    }
   ],
   "source": [
    "# define as keras model\n",
    "pemb_model = Model(inputs = input_model, outputs = output_model)\n",
    "pemb_model"
   ]
  },
  {
   "cell_type": "code",
   "execution_count": 84,
   "metadata": {},
   "outputs": [
    {
     "data": {
      "text/plain": [
       "<keras.optimizers.Adam at 0x7fda253b4be0>"
      ]
     },
     "execution_count": 84,
     "metadata": {},
     "output_type": "execute_result"
    }
   ],
   "source": [
    "# optimizer\n",
    "adam = optimizers.Adam(lr = 0.01, beta_1 = 0.9, beta_2 = 0.999, epsilon = None, decay = 0.0, amsgrad = False)\n",
    "adam"
   ]
  },
  {
   "cell_type": "code",
   "execution_count": 85,
   "metadata": {},
   "outputs": [],
   "source": [
    "# compile model\n",
    "pemb_model.compile(optimizer = adam, loss = 'binary_crossentropy', metrics = ['acc'])"
   ]
  },
  {
   "cell_type": "code",
   "execution_count": 86,
   "metadata": {},
   "outputs": [
    {
     "name": "stdout",
     "output_type": "stream",
     "text": [
      "__________________________________________________________________________________________________\n",
      "Layer (type)                    Output Shape         Param #     Connected to                     \n",
      "==================================================================================================\n",
      "input_1 (InputLayer)            (None, 1)            0                                            \n",
      "__________________________________________________________________________________________________\n",
      "input_2 (InputLayer)            (None, 1)            0                                            \n",
      "__________________________________________________________________________________________________\n",
      "rho (Embedding)                 (None, 1, 100)       1000100     input_1[0][0]                    \n",
      "__________________________________________________________________________________________________\n",
      "alpha (Embedding)               (None, 1, 100)       1000100     input_2[0][0]                    \n",
      "__________________________________________________________________________________________________\n",
      "reshape_1 (Reshape)             (None, 100, 1)       0           rho[0][0]                        \n",
      "__________________________________________________________________________________________________\n",
      "reshape_2 (Reshape)             (None, 100, 1)       0           alpha[0][0]                      \n",
      "__________________________________________________________________________________________________\n",
      "dot_1 (Dot)                     (None, 1, 1)         0           reshape_1[0][0]                  \n",
      "                                                                 reshape_2[0][0]                  \n",
      "__________________________________________________________________________________________________\n",
      "flatten_1 (Flatten)             (None, 1)            0           dot_1[0][0]                      \n",
      "__________________________________________________________________________________________________\n",
      "dense_10 (Dense)                (None, 1)            2           flatten_1[0][0]                  \n",
      "==================================================================================================\n",
      "Total params: 2,000,202\n",
      "Trainable params: 2,000,202\n",
      "Non-trainable params: 0\n",
      "__________________________________________________________________________________________________\n"
     ]
    }
   ],
   "source": [
    "# model summary\n",
    "pemb_model.summary()"
   ]
  },
  {
   "cell_type": "markdown",
   "metadata": {},
   "source": [
    "# 3.4. Initial product embeddings"
   ]
  },
  {
   "cell_type": "code",
   "execution_count": 87,
   "metadata": {
    "scrolled": true
   },
   "outputs": [
    {
     "name": "stdout",
     "output_type": "stream",
     "text": [
      "(10001, 100)\n"
     ]
    }
   ],
   "source": [
    "# initial weights - rho\n",
    "init_alpha = pemb_model.get_layer(\"alpha\").get_weights()[0]\n",
    "print(init_alpha.shape)"
   ]
  },
  {
   "cell_type": "code",
   "execution_count": 88,
   "metadata": {},
   "outputs": [
    {
     "data": {
      "text/plain": [
       "array([-2.39023808e-02, -2.90738475e-02,  9.59039852e-03,  6.69432804e-03,\n",
       "       -3.29390317e-02,  3.84862088e-02,  2.02403702e-02, -1.51698105e-02,\n",
       "        3.06547768e-02, -4.97686863e-03, -1.94667652e-03, -4.42367904e-02,\n",
       "       -3.82545218e-02, -4.17516828e-02, -3.80601734e-03, -2.66839154e-02,\n",
       "        2.69627683e-02, -1.11953840e-02,  3.05713750e-02,  2.46623270e-02,\n",
       "        4.02798094e-02, -8.70703533e-03, -1.00080967e-02, -4.29973006e-05,\n",
       "       -2.45875847e-02, -3.93312089e-02,  2.97454707e-02, -4.72528823e-02,\n",
       "        2.07087882e-02,  2.15715654e-02, -1.74340494e-02,  4.13800143e-02,\n",
       "       -1.36685744e-02,  6.27814606e-03, -2.35304367e-02, -4.20170911e-02,\n",
       "       -2.43209135e-02,  1.23868361e-02, -4.99749780e-02, -1.02254376e-02,\n",
       "        2.67956965e-02,  2.96770595e-02,  1.58358738e-03, -9.88088921e-03,\n",
       "       -4.86193299e-02, -1.34082921e-02, -2.86521446e-02, -1.86030753e-02,\n",
       "       -4.38632257e-02,  3.47171463e-02,  2.51337625e-02, -2.75917184e-02,\n",
       "        4.79260199e-02,  3.92572954e-03, -4.98889685e-02,  2.89928578e-02,\n",
       "        1.42965205e-02,  6.17899001e-04, -2.21699718e-02, -4.22347188e-02,\n",
       "        4.10565026e-02, -5.00613451e-03, -2.86651496e-02,  1.56608932e-02,\n",
       "       -2.00405009e-02, -1.20551810e-02, -2.54499558e-02,  3.31969149e-02,\n",
       "        4.20147218e-02, -4.87782806e-03,  3.49718966e-02,  2.82685272e-02,\n",
       "        1.64826550e-02,  1.85003914e-02, -4.97006662e-02, -4.06229384e-02,\n",
       "       -1.86212435e-02, -2.62451172e-03, -4.41741198e-04, -4.59030978e-02,\n",
       "       -1.53978355e-02, -5.05416468e-03, -4.58105579e-02, -7.08656386e-03,\n",
       "        4.45192941e-02,  4.85059656e-02,  1.13356858e-04, -7.84077495e-03,\n",
       "       -3.26480754e-02, -2.63679624e-02,  3.68507020e-02,  4.20213602e-02,\n",
       "        2.77281441e-02, -5.41587919e-03,  4.26934101e-02,  1.25556923e-02,\n",
       "        2.15414912e-03, -4.79596630e-02,  4.69139256e-02,  2.74153017e-02],\n",
       "      dtype=float32)"
      ]
     },
     "execution_count": 88,
     "metadata": {},
     "output_type": "execute_result"
    }
   ],
   "source": [
    "# check the (random) initial embeddings for a product\n",
    "init_alpha[345]"
   ]
  },
  {
   "cell_type": "markdown",
   "metadata": {},
   "source": [
    "----"
   ]
  },
  {
   "cell_type": "markdown",
   "metadata": {},
   "source": [
    "# 4. Prepare batches for model"
   ]
  },
  {
   "cell_type": "code",
   "execution_count": 89,
   "metadata": {},
   "outputs": [],
   "source": [
    "# sampling table\n",
    "sampling_table = sequence.make_sampling_table(vocab_size)"
   ]
  },
  {
   "cell_type": "code",
   "execution_count": 90,
   "metadata": {},
   "outputs": [],
   "source": [
    "# context size and negative samples\n",
    "ns = 10.0\n",
    "cs = 5"
   ]
  },
  {
   "cell_type": "code",
   "execution_count": 91,
   "metadata": {},
   "outputs": [],
   "source": [
    "def BatchGenerator(training = True):\n",
    "    i = 0\n",
    "    while True:\n",
    "        if training:\n",
    "            order_data = random.sample(train_orders_ix, batch_size)\n",
    "        else:\n",
    "            order_data = random.sample(val_orders_ix, batch_size)\n",
    "        iv = []\n",
    "        dv =[]\n",
    "        for d in order_data:\n",
    "            couples, labels = skipgrams(d, vocabulary_size = vocab_size, window_size = cs,\n",
    "                                        negative_samples = ns, sampling_table = sampling_table)\n",
    "            iv = iv + couples\n",
    "            dv = dv + labels\n",
    "        i += 1\n",
    "        X = np.array(iv, dtype = \"int32\")\n",
    "        X = [X[:, 0], X[:, 1]]\n",
    "        yield X, dv"
   ]
  },
  {
   "cell_type": "code",
   "execution_count": 92,
   "metadata": {},
   "outputs": [],
   "source": [
    "# parameters\n",
    "batch_size = 64\n",
    "num_epochs = 1\n",
    "\n",
    "# training data generator\n",
    "train_gen = BatchGenerator(training = True)\n",
    "\n",
    "# validation data generator\n",
    "val_gen = BatchGenerator(training = False)\n",
    "\n",
    "# history\n",
    "history = History()"
   ]
  },
  {
   "cell_type": "markdown",
   "metadata": {},
   "source": [
    "----"
   ]
  },
  {
   "cell_type": "markdown",
   "metadata": {},
   "source": [
    "# 5. Train model\n",
    "### This could take a while"
   ]
  },
  {
   "cell_type": "code",
   "execution_count": null,
   "metadata": {},
   "outputs": [
    {
     "name": "stdout",
     "output_type": "stream",
     "text": [
      "Epoch 1/1\n",
      "15625/15625 [==============================] - 1037s 66ms/step - loss: 0.2108 - acc: 0.9242 - val_loss: 0.2070 - val_acc: 0.9248\n"
     ]
    }
   ],
   "source": [
    "# train model\n",
    "t0 = time.time()\n",
    "pemb_model.fit_generator(generator = train_gen, \n",
    "                         steps_per_epoch = len(train_orders_ix)//batch_size,\n",
    "                         epochs = num_epochs,\n",
    "                         workers = cpus, \n",
    "                         use_multiprocessing = True, \n",
    "                         validation_data = val_gen,\n",
    "                         validation_steps = len(val_orders_ix)//batch_size,\n",
    "                         callbacks = [history])\n",
    "t1 = time.time()"
   ]
  },
  {
   "cell_type": "code",
   "execution_count": null,
   "metadata": {},
   "outputs": [],
   "source": [
    "# time taken\n",
    "t1 - t0"
   ]
  },
  {
   "cell_type": "code",
   "execution_count": null,
   "metadata": {},
   "outputs": [],
   "source": [
    "# history\n",
    "history.history"
   ]
  },
  {
   "cell_type": "markdown",
   "metadata": {},
   "source": [
    "------"
   ]
  },
  {
   "cell_type": "markdown",
   "metadata": {},
   "source": [
    "# 6. Model results"
   ]
  },
  {
   "cell_type": "code",
   "execution_count": null,
   "metadata": {},
   "outputs": [],
   "source": [
    "# final weights - target words\n",
    "final_alpha = pemb_model.get_layer(\"alpha\").get_weights()[0]"
   ]
  },
  {
   "cell_type": "code",
   "execution_count": null,
   "metadata": {},
   "outputs": [],
   "source": [
    "init_alpha[61]"
   ]
  },
  {
   "cell_type": "code",
   "execution_count": null,
   "metadata": {},
   "outputs": [],
   "source": [
    "final_alpha[61]"
   ]
  },
  {
   "cell_type": "code",
   "execution_count": null,
   "metadata": {},
   "outputs": [],
   "source": [
    "#===============================================\n",
    "# extract embeddings to data frame\n",
    "#===============================================\n",
    "\n",
    "def EmbToDataFrame(ix_word, emb_mat, col_prefix = \"rho\"):\n",
    "    emb_df = {ix_word[i]: list(emb_mat[i]) for i in ix_word.keys()}\n",
    "    emb_df = pd.DataFrame.from_dict(emb_df, orient = \"columns\")\n",
    "    emb_df = emb_df.transpose().reset_index(drop = False)\n",
    "    emb_df.columns = [\"product_id\"] + [col_prefix + str(i + 1) for i in range(emb_df.shape[1] - 1)]\n",
    "    return emb_df"
   ]
  },
  {
   "cell_type": "code",
   "execution_count": null,
   "metadata": {},
   "outputs": [],
   "source": [
    "# get data frame from alpha matrix\n",
    "alpha_df = EmbToDataFrame(ix_word, emb_mat = final_alpha, col_prefix = \"alpha\")\n",
    "display(alpha_df.head())"
   ]
  },
  {
   "cell_type": "markdown",
   "metadata": {},
   "source": [
    "## 6.1. Compute similarity between products"
   ]
  },
  {
   "cell_type": "code",
   "execution_count": null,
   "metadata": {},
   "outputs": [],
   "source": [
    "#===============================================\n",
    "# similarity in alpha matrix\n",
    "#===============================================\n",
    "\n",
    "alpha_sim = cosine_similarity(alpha_df.iloc[:, 1:])\n",
    "alpha_sim = pd.DataFrame(alpha_sim)\n",
    "alpha_sim.reset_index(inplace = True, drop = True)\n",
    "alpha_sim.index = list(alpha_df[\"product_id\"].values)\n",
    "alpha_sim.columns = list(alpha_df[\"product_id\"].values)\n",
    "display(alpha_sim.head())"
   ]
  },
  {
   "cell_type": "code",
   "execution_count": null,
   "metadata": {},
   "outputs": [],
   "source": [
    "# compute similarity\n",
    "def ComputeProductSimilarity(prod_id, alpha_sim, top = 5, include_prod_info = True):\n",
    "    sim = alpha_sim.loc[:, prod_id]\n",
    "    sim = sim.sort_values(ascending = False)\n",
    "    sim = sim[1:][0:top]\n",
    "    sim = pd.DataFrame({\"product_id\" : list(sim.index), \"score\": sim}, index = None)\n",
    "    if include_prod_info:\n",
    "        sim = products.loc[products[\"product_id\"].isin(sim[\"product_id\"]), [\"product_id\", \"product_name\", \"aisle\", \"department\"]]\n",
    "    return sim"
   ]
  },
  {
   "cell_type": "code",
   "execution_count": null,
   "metadata": {},
   "outputs": [],
   "source": [
    "prod_id = \"100\"\n",
    "products.loc[products[\"product_id\"].isin([prod_id]), [\"product_id\", \"product_name\", \"aisle\", \"department\"]]"
   ]
  },
  {
   "cell_type": "code",
   "execution_count": null,
   "metadata": {},
   "outputs": [],
   "source": [
    "ComputeProductSimilarity(prod_id = prod_id, alpha_sim = alpha_sim, top = 10, include_prod_info = True)"
   ]
  },
  {
   "cell_type": "markdown",
   "metadata": {},
   "source": [
    "----"
   ]
  },
  {
   "cell_type": "markdown",
   "metadata": {},
   "source": [
    "### In-class exercise"
   ]
  },
  {
   "cell_type": "code",
   "execution_count": null,
   "metadata": {},
   "outputs": [],
   "source": [
    "# Find most similar products to the following product\n",
    "prod_id = \"927\"\n",
    "products.loc[products[\"product_id\"].isin([prod_id]), [\"product_id\", \"product_name\", \"aisle\", \"department\"]]"
   ]
  },
  {
   "cell_type": "markdown",
   "metadata": {},
   "source": [
    "----"
   ]
  },
  {
   "cell_type": "code",
   "execution_count": null,
   "metadata": {},
   "outputs": [],
   "source": [
    "# Find most similar products to the following product\n",
    "prod_id = \"9964\"\n",
    "products.loc[products[\"product_id\"].isin([prod_id]), [\"product_id\", \"product_name\", \"aisle\", \"department\"]]"
   ]
  },
  {
   "cell_type": "markdown",
   "metadata": {},
   "source": [
    "----"
   ]
  },
  {
   "cell_type": "markdown",
   "metadata": {},
   "source": [
    "--------"
   ]
  },
  {
   "cell_type": "markdown",
   "metadata": {},
   "source": [
    "# 7. Product maps using t-sne "
   ]
  },
  {
   "cell_type": "markdown",
   "metadata": {},
   "source": [
    "## Merge product vectors with product info"
   ]
  },
  {
   "cell_type": "code",
   "execution_count": null,
   "metadata": {},
   "outputs": [],
   "source": [
    "#===============================================\n",
    "# column formats\n",
    "#===============================================\n",
    "\n",
    "alpha_df[\"product_id\"] = alpha_df[\"product_id\"].astype(str)\n",
    "products[\"product_id\"] = products[\"product_id\"].astype(str)"
   ]
  },
  {
   "cell_type": "code",
   "execution_count": null,
   "metadata": {},
   "outputs": [],
   "source": [
    "#===============================================\n",
    "# merge relevant columns\n",
    "#===============================================\n",
    "\n",
    "# relevant columns from product info\n",
    "prod_info_cols = [\"product_id\", \"product_name\", \"department\", \"aisle\"]\n",
    "\n",
    "# merge\n",
    "word_vec_df = pd.merge(products[prod_info_cols], alpha_df, on = \"product_id\", how = \"inner\")\n",
    "print(word_vec_df.shape)"
   ]
  },
  {
   "cell_type": "code",
   "execution_count": null,
   "metadata": {},
   "outputs": [],
   "source": [
    "display(word_vec_df.head(10))"
   ]
  },
  {
   "cell_type": "markdown",
   "metadata": {},
   "source": [
    "## 9.1. Fit t-sne"
   ]
  },
  {
   "cell_type": "code",
   "execution_count": null,
   "metadata": {},
   "outputs": [],
   "source": [
    "#===============================================\n",
    "# fit t-sne\n",
    "#===============================================\n",
    "\n",
    "# define model\n",
    "tsne = TSNE(n_components = 2, verbose = 1, perplexity = 35, n_iter = 400)"
   ]
  },
  {
   "cell_type": "code",
   "execution_count": null,
   "metadata": {},
   "outputs": [],
   "source": [
    "# columns to fit on\n",
    "w2v_vec_names = list(word_vec_df.columns)[4:]\n",
    "\n",
    "# fit\n",
    "t0 = time.time()\n",
    "tsne_fit = tsne.fit_transform(word_vec_df[w2v_vec_names])\n",
    "t1 = time.time()"
   ]
  },
  {
   "cell_type": "code",
   "execution_count": null,
   "metadata": {},
   "outputs": [],
   "source": [
    "# time taken\n",
    "f\"Time Taken: {t1 - t0}\""
   ]
  },
  {
   "cell_type": "markdown",
   "metadata": {},
   "source": [
    "## T-sne component data frame"
   ]
  },
  {
   "cell_type": "code",
   "execution_count": null,
   "metadata": {},
   "outputs": [],
   "source": [
    "#===============================================\n",
    "# create t-sne data frame\n",
    "#===============================================\n",
    "\n",
    "tsne_df = word_vec_df[[\"product_name\", \"department\", \"aisle\"]]\n",
    "\n",
    "# extract t-sne dimensions\n",
    "tsne_df[\"x_tsne\"] = tsne_fit[:,0]\n",
    "tsne_df[\"y_tsne\"] = tsne_fit[:,1]\n",
    "print(tsne_df.describe())"
   ]
  },
  {
   "cell_type": "code",
   "execution_count": null,
   "metadata": {},
   "outputs": [],
   "source": [
    "display(tsne_df.head(20))"
   ]
  },
  {
   "cell_type": "markdown",
   "metadata": {},
   "source": [
    "## Plot with ggplot"
   ]
  },
  {
   "cell_type": "code",
   "execution_count": null,
   "metadata": {},
   "outputs": [],
   "source": [
    "#===============================================\n",
    "# subset data for plot\n",
    "#===============================================\n",
    "\n",
    "# select only top departments\n",
    "select_dept = [\"produce\", \"babies\", \"beverages\"]\n",
    "tsne_plot_df = tsne_df.loc[tsne_df[\"department\"].isin(select_dept), :]\n",
    "print(tsne_plot_df.shape)"
   ]
  },
  {
   "cell_type": "code",
   "execution_count": null,
   "metadata": {},
   "outputs": [],
   "source": [
    "tsne_plot = ggplot(tsne_plot_df, aes(x = \"x_tsne\", y = \"y_tsne\", color = \"department\") ) \\\n",
    "        + geom_point(size = 70, alpha = 0.5) \\\n",
    "        + ggtitle(\"T-sne on product vectors\") \\\n",
    "        + xlab(\" \") + ylab(\" \")\n",
    "tsne_plot"
   ]
  },
  {
   "cell_type": "markdown",
   "metadata": {},
   "source": [
    "----"
   ]
  },
  {
   "cell_type": "markdown",
   "metadata": {},
   "source": [
    "# Class exercise - training embeddings"
   ]
  },
  {
   "cell_type": "code",
   "execution_count": null,
   "metadata": {},
   "outputs": [],
   "source": [
    "# Please train embeddings with the following specifcations\n",
    "# embedding size = 50\n",
    "# negative samples = 12\n",
    "# context size = 8\n",
    "# optimizer = rmsprop\n",
    "# optimizer learning rate = 0.025\n",
    "# batch size = 128\n",
    "# epochs = 1"
   ]
  },
  {
   "cell_type": "code",
   "execution_count": null,
   "metadata": {},
   "outputs": [],
   "source": [
    "####### You are welcome to use the following skeleton code\n",
    "\n",
    "\n",
    "# define input layers\n",
    "input_target = Input((1,))\n",
    "input_context = Input((1,))\n",
    "\n",
    "# define embedding layers\n",
    "\n",
    "# target\n",
    "target = Embedding(input_dim = vocab_size, output_dim= emb_size, name = \"rho\")(input_target)\n",
    "target = Reshape(target_shape = (emb_size, 1))(target)\n",
    "\n",
    "# context\n",
    "context = Embedding(input_dim = vocab_size, output_dim= emb_size, name = \"alpha\")(input_context)\n",
    "context = Reshape(target_shape = (emb_size, 1))(context)\n",
    "\n",
    "# concatenate model inputs and outputs\n",
    "input_model = [input_target, input_context]\n",
    "\n",
    "output_embeddings = Dot(axes = 1)([target, context])\n",
    "output_embeddings\n",
    "\n",
    "# resize embeddings\n",
    "#output_model = Reshape((1,))(output_embeddings)\n",
    "output_model = Flatten()(output_embeddings)\n",
    "output_model\n",
    "\n",
    "# complete model\n",
    "output_model = Dense(1, activation = \"sigmoid\")(output_model)\n",
    "\n",
    "# define as keras model\n",
    "new_model = Model(inputs = input_model, outputs = output_model)\n",
    "\n",
    "# optimizer\n",
    "#### rmsprop\n",
    "\n",
    "# compile model\n",
    "# new_model.compile(optimizer = xxxx, loss = 'binary_crossentropy', metrics = ['acc'])\n",
    "\n",
    "# model summary\n",
    "# new_model.summary()"
   ]
  },
  {
   "cell_type": "code",
   "execution_count": null,
   "metadata": {},
   "outputs": [],
   "source": []
  },
  {
   "cell_type": "code",
   "execution_count": null,
   "metadata": {},
   "outputs": [],
   "source": []
  },
  {
   "cell_type": "code",
   "execution_count": null,
   "metadata": {},
   "outputs": [],
   "source": []
  },
  {
   "cell_type": "code",
   "execution_count": null,
   "metadata": {},
   "outputs": [],
   "source": []
  },
  {
   "cell_type": "code",
   "execution_count": null,
   "metadata": {},
   "outputs": [],
   "source": []
  },
  {
   "cell_type": "code",
   "execution_count": null,
   "metadata": {},
   "outputs": [],
   "source": []
  }
 ],
 "metadata": {
  "kernelspec": {
   "display_name": "Python 3",
   "language": "python",
   "name": "python3"
  },
  "language_info": {
   "codemirror_mode": {
    "name": "ipython",
    "version": 3
   },
   "file_extension": ".py",
   "mimetype": "text/x-python",
   "name": "python",
   "nbconvert_exporter": "python",
   "pygments_lexer": "ipython3",
   "version": "3.6.7"
  }
 },
 "nbformat": 4,
 "nbformat_minor": 2
}
