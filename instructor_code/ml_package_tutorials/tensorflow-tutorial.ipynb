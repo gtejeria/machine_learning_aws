{
 "cells": [
  {
   "cell_type": "markdown",
   "metadata": {},
   "source": [
    "![TensorFlow](notebook_diagrams/tensorflow.png)\n",
    "\n",
    "# Tutorial for TensorFlow\n",
    "TensorFlow is a library for creating scalable deep learning models that are efficient and compact.  It is widely used across deep learning applications, and is actually used as the backend for Keras.  Compared to **PyTorch** and **Keras**, it is the most computationally-efficient library of these three popular frameworks, and because of this it is quite often used for deploying models.\n",
    "\n",
    "**NOTE**: TensorFlow 2.0 just came\n",
    "\n",
    "The key element behind TensorFlow is the computation graph."
   ]
  },
  {
   "cell_type": "markdown",
   "metadata": {},
   "source": [
    "## Import Block"
   ]
  },
  {
   "cell_type": "code",
   "execution_count": null,
   "metadata": {},
   "outputs": [],
   "source": [
    "!pip install tensorflow=1.15"
   ]
  }
 ],
 "metadata": {
  "kernelspec": {
   "display_name": "Python 3",
   "language": "python",
   "name": "python3"
  },
  "language_info": {
   "codemirror_mode": {
    "name": "ipython",
    "version": 3
   },
   "file_extension": ".py",
   "mimetype": "text/x-python",
   "name": "python",
   "nbconvert_exporter": "python",
   "pygments_lexer": "ipython3",
   "version": "3.6.8"
  }
 },
 "nbformat": 4,
 "nbformat_minor": 2
}
