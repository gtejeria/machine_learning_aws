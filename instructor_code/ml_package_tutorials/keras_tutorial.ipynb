{
 "cells": [
  {
   "cell_type": "markdown",
   "metadata": {},
   "source": [
    "![Keras Logo](notebook_diagrams/keras.png)\n",
    "\n",
    "# Keras Tutorial\n",
    "\n",
    "\n",
    "Keras is a high-level neural network/deep learning package that is quite powerful - you can actually create a neural network model and train, test, and evaluate it in under 15 lines of code!  Keras is built on top of [TensorFlow](https://www.tensorflow.org/), a powerful, flexible framework that is used to build machine learning applications at scale.  While we won't study TensorFlow or PyTorch (another powerful neural network/deep learning framework) in this course, you are strongly encouraged to explore these packages as well!\n",
    "\n",
    "Keras, and other machine learning packages, leverage the modularity of object-oriented code to create multi-million parameter neural networks using very few lines of code.\n",
    "\n",
    "This Jupyter notebook uses documentation from Keras to provide a quick, hands-on introduction to this high-level machine learning API.  For reference, we used code from the following resource for the examples below: https://keras.io/.  If you'd like to look at another quick introduction to Keras, I would strongly recommend [30 Seconds to Keras](https://keras.io/#getting-started-30-seconds-to-keras), which is what this code is largely based off of.\n",
    "\n"
   ]
  },
  {
   "cell_type": "markdown",
   "metadata": {},
   "source": [
    "# Installation and Imports"
   ]
  },
  {
   "cell_type": "code",
   "execution_count": 1,
   "metadata": {},
   "outputs": [
    {
     "name": "stdout",
     "output_type": "stream",
     "text": [
      "Requirement already satisfied: keras in /home/ubuntu/conda/envs/conda_env/lib/python3.6/site-packages (2.2.4)\n",
      "Requirement already satisfied: numpy>=1.9.1 in /home/ubuntu/conda/envs/conda_env/lib/python3.6/site-packages (from keras) (1.17.3)\n",
      "Requirement already satisfied: scipy>=0.14 in /home/ubuntu/conda/envs/conda_env/lib/python3.6/site-packages (from keras) (1.4.1)\n",
      "Requirement already satisfied: six>=1.9.0 in /home/ubuntu/conda/envs/conda_env/lib/python3.6/site-packages (from keras) (1.13.0)\n",
      "Requirement already satisfied: pyyaml in /home/ubuntu/conda/envs/conda_env/lib/python3.6/site-packages (from keras) (5.2)\n",
      "Requirement already satisfied: h5py in /home/ubuntu/conda/envs/conda_env/lib/python3.6/site-packages (from keras) (2.10.0)\n",
      "Requirement already satisfied: keras_applications>=1.0.6 in /home/ubuntu/conda/envs/conda_env/lib/python3.6/site-packages (from keras) (1.0.8)\n",
      "Requirement already satisfied: keras_preprocessing>=1.0.5 in /home/ubuntu/conda/envs/conda_env/lib/python3.6/site-packages (from keras) (1.1.0)\n"
     ]
    },
    {
     "name": "stderr",
     "output_type": "stream",
     "text": [
      "Using TensorFlow backend.\n",
      "/home/ubuntu/conda/envs/conda_env/lib/python3.6/site-packages/tensorflow/python/framework/dtypes.py:519: FutureWarning: Passing (type, 1) or '1type' as a synonym of type is deprecated; in a future version of numpy, it will be understood as (type, (1,)) / '(1,)type'.\n",
      "  _np_qint8 = np.dtype([(\"qint8\", np.int8, 1)])\n",
      "/home/ubuntu/conda/envs/conda_env/lib/python3.6/site-packages/tensorflow/python/framework/dtypes.py:520: FutureWarning: Passing (type, 1) or '1type' as a synonym of type is deprecated; in a future version of numpy, it will be understood as (type, (1,)) / '(1,)type'.\n",
      "  _np_quint8 = np.dtype([(\"quint8\", np.uint8, 1)])\n",
      "/home/ubuntu/conda/envs/conda_env/lib/python3.6/site-packages/tensorflow/python/framework/dtypes.py:521: FutureWarning: Passing (type, 1) or '1type' as a synonym of type is deprecated; in a future version of numpy, it will be understood as (type, (1,)) / '(1,)type'.\n",
      "  _np_qint16 = np.dtype([(\"qint16\", np.int16, 1)])\n",
      "/home/ubuntu/conda/envs/conda_env/lib/python3.6/site-packages/tensorflow/python/framework/dtypes.py:522: FutureWarning: Passing (type, 1) or '1type' as a synonym of type is deprecated; in a future version of numpy, it will be understood as (type, (1,)) / '(1,)type'.\n",
      "  _np_quint16 = np.dtype([(\"quint16\", np.uint16, 1)])\n",
      "/home/ubuntu/conda/envs/conda_env/lib/python3.6/site-packages/tensorflow/python/framework/dtypes.py:523: FutureWarning: Passing (type, 1) or '1type' as a synonym of type is deprecated; in a future version of numpy, it will be understood as (type, (1,)) / '(1,)type'.\n",
      "  _np_qint32 = np.dtype([(\"qint32\", np.int32, 1)])\n",
      "/home/ubuntu/conda/envs/conda_env/lib/python3.6/site-packages/tensorflow/python/framework/dtypes.py:528: FutureWarning: Passing (type, 1) or '1type' as a synonym of type is deprecated; in a future version of numpy, it will be understood as (type, (1,)) / '(1,)type'.\n",
      "  np_resource = np.dtype([(\"resource\", np.ubyte, 1)])\n"
     ]
    }
   ],
   "source": [
    "# If not already installed\n",
    "!pip install keras\n",
    "import keras\n",
    "\n",
    "# OR\n",
    "from tensorflow import keras\n",
    "\n",
    "# Sequential model is very useful in Keras\n",
    "from keras.models import Sequential, model_from_json, model_from_yaml\n",
    "\n",
    "# Import different layers for defining our networks\n",
    "from keras.layers import Dense, Conv2D\n",
    "\n",
    "# Import numpy\n",
    "import numpy as np\n",
    "\n",
    "# For plotting\n",
    "import matplotlib.pyplot as plt\n",
    "from matplotlib.pyplot import imread\n",
    "\n",
    "# For reading paths\n",
    "import os"
   ]
  },
  {
   "cell_type": "markdown",
   "metadata": {},
   "source": [
    "## Core Data Structure in Keras: The Model\n",
    "The core data structure in Keras is the model class, which has methods for compiling with an optimizer and loss function, fitting (training), evaluation (testing), and prediction.\n",
    "\n",
    "The `model` class is one we will use for essentially all of our operations when we define, train, and test different neural network models.  For more information/documentation on Keras models, visit the link [here](https://keras.io/models/model/)."
   ]
  },
  {
   "cell_type": "markdown",
   "metadata": {},
   "source": [
    "# Feedforward, Stacked Models from Sequential() Class\n",
    "For this tutorial and course, our focus will be primarily on using the `Sequential` type of model.  Other types of models exist, and we encourage you to investigate them!  \n",
    "\n",
    "The main idea with the `Sequential()` model is that we stack layers sequentially, one after one another.  Each layer we add to our model is cascaded with the rest of the layers in our model, by adding it to the network output.  The result we see after stacking these layers below is something similar to the picture below.\n",
    "\n",
    "![Deep NN](notebook_diagrams/deep_nn.png)"
   ]
  },
  {
   "cell_type": "markdown",
   "metadata": {},
   "source": [
    "### Let's Define a Sequential Keras Model\n",
    "We can define our first model below!  We must first \"instantiate\" our Python model object, which creates the `Sequential` model object and runs the `__init__` (also known as constructor) method, which is run every time a Python object is created.\n",
    "\n",
    "Next, we can add layers one at a time.  `Dense` is a type of neural network layer corresponding to fully connected layers.  We can think of fully connected layers as a set of weights in which each node/neuron in one layer is connected to every node/neuron in the next layer.  See an example in the diagram below.\n",
    "\n",
    "![Fully Connected Layer](notebook_diagrams/fclayer.png)\n",
    "\n",
    "Notice how each node/neuron in the first layer has a weight connecting it to a node/neuron in the second layer.'  With this in mind, let's create a **fully connected neural network** below."
   ]
  },
  {
   "cell_type": "code",
   "execution_count": 2,
   "metadata": {},
   "outputs": [
    {
     "name": "stdout",
     "output_type": "stream",
     "text": [
      "_________________________________________________________________\n",
      "Layer (type)                 Output Shape              Param #   \n",
      "=================================================================\n",
      "dense_1 (Dense)              (None, 64)                2112      \n",
      "_________________________________________________________________\n",
      "dense_2 (Dense)              (None, 32)                2080      \n",
      "_________________________________________________________________\n",
      "dense_3 (Dense)              (None, 16)                528       \n",
      "_________________________________________________________________\n",
      "dense_4 (Dense)              (None, 12)                204       \n",
      "_________________________________________________________________\n",
      "dense_5 (Dense)              (None, 10)                130       \n",
      "=================================================================\n",
      "Total params: 5,054\n",
      "Trainable params: 5,054\n",
      "Non-trainable params: 0\n",
      "_________________________________________________________________\n",
      "None\n"
     ]
    }
   ],
   "source": [
    "# First, create the model\n",
    "model = Sequential()  # Enables for stacking of layers\n",
    "\n",
    "# Now add layers\n",
    "model.add(Dense(units=64, activation='relu', input_dim=32))  # Input/first hidden layer\n",
    "model.add(Dense(units=32, activation='relu'))  # Second layer\n",
    "model.add(Dense(units=16, activation='relu'))  # Third layer\n",
    "model.add(Dense(units=12, activation='relu'))  # Fourth layer\n",
    "model.add(Dense(units=10, activation='softmax'))  # Output layer\n",
    "\n",
    "# Now get information about the model\n",
    "print(model.summary())"
   ]
  },
  {
   "cell_type": "markdown",
   "metadata": {},
   "source": [
    "## Compiling, Training, and Evaluation\n",
    "Like other supervised learning algorithms, the next machine learning development step will be to train and test our model.  We will use our fully-connected model from above.\n",
    "\n",
    "We will first `compile` our model, which is a function used in Keras that provides our model with a loss function (which is needed for training), an optimizer (such as Stochastic Gradient Descent), and metrics over which to evaluate the model (such as accuracy or mean squared error).  Visit [this page](https://keras.io/models/model/) for more information on how the `compile` function is used.  \n",
    "\n",
    "### Loss Functions We Will Use For Keras:\n",
    "\n",
    "1. **Categorical Cross-Entropy**: Used for multi-class classification.  A network using this loss function should have the **SoftMax** activation function applied at the output.  Can be used by setting: `loss='categorical_crossentropy'`.\n",
    "\n",
    "\n",
    "2. **Binary Cross-Entropy**: Used for binary classification.  A network using this loss function should have the **sigmoid** activation function applied at the output.  Can be used by setting: `loss='categorical_crossentropy'`.  Intuition: When we have linear activation functions in the hidden layers and a **sigmoid** activation at the output, this is just logistic regression!\n",
    "\n",
    "\n",
    "3. **Mean Squared Error (MSE)**: Used for regression.  A network using this loss function should have the **Linear** or **ReLU** activation function applied at the output.  Can be used by setting: `loss='mean_squared_error'`.  Intuition: When we have linear activation functions in the hidden layers and output layer, this is just linear regression!\n",
    "\n",
    "Keras has many other **loss**, **optimizer**, and **metric** options!  We highly encourage you to investigate these on your own!"
   ]
  },
  {
   "cell_type": "code",
   "execution_count": 3,
   "metadata": {},
   "outputs": [
    {
     "name": "stdout",
     "output_type": "stream",
     "text": [
      "[<keras.layers.core.Dense object at 0x7f9af76ebd30>, <keras.layers.core.Dense object at 0x7f9af76ebe80>, <keras.layers.core.Dense object at 0x7f9b295390b8>, <keras.layers.core.Dense object at 0x7f9af7442d68>, <keras.layers.core.Dense object at 0x7f9af7464ba8>]\n"
     ]
    }
   ],
   "source": [
    "# Use our model from above!\n",
    "print(model.layers)\n",
    "\n",
    "# Compile model\n",
    "model.compile(loss='categorical_crossentropy',\n",
    "              optimizer='sgd',\n",
    "              metrics=['accuracy'])\n",
    "\n",
    "# Fit model to data (x_train and y_train in this case) - data inputs need only be numpy arrays\n",
    "from keras.datasets import cifar10  # Popular image dataset\n",
    "\n",
    "# Split data into training and testing\n",
    "(x_train, y_train), (x_test, y_test) = cifar10.load_data()"
   ]
  },
  {
   "cell_type": "markdown",
   "metadata": {},
   "source": [
    "### Visualize Cifar Data\n",
    "We'll be using the Cifar dataset for this example, which is a famous dataset that is used to train and provide a baseline evaluation for many neural network models in computer vision.\n",
    "\n",
    "Let's look at some of the data we'll be visualizing!"
   ]
  },
  {
   "cell_type": "code",
   "execution_count": 4,
   "metadata": {},
   "outputs": [
    {
     "data": {
      "image/png": "[encoded data removed]",
      "text/plain": [
       "<Figure size 432x288 with 1 Axes>"
      ]
     },
     "metadata": {
      "needs_background": "light"
     },
     "output_type": "display_data"
    },
    {
     "data": {
      "image/png": "[encoded data removed]",
      "text/plain": [
       "<Figure size 432x288 with 1 Axes>"
      ]
     },
     "metadata": {
      "needs_background": "light"
     },
     "output_type": "display_data"
    },
    {
     "data": {
      "image/png": "[encoded data removed]",
      "text/plain": [
       "<Figure size 432x288 with 1 Axes>"
      ]
     },
     "metadata": {
      "needs_background": "light"
     },
     "output_type": "display_data"
    }
   ],
   "source": [
    "import numpy as np\n",
    "\n",
    "N = len(x_train)\n",
    "\n",
    "# Get random indices for showing data\n",
    "random_indices = np.random.randint(low=0, high=N, size=3)\n",
    "\n",
    "# Show images randomly\n",
    "for index in random_indices:\n",
    "    IMG = x_train[index]\n",
    "    plt.imshow(IMG)\n",
    "    plt.show()"
   ]
  },
  {
   "cell_type": "markdown",
   "metadata": {},
   "source": [
    "### Training and Evaluating Our Model\n",
    "With our data split, we are now ready to train and evaluate our neural network model!"
   ]
  },
  {
   "cell_type": "markdown",
   "metadata": {},
   "source": [
    "Next week, we'll be diving into how our neural network models compare to some of the other models we've been analyzing in this course!"
   ]
  },
  {
   "cell_type": "markdown",
   "metadata": {},
   "source": [
    "## Get Model Specs\n",
    "We can also get model information using the specs below.  The `model` Python object contains useful information about the neural network, such as its inputs/outputs, parameters, layers, etc.  We can write a function to retrieve all of this information at once."
   ]
  },
  {
   "cell_type": "code",
   "execution_count": 5,
   "metadata": {},
   "outputs": [],
   "source": [
    "def get_model_specs(model):\n",
    "    print(model.layers)  # Flattened list of tensors comprising model\n",
    "    print(model.inputs)  # List of input tensors to model\n",
    "    print(model.outputs)  # List of output tensors of model \n",
    "    print(model.summary())  # Brief summary of your Keras model\n",
    "    print(model.get_config())  # Dict containing configuration of model"
   ]
  },
  {
   "cell_type": "markdown",
   "metadata": {},
   "source": [
    "## Saving and Loading Models\n",
    "Often times, we don't want to have to retrain models, and want to re-use them whenever we can.  We can do that by saving, loading, and sharing models!\n",
    "\n",
    "This is especially true for when we try to solve problems in machine learning that have been solved in a similar way before.  For example, if we wanted to train a neural network to classify between mate and coffee using images of these objects, a good place to start would be a general object detector trained on a giant dataset called ImageNet.  \n",
    "\n",
    "We won't have time to discuss it in this course, but if you're interested, training on pre-trained models for specific applications such as classifying between mate and coffee is a technique used in the field of [transfer learning](https://machinelearningmastery.com/transfer-learning-for-deep-learning/)."
   ]
  },
  {
   "cell_type": "code",
   "execution_count": 6,
   "metadata": {},
   "outputs": [
    {
     "name": "stdout",
     "output_type": "stream",
     "text": [
      "[<keras.layers.core.Dense object at 0x7f9af76ebd30>, <keras.layers.core.Dense object at 0x7f9af76ebe80>, <keras.layers.core.Dense object at 0x7f9b295390b8>, <keras.layers.core.Dense object at 0x7f9af7442d68>, <keras.layers.core.Dense object at 0x7f9af7464ba8>]\n",
      "[<tf.Tensor 'dense_1_input:0' shape=(?, 32) dtype=float32>]\n",
      "[<tf.Tensor 'dense_5/Softmax:0' shape=(?, 10) dtype=float32>]\n",
      "_________________________________________________________________\n",
      "Layer (type)                 Output Shape              Param #   \n",
      "=================================================================\n",
      "dense_1 (Dense)              (None, 64)                2112      \n",
      "_________________________________________________________________\n",
      "dense_2 (Dense)              (None, 32)                2080      \n",
      "_________________________________________________________________\n",
      "dense_3 (Dense)              (None, 16)                528       \n",
      "_________________________________________________________________\n",
      "dense_4 (Dense)              (None, 12)                204       \n",
      "_________________________________________________________________\n",
      "dense_5 (Dense)              (None, 10)                130       \n",
      "=================================================================\n",
      "Total params: 5,054\n",
      "Trainable params: 5,054\n",
      "Non-trainable params: 0\n",
      "_________________________________________________________________\n",
      "None\n",
      "{'name': 'sequential_1', 'layers': [{'class_name': 'Dense', 'config': {'name': 'dense_1', 'trainable': True, 'batch_input_shape': (None, 32), 'dtype': 'float32', 'units': 64, 'activation': 'relu', 'use_bias': True, 'kernel_initializer': {'class_name': 'VarianceScaling', 'config': {'scale': 1.0, 'mode': 'fan_avg', 'distribution': 'uniform', 'seed': None}}, 'bias_initializer': {'class_name': 'Zeros', 'config': {}}, 'kernel_regularizer': None, 'bias_regularizer': None, 'activity_regularizer': None, 'kernel_constraint': None, 'bias_constraint': None}}, {'class_name': 'Dense', 'config': {'name': 'dense_2', 'trainable': True, 'units': 32, 'activation': 'relu', 'use_bias': True, 'kernel_initializer': {'class_name': 'VarianceScaling', 'config': {'scale': 1.0, 'mode': 'fan_avg', 'distribution': 'uniform', 'seed': None}}, 'bias_initializer': {'class_name': 'Zeros', 'config': {}}, 'kernel_regularizer': None, 'bias_regularizer': None, 'activity_regularizer': None, 'kernel_constraint': None, 'bias_constraint': None}}, {'class_name': 'Dense', 'config': {'name': 'dense_3', 'trainable': True, 'units': 16, 'activation': 'relu', 'use_bias': True, 'kernel_initializer': {'class_name': 'VarianceScaling', 'config': {'scale': 1.0, 'mode': 'fan_avg', 'distribution': 'uniform', 'seed': None}}, 'bias_initializer': {'class_name': 'Zeros', 'config': {}}, 'kernel_regularizer': None, 'bias_regularizer': None, 'activity_regularizer': None, 'kernel_constraint': None, 'bias_constraint': None}}, {'class_name': 'Dense', 'config': {'name': 'dense_4', 'trainable': True, 'units': 12, 'activation': 'relu', 'use_bias': True, 'kernel_initializer': {'class_name': 'VarianceScaling', 'config': {'scale': 1.0, 'mode': 'fan_avg', 'distribution': 'uniform', 'seed': None}}, 'bias_initializer': {'class_name': 'Zeros', 'config': {}}, 'kernel_regularizer': None, 'bias_regularizer': None, 'activity_regularizer': None, 'kernel_constraint': None, 'bias_constraint': None}}, {'class_name': 'Dense', 'config': {'name': 'dense_5', 'trainable': True, 'units': 10, 'activation': 'softmax', 'use_bias': True, 'kernel_initializer': {'class_name': 'VarianceScaling', 'config': {'scale': 1.0, 'mode': 'fan_avg', 'distribution': 'uniform', 'seed': None}}, 'bias_initializer': {'class_name': 'Zeros', 'config': {}}, 'kernel_regularizer': None, 'bias_regularizer': None, 'activity_regularizer': None, 'kernel_constraint': None, 'bias_constraint': None}}]}\n"
     ]
    }
   ],
   "source": [
    "# pickle is also a very useful package for saving models\n",
    "import pickle\n",
    "\n",
    "# Get model information using function above\n",
    "get_model_specs(model)\n",
    "\n",
    "# Now define a path where we can save weights\n",
    "savepath = os.path.join(\"/home\", \"ubuntu\", \"machine_learning_aws\", \"daily_user\", \"ml_package_tutorials\")\n",
    "\n",
    "# Save model to HDF5 file, and then reload it\n",
    "hdf5_path = os.path.join(savepath, \"hdf5_weights.ex.h5\")\n",
    "model.save_weights(hdf5_path)\n",
    "model.load_weights(hdf5_path, by_name=False) \n",
    "\n",
    "# Save as JSON representation, and then reload it\n",
    "json_string = model.to_json()\n",
    "json_pickle_fname = os.path.join(savepath, \"json_weights_ex.pkl\")\n",
    "\n",
    "with open(json_pickle_fname, \"wb\") as pkl_file:\n",
    "    pickle.dump(json_string, pkl_file)\n",
    "    pkl_file.close()\n",
    "    "
   ]
  },
  {
   "cell_type": "markdown",
   "metadata": {},
   "source": [
    "## Get and Set Weights\n",
    "We can get information about weights from above, and can also set weights using our own weight files, or, more commonly, using pre-trained weights!  The intuition here is that some person/company/school went through a lot of trouble to find weights that generally work well for solving problems, so we should use them!\n",
    "\n",
    "Typically, you will use `get_weights` when saving a model, and `set_weights` when loading a model."
   ]
  },
  {
   "cell_type": "code",
   "execution_count": 7,
   "metadata": {},
   "outputs": [],
   "source": [
    "weights = model.get_weights()  # Returns weights of model\n",
    "\n",
    "model.set_weights(weights)  # Sets weights of model to be weights arg"
   ]
  },
  {
   "cell_type": "markdown",
   "metadata": {},
   "source": [
    "## Example of Loading Keras Datasets\n",
    "Next week, we will be analyzing the MNIST dataset, which consists of a series of handwritten digits that have labels ranging from 0 to 9.  We will briefly dive into how we can use neural networks/deep learning with Keras to develop a classifier to predict a number given a handwritten digit - a.k.a. how to train a neural network to recognize handwritten digits."
   ]
  },
  {
   "cell_type": "code",
   "execution_count": 8,
   "metadata": {},
   "outputs": [],
   "source": [
    "# Import dataset\n",
    "from keras.datasets import mnist\n",
    "\n",
    "(x_train, y_train), (x_test, y_test) = mnist.load_data()"
   ]
  },
  {
   "cell_type": "markdown",
   "metadata": {},
   "source": [
    "## Parameters for \"Core\" Keras Layers\n",
    "\n",
    "Below are some of the most important parameters that can be utilized when creating the Keras `layer()` object:\n",
    "\n",
    "1. **units**: Positive integer, dimensionality of the output space.\n",
    "2. **activation**: Activation function to use (see activations). If you don't specify anything, no activation is applied (ie. \"linear\" activation: a(x) = x).\n",
    "3. **use_bias**: Boolean, whether the layer uses a bias vector.\n",
    "\n",
    "The `layer()` object has other properties as well, but it is only recommended you change these if you have a strong reason to:\n",
    "\n",
    "4. **kernel_initializer**: Initializer for the kernel weights matrix (see initializers).\n",
    "5. **bias_initializer**: Initializer for the bias vector (see initializers).\n",
    "6. **kernel_regularizer**: Regularizer function applied to the kernel weights matrix (see regularizer).\n",
    "7. **bias_regularizer**: Regularizer function applied to the bias vector (see regularizer).\n",
    "8. **activity_regularizer**: Regularizer function applied to the output of the layer (its \"activation\"). (see regularizer).\n",
    "9. **kernel_constraint**: Constraint function applied to the kernel weights matrix (see constraints).\n",
    "10. **bias_constraint**: Constraint function applied to the bias vector (see constraints)."
   ]
  },
  {
   "cell_type": "markdown",
   "metadata": {},
   "source": [
    "## Important Keras Layers\n",
    "\n",
    "Keras also supports the creation of different types of layers for different neural network applications.  For this course, we will mostly be focused on using **1, 4, 6, and 8**.    \n",
    "\n",
    "\n",
    "1. **Dense**: Fully connected layer.\n",
    "2. **Activation**: Layer for applying an activation function to an output.  \n",
    "3. **Dropout**: Applies a dropout layer.  Probability of dropout is an argument in layer init.\n",
    "4. **Flatten**: Layer typically used for turning 2D/3D into 1D vector (e.g. Conv layers to Dense).\n",
    "5. **Conv1D**: 1D convolutional layer.\n",
    "6. **Conv2D**: 2D convolutional layer.\n",
    "7. **MaxPooling1D**: Layer for max pooling in 1D.\n",
    "8. **MaxPooling2D**: Layer for max pooling in 2D.\n",
    "9. **RNN & GRU**: Base classes for recurrent layers.\n",
    "10. **BatchNormalization**: Batch normalization layer."
   ]
  },
  {
   "cell_type": "markdown",
   "metadata": {},
   "source": [
    "## Important Training Specifications\n",
    "\n",
    "Keras, and deep learning as a whole, have a set of training parameters that are quite important for training models effectively.  These are:\n",
    "\n",
    "1. **learning rate**: This controls how large the steps we take during training are.  To avoid having to repeat computations too many times, we should make this as large as possible, but not so large that our weights diverge!\n",
    "\n",
    "\n",
    "2. **batch size**: This is the number of samples we process each time we take an optimization (gradient) step when training our neural network.  Generally, the larger the batch size, the more stable training will be.  Often GPU and/or CPU sizes impose limits on how large we can make our batch size.\n",
    "\n",
    "\n",
    "3. **epochs**: This is the number of complete passes through the training dataset that we make as we train our models.  Generally, more epochs leads to better performance on the training dataset.  However, we must be wary of overfitting/overtraining - just because the model performs well on the training dataset doesn't mean the model will perform will on the validation/test dataset."
   ]
  },
  {
   "cell_type": "markdown",
   "metadata": {},
   "source": [
    "## In-Class Exercise: Build Your Own Neural Network for Binary Classification!\n",
    "\n",
    "The best way to learn how to use these packages is to try them out for yourself!  Let's go through the semantics of building a neural network model and training it.  We'll use auto-generated data to see how well our neural network can make predictions."
   ]
  },
  {
   "cell_type": "code",
   "execution_count": 9,
   "metadata": {},
   "outputs": [],
   "source": [
    "# Define a function for generating a dataset\n",
    "def generate_features(n=10000):\n",
    "    \n",
    "    # Generate the un-rotated data\n",
    "    x1 = np.random.normal(loc=0, scale=5, size=n)\n",
    "    x2 = np.random.normal(loc=0, scale=1, size=n)\n",
    "    stacked_data = np.vstack((x1, x2))\n",
    "\n",
    "    # Generate a random angle for rotation\n",
    "    theta = np.random.randint(low=0, high=360)\n",
    "    \n",
    "    # Make rotation matrix\n",
    "    c, s = np.cos(theta), np.sin(theta)\n",
    "    R = np.array(((c,-s), (s, c)))\n",
    "\n",
    "    # Rotate data\n",
    "    return R @ stacked_data\n",
    "\n",
    "def generate_labels(D):\n",
    "    labels = np.array([1 if np.linalg.norm(D[:,i]) < 2.5 else 0 for i in range(D.shape[1])])\n",
    "    return labels\n",
    "\n",
    "def plot(D, L):\n",
    "    num_ones = len(np.nonzero(L)[0])\n",
    "    ones = np.zeros((num_ones,2))\n",
    "    zeros = np.zeros((D.shape[1]-num_ones,2))\n",
    "    \n",
    "    one_index = 0\n",
    "    zero_index = 0\n",
    "    for i in range(len(L)):\n",
    "        if L[i] == 1:\n",
    "            ones[one_index] = D[:,i]\n",
    "            one_index += 1\n",
    "\n",
    "        else:\n",
    "            zeros[zero_index] = D[:,i]\n",
    "            zero_index += 1\n",
    "    \n",
    "    l1 = plt.scatter(ones[:,0], ones[:,1], color='b')\n",
    "    l0 = plt.scatter(zeros[:,0], zeros[:,1], color='r')\n",
    "    plt.title(\"Graph of Binary Elliptical Dataset\")\n",
    "    plt.legend((l1, l0), (\"Label = 1\", \"Label = 0\"))\n",
    "    plt.show()\n",
    "    \n",
    "def split_train_test(D, L, test_split=0.2):\n",
    "    split_num = int((1-test_split) * D.shape[1])\n",
    "    D_train = D[:,:split_num]\n",
    "    D_test = D[:,split_num:]\n",
    "    L_train = L[:split_num]\n",
    "    L_test = L[split_num:]\n",
    "    return D_train, D_test, L_train, L_test\n",
    "\n",
    "\n",
    "# Generate dataset and labels\n",
    "D = generate_features()\n",
    "L = generate_labels(D)\n",
    "D_train, D_test, L_train, L_test = split_train_test(D, L)\n"
   ]
  },
  {
   "cell_type": "markdown",
   "metadata": {},
   "source": [
    "#### Plot Data\n",
    "We can visualize these different classes using `matplotlib`. "
   ]
  },
  {
   "cell_type": "code",
   "execution_count": 10,
   "metadata": {},
   "outputs": [
    {
     "name": "stdout",
     "output_type": "stream",
     "text": [
      "Plotting Train Data\n"
     ]
    },
    {
     "data": {
      "image/png": "[encoded data removed]",
      "text/plain": [
       "<Figure size 432x288 with 1 Axes>"
      ]
     },
     "metadata": {
      "needs_background": "light"
     },
     "output_type": "display_data"
    },
    {
     "name": "stdout",
     "output_type": "stream",
     "text": [
      "Plotting Test Data\n"
     ]
    },
    {
     "data": {
      "image/png": "[encoded data removed]",
      "text/plain": [
       "<Figure size 432x288 with 1 Axes>"
      ]
     },
     "metadata": {
      "needs_background": "light"
     },
     "output_type": "display_data"
    }
   ],
   "source": [
    "print(\"Plotting Train Data\")\n",
    "plot(D_train, L_train)\n",
    "\n",
    "print(\"Plotting Test Data\")\n",
    "plot(D_test, L_test)"
   ]
  },
  {
   "cell_type": "markdown",
   "metadata": {},
   "source": [
    "#### Your Turn\n",
    "Can you design a neural network to learn this representation?  Some starting code is provided.  We'll compare how well your prediction does both quantiatively and visually.\n",
    "\n",
    "What accuracies can you achieve on this test set?  Experiment with the following model and model parameters:\n",
    "\n",
    "1. `layers`: You can change the number and types of layers in the model specification.\n",
    "\n",
    "\n",
    "2. `EPOCHS`: This is the number of complete passes we make through the training data.\n"
   ]
  },
  {
   "cell_type": "code",
   "execution_count": 11,
   "metadata": {},
   "outputs": [
    {
     "ename": "ValueError",
     "evalue": "Error when checking target: expected dense_6 to have shape (32,) but got array with shape (1,)",
     "output_type": "error",
     "traceback": [
      "\u001b[0;31m---------------------------------------------------------------------------\u001b[0m",
      "\u001b[0;31mValueError\u001b[0m                                Traceback (most recent call last)",
      "\u001b[0;32m<ipython-input-11-13ee3c96f2a4>\u001b[0m in \u001b[0;36m<module>\u001b[0;34m\u001b[0m\n\u001b[1;32m     16\u001b[0m \u001b[0;34m\u001b[0m\u001b[0m\n\u001b[1;32m     17\u001b[0m \u001b[0;31m# Now we are ready to fit our model!\u001b[0m\u001b[0;34m\u001b[0m\u001b[0;34m\u001b[0m\u001b[0;34m\u001b[0m\u001b[0m\n\u001b[0;32m---> 18\u001b[0;31m \u001b[0mmy_model\u001b[0m\u001b[0;34m.\u001b[0m\u001b[0mfit\u001b[0m\u001b[0;34m(\u001b[0m\u001b[0mD_train\u001b[0m\u001b[0;34m.\u001b[0m\u001b[0mT\u001b[0m\u001b[0;34m,\u001b[0m \u001b[0mL_train\u001b[0m\u001b[0;34m.\u001b[0m\u001b[0mT\u001b[0m\u001b[0;34m,\u001b[0m \u001b[0mepochs\u001b[0m\u001b[0;34m=\u001b[0m\u001b[0mEPOCHS\u001b[0m\u001b[0;34m,\u001b[0m \u001b[0mbatch_size\u001b[0m\u001b[0;34m=\u001b[0m\u001b[0;36m32\u001b[0m\u001b[0;34m)\u001b[0m\u001b[0;34m\u001b[0m\u001b[0;34m\u001b[0m\u001b[0m\n\u001b[0m\u001b[1;32m     19\u001b[0m \u001b[0;34m\u001b[0m\u001b[0m\n\u001b[1;32m     20\u001b[0m \u001b[0;31m# Evaluate the model on the training dataset\u001b[0m\u001b[0;34m\u001b[0m\u001b[0;34m\u001b[0m\u001b[0;34m\u001b[0m\u001b[0m\n",
      "\u001b[0;32m~/conda/envs/conda_env/lib/python3.6/site-packages/keras/engine/training.py\u001b[0m in \u001b[0;36mfit\u001b[0;34m(self, x, y, batch_size, epochs, verbose, callbacks, validation_split, validation_data, shuffle, class_weight, sample_weight, initial_epoch, steps_per_epoch, validation_steps, **kwargs)\u001b[0m\n\u001b[1;32m    950\u001b[0m             \u001b[0msample_weight\u001b[0m\u001b[0;34m=\u001b[0m\u001b[0msample_weight\u001b[0m\u001b[0;34m,\u001b[0m\u001b[0;34m\u001b[0m\u001b[0;34m\u001b[0m\u001b[0m\n\u001b[1;32m    951\u001b[0m             \u001b[0mclass_weight\u001b[0m\u001b[0;34m=\u001b[0m\u001b[0mclass_weight\u001b[0m\u001b[0;34m,\u001b[0m\u001b[0;34m\u001b[0m\u001b[0;34m\u001b[0m\u001b[0m\n\u001b[0;32m--> 952\u001b[0;31m             batch_size=batch_size)\n\u001b[0m\u001b[1;32m    953\u001b[0m         \u001b[0;31m# Prepare validation data.\u001b[0m\u001b[0;34m\u001b[0m\u001b[0;34m\u001b[0m\u001b[0;34m\u001b[0m\u001b[0m\n\u001b[1;32m    954\u001b[0m         \u001b[0mdo_validation\u001b[0m \u001b[0;34m=\u001b[0m \u001b[0;32mFalse\u001b[0m\u001b[0;34m\u001b[0m\u001b[0;34m\u001b[0m\u001b[0m\n",
      "\u001b[0;32m~/conda/envs/conda_env/lib/python3.6/site-packages/keras/engine/training.py\u001b[0m in \u001b[0;36m_standardize_user_data\u001b[0;34m(self, x, y, sample_weight, class_weight, check_array_lengths, batch_size)\u001b[0m\n\u001b[1;32m    787\u001b[0m                 \u001b[0mfeed_output_shapes\u001b[0m\u001b[0;34m,\u001b[0m\u001b[0;34m\u001b[0m\u001b[0;34m\u001b[0m\u001b[0m\n\u001b[1;32m    788\u001b[0m                 \u001b[0mcheck_batch_axis\u001b[0m\u001b[0;34m=\u001b[0m\u001b[0;32mFalse\u001b[0m\u001b[0;34m,\u001b[0m  \u001b[0;31m# Don't enforce the batch size.\u001b[0m\u001b[0;34m\u001b[0m\u001b[0;34m\u001b[0m\u001b[0m\n\u001b[0;32m--> 789\u001b[0;31m                 exception_prefix='target')\n\u001b[0m\u001b[1;32m    790\u001b[0m \u001b[0;34m\u001b[0m\u001b[0m\n\u001b[1;32m    791\u001b[0m             \u001b[0;31m# Generate sample-wise weight values given the `sample_weight` and\u001b[0m\u001b[0;34m\u001b[0m\u001b[0;34m\u001b[0m\u001b[0;34m\u001b[0m\u001b[0m\n",
      "\u001b[0;32m~/conda/envs/conda_env/lib/python3.6/site-packages/keras/engine/training_utils.py\u001b[0m in \u001b[0;36mstandardize_input_data\u001b[0;34m(data, names, shapes, check_batch_axis, exception_prefix)\u001b[0m\n\u001b[1;32m    136\u001b[0m                             \u001b[0;34m': expected '\u001b[0m \u001b[0;34m+\u001b[0m \u001b[0mnames\u001b[0m\u001b[0;34m[\u001b[0m\u001b[0mi\u001b[0m\u001b[0;34m]\u001b[0m \u001b[0;34m+\u001b[0m \u001b[0;34m' to have shape '\u001b[0m \u001b[0;34m+\u001b[0m\u001b[0;34m\u001b[0m\u001b[0;34m\u001b[0m\u001b[0m\n\u001b[1;32m    137\u001b[0m                             \u001b[0mstr\u001b[0m\u001b[0;34m(\u001b[0m\u001b[0mshape\u001b[0m\u001b[0;34m)\u001b[0m \u001b[0;34m+\u001b[0m \u001b[0;34m' but got array with shape '\u001b[0m \u001b[0;34m+\u001b[0m\u001b[0;34m\u001b[0m\u001b[0;34m\u001b[0m\u001b[0m\n\u001b[0;32m--> 138\u001b[0;31m                             str(data_shape))\n\u001b[0m\u001b[1;32m    139\u001b[0m     \u001b[0;32mreturn\u001b[0m \u001b[0mdata\u001b[0m\u001b[0;34m\u001b[0m\u001b[0;34m\u001b[0m\u001b[0m\n\u001b[1;32m    140\u001b[0m \u001b[0;34m\u001b[0m\u001b[0m\n",
      "\u001b[0;31mValueError\u001b[0m: Error when checking target: expected dense_6 to have shape (32,) but got array with shape (1,)"
     ]
    }
   ],
   "source": [
    "# First, initialize model\n",
    "my_model = Sequential()\n",
    "\n",
    "# Now, add layers to your network! HINT: Make sure you use \"activation=sigmoid\" at your output layer\n",
    "my_model.add(Dense(units=32, activation='relu', input_dim=2))  # Input/first hidden layer\n",
    "\"\"\"<ADD MORE LAYERS HERE>\"\"\"\n",
    "\n",
    "# Compile the model - what loss should we use?  Remember we're doing 1/0 classification.\n",
    "LOSS = \"binary_crossentropy\"\n",
    "my_model.compile(loss=LOSS,\n",
    "              optimizer='sgd',\n",
    "              metrics=['accuracy'])\n",
    "\n",
    "# Now train the model!\n",
    "EPOCHS = \"\"\"<SET EPOCHS HERE>\"\"\"\n",
    "\n",
    "# Now we are ready to fit our model!\n",
    "my_model.fit(D_train.T, L_train.T, epochs=EPOCHS, batch_size=32)\n",
    "\n",
    "# Evaluate the model on the training dataset\n",
    "loss_and_metrics = my_model.evaluate(D_test.T, L_test.T, batch_size=128)\n",
    "\n",
    "# Find predictions on the test dataset\n",
    "classes = my_model.predict(D_test.T, batch_size=128)\n",
    "classes[classes >= 0.5] = 1\n",
    "classes[classes < 0.5] = 0\n",
    "\n"
   ]
  },
  {
   "cell_type": "code",
   "execution_count": null,
   "metadata": {},
   "outputs": [],
   "source": [
    "# Now compare plots to see how we did!\n",
    "print(\"Predicted classes\")\n",
    "plot(D_test, classes)\n",
    "\n",
    "print(\"Actual classes\")\n",
    "plot(D_test, L_test)"
   ]
  },
  {
   "cell_type": "markdown",
   "metadata": {},
   "source": [
    "There is one peculiar thing about this dataset that you probably won't find with many other datasets.  Do you know what it is?  Hint: Think about how our samples were generated (independently and identically-distributed).  Does the split we have for our training and testing datasets affect the distribution of each?"
   ]
  },
  {
   "cell_type": "markdown",
   "metadata": {},
   "source": [
    "## ADDITIONAL CONTENT: Modifying the Model() Class for Fully-Customizable Models\n",
    "We can modify the `Model()` class in Keras to create flexible models with our choice of layers, actvation functions, etc.  \n",
    "\n",
    "The code below is more similar to the code we would see when building models in `pytorch` or `tensorflow`, which are machine learning packages that provide the user more flexibility with defining models and training and evaluation procedures, at the price of being somewhat more lower-level.  We will not be using these frameworks in this course, but we strongly encourage you to explore these frameworks in greater detail if you're interested.  Both `pytorch` and `tensorflow` are free and open-source, so you could start using them right now if you wanted to!\n"
   ]
  },
  {
   "cell_type": "code",
   "execution_count": 12,
   "metadata": {},
   "outputs": [],
   "source": [
    "import keras\n",
    "\n",
    "class SimpleMLP(keras.Model):\n",
    "    \n",
    "    # This function is known as the \"constructor\" for class objects\n",
    "    def __init__(self, use_bn=False, use_dp=False, num_classes=10):\n",
    "        \n",
    "        # \"Inherits from the base keras.Model class\"\n",
    "        super(SimpleMLP, self).__init__(name='mlp')\n",
    "        self.use_bn = use_bn\n",
    "        self.use_dp = use_dp\n",
    "        self.num_classes = num_classes\n",
    "        \n",
    "        # Define layers of neural network model\n",
    "        self.dense1 = keras.layers.Dense(32, activation='relu')\n",
    "        self.dense2 = keras.layers.Dense(num_classes, activation='softmax')\n",
    "        if self.use_dp:\n",
    "            self.dp = keras.layers.Dropout(0.5)\n",
    "        if self.use_bn:\n",
    "            self.bn = keras.layers.BatchNormalization(axis=-1)\n",
    "    \n",
    "    # Function for passing an input through the neural network\n",
    "    def call(self, inputs):\n",
    "        x = self.dense1(inputs)\n",
    "        if self.use_dp:\n",
    "            x = self.dp(x)\n",
    "        if self.use_bn:\n",
    "            x = self.bn(x)\n",
    "        return self.dense2(x)\n",
    "\n",
    "# Create a model, compile it with a loss function, optimizer, and metric, and then train it!\n",
    "model = SimpleMLP()\n",
    "model.compile(loss='categorical_crossentropy',\n",
    "              optimizer='sgd',\n",
    "              metrics=['accuracy'])"
   ]
  }
 ],
 "metadata": {
  "kernelspec": {
   "display_name": "Python 3",
   "language": "python",
   "name": "python3"
  },
  "language_info": {
   "codemirror_mode": {
    "name": "ipython",
    "version": 3
   },
   "file_extension": ".py",
   "mimetype": "text/x-python",
   "name": "python",
   "nbconvert_exporter": "python",
   "pygments_lexer": "ipython3",
   "version": "3.6.7"
  }
 },
 "nbformat": 4,
 "nbformat_minor": 2
}
