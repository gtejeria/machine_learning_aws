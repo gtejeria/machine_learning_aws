{
 "cells": [
  {
   "cell_type": "markdown",
   "metadata": {},
   "source": [
    "![Open CV](notebook_diagrams/opencv.png)\n",
    "\n",
    "# Tutorial for OpenCV\n",
    "OpenCV is a library for processing images with computer vision algorithms.  Like pandas and numpy, it is extremely important for machine learning, particularly for computer vision.  OpenCV is written primariily in C++, but there are Python wrappers for it that enable for the code to be processed as though it were written in C++.\n",
    "\n",
    "All the OpenCV array structures are converted to-and-from Numpy arrays. So whatever operations you can do in Numpy, you can combine it with OpenCV.  This makes OpenCV and Numpy extremely useful when used together.  Typically, **OpenCV** is used for loading/saving images, as well as for complex image manipulation (such as detecting objects in images), while **Numpy** is more often used for matrix-like image manipulations, such as rotating or cropping an image. \n",
    "\n",
    "In this tutorial, we'll explore the basic functionalities of OpenCV, and how they can be used in computer vision. \n",
    "\n",
    "A reference to this documentation can be found [here](https://opencv-python-tutroals.readthedocs.io/en/latest/py_tutorials/py_setup/py_intro/py_intro.html#intro)."
   ]
  },
  {
   "cell_type": "markdown",
   "metadata": {},
   "source": [
    "## Import Block\n",
    "Typically you will see `import cv2 as cv` written, but this is just convention.  You can write this import statement in whatever way works best for you."
   ]
  },
  {
   "cell_type": "code",
   "execution_count": null,
   "metadata": {},
   "outputs": [],
   "source": [
    "# We will also be using opencv, an image processing library\n",
    "! pip install opencv-python\n",
    "import cv2 as cv\n",
    "\n",
    "# Import NumPy\n",
    "import numpy as np \n",
    "\n",
    "# We will use os to find specific paths in our directories\n",
    "import os\n",
    "\n",
    "# Use for plotting\n",
    "import matplotlib.pyplot as plt\n",
    "from matplotlib.pyplot import imread\n",
    "\n",
    "# Used for OCR\n",
    "import math\n",
    "from scipy import ndimage\n",
    "!pip install pytesseract\n",
    "import pytesseract"
   ]
  },
  {
   "cell_type": "markdown",
   "metadata": {},
   "source": [
    "## Loading Images from OpenCV\n",
    "OpenCV has efficient and compact functionality built-in for loading images.  **NOTE**: OpenCV loads images in BGR format, rather than RGB.  We can use code below to make sure we load images in RGB format."
   ]
  },
  {
   "cell_type": "code",
   "execution_count": null,
   "metadata": {},
   "outputs": [],
   "source": [
    "# Import image\n",
    "img_fname = os.path.join(\"notebook_diagrams\",\"puppy.png\")\n",
    "\n",
    "# Now let's load the image into a numpy array using opencv!\n",
    "A_BGR = cv.imread(img_fname)\n",
    "A_RGB = cv.cvtColor(A_BGR, cv.COLOR_BGR2RGB)\n",
    "\n",
    "print(\"Data type of loaded image is %s\" % (type(A_BGR)))"
   ]
  },
  {
   "cell_type": "markdown",
   "metadata": {},
   "source": [
    "We can see that after we load the image using **OpenCV**, the image is stored as a Numpy array!  This means we can use all of Numpy's vector, matrix, linear algebra, and mathematical functions that are extremely relevant for many computer vision and image pre-processing tasks."
   ]
  },
  {
   "cell_type": "markdown",
   "metadata": {},
   "source": [
    "## Plotting Loaded Images using Matplotlib\n",
    "After loading our images, we can also visualize what they look like using matplotlib's `imread` function."
   ]
  },
  {
   "cell_type": "code",
   "execution_count": null,
   "metadata": {},
   "outputs": [],
   "source": [
    "# Plot the BGR image\n",
    "plt.imshow(A_BGR)\n",
    "plt.title(\"BGR image\")\n",
    "plt.show()\n",
    "plt.clf()\n",
    "\n",
    "# Plot the RGB image\n",
    "plt.imshow(A_RGB)\n",
    "plt.title(\"RGB image\")\n",
    "plt.show()\n",
    "plt.clf()"
   ]
  },
  {
   "cell_type": "markdown",
   "metadata": {},
   "source": [
    "## Combining Numpy and OpenCV: Color Segmentation\n",
    "Now that we've seen one way in which we can use numpy and OpenCV together, we can use the two libraries together to perform more complex operations on imagery.  One of these operations is known as color segmentation, which we will explore below."
   ]
  },
  {
   "cell_type": "code",
   "execution_count": null,
   "metadata": {},
   "outputs": [],
   "source": [
    "# Remember A_RGB is our image\n",
    "IMG = A_RGB\n",
    "\n",
    "# Specify upper and lower bands\n",
    "LOWER_BAND = [110,50,50]\n",
    "UPPER_BAND = [130,255,255]\n",
    "\n",
    "# define range of blue color in HSV\n",
    "lower_blue = np.array(LOWER_BAND)\n",
    "upper_blue = np.array(UPPER_BAND)\n",
    "\n",
    "# Threshold the HSV image to get only blue colors\n",
    "mask = cv.inRange(IMG, lower_blue, upper_blue)\n",
    "\n",
    "# Bitwise-AND mask and original image\n",
    "res = cv.bitwise_and(IMG, IMG, mask= mask)\n",
    "\n",
    "# Plot original\n",
    "plt.imshow(IMG)\n",
    "plt.title(\"Original Image\")\n",
    "plt.show()\n",
    "plt.clf()\n",
    "\n",
    "# Plot mask\n",
    "plt.imshow(mask)\n",
    "plt.title(\"Binary Mask\")\n",
    "plt.show()\n",
    "plt.clf()\n",
    "\n",
    "# Plot result\n",
    "plt.imshow(res)\n",
    "plt.title(\"Original Image\")\n",
    "plt.show()\n",
    "plt.clf()\n"
   ]
  },
  {
   "cell_type": "markdown",
   "metadata": {},
   "source": [
    "## Processing Image Data with Numpy and OpenCV\n",
    "As discussed in the numpy tutorial, another aspect of numpy that makes it really important for machine learning and computer vision is its ability to process and transform large matrices and tensors (matrices of any generalized size).  We'll go through a simple example here with loading and processing an image, but we will see in future lectures and tutorials that numpy plays a crucial role in the computer vision pipeline.\n",
    "\n",
    "**Overview of Procedure:**\n",
    "1. We load the image by reading it in from the specified image path using **OpenCV**.  Note that we need to change the order in which the channels of the image are read in (by default, OpenCV reads channels in as BGR, not RGB).\n",
    "\n",
    "2."
   ]
  },
  {
   "cell_type": "code",
   "execution_count": null,
   "metadata": {},
   "outputs": [],
   "source": [
    "# Image path\n",
    "img_fpath = os.path.join(\"notebook_diagrams\", \"numpy_example.png\")\n",
    "\n",
    "# Load image\n",
    "A = cv.imread(img_fpath)\n",
    "\n",
    "# Change channels from BGR --> RGB\n",
    "A = cv.cvtColor(A, cv.COLOR_BGR2RGB)\n",
    "\n",
    "# Let's print some characteristics about our image array, A\n",
    "print(\"Type of A: %s\" % (type(A)))\n",
    "print(\"Shape of Image: {}\".format(A.shape))\n"
   ]
  },
  {
   "cell_type": "markdown",
   "metadata": {},
   "source": [
    "##### Now Plot the Image\n",
    "We'll do this through the **matplotlib** library, which is used primarily for plotting."
   ]
  },
  {
   "cell_type": "code",
   "execution_count": null,
   "metadata": {},
   "outputs": [],
   "source": [
    "# Show the image\n",
    "plt.imshow(A)\n",
    "plt.title(\"Original Image\")\n",
    "plt.show()"
   ]
  },
  {
   "cell_type": "markdown",
   "metadata": {},
   "source": [
    "##### Now Let's Crop the Image\n",
    "We can do this through **numpy**. "
   ]
  },
  {
   "cell_type": "code",
   "execution_count": null,
   "metadata": {},
   "outputs": [],
   "source": [
    "# Now crop image\n",
    "cat_dog = A[100:225,300:425]\n",
    "print(\"Shape of cat-dog: {}\".format(cat_dog.shape))\n",
    "plt.imshow(cat_dog)\n",
    "plt.title(\"Cat-Dog Cropped Image\")\n",
    "plt.show()"
   ]
  },
  {
   "cell_type": "markdown",
   "metadata": {},
   "source": [
    "#### Downsampling\n",
    "Next, we will downsample our image down to a smaller size.  This is especially useful if we want to resize our images down to a smaller size, or if we want to reduce the computational complexity of neural networks.  We will write a function that downsamples an image array given by **A** by a factor of **n**.\n",
    "\n",
    "When downsampling, we will first use a Gaussian blur kernel, apply it to the image, and then downsample the blurred image.  We can apply the blurring kernel using [OpenCV's Gaussian Blur kernel](https://opencv-python-tutroals.readthedocs.io/en/latest/py_tutorials/py_imgproc/py_filtering/py_filtering.html)."
   ]
  },
  {
   "cell_type": "code",
   "execution_count": null,
   "metadata": {},
   "outputs": [],
   "source": [
    "# A denotes image array, n denotes the downsampling factor, and k denotes the kernel size\n",
    "def downsample(A, n, k=5):\n",
    "    \n",
    "    # Blur the image\n",
    "    blurred_A = cv.GaussianBlur(A,(k,k),0)\n",
    "    \n",
    "    # Downsample the blurred image\n",
    "    downsampled = blurred_A[::n, ::n, ::]\n",
    "    \n",
    "    return downsampled    "
   ]
  },
  {
   "cell_type": "markdown",
   "metadata": {},
   "source": [
    "##### Downsample the Blurred Image\n",
    "Now we can use our function above to downsample our cat image!  We'll do this by a factor of two and four."
   ]
  },
  {
   "cell_type": "code",
   "execution_count": null,
   "metadata": {},
   "outputs": [],
   "source": [
    "# Now downsample cat-dog - 2x\n",
    "cat_dog_downsampled_2x = downsample(cat_dog, 2)\n",
    "print(\"Shape of cat-dog downsampled 2x: {}\".format(cat_dog_downsampled_2x.shape))\n",
    "plt.imshow(cat_dog_downsampled_2x)\n",
    "plt.title(\"Cat-Dog Downsampled 2x\")\n",
    "plt.show()\n",
    "\n",
    "# 4x\n",
    "cat_dog_downsampled_4x = downsample(cat_dog, 4)\n",
    "print(\"Shape of cat-dog downsampled 4x: {}\".format(cat_dog_downsampled_4x.shape))\n",
    "plt.imshow(cat_dog_downsampled_4x)\n",
    "plt.title(\"Cat-Dog Downsampled 4x\")\n",
    "plt.show()"
   ]
  },
  {
   "cell_type": "markdown",
   "metadata": {},
   "source": [
    "## Real-World Example: OCR (Optical Character Recognition)\n",
    "We can now use OpenCV and a library called pytesseract to predict characters directly from an image.  We'll define some functions below for importing our image, and then we can directly use OCR!"
   ]
  },
  {
   "cell_type": "markdown",
   "metadata": {},
   "source": [
    "### Specify Image Path and Load Image\n",
    "Let's see what the image we'll be reading for OCR looks like!"
   ]
  },
  {
   "cell_type": "code",
   "execution_count": null,
   "metadata": {},
   "outputs": [],
   "source": [
    "IMAGE_FILE_LOCATION = \"notebook_diagrams/OCR_example.jpeg\" # Photo by Amanda Jones on Unsplash\n",
    "input_img = cv2.imread(IMAGE_FILE_LOCATION) # image read\n",
    "plt.imshow(input_img)\n",
    "plt.show()\n",
    "plt.clf()"
   ]
  },
  {
   "cell_type": "markdown",
   "metadata": {},
   "source": [
    "### Function for Orientation Adjustment\n",
    "This function uses OpenCV to adjust the orientation of the image to make sure it's readable for our OCR program."
   ]
  },
  {
   "cell_type": "code",
   "execution_count": null,
   "metadata": {},
   "outputs": [],
   "source": [
    "def orientation_correction(img, save_image = False):\n",
    "    # GrayScale Conversion for the Canny Algorithm  \n",
    "    img_gray = cv2.cvtColor(img, cv2.COLOR_BGR2GRAY) \n",
    "    # Canny Algorithm for edge detection was developed by John F. Canny not Kennedy!! :)\n",
    "    img_edges = cv2.Canny(img_gray, 100, 100, apertureSize=3)\n",
    "    # Using Houghlines to detect lines\n",
    "    lines = cv2.HoughLinesP(img_edges, 1, math.pi / 180.0, 100, minLineLength=100, maxLineGap=5)\n",
    "    \n",
    "    # Finding angle of lines in polar coordinates\n",
    "    angles = []\n",
    "    for x1, y1, x2, y2 in lines[0]:\n",
    "        angle = math.degrees(math.atan2(y2 - y1, x2 - x1))\n",
    "        angles.append(angle)\n",
    "    \n",
    "    # Getting the median angle\n",
    "    median_angle = np.median(angles)\n",
    "    \n",
    "    # Rotating the image with this median angle\n",
    "    img_rotated = ndimage.rotate(img, median_angle)\n",
    "    \n",
    "    if save_image:\n",
    "        cv2.imwrite('orientation_corrected.jpg', img_rotated)\n",
    "    return img_rotated\n",
    "\n",
    "img_rotated = orientation_correction(input_img)"
   ]
  },
  {
   "cell_type": "code",
   "execution_count": null,
   "metadata": {},
   "outputs": [],
   "source": [
    "# load the image, clone it, and setup the mouse callback function \n",
    "image = img_rotated\n",
    "image_copy = image.copy()\n",
    "plt.imshow(image_copy)\n",
    "plt.title(\"Original Image\")\n",
    "plt.show()"
   ]
  },
  {
   "cell_type": "markdown",
   "metadata": {},
   "source": [
    "## Find Regions of Interest, Crop Image, and Apply OCR\n",
    "Now we're ready to apply OCR!  We've chosen some indices for our regions of interest, but you're more than welcome to experiment with other indices as well!"
   ]
  },
  {
   "cell_type": "code",
   "execution_count": null,
   "metadata": {},
   "outputs": [],
   "source": [
    "# Now select coordinates for first ROI\n",
    "image_roi1 = image_copy[390:440,675:1050,::]\n",
    "plt.imshow(image_roi1)\n",
    "plt.title(\"Cropped Region of Interest 1\")\n",
    "plt.show()\n",
    "\n",
    "# Predict text using OCR!\n",
    "text1 = pytesseract.image_to_string(image_roi1)\n",
    "print(\"The text in the selected region is as follows: \\n\")\n",
    "print(text1)\n"
   ]
  },
  {
   "cell_type": "code",
   "execution_count": null,
   "metadata": {},
   "outputs": [],
   "source": [
    "# Now select coordinates for second ROIs\n",
    "image_roi2 = image_copy[300:350,650:825,::]\n",
    "plt.imshow(image_roi2)\n",
    "plt.title(\"Cropped Region of Interest 2\")\n",
    "plt.show()\n",
    "\n",
    "# Predict text using OCR!\n",
    "text2 = pytesseract.image_to_string(image_roi2)\n",
    "print(\"The text in the selected region is as follows: \\n\")\n",
    "print(text2)"
   ]
  }
 ],
 "metadata": {
  "kernelspec": {
   "display_name": "Python 3",
   "language": "python",
   "name": "python3"
  },
  "language_info": {
   "codemirror_mode": {
    "name": "ipython",
    "version": 3
   },
   "file_extension": ".py",
   "mimetype": "text/x-python",
   "name": "python",
   "nbconvert_exporter": "python",
   "pygments_lexer": "ipython3",
   "version": "3.6.8"
  }
 },
 "nbformat": 4,
 "nbformat_minor": 2
}
