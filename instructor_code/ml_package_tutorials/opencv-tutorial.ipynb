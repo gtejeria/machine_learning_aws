{
 "cells": [
  {
   "cell_type": "markdown",
   "metadata": {},
   "source": [
    "![Open CV](notebook_diagrams/opencv.png)\n",
    "\n",
    "# Tutorial for OpenCV\n",
    "OpenCV is a library for processing images with computer vision algorithms.  Like pandas and numpy, it is extremely important for machine learning, particularly for computer vision.\n",
    "\n",
    "OpenCV is written not only for Python, but C++ as well."
   ]
  },
  {
   "cell_type": "markdown",
   "metadata": {},
   "source": [
    "## Import Block\n",
    "Typically you will see `import cv2 as cv` written, but this is just convention.  You can write this import statement in whatever way works best for you."
   ]
  },
  {
   "cell_type": "code",
   "execution_count": null,
   "metadata": {},
   "outputs": [],
   "source": [
    "# We will also be using opencv, an image processing library\n",
    "! pip install opencv-python\n",
    "import cv2 as cv\n",
    "\n",
    "# Import NumPy\n",
    "import numpy as np \n",
    "\n",
    "# We will use os to find specific paths in our directories\n",
    "import os\n",
    "\n",
    "# Use for plotting\n",
    "import matplotlib.pyplot as plt"
   ]
  },
  {
   "cell_type": "markdown",
   "metadata": {},
   "source": [
    "## Processing Image Data with Numpy\n",
    "As discussed in the intro, another aspect of numpy that makes it really important for machine learning and computer vision is its ability to process and transform large matrices and tensors (matrices of any generalized size).  We'll go through a simple example here with loading and processing an image, but we will see in future lectures and tutorials that numpy plays a crucial role in the computer vision pipeline."
   ]
  },
  {
   "cell_type": "code",
   "execution_count": null,
   "metadata": {},
   "outputs": [],
   "source": [
    "# We will also be using opencv, an image processing library\n",
    "! pip install opencv-python\n",
    "import cv2 as cv\n",
    "\n",
    "# Load an image using opencv - Tutorial on this library tomorrow!\n",
    "img_fpath = os.path.join(\"notebook_diagrams\", \"numpy_example.png\")\n",
    "A = cv.imread(img_fpath)\n",
    "A = cv.cvtColor(A, cv.COLOR_BGR2RGB)\n",
    "print(\"Type of A: %s\" % (type(A)))\n",
    "print(\"Shape of Image: {}\".format(A.shape))\n",
    "\n",
    "# Show the image\n",
    "plt.imshow(A)\n",
    "plt.title(\"Original Image\")\n",
    "plt.show()\n",
    "\n",
    "# Now crop image\n",
    "cat_dog = A[100:225,300:425]\n",
    "print(\"Shape of cat-dog: {}\".format(cat_dog.shape))\n",
    "plt.imshow(cat_dog)\n",
    "plt.title(\"Cat-Dog Cropped Image\")\n",
    "plt.show()\n",
    "\n",
    "# Now downsample cat-dog - 2x\n",
    "cat_dog_downsampled_2x = cat_dog[::2, ::2, ::]\n",
    "print(\"Shape of cat-dog downsampled 2x: {}\".format(cat_dog_downsampled_2x.shape))\n",
    "plt.imshow(cat_dog_downsampled_2x)\n",
    "plt.title(\"Cat-Dog Downsampled 2x\")\n",
    "plt.show()\n",
    "\n",
    "# 4x\n",
    "cat_dog_downsampled_4x = cat_dog[::4, ::4, ::]\n",
    "print(\"Shape of cat-dog downsampled 4x: {}\".format(cat_dog_downsampled_4x.shape))\n",
    "plt.imshow(cat_dog_downsampled_4x)\n",
    "plt.title(\"Cat-Dog Downsampled 4x\")\n",
    "plt.show()"
   ]
  },
  {
   "cell_type": "code",
   "execution_count": null,
   "metadata": {},
   "outputs": [],
   "source": []
  }
 ],
 "metadata": {
  "kernelspec": {
   "display_name": "Python 3",
   "language": "python",
   "name": "python3"
  },
  "language_info": {
   "codemirror_mode": {
    "name": "ipython",
    "version": 3
   },
   "file_extension": ".py",
   "mimetype": "text/x-python",
   "name": "python",
   "nbconvert_exporter": "python",
   "pygments_lexer": "ipython3",
   "version": "3.6.8"
  }
 },
 "nbformat": 4,
 "nbformat_minor": 2
}
