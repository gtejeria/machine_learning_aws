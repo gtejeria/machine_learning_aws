{
 "cells": [
  {
   "cell_type": "markdown",
   "metadata": {},
   "source": [
    "# Tutorial for NumPy\n",
    "NumPy, which is short for \"Numbers Python\", is a library for efficiently processing large volumes of numerical data in Python.  Like pandas, it is extremely important for machine learning, particularly for computer vision.  \n",
    "\n",
    "The core data structure in NumPy is the **nd-array** (n-dimensional array).  This data structure uses [strided memory](https://en.wikipedia.org/wiki/Stride_of_an_array) for storing elements and computation, which means that all elements of the same nd-array must be of the same Python type.\n",
    "\n",
    "In this tutorial, we will show you the power of NumPy, and in particular, how it can be used for computer vision."
   ]
  },
  {
   "cell_type": "markdown",
   "metadata": {},
   "source": [
    "## Import Block\n",
    "Typically you will see `import numpy as np` written, but this is just convention.  You can write this import statement in whatever way works best for you."
   ]
  },
  {
   "cell_type": "code",
   "execution_count": 1,
   "metadata": {},
   "outputs": [
    {
     "name": "stdout",
     "output_type": "stream",
     "text": [
      "Requirement already satisfied: opencv-python in /home/rmsander/anaconda3/lib/python3.6/site-packages (4.1.2.30)\r\n",
      "Requirement already satisfied: numpy>=1.11.3 in /home/rmsander/anaconda3/lib/python3.6/site-packages (from opencv-python) (1.17.4)\r\n"
     ]
    }
   ],
   "source": [
    "# Import NumPy\n",
    "import numpy as np \n",
    "\n",
    "# We will also be using opencv, an image processing library\n",
    "! pip install opencv-python\n",
    "import cv2 as cv\n",
    "\n",
    "# We will use os to find specific paths in our directories\n",
    "import os"
   ]
  },
  {
   "cell_type": "markdown",
   "metadata": {},
   "source": [
    "## Intro to nd-arrays\n",
    "The **nd-array**, or n-dimensional array, data structure is the core element of the numpy library.  In one dimension, they are very similar to the Python `list` data structure.  In two dimensions, you can think of these as nd-arrays as being similar to a `list` of `lists`.\n",
    "\n",
    "The main difference between a native Python `list` and a numpy `nd-array` is that an `nd-array` is much more computationally efficient.  Let's see this below."
   ]
  },
  {
   "cell_type": "markdown",
   "metadata": {},
   "source": [
    "### Why Numpy Arrays?  Comparing Times to Compute"
   ]
  },
  {
   "cell_type": "code",
   "execution_count": 7,
   "metadata": {},
   "outputs": [
    {
     "data": {
      "image/png": "[encoded data removed]",
      "text/plain": [
       "<Figure size 432x288 with 1 Axes>"
      ]
     },
     "metadata": {
      "needs_background": "light"
     },
     "output_type": "display_data"
    },
    {
     "name": "stdout",
     "output_type": "stream",
     "text": [
      "List Times \n",
      " [9.298324584960938e-06, 0.0807197093963623, 0.14029502868652344, 0.21152210235595703, 0.2962808609008789, 0.3699676990509033, 0.43870973587036133, 0.5548577308654785, 0.6475427150726318, 0.6563997268676758]\n",
      "Numpy Array Times \n",
      " [7.605552673339844e-05, 0.0007669925689697266, 0.0014672279357910156, 0.002170085906982422, 0.004255771636962891, 0.003988742828369141, 0.004289150238037109, 0.004860639572143555, 0.005753517150878906, 0.006444692611694336]\n"
     ]
    }
   ],
   "source": [
    "import time\n",
    "import matplotlib.pyplot as plt\n",
    "\n",
    "# Store time to compute for Python list and numpy nd-array\n",
    "list_times = []\n",
    "nd_array_times = []\n",
    "num_points = []\n",
    "\n",
    "for i in range(10,10000010,1000000):\n",
    "    \n",
    "    num_points.append(i)\n",
    "    \n",
    "    python_list = [j for j in range(i)]\n",
    "    t_list_start = time.time()\n",
    "    total = 0\n",
    "    for elt in python_list:\n",
    "        total += elt\n",
    "    t_list_end = time.time()\n",
    "    list_times.append(t_list_end - t_list_start)\n",
    "        \n",
    "    np_array = np.arange(i)\n",
    "    t_array_start = time.time()\n",
    "    total = np.sum(np_array)\n",
    "    t_array_end = time.time()\n",
    "    nd_array_times.append(t_array_end - t_array_start)\n",
    "    \n",
    "# Plot both\n",
    "plt.plot(num_points, list_times, color=\"r\", label=\"Python List\")\n",
    "plt.plot(num_points, nd_array_times, color=\"b\", label=\"Numpy Array\")\n",
    "plt.legend()\n",
    "plt.xlabel(\"Number of Points\")\n",
    "plt.ylabel(\"Time to Compute\")\n",
    "plt.title(\"Computation Time vs. Number of Points with Lists and Numpy Arrays\")\n",
    "plt.show()\n",
    "\n",
    "# Show the times\n",
    "print(\"List Times \\n {}\".format(list_times))\n",
    "print(\"Numpy Array Times \\n {}\".format(nd_array_times))"
   ]
  },
  {
   "cell_type": "markdown",
   "metadata": {},
   "source": [
    "As we can see, numpy is significantly faster for **vector** and **matrix** operations, such as adding an array of numbers.  We will be using numpy a lot this week and next week to greatly speed up our code."
   ]
  },
  {
   "cell_type": "markdown",
   "metadata": {},
   "source": [
    "### Basic Operations with **nd-arrays**\n",
    "Let's start working with these data structures!\n",
    "\n",
    "#### Creating Numpy Arrays"
   ]
  },
  {
   "cell_type": "code",
   "execution_count": 3,
   "metadata": {},
   "outputs": [
    {
     "name": "stdout",
     "output_type": "stream",
     "text": [
      "A is: \n",
      " [1 2 3 4]\n",
      "C is: \n",
      " [1 2 3 4]\n",
      "D is: \n",
      " [0.01, -5.7, 10.2, 7.6e-05]\n"
     ]
    }
   ],
   "source": [
    "# Can create numpy arrays using the following function\n",
    "A = np.array([1, 2, 3, 4])\n",
    "print(\"A is: \\n {}\".format(A))\n",
    "\n",
    "# Can also create numpy arrays from lists!\n",
    "B = [1, 2, 3, 4]  # List in Python\n",
    "C = np.array(B)\n",
    "print(\"C is: \\n {}\".format(C))\n",
    "\n",
    "# Elements do not have to be integers\n",
    "D = [0.01, -5.7, 10.2, 0.000076]\n",
    "print(\"D is: \\n {}\".format(D))\n"
   ]
  },
  {
   "cell_type": "markdown",
   "metadata": {},
   "source": [
    "#### Dimensionality, Row, and Column Vectors\n",
    "We can think of nd-arrays as vectors (in one dimension), matrices (in two dimensions), or tensors (any dimension).  Numpy has many different ways in which we can get information on or change the dimensions of these nd-arrays.\n"
   ]
  },
  {
   "cell_type": "code",
   "execution_count": 4,
   "metadata": {},
   "outputs": [
    {
     "name": "stdout",
     "output_type": "stream",
     "text": [
      "E is: \n",
      " [[1 2 3 4]]\n",
      "Shape of E is: (1, 4)\n",
      "F is: \n",
      " [[1]\n",
      " [2]\n",
      " [3]\n",
      " [4]]\n",
      "Shape of F is: (4, 1)\n",
      "G is: \n",
      " [[1]\n",
      " [2]\n",
      " [3]\n",
      " [4]]\n",
      "Shape of G is: (4, 1)\n",
      "F and G have the same shape!\n"
     ]
    }
   ],
   "source": [
    "# Create a \"row vector\":\n",
    "E = np.array([[1, 2, 3, 4]])\n",
    "print(\"E is: \\n {}\".format(E))\n",
    "\n",
    "# We can get the shape of a nd-array through the \"shape\" attribute\n",
    "print(\"Shape of E is: {}\".format(E.shape))\n",
    "\n",
    "# Now let's create a \"column vector\"\n",
    "F = np.array([[1], [2], [3], [4]])\n",
    "print(\"F is: \\n {}\".format(F))\n",
    "\n",
    "# We can get the shape of a nd-array through the \"shape\" attribute\n",
    "print(\"Shape of F is: {}\".format(F.shape))\n",
    "\n",
    "# We can also change a row vector to a column vector through taking the transpose!\n",
    "G = np.array(E).T  # Take the transpose with \".T\"\n",
    "print(\"G is: \\n {}\".format(G))\n",
    "\n",
    "# We can get the shape of a nd-array through the \"shape\" attribute\n",
    "print(\"Shape of G is: {}\".format(G.shape))\n",
    "\n",
    "print(\"F and G have the same shape!\")"
   ]
  },
  {
   "cell_type": "markdown",
   "metadata": {},
   "source": [
    "#### Matrices in Numpy\n",
    "Much of computer vision deals with operations on matrices.  Numpy has a great amount of functionality built in for handling computations on matrices.  Let's see this below."
   ]
  },
  {
   "cell_type": "code",
   "execution_count": 5,
   "metadata": {},
   "outputs": [
    {
     "name": "stdout",
     "output_type": "stream",
     "text": [
      "H is: \n",
      " \n",
      " [[1 2 3]\n",
      " [4 5 6]\n",
      " [7 8 9]]\n",
      "\n",
      " Shape of H is: (3, 3)\n"
     ]
    }
   ],
   "source": [
    "# Create the array\n",
    "H = np.array([[1, 2, 3], [4, 5, 6], [7, 8, 9]])\n",
    "\n",
    "print(\"H is: \\n \\n {}\".format(H))\n",
    "\n",
    "# We can get the shape of a nd-array through the \"shape\" attribute\n",
    "print(\"\\n Shape of H is: {}\".format(H.shape))"
   ]
  },
  {
   "cell_type": "markdown",
   "metadata": {},
   "source": [
    "#### Some Common Vector Operations in Python\n",
    "We can now explore some common types of vector data in Python."
   ]
  },
  {
   "cell_type": "markdown",
   "metadata": {},
   "source": [
    "##### 1. np.arange(start, stop, step)\n",
    "Function for creating an nd-array from the range start to stop, with step size given by step."
   ]
  },
  {
   "cell_type": "code",
   "execution_count": 6,
   "metadata": {},
   "outputs": [
    {
     "name": "stdout",
     "output_type": "stream",
     "text": [
      "I is: \n",
      " \n",
      " [ 0 10 20 30 40 50 60 70 80 90]\n",
      "\n",
      " Shape of I is: (10,)\n"
     ]
    }
   ],
   "source": [
    "# Create array from function\n",
    "I = np.arange(0,100,10)\n",
    "\n",
    "print(\"I is: \\n \\n {}\".format(I))\n",
    "\n",
    "# We can get the shape of a nd-array through the \"shape\" attribute\n",
    "print(\"\\n Shape of I is: {}\".format(I.shape))\n"
   ]
  },
  {
   "cell_type": "markdown",
   "metadata": {},
   "source": [
    "##### 2. np.sum(array, axis=?)\n",
    "Function for computing the sum of an array.  For one-dimensional arrays, such as lists, this will simply sum all the elements of that list.  For multi-dimensional arrays such as matrices, however, we have the power to not just take the sum of all the elements in the matrix, but to compute the sum along individual axes.  This **axis/axes** argument is used for many numpy functions, and is very useful for more complicated mathematical operations, such as normalization of probability distributions.  \n",
    "\n",
    "A diagram of the different axes numbers is given below:\n",
    "![Axes Diagram](\"notebook_diagrams/axes.png\")"
   ]
  },
  {
   "cell_type": "code",
   "execution_count": null,
   "metadata": {},
   "outputs": [],
   "source": []
  }
 ],
 "metadata": {
  "kernelspec": {
   "display_name": "Python 3",
   "language": "python",
   "name": "python3"
  },
  "language_info": {
   "codemirror_mode": {
    "name": "ipython",
    "version": 3
   },
   "file_extension": ".py",
   "mimetype": "text/x-python",
   "name": "python",
   "nbconvert_exporter": "python",
   "pygments_lexer": "ipython3",
   "version": "3.6.8"
  }
 },
 "nbformat": 4,
 "nbformat_minor": 2
}
