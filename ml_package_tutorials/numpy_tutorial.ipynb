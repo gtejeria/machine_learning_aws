{
 "cells": [
  {
   "cell_type": "markdown",
   "metadata": {},
   "source": [
    "# Tutorial for NumPy\n",
    "NumPy, which is short for \"Numbers Python\", is a library for efficiently processing large volumes of numerical data in Python.  Like pandas, it is extremely important for machine learning, particularly for computer vision.  \n",
    "\n",
    "The core data structure in NumPy is the **nd-array** (n-dimensional array).  This data structure uses [strided memory](https://en.wikipedia.org/wiki/Stride_of_an_array) for storing elements and computation, which means that all elements of the same nd-array must be of the same Python type.\n",
    "\n",
    "In this tutorial, we will show you the power of NumPy, and in particular, how it can be used for computer vision."
   ]
  },
  {
   "cell_type": "markdown",
   "metadata": {},
   "source": [
    "## Import Block\n",
    "Typically you will see `import numpy as np` written, but this is just convention.  You can write this import statement in whatever way works best for you."
   ]
  },
  {
   "cell_type": "code",
   "execution_count": 1,
   "metadata": {},
   "outputs": [
    {
     "name": "stdout",
     "output_type": "stream",
     "text": [
      "Collecting opencv-python\n",
      "\u001b[?25l  Downloading https://files.pythonhosted.org/packages/d8/38/60de02a4c9013b14478a3f681a62e003c7489d207160a4d7df8705a682e7/opencv_python-4.1.2.30-cp37-cp37m-manylinux1_x86_64.whl (28.3MB)\n",
      "\u001b[K     |████████████████████████████████| 28.3MB 3.9MB/s eta 0:00:01\n",
      "\u001b[?25hRequirement already satisfied: numpy>=1.14.5 in /home/rmsander/anaconda3/envs/local_env/lib/python3.7/site-packages (from opencv-python) (1.17.4)\n",
      "Installing collected packages: opencv-python\n",
      "Successfully installed opencv-python-4.1.2.30\n"
     ]
    }
   ],
   "source": [
    "# Import NumPy\n",
    "import numpy as np \n",
    "\n",
    "# We will also be using opencv, an image processing library\n",
    "! pip install opencv-python\n",
    "import cv2 as cv\n",
    "\n",
    "# We will use os to find specific paths in our directories\n",
    "import os"
   ]
  },
  {
   "cell_type": "markdown",
   "metadata": {},
   "source": [
    "## Intro to nd-arrays\n",
    "The **nd-array**, or n-dimensional array, data structure is the core element of the numpy library.  In one dimension, they are very similar to the Python `list` data structure.  In two dimensions, you can think of these as nd-arrays as being similar to a `list` of `lists`.\n",
    "\n",
    "The main difference between a native Python `list` and a numpy `nd-array` is that an `nd-array` is much more computationally efficient.  Let's see this below."
   ]
  },
  {
   "cell_type": "markdown",
   "metadata": {},
   "source": [
    "### Why Numpy Arrays?  Comparing Times to Compute"
   ]
  },
  {
   "cell_type": "code",
   "execution_count": 2,
   "metadata": {},
   "outputs": [
    {
     "data": {
      "text/plain": [
       "<Figure size 640x480 with 1 Axes>"
      ]
     },
     "metadata": {},
     "output_type": "display_data"
    },
    {
     "name": "stdout",
     "output_type": "stream",
     "text": [
      "List Times \n",
      " [2.1457672119140625e-06, 0.07618474960327148, 0.15438604354858398, 0.29146623611450195, 0.30785465240478516, 0.3826467990875244, 0.5334393978118896, 0.5935666561126709, 0.6817750930786133, 0.7805418968200684]\n",
      "Numpy Array Times \n",
      " [0.0004608631134033203, 0.0007548332214355469, 0.001495361328125, 0.0051326751708984375, 0.003254413604736328, 0.0041081905364990234, 0.00450444221496582, 0.005483150482177734, 0.006258249282836914, 0.00709223747253418]\n"
     ]
    }
   ],
   "source": [
    "import time\n",
    "import matplotlib.pyplot as plt\n",
    "\n",
    "# Store time to compute for Python list and numpy nd-array\n",
    "list_times = []\n",
    "nd_array_times = []\n",
    "num_points = []\n",
    "\n",
    "for i in range(10,10000010,1000000):\n",
    "    \n",
    "    num_points.append(i)\n",
    "    \n",
    "    python_list = [j for j in range(i)]\n",
    "    t_list_start = time.time()\n",
    "    total = 0\n",
    "    for elt in python_list:\n",
    "        total += elt\n",
    "    t_list_end = time.time()\n",
    "    list_times.append(t_list_end - t_list_start)\n",
    "        \n",
    "    np_array = np.arange(i)\n",
    "    t_array_start = time.time()\n",
    "    total = np.sum(np_array)\n",
    "    t_array_end = time.time()\n",
    "    nd_array_times.append(t_array_end - t_array_start)\n",
    "    \n",
    "# Plot both\n",
    "plt.plot(num_points, list_times, color=\"r\", label=\"Python List\")\n",
    "plt.plot(num_points, nd_array_times, color=\"b\", label=\"Numpy Array\")\n",
    "plt.legend()\n",
    "plt.xlabel(\"Number of Points\")\n",
    "plt.ylabel(\"Time to Compute\")\n",
    "plt.title(\"Computation Time vs. Number of Points with Lists and Numpy Arrays\")\n",
    "plt.show()\n",
    "\n",
    "# Show the times\n",
    "print(\"List Times \\n {}\".format(list_times))\n",
    "print(\"Numpy Array Times \\n {}\".format(nd_array_times))"
   ]
  },
  {
   "cell_type": "markdown",
   "metadata": {},
   "source": [
    "As we can see, numpy is significantly faster for **vector** and **matrix** operations, such as adding an array of numbers.  We will be using numpy a lot this week and next week to greatly speed up our code."
   ]
  },
  {
   "cell_type": "markdown",
   "metadata": {},
   "source": [
    "### Basic Operations with **nd-arrays**\n",
    "Let's start working with these data structures!\n",
    "\n",
    "#### Creating Numpy Arrays"
   ]
  },
  {
   "cell_type": "code",
   "execution_count": 3,
   "metadata": {},
   "outputs": [
    {
     "name": "stdout",
     "output_type": "stream",
     "text": [
      "A is: \n",
      " [1 2 3 4]\n",
      "C is: \n",
      " [1 2 3 4]\n",
      "D is: \n",
      " [0.01, -5.7, 10.2, 7.6e-05]\n"
     ]
    }
   ],
   "source": [
    "# Can create numpy arrays using the following function\n",
    "A = np.array([1, 2, 3, 4])\n",
    "print(\"A is: \\n {}\".format(A))\n",
    "\n",
    "# Can also create numpy arrays from lists!\n",
    "B = [1, 2, 3, 4]  # List in Python\n",
    "C = np.array(B)\n",
    "print(\"C is: \\n {}\".format(C))\n",
    "\n",
    "# Elements do not have to be integers\n",
    "D = [0.01, -5.7, 10.2, 0.000076]\n",
    "print(\"D is: \\n {}\".format(D))\n"
   ]
  },
  {
   "cell_type": "markdown",
   "metadata": {},
   "source": [
    "#### Dimensionality, Row, and Column Vectors\n",
    "We can think of nd-arrays as vectors (in one dimension), matrices (in two dimensions), or tensors (any dimension).  Numpy has many different ways in which we can get information on or change the dimensions of these nd-arrays.\n"
   ]
  },
  {
   "cell_type": "code",
   "execution_count": 4,
   "metadata": {},
   "outputs": [
    {
     "name": "stdout",
     "output_type": "stream",
     "text": [
      "E is: \n",
      " [[1 2 3 4]]\n",
      "Shape of E is: (1, 4)\n",
      "F is: \n",
      " [[1]\n",
      " [2]\n",
      " [3]\n",
      " [4]]\n",
      "Shape of F is: (4, 1)\n",
      "G is: \n",
      " [[1]\n",
      " [2]\n",
      " [3]\n",
      " [4]]\n",
      "Shape of G is: (4, 1)\n",
      "F and G have the same shape!\n"
     ]
    }
   ],
   "source": [
    "# Create a \"row vector\":\n",
    "E = np.array([[1, 2, 3, 4]])\n",
    "print(\"E is: \\n {}\".format(E))\n",
    "\n",
    "# We can get the shape of a nd-array through the \"shape\" attribute\n",
    "print(\"Shape of E is: {}\".format(E.shape))\n",
    "\n",
    "# Now let's create a \"column vector\"\n",
    "F = np.array([[1], [2], [3], [4]])\n",
    "print(\"F is: \\n {}\".format(F))\n",
    "\n",
    "# We can get the shape of a nd-array through the \"shape\" attribute\n",
    "print(\"Shape of F is: {}\".format(F.shape))\n",
    "\n",
    "# We can also change a row vector to a column vector through taking the transpose!\n",
    "G = np.array(E).T  # Take the transpose with \".T\"\n",
    "print(\"G is: \\n {}\".format(G))\n",
    "\n",
    "# We can get the shape of a nd-array through the \"shape\" attribute\n",
    "print(\"Shape of G is: {}\".format(G.shape))\n",
    "\n",
    "print(\"F and G have the same shape!\")"
   ]
  },
  {
   "cell_type": "markdown",
   "metadata": {},
   "source": [
    "#### Matrices in Numpy\n",
    "Much of computer vision deals with operations on matrices.  Numpy has a great amount of functionality built in for handling computations on matrices.  Let's see this below."
   ]
  },
  {
   "cell_type": "code",
   "execution_count": 5,
   "metadata": {},
   "outputs": [
    {
     "name": "stdout",
     "output_type": "stream",
     "text": [
      "H is: \n",
      " \n",
      " [[1 2 3]\n",
      " [4 5 6]\n",
      " [7 8 9]]\n",
      "\n",
      " Shape of H is: (3, 3)\n"
     ]
    }
   ],
   "source": [
    "# Create the array\n",
    "H = np.array([[1, 2, 3], [4, 5, 6], [7, 8, 9]])\n",
    "\n",
    "print(\"H is: \\n \\n {}\".format(H))\n",
    "\n",
    "# We can get the shape of a nd-array through the \"shape\" attribute\n",
    "print(\"\\n Shape of H is: {}\".format(H.shape))"
   ]
  },
  {
   "cell_type": "markdown",
   "metadata": {},
   "source": [
    "#### Some Common Vector Operations in Python\n",
    "We can now explore some common types of vector data in Python."
   ]
  },
  {
   "cell_type": "markdown",
   "metadata": {},
   "source": [
    "###### 1. np.arange(start, stop, step rate)\n",
    "This function creates an array over a linear interval from start to stop with a given step size given by step rate.  This function can be used to generate equally-spaced arrays, which are applicable for domains like plotting."
   ]
  },
  {
   "cell_type": "code",
   "execution_count": 6,
   "metadata": {},
   "outputs": [
    {
     "name": "stdout",
     "output_type": "stream",
     "text": [
      "I is: \n",
      " \n",
      " [ 0 10 20 30 40 50 60 70 80 90]\n",
      "\n",
      " Shape of I is: (10,)\n"
     ]
    }
   ],
   "source": [
    "# Create the array with np.arange\n",
    "I = np.arange(0,100,10)\n",
    "\n",
    "print(\"I is: \\n \\n {}\".format(I))\n",
    "\n",
    "# We can get the shape of a nd-array through the \"shape\" attribute\n",
    "print(\"\\n Shape of I is: {}\".format(I.shape))\n"
   ]
  },
  {
   "cell_type": "markdown",
   "metadata": {},
   "source": [
    "###### 2. np.sum(Array, axis = ?)\n",
    "This function computes the sum of a given array over the axis given by the (optional) axis argument.  If no argument is provided for axis, this function sums over all the elements in the array.  A diagram for axes is provided below:\n",
    "\n",
    "![Axis Diagram](notebook_diagrams/axes.png)\n",
    "\n",
    "As we can see from the diagram above, summing over the rows corresponds to \"axis = 1\", while summing over the columns corresponds to \"axis = 0\".  This is consistent with how numpy computes shape - the 0 index of array.shape corresponds to the length of/over the columns, and the 1 index of array.shape corresponds to the length of/over the rows.  We will investigate how axis affects our output below."
   ]
  },
  {
   "cell_type": "code",
   "execution_count": 13,
   "metadata": {},
   "outputs": [
    {
     "name": "stdout",
     "output_type": "stream",
     "text": [
      "J is: [[1 2 3]\n",
      " [4 5 6]\n",
      " [7 8 9]]\n",
      "Shape of J is: (3, 3)\n",
      "K is: 45\n",
      "\n",
      " Shape of K is: () \n",
      "\n",
      "L is: [12 15 18]\n",
      "Shape of L is: (3,) \n",
      "\n",
      "M is: [ 6 15 24]\n",
      "Shape of M is: (3,)\n"
     ]
    }
   ],
   "source": [
    "# Create the 2D array\n",
    "J = np.array([[1, 2, 3], [4, 5, 6], [7, 8, 9]])\n",
    "\n",
    "print(\"J is: {}\".format(J))\n",
    "\n",
    "# We can get the shape of a nd-array through the \"shape\" attribute\n",
    "print(\"Shape of J is: {}\".format(J.shape))\n",
    "\n",
    "# Now let's compute sums over these arrays!\n",
    "K = np.sum(J, axis=None)  # No axis\n",
    "print(\"K is: {}\".format(K))\n",
    "print(\"\\n Shape of K is: {} \\n\".format(K.shape))\n",
    "\n",
    "L = np.sum(J, axis=0)  # Axis = 0\n",
    "print(\"L is: {}\".format(L))\n",
    "print(\"Shape of L is: {} \\n\".format(L.shape))\n",
    "\n",
    "M = np.sum(J, axis=1)  # Axis = 1\n",
    "print(\"M is: {}\".format(M))\n",
    "print(\"Shape of M is: {}\".format(M.shape))"
   ]
  },
  {
   "cell_type": "markdown",
   "metadata": {},
   "source": [
    "##### 3. Elementary Math Operations in numpy: Addition, Subtraction, Multiplication, Division, Matrix Multiplication\n",
    "Elementary operations in numpy are especially powerful because of a procedure numpy uses known as [broadcasting](https://docs.scipy.org/doc/numpy/user/basics.broadcasting.html), which is describes a set of rules numpy uses to perform computations between arrays of different sizes.  We will see this below when introducing some of these operations."
   ]
  },
  {
   "cell_type": "code",
   "execution_count": 19,
   "metadata": {},
   "outputs": [
    {
     "name": "stdout",
     "output_type": "stream",
     "text": [
      "N is: \n",
      " [[1 2]\n",
      " [3 4]] \n",
      " \n",
      " O is: \n",
      " [[5 6]\n",
      " [7 8]] \n",
      "\n",
      "Addition gives: \n",
      " [[ 6  8]\n",
      " [10 12]] \n",
      "\n",
      "Subtraction gives: \n",
      " [[ 6  8]\n",
      " [10 12]] \n",
      "\n",
      "Element-wise Multiplication gives: \n",
      " [[ 5 12]\n",
      " [21 32]] \n",
      "\n",
      "Element-wise Division gives: \n",
      " [[0.2        0.33333333]\n",
      " [0.42857143 0.5       ]] \n",
      "\n"
     ]
    }
   ],
   "source": [
    "# Create two arrays\n",
    "N = np.array([[1, 2], [3, 4]])\n",
    "O = np.array([[5, 6], [7, 8]])\n",
    "print(\"N is: \\n {} \\n \\n O is: \\n {} \\n\".format(N,O))\n",
    "\n",
    "# Perform addition - np.add.  Note that this operation can be computed along an axis as well!\n",
    "P = np.add(N, O)\n",
    "print(\"Addition gives: \\n {} \\n\".format(P))\n",
    "\n",
    "# Perform subtraction - np.subtraction.  Note that this operation can be computed along an axis as well!\n",
    "Q = np.add(N, O)\n",
    "print(\"Subtraction gives: \\n {} \\n\".format(Q))\n",
    "\n",
    "# Perform element-wise multiplication - np.multiply.\n",
    "R = np.multiply(N, O)\n",
    "print(\"Element-wise Multiplication gives: \\n {} \\n\".format(R))\n",
    "\n",
    "# Perform element-wise division - np.divison.\n",
    "S = np.divide(N, O)\n",
    "print(\"Element-wise Division gives: \\n {} \\n\".format(S))"
   ]
  },
  {
   "cell_type": "markdown",
   "metadata": {},
   "source": [
    "##### 4. Generating Arrays of Arbitrary Size with Numpy\n",
    "Another great thing about numpy is that it has many functions for creating arrays of any size."
   ]
  },
  {
   "cell_type": "code",
   "execution_count": 22,
   "metadata": {},
   "outputs": [
    {
     "name": "stdout",
     "output_type": "stream",
     "text": [
      "T is: \n",
      " [[0. 0. 0. 0. 0. 0. 0. 0. 0. 0. 0. 0.]\n",
      " [0. 0. 0. 0. 0. 0. 0. 0. 0. 0. 0. 0.]\n",
      " [0. 0. 0. 0. 0. 0. 0. 0. 0. 0. 0. 0.]\n",
      " [0. 0. 0. 0. 0. 0. 0. 0. 0. 0. 0. 0.]\n",
      " [0. 0. 0. 0. 0. 0. 0. 0. 0. 0. 0. 0.]\n",
      " [0. 0. 0. 0. 0. 0. 0. 0. 0. 0. 0. 0.]\n",
      " [0. 0. 0. 0. 0. 0. 0. 0. 0. 0. 0. 0.]\n",
      " [0. 0. 0. 0. 0. 0. 0. 0. 0. 0. 0. 0.]\n",
      " [0. 0. 0. 0. 0. 0. 0. 0. 0. 0. 0. 0.]\n",
      " [0. 0. 0. 0. 0. 0. 0. 0. 0. 0. 0. 0.]\n",
      " [0. 0. 0. 0. 0. 0. 0. 0. 0. 0. 0. 0.]] \n",
      "\n",
      "U is: \n",
      " [[1. 1. 1. 1.]\n",
      " [1. 1. 1. 1.]\n",
      " [1. 1. 1. 1.]\n",
      " [1. 1. 1. 1.]\n",
      " [1. 1. 1. 1.]\n",
      " [1. 1. 1. 1.]\n",
      " [1. 1. 1. 1.]]\n"
     ]
    }
   ],
   "source": [
    "# Create a matrix of all zeros\n",
    "T = np.zeros((11, 12))\n",
    "print(\"T is: \\n {} \\n\".format(T))\n",
    "\n",
    "# Create a matrix of all ones\n",
    "U = np.ones((7, 4))\n",
    "print(\"U is: \\n {}\".format(U))"
   ]
  },
  {
   "cell_type": "markdown",
   "metadata": {},
   "source": [
    "##### 5. Generating Data From Probabilistic Distributions\n",
    "Numpy also has powerful functionality built in for sampling random variables, vectors, and matrices of any size from different probability distributions."
   ]
  },
  {
   "cell_type": "code",
   "execution_count": 24,
   "metadata": {},
   "outputs": [
    {
     "name": "stdout",
     "output_type": "stream",
     "text": [
      "V is: \n",
      " [[0.35585115 0.92035341 0.45157509 0.60273376 0.91989826]\n",
      " [0.96489631 0.81368251 0.16032259 0.83758509 0.85528595]\n",
      " [0.91629608 0.18212355 0.81036447 0.16908282 0.62473941]\n",
      " [0.50983973 0.35719602 0.84758535 0.80704603 0.7342172 ]\n",
      " [0.54917641 0.0594275  0.03653241 0.05982461 0.20581069]] \n",
      "\n",
      "W is: \n",
      " 0.06324690432651225 \n",
      "\n"
     ]
    }
   ],
   "source": [
    "# 5a. np.random.random(size=None): Samples uniformly from [0,1).  \n",
    "#Can sample a single number, or a vector/matrix/tensor according to the size argument.\n",
    "V = np.random.random(size=(5,5))\n",
    "print(\"V is: \\n {} \\n\".format(V))\n",
    "\n",
    "W = np.random.random(size=None)\n",
    "print(\"W is: \\n {} \\n\".format(W))"
   ]
  },
  {
   "cell_type": "code",
   "execution_count": 44,
   "metadata": {},
   "outputs": [
    {
     "name": "stdout",
     "output_type": "stream",
     "text": [
      "Y is: \n",
      " [[21 21 21]\n",
      " [13 21 13]\n",
      " [ 7 21  7]] \n",
      "\n"
     ]
    },
    {
     "data": {
      "image/png": "[encoded data removed]",
      "text/plain": [
       "<Figure size 432x288 with 1 Axes>"
      ]
     },
     "metadata": {
      "needs_background": "light"
     },
     "output_type": "display_data"
    }
   ],
   "source": [
    "# 5b. np.random.choice(array): Samples uniformly from elements in the array argument.  \n",
    "#Can sample a single number, or a vector/matrix/tensor according to the size argument.\n",
    "\n",
    "X = np.array([7, 21, 21, 13])\n",
    "\n",
    "Y = np.random.choice(X, size=(3,3))\n",
    "print(\"Y is: \\n {} \\n\".format(Y))\n",
    "\n",
    "Z = np.random.choice(X, size=(1000))\n",
    "plt.hist(Z)\n",
    "plt.title(\"Histogram of Z\")\n",
    "plt.xlabel(\"Value\")\n",
    "plt.ylabel(\"Count of Sample\")\n",
    "plt.show()"
   ]
  },
  {
   "cell_type": "code",
   "execution_count": 50,
   "metadata": {},
   "outputs": [
    {
     "data": {
      "image/png": "[encoded data removed]",
      "text/plain": [
       "<Figure size 432x288 with 1 Axes>"
      ]
     },
     "metadata": {
      "needs_background": "light"
     },
     "output_type": "display_data"
    },
    {
     "data": {
      "image/png": "[encoded data removed]",
      "text/plain": [
       "<Figure size 432x288 with 1 Axes>"
      ]
     },
     "metadata": {
      "needs_background": "light"
     },
     "output_type": "display_data"
    }
   ],
   "source": [
    "# 5c. np.random.uniform(low=0.0, high=1.0, size=None): Samples uniformly from the range [low, high).\n",
    "#Can sample a single number, or a vector/matrix/tensor according to the size argument.\n",
    "\n",
    "AA = np.random.uniform(low=-5, high=5, size=(1000))\n",
    "plt.hist(AA, bins=10)\n",
    "plt.title(\"Histogram of AA\")\n",
    "plt.xlabel(\"Value\")\n",
    "plt.ylabel(\"Count of Sample\")\n",
    "plt.show()\n",
    "\n",
    "AB = np.random.uniform(low=0, high=100, size=(1000))\n",
    "plt.hist(AB, bins=10)\n",
    "plt.title(\"Histogram of AB\")\n",
    "plt.xlabel(\"Value\")\n",
    "plt.ylabel(\"Count of Sample\")\n",
    "plt.show()\n"
   ]
  },
  {
   "cell_type": "code",
   "execution_count": 48,
   "metadata": {},
   "outputs": [
    {
     "data": {
      "image/png": "[encoded data removed]",
      "text/plain": [
       "<Figure size 432x288 with 1 Axes>"
      ]
     },
     "metadata": {
      "needs_background": "light"
     },
     "output_type": "display_data"
    },
    {
     "data": {
      "image/png": "[encoded data removed]",
      "text/plain": [
       "<Figure size 432x288 with 1 Axes>"
      ]
     },
     "metadata": {
      "needs_background": "light"
     },
     "output_type": "display_data"
    }
   ],
   "source": [
    "# 5d. numpy.random.normal(loc=0.0, scale=1.0, size=None): Samples from the Gaussian distribution, with\n",
    "# loc = mean and scale = standard deviation.  Can sample a single number, or a vector/matrix/tensor \n",
    "# according to the size argument.\n",
    "\n",
    "AC = np.random.normal(loc=0, scale=5, size=(1000))\n",
    "plt.hist(AC, bins=100)\n",
    "plt.title(\"Histogram of AC\")\n",
    "plt.xlabel(\"Value\")\n",
    "plt.ylabel(\"Count of Sample\")\n",
    "plt.show()\n",
    "\n",
    "AD = np.random.normal(loc=10, scale=20, size=(1000))\n",
    "plt.hist(AD, bins=100)\n",
    "plt.title(\"Histogram of AD\")\n",
    "plt.xlabel(\"Value\")\n",
    "plt.ylabel(\"Count of Sample\")\n",
    "plt.show()"
   ]
  },
  {
   "cell_type": "markdown",
   "metadata": {},
   "source": [
    "There are many other numpy functions that you can use for probability distributions as well!  Visit numpy's website [HERE](https://numpy.org/) to see their documentation."
   ]
  },
  {
   "cell_type": "markdown",
   "metadata": {},
   "source": [
    "### Slicing in numpy\n",
    "Array slicing, or simply slicing for short, is another nice feature of numpy.  Numpy array slicing is supported for both single and multi-dimensional arrays, and also supports conditional array indexing (for example, you can return the subset of an array of elements that are greater than zero.  We can investigate slicing, as well as other functions for conditional element selection, below."
   ]
  },
  {
   "cell_type": "code",
   "execution_count": null,
   "metadata": {},
   "outputs": [],
   "source": []
  }
 ],
 "metadata": {
  "kernelspec": {
   "display_name": "Python 3",
   "language": "python",
   "name": "python3"
  },
  "language_info": {
   "codemirror_mode": {
    "name": "ipython",
    "version": 3
   },
   "file_extension": ".py",
   "mimetype": "text/x-python",
   "name": "python",
   "nbconvert_exporter": "python",
   "pygments_lexer": "ipython3",
   "version": "3.6.8"
  }
 },
 "nbformat": 4,
 "nbformat_minor": 2
}
