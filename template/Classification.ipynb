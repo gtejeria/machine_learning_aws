{
 "cells": [
  {
   "cell_type": "markdown",
   "metadata": {},
   "source": [
    "# MIT-GSL Uruguay \n",
    "\n",
    "## January 2020"
   ]
  },
  {
   "cell_type": "markdown",
   "metadata": {},
   "source": [
    "-----"
   ]
  },
  {
   "cell_type": "markdown",
   "metadata": {},
   "source": [
    "# Lesson - 1: Introduction to ML"
   ]
  },
  {
   "cell_type": "markdown",
   "metadata": {},
   "source": [
    "** The first set of hands-on sessions are meant to provide a general overview of ML with the following topcs: **\n",
    "1. Data import and export\n",
    "2. Data pre-processing\n",
    "3. Text pre-processing\n",
    "4. Feature engineering\n",
    "5. Cross-validation\n",
    "5. High-dimensional modeling\n",
    "6. Dimension reduction\n",
    "6. Classification models:\n",
    "    1. Logistic regression\n",
    "    2. Regularized regression\n",
    "    3. SVM\n",
    "    4. Random Forests\n",
    "    5. Boosted Trees\n",
    "7. Model evaluation\n",
    "8. Ensembling\n",
    "\n",
    "** The class is desgined to be interactive. All the code and required data are provided. **"
   ]
  },
  {
   "cell_type": "markdown",
   "metadata": {},
   "source": [
    "-----"
   ]
  },
  {
   "cell_type": "markdown",
   "metadata": {},
   "source": [
    "Kaggle StumbleUpon Competition\n",
    "==================\n",
    "https://www.kaggle.com/c/stumbleupon\n",
    "\n",
    "** About StumbleUpon **: User-curated web content discovery engine that recommends relevant, high quality pages and media to its users, based on their interests.\n",
    "\n",
    "** Competition **: \n",
    "1. Some pages, such as news articles or seasonal recipes, are only relevant for a short period of time, others maintain a timeless quality and can be recommended to users long after they are discovered. \n",
    "2. Goal is to identify pages which are ephemeral and which are evergreen\n",
    "\n",
    "** Objective **: Build classifier(s) to categorize webpages as evergreen (1) or non-evergreen (0)\n",
    "\n",
    "** Evaluation **: Area under the curve (AUC)\n",
    "\n",
    "** Data **: \n",
    "* Tab-separated file containing meta-data, webpage text (boilerplate), evergreen classification (target)\n",
    "* Text based: high-dimensional\n",
    "* Small sample size: prone to overfitting, high variance in results\n",
    "    \n",
    "** Notes **:\n",
    "* We are only using the *train* data from the competition\n",
    "* We will create our own split of training-val-test data\n",
    " \n"
   ]
  },
  {
   "cell_type": "markdown",
   "metadata": {},
   "source": [
    "-----"
   ]
  },
  {
   "cell_type": "markdown",
   "metadata": {},
   "source": [
    "Import Python Modules \n",
    "================="
   ]
  },
  {
   "cell_type": "code",
   "execution_count": 262,
   "metadata": {},
   "outputs": [],
   "source": [
    "# ==============================================\n",
    "# 0. Module imports\n",
    "# ==============================================\n",
    "\n",
    "# this will make joblib work\n",
    "import sys; sys.path.append('/Users/julianalverio/code/conda/envs/sac/lib/python3.6/site-packages/')\n",
    "\n",
    "# data manipulation\n",
    "import pandas as pd\n",
    "import numpy as np\n",
    "import scipy.stats as st\n",
    "\n",
    "# plots\n",
    "%matplotlib inline\n",
    "import random\n",
    "import matplotlib\n",
    "import matplotlib.pyplot as plt\n",
    "import pylab as pl\n",
    "\n",
    "# classification algorithms\n",
    "from sklearn.linear_model import LogisticRegression\n",
    "from sklearn.linear_model import SGDClassifier\n",
    "from sklearn.ensemble import GradientBoostingClassifier\n",
    "from sklearn.ensemble import RandomForestClassifier\n",
    "from sklearn.ensemble import ExtraTreesClassifier\n",
    "\n",
    "# dimension reduction\n",
    "from sklearn.decomposition import PCA\n",
    "\n",
    "# cross-validation\n",
    "from sklearn.model_selection import GridSearchCV\n",
    "from sklearn.model_selection import train_test_split\n",
    "from sklearn.model_selection import cross_val_predict\n",
    "from sklearn.model_selection import cross_val_score\n",
    "from sklearn.model_selection import KFold\n",
    "from sklearn import model_selection\n",
    "\n",
    "# parallel processing\n",
    "from joblib import Parallel, delayed  \n",
    "import multiprocessing\n",
    "\n",
    "# model evaluation\n",
    "from sklearn.metrics import roc_auc_score\n",
    "from sklearn.ensemble.partial_dependence import plot_partial_dependence\n",
    "from sklearn.ensemble.partial_dependence import partial_dependence\n",
    "\n",
    "# text mining\n",
    "import re\n",
    "from nltk import PorterStemmer\n",
    "from nltk.tokenize import word_tokenize\n",
    "from nltk.corpus import stopwords\n",
    "from sklearn.feature_extraction.text import TfidfVectorizer\n",
    "from sklearn.feature_extraction.text import CountVectorizer\n",
    "\n",
    "import warnings\n",
    "warnings.filterwarnings(\"ignore\")\n",
    "\n",
    "import os\n",
    "os.chdir(os.path.join(\"..\", \"data\"))"
   ]
  },
  {
   "cell_type": "markdown",
   "metadata": {},
   "source": [
    "# 1. Data Import and Explore"
   ]
  },
  {
   "cell_type": "code",
   "execution_count": 2,
   "metadata": {},
   "outputs": [],
   "source": [
    "data = pd.read_table(\"stumbleupon/train.tsv\", sep= \"\\t\")"
   ]
  },
  {
   "cell_type": "markdown",
   "metadata": {},
   "source": [
    "## Variable descriptions:"
   ]
  },
  {
   "cell_type": "markdown",
   "metadata": {},
   "source": [
    "1. **url**: Url of the webpage to be classified\n",
    "2. **urlid**: StumbleUpon's unique identifier for each url\n",
    "3. **boilerplate**: Boilerplate text\n",
    "4. **alchemy_category**:\tAlchemy category\n",
    "5. **alchemy_category_score**:\tAlchemy category score\n",
    "6. **avglinksize**:\tAverage number of words in each link\n",
    "7. **commonLinkRatio_1**:\t# of links sharing at least 1 word with 1 other links / # of links\n",
    "8. **commonLinkRatio_2**:\t# of links sharing at least 1 word with 2 other links / # of links\n",
    "9. **commonLinkRatio_3**:\t# of links sharing at least 1 word with 3 other links / # of links\n",
    "10. **commonLinkRatio_4**:\t# of links sharing at least 1 word with 4 other links / # of links\n",
    "11. **compression_ratio**:\tCompression achieved on this page via gzip (measure of redundancy)\n",
    "12. **embed_ratio**: Count of number of \"embed\" usage\n",
    "13. **frameBased**: A page is frame-based (1) if it has no body markup but have a frameset markup\n",
    "14. **frameTagRatio**: Ratio of iframe markups over total number of markups\n",
    "15. **hasDomainLink**:\tTrue (1) if it contains an \"a\" with an url with domain\n",
    "16. **html_ratio**:\tRatio of tags vs text in the page\n",
    "17. **image_ratio**: Ratio of \"img\" tags vs text in the page\n",
    "18. **is_news**: True (1) if StumbleUpon's news classifier determines that this webpage is news\n",
    "19. **lengthyLinkDomain**: True (1) if at least 3 \"a\"'s text contains more than 30 alphanumeric characters\n",
    "20. **linkwordscore**: Percentage of words on the page that are in hyperlink's text\n",
    "21. **news_front_page**: True (1) if StumbleUpon's news classifier determines that this webpage is front-page news\n",
    "22. **non_markup_alphanum_characters**:\tinteger\tPage's text's number of alphanumeric characters\n",
    "23. **numberOfLinks**: Number of \"a\"  markups\n",
    "24. **numwords_in_url**: Number of words in url\n",
    "25. **parametrizedLinkRatio**: A link is parametrized if it's url contains parameters  or has an attached onClick event\n",
    "26. **spelling_errors_ratio**: Ratio of words not found in wiki (considered to be a spelling mistake)\n",
    "27. **label**: User-determined label. Either evergreen (1) or non-evergreen (0)\n"
   ]
  },
  {
   "cell_type": "markdown",
   "metadata": {},
   "source": [
    "## Visualization"
   ]
  },
  {
   "cell_type": "code",
   "execution_count": 281,
   "metadata": {},
   "outputs": [
    {
     "name": "stdout",
     "output_type": "stream",
     "text": [
      "['embed_ratio_0', 'embed_ratio_1']\n",
      "['alchemy_cat_?', 'arts_entertainment', 'business', 'computer_internet', 'culture_politics', 'gaming', 'health', 'law_crime', 'recreation', 'religion', 'science_technology', 'sports', 'unknown', 'weather', 'frame_tag_ratio', 'link_word_score', 'alchemy_category_score', 'num_words_url_bin_0', 'num_words_url_bin_1', 'num_words_url_bin_2', 'num_words_url_bin_3', 'parameterized_link_ratio', 'spelling_errors_ratio', 'embed_ratio_0', 'embed_ratio_1', 'html_ratio', 'lengthy_link_domain_0', 'lengthy_link_domain_1']\n"
     ]
    }
   ],
   "source": [
    "'''\n",
    "SHIT\n",
    "url -- object type, the literal url\n",
    "urlid -- uid for the url, drop it\n",
    "avglinksize -- huge spread, mostly around 1 or two. This would need to be hella binned carefully. I think useless from Madhav's results\n",
    "frameBased -- 0 everywhere, garbage\n",
    "is_news -- 1 everywhere\n",
    "\n",
    "TEXT\n",
    "boilerplate -- text feature\n",
    "\n",
    "NUMERICAL\n",
    "alchemy_category -- business, health, sports, etc.\n",
    "alchemy_category_score -- 0 to 1 STRING with LOTS of '?' values\n",
    "commonlinkratio -- cont value from 0 to 1 that works nicely, needs binning. Nice gaussian on 1, moves to left with increasing idx\n",
    "compression_ratio -- continuous value with huge bimodal spread -- needs to be binned carefully\n",
    "embed_ratio -- perfect bimodal spread -- two humps. -1 and 0.25\n",
    "frameTagRatio -- 0 to 0.44 cont, spread leans left -- it is half a gaussian\n",
    "hasDomainLink -- 0/1 categorical, almost all 0\n",
    "html_ratio -- cont 0 to 0.7, gaussian spread\n",
    "image_ratio -- spread -1 to 113, but almost exclusively right at 0\n",
    "lengthy-link domain -- categorical 0/1, good spread\n",
    "linkwordscore -- 0 to 100 good spread\n",
    "news_front_page -- STRING, ? values, 0-1 categorical, almost all 0\n",
    "non_markup_alphnum_characters -- huge spread, highly concentrated near 0\n",
    "numberoflinks -- huge spread, mostly close to 0\n",
    "numwordsinurl -- good spread, 0 to 25, has a long upper tail\n",
    "Parametrizedlinkratio -- 0 to 1 continuous, skewed toward 0 -- right half of gaussian\n",
    "spelling_errors_ratio -- 0 to 1, heavy leaning to 0\n",
    "\n",
    "\n",
    "EVAN\n",
    "\n",
    "[(-0.0017029098026004608, 'avglinksize'),\n",
    " (-0.0015477640384510272, 'image_ratio'),\n",
    " (-0.0013366491854696072, 'numberOfLinks'),\n",
    " (-0.0012422148274934264, 'urlid'),\n",
    " (-0.0012276386004722584, 'non_markup_alphanum_characters'),\n",
    " (-0.0003632131231506852, 'hasDomainLink'),\n",
    " (-1.6445368175466157e-05, 'compression_ratio'),\n",
    " (0, 'alchemy_category_score'),\n",
    " (0, 'boilerplate'),\n",
    " (0, 'commonLinkRatio_1'),\n",
    " (0, 'commonLinkRatio_2'),\n",
    " (0, 'commonLinkRatio_3'),\n",
    " (0, 'commonLinkRatio_4'),\n",
    " (0, 'frameBased'),\n",
    " (0, 'is_news'),\n",
    " (0, 'label'),\n",
    " (0, 'news_front_page'),\n",
    " (0, 'url'),\n",
    " (0.00016331922818457745, 'lengthyLinkDomain'),\n",
    " (0.0007063846400122697, 'html_ratio'),\n",
    " (0.0011190978216005787, 'embed_ratio'),\n",
    " (0.0020862547468744053, 'spelling_errors_ratio'),\n",
    " (0.002983052198938685, 'parametrizedLinkRatio'),\n",
    " (0.004883582510772921, 'numwords_in_url'),\n",
    " (0.016376170421172676, 'linkwordscore'),\n",
    " (0.016942353001673127, 'frameTagRatio'),\n",
    " (0.040352206434091764, 'alchemy_category')]\n",
    "\n",
    "\n",
    "\n",
    "'''\n",
    "\n",
    "# Alchemy category, converting to one-hots\n",
    "df = data['alchemy_category']   # 2K ? values\n",
    "one_hots = pd.get_dummies(data['alchemy_category'])\n",
    "df = one_hots\n",
    "rename_dict = {'?': 'alchemy_cat_?'}\n",
    "df = df.rename(columns=rename_dict)\n",
    "\n",
    "# FrameTagRatio, leaving as continuous number\n",
    "df_var = data['frameTagRatio']\n",
    "df['frame_tag_ratio'] = df_var\n",
    "\n",
    "\n",
    "\n",
    "# link word score, 0-100 gaussian, keeping continuous\n",
    "df['link_word_score'] = data['linkwordscore']\n",
    "\n",
    "\n",
    "# alchemy category score, with replacing missing values with random\n",
    "df_var = data['alchemy_category_score']\n",
    "df_var_temp = df_var.apply(lambda x: np.random.random() if x == '?' else float(x)).astype('float32')\n",
    "df['alchemy_category_score'] = df_var_temp\n",
    "\n",
    "\n",
    "# num word in url -- discrete 0-25 to custom binning from looking at the histogram\n",
    "df_var = data['numwords_in_url']\n",
    "bins = [0, 6, 8, 13, 25]\n",
    "df_var_temp = pd.cut(x=df_var, bins=bins, right=True, labels=['num_words_url_bin_0', 'num_words_url_bin_1', 'num_words_url_bin_2', 'num_words_url_bin_3'])\n",
    "dummies = pd.get_dummies(df_var_temp)\n",
    "df = pd.concat([df, dummies], axis=1)\n",
    "\n",
    "\n",
    "# parameterized_link_ratio -- leaving as continuous, right-half gaussian\n",
    "df['parameterized_link_ratio'] = data['parametrizedLinkRatio']\n",
    "\n",
    "# spelling errors ratio -- leaving as continuous\n",
    "df['spelling_errors_ratio'] = data['spelling_errors_ratio']\n",
    "\n",
    "# embed_ratio -- bimodal continuous binned into 2 bins\n",
    "df_var = pd.DataFrame(data['embed_ratio'])\n",
    "df_var = df_var['embed_ratio'].apply(lambda x: 1 if x > -1 else 0)\n",
    "dummies = pd.get_dummies(df_var)\n",
    "rename = {0: 'embed_ratio_0', 1: 'embed_ratio_1'}\n",
    "dummies = dummies.rename(columns=rename)\n",
    "df = pd.concat([df, dummies], axis=1)\n",
    "\n",
    "\n",
    "# html_ratio -- leaving continuous\n",
    "df['html_ratio'] = data['html_ratio']\n",
    "\n",
    "# lengthy_link_domain\n",
    "df_var = pd.get_dummies(data['lengthyLinkDomain'])\n",
    "rename = {0: 'lengthy_link_domain_0', 1: 'lengthy_link_domain_1'}\n",
    "df_var = df_var.rename(columns=rename)\n",
    "df = pd.concat([df, df_var], axis=1)\n",
    "\n",
    "# labels = data['labels']\n",
    "features = list(df)\n",
    "print(features)\n",
    "new_df = df.loc[:, features]\n",
    "\n",
    "\n"
   ]
  },
  {
   "cell_type": "code",
   "execution_count": 274,
   "metadata": {},
   "outputs": [],
   "source": [
    "train, val = train_test_split(new_data, test_size=0.5, train_size=0.5, random_state=234)\n",
    "val, test = train_test_split(val, test_size=0.5, train_size=0.5, random_state= 675)"
   ]
  },
  {
   "cell_type": "code",
   "execution_count": 275,
   "metadata": {},
   "outputs": [],
   "source": [
    "def logistic_search(budget):\n",
    "    ret = []\n",
    "    for i in range(budget):\n",
    "        # choose a set of random hyper-parameters\n",
    "        rand_C =    random.choice([0.0001, 0.001, 0.01, 0.1, 1, 10, 100, 1000, 10000])\n",
    "        rand_fit_intercept = random.choice([True, False])\n",
    "        rand_penalty = random.choice(['l1', 'l2'])\n",
    "        model = LogisticRegression(C = rand_C, fit_intercept = rand_fit_intercept, penalty=rand_penalty)\n",
    "        model.fit(train, train[\"label\"])\n",
    "        preds = model.predict_proba(val)[:,1]\n",
    "        score = roc_auc_score(val[\"label\"], preds)\n",
    "        ret.append((score, model))\n",
    "    return list(reversed(sorted(ret, key=lambda x: x[0])))"
   ]
  },
  {
   "cell_type": "code",
   "execution_count": 276,
   "metadata": {},
   "outputs": [
    {
     "ename": "ValueError",
     "evalue": "could not convert string to float: 'health'",
     "output_type": "error",
     "traceback": [
      "\u001b[0;31m---------------------------------------------------------------------------\u001b[0m",
      "\u001b[0;31mValueError\u001b[0m                                Traceback (most recent call last)",
      "\u001b[0;32m<ipython-input-276-594172e74116>\u001b[0m in \u001b[0;36m<module>\u001b[0;34m\u001b[0m\n\u001b[0;32m----> 1\u001b[0;31m \u001b[0mlogistic_search\u001b[0m\u001b[0;34m(\u001b[0m\u001b[0;36m10\u001b[0m\u001b[0;34m)\u001b[0m\u001b[0;34m\u001b[0m\u001b[0m\n\u001b[0m",
      "\u001b[0;32m<ipython-input-275-115dfc6607f2>\u001b[0m in \u001b[0;36mlogistic_search\u001b[0;34m(budget)\u001b[0m\n\u001b[1;32m      7\u001b[0m         \u001b[0mrand_penalty\u001b[0m \u001b[0;34m=\u001b[0m \u001b[0mrandom\u001b[0m\u001b[0;34m.\u001b[0m\u001b[0mchoice\u001b[0m\u001b[0;34m(\u001b[0m\u001b[0;34m[\u001b[0m\u001b[0;34m'l1'\u001b[0m\u001b[0;34m,\u001b[0m \u001b[0;34m'l2'\u001b[0m\u001b[0;34m]\u001b[0m\u001b[0;34m)\u001b[0m\u001b[0;34m\u001b[0m\u001b[0m\n\u001b[1;32m      8\u001b[0m         \u001b[0mmodel\u001b[0m \u001b[0;34m=\u001b[0m \u001b[0mLogisticRegression\u001b[0m\u001b[0;34m(\u001b[0m\u001b[0mC\u001b[0m \u001b[0;34m=\u001b[0m \u001b[0mrand_C\u001b[0m\u001b[0;34m,\u001b[0m \u001b[0mfit_intercept\u001b[0m \u001b[0;34m=\u001b[0m \u001b[0mrand_fit_intercept\u001b[0m\u001b[0;34m,\u001b[0m \u001b[0mpenalty\u001b[0m\u001b[0;34m=\u001b[0m\u001b[0mrand_penalty\u001b[0m\u001b[0;34m)\u001b[0m\u001b[0;34m\u001b[0m\u001b[0m\n\u001b[0;32m----> 9\u001b[0;31m         \u001b[0mmodel\u001b[0m\u001b[0;34m.\u001b[0m\u001b[0mfit\u001b[0m\u001b[0;34m(\u001b[0m\u001b[0mtrain\u001b[0m\u001b[0;34m,\u001b[0m \u001b[0mtrain\u001b[0m\u001b[0;34m[\u001b[0m\u001b[0;34m\"label\"\u001b[0m\u001b[0;34m]\u001b[0m\u001b[0;34m)\u001b[0m\u001b[0;34m\u001b[0m\u001b[0m\n\u001b[0m\u001b[1;32m     10\u001b[0m         \u001b[0mpreds\u001b[0m \u001b[0;34m=\u001b[0m \u001b[0mmodel\u001b[0m\u001b[0;34m.\u001b[0m\u001b[0mpredict_proba\u001b[0m\u001b[0;34m(\u001b[0m\u001b[0mval\u001b[0m\u001b[0;34m)\u001b[0m\u001b[0;34m[\u001b[0m\u001b[0;34m:\u001b[0m\u001b[0;34m,\u001b[0m\u001b[0;36m1\u001b[0m\u001b[0;34m]\u001b[0m\u001b[0;34m\u001b[0m\u001b[0m\n\u001b[1;32m     11\u001b[0m         \u001b[0mscore\u001b[0m \u001b[0;34m=\u001b[0m \u001b[0mroc_auc_score\u001b[0m\u001b[0;34m(\u001b[0m\u001b[0mval\u001b[0m\u001b[0;34m[\u001b[0m\u001b[0;34m\"label\"\u001b[0m\u001b[0;34m]\u001b[0m\u001b[0;34m,\u001b[0m \u001b[0mpreds\u001b[0m\u001b[0;34m)\u001b[0m\u001b[0;34m\u001b[0m\u001b[0m\n",
      "\u001b[0;32m/usr/local/lib/python3.7/site-packages/sklearn/linear_model/logistic.py\u001b[0m in \u001b[0;36mfit\u001b[0;34m(self, X, y, sample_weight)\u001b[0m\n\u001b[1;32m   1283\u001b[0m \u001b[0;34m\u001b[0m\u001b[0m\n\u001b[1;32m   1284\u001b[0m         X, y = check_X_y(X, y, accept_sparse='csr', dtype=_dtype, order=\"C\",\n\u001b[0;32m-> 1285\u001b[0;31m                          accept_large_sparse=solver != 'liblinear')\n\u001b[0m\u001b[1;32m   1286\u001b[0m         \u001b[0mcheck_classification_targets\u001b[0m\u001b[0;34m(\u001b[0m\u001b[0my\u001b[0m\u001b[0;34m)\u001b[0m\u001b[0;34m\u001b[0m\u001b[0m\n\u001b[1;32m   1287\u001b[0m         \u001b[0mself\u001b[0m\u001b[0;34m.\u001b[0m\u001b[0mclasses_\u001b[0m \u001b[0;34m=\u001b[0m \u001b[0mnp\u001b[0m\u001b[0;34m.\u001b[0m\u001b[0munique\u001b[0m\u001b[0;34m(\u001b[0m\u001b[0my\u001b[0m\u001b[0;34m)\u001b[0m\u001b[0;34m\u001b[0m\u001b[0m\n",
      "\u001b[0;32m/usr/local/lib/python3.7/site-packages/sklearn/utils/validation.py\u001b[0m in \u001b[0;36mcheck_X_y\u001b[0;34m(X, y, accept_sparse, accept_large_sparse, dtype, order, copy, force_all_finite, ensure_2d, allow_nd, multi_output, ensure_min_samples, ensure_min_features, y_numeric, warn_on_dtype, estimator)\u001b[0m\n\u001b[1;32m    754\u001b[0m                     \u001b[0mensure_min_features\u001b[0m\u001b[0;34m=\u001b[0m\u001b[0mensure_min_features\u001b[0m\u001b[0;34m,\u001b[0m\u001b[0;34m\u001b[0m\u001b[0m\n\u001b[1;32m    755\u001b[0m                     \u001b[0mwarn_on_dtype\u001b[0m\u001b[0;34m=\u001b[0m\u001b[0mwarn_on_dtype\u001b[0m\u001b[0;34m,\u001b[0m\u001b[0;34m\u001b[0m\u001b[0m\n\u001b[0;32m--> 756\u001b[0;31m                     estimator=estimator)\n\u001b[0m\u001b[1;32m    757\u001b[0m     \u001b[0;32mif\u001b[0m \u001b[0mmulti_output\u001b[0m\u001b[0;34m:\u001b[0m\u001b[0;34m\u001b[0m\u001b[0m\n\u001b[1;32m    758\u001b[0m         y = check_array(y, 'csr', force_all_finite=True, ensure_2d=False,\n",
      "\u001b[0;32m/usr/local/lib/python3.7/site-packages/sklearn/utils/validation.py\u001b[0m in \u001b[0;36mcheck_array\u001b[0;34m(array, accept_sparse, accept_large_sparse, dtype, order, copy, force_all_finite, ensure_2d, allow_nd, ensure_min_samples, ensure_min_features, warn_on_dtype, estimator)\u001b[0m\n\u001b[1;32m    525\u001b[0m             \u001b[0;32mtry\u001b[0m\u001b[0;34m:\u001b[0m\u001b[0;34m\u001b[0m\u001b[0m\n\u001b[1;32m    526\u001b[0m                 \u001b[0mwarnings\u001b[0m\u001b[0;34m.\u001b[0m\u001b[0msimplefilter\u001b[0m\u001b[0;34m(\u001b[0m\u001b[0;34m'error'\u001b[0m\u001b[0;34m,\u001b[0m \u001b[0mComplexWarning\u001b[0m\u001b[0;34m)\u001b[0m\u001b[0;34m\u001b[0m\u001b[0m\n\u001b[0;32m--> 527\u001b[0;31m                 \u001b[0marray\u001b[0m \u001b[0;34m=\u001b[0m \u001b[0mnp\u001b[0m\u001b[0;34m.\u001b[0m\u001b[0masarray\u001b[0m\u001b[0;34m(\u001b[0m\u001b[0marray\u001b[0m\u001b[0;34m,\u001b[0m \u001b[0mdtype\u001b[0m\u001b[0;34m=\u001b[0m\u001b[0mdtype\u001b[0m\u001b[0;34m,\u001b[0m \u001b[0morder\u001b[0m\u001b[0;34m=\u001b[0m\u001b[0morder\u001b[0m\u001b[0;34m)\u001b[0m\u001b[0;34m\u001b[0m\u001b[0m\n\u001b[0m\u001b[1;32m    528\u001b[0m             \u001b[0;32mexcept\u001b[0m \u001b[0mComplexWarning\u001b[0m\u001b[0;34m:\u001b[0m\u001b[0;34m\u001b[0m\u001b[0m\n\u001b[1;32m    529\u001b[0m                 raise ValueError(\"Complex data not supported\\n\"\n",
      "\u001b[0;32m/usr/local/lib/python3.7/site-packages/numpy/core/numeric.py\u001b[0m in \u001b[0;36masarray\u001b[0;34m(a, dtype, order)\u001b[0m\n\u001b[1;32m    499\u001b[0m \u001b[0;34m\u001b[0m\u001b[0m\n\u001b[1;32m    500\u001b[0m     \"\"\"\n\u001b[0;32m--> 501\u001b[0;31m     \u001b[0;32mreturn\u001b[0m \u001b[0marray\u001b[0m\u001b[0;34m(\u001b[0m\u001b[0ma\u001b[0m\u001b[0;34m,\u001b[0m \u001b[0mdtype\u001b[0m\u001b[0;34m,\u001b[0m \u001b[0mcopy\u001b[0m\u001b[0;34m=\u001b[0m\u001b[0;32mFalse\u001b[0m\u001b[0;34m,\u001b[0m \u001b[0morder\u001b[0m\u001b[0;34m=\u001b[0m\u001b[0morder\u001b[0m\u001b[0;34m)\u001b[0m\u001b[0;34m\u001b[0m\u001b[0m\n\u001b[0m\u001b[1;32m    502\u001b[0m \u001b[0;34m\u001b[0m\u001b[0m\n\u001b[1;32m    503\u001b[0m \u001b[0;34m\u001b[0m\u001b[0m\n",
      "\u001b[0;31mValueError\u001b[0m: could not convert string to float: 'health'"
     ]
    }
   ],
   "source": [
    "logistic_search(10)"
   ]
  },
  {
   "cell_type": "markdown",
   "metadata": {},
   "source": [
    "** Note **: Scikit-learn training algorithms do not accept categorical features and hence they need to be converted to numeric or binary before fitting the model "
   ]
  },
  {
   "cell_type": "code",
   "execution_count": 58,
   "metadata": {},
   "outputs": [
    {
     "data": {
      "text/plain": [
       "url                                object\n",
       "urlid                               int64\n",
       "boilerplate                        object\n",
       "alchemy_category                   object\n",
       "alchemy_category_score            float64\n",
       "avglinksize                       float64\n",
       "commonlinkratio_1                 float64\n",
       "commonlinkratio_2                 float64\n",
       "commonlinkratio_3                 float64\n",
       "commonlinkratio_4                 float64\n",
       "compression_ratio                 float64\n",
       "embed_ratio                       float64\n",
       "framebased                          int64\n",
       "frameTagRatio                     float64\n",
       "hasDomainLink                       int64\n",
       "html_ratio                        float64\n",
       "image_ratio                       float64\n",
       "is_news                           float64\n",
       "lengthyLinkDomain                   int64\n",
       "linkwordscore                       int64\n",
       "news_front_page                   float64\n",
       "non_markup_alphanum_characters      int64\n",
       "numberOfLinks                       int64\n",
       "numwords_in_url                     int64\n",
       "parametrizedLinkRatio             float64\n",
       "spelling_errors_ratio             float64\n",
       "label                               int64\n",
       "dtype: object"
      ]
     },
     "execution_count": 58,
     "metadata": {},
     "output_type": "execute_result"
    }
   ],
   "source": [
    "# Fix variable types\n",
    "# Some numeric variables are stored as string and can be directly converted\n",
    "data[[\"alchemy_category_score\", \"is_news\", \"news_front_page\"]] = data[[\"alchemy_category_score\",\n",
    "                                                                         \"is_news\", \"news_front_page\"]].astype(float)"
   ]
  },
  {
   "cell_type": "code",
   "execution_count": null,
   "metadata": {},
   "outputs": [],
   "source": [
    "# things from the feature engineering section at the bottom\n",
    "\n",
    "train[\"is_news\"] = train[\"is_news\"].fillna(0)\n",
    "train[\"news_front_page\"] = train[\"news_front_page\"].fillna(2)\n",
    "\n",
    "\n",
    "train[\"alchemy_category\"] = train[\"alchemy_category\"].fillna(\"_M\")\n",
    "val[\"alchemy_category\"] = val[\"alchemy_category\"].fillna(\"_M\")\n",
    "test[\"alchemy_category\"] = test[\"alchemy_category\"].fillna(\"_M\")\n",
    "\n",
    "# impute some missing data\n",
    "\n",
    "# replace missing values with mean from training set\n",
    "train[\"alchemy_category_score\"] = train[\"alchemy_category_score\"].fillna(np.mean(train[\"alchemy_category_score\"]))\n",
    "val[\"alchemy_category_score\"] = val[\"alchemy_category_score\"].fillna(np.mean(train[\"alchemy_category_score\"]))\n",
    "test[\"alchemy_category_score\"] = test[\"alchemy_category_score\"].fillna(np.mean(train[\"alchemy_category_score\"]))\n",
    "\n",
    "\n",
    "# features that were used after imputing missing values\n",
    "feat = [\"avglinksize\", \"commonlinkratio_1\", \"commonlinkratio_2\", \"commonlinkratio_3\", \"commonlinkratio_4\", \n",
    "        \"compression_ratio\", \"embed_ratio\", \"framebased\", \"frameTagRatio\", \"hasDomainLink\", \"html_ratio\",\n",
    "        \"image_ratio\", \"lengthyLinkDomain\", \"linkwordscore\", \"non_markup_alphanum_characters\", \"numberOfLinks\", \n",
    "        \"numwords_in_url\", \"parametrizedLinkRatio\",\"spelling_errors_ratio\", \"alchemy_category_score\"]\n",
    "\n",
    "\n"
   ]
  },
  {
   "cell_type": "markdown",
   "metadata": {},
   "source": [
    "---"
   ]
  },
  {
   "cell_type": "markdown",
   "metadata": {},
   "source": [
    "# 2. Data Visualization"
   ]
  },
  {
   "cell_type": "code",
   "execution_count": 60,
   "metadata": {},
   "outputs": [
    {
     "data": {
      "text/html": [
       "<div>\n",
       "<style scoped>\n",
       "    .dataframe tbody tr th:only-of-type {\n",
       "        vertical-align: middle;\n",
       "    }\n",
       "\n",
       "    .dataframe tbody tr th {\n",
       "        vertical-align: top;\n",
       "    }\n",
       "\n",
       "    .dataframe thead th {\n",
       "        text-align: right;\n",
       "    }\n",
       "</style>\n",
       "<table border=\"1\" class=\"dataframe\">\n",
       "  <thead>\n",
       "    <tr style=\"text-align: right;\">\n",
       "      <th>label</th>\n",
       "      <th>0</th>\n",
       "      <th>1</th>\n",
       "    </tr>\n",
       "    <tr>\n",
       "      <th>alchemy_category</th>\n",
       "      <th></th>\n",
       "      <th></th>\n",
       "    </tr>\n",
       "  </thead>\n",
       "  <tbody>\n",
       "    <tr>\n",
       "      <th>arts_entertainment</th>\n",
       "      <td>0.63</td>\n",
       "      <td>0.37</td>\n",
       "    </tr>\n",
       "    <tr>\n",
       "      <th>business</th>\n",
       "      <td>0.29</td>\n",
       "      <td>0.71</td>\n",
       "    </tr>\n",
       "    <tr>\n",
       "      <th>computer_internet</th>\n",
       "      <td>0.75</td>\n",
       "      <td>0.25</td>\n",
       "    </tr>\n",
       "    <tr>\n",
       "      <th>culture_politics</th>\n",
       "      <td>0.54</td>\n",
       "      <td>0.46</td>\n",
       "    </tr>\n",
       "    <tr>\n",
       "      <th>gaming</th>\n",
       "      <td>0.63</td>\n",
       "      <td>0.37</td>\n",
       "    </tr>\n",
       "    <tr>\n",
       "      <th>health</th>\n",
       "      <td>0.43</td>\n",
       "      <td>0.57</td>\n",
       "    </tr>\n",
       "    <tr>\n",
       "      <th>law_crime</th>\n",
       "      <td>0.58</td>\n",
       "      <td>0.42</td>\n",
       "    </tr>\n",
       "    <tr>\n",
       "      <th>recreation</th>\n",
       "      <td>0.32</td>\n",
       "      <td>0.68</td>\n",
       "    </tr>\n",
       "    <tr>\n",
       "      <th>religion</th>\n",
       "      <td>0.58</td>\n",
       "      <td>0.42</td>\n",
       "    </tr>\n",
       "    <tr>\n",
       "      <th>science_technology</th>\n",
       "      <td>0.54</td>\n",
       "      <td>0.46</td>\n",
       "    </tr>\n",
       "    <tr>\n",
       "      <th>sports</th>\n",
       "      <td>0.79</td>\n",
       "      <td>0.21</td>\n",
       "    </tr>\n",
       "    <tr>\n",
       "      <th>unknown</th>\n",
       "      <td>0.67</td>\n",
       "      <td>0.33</td>\n",
       "    </tr>\n",
       "    <tr>\n",
       "      <th>weather</th>\n",
       "      <td>1.00</td>\n",
       "      <td>0.00</td>\n",
       "    </tr>\n",
       "  </tbody>\n",
       "</table>\n",
       "</div>"
      ],
      "text/plain": [
       "label                  0     1\n",
       "alchemy_category              \n",
       "arts_entertainment  0.63  0.37\n",
       "business            0.29  0.71\n",
       "computer_internet   0.75  0.25\n",
       "culture_politics    0.54  0.46\n",
       "gaming              0.63  0.37\n",
       "health              0.43  0.57\n",
       "law_crime           0.58  0.42\n",
       "recreation          0.32  0.68\n",
       "religion            0.58  0.42\n",
       "science_technology  0.54  0.46\n",
       "sports              0.79  0.21\n",
       "unknown             0.67  0.33\n",
       "weather             1.00  0.00"
      ]
     },
     "execution_count": 60,
     "metadata": {},
     "output_type": "execute_result"
    }
   ],
   "source": [
    "# pd.crosstab(train[\"alchemy_category\"],train[\"label\"]).apply(lambda x: np.round(x/x.sum(),2), axis=1)\n",
    "# pd.crosstab(train.alchemy_category, train.label.astype(bool)).plot(kind=\"bar\");"
   ]
  },
  {
   "cell_type": "code",
   "execution_count": 63,
   "metadata": {},
   "outputs": [
    {
     "data": {
      "text/html": [
       "<div>\n",
       "<style scoped>\n",
       "    .dataframe tbody tr th:only-of-type {\n",
       "        vertical-align: middle;\n",
       "    }\n",
       "\n",
       "    .dataframe tbody tr th {\n",
       "        vertical-align: top;\n",
       "    }\n",
       "\n",
       "    .dataframe thead th {\n",
       "        text-align: right;\n",
       "    }\n",
       "</style>\n",
       "<table border=\"1\" class=\"dataframe\">\n",
       "  <thead>\n",
       "    <tr style=\"text-align: right;\">\n",
       "      <th>label</th>\n",
       "      <th>False</th>\n",
       "      <th>True</th>\n",
       "    </tr>\n",
       "    <tr>\n",
       "      <th>avglinksize</th>\n",
       "      <th></th>\n",
       "      <th></th>\n",
       "    </tr>\n",
       "  </thead>\n",
       "  <tbody>\n",
       "    <tr>\n",
       "      <th>(-0.363, 72.6]</th>\n",
       "      <td>3593</td>\n",
       "      <td>3786</td>\n",
       "    </tr>\n",
       "    <tr>\n",
       "      <th>(72.6, 145.2]</th>\n",
       "      <td>4</td>\n",
       "      <td>4</td>\n",
       "    </tr>\n",
       "    <tr>\n",
       "      <th>(145.2, 217.8]</th>\n",
       "      <td>2</td>\n",
       "      <td>3</td>\n",
       "    </tr>\n",
       "    <tr>\n",
       "      <th>(217.8, 290.4]</th>\n",
       "      <td>0</td>\n",
       "      <td>2</td>\n",
       "    </tr>\n",
       "    <tr>\n",
       "      <th>(290.4, 363.0]</th>\n",
       "      <td>0</td>\n",
       "      <td>1</td>\n",
       "    </tr>\n",
       "  </tbody>\n",
       "</table>\n",
       "</div>"
      ],
      "text/plain": [
       "label           False  True \n",
       "avglinksize                 \n",
       "(-0.363, 72.6]   3593   3786\n",
       "(72.6, 145.2]       4      4\n",
       "(145.2, 217.8]      2      3\n",
       "(217.8, 290.4]      0      2\n",
       "(290.4, 363.0]      0      1"
      ]
     },
     "execution_count": 63,
     "metadata": {},
     "output_type": "execute_result"
    }
   ],
   "source": [
    "# =============================\n",
    "# 2.3 avglinksize\n",
    "# =============================\n",
    "\n",
    "# bin the continuous variable and check frequency within each bin\n",
    "pd.crosstab(pd.cut(train[\"avglinksize\"], bins=5), train[\"label\"].astype(bool))"
   ]
  },
  {
   "cell_type": "code",
   "execution_count": 65,
   "metadata": {},
   "outputs": [
    {
     "data": {
      "text/html": [
       "<div>\n",
       "<style scoped>\n",
       "    .dataframe tbody tr th:only-of-type {\n",
       "        vertical-align: middle;\n",
       "    }\n",
       "\n",
       "    .dataframe tbody tr th {\n",
       "        vertical-align: top;\n",
       "    }\n",
       "\n",
       "    .dataframe thead th {\n",
       "        text-align: right;\n",
       "    }\n",
       "</style>\n",
       "<table border=\"1\" class=\"dataframe\">\n",
       "  <thead>\n",
       "    <tr style=\"text-align: right;\">\n",
       "      <th>label</th>\n",
       "      <th>False</th>\n",
       "      <th>True</th>\n",
       "    </tr>\n",
       "    <tr>\n",
       "      <th>compression_ratio</th>\n",
       "      <th></th>\n",
       "      <th></th>\n",
       "    </tr>\n",
       "  </thead>\n",
       "  <tbody>\n",
       "    <tr>\n",
       "      <th>(-0.021, 4.2]</th>\n",
       "      <td>3232</td>\n",
       "      <td>3530</td>\n",
       "    </tr>\n",
       "    <tr>\n",
       "      <th>(4.2, 8.4]</th>\n",
       "      <td>1</td>\n",
       "      <td>0</td>\n",
       "    </tr>\n",
       "    <tr>\n",
       "      <th>(8.4, 12.6]</th>\n",
       "      <td>4</td>\n",
       "      <td>4</td>\n",
       "    </tr>\n",
       "    <tr>\n",
       "      <th>(16.8, 21.0]</th>\n",
       "      <td>362</td>\n",
       "      <td>262</td>\n",
       "    </tr>\n",
       "  </tbody>\n",
       "</table>\n",
       "</div>"
      ],
      "text/plain": [
       "label              False  True \n",
       "compression_ratio              \n",
       "(-0.021, 4.2]       3232   3530\n",
       "(4.2, 8.4]             1      0\n",
       "(8.4, 12.6]            4      4\n",
       "(16.8, 21.0]         362    262"
      ]
     },
     "execution_count": 65,
     "metadata": {},
     "output_type": "execute_result"
    }
   ],
   "source": [
    "# =============================\n",
    "# 2.5 compression_ratio\n",
    "# =============================\n",
    "\n",
    "# bin the continuous variable and check frequency within each bin\n",
    "pd.crosstab(pd.cut(train[\"compression_ratio\"], bins= 5), train.label.astype(bool))"
   ]
  },
  {
   "cell_type": "markdown",
   "metadata": {},
   "source": [
    "# 3. Data Splitting\n"
   ]
  },
  {
   "cell_type": "code",
   "execution_count": 68,
   "metadata": {
    "scrolled": true
   },
   "outputs": [
    {
     "name": "stdout",
     "output_type": "stream",
     "text": [
      "Train data size: (3697, 27)\n",
      "Validation data size: (1849, 27)\n",
      "Test data size: (1849, 27)\n"
     ]
    }
   ],
   "source": [
    "# ==============================================\n",
    "# 3. Prep for modeling\n",
    "# ==============================================\n",
    "\n",
    "# =============================\n",
    "# Train-val-test split\n",
    "# =============================\n",
    "\n",
    "train, val = train_test_split(train, test_size= 0.5, train_size= 0.5, random_state= 234)\n",
    "val, test = train_test_split(val, test_size= 0.5, train_size= 0.5, random_state= 675)\n",
    "print(\"Train data size: \" + str(train.shape))\n",
    "print(\"Validation data size: \" + str(val.shape))\n",
    "print(\"Test data size: \" + str(test.shape))"
   ]
  },
  {
   "cell_type": "markdown",
   "metadata": {},
   "source": [
    "-----"
   ]
  },
  {
   "cell_type": "markdown",
   "metadata": {},
   "source": [
    "# 4. Classification"
   ]
  },
  {
   "cell_type": "code",
   "execution_count": 72,
   "metadata": {
    "scrolled": true
   },
   "outputs": [
    {
     "data": {
      "text/plain": [
       "LogisticRegression(C=100000, class_weight=None, dual=False, fit_intercept=True,\n",
       "                   intercept_scaling=1, l1_ratio=None, max_iter=100,\n",
       "                   multi_class='warn', n_jobs=None, penalty='l2',\n",
       "                   random_state=None, solver='warn', tol=0.0001, verbose=0,\n",
       "                   warm_start=False)"
      ]
     },
     "execution_count": 72,
     "metadata": {},
     "output_type": "execute_result"
    }
   ],
   "source": [
    "# ==========================================\n",
    "# 4. Modeling\n",
    "# ==========================================\n",
    "\n",
    "# use only numeric variables without any missing values\n",
    "feat = [\"avglinksize\", \"commonlinkratio_1\", \"commonlinkratio_2\", \"commonlinkratio_3\", \"commonlinkratio_4\", \n",
    "        \"compression_ratio\", \"embed_ratio\", \"framebased\", \"frameTagRatio\", \"hasDomainLink\", \"html_ratio\",\n",
    "        \"image_ratio\", \"lengthyLinkDomain\", \"linkwordscore\", \"non_markup_alphanum_characters\", \"numberOfLinks\", \n",
    "        \"numwords_in_url\", \"parametrizedLinkRatio\",\"spelling_errors_ratio\"]\n",
    "\n",
    "# fit logistic regression\n",
    "logReg1 = LogisticRegression(penalty = \"l2\", C = 100000)\n",
    "logReg1.fit(train[feat], train[\"label\"])"
   ]
  },
  {
   "cell_type": "code",
   "execution_count": 73,
   "metadata": {},
   "outputs": [
    {
     "name": "stdout",
     "output_type": "stream",
     "text": [
      "count    1849.000000\n",
      "mean        0.516621\n",
      "std         0.110075\n",
      "min         0.091591\n",
      "25%         0.455421\n",
      "50%         0.538424\n",
      "75%         0.589830\n",
      "max         0.910725\n",
      "dtype: float64\n",
      " -- -- -- \n"
     ]
    }
   ],
   "source": [
    "# predict on validation data\n",
    "log_preds = logReg1.predict_proba(val[feat])[:,1]  # Probability that model predicts label 1\n",
    "logReg1_val = pd.Series(log_preds)\n",
    "print(logReg1_val.describe())  # Summary statistics of probabilities across validation set"
   ]
  },
  {
   "cell_type": "code",
   "execution_count": 74,
   "metadata": {},
   "outputs": [
    {
     "name": "stdout",
     "output_type": "stream",
     "text": [
      "Baseline logistic performance: 0.64532\n"
     ]
    }
   ],
   "source": [
    "# auc score\n",
    "print(\"Baseline logistic performance: \" + str(np.round(roc_auc_score(val[\"label\"], logReg1_val.values), 5)))"
   ]
  },
  {
   "cell_type": "markdown",
   "metadata": {},
   "source": [
    "# 5. Feature Engineering"
   ]
  },
  {
   "cell_type": "code",
   "execution_count": 82,
   "metadata": {},
   "outputs": [
    {
     "name": "stdout",
     "output_type": "stream",
     "text": [
      " -- -- -- \n",
      "Updated baseline logistic performance: 0.64829\n"
     ]
    }
   ],
   "source": [
    "# =============================\n",
    "# 4.2 Update baseline model\n",
    "#   Vanilla logistic regression\n",
    "# =============================\n",
    "\n",
    "# use numeric variables with missing values imputed (for alchemy_categeory_score)\n",
    "feat = [\"avglinksize\", \"commonlinkratio_1\", \"commonlinkratio_2\", \"commonlinkratio_3\", \"commonlinkratio_4\", \n",
    "        \"compression_ratio\", \"embed_ratio\", \"framebased\", \"frameTagRatio\", \"hasDomainLink\", \"html_ratio\",\n",
    "        \"image_ratio\", \"lengthyLinkDomain\", \"linkwordscore\", \"non_markup_alphanum_characters\", \"numberOfLinks\", \n",
    "        \"numwords_in_url\", \"parametrizedLinkRatio\",\"spelling_errors_ratio\", \"alchemy_category_score\"]\n",
    "\n",
    "# fit logistic regression\n",
    "logReg1 = LogisticRegression(penalty = \"l2\", C = 100000)\n",
    "logReg1.fit(train[feat], train[\"label\"])\n",
    "\n",
    "# predict on validation data\n",
    "logReg1_val = pd.Series(logReg1.predict_proba(val[feat])[:,1])\n",
    "print(\" -- -- -- \")\n",
    "\n",
    "# auc score\n",
    "print(\"Updated baseline logistic performance: \" + str(np.round(roc_auc_score(val[\"label\"], logReg1_val.values), 5)))"
   ]
  },
  {
   "cell_type": "markdown",
   "metadata": {},
   "source": [
    "---"
   ]
  },
  {
   "cell_type": "code",
   "execution_count": 83,
   "metadata": {},
   "outputs": [
    {
     "name": "stdout",
     "output_type": "stream",
     "text": [
      "recreation            602\n",
      "arts_entertainment    471\n",
      "business              465\n",
      "health                264\n",
      "sports                183\n",
      "computer_internet     147\n",
      "culture_politics      143\n",
      "science_technology    138\n",
      "religion               40\n",
      "gaming                 32\n",
      "law_crime              21\n",
      "unknown                 4\n",
      "weather                 3\n",
      "Name: alchemy_category, dtype: int64\n",
      " --- \n",
      "1184\n",
      " --- \n",
      "label                  0     1\n",
      "alchemy_category              \n",
      "_M                  0.50  0.50\n",
      "arts_entertainment  0.62  0.38\n",
      "business            0.27  0.73\n",
      "computer_internet   0.78  0.22\n",
      "culture_politics    0.57  0.43\n",
      "gaming              0.50  0.50\n",
      "health              0.43  0.57\n",
      "law_crime           0.67  0.33\n",
      "recreation          0.31  0.69\n",
      "religion            0.65  0.35\n",
      "science_technology  0.51  0.49\n",
      "sports              0.76  0.24\n",
      "unknown             0.75  0.25\n",
      "weather             1.00  0.00\n"
     ]
    }
   ],
   "source": [
    "# ==========================================\n",
    "# 5. Feature engineering\n",
    "# ==========================================\n",
    "\n",
    "\n",
    "# =============================\n",
    "# 5.2.1 Categorical variables\n",
    "# =============================\n",
    "\n",
    "# impute missing values as separate category\n",
    "train[\"alchemy_category\"] = train[\"alchemy_category\"].fillna(\"_M\")\n",
    "val[\"alchemy_category\"] = val[\"alchemy_category\"].fillna(\"_M\")\n",
    "test[\"alchemy_category\"] = test[\"alchemy_category\"].fillna(\"_M\")\n",
    "\n",
    "print(\" --- \")\n",
    "print(pd.crosstab(train[\"alchemy_category\"],train[\"label\"]).apply(lambda x: np.round(x/x.sum(), 2), axis=1))"
   ]
  },
  {
   "cell_type": "markdown",
   "metadata": {},
   "source": [
    "### Use Pandas to Convert Categorical Data to Numerical Data for Logistic Regression"
   ]
  },
  {
   "cell_type": "code",
   "execution_count": 84,
   "metadata": {
    "scrolled": true
   },
   "outputs": [
    {
     "name": "stdout",
     "output_type": "stream",
     "text": [
      "Train dummies: (3697, 14)\n",
      "Val dummies: (1849, 13)\n",
      "Test dummies: (1849, 14)\n"
     ]
    }
   ],
   "source": [
    "# dummy variables for all categories\n",
    "alch_train = pd.get_dummies(train[\"alchemy_category\"], prefix= \"al_cat\")\n",
    "print(\"Train dummies: \" + str(alch_train.shape))\n",
    "\n",
    "alch_val = pd.get_dummies(val[\"alchemy_category\"], prefix= \"al_cat\")\n",
    "print(\"Val dummies: \" + str(alch_val.shape))\n",
    "\n",
    "alch_test = pd.get_dummies(test[\"alchemy_category\"], prefix= \"al_cat\")\n",
    "print(\"Test dummies: \" + str(alch_test.shape))"
   ]
  },
  {
   "cell_type": "code",
   "execution_count": 85,
   "metadata": {
    "scrolled": false
   },
   "outputs": [
    {
     "name": "stdout",
     "output_type": "stream",
     "text": [
      "['al_cat__M', 'al_cat_arts_entertainment', 'al_cat_business', 'al_cat_computer_internet', 'al_cat_culture_politics', 'al_cat_gaming', 'al_cat_health', 'al_cat_law_crime', 'al_cat_recreation', 'al_cat_religion', 'al_cat_science_technology', 'al_cat_sports', 'al_cat_unknown', 'al_cat_weather']\n",
      " --- \n",
      "['al_cat__M', 'al_cat_arts_entertainment', 'al_cat_business', 'al_cat_computer_internet', 'al_cat_culture_politics', 'al_cat_gaming', 'al_cat_health', 'al_cat_law_crime', 'al_cat_recreation', 'al_cat_religion', 'al_cat_science_technology', 'al_cat_sports', 'al_cat_unknown']\n",
      " --- \n",
      "['al_cat__M', 'al_cat_arts_entertainment', 'al_cat_business', 'al_cat_computer_internet', 'al_cat_culture_politics', 'al_cat_gaming', 'al_cat_health', 'al_cat_law_crime', 'al_cat_recreation', 'al_cat_religion', 'al_cat_science_technology', 'al_cat_sports', 'al_cat_unknown', 'al_cat_weather']\n"
     ]
    }
   ],
   "source": [
    "print(list(alch_train.columns))\n",
    "print(\" --- \")\n",
    "print(list(alch_val.columns))\n",
    "print(\" --- \")\n",
    "print(list(alch_test.columns))"
   ]
  },
  {
   "cell_type": "markdown",
   "metadata": {},
   "source": [
    "### Merge Alchemy Data with Full Dataset"
   ]
  },
  {
   "cell_type": "code",
   "execution_count": 86,
   "metadata": {
    "scrolled": true
   },
   "outputs": [
    {
     "name": "stdout",
     "output_type": "stream",
     "text": [
      "True\n",
      "True\n",
      "True\n",
      "Index(['url', 'urlid', 'boilerplate', 'alchemy_category',\n",
      "       'alchemy_category_score', 'avglinksize', 'commonlinkratio_1',\n",
      "       'commonlinkratio_2', 'commonlinkratio_3', 'commonlinkratio_4',\n",
      "       'compression_ratio', 'embed_ratio', 'framebased', 'frameTagRatio',\n",
      "       'hasDomainLink', 'html_ratio', 'image_ratio', 'is_news',\n",
      "       'lengthyLinkDomain', 'linkwordscore', 'news_front_page',\n",
      "       'non_markup_alphanum_characters', 'numberOfLinks', 'numwords_in_url',\n",
      "       'parametrizedLinkRatio', 'spelling_errors_ratio', 'label', 'al_cat__M',\n",
      "       'al_cat_arts_entertainment', 'al_cat_business',\n",
      "       'al_cat_computer_internet', 'al_cat_culture_politics', 'al_cat_gaming',\n",
      "       'al_cat_health', 'al_cat_law_crime', 'al_cat_recreation',\n",
      "       'al_cat_religion', 'al_cat_science_technology', 'al_cat_sports',\n",
      "       'al_cat_unknown'],\n",
      "      dtype='object')\n"
     ]
    },
    {
     "data": {
      "text/html": [
       "<div>\n",
       "<style scoped>\n",
       "    .dataframe tbody tr th:only-of-type {\n",
       "        vertical-align: middle;\n",
       "    }\n",
       "\n",
       "    .dataframe tbody tr th {\n",
       "        vertical-align: top;\n",
       "    }\n",
       "\n",
       "    .dataframe thead th {\n",
       "        text-align: right;\n",
       "    }\n",
       "</style>\n",
       "<table border=\"1\" class=\"dataframe\">\n",
       "  <thead>\n",
       "    <tr style=\"text-align: right;\">\n",
       "      <th></th>\n",
       "      <th>url</th>\n",
       "      <th>urlid</th>\n",
       "      <th>boilerplate</th>\n",
       "      <th>alchemy_category</th>\n",
       "      <th>alchemy_category_score</th>\n",
       "      <th>avglinksize</th>\n",
       "      <th>commonlinkratio_1</th>\n",
       "      <th>commonlinkratio_2</th>\n",
       "      <th>commonlinkratio_3</th>\n",
       "      <th>commonlinkratio_4</th>\n",
       "      <th>...</th>\n",
       "      <th>al_cat_culture_politics</th>\n",
       "      <th>al_cat_gaming</th>\n",
       "      <th>al_cat_health</th>\n",
       "      <th>al_cat_law_crime</th>\n",
       "      <th>al_cat_recreation</th>\n",
       "      <th>al_cat_religion</th>\n",
       "      <th>al_cat_science_technology</th>\n",
       "      <th>al_cat_sports</th>\n",
       "      <th>al_cat_unknown</th>\n",
       "      <th>al_cat_weather</th>\n",
       "    </tr>\n",
       "  </thead>\n",
       "  <tbody>\n",
       "    <tr>\n",
       "      <th>3897</th>\n",
       "      <td>http://bloggerspath.com/technology-world-news-...</td>\n",
       "      <td>8065</td>\n",
       "      <td>{\"title\":\"Technology World s News Updates of A...</td>\n",
       "      <td>_M</td>\n",
       "      <td>0.602462</td>\n",
       "      <td>1.727273</td>\n",
       "      <td>0.243590</td>\n",
       "      <td>0.038462</td>\n",
       "      <td>0.012821</td>\n",
       "      <td>0.000000</td>\n",
       "      <td>...</td>\n",
       "      <td>0</td>\n",
       "      <td>0</td>\n",
       "      <td>0</td>\n",
       "      <td>0</td>\n",
       "      <td>0</td>\n",
       "      <td>0</td>\n",
       "      <td>0</td>\n",
       "      <td>0</td>\n",
       "      <td>0</td>\n",
       "      <td>0</td>\n",
       "    </tr>\n",
       "    <tr>\n",
       "      <th>2099</th>\n",
       "      <td>http://www.foodforhealthyhair.com/how-to-get-h...</td>\n",
       "      <td>9682</td>\n",
       "      <td>{\"title\":\"How to Get Healthy Hair Ten Ways to ...</td>\n",
       "      <td>_M</td>\n",
       "      <td>0.602462</td>\n",
       "      <td>2.622222</td>\n",
       "      <td>0.760870</td>\n",
       "      <td>0.326087</td>\n",
       "      <td>0.152174</td>\n",
       "      <td>0.086957</td>\n",
       "      <td>...</td>\n",
       "      <td>0</td>\n",
       "      <td>0</td>\n",
       "      <td>0</td>\n",
       "      <td>0</td>\n",
       "      <td>0</td>\n",
       "      <td>0</td>\n",
       "      <td>0</td>\n",
       "      <td>0</td>\n",
       "      <td>0</td>\n",
       "      <td>0</td>\n",
       "    </tr>\n",
       "    <tr>\n",
       "      <th>3152</th>\n",
       "      <td>http://iwastesomuchtime.com/on?i=3051</td>\n",
       "      <td>6219</td>\n",
       "      <td>{\"title\":\"OM NOM NOM om nom nom.\",\"body\":\" i w...</td>\n",
       "      <td>_M</td>\n",
       "      <td>0.602462</td>\n",
       "      <td>0.909091</td>\n",
       "      <td>0.121951</td>\n",
       "      <td>0.048780</td>\n",
       "      <td>0.000000</td>\n",
       "      <td>0.000000</td>\n",
       "      <td>...</td>\n",
       "      <td>0</td>\n",
       "      <td>0</td>\n",
       "      <td>0</td>\n",
       "      <td>0</td>\n",
       "      <td>0</td>\n",
       "      <td>0</td>\n",
       "      <td>0</td>\n",
       "      <td>0</td>\n",
       "      <td>0</td>\n",
       "      <td>0</td>\n",
       "    </tr>\n",
       "    <tr>\n",
       "      <th>7342</th>\n",
       "      <td>http://bleacherreport.com/articles/1179008-the...</td>\n",
       "      <td>8312</td>\n",
       "      <td>{\"title\":\"The 50 Gnarliest Pictures in Sports ...</td>\n",
       "      <td>sports</td>\n",
       "      <td>0.392081</td>\n",
       "      <td>2.614583</td>\n",
       "      <td>0.483333</td>\n",
       "      <td>0.258333</td>\n",
       "      <td>0.141667</td>\n",
       "      <td>0.058333</td>\n",
       "      <td>...</td>\n",
       "      <td>0</td>\n",
       "      <td>0</td>\n",
       "      <td>0</td>\n",
       "      <td>0</td>\n",
       "      <td>0</td>\n",
       "      <td>0</td>\n",
       "      <td>0</td>\n",
       "      <td>1</td>\n",
       "      <td>0</td>\n",
       "      <td>0</td>\n",
       "    </tr>\n",
       "    <tr>\n",
       "      <th>1114</th>\n",
       "      <td>http://www.technologyreview.com/biomedicine/38...</td>\n",
       "      <td>10299</td>\n",
       "      <td>{\"title\":\"Fingertip Microscope Can Peek Inside...</td>\n",
       "      <td>_M</td>\n",
       "      <td>0.602462</td>\n",
       "      <td>1.890625</td>\n",
       "      <td>0.292208</td>\n",
       "      <td>0.090909</td>\n",
       "      <td>0.019481</td>\n",
       "      <td>0.012987</td>\n",
       "      <td>...</td>\n",
       "      <td>0</td>\n",
       "      <td>0</td>\n",
       "      <td>0</td>\n",
       "      <td>0</td>\n",
       "      <td>0</td>\n",
       "      <td>0</td>\n",
       "      <td>0</td>\n",
       "      <td>0</td>\n",
       "      <td>0</td>\n",
       "      <td>0</td>\n",
       "    </tr>\n",
       "    <tr>\n",
       "      <th>...</th>\n",
       "      <td>...</td>\n",
       "      <td>...</td>\n",
       "      <td>...</td>\n",
       "      <td>...</td>\n",
       "      <td>...</td>\n",
       "      <td>...</td>\n",
       "      <td>...</td>\n",
       "      <td>...</td>\n",
       "      <td>...</td>\n",
       "      <td>...</td>\n",
       "      <td>...</td>\n",
       "      <td>...</td>\n",
       "      <td>...</td>\n",
       "      <td>...</td>\n",
       "      <td>...</td>\n",
       "      <td>...</td>\n",
       "      <td>...</td>\n",
       "      <td>...</td>\n",
       "      <td>...</td>\n",
       "      <td>...</td>\n",
       "      <td>...</td>\n",
       "    </tr>\n",
       "    <tr>\n",
       "      <th>1518</th>\n",
       "      <td>http://www.choosingraw.com/you-ask-i-deliver-m...</td>\n",
       "      <td>3654</td>\n",
       "      <td>{\"title\":\"My Top Ten Favorite Juice Recipes \",...</td>\n",
       "      <td>recreation</td>\n",
       "      <td>0.344145</td>\n",
       "      <td>2.225806</td>\n",
       "      <td>0.634660</td>\n",
       "      <td>0.276347</td>\n",
       "      <td>0.238876</td>\n",
       "      <td>0.220141</td>\n",
       "      <td>...</td>\n",
       "      <td>0</td>\n",
       "      <td>0</td>\n",
       "      <td>0</td>\n",
       "      <td>0</td>\n",
       "      <td>1</td>\n",
       "      <td>0</td>\n",
       "      <td>0</td>\n",
       "      <td>0</td>\n",
       "      <td>0</td>\n",
       "      <td>0</td>\n",
       "    </tr>\n",
       "    <tr>\n",
       "      <th>2324</th>\n",
       "      <td>http://www.poorgirleatswell.com/2009/10/recipe...</td>\n",
       "      <td>5574</td>\n",
       "      <td>{\"title\":\"Recipe Hearty Mushroom Potato Soup \"...</td>\n",
       "      <td>recreation</td>\n",
       "      <td>0.747449</td>\n",
       "      <td>1.845815</td>\n",
       "      <td>0.676856</td>\n",
       "      <td>0.310044</td>\n",
       "      <td>0.183406</td>\n",
       "      <td>0.148472</td>\n",
       "      <td>...</td>\n",
       "      <td>0</td>\n",
       "      <td>0</td>\n",
       "      <td>0</td>\n",
       "      <td>0</td>\n",
       "      <td>1</td>\n",
       "      <td>0</td>\n",
       "      <td>0</td>\n",
       "      <td>0</td>\n",
       "      <td>0</td>\n",
       "      <td>0</td>\n",
       "    </tr>\n",
       "    <tr>\n",
       "      <th>3843</th>\n",
       "      <td>http://m.lifehacker.com/5860015/cook-pasta-wit...</td>\n",
       "      <td>7617</td>\n",
       "      <td>{\"url\":\"m lifehacker 5860015 cook pasta with c...</td>\n",
       "      <td>_M</td>\n",
       "      <td>0.602462</td>\n",
       "      <td>1.320755</td>\n",
       "      <td>0.187500</td>\n",
       "      <td>0.075000</td>\n",
       "      <td>0.012500</td>\n",
       "      <td>0.000000</td>\n",
       "      <td>...</td>\n",
       "      <td>0</td>\n",
       "      <td>0</td>\n",
       "      <td>0</td>\n",
       "      <td>0</td>\n",
       "      <td>0</td>\n",
       "      <td>0</td>\n",
       "      <td>0</td>\n",
       "      <td>0</td>\n",
       "      <td>0</td>\n",
       "      <td>0</td>\n",
       "    </tr>\n",
       "    <tr>\n",
       "      <th>535</th>\n",
       "      <td>http://www.fitsugar.com/3-Ways-Improve-Bad-Pos...</td>\n",
       "      <td>8523</td>\n",
       "      <td>{\"title\":\"3 Ways to Improve Bad Posture stop s...</td>\n",
       "      <td>health</td>\n",
       "      <td>0.285445</td>\n",
       "      <td>2.235602</td>\n",
       "      <td>0.435000</td>\n",
       "      <td>0.125000</td>\n",
       "      <td>0.055000</td>\n",
       "      <td>0.020000</td>\n",
       "      <td>...</td>\n",
       "      <td>0</td>\n",
       "      <td>0</td>\n",
       "      <td>1</td>\n",
       "      <td>0</td>\n",
       "      <td>0</td>\n",
       "      <td>0</td>\n",
       "      <td>0</td>\n",
       "      <td>0</td>\n",
       "      <td>0</td>\n",
       "      <td>0</td>\n",
       "    </tr>\n",
       "    <tr>\n",
       "      <th>7282</th>\n",
       "      <td>http://www.guardian.co.uk/world/2010/dec/26/20...</td>\n",
       "      <td>1461</td>\n",
       "      <td>{\"title\":\" \",\"body\":\" \",\"url\":\"guardian co uk ...</td>\n",
       "      <td>_M</td>\n",
       "      <td>0.602462</td>\n",
       "      <td>2.598930</td>\n",
       "      <td>0.624413</td>\n",
       "      <td>0.300469</td>\n",
       "      <td>0.084507</td>\n",
       "      <td>0.032864</td>\n",
       "      <td>...</td>\n",
       "      <td>0</td>\n",
       "      <td>0</td>\n",
       "      <td>0</td>\n",
       "      <td>0</td>\n",
       "      <td>0</td>\n",
       "      <td>0</td>\n",
       "      <td>0</td>\n",
       "      <td>0</td>\n",
       "      <td>0</td>\n",
       "      <td>0</td>\n",
       "    </tr>\n",
       "  </tbody>\n",
       "</table>\n",
       "<p>100 rows × 41 columns</p>\n",
       "</div>"
      ],
      "text/plain": [
       "                                                    url  urlid  \\\n",
       "3897  http://bloggerspath.com/technology-world-news-...   8065   \n",
       "2099  http://www.foodforhealthyhair.com/how-to-get-h...   9682   \n",
       "3152              http://iwastesomuchtime.com/on?i=3051   6219   \n",
       "7342  http://bleacherreport.com/articles/1179008-the...   8312   \n",
       "1114  http://www.technologyreview.com/biomedicine/38...  10299   \n",
       "...                                                 ...    ...   \n",
       "1518  http://www.choosingraw.com/you-ask-i-deliver-m...   3654   \n",
       "2324  http://www.poorgirleatswell.com/2009/10/recipe...   5574   \n",
       "3843  http://m.lifehacker.com/5860015/cook-pasta-wit...   7617   \n",
       "535   http://www.fitsugar.com/3-Ways-Improve-Bad-Pos...   8523   \n",
       "7282  http://www.guardian.co.uk/world/2010/dec/26/20...   1461   \n",
       "\n",
       "                                            boilerplate alchemy_category  \\\n",
       "3897  {\"title\":\"Technology World s News Updates of A...               _M   \n",
       "2099  {\"title\":\"How to Get Healthy Hair Ten Ways to ...               _M   \n",
       "3152  {\"title\":\"OM NOM NOM om nom nom.\",\"body\":\" i w...               _M   \n",
       "7342  {\"title\":\"The 50 Gnarliest Pictures in Sports ...           sports   \n",
       "1114  {\"title\":\"Fingertip Microscope Can Peek Inside...               _M   \n",
       "...                                                 ...              ...   \n",
       "1518  {\"title\":\"My Top Ten Favorite Juice Recipes \",...       recreation   \n",
       "2324  {\"title\":\"Recipe Hearty Mushroom Potato Soup \"...       recreation   \n",
       "3843  {\"url\":\"m lifehacker 5860015 cook pasta with c...               _M   \n",
       "535   {\"title\":\"3 Ways to Improve Bad Posture stop s...           health   \n",
       "7282  {\"title\":\" \",\"body\":\" \",\"url\":\"guardian co uk ...               _M   \n",
       "\n",
       "      alchemy_category_score  avglinksize  commonlinkratio_1  \\\n",
       "3897                0.602462     1.727273           0.243590   \n",
       "2099                0.602462     2.622222           0.760870   \n",
       "3152                0.602462     0.909091           0.121951   \n",
       "7342                0.392081     2.614583           0.483333   \n",
       "1114                0.602462     1.890625           0.292208   \n",
       "...                      ...          ...                ...   \n",
       "1518                0.344145     2.225806           0.634660   \n",
       "2324                0.747449     1.845815           0.676856   \n",
       "3843                0.602462     1.320755           0.187500   \n",
       "535                 0.285445     2.235602           0.435000   \n",
       "7282                0.602462     2.598930           0.624413   \n",
       "\n",
       "      commonlinkratio_2  commonlinkratio_3  commonlinkratio_4  ...  \\\n",
       "3897           0.038462           0.012821           0.000000  ...   \n",
       "2099           0.326087           0.152174           0.086957  ...   \n",
       "3152           0.048780           0.000000           0.000000  ...   \n",
       "7342           0.258333           0.141667           0.058333  ...   \n",
       "1114           0.090909           0.019481           0.012987  ...   \n",
       "...                 ...                ...                ...  ...   \n",
       "1518           0.276347           0.238876           0.220141  ...   \n",
       "2324           0.310044           0.183406           0.148472  ...   \n",
       "3843           0.075000           0.012500           0.000000  ...   \n",
       "535            0.125000           0.055000           0.020000  ...   \n",
       "7282           0.300469           0.084507           0.032864  ...   \n",
       "\n",
       "      al_cat_culture_politics  al_cat_gaming  al_cat_health  al_cat_law_crime  \\\n",
       "3897                        0              0              0                 0   \n",
       "2099                        0              0              0                 0   \n",
       "3152                        0              0              0                 0   \n",
       "7342                        0              0              0                 0   \n",
       "1114                        0              0              0                 0   \n",
       "...                       ...            ...            ...               ...   \n",
       "1518                        0              0              0                 0   \n",
       "2324                        0              0              0                 0   \n",
       "3843                        0              0              0                 0   \n",
       "535                         0              0              1                 0   \n",
       "7282                        0              0              0                 0   \n",
       "\n",
       "      al_cat_recreation  al_cat_religion  al_cat_science_technology  \\\n",
       "3897                  0                0                          0   \n",
       "2099                  0                0                          0   \n",
       "3152                  0                0                          0   \n",
       "7342                  0                0                          0   \n",
       "1114                  0                0                          0   \n",
       "...                 ...              ...                        ...   \n",
       "1518                  1                0                          0   \n",
       "2324                  1                0                          0   \n",
       "3843                  0                0                          0   \n",
       "535                   0                0                          0   \n",
       "7282                  0                0                          0   \n",
       "\n",
       "      al_cat_sports  al_cat_unknown  al_cat_weather  \n",
       "3897              0               0               0  \n",
       "2099              0               0               0  \n",
       "3152              0               0               0  \n",
       "7342              1               0               0  \n",
       "1114              0               0               0  \n",
       "...             ...             ...             ...  \n",
       "1518              0               0               0  \n",
       "2324              0               0               0  \n",
       "3843              0               0               0  \n",
       "535               0               0               0  \n",
       "7282              0               0               0  \n",
       "\n",
       "[100 rows x 41 columns]"
      ]
     },
     "execution_count": 86,
     "metadata": {},
     "output_type": "execute_result"
    }
   ],
   "source": [
    "# join with main data using indices\n",
    "print(set(list(train.index)) == set(list(alch_train.index)))\n",
    "print(set(list(val.index)) == set(list(alch_val.index)))\n",
    "print(set(list(test.index)) == set(list(alch_test.index)))\n",
    "\n",
    "# join alchemy features with full datasets \n",
    "train = train.join(alch_train)\n",
    "val = val.join(alch_val)\n",
    "test= test.join(alch_test)\n",
    "\n",
    "train.head(100)"
   ]
  },
  {
   "cell_type": "code",
   "execution_count": 37,
   "metadata": {},
   "outputs": [
    {
     "data": {
      "text/plain": [
       "['url',\n",
       " 'urlid',\n",
       " 'boilerplate',\n",
       " 'alchemy_category',\n",
       " 'alchemy_category_score',\n",
       " 'avglinksize',\n",
       " 'commonlinkratio_1',\n",
       " 'commonlinkratio_2',\n",
       " 'commonlinkratio_3',\n",
       " 'commonlinkratio_4',\n",
       " 'compression_ratio',\n",
       " 'embed_ratio',\n",
       " 'framebased',\n",
       " 'frameTagRatio',\n",
       " 'hasDomainLink',\n",
       " 'html_ratio',\n",
       " 'image_ratio',\n",
       " 'is_news',\n",
       " 'lengthyLinkDomain',\n",
       " 'linkwordscore',\n",
       " 'news_front_page',\n",
       " 'non_markup_alphanum_characters',\n",
       " 'numberOfLinks',\n",
       " 'numwords_in_url',\n",
       " 'parametrizedLinkRatio',\n",
       " 'spelling_errors_ratio',\n",
       " 'label',\n",
       " 'al_cat__M',\n",
       " 'al_cat_arts_entertainment',\n",
       " 'al_cat_business',\n",
       " 'al_cat_computer_internet',\n",
       " 'al_cat_culture_politics',\n",
       " 'al_cat_gaming',\n",
       " 'al_cat_health',\n",
       " 'al_cat_law_crime',\n",
       " 'al_cat_recreation',\n",
       " 'al_cat_religion',\n",
       " 'al_cat_science_technology',\n",
       " 'al_cat_sports',\n",
       " 'al_cat_unknown',\n",
       " 'al_cat_weather']"
      ]
     },
     "execution_count": 37,
     "metadata": {},
     "output_type": "execute_result"
    }
   ],
   "source": [
    "list(train.columns)"
   ]
  },
  {
   "cell_type": "markdown",
   "metadata": {},
   "source": [
    "---"
   ]
  },
  {
   "cell_type": "code",
   "execution_count": 38,
   "metadata": {},
   "outputs": [
    {
     "name": "stdout",
     "output_type": "stream",
     "text": [
      " -- -- -- \n",
      "Updated baseline logistic performance: 0.69367\n"
     ]
    }
   ],
   "source": [
    "# =============================\n",
    "# 4.3 Update baseline model\n",
    "#   Vanilla logistic regression\n",
    "# =============================\n",
    "\n",
    "# use numeric variables with missing values imputed\n",
    "feat = [\"avglinksize\", \"commonlinkratio_1\", \"commonlinkratio_2\", \"commonlinkratio_3\", \"commonlinkratio_4\", \n",
    "        \"compression_ratio\", \"embed_ratio\", \"framebased\", \"frameTagRatio\", \"hasDomainLink\", \"html_ratio\",\n",
    "        \"image_ratio\", \"lengthyLinkDomain\", \"linkwordscore\", \"non_markup_alphanum_characters\", \"numberOfLinks\", \n",
    "        \"numwords_in_url\", \"parametrizedLinkRatio\",\"spelling_errors_ratio\", \"alchemy_category_score\", \n",
    "        \"al_cat__M\", \"al_cat_arts_entertainment\", \"al_cat_business\", \"al_cat_computer_internet\",\n",
    "        \"al_cat_culture_politics\", \"al_cat_gaming\", \"al_cat_health\", \"al_cat_law_crime\", \"al_cat_recreation\",\n",
    "        \"al_cat_religion\", \"al_cat_science_technology\", \"al_cat_sports\"]\n",
    "\n",
    "# fit logistic regression\n",
    "logReg1 = LogisticRegression(penalty = \"l2\", C = 100000)\n",
    "logReg1.fit(train[feat], train[\"label\"])\n",
    "\n",
    "# predict on validation data\n",
    "logReg1_val = pd.Series(logReg1.predict_proba(val[feat])[:,1])\n",
    "print(\" -- -- -- \")\n",
    "\n",
    "# auc score\n",
    "print(\"Updated baseline logistic performance: \" + str(np.round(roc_auc_score(val[\"label\"], logReg1_val.values), 5)))"
   ]
  },
  {
   "cell_type": "markdown",
   "metadata": {},
   "source": [
    "---"
   ]
  },
  {
   "cell_type": "markdown",
   "metadata": {},
   "source": [
    "### Madhav Feature Engineering"
   ]
  },
  {
   "cell_type": "code",
   "execution_count": 41,
   "metadata": {},
   "outputs": [
    {
     "name": "stdout",
     "output_type": "stream",
     "text": [
      " -- -- -- \n",
      "Updated baseline logistic performance: 0.63161\n"
     ]
    }
   ],
   "source": [
    "# =============================\n",
    "# 4.4 Update baseline model\n",
    "#   Vanilla logistic regression\n",
    "# =============================\n",
    "\n",
    "# use numeric variables with missing values imputed\n",
    "feat = [\"avglinksize\", \"commonlinkratio_1\", \"commonlinkratio_2\", \"commonlinkratio_3\", \"commonlinkratio_4\", \n",
    "        \"compression_ratio\", \"embed_ratio\", \"framebased\", \"frameTagRatio\", \"hasDomainLink\", \"html_ratio\",\n",
    "        \"image_ratio\", \"lengthyLinkDomain\", \"linkwordscore\", \"non_markup_alphanum_characters\", \"numberOfLinks\", \n",
    "        \"numwords_in_url\", \"parametrizedLinkRatio\",\"spelling_errors_ratio\", \"alchemy_category_score\", \n",
    "        \"alch_avg\"]\n",
    "\n",
    "# fit logistic regression\n",
    "logReg2 = LogisticRegression(penalty = \"l2\", C = 100000)\n",
    "logReg2.fit(train[feat], train[\"label\"])\n",
    "\n",
    "# predict on validation data\n",
    "logReg2_val = pd.Series(logReg2.predict_proba(val[feat])[:,1])\n",
    "print(\" -- -- -- \")\n",
    "\n",
    "# auc score\n",
    "print(\"Updated baseline logistic performance: \" + str(np.round(roc_auc_score(val[\"label\"], logReg2_val.values), 5)))"
   ]
  },
  {
   "cell_type": "markdown",
   "metadata": {},
   "source": [
    "### Penalized Logistic Regression"
   ]
  },
  {
   "cell_type": "code",
   "execution_count": 42,
   "metadata": {},
   "outputs": [
    {
     "name": "stdout",
     "output_type": "stream",
     "text": [
      " -- -- -- \n",
      "Updated baseline logistic performance: 0.66486\n"
     ]
    }
   ],
   "source": [
    "# =============================\n",
    "# 4.4.1 Penalized logistic regression\n",
    "# =============================\n",
    "\n",
    "# use numeric variables with missing values imputed\n",
    "feat = [\"avglinksize\", \"commonlinkratio_1\", \"commonlinkratio_2\", \"commonlinkratio_3\", \"commonlinkratio_4\", \n",
    "        \"compression_ratio\", \"embed_ratio\", \"framebased\", \"frameTagRatio\", \"hasDomainLink\", \"html_ratio\",\n",
    "        \"image_ratio\", \"lengthyLinkDomain\", \"linkwordscore\", \"non_markup_alphanum_characters\", \"numberOfLinks\", \n",
    "        \"numwords_in_url\", \"parametrizedLinkRatio\",\"spelling_errors_ratio\", \"alchemy_category_score\", \n",
    "        \"al_cat__M\", \"al_cat_arts_entertainment\", \"al_cat_business\", \"al_cat_computer_internet\",\n",
    "        \"al_cat_culture_politics\", \"al_cat_gaming\", \"al_cat_health\", \"al_cat_law_crime\", \"al_cat_recreation\",\n",
    "        \"al_cat_religion\", \"al_cat_science_technology\", \"al_cat_sports\"]\n",
    "\n",
    "# fit logistic regression\n",
    "logReg2_1 = LogisticRegression(penalty = \"l2\", C = 5)\n",
    "logReg2_1.fit(train[feat], train[\"label\"])\n",
    "\n",
    "# predict on validation data\n",
    "logReg2_1_val = pd.Series(logReg2_1.predict_proba(val[feat])[:,1])\n",
    "print(\" -- -- -- \")\n",
    "\n",
    "# auc score\n",
    "print(\"Updated baseline logistic performance: \" + str(np.round(roc_auc_score(val[\"label\"], logReg2_1_val.values), 5)))"
   ]
  },
  {
   "cell_type": "markdown",
   "metadata": {},
   "source": [
    "## Gradient Boosting"
   ]
  },
  {
   "cell_type": "code",
   "execution_count": 43,
   "metadata": {},
   "outputs": [
    {
     "name": "stdout",
     "output_type": "stream",
     "text": [
      " -- -- -- \n",
      "GBM: 0.7487\n"
     ]
    }
   ],
   "source": [
    "# =============================\n",
    "# 4.5 Gradient Boosting\n",
    "# =============================\n",
    "\n",
    "# features to use\n",
    "feat = [\"avglinksize\", \"commonlinkratio_1\", \"commonlinkratio_2\", \"commonlinkratio_3\", \"commonlinkratio_4\", \n",
    "        \"compression_ratio\", \"embed_ratio\", \"framebased\", \"frameTagRatio\", \"hasDomainLink\", \"html_ratio\",\n",
    "        \"image_ratio\", \"lengthyLinkDomain\", \"linkwordscore\", \"non_markup_alphanum_characters\", \"numberOfLinks\", \n",
    "        \"numwords_in_url\", \"parametrizedLinkRatio\",\"spelling_errors_ratio\", \"alchemy_category_score\", \n",
    "        \"alch_avg\"]\n",
    "\n",
    "# simple gbm\n",
    "gbm1 = GradientBoostingClassifier(loss = \"deviance\", learning_rate= 0.1, n_estimators= 100,\n",
    "                                 max_depth= 2, min_samples_split= 10, min_samples_leaf= 10,\n",
    "                                 subsample= 0.5, max_features= None, verbose= 0)\n",
    "gbm1.fit(train[feat], train[\"label\"])\n",
    "\n",
    "# predict on validation data\n",
    "gbm1_val = pd.Series(gbm1.predict_proba(val[feat])[:,1])\n",
    "print(\" -- -- -- \")\n",
    "\n",
    "# auc score\n",
    "print(\"GBM: \" + str(np.round(roc_auc_score(val[\"label\"], gbm1_val.values), 5)))"
   ]
  },
  {
   "cell_type": "code",
   "execution_count": 44,
   "metadata": {},
   "outputs": [
    {
     "data": {
      "text/html": [
       "<div>\n",
       "<table border=\"1\" class=\"dataframe\">\n",
       "  <thead>\n",
       "    <tr style=\"text-align: right;\">\n",
       "      <th></th>\n",
       "      <th>feat</th>\n",
       "      <th>imp</th>\n",
       "    </tr>\n",
       "  </thead>\n",
       "  <tbody>\n",
       "    <tr>\n",
       "      <th>20</th>\n",
       "      <td>alch_avg</td>\n",
       "      <td>0.221</td>\n",
       "    </tr>\n",
       "    <tr>\n",
       "      <th>14</th>\n",
       "      <td>non_markup_alphanum_characters</td>\n",
       "      <td>0.107</td>\n",
       "    </tr>\n",
       "    <tr>\n",
       "      <th>8</th>\n",
       "      <td>frameTagRatio</td>\n",
       "      <td>0.101</td>\n",
       "    </tr>\n",
       "    <tr>\n",
       "      <th>0</th>\n",
       "      <td>avglinksize</td>\n",
       "      <td>0.095</td>\n",
       "    </tr>\n",
       "    <tr>\n",
       "      <th>13</th>\n",
       "      <td>linkwordscore</td>\n",
       "      <td>0.062</td>\n",
       "    </tr>\n",
       "    <tr>\n",
       "      <th>18</th>\n",
       "      <td>spelling_errors_ratio</td>\n",
       "      <td>0.053</td>\n",
       "    </tr>\n",
       "    <tr>\n",
       "      <th>5</th>\n",
       "      <td>compression_ratio</td>\n",
       "      <td>0.053</td>\n",
       "    </tr>\n",
       "    <tr>\n",
       "      <th>16</th>\n",
       "      <td>numwords_in_url</td>\n",
       "      <td>0.042</td>\n",
       "    </tr>\n",
       "    <tr>\n",
       "      <th>19</th>\n",
       "      <td>alchemy_category_score</td>\n",
       "      <td>0.041</td>\n",
       "    </tr>\n",
       "    <tr>\n",
       "      <th>11</th>\n",
       "      <td>image_ratio</td>\n",
       "      <td>0.040</td>\n",
       "    </tr>\n",
       "    <tr>\n",
       "      <th>3</th>\n",
       "      <td>commonlinkratio_3</td>\n",
       "      <td>0.033</td>\n",
       "    </tr>\n",
       "    <tr>\n",
       "      <th>10</th>\n",
       "      <td>html_ratio</td>\n",
       "      <td>0.025</td>\n",
       "    </tr>\n",
       "    <tr>\n",
       "      <th>1</th>\n",
       "      <td>commonlinkratio_1</td>\n",
       "      <td>0.025</td>\n",
       "    </tr>\n",
       "    <tr>\n",
       "      <th>2</th>\n",
       "      <td>commonlinkratio_2</td>\n",
       "      <td>0.025</td>\n",
       "    </tr>\n",
       "    <tr>\n",
       "      <th>17</th>\n",
       "      <td>parametrizedLinkRatio</td>\n",
       "      <td>0.024</td>\n",
       "    </tr>\n",
       "    <tr>\n",
       "      <th>6</th>\n",
       "      <td>embed_ratio</td>\n",
       "      <td>0.019</td>\n",
       "    </tr>\n",
       "    <tr>\n",
       "      <th>4</th>\n",
       "      <td>commonlinkratio_4</td>\n",
       "      <td>0.017</td>\n",
       "    </tr>\n",
       "    <tr>\n",
       "      <th>15</th>\n",
       "      <td>numberOfLinks</td>\n",
       "      <td>0.017</td>\n",
       "    </tr>\n",
       "    <tr>\n",
       "      <th>9</th>\n",
       "      <td>hasDomainLink</td>\n",
       "      <td>0.000</td>\n",
       "    </tr>\n",
       "    <tr>\n",
       "      <th>7</th>\n",
       "      <td>framebased</td>\n",
       "      <td>0.000</td>\n",
       "    </tr>\n",
       "    <tr>\n",
       "      <th>12</th>\n",
       "      <td>lengthyLinkDomain</td>\n",
       "      <td>0.000</td>\n",
       "    </tr>\n",
       "  </tbody>\n",
       "</table>\n",
       "</div>"
      ],
      "text/plain": [
       "                              feat    imp\n",
       "20                        alch_avg  0.221\n",
       "14  non_markup_alphanum_characters  0.107\n",
       "8                    frameTagRatio  0.101\n",
       "0                      avglinksize  0.095\n",
       "13                   linkwordscore  0.062\n",
       "18           spelling_errors_ratio  0.053\n",
       "5                compression_ratio  0.053\n",
       "16                 numwords_in_url  0.042\n",
       "19          alchemy_category_score  0.041\n",
       "11                     image_ratio  0.040\n",
       "3                commonlinkratio_3  0.033\n",
       "10                      html_ratio  0.025\n",
       "1                commonlinkratio_1  0.025\n",
       "2                commonlinkratio_2  0.025\n",
       "17           parametrizedLinkRatio  0.024\n",
       "6                      embed_ratio  0.019\n",
       "4                commonlinkratio_4  0.017\n",
       "15                   numberOfLinks  0.017\n",
       "9                    hasDomainLink  0.000\n",
       "7                       framebased  0.000\n",
       "12               lengthyLinkDomain  0.000"
      ]
     },
     "execution_count": 44,
     "metadata": {},
     "output_type": "execute_result"
    }
   ],
   "source": [
    "# important variables in gbm\n",
    "gbm_feat_imp = pd.DataFrame({\"feat\": feat, \"imp\": np.round(gbm1.feature_importances_,3)})\n",
    "gbm_feat_imp = gbm_feat_imp.sort_values(by= [\"imp\"], ascending= False)\n",
    "gbm_feat_imp"
   ]
  },
  {
   "cell_type": "code",
   "execution_count": 45,
   "metadata": {},
   "outputs": [
    {
     "data": {
      "image/png": "[encoded data removed]",
      "text/plain": [
       "<Figure size 864x720 with 1 Axes>"
      ]
     },
     "metadata": {
      "needs_background": "light"
     },
     "output_type": "display_data"
    }
   ],
   "source": [
    "# bar graph to show feature importance\n",
    "gbm_feat_imp = gbm_feat_imp.sort_values(by= [\"imp\"], ascending= True)\n",
    "pos = np.arange(gbm_feat_imp.shape[0]) + 0.5\n",
    "plt.figure(figsize=(12, 10))\n",
    "plt.subplot(1, 1, 1)\n",
    "plt.barh(pos, gbm_feat_imp.imp.values*100, align='center')\n",
    "plt.yticks(pos, gbm_feat_imp.feat.values)\n",
    "plt.xlabel(\"Importance\")\n",
    "plt.title(\"Variable Importance in Gradient Boosting\")\n",
    "plt.show()"
   ]
  },
  {
   "cell_type": "code",
   "execution_count": 46,
   "metadata": {},
   "outputs": [
    {
     "data": {
      "text/plain": [
       "<Figure size 432x288 with 0 Axes>"
      ]
     },
     "metadata": {},
     "output_type": "display_data"
    },
    {
     "data": {
      "image/png": "[encoded data removed]",
      "text/plain": [
       "<Figure size 432x288 with 1 Axes>"
      ]
     },
     "metadata": {
      "needs_background": "light"
     },
     "output_type": "display_data"
    }
   ],
   "source": [
    "# Partial dependence plots\n",
    "fig=plt.figure()\n",
    "fig, axs = plot_partial_dependence(gbm1, train[feat], features= [20], \n",
    "                                   feature_names= feat, grid_resolution= 100) \n",
    "fig.suptitle('Partial dependence of plot')\n",
    "plt.subplots_adjust(top=0.9)  # tight_layout causes overlap with suptitle\n",
    "plt.show();"
   ]
  },
  {
   "cell_type": "markdown",
   "metadata": {},
   "source": [
    "---"
   ]
  },
  {
   "cell_type": "markdown",
   "metadata": {},
   "source": [
    "Text processing\n",
    "============="
   ]
  },
  {
   "cell_type": "code",
   "execution_count": 47,
   "metadata": {
    "scrolled": false
   },
   "outputs": [
    {
     "data": {
      "text/plain": [
       "CountVectorizer(analyzer='word', binary=True, decode_error='strict',\n",
       "                dtype=<class 'numpy.int64'>, encoding='utf-8', input='content',\n",
       "                lowercase=True, max_df=1.0, max_features=100, min_df=10,\n",
       "                ngram_range=(1, 2), preprocessor=None, stop_words=None,\n",
       "                strip_accents='unicode', token_pattern='\\\\w{1,}',\n",
       "                tokenizer=None, vocabulary=None)"
      ]
     },
     "execution_count": 47,
     "metadata": {},
     "output_type": "execute_result"
    }
   ],
   "source": [
    "# ==========================================\n",
    "# 5. Feature engineering\n",
    "# ==========================================\n",
    "\n",
    "\n",
    "# =============================\n",
    "# 5.3.1 Text features\n",
    "# =============================\n",
    "\n",
    "# simple text mining -- count number of words in each document \n",
    "count_dtm = CountVectorizer(min_df= 10,  max_features= 100, strip_accents= 'unicode',\n",
    "                            analyzer= \"word\", token_pattern= r\"\\w{1,}\", ngram_range=(1, 2), \n",
    "                            binary= True)\n",
    "count_dtm.fit(train[\"boilerplate\"])"
   ]
  },
  {
   "cell_type": "code",
   "execution_count": 48,
   "metadata": {},
   "outputs": [
    {
     "name": "stdout",
     "output_type": "stream",
     "text": [
      "(3697, 100)\n",
      "(1849, 100)\n",
      "(1849, 100)\n"
     ]
    }
   ],
   "source": [
    "# create document term matrix\n",
    "train_cnt_dtm = count_dtm.transform(train[\"boilerplate\"])\n",
    "val_cnt_dtm = count_dtm.transform(val[\"boilerplate\"])\n",
    "test_cnt_dtm = count_dtm.transform(test[\"boilerplate\"])\n",
    "print(train_cnt_dtm.shape); print(val_cnt_dtm.shape); print(test_cnt_dtm.shape)"
   ]
  },
  {
   "cell_type": "markdown",
   "metadata": {},
   "source": [
    "---"
   ]
  },
  {
   "cell_type": "markdown",
   "metadata": {},
   "source": [
    "#### Logistic Regression with Text Processing"
   ]
  },
  {
   "cell_type": "code",
   "execution_count": 1,
   "metadata": {},
   "outputs": [
    {
     "ename": "NameError",
     "evalue": "name 'LogisticRegression' is not defined",
     "output_type": "error",
     "traceback": [
      "\u001b[0;31m---------------------------------------------------------------------------\u001b[0m",
      "\u001b[0;31mNameError\u001b[0m                                 Traceback (most recent call last)",
      "\u001b[0;32m<ipython-input-1-2fa096dcbee0>\u001b[0m in \u001b[0;36m<module>\u001b[0;34m\u001b[0m\n\u001b[1;32m      5\u001b[0m \u001b[0;34m\u001b[0m\u001b[0m\n\u001b[1;32m      6\u001b[0m \u001b[0;31m# fit logistic regression\u001b[0m\u001b[0;34m\u001b[0m\u001b[0;34m\u001b[0m\u001b[0;34m\u001b[0m\u001b[0m\n\u001b[0;32m----> 7\u001b[0;31m \u001b[0mlogReg3\u001b[0m \u001b[0;34m=\u001b[0m \u001b[0mLogisticRegression\u001b[0m\u001b[0;34m(\u001b[0m\u001b[0mpenalty\u001b[0m \u001b[0;34m=\u001b[0m \u001b[0;34m\"l2\"\u001b[0m\u001b[0;34m,\u001b[0m \u001b[0mC\u001b[0m \u001b[0;34m=\u001b[0m \u001b[0;36m1\u001b[0m\u001b[0;34m)\u001b[0m\u001b[0;34m\u001b[0m\u001b[0;34m\u001b[0m\u001b[0m\n\u001b[0m\u001b[1;32m      8\u001b[0m \u001b[0mlogReg3\u001b[0m\u001b[0;34m.\u001b[0m\u001b[0mfit\u001b[0m\u001b[0;34m(\u001b[0m\u001b[0mtrain_cnt_dtm\u001b[0m\u001b[0;34m,\u001b[0m \u001b[0mtrain\u001b[0m\u001b[0;34m[\u001b[0m\u001b[0;34m\"label\"\u001b[0m\u001b[0;34m]\u001b[0m\u001b[0;34m)\u001b[0m\u001b[0;34m\u001b[0m\u001b[0;34m\u001b[0m\u001b[0m\n\u001b[1;32m      9\u001b[0m \u001b[0;34m\u001b[0m\u001b[0m\n",
      "\u001b[0;31mNameError\u001b[0m: name 'LogisticRegression' is not defined"
     ]
    }
   ],
   "source": [
    "# =============================\n",
    "# 4.6 Logistic with \n",
    "#     text features\n",
    "# =============================\n",
    "\n",
    "# fit logistic regression\n",
    "logReg3 = LogisticRegression(penalty = \"l2\", C = 1)\n",
    "logReg3.fit(train_cnt_dtm, train[\"label\"])\n",
    "\n",
    "# predict on validation data\n",
    "logReg3_val = pd.Series(logReg3.predict(val_cnt_dtm))\n",
    "print(\" -- -- -- \")\n",
    "\n",
    "# auc score\n",
    "print(\"Logistic with text features: \" + str(np.round(roc_auc_score(val[\"label\"], logReg3_val.values), 5)))"
   ]
  },
  {
   "cell_type": "markdown",
   "metadata": {},
   "source": [
    "---"
   ]
  },
  {
   "cell_type": "markdown",
   "metadata": {},
   "source": [
    "#### Text Features"
   ]
  },
  {
   "cell_type": "code",
   "execution_count": 50,
   "metadata": {
    "scrolled": true
   },
   "outputs": [
    {
     "name": "stdout",
     "output_type": "stream",
     "text": [
      "(3697, 24432)\n",
      "(1849, 24432)\n",
      "(1849, 24432)\n"
     ]
    }
   ],
   "source": [
    "# =============================\n",
    "# 5.3.2 Text features\n",
    "# =============================\n",
    "\n",
    "# TFIDF\n",
    "idf_dtm = TfidfVectorizer(min_df= 10,  max_features= None, strip_accents= \"unicode\",\n",
    "                          analyzer= \"word\", token_pattern= r\"\\w{1,}\", ngram_range=(1, 2), \n",
    "                          use_idf= 1, smooth_idf= 1, sublinear_tf= 1)\n",
    "idf_dtm.fit(train[\"boilerplate\"])\n",
    "train_idf_dtm = idf_dtm.transform(train[\"boilerplate\"])\n",
    "val_idf_dtm = idf_dtm.transform(val[\"boilerplate\"])\n",
    "test_idf_dtm = idf_dtm.transform(test[\"boilerplate\"])\n",
    "print(train_idf_dtm.shape); print(val_idf_dtm.shape); print(test_idf_dtm.shape)"
   ]
  },
  {
   "cell_type": "markdown",
   "metadata": {},
   "source": [
    "---"
   ]
  },
  {
   "cell_type": "code",
   "execution_count": 51,
   "metadata": {},
   "outputs": [
    {
     "name": "stdout",
     "output_type": "stream",
     "text": [
      " -- -- -- \n",
      "Logistic with text features: 0.80246\n"
     ]
    }
   ],
   "source": [
    "# =============================\n",
    "# 4.6 Logistic with \n",
    "#     text features\n",
    "# =============================\n",
    "\n",
    "# fit logistic regression\n",
    "logReg4 = LogisticRegression(penalty = \"l2\", C = 1)\n",
    "logReg4.fit(train_idf_dtm, train[\"label\"])\n",
    "\n",
    "# predict on validation data\n",
    "logReg4_val = pd.Series(logReg4.predict(val_idf_dtm))\n",
    "print(\" -- -- -- \")\n",
    "\n",
    "# auc score\n",
    "print(\"Logistic with text features: \" + str(np.round(roc_auc_score(val[\"label\"], logReg4_val.values), 5)))"
   ]
  },
  {
   "cell_type": "markdown",
   "metadata": {},
   "source": [
    "---"
   ]
  },
  {
   "cell_type": "markdown",
   "metadata": {},
   "source": [
    "Dimension reduction\n",
    "==========="
   ]
  },
  {
   "cell_type": "markdown",
   "metadata": {},
   "source": [
    "### Text feature selection using logistic regression"
   ]
  },
  {
   "cell_type": "code",
   "execution_count": 52,
   "metadata": {},
   "outputs": [],
   "source": [
    "# =============================\n",
    "# 5.4 Feature selection\n",
    "# =============================\n",
    "\n",
    "def textFeatureSelect(dtm, target, model, tf_object, nfolds= 4, nreps= 2):\n",
    "    feat_imp = pd.DataFrame({\"feat\":[], \"imp\": []})\n",
    "    for r in range(0, nreps):\n",
    "        print(\"Run\", r+1, \"of\", nreps)\n",
    "        folds = createFolds(df= dtm, nfolds= nfolds)\n",
    "        for f in range(0, nfolds):\n",
    "            print(\"Fold\", f+1, \"of\", nfolds)\n",
    "            tr = np.where(folds.values != f)[0]\n",
    "            va = np.where(folds.values == f)[0]\n",
    "            model.fit(dtm[tr,:], target[tr])\n",
    "            imp = pd.DataFrame({\"feat\": tf_object.get_feature_names(), \"imp\": model.coef_[0,:]})\n",
    "            imp[\"imp\"] = imp[\"imp\"].abs()\n",
    "            feat_imp = feat_imp.append(imp)\n",
    "\n",
    "    feat_imp = feat_imp.groupby(\"feat\")\n",
    "    feat_imp = feat_imp.agg({\"imp\": np.mean})\n",
    "    feat_imp = pd.DataFrame({\"feat\": feat_imp.index, \"imp\": feat_imp.imp})\n",
    "    feat_imp = feat_imp.sort_values(by = [\"imp\"], ascending= False)\n",
    "    \n",
    "    return feat_imp"
   ]
  },
  {
   "cell_type": "code",
   "execution_count": 53,
   "metadata": {
    "scrolled": true
   },
   "outputs": [
    {
     "name": "stdout",
     "output_type": "stream",
     "text": [
      "Run 1 of 2\n",
      "Fold 1 of 4\n",
      "Fold 2 of 4\n",
      "Fold 3 of 4\n",
      "Fold 4 of 4\n",
      "Run 2 of 2\n",
      "Fold 1 of 4\n",
      "Fold 2 of 4\n",
      "Fold 3 of 4\n",
      "Fold 4 of 4\n"
     ]
    }
   ],
   "source": [
    "# Select best features from text data using logistic regression\n",
    "model = LogisticRegression(penalty = \"l2\", C = 1)\n",
    "imp_text_feat = textFeatureSelect(train_idf_dtm, target= train[\"label\"].values, model= model, \n",
    "                                  tf_object= idf_dtm, nfolds= 4, nreps= 2)"
   ]
  },
  {
   "cell_type": "code",
   "execution_count": 54,
   "metadata": {
    "scrolled": true
   },
   "outputs": [
    {
     "name": "stdout",
     "output_type": "stream",
     "text": [
      "                  feat       imp\n",
      "feat                            \n",
      "recipe          recipe  2.876146\n",
      "recipes        recipes  2.598850\n",
      "news              news  1.978249\n",
      "fashion        fashion  1.783520\n",
      "food              food  1.454226\n",
      "cheese          cheese  1.312853\n",
      "make              make  1.311854\n",
      "video            video  1.311620\n",
      "chicken        chicken  1.307799\n",
      "chocolate    chocolate  1.284137\n",
      "1                    1  1.277455\n",
      "butter          butter  1.261568\n",
      "baking          baking  1.192999\n",
      "cooking        cooking  1.174404\n",
      "allrecipes  allrecipes  1.129374\n",
      "cup                cup  1.122985\n",
      "minutes        minutes  1.111052\n",
      "until            until  1.103590\n",
      "s                    s  1.096590\n",
      "cook              cook  1.051645\n",
      " --- \n",
      "(3697, 1000)\n",
      "(1849, 1000)\n",
      "(1849, 1000)\n"
     ]
    }
   ],
   "source": [
    "# important text features\n",
    "print(imp_text_feat.head(20))\n",
    "\n",
    "# keep the top 1000 ones\n",
    "text_feat = imp_text_feat.iloc[0:1000, :]\n",
    "idf_dtm_words = pd.DataFrame({\"feat\": idf_dtm.get_feature_names()})\n",
    "idf_dtm_words = pd.merge(idf_dtm_words, text_feat, on= \"feat\", how= \"inner\", left_index= False, right_index= True)\n",
    "\n",
    "# subset dtm with important features only\n",
    "train_idf_dtm_sub = train_idf_dtm[:, idf_dtm_words.index]\n",
    "val_idf_dtm_sub = val_idf_dtm[:, idf_dtm_words.index]\n",
    "test_idf_dtm_sub = test_idf_dtm[:, idf_dtm_words.index]\n",
    "print(\" --- \")\n",
    "print(train_idf_dtm_sub.shape); print(val_idf_dtm_sub.shape); print(val_idf_dtm_sub.shape)"
   ]
  },
  {
   "cell_type": "markdown",
   "metadata": {},
   "source": [
    "---"
   ]
  },
  {
   "cell_type": "code",
   "execution_count": 55,
   "metadata": {},
   "outputs": [
    {
     "name": "stdout",
     "output_type": "stream",
     "text": [
      " -- -- -- \n",
      "Logistic with text features: 0.86599\n"
     ]
    }
   ],
   "source": [
    "# =============================\n",
    "# 4.7 Logistic with important\n",
    "#     text features\n",
    "# =============================\n",
    "\n",
    "# fit logistic regression\n",
    "logReg5 = LogisticRegression(penalty = \"l2\", C = 1)\n",
    "logReg5.fit(train_idf_dtm_sub, train[\"label\"])\n",
    "\n",
    "# predict on validation data\n",
    "logReg5_val = pd.Series(logReg5.predict_proba(val_idf_dtm_sub)[:,1])\n",
    "print(\" -- -- -- \")\n",
    "\n",
    "# auc score\n",
    "print(\"Logistic with text features: \" + str(np.round(roc_auc_score(val[\"label\"], logReg5_val.values), 5)))"
   ]
  },
  {
   "cell_type": "markdown",
   "metadata": {},
   "source": [
    "----"
   ]
  },
  {
   "cell_type": "markdown",
   "metadata": {},
   "source": [
    "# Class Exercise"
   ]
  },
  {
   "cell_type": "markdown",
   "metadata": {},
   "source": [
    "### Build logistic regression model with different values of the penalty parameter. What do you find?"
   ]
  },
  {
   "cell_type": "code",
   "execution_count": 56,
   "metadata": {},
   "outputs": [],
   "source": [
    "# =============================\n",
    "# Class Exercise - varying penalty\n",
    "# =============================\n",
    "\n",
    "### Enter code here"
   ]
  },
  {
   "cell_type": "markdown",
   "metadata": {},
   "source": [
    "---"
   ]
  },
  {
   "cell_type": "code",
   "execution_count": 57,
   "metadata": {},
   "outputs": [
    {
     "name": "stdout",
     "output_type": "stream",
     "text": [
      "Variance explained (first 10 components): 6.69\n"
     ]
    },
    {
     "data": {
      "image/png": "[encoded data removed]",
      "text/plain": [
       "<Figure size 432x288 with 1 Axes>"
      ]
     },
     "metadata": {
      "needs_background": "light"
     },
     "output_type": "display_data"
    }
   ],
   "source": [
    "# =============================\n",
    "# 5.5 Dimension reduction -- PCA\n",
    "# =============================\n",
    "\n",
    "# 5.5.1 Sample fit\n",
    "\n",
    "# Sample fit with 10 components\n",
    "rpca = PCA(n_components = 10, random_state = 8795, svd_solver = \"randomized\")\n",
    "rpca.fit(train_idf_dtm.toarray())\n",
    "print ('Variance explained (first %d components): %.2f'%(10, sum(rpca.explained_variance_ratio_)*100))\n",
    "\n",
    "# plot\n",
    "exp_var = list((rpca.explained_variance_ratio_)*100)\n",
    "x = range(10)\n",
    "plt.bar(x, exp_var)\n",
    "plt.xlabel(\"PCA components\")\n",
    "plt.ylabel(\"Explained variance ratio\")\n",
    "plt.show()"
   ]
  },
  {
   "cell_type": "code",
   "execution_count": 58,
   "metadata": {},
   "outputs": [
    {
     "name": "stdout",
     "output_type": "stream",
     "text": [
      " --- \n",
      "(3697, 100)\n",
      "(1849, 100)\n",
      "(1849, 100)\n"
     ]
    }
   ],
   "source": [
    "# fit with 100 components\n",
    "rpca = PCA(n_components = 100, random_state = 8795, svd_solver = \"randomized\")\n",
    "rpca.fit(train_idf_dtm.toarray())\n",
    "\n",
    "# tranform dtm\n",
    "train_idf_dtm_pca = rpca.transform(train_idf_dtm.toarray())\n",
    "val_idf_dtm_pca = rpca.transform(val_idf_dtm.toarray())\n",
    "test_idf_dtm_pca = rpca.transform(test_idf_dtm.toarray())\n",
    "print(\" --- \")\n",
    "print(train_idf_dtm_pca.shape); print(val_idf_dtm_pca.shape); print(test_idf_dtm_pca.shape)"
   ]
  },
  {
   "cell_type": "code",
   "execution_count": 59,
   "metadata": {},
   "outputs": [],
   "source": [
    "# =============================\n",
    "# 5.5 Dimension reduction\n",
    "# =============================\n",
    "\n",
    "# 5.5.2 Optimizing number of components\n",
    "\n",
    "def pca_optimization(n_comp, train, val, training_target, validation_target, \n",
    "                     model, evaluation, classify=True):\n",
    "    output = pd.DataFrame(columns=['n_comp', 'score'])\n",
    "\n",
    "    for r in range(0,len(n_comp)):\n",
    "        rpca = PCA(n_components = n_comp[r], random_state = 8756, svd_solver = \"randomized\") \n",
    "        rpca.fit(train.toarray())\n",
    "    \n",
    "        # tranform dtm\n",
    "        train_pca = rpca.transform(train.toarray())\n",
    "        val_pca = rpca.transform(val.toarray())\n",
    "        print(\" --- \")\n",
    "        print('explained variance (first %d components): %.2f'%(n_comp[r], sum(rpca.explained_variance_ratio_)))\n",
    "\n",
    "        if classify:   \n",
    "            model.fit(train_pca, training_target)\n",
    "            model_val = pd.Series(model.predict_proba(val_pca)[:,1])\n",
    "        else:\n",
    "            model.fit(train_pca, training_target)\n",
    "            model_val = pd.Series(model.predict(val_pca))\n",
    "        score = np.round(evaluation(validation_target, model_val.values), 5)\n",
    "        data= {\"id\": n_comp[r],\"score\": score}\n",
    "        output = output.append(pd.Series([n_comp[r], score], index=['n_comp','score']), ignore_index=True)\n",
    "        \n",
    "    return output"
   ]
  },
  {
   "cell_type": "code",
   "execution_count": 60,
   "metadata": {},
   "outputs": [
    {
     "name": "stdout",
     "output_type": "stream",
     "text": [
      " --- \n",
      "explained variance (first 50 components): 0.13\n",
      " --- \n",
      "explained variance (first 100 components): 0.18\n",
      " --- \n",
      "explained variance (first 200 components): 0.25\n"
     ]
    },
    {
     "data": {
      "text/html": [
       "<div>\n",
       "<table border=\"1\" class=\"dataframe\">\n",
       "  <thead>\n",
       "    <tr style=\"text-align: right;\">\n",
       "      <th></th>\n",
       "      <th>n_comp</th>\n",
       "      <th>score</th>\n",
       "    </tr>\n",
       "  </thead>\n",
       "  <tbody>\n",
       "    <tr>\n",
       "      <th>0</th>\n",
       "      <td>50.0</td>\n",
       "      <td>0.86715</td>\n",
       "    </tr>\n",
       "    <tr>\n",
       "      <th>1</th>\n",
       "      <td>100.0</td>\n",
       "      <td>0.86917</td>\n",
       "    </tr>\n",
       "    <tr>\n",
       "      <th>2</th>\n",
       "      <td>200.0</td>\n",
       "      <td>0.86878</td>\n",
       "    </tr>\n",
       "  </tbody>\n",
       "</table>\n",
       "</div>"
      ],
      "text/plain": [
       "   n_comp    score\n",
       "0    50.0  0.86715\n",
       "1   100.0  0.86917\n",
       "2   200.0  0.86878"
      ]
     },
     "execution_count": 60,
     "metadata": {},
     "output_type": "execute_result"
    }
   ],
   "source": [
    "# optimal number of pca components\n",
    "model = LogisticRegression(penalty = \"l2\", C = 1)\n",
    "pca_optimization(n_comp= [50, 100, 200], train= train_idf_dtm, val= val_idf_dtm, \n",
    "                 training_target= train[\"label\"], validation_target= val[\"label\"], model= model, \n",
    "                 evaluation= roc_auc_score, classify= True)\n"
   ]
  },
  {
   "cell_type": "markdown",
   "metadata": {},
   "source": [
    "---"
   ]
  },
  {
   "cell_type": "code",
   "execution_count": 61,
   "metadata": {
    "scrolled": true
   },
   "outputs": [
    {
     "name": "stdout",
     "output_type": "stream",
     "text": [
      " -- -- -- \n",
      "Logistic with text features: 0.86865\n"
     ]
    }
   ],
   "source": [
    "# =============================\n",
    "# 4.7 Logistic with PCA\n",
    "# =============================\n",
    "\n",
    "# fit logistic regression\n",
    "logReg6 = LogisticRegression(penalty = \"l2\", C = 1)\n",
    "logReg6.fit(train_idf_dtm_pca, train[\"label\"])\n",
    "\n",
    "# predict on validation data\n",
    "logReg6_val = pd.Series(logReg6.predict_proba(val_idf_dtm_pca)[:,1])\n",
    "print(\" -- -- -- \")\n",
    "\n",
    "# auc score\n",
    "print(\"Logistic with text features: \" + str(np.round(roc_auc_score(val[\"label\"], logReg6_val.values), 5)))"
   ]
  },
  {
   "cell_type": "code",
   "execution_count": 62,
   "metadata": {},
   "outputs": [
    {
     "name": "stdout",
     "output_type": "stream",
     "text": [
      " -- -- -- \n",
      "GBM: 0.86781\n"
     ]
    }
   ],
   "source": [
    "# =============================\n",
    "# 4.8 Gradient Boosting with PCA\n",
    "# =============================\n",
    "\n",
    "# simple gbm\n",
    "gbm2 = GradientBoostingClassifier(loss = \"deviance\", learning_rate= 0.1, n_estimators= 100,\n",
    "                                 max_depth= 2, min_samples_split= 10, min_samples_leaf= 10,\n",
    "                                 subsample= 0.5, max_features= None, verbose= 0)\n",
    "gbm2.fit(train_idf_dtm_pca, train[\"label\"])\n",
    "\n",
    "# predict on validation data\n",
    "gbm2_val = pd.Series(gbm2.predict_proba(val_idf_dtm_pca)[:,1])\n",
    "print(\" -- -- -- \")\n",
    "\n",
    "# auc score\n",
    "print(\"GBM: \" + str(np.round(roc_auc_score(val[\"label\"], gbm2_val.values), 5)))"
   ]
  },
  {
   "cell_type": "markdown",
   "metadata": {},
   "source": [
    "-----"
   ]
  },
  {
   "cell_type": "markdown",
   "metadata": {},
   "source": [
    "## Quick Ensemble"
   ]
  },
  {
   "cell_type": "code",
   "execution_count": 63,
   "metadata": {
    "scrolled": true
   },
   "outputs": [
    {
     "name": "stdout",
     "output_type": "stream",
     "text": [
      "Simple Avg:0.8700866311436857\n"
     ]
    }
   ],
   "source": [
    "# simple blend of logistic and GBM\n",
    "simple_avg_val = np.mean([logReg5_val.values, gbm2_val.values], axis= 0)\n",
    "print(\"Simple Avg:\" + str(roc_auc_score(val[\"label\"], simple_avg_val)))"
   ]
  },
  {
   "cell_type": "markdown",
   "metadata": {},
   "source": [
    "-----"
   ]
  },
  {
   "cell_type": "markdown",
   "metadata": {},
   "source": [
    "## Random Forests"
   ]
  },
  {
   "cell_type": "code",
   "execution_count": 64,
   "metadata": {
    "scrolled": true
   },
   "outputs": [
    {
     "name": "stderr",
     "output_type": "stream",
     "text": [
      "[Parallel(n_jobs=1)]: Using backend SequentialBackend with 1 concurrent workers.\n"
     ]
    },
    {
     "name": "stdout",
     "output_type": "stream",
     "text": [
      " -- -- -- \n",
      "RF: 0.86784\n"
     ]
    },
    {
     "name": "stderr",
     "output_type": "stream",
     "text": [
      "[Parallel(n_jobs=1)]: Done 100 out of 100 | elapsed:    3.3s finished\n",
      "[Parallel(n_jobs=1)]: Using backend SequentialBackend with 1 concurrent workers.\n",
      "[Parallel(n_jobs=1)]: Done 100 out of 100 | elapsed:    0.1s finished\n"
     ]
    }
   ],
   "source": [
    "# =============================\n",
    "# 4.9 Random Forest with PCA\n",
    "#     and meta features\n",
    "# =============================\n",
    "\n",
    "# join meta features with pca features\n",
    "feat = [\"avglinksize\", \"commonlinkratio_1\", \"commonlinkratio_2\", \"commonlinkratio_3\", \"commonlinkratio_4\", \n",
    "        \"compression_ratio\", \"embed_ratio\", \"framebased\", \"frameTagRatio\", \"hasDomainLink\", \"html_ratio\",\n",
    "        \"image_ratio\", \"lengthyLinkDomain\", \"linkwordscore\", \"non_markup_alphanum_characters\", \"numberOfLinks\", \n",
    "        \"numwords_in_url\", \"parametrizedLinkRatio\",\"spelling_errors_ratio\", \"alchemy_category_score\", \n",
    "        \"alch_avg\"]\n",
    "train_combine = train[feat].join(pd.DataFrame(train_idf_dtm_pca, index= train.index))\n",
    "val_combine = val[feat].join(pd.DataFrame(val_idf_dtm_pca, index= val.index))\n",
    "test_combine = test[feat].join(pd.DataFrame(test_idf_dtm_pca, index= test.index))\n",
    "\n",
    "# random forests\n",
    "rf1 = RandomForestClassifier(n_estimators= 100, random_state= 9876, verbose= 1)\n",
    "rf1.fit(train_combine, train[\"label\"])\n",
    "\n",
    "# predict on validation data\n",
    "rf1_val = pd.Series(rf1.predict_proba(val_combine)[:,1])\n",
    "print(\" -- -- -- \")\n",
    "\n",
    "# auc score\n",
    "print(\"RF: \" + str(np.round(roc_auc_score(val[\"label\"], rf1_val.values), 5)))"
   ]
  },
  {
   "cell_type": "code",
   "execution_count": 65,
   "metadata": {
    "scrolled": true
   },
   "outputs": [
    {
     "name": "stdout",
     "output_type": "stream",
     "text": [
      "Simple Avg:0.8719891465358074\n"
     ]
    }
   ],
   "source": [
    "# simple blend of logistic, GBM, and RF\n",
    "simple_avg_val = np.mean([logReg5_val.values, gbm2_val.values, rf1_val.values], axis= 0)\n",
    "print(\"Simple Avg:\" + str(roc_auc_score(val[\"label\"], simple_avg_val)))"
   ]
  },
  {
   "cell_type": "markdown",
   "metadata": {},
   "source": [
    "-----"
   ]
  },
  {
   "cell_type": "markdown",
   "metadata": {},
   "source": [
    "Ensemble learning\n",
    "========================"
   ]
  },
  {
   "cell_type": "code",
   "execution_count": 75,
   "metadata": {},
   "outputs": [],
   "source": [
    "# ==========================================\n",
    "# 7. Ensemble\n",
    "# ==========================================\n",
    "\n",
    "\n",
    "# =============================\n",
    "# 7.1 Ensemble DF\n",
    "# =============================\n",
    "\n",
    "# order prediction data sets\n",
    "train[\"sort_col\"] = range(0, train.shape[0])\n",
    "gbm4_train = pd.merge(gbm4_train, train[[\"urlid\", \"sort_col\"]], on= \"urlid\", how= 'left').sort_values(by= [\"sort_col\"])\n",
    "rf2_train = pd.merge(rf2_train, train[[\"urlid\", \"sort_col\"]], on= \"urlid\", how= 'left').sort_values(by= [\"sort_col\"])"
   ]
  },
  {
   "cell_type": "code",
   "execution_count": 76,
   "metadata": {},
   "outputs": [
    {
     "name": "stdout",
     "output_type": "stream",
     "text": [
      "['ert1' 'gbm4' 'label' 'logReg7' 'rf2' 'urlid']\n",
      "['ert1' 'gbm4' 'logReg7' 'rf2' 'urlid' 'label']\n"
     ]
    }
   ],
   "source": [
    "# create data frame containing all predictions\n",
    "train_ens = pd.DataFrame({\"urlid\": gbm4_train.urlid.values, \"label\": gbm4_train.target.values, \n",
    "                          \"logReg7\": logReg7_train.pred.values,\n",
    "                          \"gbm4\": gbm4_train.pred.values, \"rf2\": rf2_train.pred.values,\n",
    "                         \"ert1\": ert1_train.pred.values})\n",
    "val_ens = pd.DataFrame({\"urlid\": gbm4_val.urlid.values, \"gbm4\": gbm4_val.pred.values,\n",
    "                        \"logReg7\": logReg7_val.values, \"rf2\": rf2_val.pred.values,\n",
    "                       \"ert1\": ert1_val.values})\n",
    "val_ens = pd.merge(val_ens, val[[\"urlid\", \"label\"]], on= \"urlid\")\n",
    "\n",
    "print(train_ens.columns.values); print(val_ens.columns.values)"
   ]
  },
  {
   "cell_type": "code",
   "execution_count": 77,
   "metadata": {
    "scrolled": true
   },
   "outputs": [
    {
     "name": "stdout",
     "output_type": "stream",
     "text": [
      "Simple avg cv: 0.87969\n",
      "Simple avg val: 0.87108\n"
     ]
    }
   ],
   "source": [
    "# =============================\n",
    "# 7.2 Simple average\n",
    "# =============================\n",
    "\n",
    "# simple average\n",
    "simple_avg_train = np.mean([train_ens.gbm4.values, train_ens.rf2.values, train_ens.logReg7.values,\n",
    "                           train_ens.ert1.values], axis= 0)\n",
    "print(\"Simple avg cv: \" + str(np.round(roc_auc_score(train_ens[\"label\"], simple_avg_train), 5)))\n",
    "\n",
    "simple_avg_val = np.mean([val_ens.gbm4.values, val_ens.rf2.values, val_ens.logReg7.values,\n",
    "                         val_ens.ert1.values], axis= 0)\n",
    "print(\"Simple avg val: \" + str(np.round(roc_auc_score(val_ens[\"label\"], simple_avg_val), 5)))"
   ]
  },
  {
   "cell_type": "code",
   "execution_count": 78,
   "metadata": {},
   "outputs": [
    {
     "name": "stdout",
     "output_type": "stream",
     "text": [
      "Weighted avg cv: 0.87617\n",
      "Weighted avg val: 0.86831\n"
     ]
    }
   ],
   "source": [
    "# =============================\n",
    "# 7.3 Weighted average\n",
    "# Proportional representation vs. egalitarian democracy\n",
    "# =============================\n",
    "\n",
    "# weighted average\n",
    "weight_avg_train = 0.8*train_ens.gbm4.values + 1.4*train_ens.logReg7.values\n",
    "print(\"Weighted avg cv: \" + str(np.round(roc_auc_score(train_ens[\"label\"], weight_avg_train), 5)))\n",
    "\n",
    "weight_avg_val = 0.8*val_ens.gbm4.values + 1.4*val_ens.logReg7.values\n",
    "print(\"Weighted avg val: \" + str(np.round(roc_auc_score(val_ens[\"label\"], weight_avg_val), 5)))"
   ]
  },
  {
   "cell_type": "code",
   "execution_count": 79,
   "metadata": {},
   "outputs": [
    {
     "name": "stdout",
     "output_type": "stream",
     "text": [
      "Rank avg cv: 0.87653\n",
      "Rank avg val: 0.87086\n"
     ]
    }
   ],
   "source": [
    "# =============================\n",
    "# 7.4 Rank average\n",
    "# =============================\n",
    "\n",
    "# rank urlids by each prediction vector and then average\n",
    "def get_ranked_preds(df, feat):\n",
    "    for f in feat:\n",
    "        df = df.sort_values(by = [f], ascending= True)\n",
    "        df[f + \"_rank\"] = range(1, df.shape[0] + 1)\n",
    "    return(df)\n",
    "\n",
    "train_ens_rank = get_ranked_preds(train_ens, [\"gbm4\", \"logReg7\", \"rf2\", \"ert1\"])\n",
    "val_ens_rank = get_ranked_preds(val_ens, [\"gbm4\", \"logReg7\", \"rf2\", \"ert1\"])\n",
    "\n",
    "# simple average\n",
    "rank_avg_train = np.mean([train_ens_rank.gbm4_rank.values, train_ens_rank.rf2_rank.values, \n",
    "                            train_ens_rank.logReg7_rank.values], axis= 0)\n",
    "print(\"Rank avg cv: \" + str(np.round(roc_auc_score(train_ens_rank[\"label\"], rank_avg_train), 5)))\n",
    "\n",
    "\n",
    "rank_avg_val = np.mean([val_ens_rank.gbm4_rank.values, val_ens_rank.rf2_rank.values, \n",
    "                            val_ens_rank.logReg7_rank.values], axis= 0)\n",
    "print(\"Rank avg val: \" + str(np.round(roc_auc_score(val_ens_rank[\"label\"], rank_avg_val), 5)))"
   ]
  },
  {
   "cell_type": "code",
   "execution_count": 80,
   "metadata": {
    "scrolled": true
   },
   "outputs": [
    {
     "name": "stdout",
     "output_type": "stream",
     "text": [
      " --- \n",
      "       ert1      gbm4  label   logReg7       rf2    urlid\n",
      "0 -1.177639 -1.881652    0.0 -1.820647 -1.835509   8065.0\n",
      "1  0.225723  0.926770    0.0  0.037044  0.759139   9682.0\n",
      "2 -0.864059 -0.710574    0.0 -0.463699 -0.650852   6219.0\n",
      "3 -1.162181 -1.449012    1.0 -0.721405 -1.056638   8312.0\n",
      "4 -1.252145 -1.724036    0.0 -1.169940 -1.112203  10299.0\n",
      "       ert1      gbm4   logReg7       rf2  urlid  label\n",
      "0 -1.919044 -1.842144 -1.342612 -2.731036   3612      0\n",
      "1 -1.367979 -1.135458 -0.749207 -0.774108   2771      0\n",
      "2 -2.047119 -2.149053 -1.644974 -2.711849   1272      0\n",
      "3 -1.595168 -1.222006 -1.336413 -1.142592   3178      1\n",
      "4  3.038552  2.508206  2.971262  2.350453   1474      1\n"
     ]
    }
   ],
   "source": [
    "# =============================\n",
    "# 7.5 Stacked generalization\n",
    "# =============================\n",
    "\n",
    "# convert probabilities to logits\n",
    "train_ens.describe()\n",
    "feat = [\"gbm4\", \"logReg7\", \"rf2\", \"ert1\"]\n",
    "\n",
    "train_ens[feat] = train_ens[feat].clip(0.01, 0.99)\n",
    "val_ens[feat] = val_ens[feat].clip(0.01, 0.99)\n",
    "\n",
    "train_ens[feat] = train_ens[feat].apply(st.logistic.ppf)\n",
    "val_ens[feat] = val_ens[feat].apply(st.logistic.ppf)\n",
    "\n",
    "print(\" --- \")\n",
    "print(train_ens.head())\n",
    "print(val_ens.head())"
   ]
  },
  {
   "cell_type": "code",
   "execution_count": 81,
   "metadata": {},
   "outputs": [
    {
     "data": {
      "text/html": [
       "<div>\n",
       "<table border=\"1\" class=\"dataframe\">\n",
       "  <thead>\n",
       "    <tr style=\"text-align: right;\">\n",
       "      <th></th>\n",
       "      <th>gbm4</th>\n",
       "      <th>logReg7</th>\n",
       "      <th>rf2</th>\n",
       "      <th>ert1</th>\n",
       "    </tr>\n",
       "  </thead>\n",
       "  <tbody>\n",
       "    <tr>\n",
       "      <th>gbm4</th>\n",
       "      <td>1.000000</td>\n",
       "      <td>0.944085</td>\n",
       "      <td>0.943121</td>\n",
       "      <td>0.938304</td>\n",
       "    </tr>\n",
       "    <tr>\n",
       "      <th>logReg7</th>\n",
       "      <td>0.944085</td>\n",
       "      <td>1.000000</td>\n",
       "      <td>0.923919</td>\n",
       "      <td>0.965189</td>\n",
       "    </tr>\n",
       "    <tr>\n",
       "      <th>rf2</th>\n",
       "      <td>0.943121</td>\n",
       "      <td>0.923919</td>\n",
       "      <td>1.000000</td>\n",
       "      <td>0.932512</td>\n",
       "    </tr>\n",
       "    <tr>\n",
       "      <th>ert1</th>\n",
       "      <td>0.938304</td>\n",
       "      <td>0.965189</td>\n",
       "      <td>0.932512</td>\n",
       "      <td>1.000000</td>\n",
       "    </tr>\n",
       "  </tbody>\n",
       "</table>\n",
       "</div>"
      ],
      "text/plain": [
       "             gbm4   logReg7       rf2      ert1\n",
       "gbm4     1.000000  0.944085  0.943121  0.938304\n",
       "logReg7  0.944085  1.000000  0.923919  0.965189\n",
       "rf2      0.943121  0.923919  1.000000  0.932512\n",
       "ert1     0.938304  0.965189  0.932512  1.000000"
      ]
     },
     "execution_count": 81,
     "metadata": {},
     "output_type": "execute_result"
    }
   ],
   "source": [
    "# Correlation matrix of predictions\n",
    "feat = [\"gbm4\", \"logReg7\", \"rf2\", \"ert1\"]\n",
    "train_ens[feat].corr()"
   ]
  },
  {
   "cell_type": "code",
   "execution_count": 82,
   "metadata": {},
   "outputs": [
    {
     "name": "stdout",
     "output_type": "stream",
     "text": [
      "Logistic: 0.86512\n",
      "GBM: 0.86719\n",
      "RF: 0.86885\n",
      "ERT: 0.86062\n"
     ]
    }
   ],
   "source": [
    "# Individual model scores\n",
    "print(\"Logistic: \" + str(np.round(roc_auc_score(val_ens[\"label\"], val_ens[\"logReg7\"]), 5)))\n",
    "print(\"GBM: \"  + str(np.round(roc_auc_score(val_ens[\"label\"], val_ens[\"gbm4\"]), 5)))\n",
    "print(\"RF: \"  + str(np.round(roc_auc_score(val_ens[\"label\"], val_ens[\"rf2\"]), 5)))\n",
    "print(\"ERT: \"  + str(np.round(roc_auc_score(val_ens[\"label\"], val_ens[\"ert1\"]), 5)))"
   ]
  },
  {
   "cell_type": "code",
   "execution_count": 83,
   "metadata": {
    "scrolled": true
   },
   "outputs": [
    {
     "name": "stdout",
     "output_type": "stream",
     "text": [
      "Run 1 of 4\n",
      "Fold 1 of 4\n",
      "Fold 2 of 4\n",
      "Fold 3 of 4\n",
      "Fold 4 of 4\n",
      "Run 2 of 4\n",
      "Fold 1 of 4\n",
      "Fold 2 of 4\n",
      "Fold 3 of 4\n",
      "Fold 4 of 4\n",
      "Run 3 of 4\n",
      "Fold 1 of 4\n",
      "Fold 2 of 4\n",
      "Fold 3 of 4\n",
      "Fold 4 of 4\n",
      "Run 4 of 4\n",
      "Fold 1 of 4\n",
      "Fold 2 of 4\n",
      "Fold 3 of 4\n",
      "Fold 4 of 4\n",
      " --- \n",
      "Ensemble cv score: 0.88134\n",
      "Ensemble val score: 0.86973\n"
     ]
    }
   ],
   "source": [
    "# build cv logistic\n",
    "logReg8_ens = LogisticRegression()\n",
    "feat = [\"gbm4\", \"logReg7\", \"rf2\", \"ert1\"]\n",
    "logReg8_ens_cv, logReg8_ens_val = cvModel(train_ens, val_ens, target= train_ens[\"label\"], model= logReg8_ens, \n",
    "                                          feat= feat, idcol= \"urlid\", nfolds= 4, nreps= 4, classify= True)\n",
    "\n",
    "# auc score\n",
    "print(\" --- \")\n",
    "print(\"Ensemble cv score: \" + str(np.round(roc_auc_score(logReg8_ens_cv.target.values, logReg8_ens_cv.pred.values), 5)))\n",
    "print(\"Ensemble val score: \" + str(np.round(roc_auc_score(val_ens[\"label\"], logReg8_ens_val.pred.values), 5)))"
   ]
  },
  {
   "cell_type": "markdown",
   "metadata": {},
   "source": [
    "------"
   ]
  }
 ],
 "metadata": {
  "kernelspec": {
   "display_name": "Python 3",
   "language": "python",
   "name": "python3"
  },
  "language_info": {
   "codemirror_mode": {
    "name": "ipython",
    "version": 3
   },
   "file_extension": ".py",
   "mimetype": "text/x-python",
   "name": "python",
   "nbconvert_exporter": "python",
   "pygments_lexer": "ipython3",
   "version": "3.7.0"
  }
 },
 "nbformat": 4,
 "nbformat_minor": 1
}
